{
 "cells": [
  {
   "cell_type": "code",
   "execution_count": 1,
   "id": "b738ee60",
   "metadata": {
    "execution": {
     "iopub.execute_input": "2024-04-25T07:39:52.340187Z",
     "iopub.status.busy": "2024-04-25T07:39:52.339811Z",
     "iopub.status.idle": "2024-04-25T07:40:01.461529Z",
     "shell.execute_reply": "2024-04-25T07:40:01.460575Z"
    },
    "papermill": {
     "duration": 9.131931,
     "end_time": "2024-04-25T07:40:01.463985",
     "exception": false,
     "start_time": "2024-04-25T07:39:52.332054",
     "status": "completed"
    },
    "tags": []
   },
   "outputs": [
    {
     "name": "stdout",
     "output_type": "stream",
     "text": [
      "Cloning into 'GTT'...\r\n",
      "remote: Enumerating objects: 266, done.\u001b[K\r\n",
      "remote: Counting objects: 100% (40/40), done.\u001b[K\r\n",
      "remote: Compressing objects: 100% (37/37), done.\u001b[K\r\n",
      "remote: Total 266 (delta 20), reused 0 (delta 0), pack-reused 226\u001b[K\r\n",
      "Receiving objects: 100% (266/266), 229.68 MiB | 41.46 MiB/s, done.\r\n",
      "Resolving deltas: 100% (134/134), done.\r\n",
      "Updating files: 100% (40/40), done.\r\n"
     ]
    }
   ],
   "source": [
    "!git clone https://github.com/m6129/GTT.git"
   ]
  },
  {
   "cell_type": "code",
   "execution_count": 2,
   "id": "a103433b",
   "metadata": {
    "execution": {
     "iopub.execute_input": "2024-04-25T07:40:01.481223Z",
     "iopub.status.busy": "2024-04-25T07:40:01.480877Z",
     "iopub.status.idle": "2024-04-25T07:40:02.432676Z",
     "shell.execute_reply": "2024-04-25T07:40:02.431438Z"
    },
    "papermill": {
     "duration": 0.963157,
     "end_time": "2024-04-25T07:40:02.435225",
     "exception": false,
     "start_time": "2024-04-25T07:40:01.472068",
     "status": "completed"
    },
    "tags": []
   },
   "outputs": [
    {
     "name": "stdout",
     "output_type": "stream",
     "text": [
      "Python 3.10.13\r\n"
     ]
    }
   ],
   "source": [
    "!python --version"
   ]
  },
  {
   "cell_type": "code",
   "execution_count": 3,
   "id": "efb00bb5",
   "metadata": {
    "execution": {
     "iopub.execute_input": "2024-04-25T07:40:02.452061Z",
     "iopub.status.busy": "2024-04-25T07:40:02.451338Z",
     "iopub.status.idle": "2024-04-25T07:40:18.211512Z",
     "shell.execute_reply": "2024-04-25T07:40:18.210359Z"
    },
    "papermill": {
     "duration": 15.771111,
     "end_time": "2024-04-25T07:40:18.213917",
     "exception": false,
     "start_time": "2024-04-25T07:40:02.442806",
     "status": "completed"
    },
    "tags": []
   },
   "outputs": [
    {
     "name": "stdout",
     "output_type": "stream",
     "text": [
      "Collecting auto_mix_prep==0.2.0\r\n",
      "  Downloading auto-mix-prep-0.2.0.tar.gz (2.9 kB)\r\n",
      "  Preparing metadata (setup.py) ... \u001b[?25l-\b \b\\\b \bdone\r\n",
      "\u001b[?25hRequirement already satisfied: pydub in /opt/conda/lib/python3.10/site-packages (from auto_mix_prep==0.2.0) (0.25.1)\r\n",
      "Building wheels for collected packages: auto_mix_prep\r\n",
      "  Building wheel for auto_mix_prep (setup.py) ... \u001b[?25l-\b \b\\\b \b|\b \bdone\r\n",
      "\u001b[?25h  Created wheel for auto_mix_prep: filename=auto_mix_prep-0.2.0-py3-none-any.whl size=3449 sha256=985c892d0d281b891973f2d8993d0df3dcb8fea9c2173982a3abc3aa71216d9f\r\n",
      "  Stored in directory: /root/.cache/pip/wheels/14/0e/82/6699c12200cd992629464f52929699432a57d29f593df25773\r\n",
      "Successfully built auto_mix_prep\r\n",
      "Installing collected packages: auto_mix_prep\r\n",
      "Successfully installed auto_mix_prep-0.2.0\r\n"
     ]
    }
   ],
   "source": [
    "!pip install auto_mix_prep==0.2.0"
   ]
  },
  {
   "cell_type": "markdown",
   "id": "ad8f8673",
   "metadata": {
    "papermill": {
     "duration": 0.008874,
     "end_time": "2024-04-25T07:40:18.231675",
     "exception": false,
     "start_time": "2024-04-25T07:40:18.222801",
     "status": "completed"
    },
    "tags": []
   },
   "source": [
    "**если zero-shot**"
   ]
  },
  {
   "cell_type": "code",
   "execution_count": 4,
   "id": "25f363c6",
   "metadata": {
    "execution": {
     "iopub.execute_input": "2024-04-25T07:40:18.251313Z",
     "iopub.status.busy": "2024-04-25T07:40:18.250458Z",
     "iopub.status.idle": "2024-04-25T07:40:18.257248Z",
     "shell.execute_reply": "2024-04-25T07:40:18.256177Z"
    },
    "papermill": {
     "duration": 0.018679,
     "end_time": "2024-04-25T07:40:18.259214",
     "exception": false,
     "start_time": "2024-04-25T07:40:18.240535",
     "status": "completed"
    },
    "tags": []
   },
   "outputs": [
    {
     "name": "stdout",
     "output_type": "stream",
     "text": [
      "/kaggle/working/GTT/src\n"
     ]
    }
   ],
   "source": [
    "cd /kaggle/working/GTT/src/"
   ]
  },
  {
   "cell_type": "code",
   "execution_count": 6,
   "id": "9e46abee",
   "metadata": {
    "execution": {
     "iopub.execute_input": "2024-04-25T07:40:18.300809Z",
     "iopub.status.busy": "2024-04-25T07:40:18.300475Z",
     "iopub.status.idle": "2024-04-25T07:42:08.708234Z",
     "shell.execute_reply": "2024-04-25T07:42:08.706705Z"
    },
    "papermill": {
     "duration": 110.419405,
     "end_time": "2024-04-25T07:42:08.710459",
     "exception": false,
     "start_time": "2024-04-25T07:40:18.291054",
     "status": "completed"
    },
    "tags": []
   },
   "outputs": [
    {
     "name": "stdout",
     "output_type": "stream",
     "text": [
      "2024-04-25 07:40:21.879537: E external/local_xla/xla/stream_executor/cuda/cuda_dnn.cc:9261] Unable to register cuDNN factory: Attempting to register factory for plugin cuDNN when one has already been registered\r\n",
      "2024-04-25 07:40:21.879651: E external/local_xla/xla/stream_executor/cuda/cuda_fft.cc:607] Unable to register cuFFT factory: Attempting to register factory for plugin cuFFT when one has already been registered\r\n",
      "2024-04-25 07:40:22.023453: E external/local_xla/xla/stream_executor/cuda/cuda_blas.cc:1515] Unable to register cuBLAS factory: Attempting to register factory for plugin cuBLAS when one has already been registered\r\n",
      "freq: h\r\n",
      "0 / 720\r\n",
      "64 / 720\r\n",
      "128 / 720\r\n",
      "192 / 720\r\n",
      "256 / 720\r\n",
      "320 / 720\r\n",
      "384 / 720\r\n",
      "448 / 720\r\n",
      "512 / 720\r\n",
      "576 / 720\r\n",
      "640 / 720\r\n",
      "704 / 720\r\n",
      "24\r\n",
      "mae 0.34413105 mse 0.29889613\r\n",
      "--------------------\r\n",
      "96\r\n",
      "mae 0.39124706 mse 0.3899271\r\n",
      "--------------------\r\n",
      "192\r\n",
      "mae 0.41021973 mse 0.43148303\r\n",
      "--------------------\r\n",
      "336\r\n",
      "mae 0.42887852 mse 0.46142858\r\n",
      "--------------------\r\n",
      "720\r\n",
      "mae 0.46049172 mse 0.50017333\r\n",
      "--------------------\r\n",
      "mae mean 0.40699363\r\n",
      "mse mean 0.41638166\r\n",
      "\r\n",
      "WAPE 0.445019\r\n",
      "NRMSE 0.70699257\r\n",
      "WAPE 0.5053961\r\n",
      "NRMSE 0.8066266\r\n",
      "WAPE 0.52927536\r\n",
      "NRMSE 0.8475142\r\n",
      "WAPE 0.55136514\r\n",
      "NRMSE 0.87328756\r\n",
      "WAPE 0.58083755\r\n",
      "NRMSE 0.8920581\r\n",
      "WAPE mean 0.5223786\r\n",
      "NRMSE mean 0.82529575\r\n",
      "\r\n",
      "CPU times: user 1.52 s, sys: 332 ms, total: 1.86 s\n",
      "Wall time: 1min 50s\n"
     ]
    }
   ],
   "source": [
    "%%time\n",
    "!python test_zeroshot.py --gpu 0 --batch_size 40 --mode tiny --data 'h1' --uni 0"
   ]
  },
  {
   "cell_type": "code",
   "execution_count": 7,
   "id": "e65fb1b6",
   "metadata": {
    "execution": {
     "iopub.execute_input": "2024-04-25T07:42:08.732830Z",
     "iopub.status.busy": "2024-04-25T07:42:08.732005Z",
     "iopub.status.idle": "2024-04-25T07:43:49.955561Z",
     "shell.execute_reply": "2024-04-25T07:43:49.954358Z"
    },
    "papermill": {
     "duration": 101.248331,
     "end_time": "2024-04-25T07:43:49.969065",
     "exception": false,
     "start_time": "2024-04-25T07:42:08.720734",
     "status": "completed"
    },
    "tags": []
   },
   "outputs": [
    {
     "name": "stdout",
     "output_type": "stream",
     "text": [
      "2024-04-25 07:42:10.477803: E external/local_xla/xla/stream_executor/cuda/cuda_dnn.cc:9261] Unable to register cuDNN factory: Attempting to register factory for plugin cuDNN when one has already been registered\r\n",
      "2024-04-25 07:42:10.477870: E external/local_xla/xla/stream_executor/cuda/cuda_fft.cc:607] Unable to register cuFFT factory: Attempting to register factory for plugin cuFFT when one has already been registered\r\n",
      "2024-04-25 07:42:10.479376: E external/local_xla/xla/stream_executor/cuda/cuda_blas.cc:1515] Unable to register cuBLAS factory: Attempting to register factory for plugin cuBLAS when one has already been registered\r\n",
      "freq: h\r\n",
      "0 / 720\r\n",
      "64 / 720\r\n",
      "128 / 720\r\n",
      "192 / 720\r\n",
      "256 / 720\r\n",
      "320 / 720\r\n",
      "384 / 720\r\n",
      "448 / 720\r\n",
      "512 / 720\r\n",
      "576 / 720\r\n",
      "640 / 720\r\n",
      "704 / 720\r\n",
      "24\r\n",
      "mae 0.23352522 mse 0.14820358\r\n",
      "--------------------\r\n",
      "96\r\n",
      "mae 0.30433476 mse 0.24170627\r\n",
      "--------------------\r\n",
      "192\r\n",
      "mae 0.3380559 mse 0.28663003\r\n",
      "--------------------\r\n",
      "336\r\n",
      "mae 0.36560342 mse 0.3200014\r\n",
      "--------------------\r\n",
      "720\r\n",
      "mae 0.41609794 mse 0.3858121\r\n",
      "--------------------\r\n",
      "mae mean 0.33152348\r\n",
      "mse mean 0.27647066\r\n",
      "\r\n",
      "WAPE 0.17480074\r\n",
      "NRMSE 0.2881634\r\n",
      "WAPE 0.22825061\r\n",
      "NRMSE 0.3687265\r\n",
      "WAPE 0.2526827\r\n",
      "NRMSE 0.400173\r\n",
      "WAPE 0.2727155\r\n",
      "NRMSE 0.4219641\r\n",
      "WAPE 0.30970684\r\n",
      "NRMSE 0.4623205\r\n",
      "WAPE mean 0.24763128\r\n",
      "NRMSE mean 0.3882695\r\n",
      "\r\n",
      "CPU times: user 1.34 s, sys: 296 ms, total: 1.63 s\n",
      "Wall time: 1min 41s\n"
     ]
    }
   ],
   "source": [
    "%%time\n",
    "!python test_zeroshot.py --gpu 0 --batch_size 40 --mode tiny --data 'h2' --uni 0"
   ]
  },
  {
   "cell_type": "code",
   "execution_count": 8,
   "id": "5bd62ade",
   "metadata": {
    "execution": {
     "iopub.execute_input": "2024-04-25T07:43:49.993729Z",
     "iopub.status.busy": "2024-04-25T07:43:49.993394Z",
     "iopub.status.idle": "2024-04-25T07:51:11.342110Z",
     "shell.execute_reply": "2024-04-25T07:51:11.340753Z"
    },
    "papermill": {
     "duration": 441.363809,
     "end_time": "2024-04-25T07:51:11.344453",
     "exception": false,
     "start_time": "2024-04-25T07:43:49.980644",
     "status": "completed"
    },
    "tags": []
   },
   "outputs": [
    {
     "name": "stdout",
     "output_type": "stream",
     "text": [
      "2024-04-25 07:43:51.754514: E external/local_xla/xla/stream_executor/cuda/cuda_dnn.cc:9261] Unable to register cuDNN factory: Attempting to register factory for plugin cuDNN when one has already been registered\r\n",
      "2024-04-25 07:43:51.754565: E external/local_xla/xla/stream_executor/cuda/cuda_fft.cc:607] Unable to register cuFFT factory: Attempting to register factory for plugin cuFFT when one has already been registered\r\n",
      "2024-04-25 07:43:51.756036: E external/local_xla/xla/stream_executor/cuda/cuda_blas.cc:1515] Unable to register cuBLAS factory: Attempting to register factory for plugin cuBLAS when one has already been registered\r\n",
      "freq: 15min\r\n",
      "0 / 720\r\n",
      "64 / 720\r\n",
      "128 / 720\r\n",
      "192 / 720\r\n",
      "256 / 720\r\n",
      "320 / 720\r\n",
      "384 / 720\r\n",
      "448 / 720\r\n",
      "512 / 720\r\n",
      "576 / 720\r\n",
      "640 / 720\r\n",
      "704 / 720\r\n",
      "24\r\n",
      "mae 0.27550593 mse 0.2159651\r\n",
      "--------------------\r\n",
      "96\r\n",
      "mae 0.35718685 mse 0.35009173\r\n",
      "--------------------\r\n",
      "192\r\n",
      "mae 0.38487694 mse 0.39508456\r\n",
      "--------------------\r\n",
      "336\r\n",
      "mae 0.40416393 mse 0.42923275\r\n",
      "--------------------\r\n",
      "720\r\n",
      "mae 0.4327614 mse 0.4851799\r\n",
      "--------------------\r\n",
      "mae mean 0.37089902\r\n",
      "mse mean 0.3751108\r\n",
      "\r\n",
      "WAPE 0.3466226\r\n",
      "NRMSE 0.58467925\r\n",
      "WAPE 0.44930026\r\n",
      "NRMSE 0.7442727\r\n",
      "WAPE 0.48374987\r\n",
      "NRMSE 0.7900308\r\n",
      "WAPE 0.508418\r\n",
      "NRMSE 0.82415676\r\n",
      "WAPE 0.54493946\r\n",
      "NRMSE 0.8771041\r\n",
      "WAPE mean 0.46660605\r\n",
      "NRMSE mean 0.7640487\r\n",
      "\r\n",
      "CPU times: user 5.77 s, sys: 1.32 s, total: 7.09 s\n",
      "Wall time: 7min 21s\n"
     ]
    }
   ],
   "source": [
    "%%time\n",
    "!python test_zeroshot.py --gpu 0 --batch_size 40 --mode tiny --data 'm1' --uni 0"
   ]
  },
  {
   "cell_type": "code",
   "execution_count": 9,
   "id": "28c4f480",
   "metadata": {
    "execution": {
     "iopub.execute_input": "2024-04-25T07:51:11.373349Z",
     "iopub.status.busy": "2024-04-25T07:51:11.372710Z",
     "iopub.status.idle": "2024-04-25T07:58:29.504121Z",
     "shell.execute_reply": "2024-04-25T07:58:29.502888Z"
    },
    "papermill": {
     "duration": 438.148201,
     "end_time": "2024-04-25T07:58:29.506400",
     "exception": false,
     "start_time": "2024-04-25T07:51:11.358199",
     "status": "completed"
    },
    "tags": []
   },
   "outputs": [
    {
     "name": "stdout",
     "output_type": "stream",
     "text": [
      "2024-04-25 07:51:13.136519: E external/local_xla/xla/stream_executor/cuda/cuda_dnn.cc:9261] Unable to register cuDNN factory: Attempting to register factory for plugin cuDNN when one has already been registered\r\n",
      "2024-04-25 07:51:13.136573: E external/local_xla/xla/stream_executor/cuda/cuda_fft.cc:607] Unable to register cuFFT factory: Attempting to register factory for plugin cuFFT when one has already been registered\r\n",
      "2024-04-25 07:51:13.138049: E external/local_xla/xla/stream_executor/cuda/cuda_blas.cc:1515] Unable to register cuBLAS factory: Attempting to register factory for plugin cuBLAS when one has already been registered\r\n",
      "freq: 15min\r\n",
      "0 / 720\r\n",
      "64 / 720\r\n",
      "128 / 720\r\n",
      "192 / 720\r\n",
      "256 / 720\r\n",
      "320 / 720\r\n",
      "384 / 720\r\n",
      "448 / 720\r\n",
      "512 / 720\r\n",
      "576 / 720\r\n",
      "640 / 720\r\n",
      "704 / 720\r\n",
      "24\r\n",
      "mae 0.19247918 mse 0.10879839\r\n",
      "--------------------\r\n",
      "96\r\n",
      "mae 0.27163127 mse 0.20604962\r\n",
      "--------------------\r\n",
      "192\r\n",
      "mae 0.31659135 mse 0.2737429\r\n",
      "--------------------\r\n",
      "336\r\n",
      "mae 0.3543578 mse 0.3347223\r\n",
      "--------------------\r\n",
      "720\r\n",
      "mae 0.41107357 mse 0.42789093\r\n",
      "--------------------\r\n",
      "mae mean 0.30922663\r\n",
      "mse mean 0.27024084\r\n",
      "\r\n",
      "WAPE 0.14181976\r\n",
      "NRMSE 0.24303246\r\n",
      "WAPE 0.20000648\r\n",
      "NRMSE 0.33423367\r\n",
      "WAPE 0.23301108\r\n",
      "NRMSE 0.38507822\r\n",
      "WAPE 0.26079533\r\n",
      "NRMSE 0.42579457\r\n",
      "WAPE 0.30220896\r\n",
      "NRMSE 0.48089948\r\n",
      "WAPE mean 0.22756834\r\n",
      "NRMSE mean 0.37380767\r\n",
      "\r\n",
      "CPU times: user 5.68 s, sys: 1.26 s, total: 6.93 s\n",
      "Wall time: 7min 18s\n"
     ]
    }
   ],
   "source": [
    "%%time\n",
    "!python test_zeroshot.py --gpu 0 --batch_size 40 --mode tiny --data 'm2' --uni 0"
   ]
  },
  {
   "cell_type": "code",
   "execution_count": 10,
   "id": "8eb7653b",
   "metadata": {
    "execution": {
     "iopub.execute_input": "2024-04-25T07:58:29.539370Z",
     "iopub.status.busy": "2024-04-25T07:58:29.538718Z",
     "iopub.status.idle": "2024-04-25T07:58:54.179906Z",
     "shell.execute_reply": "2024-04-25T07:58:54.178597Z"
    },
    "papermill": {
     "duration": 24.66007,
     "end_time": "2024-04-25T07:58:54.182005",
     "exception": false,
     "start_time": "2024-04-25T07:58:29.521935",
     "status": "completed"
    },
    "tags": []
   },
   "outputs": [
    {
     "name": "stdout",
     "output_type": "stream",
     "text": [
      "2024-04-25 07:58:31.288712: E external/local_xla/xla/stream_executor/cuda/cuda_dnn.cc:9261] Unable to register cuDNN factory: Attempting to register factory for plugin cuDNN when one has already been registered\r\n",
      "2024-04-25 07:58:31.288769: E external/local_xla/xla/stream_executor/cuda/cuda_fft.cc:607] Unable to register cuFFT factory: Attempting to register factory for plugin cuFFT when one has already been registered\r\n",
      "2024-04-25 07:58:31.290258: E external/local_xla/xla/stream_executor/cuda/cuda_blas.cc:1515] Unable to register cuBLAS factory: Attempting to register factory for plugin cuBLAS when one has already been registered\r\n",
      "freq: D\r\n",
      "0 / 720\r\n",
      "64 / 720\r\n",
      "128 / 720\r\n",
      "192 / 720\r\n",
      "256 / 720\r\n",
      "320 / 720\r\n",
      "384 / 720\r\n",
      "448 / 720\r\n",
      "512 / 720\r\n",
      "576 / 720\r\n",
      "640 / 720\r\n",
      "704 / 720\r\n",
      "24\r\n",
      "mae 0.122233324 mse 0.04198293\r\n",
      "--------------------\r\n",
      "96\r\n",
      "mae 0.29830268 mse 0.17494413\r\n",
      "--------------------\r\n",
      "192\r\n",
      "mae 0.4485583 mse 0.34983936\r\n",
      "--------------------\r\n",
      "336\r\n",
      "mae 0.6489526 mse 0.68930936\r\n",
      "--------------------\r\n",
      "720\r\n",
      "mae 0.9460125 mse 1.3174107\r\n",
      "--------------------\r\n",
      "mae mean 0.49281186\r\n",
      "mse mean 0.5146973\r\n",
      "\r\n",
      "WAPE 0.06887869\r\n",
      "NRMSE 0.11546001\r\n",
      "WAPE 0.17713962\r\n",
      "NRMSE 0.2483752\r\n",
      "WAPE 0.28648698\r\n",
      "NRMSE 0.3777638\r\n",
      "WAPE 0.4590984\r\n",
      "NRMSE 0.58735394\r\n",
      "WAPE 0.7619746\r\n",
      "NRMSE 0.92449427\r\n",
      "WAPE mean 0.35071564\r\n",
      "NRMSE mean 0.45068946\r\n",
      "\r\n",
      "CPU times: user 316 ms, sys: 77.1 ms, total: 393 ms\n",
      "Wall time: 24.6 s\n"
     ]
    }
   ],
   "source": [
    "%%time\n",
    "!python test_zeroshot.py --gpu 0 --batch_size 40 --mode tiny --data 'exchange_rate' --uni 0"
   ]
  },
  {
   "cell_type": "code",
   "execution_count": 11,
   "id": "4dab701d",
   "metadata": {
    "execution": {
     "iopub.execute_input": "2024-04-25T07:58:54.217202Z",
     "iopub.status.busy": "2024-04-25T07:58:54.216856Z",
     "iopub.status.idle": "2024-04-25T08:06:04.721255Z",
     "shell.execute_reply": "2024-04-25T08:06:04.720059Z"
    },
    "papermill": {
     "duration": 430.524303,
     "end_time": "2024-04-25T08:06:04.723599",
     "exception": false,
     "start_time": "2024-04-25T07:58:54.199296",
     "status": "completed"
    },
    "tags": []
   },
   "outputs": [
    {
     "name": "stdout",
     "output_type": "stream",
     "text": [
      "2024-04-25 07:58:55.963099: E external/local_xla/xla/stream_executor/cuda/cuda_dnn.cc:9261] Unable to register cuDNN factory: Attempting to register factory for plugin cuDNN when one has already been registered\r\n",
      "2024-04-25 07:58:55.963156: E external/local_xla/xla/stream_executor/cuda/cuda_fft.cc:607] Unable to register cuFFT factory: Attempting to register factory for plugin cuFFT when one has already been registered\r\n",
      "2024-04-25 07:58:55.964603: E external/local_xla/xla/stream_executor/cuda/cuda_blas.cc:1515] Unable to register cuBLAS factory: Attempting to register factory for plugin cuBLAS when one has already been registered\r\n",
      "freq: None\r\n",
      "0 / 720\r\n",
      "64 / 720\r\n",
      "128 / 720\r\n",
      "192 / 720\r\n",
      "256 / 720\r\n",
      "320 / 720\r\n",
      "384 / 720\r\n",
      "448 / 720\r\n",
      "512 / 720\r\n",
      "576 / 720\r\n",
      "640 / 720\r\n",
      "704 / 720\r\n",
      "24\r\n",
      "mae 0.10474021 mse 0.09277722\r\n",
      "--------------------\r\n",
      "96\r\n",
      "mae 0.18369079 mse 0.1500468\r\n",
      "--------------------\r\n",
      "192\r\n",
      "mae 0.22938868 mse 0.19611485\r\n",
      "--------------------\r\n",
      "336\r\n",
      "mae 0.2709522 mse 0.24890816\r\n",
      "--------------------\r\n",
      "720\r\n",
      "mae 0.31905934 mse 0.32015222\r\n",
      "--------------------\r\n",
      "mae mean 0.22156624\r\n",
      "mse mean 0.20159984\r\n",
      "\r\n",
      "WAPE 0.17694464\r\n",
      "NRMSE 0.51457024\r\n",
      "WAPE 0.30933776\r\n",
      "NRMSE 0.6523174\r\n",
      "WAPE 0.38499916\r\n",
      "NRMSE 0.7432639\r\n",
      "WAPE 0.45231783\r\n",
      "NRMSE 0.8328573\r\n",
      "WAPE 0.5257738\r\n",
      "NRMSE 0.93240756\r\n",
      "WAPE mean 0.36987463\r\n",
      "NRMSE mean 0.7350833\r\n",
      "\r\n",
      "CPU times: user 5.62 s, sys: 1.27 s, total: 6.9 s\n",
      "Wall time: 7min 10s\n"
     ]
    }
   ],
   "source": [
    "%%time\n",
    "!python test_zeroshot.py --gpu 0 --batch_size 40 --mode tiny --data 'weather' --uni 0"
   ]
  },
  {
   "cell_type": "code",
   "execution_count": 12,
   "id": "fa614433",
   "metadata": {
    "execution": {
     "iopub.execute_input": "2024-04-25T08:06:04.763867Z",
     "iopub.status.busy": "2024-04-25T08:06:04.763549Z",
     "iopub.status.idle": "2024-04-25T08:06:17.074085Z",
     "shell.execute_reply": "2024-04-25T08:06:17.072568Z"
    },
    "papermill": {
     "duration": 12.333438,
     "end_time": "2024-04-25T08:06:17.076708",
     "exception": false,
     "start_time": "2024-04-25T08:06:04.743270",
     "status": "completed"
    },
    "tags": []
   },
   "outputs": [
    {
     "name": "stdout",
     "output_type": "stream",
     "text": [
      "2024-04-25 08:06:06.531216: E external/local_xla/xla/stream_executor/cuda/cuda_dnn.cc:9261] Unable to register cuDNN factory: Attempting to register factory for plugin cuDNN when one has already been registered\r\n",
      "2024-04-25 08:06:06.531271: E external/local_xla/xla/stream_executor/cuda/cuda_fft.cc:607] Unable to register cuFFT factory: Attempting to register factory for plugin cuFFT when one has already been registered\r\n",
      "2024-04-25 08:06:06.533337: E external/local_xla/xla/stream_executor/cuda/cuda_blas.cc:1515] Unable to register cuBLAS factory: Attempting to register factory for plugin cuBLAS when one has already been registered\r\n",
      "freq: W-TUE\r\n",
      "0 / 60\r\n",
      "24\r\n",
      "mae 0.64900327 mse 1.2071439\r\n",
      "--------------------\r\n",
      "36\r\n",
      "mae 0.70216817 mse 1.3466916\r\n",
      "--------------------\r\n",
      "48\r\n",
      "mae 0.7691992 mse 1.592908\r\n",
      "--------------------\r\n",
      "60\r\n",
      "mae 0.8297205 mse 1.8258338\r\n",
      "--------------------\r\n",
      "mae mean 0.7375228\r\n",
      "mse mean 1.4931443\r\n",
      "\r\n",
      "WAPE 0.40363538\r\n",
      "NRMSE 0.6833164\r\n",
      "WAPE 0.43110207\r\n",
      "NRMSE 0.71248055\r\n",
      "WAPE 0.46508574\r\n",
      "NRMSE 0.7631143\r\n",
      "WAPE 0.49524397\r\n",
      "NRMSE 0.80652535\r\n",
      "WAPE mean 0.44876677\r\n",
      "NRMSE mean 0.7413591\r\n",
      "\r\n",
      "CPU times: user 151 ms, sys: 44.3 ms, total: 196 ms\n",
      "Wall time: 12.3 s\n"
     ]
    }
   ],
   "source": [
    "%%time\n",
    "!python test_zeroshot.py --gpu 0 --batch_size 40 --mode tiny --data 'ill' --uni 0"
   ]
  },
  {
   "cell_type": "markdown",
   "id": "daf56696",
   "metadata": {
    "papermill": {
     "duration": 0.021805,
     "end_time": "2024-04-25T08:06:17.121001",
     "exception": false,
     "start_time": "2024-04-25T08:06:17.099196",
     "status": "completed"
    },
    "tags": []
   },
   "source": [
    "fine-tuning"
   ]
  },
  {
   "cell_type": "markdown",
   "id": "e8c636e9",
   "metadata": {
    "papermill": {
     "duration": 0.020313,
     "end_time": "2024-04-25T08:06:17.162217",
     "exception": false,
     "start_time": "2024-04-25T08:06:17.141904",
     "status": "completed"
    },
    "tags": []
   },
   "source": [
    "**few-shot**\n"
   ]
  },
  {
   "cell_type": "code",
   "execution_count": 13,
   "id": "1e30e586",
   "metadata": {
    "execution": {
     "iopub.execute_input": "2024-04-25T08:06:17.204764Z",
     "iopub.status.busy": "2024-04-25T08:06:17.204408Z",
     "iopub.status.idle": "2024-04-25T08:10:30.211862Z",
     "shell.execute_reply": "2024-04-25T08:10:30.210634Z"
    },
    "papermill": {
     "duration": 253.031707,
     "end_time": "2024-04-25T08:10:30.214034",
     "exception": false,
     "start_time": "2024-04-25T08:06:17.182327",
     "status": "completed"
    },
    "tags": []
   },
   "outputs": [
    {
     "name": "stdout",
     "output_type": "stream",
     "text": [
      "2024-04-25 08:06:18.961400: E external/local_xla/xla/stream_executor/cuda/cuda_dnn.cc:9261] Unable to register cuDNN factory: Attempting to register factory for plugin cuDNN when one has already been registered\r\n",
      "2024-04-25 08:06:18.961456: E external/local_xla/xla/stream_executor/cuda/cuda_fft.cc:607] Unable to register cuFFT factory: Attempting to register factory for plugin cuFFT when one has already been registered\r\n",
      "2024-04-25 08:06:18.962967: E external/local_xla/xla/stream_executor/cuda/cuda_blas.cc:1515] Unable to register cuBLAS factory: Attempting to register factory for plugin cuBLAS when one has already been registered\r\n",
      "freq: h\r\n",
      "Epoch 1/30\r\n",
      "WARNING: All log messages before absl::InitializeLog() is called are written to STDERR\r\n",
      "I0000 00:00:1714032397.036709   12931 device_compiler.h:186] Compiled cluster using XLA!  This line is logged at most once for the lifetime of the process.\r\n",
      "213/213 [==============================] - 43s 159ms/step - loss: 0.5594 - val_loss: 0.8142\r\n",
      "Epoch 2/30\r\n",
      "213/213 [==============================] - 32s 150ms/step - loss: 0.5006 - val_loss: 0.8116\r\n",
      "Epoch 3/30\r\n",
      "213/213 [==============================] - 32s 151ms/step - loss: 0.4895 - val_loss: 0.8078\r\n",
      "Epoch 4/30\r\n",
      "213/213 [==============================] - 32s 151ms/step - loss: 0.4829 - val_loss: 0.8034\r\n",
      "Epoch 5/30\r\n",
      "213/213 [==============================] - 32s 149ms/step - loss: 0.4766 - val_loss: 0.8057\r\n",
      "Epoch 6/30\r\n",
      "213/213 [==============================] - 32s 149ms/step - loss: 0.4726 - val_loss: 0.8059\r\n",
      "Epoch 7/30\r\n",
      "213/213 [==============================] - 32s 150ms/step - loss: 0.4688 - val_loss: 0.8063\r\n",
      "24\r\n",
      "mae 0.3363991 mse 0.29191053\r\n",
      "--------------------\r\n",
      "96\r\n",
      "mae 0.37508547 mse 0.36332488\r\n",
      "--------------------\r\n",
      "192\r\n",
      "mae 0.40204856 mse 0.4171207\r\n",
      "--------------------\r\n",
      "336\r\n",
      "mae 0.427521 mse 0.45540506\r\n",
      "--------------------\r\n",
      "720\r\n",
      "mae 0.48031476 mse 0.519087\r\n",
      "--------------------\r\n",
      "mae mean 0.4042738\r\n",
      "mse mean 0.40936965\r\n",
      "\r\n",
      "CPU times: user 4.24 s, sys: 909 ms, total: 5.15 s\n",
      "Wall time: 4min 12s\n"
     ]
    }
   ],
   "source": [
    "%%time\n",
    "!python test_finetune.py --gpu 0 --batch_size 40 --mode tiny --data 'h1' --uni 0"
   ]
  },
  {
   "cell_type": "code",
   "execution_count": 14,
   "id": "e214713c",
   "metadata": {
    "execution": {
     "iopub.execute_input": "2024-04-25T08:10:30.487227Z",
     "iopub.status.busy": "2024-04-25T08:10:30.486854Z",
     "iopub.status.idle": "2024-04-25T08:13:07.072764Z",
     "shell.execute_reply": "2024-04-25T08:13:07.071401Z"
    },
    "papermill": {
     "duration": 156.72542,
     "end_time": "2024-04-25T08:13:07.074889",
     "exception": false,
     "start_time": "2024-04-25T08:10:30.349469",
     "status": "completed"
    },
    "tags": []
   },
   "outputs": [
    {
     "name": "stdout",
     "output_type": "stream",
     "text": [
      "2024-04-25 08:10:32.239906: E external/local_xla/xla/stream_executor/cuda/cuda_dnn.cc:9261] Unable to register cuDNN factory: Attempting to register factory for plugin cuDNN when one has already been registered\r\n",
      "2024-04-25 08:10:32.239962: E external/local_xla/xla/stream_executor/cuda/cuda_fft.cc:607] Unable to register cuFFT factory: Attempting to register factory for plugin cuFFT when one has already been registered\r\n",
      "2024-04-25 08:10:32.241698: E external/local_xla/xla/stream_executor/cuda/cuda_blas.cc:1515] Unable to register cuBLAS factory: Attempting to register factory for plugin cuBLAS when one has already been registered\r\n",
      "freq: h\r\n",
      "Epoch 1/30\r\n",
      "WARNING: All log messages before absl::InitializeLog() is called are written to STDERR\r\n",
      "I0000 00:00:1714032650.082018   13293 device_compiler.h:186] Compiled cluster using XLA!  This line is logged at most once for the lifetime of the process.\r\n",
      "213/213 [==============================] - 43s 159ms/step - loss: 0.5638 - val_loss: 0.5542\r\n",
      "Epoch 2/30\r\n",
      "213/213 [==============================] - 32s 149ms/step - loss: 0.5063 - val_loss: 0.5614\r\n",
      "Epoch 3/30\r\n",
      "213/213 [==============================] - 32s 149ms/step - loss: 0.4912 - val_loss: 0.5651\r\n",
      "Epoch 4/30\r\n",
      "213/213 [==============================] - 32s 149ms/step - loss: 0.4773 - val_loss: 0.5715\r\n",
      "24\r\n",
      "mae 0.24681011 mse 0.15421812\r\n",
      "--------------------\r\n",
      "96\r\n",
      "mae 0.29816204 mse 0.2228355\r\n",
      "--------------------\r\n",
      "192\r\n",
      "mae 0.32893285 mse 0.26618028\r\n",
      "--------------------\r\n",
      "336\r\n",
      "mae 0.3576005 mse 0.30230814\r\n",
      "--------------------\r\n",
      "720\r\n",
      "mae 0.4099294 mse 0.37062413\r\n",
      "--------------------\r\n",
      "mae mean 0.328287\r\n",
      "mse mean 0.26323324\r\n",
      "\r\n",
      "CPU times: user 2.51 s, sys: 571 ms, total: 3.08 s\n",
      "Wall time: 2min 36s\n"
     ]
    }
   ],
   "source": [
    "%%time\n",
    "!python test_finetune.py --gpu 0 --batch_size 40 --mode tiny --data 'h2' --uni 0"
   ]
  },
  {
   "cell_type": "code",
   "execution_count": 15,
   "id": "3e1b41cd",
   "metadata": {
    "execution": {
     "iopub.execute_input": "2024-04-25T08:13:07.487794Z",
     "iopub.status.busy": "2024-04-25T08:13:07.487405Z",
     "iopub.status.idle": "2024-04-25T08:26:19.561908Z",
     "shell.execute_reply": "2024-04-25T08:26:19.560632Z"
    },
    "papermill": {
     "duration": 792.286097,
     "end_time": "2024-04-25T08:26:19.563986",
     "exception": false,
     "start_time": "2024-04-25T08:13:07.277889",
     "status": "completed"
    },
    "tags": []
   },
   "outputs": [
    {
     "name": "stdout",
     "output_type": "stream",
     "text": [
      "2024-04-25 08:13:09.280191: E external/local_xla/xla/stream_executor/cuda/cuda_dnn.cc:9261] Unable to register cuDNN factory: Attempting to register factory for plugin cuDNN when one has already been registered\r\n",
      "2024-04-25 08:13:09.280247: E external/local_xla/xla/stream_executor/cuda/cuda_fft.cc:607] Unable to register cuFFT factory: Attempting to register factory for plugin cuFFT when one has already been registered\r\n",
      "2024-04-25 08:13:09.281763: E external/local_xla/xla/stream_executor/cuda/cuda_blas.cc:1515] Unable to register cuBLAS factory: Attempting to register factory for plugin cuBLAS when one has already been registered\r\n",
      "freq: 15min\r\n",
      "Epoch 1/30\r\n",
      "WARNING: All log messages before absl::InitializeLog() is called are written to STDERR\r\n",
      "I0000 00:00:1714032807.743951   13592 device_compiler.h:186] Compiled cluster using XLA!  This line is logged at most once for the lifetime of the process.\r\n",
      "861/861 [==============================] - 135s 146ms/step - loss: 0.4427 - val_loss: 0.6331\r\n",
      "Epoch 2/30\r\n",
      "861/861 [==============================] - 124s 144ms/step - loss: 0.4225 - val_loss: 0.6326\r\n",
      "Epoch 3/30\r\n",
      "861/861 [==============================] - 124s 144ms/step - loss: 0.4181 - val_loss: 0.6299\r\n",
      "Epoch 4/30\r\n",
      "861/861 [==============================] - 125s 145ms/step - loss: 0.4157 - val_loss: 0.6304\r\n",
      "Epoch 5/30\r\n",
      "861/861 [==============================] - 124s 144ms/step - loss: 0.4138 - val_loss: 0.6310\r\n",
      "Epoch 6/30\r\n",
      "861/861 [==============================] - 124s 144ms/step - loss: 0.4125 - val_loss: 0.6311\r\n",
      "24\r\n",
      "mae 0.2636603 mse 0.18968134\r\n",
      "--------------------\r\n",
      "96\r\n",
      "mae 0.33496282 mse 0.2909628\r\n",
      "--------------------\r\n",
      "192\r\n",
      "mae 0.35969874 mse 0.33043575\r\n",
      "--------------------\r\n",
      "336\r\n",
      "mae 0.38103095 mse 0.36816713\r\n",
      "--------------------\r\n",
      "720\r\n",
      "mae 0.41363448 mse 0.42938763\r\n",
      "--------------------\r\n",
      "mae mean 0.35059747\r\n",
      "mse mean 0.32172695\r\n",
      "\r\n",
      "CPU times: user 13.7 s, sys: 2.91 s, total: 16.6 s\n",
      "Wall time: 13min 12s\n"
     ]
    }
   ],
   "source": [
    "%%time\n",
    "!python test_finetune.py --gpu 0 --batch_size 40 --mode tiny --data 'm1' --uni 0"
   ]
  },
  {
   "cell_type": "code",
   "execution_count": 16,
   "id": "12948b2b",
   "metadata": {
    "execution": {
     "iopub.execute_input": "2024-04-25T08:26:20.805654Z",
     "iopub.status.busy": "2024-04-25T08:26:20.804745Z",
     "iopub.status.idle": "2024-04-25T08:35:24.160735Z",
     "shell.execute_reply": "2024-04-25T08:35:24.159303Z"
    },
    "papermill": {
     "duration": 543.978446,
     "end_time": "2024-04-25T08:35:24.163067",
     "exception": false,
     "start_time": "2024-04-25T08:26:20.184621",
     "status": "completed"
    },
    "tags": []
   },
   "outputs": [
    {
     "name": "stdout",
     "output_type": "stream",
     "text": [
      "2024-04-25 08:26:22.581455: E external/local_xla/xla/stream_executor/cuda/cuda_dnn.cc:9261] Unable to register cuDNN factory: Attempting to register factory for plugin cuDNN when one has already been registered\r\n",
      "2024-04-25 08:26:22.581510: E external/local_xla/xla/stream_executor/cuda/cuda_fft.cc:607] Unable to register cuFFT factory: Attempting to register factory for plugin cuFFT when one has already been registered\r\n",
      "2024-04-25 08:26:22.583025: E external/local_xla/xla/stream_executor/cuda/cuda_blas.cc:1515] Unable to register cuBLAS factory: Attempting to register factory for plugin cuBLAS when one has already been registered\r\n",
      "freq: 15min\r\n",
      "Epoch 1/30\r\n",
      "WARNING: All log messages before absl::InitializeLog() is called are written to STDERR\r\n",
      "I0000 00:00:1714033601.142372   13987 device_compiler.h:186] Compiled cluster using XLA!  This line is logged at most once for the lifetime of the process.\r\n",
      "861/861 [==============================] - 135s 146ms/step - loss: 0.3858 - val_loss: 0.3504\r\n",
      "Epoch 2/30\r\n",
      "861/861 [==============================] - 124s 144ms/step - loss: 0.3649 - val_loss: 0.3520\r\n",
      "Epoch 3/30\r\n",
      "861/861 [==============================] - 124s 144ms/step - loss: 0.3592 - val_loss: 0.3525\r\n",
      "Epoch 4/30\r\n",
      "861/861 [==============================] - 124s 144ms/step - loss: 0.3559 - val_loss: 0.3550\r\n",
      "24\r\n",
      "mae 0.18315521 mse 0.09368844\r\n",
      "--------------------\r\n",
      "96\r\n",
      "mae 0.24565731 mse 0.16486752\r\n",
      "--------------------\r\n",
      "192\r\n",
      "mae 0.284961 mse 0.22095127\r\n",
      "--------------------\r\n",
      "336\r\n",
      "mae 0.3196292 mse 0.2712948\r\n",
      "--------------------\r\n",
      "720\r\n",
      "mae 0.37254083 mse 0.34902677\r\n",
      "--------------------\r\n",
      "mae mean 0.2811887\r\n",
      "mse mean 0.21996577\r\n",
      "\r\n",
      "CPU times: user 9.28 s, sys: 2.03 s, total: 11.3 s\n",
      "Wall time: 9min 3s\n"
     ]
    }
   ],
   "source": [
    "%%time\n",
    "!python test_finetune.py --gpu 0 --batch_size 40 --mode tiny --data 'm2' --uni 0"
   ]
  },
  {
   "cell_type": "code",
   "execution_count": 17,
   "id": "accc8fcf",
   "metadata": {
    "execution": {
     "iopub.execute_input": "2024-04-25T08:35:26.004705Z",
     "iopub.status.busy": "2024-04-25T08:35:26.004310Z",
     "iopub.status.idle": "2024-04-25T08:38:11.729189Z",
     "shell.execute_reply": "2024-04-25T08:38:11.727873Z"
    },
    "papermill": {
     "duration": 166.618919,
     "end_time": "2024-04-25T08:38:11.731322",
     "exception": false,
     "start_time": "2024-04-25T08:35:25.112403",
     "status": "completed"
    },
    "tags": []
   },
   "outputs": [
    {
     "name": "stdout",
     "output_type": "stream",
     "text": [
      "2024-04-25 08:35:27.779475: E external/local_xla/xla/stream_executor/cuda/cuda_dnn.cc:9261] Unable to register cuDNN factory: Attempting to register factory for plugin cuDNN when one has already been registered\r\n",
      "2024-04-25 08:35:27.779531: E external/local_xla/xla/stream_executor/cuda/cuda_fft.cc:607] Unable to register cuFFT factory: Attempting to register factory for plugin cuFFT when one has already been registered\r\n",
      "2024-04-25 08:35:27.781089: E external/local_xla/xla/stream_executor/cuda/cuda_blas.cc:1515] Unable to register cuBLAS factory: Attempting to register factory for plugin cuBLAS when one has already been registered\r\n",
      "freq: D\r\n",
      "Epoch 1/30\r\n",
      "WARNING: All log messages before absl::InitializeLog() is called are written to STDERR\r\n",
      "I0000 00:00:1714034145.501967   14340 device_compiler.h:186] Compiled cluster using XLA!  This line is logged at most once for the lifetime of the process.\r\n",
      "125/125 [==============================] - 31s 176ms/step - loss: 0.7687 - val_loss: 0.7580\r\n",
      "Epoch 2/30\r\n",
      "125/125 [==============================] - 20s 162ms/step - loss: 0.6099 - val_loss: 0.7014\r\n",
      "Epoch 3/30\r\n",
      "125/125 [==============================] - 20s 161ms/step - loss: 0.5528 - val_loss: 0.6912\r\n",
      "Epoch 4/30\r\n",
      "125/125 [==============================] - 20s 161ms/step - loss: 0.5126 - val_loss: 0.6832\r\n",
      "Epoch 5/30\r\n",
      "125/125 [==============================] - 20s 160ms/step - loss: 0.4898 - val_loss: 0.6889\r\n",
      "Epoch 6/30\r\n",
      "125/125 [==============================] - 20s 159ms/step - loss: 0.4701 - val_loss: 0.6908\r\n",
      "Epoch 7/30\r\n",
      "125/125 [==============================] - 20s 160ms/step - loss: 0.4590 - val_loss: 0.6984\r\n",
      "24\r\n",
      "mae 0.117978424 mse 0.03813798\r\n",
      "--------------------\r\n",
      "96\r\n",
      "mae 0.26451308 mse 0.1396687\r\n",
      "--------------------\r\n",
      "192\r\n",
      "mae 0.43513358 mse 0.33919933\r\n",
      "--------------------\r\n",
      "336\r\n",
      "mae 0.6405089 mse 0.69230634\r\n",
      "--------------------\r\n",
      "720\r\n",
      "mae 0.94014317 mse 1.380406\r\n",
      "--------------------\r\n",
      "mae mean 0.4796554\r\n",
      "mse mean 0.5179437\r\n",
      "\r\n",
      "CPU times: user 2.65 s, sys: 632 ms, total: 3.28 s\n",
      "Wall time: 2min 45s\n"
     ]
    }
   ],
   "source": [
    "%%time\n",
    "!python test_finetune.py --gpu 0 --batch_size 40 --mode tiny --data 'exchange_rate' --uni 0"
   ]
  },
  {
   "cell_type": "code",
   "execution_count": 18,
   "id": "5951f432",
   "metadata": {
    "execution": {
     "iopub.execute_input": "2024-04-25T08:38:13.738207Z",
     "iopub.status.busy": "2024-04-25T08:38:13.737802Z",
     "iopub.status.idle": "2024-04-25T09:02:26.082970Z",
     "shell.execute_reply": "2024-04-25T09:02:26.081732Z"
    },
    "papermill": {
     "duration": 1453.344516,
     "end_time": "2024-04-25T09:02:26.085100",
     "exception": false,
     "start_time": "2024-04-25T08:38:12.740584",
     "status": "completed"
    },
    "tags": []
   },
   "outputs": [
    {
     "name": "stdout",
     "output_type": "stream",
     "text": [
      "2024-04-25 08:38:15.481965: E external/local_xla/xla/stream_executor/cuda/cuda_dnn.cc:9261] Unable to register cuDNN factory: Attempting to register factory for plugin cuDNN when one has already been registered\r\n",
      "2024-04-25 08:38:15.482020: E external/local_xla/xla/stream_executor/cuda/cuda_fft.cc:607] Unable to register cuFFT factory: Attempting to register factory for plugin cuFFT when one has already been registered\r\n",
      "2024-04-25 08:38:15.483545: E external/local_xla/xla/stream_executor/cuda/cuda_blas.cc:1515] Unable to register cuBLAS factory: Attempting to register factory for plugin cuBLAS when one has already been registered\r\n",
      "freq: None\r\n",
      "Epoch 1/30\r\n",
      "WARNING: All log messages before absl::InitializeLog() is called are written to STDERR\r\n",
      "I0000 00:00:1714034319.113984   14688 device_compiler.h:186] Compiled cluster using XLA!  This line is logged at most once for the lifetime of the process.\r\n",
      "919/919 [==============================] - 242s 253ms/step - loss: 0.4132 - val_loss: 0.3957\r\n",
      "Epoch 2/30\r\n",
      "919/919 [==============================] - 231s 252ms/step - loss: 0.3957 - val_loss: 0.3942\r\n",
      "Epoch 3/30\r\n",
      "919/919 [==============================] - 231s 251ms/step - loss: 0.3934 - val_loss: 0.3940\r\n",
      "Epoch 4/30\r\n",
      "919/919 [==============================] - 231s 251ms/step - loss: 0.3922 - val_loss: 0.3955\r\n",
      "Epoch 5/30\r\n",
      "919/919 [==============================] - 231s 251ms/step - loss: 0.3914 - val_loss: 0.3951\r\n",
      "Epoch 6/30\r\n",
      "919/919 [==============================] - 231s 251ms/step - loss: 0.3909 - val_loss: 0.3943\r\n",
      "24\r\n",
      "mae 0.10451735 mse 0.089846104\r\n",
      "--------------------\r\n",
      "96\r\n",
      "mae 0.18514666 mse 0.1474951\r\n",
      "--------------------\r\n",
      "192\r\n",
      "mae 0.2302356 mse 0.1905805\r\n",
      "--------------------\r\n",
      "336\r\n",
      "mae 0.27135685 mse 0.23993815\r\n",
      "--------------------\r\n",
      "720\r\n",
      "mae 0.32104355 mse 0.30977646\r\n",
      "--------------------\r\n",
      "mae mean 0.22245999\r\n",
      "mse mean 0.19552727\r\n",
      "\r\n",
      "CPU times: user 21.8 s, sys: 4.78 s, total: 26.5 s\n",
      "Wall time: 24min 12s\n"
     ]
    }
   ],
   "source": [
    "%%time\n",
    "!python test_finetune.py --gpu 0 --batch_size 40 --mode tiny --data 'weather' --uni 0"
   ]
  },
  {
   "cell_type": "code",
   "execution_count": 19,
   "id": "b21d4663",
   "metadata": {
    "execution": {
     "iopub.execute_input": "2024-04-25T09:02:28.949402Z",
     "iopub.status.busy": "2024-04-25T09:02:28.949024Z",
     "iopub.status.idle": "2024-04-25T09:03:36.874994Z",
     "shell.execute_reply": "2024-04-25T09:03:36.873836Z"
    },
    "papermill": {
     "duration": 69.314932,
     "end_time": "2024-04-25T09:03:36.877205",
     "exception": false,
     "start_time": "2024-04-25T09:02:27.562273",
     "status": "completed"
    },
    "tags": []
   },
   "outputs": [
    {
     "name": "stdout",
     "output_type": "stream",
     "text": [
      "2024-04-25 09:02:30.703294: E external/local_xla/xla/stream_executor/cuda/cuda_dnn.cc:9261] Unable to register cuDNN factory: Attempting to register factory for plugin cuDNN when one has already been registered\r\n",
      "2024-04-25 09:02:30.703352: E external/local_xla/xla/stream_executor/cuda/cuda_fft.cc:607] Unable to register cuFFT factory: Attempting to register factory for plugin cuFFT when one has already been registered\r\n",
      "2024-04-25 09:02:30.704839: E external/local_xla/xla/stream_executor/cuda/cuda_blas.cc:1515] Unable to register cuBLAS factory: Attempting to register factory for plugin cuBLAS when one has already been registered\r\n",
      "freq: W-TUE\r\n",
      "Epoch 1/30\r\n",
      "WARNING: All log messages before absl::InitializeLog() is called are written to STDERR\r\n",
      "I0000 00:00:1714035768.597998   15076 device_compiler.h:186] Compiled cluster using XLA!  This line is logged at most once for the lifetime of the process.\r\n",
      "15/15 [==============================] - 14s 292ms/step - loss: 0.7127 - val_loss: 0.7380\r\n",
      "Epoch 2/30\r\n",
      "15/15 [==============================] - 2s 163ms/step - loss: 0.6630 - val_loss: 0.7006\r\n",
      "Epoch 3/30\r\n",
      "15/15 [==============================] - 2s 164ms/step - loss: 0.6170 - val_loss: 0.6697\r\n",
      "Epoch 4/30\r\n",
      "15/15 [==============================] - 2s 166ms/step - loss: 0.5795 - val_loss: 0.6395\r\n",
      "Epoch 5/30\r\n",
      "15/15 [==============================] - 2s 163ms/step - loss: 0.5434 - val_loss: 0.6154\r\n",
      "Epoch 6/30\r\n",
      "15/15 [==============================] - 2s 168ms/step - loss: 0.5117 - val_loss: 0.5924\r\n",
      "Epoch 7/30\r\n",
      "15/15 [==============================] - 2s 163ms/step - loss: 0.4847 - val_loss: 0.5749\r\n",
      "Epoch 8/30\r\n",
      "15/15 [==============================] - 2s 162ms/step - loss: 0.4695 - val_loss: 0.5605\r\n",
      "Epoch 9/30\r\n",
      "15/15 [==============================] - 2s 163ms/step - loss: 0.4396 - val_loss: 0.5488\r\n",
      "Epoch 10/30\r\n",
      "15/15 [==============================] - 2s 162ms/step - loss: 0.4272 - val_loss: 0.5439\r\n",
      "Epoch 11/30\r\n",
      "15/15 [==============================] - 2s 163ms/step - loss: 0.4213 - val_loss: 0.5377\r\n",
      "Epoch 12/30\r\n",
      "15/15 [==============================] - 2s 163ms/step - loss: 0.4094 - val_loss: 0.5361\r\n",
      "Epoch 13/30\r\n",
      "15/15 [==============================] - 2s 157ms/step - loss: 0.4055 - val_loss: 0.5358\r\n",
      "Epoch 14/30\r\n",
      "15/15 [==============================] - 2s 147ms/step - loss: 0.3917 - val_loss: 0.5360\r\n",
      "Epoch 15/30\r\n",
      "15/15 [==============================] - 2s 163ms/step - loss: 0.3888 - val_loss: 0.5339\r\n",
      "Epoch 16/30\r\n",
      "15/15 [==============================] - 2s 147ms/step - loss: 0.3825 - val_loss: 0.5358\r\n",
      "Epoch 17/30\r\n",
      "15/15 [==============================] - 2s 146ms/step - loss: 0.3738 - val_loss: 0.5361\r\n",
      "Epoch 18/30\r\n",
      "15/15 [==============================] - 2s 149ms/step - loss: 0.3663 - val_loss: 0.5388\r\n",
      "24\r\n",
      "mae 0.6298817 mse 1.1172374\r\n",
      "--------------------\r\n",
      "36\r\n",
      "mae 0.6700461 mse 1.2123207\r\n",
      "--------------------\r\n",
      "48\r\n",
      "mae 0.7211041 mse 1.3771683\r\n",
      "--------------------\r\n",
      "60\r\n",
      "mae 0.7904452 mse 1.6392341\r\n",
      "--------------------\r\n",
      "mae mean 0.7028693\r\n",
      "mse mean 1.3364902\r\n",
      "\r\n",
      "CPU times: user 1.09 s, sys: 243 ms, total: 1.33 s\n",
      "Wall time: 1min 7s\n"
     ]
    }
   ],
   "source": [
    "%%time\n",
    "!python test_finetune.py --gpu 0 --batch_size 40 --mode tiny --data 'ill' --uni 0"
   ]
  }
 ],
 "metadata": {
  "kaggle": {
   "accelerator": "gpu",
   "dataSources": [],
   "dockerImageVersionId": 30648,
   "isGpuEnabled": true,
   "isInternetEnabled": true,
   "language": "python",
   "sourceType": "notebook"
  },
  "kernelspec": {
   "display_name": "Python 3",
   "language": "python",
   "name": "python3"
  },
  "language_info": {
   "codemirror_mode": {
    "name": "ipython",
    "version": 3
   },
   "file_extension": ".py",
   "mimetype": "text/x-python",
   "name": "python",
   "nbconvert_exporter": "python",
   "pygments_lexer": "ipython3",
   "version": "3.10.13"
  },
  "papermill": {
   "default_parameters": {},
   "duration": 5029.028587,
   "end_time": "2024-04-25T09:03:38.538389",
   "environment_variables": {},
   "exception": null,
   "input_path": "__notebook__.ipynb",
   "output_path": "__notebook__.ipynb",
   "parameters": {},
   "start_time": "2024-04-25T07:39:49.509802",
   "version": "2.5.0"
  }
 },
 "nbformat": 4,
 "nbformat_minor": 5
}
