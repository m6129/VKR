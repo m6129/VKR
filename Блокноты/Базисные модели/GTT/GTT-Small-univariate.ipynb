{
 "cells": [
  {
   "cell_type": "code",
   "execution_count": 1,
   "id": "e924eb74",
   "metadata": {
    "execution": {
     "iopub.execute_input": "2024-05-03T12:57:09.460626Z",
     "iopub.status.busy": "2024-05-03T12:57:09.460334Z",
     "iopub.status.idle": "2024-05-03T12:57:18.957477Z",
     "shell.execute_reply": "2024-05-03T12:57:18.956386Z"
    },
    "papermill": {
     "duration": 9.506457,
     "end_time": "2024-05-03T12:57:18.959881",
     "exception": false,
     "start_time": "2024-05-03T12:57:09.453424",
     "status": "completed"
    },
    "tags": []
   },
   "outputs": [
    {
     "name": "stdout",
     "output_type": "stream",
     "text": [
      "Cloning into 'GTT'...\r\n",
      "remote: Enumerating objects: 266, done.\u001b[K\r\n",
      "remote: Counting objects: 100% (40/40), done.\u001b[K\r\n",
      "remote: Compressing objects: 100% (37/37), done.\u001b[K\r\n",
      "remote: Total 266 (delta 20), reused 0 (delta 0), pack-reused 226\u001b[K\r\n",
      "Receiving objects: 100% (266/266), 229.68 MiB | 38.55 MiB/s, done.\r\n",
      "Resolving deltas: 100% (134/134), done.\r\n",
      "Updating files: 100% (40/40), done.\r\n"
     ]
    }
   ],
   "source": [
    "!git clone https://github.com/m6129/GTT.git"
   ]
  },
  {
   "cell_type": "code",
   "execution_count": 2,
   "id": "7b3e4286",
   "metadata": {
    "execution": {
     "iopub.execute_input": "2024-05-03T12:57:18.976268Z",
     "iopub.status.busy": "2024-05-03T12:57:18.975603Z",
     "iopub.status.idle": "2024-05-03T12:57:19.948550Z",
     "shell.execute_reply": "2024-05-03T12:57:19.947497Z"
    },
    "papermill": {
     "duration": 0.983394,
     "end_time": "2024-05-03T12:57:19.951025",
     "exception": false,
     "start_time": "2024-05-03T12:57:18.967631",
     "status": "completed"
    },
    "tags": []
   },
   "outputs": [
    {
     "name": "stdout",
     "output_type": "stream",
     "text": [
      "Python 3.10.13\r\n"
     ]
    }
   ],
   "source": [
    "!python --version"
   ]
  },
  {
   "cell_type": "code",
   "execution_count": 3,
   "id": "7e25977d",
   "metadata": {
    "execution": {
     "iopub.execute_input": "2024-05-03T12:57:19.968468Z",
     "iopub.status.busy": "2024-05-03T12:57:19.968141Z",
     "iopub.status.idle": "2024-05-03T12:57:35.672001Z",
     "shell.execute_reply": "2024-05-03T12:57:35.671056Z"
    },
    "papermill": {
     "duration": 15.715222,
     "end_time": "2024-05-03T12:57:35.674379",
     "exception": false,
     "start_time": "2024-05-03T12:57:19.959157",
     "status": "completed"
    },
    "tags": []
   },
   "outputs": [
    {
     "name": "stdout",
     "output_type": "stream",
     "text": [
      "Collecting auto_mix_prep==0.2.0\r\n",
      "  Downloading auto-mix-prep-0.2.0.tar.gz (2.9 kB)\r\n",
      "  Preparing metadata (setup.py) ... \u001b[?25l-\b \b\\\b \bdone\r\n",
      "\u001b[?25hRequirement already satisfied: pydub in /opt/conda/lib/python3.10/site-packages (from auto_mix_prep==0.2.0) (0.25.1)\r\n",
      "Building wheels for collected packages: auto_mix_prep\r\n",
      "  Building wheel for auto_mix_prep (setup.py) ... \u001b[?25l-\b \b\\\b \b|\b \bdone\r\n",
      "\u001b[?25h  Created wheel for auto_mix_prep: filename=auto_mix_prep-0.2.0-py3-none-any.whl size=3449 sha256=0f985ba377385717dc7bce3ed9c7a41126e3eed4f9a88a55cd54097b288bef07\r\n",
      "  Stored in directory: /root/.cache/pip/wheels/14/0e/82/6699c12200cd992629464f52929699432a57d29f593df25773\r\n",
      "Successfully built auto_mix_prep\r\n",
      "Installing collected packages: auto_mix_prep\r\n",
      "Successfully installed auto_mix_prep-0.2.0\r\n"
     ]
    }
   ],
   "source": [
    "!pip install auto_mix_prep==0.2.0"
   ]
  },
  {
   "cell_type": "markdown",
   "id": "0d13027e",
   "metadata": {
    "papermill": {
     "duration": 0.007481,
     "end_time": "2024-05-03T12:57:35.689941",
     "exception": false,
     "start_time": "2024-05-03T12:57:35.682460",
     "status": "completed"
    },
    "tags": []
   },
   "source": [
    "**zero-shot**"
   ]
  },
  {
   "cell_type": "code",
   "execution_count": 4,
   "id": "97164162",
   "metadata": {
    "execution": {
     "iopub.execute_input": "2024-05-03T12:57:35.707937Z",
     "iopub.status.busy": "2024-05-03T12:57:35.707224Z",
     "iopub.status.idle": "2024-05-03T12:57:35.713555Z",
     "shell.execute_reply": "2024-05-03T12:57:35.712765Z"
    },
    "papermill": {
     "duration": 0.017883,
     "end_time": "2024-05-03T12:57:35.715718",
     "exception": false,
     "start_time": "2024-05-03T12:57:35.697835",
     "status": "completed"
    },
    "tags": []
   },
   "outputs": [
    {
     "name": "stdout",
     "output_type": "stream",
     "text": [
      "/kaggle/working/GTT/src\n"
     ]
    }
   ],
   "source": [
    "cd /kaggle/working/GTT/src/"
   ]
  },
  {
   "cell_type": "code",
   "execution_count": 5,
   "id": "0bf4d4ab",
   "metadata": {
    "execution": {
     "iopub.execute_input": "2024-05-03T12:57:35.733318Z",
     "iopub.status.busy": "2024-05-03T12:57:35.733037Z",
     "iopub.status.idle": "2024-05-03T13:00:00.449853Z",
     "shell.execute_reply": "2024-05-03T13:00:00.448595Z"
    },
    "papermill": {
     "duration": 144.736616,
     "end_time": "2024-05-03T13:00:00.460583",
     "exception": false,
     "start_time": "2024-05-03T12:57:35.723967",
     "status": "completed"
    },
    "tags": []
   },
   "outputs": [
    {
     "name": "stdout",
     "output_type": "stream",
     "text": [
      "2024-05-03 12:57:39.188088: E external/local_xla/xla/stream_executor/cuda/cuda_dnn.cc:9261] Unable to register cuDNN factory: Attempting to register factory for plugin cuDNN when one has already been registered\r\n",
      "2024-05-03 12:57:39.188207: E external/local_xla/xla/stream_executor/cuda/cuda_fft.cc:607] Unable to register cuFFT factory: Attempting to register factory for plugin cuFFT when one has already been registered\r\n",
      "2024-05-03 12:57:39.324687: E external/local_xla/xla/stream_executor/cuda/cuda_blas.cc:1515] Unable to register cuBLAS factory: Attempting to register factory for plugin cuBLAS when one has already been registered\r\n",
      "freq: h\r\n",
      "0 / 720\r\n",
      "64 / 720\r\n",
      "128 / 720\r\n",
      "192 / 720\r\n",
      "256 / 720\r\n",
      "320 / 720\r\n",
      "384 / 720\r\n",
      "448 / 720\r\n",
      "512 / 720\r\n",
      "576 / 720\r\n",
      "640 / 720\r\n",
      "704 / 720\r\n",
      "24\r\n",
      "mae 0.12598202 mse 0.027996901\r\n",
      "--------------------\r\n",
      "96\r\n",
      "mae 0.17868786 mse 0.052989785\r\n",
      "--------------------\r\n",
      "192\r\n",
      "mae 0.19641101 mse 0.06284728\r\n",
      "--------------------\r\n",
      "336\r\n",
      "mae 0.20734248 mse 0.06881712\r\n",
      "--------------------\r\n",
      "720\r\n",
      "mae 0.22406143 mse 0.08125941\r\n",
      "--------------------\r\n",
      "mae mean 0.18649696\r\n",
      "mse mean 0.058782093\r\n",
      "\r\n",
      "WAPE 0.10301657\r\n",
      "NRMSE 0.13682124\r\n",
      "WAPE 0.14496568\r\n",
      "NRMSE 0.18675242\r\n",
      "WAPE 0.15732215\r\n",
      "NRMSE 0.20080166\r\n",
      "WAPE 0.1616921\r\n",
      "NRMSE 0.20457321\r\n",
      "WAPE 0.16576824\r\n",
      "NRMSE 0.2108973\r\n",
      "WAPE mean 0.14655295\r\n",
      "NRMSE mean 0.18796916\r\n",
      "\r\n",
      "CPU times: user 1.82 s, sys: 397 ms, total: 2.22 s\n",
      "Wall time: 2min 24s\n"
     ]
    }
   ],
   "source": [
    "%%time\n",
    "!python test_zeroshot.py --gpu 0 --batch_size 40 --mode small --data 'h1' --uni 1"
   ]
  },
  {
   "cell_type": "code",
   "execution_count": 6,
   "id": "5f22053f",
   "metadata": {
    "execution": {
     "iopub.execute_input": "2024-05-03T13:00:00.481289Z",
     "iopub.status.busy": "2024-05-03T13:00:00.480971Z",
     "iopub.status.idle": "2024-05-03T13:02:13.421934Z",
     "shell.execute_reply": "2024-05-03T13:02:13.420742Z"
    },
    "papermill": {
     "duration": 132.954242,
     "end_time": "2024-05-03T13:02:13.424012",
     "exception": false,
     "start_time": "2024-05-03T13:00:00.469770",
     "status": "completed"
    },
    "tags": []
   },
   "outputs": [
    {
     "name": "stdout",
     "output_type": "stream",
     "text": [
      "2024-05-03 13:00:02.253059: E external/local_xla/xla/stream_executor/cuda/cuda_dnn.cc:9261] Unable to register cuDNN factory: Attempting to register factory for plugin cuDNN when one has already been registered\r\n",
      "2024-05-03 13:00:02.253114: E external/local_xla/xla/stream_executor/cuda/cuda_fft.cc:607] Unable to register cuFFT factory: Attempting to register factory for plugin cuFFT when one has already been registered\r\n",
      "2024-05-03 13:00:02.254615: E external/local_xla/xla/stream_executor/cuda/cuda_blas.cc:1515] Unable to register cuBLAS factory: Attempting to register factory for plugin cuBLAS when one has already been registered\r\n",
      "freq: h\r\n",
      "0 / 720\r\n",
      "64 / 720\r\n",
      "128 / 720\r\n",
      "192 / 720\r\n",
      "256 / 720\r\n",
      "320 / 720\r\n",
      "384 / 720\r\n",
      "448 / 720\r\n",
      "512 / 720\r\n",
      "576 / 720\r\n",
      "640 / 720\r\n",
      "704 / 720\r\n",
      "24\r\n",
      "mae 0.1971867 mse 0.06939277\r\n",
      "--------------------\r\n",
      "96\r\n",
      "mae 0.27147257 mse 0.123285994\r\n",
      "--------------------\r\n",
      "192\r\n",
      "mae 0.30358985 mse 0.14851719\r\n",
      "--------------------\r\n",
      "336\r\n",
      "mae 0.3323001 mse 0.174641\r\n",
      "--------------------\r\n",
      "720\r\n",
      "mae 0.38655725 mse 0.23212008\r\n",
      "--------------------\r\n",
      "mae mean 0.2982213\r\n",
      "mse mean 0.14959142\r\n",
      "\r\n",
      "WAPE 0.21447365\r\n",
      "NRMSE 0.28651902\r\n",
      "WAPE 0.29187045\r\n",
      "NRMSE 0.37750357\r\n",
      "WAPE 0.31969443\r\n",
      "NRMSE 0.40582258\r\n",
      "WAPE 0.33479446\r\n",
      "NRMSE 0.42103764\r\n",
      "WAPE 0.35078773\r\n",
      "NRMSE 0.43720683\r\n",
      "WAPE mean 0.30232412\r\n",
      "NRMSE mean 0.38561794\r\n",
      "\r\n",
      "CPU times: user 1.61 s, sys: 373 ms, total: 1.99 s\n",
      "Wall time: 2min 12s\n"
     ]
    }
   ],
   "source": [
    "%%time\n",
    "!python test_zeroshot.py --gpu 0 --batch_size 40 --mode small --data 'h2' --uni 1"
   ]
  },
  {
   "cell_type": "code",
   "execution_count": 7,
   "id": "6c25a7a5",
   "metadata": {
    "execution": {
     "iopub.execute_input": "2024-05-03T13:02:13.447051Z",
     "iopub.status.busy": "2024-05-03T13:02:13.446743Z",
     "iopub.status.idle": "2024-05-03T13:12:08.203702Z",
     "shell.execute_reply": "2024-05-03T13:12:08.202464Z"
    },
    "papermill": {
     "duration": 594.771397,
     "end_time": "2024-05-03T13:12:08.206025",
     "exception": false,
     "start_time": "2024-05-03T13:02:13.434628",
     "status": "completed"
    },
    "tags": []
   },
   "outputs": [
    {
     "name": "stdout",
     "output_type": "stream",
     "text": [
      "2024-05-03 13:02:15.232192: E external/local_xla/xla/stream_executor/cuda/cuda_dnn.cc:9261] Unable to register cuDNN factory: Attempting to register factory for plugin cuDNN when one has already been registered\r\n",
      "2024-05-03 13:02:15.232247: E external/local_xla/xla/stream_executor/cuda/cuda_fft.cc:607] Unable to register cuFFT factory: Attempting to register factory for plugin cuFFT when one has already been registered\r\n",
      "2024-05-03 13:02:15.233770: E external/local_xla/xla/stream_executor/cuda/cuda_blas.cc:1515] Unable to register cuBLAS factory: Attempting to register factory for plugin cuBLAS when one has already been registered\r\n",
      "freq: 15min\r\n",
      "0 / 720\r\n",
      "64 / 720\r\n",
      "128 / 720\r\n",
      "192 / 720\r\n",
      "256 / 720\r\n",
      "320 / 720\r\n",
      "384 / 720\r\n",
      "448 / 720\r\n",
      "512 / 720\r\n",
      "576 / 720\r\n",
      "640 / 720\r\n",
      "704 / 720\r\n",
      "24\r\n",
      "mae 0.084919095 mse 0.012969703\r\n",
      "--------------------\r\n",
      "96\r\n",
      "mae 0.14192556 mse 0.03562769\r\n",
      "--------------------\r\n",
      "192\r\n",
      "mae 0.1786051 mse 0.056333154\r\n",
      "--------------------\r\n",
      "336\r\n",
      "mae 0.21211666 mse 0.07857098\r\n",
      "--------------------\r\n",
      "720\r\n",
      "mae 0.2675308 mse 0.122319005\r\n",
      "--------------------\r\n",
      "mae mean 0.17701945\r\n",
      "mse mean 0.061164103\r\n",
      "\r\n",
      "WAPE 0.064201325\r\n",
      "NRMSE 0.0861001\r\n",
      "WAPE 0.107091\r\n",
      "NRMSE 0.14242499\r\n",
      "WAPE 0.13452676\r\n",
      "NRMSE 0.17877093\r\n",
      "WAPE 0.15940374\r\n",
      "NRMSE 0.21064676\r\n",
      "WAPE 0.19917466\r\n",
      "NRMSE 0.2603798\r\n",
      "WAPE mean 0.1328795\r\n",
      "NRMSE mean 0.17566451\r\n",
      "\r\n",
      "CPU times: user 7.06 s, sys: 1.68 s, total: 8.73 s\n",
      "Wall time: 9min 54s\n"
     ]
    }
   ],
   "source": [
    "%%time\n",
    "!python test_zeroshot.py --gpu 0 --batch_size 40 --mode small --data 'm1' --uni 1"
   ]
  },
  {
   "cell_type": "code",
   "execution_count": 8,
   "id": "911769d1",
   "metadata": {
    "execution": {
     "iopub.execute_input": "2024-05-03T13:12:08.232374Z",
     "iopub.status.busy": "2024-05-03T13:12:08.231624Z",
     "iopub.status.idle": "2024-05-03T13:22:07.264552Z",
     "shell.execute_reply": "2024-05-03T13:22:07.263312Z"
    },
    "papermill": {
     "duration": 599.04813,
     "end_time": "2024-05-03T13:22:07.266594",
     "exception": false,
     "start_time": "2024-05-03T13:12:08.218464",
     "status": "completed"
    },
    "tags": []
   },
   "outputs": [
    {
     "name": "stdout",
     "output_type": "stream",
     "text": [
      "2024-05-03 13:12:09.975038: E external/local_xla/xla/stream_executor/cuda/cuda_dnn.cc:9261] Unable to register cuDNN factory: Attempting to register factory for plugin cuDNN when one has already been registered\r\n",
      "2024-05-03 13:12:09.975091: E external/local_xla/xla/stream_executor/cuda/cuda_fft.cc:607] Unable to register cuFFT factory: Attempting to register factory for plugin cuFFT when one has already been registered\r\n",
      "2024-05-03 13:12:09.976579: E external/local_xla/xla/stream_executor/cuda/cuda_blas.cc:1515] Unable to register cuBLAS factory: Attempting to register factory for plugin cuBLAS when one has already been registered\r\n",
      "freq: 15min\r\n",
      "0 / 720\r\n",
      "64 / 720\r\n",
      "128 / 720\r\n",
      "192 / 720\r\n",
      "256 / 720\r\n",
      "320 / 720\r\n",
      "384 / 720\r\n",
      "448 / 720\r\n",
      "512 / 720\r\n",
      "576 / 720\r\n",
      "640 / 720\r\n",
      "704 / 720\r\n",
      "24\r\n",
      "mae 0.121661894 mse 0.032178354\r\n",
      "--------------------\r\n",
      "96\r\n",
      "mae 0.22385855 mse 0.09330322\r\n",
      "--------------------\r\n",
      "192\r\n",
      "mae 0.28306273 mse 0.14284678\r\n",
      "--------------------\r\n",
      "336\r\n",
      "mae 0.33951566 mse 0.1977515\r\n",
      "--------------------\r\n",
      "720\r\n",
      "mae 0.42232686 mse 0.29492995\r\n",
      "--------------------\r\n",
      "mae mean 0.27808514\r\n",
      "mse mean 0.15220197\r\n",
      "\r\n",
      "WAPE 0.11155885\r\n",
      "NRMSE 0.16448691\r\n",
      "WAPE 0.20456655\r\n",
      "NRMSE 0.27913174\r\n",
      "WAPE 0.2579492\r\n",
      "NRMSE 0.34441867\r\n",
      "WAPE 0.30852875\r\n",
      "NRMSE 0.4041064\r\n",
      "WAPE 0.37940025\r\n",
      "NRMSE 0.48787478\r\n",
      "WAPE mean 0.25240073\r\n",
      "NRMSE mean 0.3360037\r\n",
      "\r\n",
      "CPU times: user 7.18 s, sys: 1.64 s, total: 8.82 s\n",
      "Wall time: 9min 59s\n"
     ]
    }
   ],
   "source": [
    "%%time\n",
    "!python test_zeroshot.py --gpu 0 --batch_size 40 --mode small --data 'm2' --uni 1"
   ]
  },
  {
   "cell_type": "code",
   "execution_count": 9,
   "id": "b8f4e5c6",
   "metadata": {
    "execution": {
     "iopub.execute_input": "2024-05-03T13:22:07.295403Z",
     "iopub.status.busy": "2024-05-03T13:22:07.295089Z",
     "iopub.status.idle": "2024-05-03T13:22:37.778610Z",
     "shell.execute_reply": "2024-05-03T13:22:37.777577Z"
    },
    "papermill": {
     "duration": 30.514599,
     "end_time": "2024-05-03T13:22:37.795101",
     "exception": false,
     "start_time": "2024-05-03T13:22:07.280502",
     "status": "completed"
    },
    "tags": []
   },
   "outputs": [
    {
     "name": "stdout",
     "output_type": "stream",
     "text": [
      "2024-05-03 13:22:09.040369: E external/local_xla/xla/stream_executor/cuda/cuda_dnn.cc:9261] Unable to register cuDNN factory: Attempting to register factory for plugin cuDNN when one has already been registered\r\n",
      "2024-05-03 13:22:09.040435: E external/local_xla/xla/stream_executor/cuda/cuda_fft.cc:607] Unable to register cuFFT factory: Attempting to register factory for plugin cuFFT when one has already been registered\r\n",
      "2024-05-03 13:22:09.041910: E external/local_xla/xla/stream_executor/cuda/cuda_blas.cc:1515] Unable to register cuBLAS factory: Attempting to register factory for plugin cuBLAS when one has already been registered\r\n",
      "freq: D\r\n",
      "0 / 720\r\n",
      "64 / 720\r\n",
      "128 / 720\r\n",
      "192 / 720\r\n",
      "256 / 720\r\n",
      "320 / 720\r\n",
      "384 / 720\r\n",
      "448 / 720\r\n",
      "512 / 720\r\n",
      "576 / 720\r\n",
      "640 / 720\r\n",
      "704 / 720\r\n",
      "24\r\n",
      "mae 0.12343019 mse 0.029117536\r\n",
      "--------------------\r\n",
      "96\r\n",
      "mae 0.296913 mse 0.14852823\r\n",
      "--------------------\r\n",
      "192\r\n",
      "mae 0.50155085 mse 0.36500221\r\n",
      "--------------------\r\n",
      "336\r\n",
      "mae 0.8417208 mse 0.98558253\r\n",
      "--------------------\r\n",
      "720\r\n",
      "mae 1.2806906 mse 2.0279074\r\n",
      "--------------------\r\n",
      "mae mean 0.6088611\r\n",
      "mse mean 0.71122754\r\n",
      "\r\n",
      "WAPE 0.051901594\r\n",
      "NRMSE 0.07175242\r\n",
      "WAPE 0.1335953\r\n",
      "NRMSE 0.17340696\r\n",
      "WAPE 0.24921979\r\n",
      "NRMSE 0.30020317\r\n",
      "WAPE 0.501176\r\n",
      "NRMSE 0.5911105\r\n",
      "WAPE 1.027552\r\n",
      "NRMSE 1.1425723\r\n",
      "WAPE mean 0.39268893\r\n",
      "NRMSE mean 0.45580912\r\n",
      "\r\n",
      "CPU times: user 364 ms, sys: 95.9 ms, total: 460 ms\n",
      "Wall time: 30.5 s\n"
     ]
    }
   ],
   "source": [
    "%%time\n",
    "!python test_zeroshot.py --gpu 0 --batch_size 40 --mode small --data 'exchange_rate' --uni 1"
   ]
  },
  {
   "cell_type": "code",
   "execution_count": 10,
   "id": "aa038b66",
   "metadata": {
    "execution": {
     "iopub.execute_input": "2024-05-03T13:22:37.826278Z",
     "iopub.status.busy": "2024-05-03T13:22:37.825659Z",
     "iopub.status.idle": "2024-05-03T13:34:43.756770Z",
     "shell.execute_reply": "2024-05-03T13:34:43.755480Z"
    },
    "papermill": {
     "duration": 725.9493,
     "end_time": "2024-05-03T13:34:43.759137",
     "exception": false,
     "start_time": "2024-05-03T13:22:37.809837",
     "status": "completed"
    },
    "tags": []
   },
   "outputs": [
    {
     "name": "stdout",
     "output_type": "stream",
     "text": [
      "2024-05-03 13:22:39.579177: E external/local_xla/xla/stream_executor/cuda/cuda_dnn.cc:9261] Unable to register cuDNN factory: Attempting to register factory for plugin cuDNN when one has already been registered\r\n",
      "2024-05-03 13:22:39.579229: E external/local_xla/xla/stream_executor/cuda/cuda_fft.cc:607] Unable to register cuFFT factory: Attempting to register factory for plugin cuFFT when one has already been registered\r\n",
      "2024-05-03 13:22:39.580679: E external/local_xla/xla/stream_executor/cuda/cuda_blas.cc:1515] Unable to register cuBLAS factory: Attempting to register factory for plugin cuBLAS when one has already been registered\r\n",
      "freq: None\r\n",
      "0 / 720\r\n",
      "64 / 720\r\n",
      "128 / 720\r\n",
      "192 / 720\r\n",
      "256 / 720\r\n",
      "320 / 720\r\n",
      "384 / 720\r\n",
      "448 / 720\r\n",
      "512 / 720\r\n",
      "576 / 720\r\n",
      "640 / 720\r\n",
      "704 / 720\r\n",
      "24\r\n",
      "mae 0.01086662 mse 0.00028865703\r\n",
      "--------------------\r\n",
      "96\r\n",
      "mae 0.019302012 mse 0.0007693135\r\n",
      "--------------------\r\n",
      "192\r\n",
      "mae 0.02375923 mse 0.0010847277\r\n",
      "--------------------\r\n",
      "336\r\n",
      "mae 0.027092261 mse 0.0013542948\r\n",
      "--------------------\r\n",
      "720\r\n",
      "mae 0.03350055 mse 0.0020460316\r\n",
      "--------------------\r\n",
      "mae mean 0.022904133\r\n",
      "mse mean 0.001108605\r\n",
      "\r\n",
      "WAPE 0.15660779\r\n",
      "NRMSE 0.24485554\r\n",
      "WAPE 0.27850786\r\n",
      "NRMSE 0.4002087\r\n",
      "WAPE 0.34299698\r\n",
      "NRMSE 0.47546476\r\n",
      "WAPE 0.39105603\r\n",
      "NRMSE 0.5311906\r\n",
      "WAPE 0.4827734\r\n",
      "NRMSE 0.65184987\r\n",
      "WAPE mean 0.33038843\r\n",
      "NRMSE mean 0.46071386\r\n",
      "\r\n",
      "CPU times: user 8.63 s, sys: 2.02 s, total: 10.6 s\n",
      "Wall time: 12min 5s\n"
     ]
    }
   ],
   "source": [
    "%%time\n",
    "!python test_zeroshot.py --gpu 0 --batch_size 40 --mode small --data 'weather' --uni 1"
   ]
  },
  {
   "cell_type": "code",
   "execution_count": 11,
   "id": "47be8dd8",
   "metadata": {
    "execution": {
     "iopub.execute_input": "2024-05-03T13:34:43.794708Z",
     "iopub.status.busy": "2024-05-03T13:34:43.794141Z",
     "iopub.status.idle": "2024-05-03T13:34:57.247956Z",
     "shell.execute_reply": "2024-05-03T13:34:57.246424Z"
    },
    "papermill": {
     "duration": 13.474087,
     "end_time": "2024-05-03T13:34:57.250264",
     "exception": false,
     "start_time": "2024-05-03T13:34:43.776177",
     "status": "completed"
    },
    "tags": []
   },
   "outputs": [
    {
     "name": "stdout",
     "output_type": "stream",
     "text": [
      "2024-05-03 13:34:45.575436: E external/local_xla/xla/stream_executor/cuda/cuda_dnn.cc:9261] Unable to register cuDNN factory: Attempting to register factory for plugin cuDNN when one has already been registered\r\n",
      "2024-05-03 13:34:45.575495: E external/local_xla/xla/stream_executor/cuda/cuda_fft.cc:607] Unable to register cuFFT factory: Attempting to register factory for plugin cuFFT when one has already been registered\r\n",
      "2024-05-03 13:34:45.576962: E external/local_xla/xla/stream_executor/cuda/cuda_blas.cc:1515] Unable to register cuBLAS factory: Attempting to register factory for plugin cuBLAS when one has already been registered\r\n",
      "freq: W-TUE\r\n",
      "0 / 60\r\n",
      "24\r\n",
      "mae 0.5704373 mse 0.5674038\r\n",
      "--------------------\r\n",
      "36\r\n",
      "mae 0.62157565 mse 0.63927126\r\n",
      "--------------------\r\n",
      "48\r\n",
      "mae 0.6618502 mse 0.6977506\r\n",
      "--------------------\r\n",
      "60\r\n",
      "mae 0.72489524 mse 0.83646876\r\n",
      "--------------------\r\n",
      "mae mean 0.6446896\r\n",
      "mse mean 0.6852236\r\n",
      "\r\n",
      "WAPE 0.26097974\r\n",
      "NRMSE 0.3446236\r\n",
      "WAPE 0.2764024\r\n",
      "NRMSE 0.3555416\r\n",
      "WAPE 0.28379205\r\n",
      "NRMSE 0.35817116\r\n",
      "WAPE 0.30007803\r\n",
      "NRMSE 0.37860283\r\n",
      "WAPE mean 0.28031304\r\n",
      "NRMSE mean 0.35923478\r\n",
      "\r\n",
      "CPU times: user 165 ms, sys: 38.6 ms, total: 204 ms\n",
      "Wall time: 13.4 s\n"
     ]
    }
   ],
   "source": [
    "%%time\n",
    "!python test_zeroshot.py --gpu 0 --batch_size 40 --mode small --data 'ill' --uni 1"
   ]
  },
  {
   "cell_type": "markdown",
   "id": "ef485542",
   "metadata": {
    "papermill": {
     "duration": 0.01795,
     "end_time": "2024-05-03T13:34:57.287551",
     "exception": false,
     "start_time": "2024-05-03T13:34:57.269601",
     "status": "completed"
    },
    "tags": []
   },
   "source": [
    "**few-shot**\n"
   ]
  },
  {
   "cell_type": "code",
   "execution_count": 12,
   "id": "c21eacfc",
   "metadata": {
    "execution": {
     "iopub.execute_input": "2024-05-03T13:34:57.325450Z",
     "iopub.status.busy": "2024-05-03T13:34:57.325082Z",
     "iopub.status.idle": "2024-05-03T13:43:16.992938Z",
     "shell.execute_reply": "2024-05-03T13:43:16.991764Z"
    },
    "papermill": {
     "duration": 499.70139,
     "end_time": "2024-05-03T13:43:17.006831",
     "exception": false,
     "start_time": "2024-05-03T13:34:57.305441",
     "status": "completed"
    },
    "tags": []
   },
   "outputs": [
    {
     "name": "stdout",
     "output_type": "stream",
     "text": [
      "2024-05-03 13:34:59.119544: E external/local_xla/xla/stream_executor/cuda/cuda_dnn.cc:9261] Unable to register cuDNN factory: Attempting to register factory for plugin cuDNN when one has already been registered\r\n",
      "2024-05-03 13:34:59.119596: E external/local_xla/xla/stream_executor/cuda/cuda_fft.cc:607] Unable to register cuFFT factory: Attempting to register factory for plugin cuFFT when one has already been registered\r\n",
      "2024-05-03 13:34:59.121058: E external/local_xla/xla/stream_executor/cuda/cuda_blas.cc:1515] Unable to register cuBLAS factory: Attempting to register factory for plugin cuBLAS when one has already been registered\r\n",
      "freq: h\r\n",
      "Epoch 1/30\r\n",
      "WARNING: All log messages before absl::InitializeLog() is called are written to STDERR\r\n",
      "I0000 00:00:1714743321.142910   12932 device_compiler.h:186] Compiled cluster using XLA!  This line is logged at most once for the lifetime of the process.\r\n",
      "213/213 [==============================] - 81s 322ms/step - loss: 0.5853 - val_loss: 0.8232\r\n",
      "Epoch 2/30\r\n",
      "213/213 [==============================] - 66s 311ms/step - loss: 0.5081 - val_loss: 0.7937\r\n",
      "Epoch 3/30\r\n",
      "213/213 [==============================] - 66s 310ms/step - loss: 0.4894 - val_loss: 0.7890\r\n",
      "Epoch 4/30\r\n",
      "213/213 [==============================] - 66s 310ms/step - loss: 0.4832 - val_loss: 0.7887\r\n",
      "Epoch 5/30\r\n",
      "213/213 [==============================] - 65s 307ms/step - loss: 0.4770 - val_loss: 0.7900\r\n",
      "Epoch 6/30\r\n",
      "213/213 [==============================] - 66s 309ms/step - loss: 0.4730 - val_loss: 0.7914\r\n",
      "Epoch 7/30\r\n",
      "213/213 [==============================] - 66s 309ms/step - loss: 0.4688 - val_loss: 0.7915\r\n",
      "24\r\n",
      "mae 0.34428334 mse 0.3037547\r\n",
      "--------------------\r\n",
      "96\r\n",
      "mae 0.38098484 mse 0.36515272\r\n",
      "--------------------\r\n",
      "192\r\n",
      "mae 0.40392235 mse 0.406391\r\n",
      "--------------------\r\n",
      "336\r\n",
      "mae 0.43075258 mse 0.4464304\r\n",
      "--------------------\r\n",
      "720\r\n",
      "mae 0.49208358 mse 0.5279006\r\n",
      "--------------------\r\n",
      "mae mean 0.41040534\r\n",
      "mse mean 0.40992585\r\n",
      "\r\n",
      "CPU times: user 6.68 s, sys: 1.62 s, total: 8.3 s\n",
      "Wall time: 8min 19s\n"
     ]
    }
   ],
   "source": [
    "%%time\n",
    "!python test_finetune.py --gpu 0 --batch_size 40 --mode small --data 'h1' --uni 1"
   ]
  },
  {
   "cell_type": "code",
   "execution_count": 13,
   "id": "5501c326",
   "metadata": {
    "execution": {
     "iopub.execute_input": "2024-05-03T13:43:17.277435Z",
     "iopub.status.busy": "2024-05-03T13:43:17.277056Z",
     "iopub.status.idle": "2024-05-03T13:49:25.432767Z",
     "shell.execute_reply": "2024-05-03T13:49:25.431570Z"
    },
    "papermill": {
     "duration": 368.292919,
     "end_time": "2024-05-03T13:49:25.434837",
     "exception": false,
     "start_time": "2024-05-03T13:43:17.141918",
     "status": "completed"
    },
    "tags": []
   },
   "outputs": [
    {
     "name": "stdout",
     "output_type": "stream",
     "text": [
      "2024-05-03 13:43:19.040299: E external/local_xla/xla/stream_executor/cuda/cuda_dnn.cc:9261] Unable to register cuDNN factory: Attempting to register factory for plugin cuDNN when one has already been registered\r\n",
      "2024-05-03 13:43:19.040359: E external/local_xla/xla/stream_executor/cuda/cuda_fft.cc:607] Unable to register cuFFT factory: Attempting to register factory for plugin cuFFT when one has already been registered\r\n",
      "2024-05-03 13:43:19.043644: E external/local_xla/xla/stream_executor/cuda/cuda_blas.cc:1515] Unable to register cuBLAS factory: Attempting to register factory for plugin cuBLAS when one has already been registered\r\n",
      "freq: h\r\n",
      "Epoch 1/30\r\n",
      "WARNING: All log messages before absl::InitializeLog() is called are written to STDERR\r\n",
      "I0000 00:00:1714743821.206190   13293 device_compiler.h:186] Compiled cluster using XLA!  This line is logged at most once for the lifetime of the process.\r\n",
      "213/213 [==============================] - 81s 323ms/step - loss: 0.5824 - val_loss: 0.5480\r\n",
      "Epoch 2/30\r\n",
      "213/213 [==============================] - 66s 311ms/step - loss: 0.5236 - val_loss: 0.5360\r\n",
      "Epoch 3/30\r\n",
      "213/213 [==============================] - 66s 309ms/step - loss: 0.4993 - val_loss: 0.5444\r\n",
      "Epoch 4/30\r\n",
      "213/213 [==============================] - 66s 309ms/step - loss: 0.4893 - val_loss: 0.5466\r\n",
      "Epoch 5/30\r\n",
      "213/213 [==============================] - 66s 308ms/step - loss: 0.4785 - val_loss: 0.5486\r\n",
      "24\r\n",
      "mae 0.23678687 mse 0.14140281\r\n",
      "--------------------\r\n",
      "96\r\n",
      "mae 0.29384637 mse 0.22055902\r\n",
      "--------------------\r\n",
      "192\r\n",
      "mae 0.32544568 mse 0.26282367\r\n",
      "--------------------\r\n",
      "336\r\n",
      "mae 0.35562366 mse 0.29897118\r\n",
      "--------------------\r\n",
      "720\r\n",
      "mae 0.4163672 mse 0.37670356\r\n",
      "--------------------\r\n",
      "mae mean 0.32561395\r\n",
      "mse mean 0.26009208\r\n",
      "\r\n",
      "CPU times: user 5.29 s, sys: 1.17 s, total: 6.46 s\n",
      "Wall time: 6min 8s\n"
     ]
    }
   ],
   "source": [
    "%%time\n",
    "!python test_finetune.py --gpu 0 --batch_size 40 --mode small --data 'h2' --uni 1"
   ]
  },
  {
   "cell_type": "code",
   "execution_count": 14,
   "id": "f753de92",
   "metadata": {
    "execution": {
     "iopub.execute_input": "2024-05-03T13:49:25.874714Z",
     "iopub.status.busy": "2024-05-03T13:49:25.873960Z",
     "iopub.status.idle": "2024-05-03T14:24:48.264434Z",
     "shell.execute_reply": "2024-05-03T14:24:48.263064Z"
    },
    "papermill": {
     "duration": 2122.613204,
     "end_time": "2024-05-03T14:24:48.266766",
     "exception": false,
     "start_time": "2024-05-03T13:49:25.653562",
     "status": "completed"
    },
    "tags": []
   },
   "outputs": [
    {
     "name": "stdout",
     "output_type": "stream",
     "text": [
      "2024-05-03 13:49:27.696398: E external/local_xla/xla/stream_executor/cuda/cuda_dnn.cc:9261] Unable to register cuDNN factory: Attempting to register factory for plugin cuDNN when one has already been registered\r\n",
      "2024-05-03 13:49:27.696448: E external/local_xla/xla/stream_executor/cuda/cuda_fft.cc:607] Unable to register cuFFT factory: Attempting to register factory for plugin cuFFT when one has already been registered\r\n",
      "2024-05-03 13:49:27.697938: E external/local_xla/xla/stream_executor/cuda/cuda_blas.cc:1515] Unable to register cuBLAS factory: Attempting to register factory for plugin cuBLAS when one has already been registered\r\n",
      "freq: 15min\r\n",
      "Epoch 1/30\r\n",
      "WARNING: All log messages before absl::InitializeLog() is called are written to STDERR\r\n",
      "I0000 00:00:1714744190.249642   13613 device_compiler.h:186] Compiled cluster using XLA!  This line is logged at most once for the lifetime of the process.\r\n",
      "861/861 [==============================] - 273s 302ms/step - loss: 0.4463 - val_loss: 0.6326\r\n",
      "Epoch 2/30\r\n",
      "861/861 [==============================] - 257s 299ms/step - loss: 0.4220 - val_loss: 0.6328\r\n",
      "Epoch 3/30\r\n",
      "861/861 [==============================] - 257s 298ms/step - loss: 0.4177 - val_loss: 0.6297\r\n",
      "Epoch 4/30\r\n",
      "861/861 [==============================] - 256s 298ms/step - loss: 0.4149 - val_loss: 0.6302\r\n",
      "Epoch 5/30\r\n",
      "861/861 [==============================] - 257s 298ms/step - loss: 0.4131 - val_loss: 0.6294\r\n",
      "Epoch 6/30\r\n",
      "861/861 [==============================] - 256s 298ms/step - loss: 0.4116 - val_loss: 0.6298\r\n",
      "Epoch 7/30\r\n",
      "861/861 [==============================] - 256s 298ms/step - loss: 0.4107 - val_loss: 0.6311\r\n",
      "Epoch 8/30\r\n",
      "861/861 [==============================] - 256s 298ms/step - loss: 0.4098 - val_loss: 0.6309\r\n",
      "24\r\n",
      "mae 0.2648726 mse 0.19580671\r\n",
      "--------------------\r\n",
      "96\r\n",
      "mae 0.3336467 mse 0.28790656\r\n",
      "--------------------\r\n",
      "192\r\n",
      "mae 0.35876724 mse 0.32824507\r\n",
      "--------------------\r\n",
      "336\r\n",
      "mae 0.38063788 mse 0.36564377\r\n",
      "--------------------\r\n",
      "720\r\n",
      "mae 0.4142644 mse 0.42681414\r\n",
      "--------------------\r\n",
      "mae mean 0.3504378\r\n",
      "mse mean 0.3208832\r\n",
      "\r\n",
      "CPU times: user 30.1 s, sys: 6.86 s, total: 37 s\n",
      "Wall time: 35min 22s\n"
     ]
    }
   ],
   "source": [
    "%%time\n",
    "!python test_finetune.py --gpu 0 --batch_size 40 --mode small --data 'm1' --uni 1"
   ]
  },
  {
   "cell_type": "code",
   "execution_count": 15,
   "id": "f86f345b",
   "metadata": {
    "execution": {
     "iopub.execute_input": "2024-05-03T14:24:49.850787Z",
     "iopub.status.busy": "2024-05-03T14:24:49.850411Z",
     "iopub.status.idle": "2024-05-03T14:43:07.153760Z",
     "shell.execute_reply": "2024-05-03T14:43:07.152431Z"
    },
    "papermill": {
     "duration": 1098.071869,
     "end_time": "2024-05-03T14:43:07.155874",
     "exception": false,
     "start_time": "2024-05-03T14:24:49.084005",
     "status": "completed"
    },
    "tags": []
   },
   "outputs": [
    {
     "name": "stdout",
     "output_type": "stream",
     "text": [
      "2024-05-03 14:24:51.667863: E external/local_xla/xla/stream_executor/cuda/cuda_dnn.cc:9261] Unable to register cuDNN factory: Attempting to register factory for plugin cuDNN when one has already been registered\r\n",
      "2024-05-03 14:24:51.667919: E external/local_xla/xla/stream_executor/cuda/cuda_fft.cc:607] Unable to register cuFFT factory: Attempting to register factory for plugin cuFFT when one has already been registered\r\n",
      "2024-05-03 14:24:51.669403: E external/local_xla/xla/stream_executor/cuda/cuda_blas.cc:1515] Unable to register cuBLAS factory: Attempting to register factory for plugin cuBLAS when one has already been registered\r\n",
      "freq: 15min\r\n",
      "Epoch 1/30\r\n",
      "WARNING: All log messages before absl::InitializeLog() is called are written to STDERR\r\n",
      "I0000 00:00:1714746314.274515   14051 device_compiler.h:186] Compiled cluster using XLA!  This line is logged at most once for the lifetime of the process.\r\n",
      "861/861 [==============================] - 273s 302ms/step - loss: 0.3892 - val_loss: 0.3490\r\n",
      "Epoch 2/30\r\n",
      "861/861 [==============================] - 257s 299ms/step - loss: 0.3673 - val_loss: 0.3506\r\n",
      "Epoch 3/30\r\n",
      "861/861 [==============================] - 257s 299ms/step - loss: 0.3590 - val_loss: 0.3523\r\n",
      "Epoch 4/30\r\n",
      "861/861 [==============================] - 257s 298ms/step - loss: 0.3558 - val_loss: 0.3540\r\n",
      "24\r\n",
      "mae 0.18201885 mse 0.09195037\r\n",
      "--------------------\r\n",
      "96\r\n",
      "mae 0.24127647 mse 0.15807196\r\n",
      "--------------------\r\n",
      "192\r\n",
      "mae 0.279696 mse 0.21175069\r\n",
      "--------------------\r\n",
      "336\r\n",
      "mae 0.31494755 mse 0.26392755\r\n",
      "--------------------\r\n",
      "720\r\n",
      "mae 0.36835238 mse 0.34157833\r\n",
      "--------------------\r\n",
      "mae mean 0.27725825\r\n",
      "mse mean 0.2134558\r\n",
      "\r\n",
      "CPU times: user 16.9 s, sys: 3.69 s, total: 20.6 s\n",
      "Wall time: 18min 17s\n"
     ]
    }
   ],
   "source": [
    "%%time\n",
    "!python test_finetune.py --gpu 0 --batch_size 40 --mode small --data 'm2' --uni 1"
   ]
  },
  {
   "cell_type": "code",
   "execution_count": 16,
   "id": "ade9d001",
   "metadata": {
    "execution": {
     "iopub.execute_input": "2024-05-03T14:43:09.216710Z",
     "iopub.status.busy": "2024-05-03T14:43:09.216355Z",
     "iopub.status.idle": "2024-05-03T14:47:55.679849Z",
     "shell.execute_reply": "2024-05-03T14:47:55.678434Z"
    },
    "papermill": {
     "duration": 287.499311,
     "end_time": "2024-05-03T14:47:55.682265",
     "exception": false,
     "start_time": "2024-05-03T14:43:08.182954",
     "status": "completed"
    },
    "tags": []
   },
   "outputs": [
    {
     "name": "stdout",
     "output_type": "stream",
     "text": [
      "2024-05-03 14:43:10.966012: E external/local_xla/xla/stream_executor/cuda/cuda_dnn.cc:9261] Unable to register cuDNN factory: Attempting to register factory for plugin cuDNN when one has already been registered\r\n",
      "2024-05-03 14:43:10.966066: E external/local_xla/xla/stream_executor/cuda/cuda_fft.cc:607] Unable to register cuFFT factory: Attempting to register factory for plugin cuFFT when one has already been registered\r\n",
      "2024-05-03 14:43:10.967571: E external/local_xla/xla/stream_executor/cuda/cuda_blas.cc:1515] Unable to register cuBLAS factory: Attempting to register factory for plugin cuBLAS when one has already been registered\r\n",
      "freq: D\r\n",
      "Epoch 1/30\r\n",
      "WARNING: All log messages before absl::InitializeLog() is called are written to STDERR\r\n",
      "I0000 00:00:1714747412.868467   14401 device_compiler.h:186] Compiled cluster using XLA!  This line is logged at most once for the lifetime of the process.\r\n",
      "125/125 [==============================] - 57s 362ms/step - loss: 1.0940 - val_loss: 0.4304\r\n",
      "Epoch 2/30\r\n",
      "125/125 [==============================] - 42s 339ms/step - loss: 0.8305 - val_loss: 0.4310\r\n",
      "Epoch 3/30\r\n",
      "125/125 [==============================] - 43s 343ms/step - loss: 0.7311 - val_loss: 0.3982\r\n",
      "Epoch 4/30\r\n",
      "125/125 [==============================] - 42s 338ms/step - loss: 0.6790 - val_loss: 0.4061\r\n",
      "Epoch 5/30\r\n",
      "125/125 [==============================] - 43s 341ms/step - loss: 0.6111 - val_loss: 0.5007\r\n",
      "Epoch 6/30\r\n",
      "125/125 [==============================] - 42s 339ms/step - loss: 0.5304 - val_loss: 0.5779\r\n",
      "24\r\n",
      "mae 0.141837 mse 0.033317056\r\n",
      "--------------------\r\n",
      "96\r\n",
      "mae 0.29460043 mse 0.14463848\r\n",
      "--------------------\r\n",
      "192\r\n",
      "mae 0.49628815 mse 0.3645417\r\n",
      "--------------------\r\n",
      "336\r\n",
      "mae 0.83138126 mse 0.9522911\r\n",
      "--------------------\r\n",
      "720\r\n",
      "mae 1.2913314 mse 2.098774\r\n",
      "--------------------\r\n",
      "mae mean 0.6110876\r\n",
      "mse mean 0.71871245\r\n",
      "\r\n",
      "CPU times: user 3.7 s, sys: 903 ms, total: 4.6 s\n",
      "Wall time: 4min 46s\n"
     ]
    }
   ],
   "source": [
    "%%time\n",
    "!python test_finetune.py --gpu 0 --batch_size 40 --mode small --data 'exchange_rate' --uni 1"
   ]
  },
  {
   "cell_type": "code",
   "execution_count": 17,
   "id": "394d5025",
   "metadata": {
    "execution": {
     "iopub.execute_input": "2024-05-03T14:47:57.932483Z",
     "iopub.status.busy": "2024-05-03T14:47:57.931659Z",
     "iopub.status.idle": "2024-05-03T16:02:26.547874Z",
     "shell.execute_reply": "2024-05-03T16:02:26.546638Z"
    },
    "papermill": {
     "duration": 4469.769438,
     "end_time": "2024-05-03T16:02:26.550137",
     "exception": false,
     "start_time": "2024-05-03T14:47:56.780699",
     "status": "completed"
    },
    "tags": []
   },
   "outputs": [
    {
     "name": "stdout",
     "output_type": "stream",
     "text": [
      "2024-05-03 14:47:59.679844: E external/local_xla/xla/stream_executor/cuda/cuda_dnn.cc:9261] Unable to register cuDNN factory: Attempting to register factory for plugin cuDNN when one has already been registered\r\n",
      "2024-05-03 14:47:59.679897: E external/local_xla/xla/stream_executor/cuda/cuda_fft.cc:607] Unable to register cuFFT factory: Attempting to register factory for plugin cuFFT when one has already been registered\r\n",
      "2024-05-03 14:47:59.681329: E external/local_xla/xla/stream_executor/cuda/cuda_blas.cc:1515] Unable to register cuBLAS factory: Attempting to register factory for plugin cuBLAS when one has already been registered\r\n",
      "freq: None\r\n",
      "Epoch 1/30\r\n",
      "WARNING: All log messages before absl::InitializeLog() is called are written to STDERR\r\n",
      "I0000 00:00:1714747707.324458   14731 device_compiler.h:186] Compiled cluster using XLA!  This line is logged at most once for the lifetime of the process.\r\n",
      "919/919 [==============================] - 500s 531ms/step - loss: 0.4093 - val_loss: 0.3916\r\n",
      "Epoch 2/30\r\n",
      "919/919 [==============================] - 485s 528ms/step - loss: 0.3893 - val_loss: 0.3893\r\n",
      "Epoch 3/30\r\n",
      "919/919 [==============================] - 485s 528ms/step - loss: 0.3864 - val_loss: 0.3895\r\n",
      "Epoch 4/30\r\n",
      "919/919 [==============================] - 486s 529ms/step - loss: 0.3846 - val_loss: 0.3881\r\n",
      "Epoch 5/30\r\n",
      "919/919 [==============================] - 485s 528ms/step - loss: 0.3836 - val_loss: 0.3883\r\n",
      "Epoch 6/30\r\n",
      "919/919 [==============================] - 486s 528ms/step - loss: 0.3825 - val_loss: 0.3872\r\n",
      "Epoch 7/30\r\n",
      "919/919 [==============================] - 485s 528ms/step - loss: 0.3821 - val_loss: 0.3887\r\n",
      "Epoch 8/30\r\n",
      "919/919 [==============================] - 485s 528ms/step - loss: 0.3817 - val_loss: 0.3905\r\n",
      "Epoch 9/30\r\n",
      "919/919 [==============================] - 485s 528ms/step - loss: 0.3811 - val_loss: 0.3905\r\n",
      "24\r\n",
      "mae 0.09846809 mse 0.08568331\r\n",
      "--------------------\r\n",
      "96\r\n",
      "mae 0.17018081 mse 0.13471647\r\n",
      "--------------------\r\n",
      "192\r\n",
      "mae 0.2179397 mse 0.17885518\r\n",
      "--------------------\r\n",
      "336\r\n",
      "mae 0.26167846 mse 0.23004474\r\n",
      "--------------------\r\n",
      "720\r\n",
      "mae 0.31419158 mse 0.3020788\r\n",
      "--------------------\r\n",
      "mae mean 0.21249172\r\n",
      "mse mean 0.18627569\r\n",
      "\r\n",
      "CPU times: user 59.9 s, sys: 13.3 s, total: 1min 13s\n",
      "Wall time: 1h 14min 28s\n"
     ]
    }
   ],
   "source": [
    "%%time\n",
    "!python test_finetune.py --gpu 0 --batch_size 40 --mode small --data 'weather' --uni 1"
   ]
  },
  {
   "cell_type": "code",
   "execution_count": 18,
   "id": "2b47d2d6",
   "metadata": {
    "execution": {
     "iopub.execute_input": "2024-05-03T16:02:30.158954Z",
     "iopub.status.busy": "2024-05-03T16:02:30.158134Z",
     "iopub.status.idle": "2024-05-03T16:05:08.511656Z",
     "shell.execute_reply": "2024-05-03T16:05:08.510249Z"
    },
    "papermill": {
     "duration": 160.208119,
     "end_time": "2024-05-03T16:05:08.513688",
     "exception": false,
     "start_time": "2024-05-03T16:02:28.305569",
     "status": "completed"
    },
    "tags": []
   },
   "outputs": [
    {
     "name": "stdout",
     "output_type": "stream",
     "text": [
      "2024-05-03 16:02:31.909963: E external/local_xla/xla/stream_executor/cuda/cuda_dnn.cc:9261] Unable to register cuDNN factory: Attempting to register factory for plugin cuDNN when one has already been registered\r\n",
      "2024-05-03 16:02:31.910018: E external/local_xla/xla/stream_executor/cuda/cuda_fft.cc:607] Unable to register cuFFT factory: Attempting to register factory for plugin cuFFT when one has already been registered\r\n",
      "2024-05-03 16:02:31.911468: E external/local_xla/xla/stream_executor/cuda/cuda_blas.cc:1515] Unable to register cuBLAS factory: Attempting to register factory for plugin cuBLAS when one has already been registered\r\n",
      "freq: W-TUE\r\n",
      "Epoch 1/30\r\n",
      "WARNING: All log messages before absl::InitializeLog() is called are written to STDERR\r\n",
      "I0000 00:00:1714752173.814564   15184 device_compiler.h:186] Compiled cluster using XLA!  This line is logged at most once for the lifetime of the process.\r\n",
      "15/15 [==============================] - 20s 497ms/step - loss: 0.7125 - val_loss: 0.7393\r\n",
      "Epoch 2/30\r\n",
      "15/15 [==============================] - 5s 323ms/step - loss: 0.6530 - val_loss: 0.7064\r\n",
      "Epoch 3/30\r\n",
      "15/15 [==============================] - 5s 325ms/step - loss: 0.6262 - val_loss: 0.6773\r\n",
      "Epoch 4/30\r\n",
      "15/15 [==============================] - 5s 321ms/step - loss: 0.5781 - val_loss: 0.6483\r\n",
      "Epoch 5/30\r\n",
      "15/15 [==============================] - 5s 321ms/step - loss: 0.5438 - val_loss: 0.6239\r\n",
      "Epoch 6/30\r\n",
      "15/15 [==============================] - 5s 322ms/step - loss: 0.5184 - val_loss: 0.6029\r\n",
      "Epoch 7/30\r\n",
      "15/15 [==============================] - 5s 321ms/step - loss: 0.4948 - val_loss: 0.5818\r\n",
      "Epoch 8/30\r\n",
      "15/15 [==============================] - 5s 324ms/step - loss: 0.4702 - val_loss: 0.5705\r\n",
      "Epoch 9/30\r\n",
      "15/15 [==============================] - 5s 323ms/step - loss: 0.4589 - val_loss: 0.5564\r\n",
      "Epoch 10/30\r\n",
      "15/15 [==============================] - 5s 321ms/step - loss: 0.4453 - val_loss: 0.5500\r\n",
      "Epoch 11/30\r\n",
      "15/15 [==============================] - 5s 321ms/step - loss: 0.4455 - val_loss: 0.5399\r\n",
      "Epoch 12/30\r\n",
      "15/15 [==============================] - 5s 323ms/step - loss: 0.4141 - val_loss: 0.5350\r\n",
      "Epoch 13/30\r\n",
      "15/15 [==============================] - 5s 311ms/step - loss: 0.4196 - val_loss: 0.5301\r\n",
      "Epoch 14/30\r\n",
      "15/15 [==============================] - 5s 321ms/step - loss: 0.4044 - val_loss: 0.5270\r\n",
      "Epoch 15/30\r\n",
      "15/15 [==============================] - 5s 325ms/step - loss: 0.4030 - val_loss: 0.5235\r\n",
      "Epoch 16/30\r\n",
      "15/15 [==============================] - 5s 321ms/step - loss: 0.3912 - val_loss: 0.5216\r\n",
      "Epoch 17/30\r\n",
      "15/15 [==============================] - 5s 321ms/step - loss: 0.3908 - val_loss: 0.5189\r\n",
      "Epoch 18/30\r\n",
      "15/15 [==============================] - 5s 323ms/step - loss: 0.3814 - val_loss: 0.5181\r\n",
      "Epoch 19/30\r\n",
      "15/15 [==============================] - 5s 320ms/step - loss: 0.3888 - val_loss: 0.5134\r\n",
      "Epoch 20/30\r\n",
      "15/15 [==============================] - 5s 320ms/step - loss: 0.3737 - val_loss: 0.5130\r\n",
      "Epoch 21/30\r\n",
      "15/15 [==============================] - 5s 348ms/step - loss: 0.3749 - val_loss: 0.5114\r\n",
      "Epoch 22/30\r\n",
      "15/15 [==============================] - 5s 323ms/step - loss: 0.3623 - val_loss: 0.5080\r\n",
      "Epoch 23/30\r\n",
      "15/15 [==============================] - 5s 320ms/step - loss: 0.3654 - val_loss: 0.5073\r\n",
      "Epoch 24/30\r\n",
      "15/15 [==============================] - 5s 320ms/step - loss: 0.3590 - val_loss: 0.5051\r\n",
      "Epoch 25/30\r\n",
      "15/15 [==============================] - 4s 297ms/step - loss: 0.3542 - val_loss: 0.5077\r\n",
      "Epoch 26/30\r\n",
      "15/15 [==============================] - 5s 311ms/step - loss: 0.3569 - val_loss: 0.5012\r\n",
      "Epoch 27/30\r\n",
      "15/15 [==============================] - 4s 258ms/step - loss: 0.3503 - val_loss: 0.5028\r\n",
      "24\r\n",
      "mae 0.63497233 mse 1.163222\r\n",
      "--------------------\r\n",
      "36\r\n",
      "mae 0.66815156 mse 1.2654132\r\n",
      "--------------------\r\n",
      "48\r\n",
      "mae 0.71002483 mse 1.3874298\r\n",
      "--------------------\r\n",
      "60\r\n",
      "mae 0.7572995 mse 1.5925993\r\n",
      "--------------------\r\n",
      "mae mean 0.69261205\r\n",
      "mse mean 1.352166\r\n",
      "\r\n",
      "CPU times: user 2.25 s, sys: 478 ms, total: 2.73 s\n",
      "Wall time: 2min 38s\n"
     ]
    }
   ],
   "source": [
    "%%time\n",
    "!python test_finetune.py --gpu 0 --batch_size 40 --mode small --data 'ill' --uni 1"
   ]
  }
 ],
 "metadata": {
  "kaggle": {
   "accelerator": "gpu",
   "dataSources": [],
   "dockerImageVersionId": 30648,
   "isGpuEnabled": true,
   "isInternetEnabled": true,
   "language": "python",
   "sourceType": "notebook"
  },
  "kernelspec": {
   "display_name": "Python 3",
   "language": "python",
   "name": "python3"
  },
  "language_info": {
   "codemirror_mode": {
    "name": "ipython",
    "version": 3
   },
   "file_extension": ".py",
   "mimetype": "text/x-python",
   "name": "python",
   "nbconvert_exporter": "python",
   "pygments_lexer": "ipython3",
   "version": "3.10.13"
  },
  "papermill": {
   "default_parameters": {},
   "duration": 11283.961607,
   "end_time": "2024-05-03T16:05:10.661655",
   "environment_variables": {},
   "exception": null,
   "input_path": "__notebook__.ipynb",
   "output_path": "__notebook__.ipynb",
   "parameters": {},
   "start_time": "2024-05-03T12:57:06.700048",
   "version": "2.5.0"
  }
 },
 "nbformat": 4,
 "nbformat_minor": 5
}
