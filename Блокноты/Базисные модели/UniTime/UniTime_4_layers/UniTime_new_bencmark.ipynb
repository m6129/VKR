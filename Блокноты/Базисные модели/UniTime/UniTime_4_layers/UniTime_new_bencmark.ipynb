{
 "cells": [
  {
   "cell_type": "code",
   "execution_count": 1,
   "id": "cd6126b9",
   "metadata": {
    "_cell_guid": "b1076dfc-b9ad-4769-8c92-a6c4dae69d19",
    "_uuid": "8f2839f25d086af736a60e9eeb907d3b93b6e0e5",
    "execution": {
     "iopub.execute_input": "2024-05-11T14:21:00.513469Z",
     "iopub.status.busy": "2024-05-11T14:21:00.512650Z",
     "iopub.status.idle": "2024-05-11T14:21:20.515947Z",
     "shell.execute_reply": "2024-05-11T14:21:20.514660Z"
    },
    "papermill": {
     "duration": 20.013699,
     "end_time": "2024-05-11T14:21:20.518548",
     "exception": false,
     "start_time": "2024-05-11T14:21:00.504849",
     "status": "completed"
    },
    "tags": []
   },
   "outputs": [
    {
     "name": "stdout",
     "output_type": "stream",
     "text": [
      "Cloning into 'UniTime_for_Kaggle'...\r\n",
      "remote: Enumerating objects: 180, done.\u001b[K\r\n",
      "remote: Counting objects: 100% (180/180), done.\u001b[K\r\n",
      "remote: Compressing objects: 100% (157/157), done.\u001b[K\r\n",
      "remote: Total 180 (delta 106), reused 58 (delta 20), pack-reused 0\u001b[K\r\n",
      "Receiving objects: 100% (180/180), 493.44 KiB | 17.62 MiB/s, done.\r\n",
      "Resolving deltas: 100% (106/106), done.\r\n"
     ]
    }
   ],
   "source": [
    "!git clone https://github.com/m6129/UniTime_for_Kaggle.git #скорректированный репозиторий\n",
    "# подгрузка наборов данных    \n",
    "!pip install --upgrade gdown -q #https://github.com/wkentaro/gdown/issues/333\n",
    "!gdown --fuzzy https://drive.google.com/file/d/1-Jy7C9Dh9QJF_yWKf2hQKUia56aQXBJ0/view?usp=drive_link -q\n",
    "!gdown --fuzzy https://drive.google.com/file/d/1lPZhTcJVirbwhN6EpppcmpZzbDcBn4rx/view?usp=drive_link -q"
   ]
  },
  {
   "cell_type": "code",
   "execution_count": 2,
   "id": "3f5dc514",
   "metadata": {
    "execution": {
     "iopub.execute_input": "2024-05-11T14:21:20.531273Z",
     "iopub.status.busy": "2024-05-11T14:21:20.530971Z",
     "iopub.status.idle": "2024-05-11T14:21:20.537332Z",
     "shell.execute_reply": "2024-05-11T14:21:20.536514Z"
    },
    "papermill": {
     "duration": 0.015084,
     "end_time": "2024-05-11T14:21:20.539473",
     "exception": false,
     "start_time": "2024-05-11T14:21:20.524389",
     "status": "completed"
    },
    "tags": []
   },
   "outputs": [
    {
     "name": "stdout",
     "output_type": "stream",
     "text": [
      "/kaggle/working/UniTime_for_Kaggle\n"
     ]
    }
   ],
   "source": [
    "cd /kaggle/working/UniTime_for_Kaggle"
   ]
  },
  {
   "cell_type": "code",
   "execution_count": 3,
   "id": "30555a2c",
   "metadata": {
    "execution": {
     "iopub.execute_input": "2024-05-11T14:21:20.552039Z",
     "iopub.status.busy": "2024-05-11T14:21:20.551364Z",
     "iopub.status.idle": "2024-05-11T14:21:22.489280Z",
     "shell.execute_reply": "2024-05-11T14:21:22.488019Z"
    },
    "papermill": {
     "duration": 1.946669,
     "end_time": "2024-05-11T14:21:22.491735",
     "exception": false,
     "start_time": "2024-05-11T14:21:20.545066",
     "status": "completed"
    },
    "tags": []
   },
   "outputs": [],
   "source": [
    "# перенос наборов данных\n",
    "!mv /kaggle/working/de_small.csv /kaggle/working/UniTime_for_Kaggle/dataset\n",
    "!mv /kaggle/working/de_big.csv /kaggle/working/UniTime_for_Kaggle/dataset"
   ]
  },
  {
   "cell_type": "code",
   "execution_count": 4,
   "id": "6399b8a2",
   "metadata": {
    "execution": {
     "iopub.execute_input": "2024-05-11T14:21:22.504829Z",
     "iopub.status.busy": "2024-05-11T14:21:22.504472Z",
     "iopub.status.idle": "2024-05-11T14:21:22.509113Z",
     "shell.execute_reply": "2024-05-11T14:21:22.508249Z"
    },
    "papermill": {
     "duration": 0.013308,
     "end_time": "2024-05-11T14:21:22.510947",
     "exception": false,
     "start_time": "2024-05-11T14:21:22.497639",
     "status": "completed"
    },
    "tags": []
   },
   "outputs": [],
   "source": [
    "#mkdir checkpoint_gpt2-small_full_train_all_del_Electricity_instruct_4_2_0.5_96 # создание папки для модели"
   ]
  },
  {
   "cell_type": "code",
   "execution_count": 5,
   "id": "d697c2f2",
   "metadata": {
    "execution": {
     "iopub.execute_input": "2024-05-11T14:21:22.523287Z",
     "iopub.status.busy": "2024-05-11T14:21:22.522997Z",
     "iopub.status.idle": "2024-05-11T14:21:23.475908Z",
     "shell.execute_reply": "2024-05-11T14:21:23.474591Z"
    },
    "papermill": {
     "duration": 0.961551,
     "end_time": "2024-05-11T14:21:23.478396",
     "exception": false,
     "start_time": "2024-05-11T14:21:22.516845",
     "status": "completed"
    },
    "tags": []
   },
   "outputs": [],
   "source": [
    "mkdir checkpoint_gpt2-small_full_train_new_benchmark_instruct_4_2_0.5_96"
   ]
  },
  {
   "cell_type": "code",
   "execution_count": 6,
   "id": "35b69fd5",
   "metadata": {
    "execution": {
     "iopub.execute_input": "2024-05-11T14:21:23.491045Z",
     "iopub.status.busy": "2024-05-11T14:21:23.490719Z",
     "iopub.status.idle": "2024-05-11T14:21:34.793639Z",
     "shell.execute_reply": "2024-05-11T14:21:34.792658Z"
    },
    "papermill": {
     "duration": 11.31206,
     "end_time": "2024-05-11T14:21:34.796212",
     "exception": false,
     "start_time": "2024-05-11T14:21:23.484152",
     "status": "completed"
    },
    "tags": []
   },
   "outputs": [
    {
     "name": "stdout",
     "output_type": "stream",
     "text": [
      "Downloading...\r\n",
      "From (original): https://drive.google.com/uc?id=147g6Zeu3IsMvSglX8dJLa9hRVrLk2YpV\r\n",
      "From (redirected): https://drive.google.com/uc?id=147g6Zeu3IsMvSglX8dJLa9hRVrLk2YpV&confirm=t&uuid=b9a00a43-35b5-465e-971c-5a6a70bba524\r\n",
      "To: /kaggle/working/UniTime_for_Kaggle/model_s2036.pth\r\n",
      "100%|████████████████████████████████████████| 410M/410M [00:08<00:00, 46.2MB/s]\r\n"
     ]
    }
   ],
   "source": [
    "#!gdown --fuzzy https://drive.google.com/file/d/1Bla0gzKspuL4XfH1w_jWtoRWx2wvANVY/view?usp=drive_link \n",
    "!gdown --fuzzy https://drive.google.com/file/d/147g6Zeu3IsMvSglX8dJLa9hRVrLk2YpV/view?usp=drive_link"
   ]
  },
  {
   "cell_type": "markdown",
   "id": "34be0e2a",
   "metadata": {
    "papermill": {
     "duration": 0.008746,
     "end_time": "2024-05-11T14:21:34.814203",
     "exception": false,
     "start_time": "2024-05-11T14:21:34.805457",
     "status": "completed"
    },
    "tags": []
   },
   "source": [
    "теперь другое имя папки нужно"
   ]
  },
  {
   "cell_type": "code",
   "execution_count": 7,
   "id": "53e34b01",
   "metadata": {
    "execution": {
     "iopub.execute_input": "2024-05-11T14:21:34.832799Z",
     "iopub.status.busy": "2024-05-11T14:21:34.832454Z",
     "iopub.status.idle": "2024-05-11T14:21:36.149038Z",
     "shell.execute_reply": "2024-05-11T14:21:36.147942Z"
    },
    "papermill": {
     "duration": 1.328757,
     "end_time": "2024-05-11T14:21:36.151612",
     "exception": false,
     "start_time": "2024-05-11T14:21:34.822855",
     "status": "completed"
    },
    "tags": []
   },
   "outputs": [],
   "source": [
    "!cp /kaggle/working/UniTime_for_Kaggle/model_s2036.pth /kaggle/working/UniTime_for_Kaggle/checkpoint_gpt2-small_full_train_new_benchmark_instruct_4_2_0.5_96"
   ]
  },
  {
   "cell_type": "markdown",
   "id": "d58d59f9",
   "metadata": {
    "papermill": {
     "duration": 0.008331,
     "end_time": "2024-05-11T14:21:36.169791",
     "exception": false,
     "start_time": "2024-05-11T14:21:36.161460",
     "status": "completed"
    },
    "tags": []
   },
   "source": [
    "старое имя папки"
   ]
  },
  {
   "cell_type": "code",
   "execution_count": 8,
   "id": "7d4aa872",
   "metadata": {
    "execution": {
     "iopub.execute_input": "2024-05-11T14:21:36.188176Z",
     "iopub.status.busy": "2024-05-11T14:21:36.187857Z",
     "iopub.status.idle": "2024-05-11T14:21:36.192342Z",
     "shell.execute_reply": "2024-05-11T14:21:36.191453Z"
    },
    "papermill": {
     "duration": 0.016032,
     "end_time": "2024-05-11T14:21:36.194217",
     "exception": false,
     "start_time": "2024-05-11T14:21:36.178185",
     "status": "completed"
    },
    "tags": []
   },
   "outputs": [],
   "source": [
    "#!cp /kaggle/working/UniTime_for_Kaggle/model_s2036.pth /kaggle/working/UniTime_for_Kaggle/checkpoint_gpt2-small_full_train_all_del_Electricity_instruct_4_2_0.5_96"
   ]
  },
  {
   "cell_type": "markdown",
   "id": "84e0d633",
   "metadata": {
    "papermill": {
     "duration": 0.008119,
     "end_time": "2024-05-11T14:21:36.211139",
     "exception": false,
     "start_time": "2024-05-11T14:21:36.203020",
     "status": "completed"
    },
    "tags": []
   },
   "source": [
    "### zero-shot"
   ]
  },
  {
   "cell_type": "markdown",
   "id": "ce9e29b3",
   "metadata": {
    "papermill": {
     "duration": 0.008159,
     "end_time": "2024-05-11T14:21:36.227691",
     "exception": false,
     "start_time": "2024-05-11T14:21:36.219532",
     "status": "completed"
    },
    "tags": []
   },
   "source": [
    "**одномерный прогноз**"
   ]
  },
  {
   "cell_type": "code",
   "execution_count": 9,
   "id": "a4b6c1ce",
   "metadata": {
    "execution": {
     "iopub.execute_input": "2024-05-11T14:21:36.246579Z",
     "iopub.status.busy": "2024-05-11T14:21:36.246241Z",
     "iopub.status.idle": "2024-05-11T14:23:40.708654Z",
     "shell.execute_reply": "2024-05-11T14:23:40.707210Z"
    },
    "papermill": {
     "duration": 124.473871,
     "end_time": "2024-05-11T14:23:40.710836",
     "exception": false,
     "start_time": "2024-05-11T14:21:36.236965",
     "status": "completed"
    },
    "tags": []
   },
   "outputs": [
    {
     "name": "stdout",
     "output_type": "stream",
     "text": [
      "Log directory: checkpoint_gpt2-small_full_train_new_benchmark_instruct_4_2_0.5_96\r\n",
      "2024-05-11 14:21:45,836 - Namespace(gpu=0, training_list='execute_list/train_new_benchmark.csv', inference_list='execute_list/inference_new_benchmark.csv', eval_model_path='', is_training=0, seed=2036, target='OT', label_len=0, lm_pretrain_model='gpt2-small', lm_ft_type='full', instruct_path='data_configs/instruct.json', zero_shot_instruct='', mask_rate=0.5, patch_len=16, max_token_num=30, max_backcast_len=96, max_forecast_len=720, lm_layer_num=4, dec_trans_layer_num=2, ts_embed_dropout=0.3, dec_head_dropout=0.1, num_workers=10, train_epochs=10, patience=10, learning_rate=0.0001, weight_decay=0, clip=5, checkpoint='checkpoint_gpt2-small_full_train_new_benchmark_instruct_4_2_0.5_96')\r\n",
      "tokenizer_config.json: 100%|██████████████████| 26.0/26.0 [00:00<00:00, 163kB/s]\r\n",
      "vocab.json: 100%|██████████████████████████| 1.04M/1.04M [00:00<00:00, 7.76MB/s]\r\n",
      "merges.txt: 100%|████████████████████████████| 456k/456k [00:00<00:00, 18.4MB/s]\r\n",
      "tokenizer.json: 100%|██████████████████████| 1.36M/1.36M [00:00<00:00, 4.64MB/s]\r\n",
      "config.json: 100%|█████████████████████████████| 665/665 [00:00<00:00, 3.25MB/s]\r\n",
      "model.safetensors: 100%|██████████████████████| 548M/548M [00:01<00:00, 314MB/s]\r\n",
      "generation_config.json: 100%|███████████████████| 124/124 [00:00<00:00, 698kB/s]\r\n",
      "2024-05-11 14:21:50,670 - Trainable Params: 67736832, All Params: 67736832, Percent: 1.0\r\n",
      "2024-05-11 14:21:50,670 - Trainable Params: 102512688, All Params: 102512688, Percent: 1.0\r\n",
      "2024-05-11 14:21:50,680 - ***** Task: de_big_S_96_24_0.5_16_32 *****\r\n",
      "2024-05-11 14:21:50,712 - Mode: test, Sample Num: 2857, Batch Num: 2857\r\n",
      "2024-05-11 14:21:50,714 - ***** Task: de_big_S_96_96_0.5_16_32 *****\r\n",
      "2024-05-11 14:21:50,740 - Mode: test, Sample Num: 2785, Batch Num: 2785\r\n",
      "2024-05-11 14:21:50,741 - ***** Task: de_big_S_96_192_0.5_16_32 *****\r\n",
      "2024-05-11 14:21:50,767 - Mode: test, Sample Num: 2689, Batch Num: 2689\r\n",
      "2024-05-11 14:21:50,767 - ***** Task: de_big_S_96_336_0.5_16_32 *****\r\n",
      "2024-05-11 14:21:50,793 - Mode: test, Sample Num: 2545, Batch Num: 2545\r\n",
      "2024-05-11 14:21:50,794 - ***** Task: de_big_S_96_720_0.5_16_32 *****\r\n",
      "2024-05-11 14:21:50,820 - Mode: test, Sample Num: 2161, Batch Num: 2161\r\n",
      "2024-05-11 14:21:50,821 - ***** Task: de_small_S_36_24_0.5_4_16 *****\r\n",
      "2024-05-11 14:21:50,827 - Mode: test, Sample Num: 170, Batch Num: 170\r\n",
      "2024-05-11 14:21:50,828 - ***** Task: de_small_S_36_36_0.5_4_16 *****\r\n",
      "2024-05-11 14:21:50,832 - Mode: test, Sample Num: 158, Batch Num: 158\r\n",
      "2024-05-11 14:21:50,833 - ***** Task: de_small_S_36_48_0.5_4_16 *****\r\n",
      "2024-05-11 14:21:50,838 - Mode: test, Sample Num: 146, Batch Num: 146\r\n",
      "2024-05-11 14:21:50,839 - ***** Task: de_small_S_36_60_0.5_4_16 *****\r\n",
      "2024-05-11 14:21:50,843 - Mode: test, Sample Num: 134, Batch Num: 134\r\n",
      "2024-05-11 14:21:50,843 - Start testing!\r\n",
      "2024-05-11 14:22:14,287 - Setting: de_big_96_24, MSE: 1.205156, MAE: 0.947841\r\n",
      "2024-05-11 14:22:35,892 - Setting: de_big_96_96, MSE: 1.231450, MAE: 0.944641\r\n",
      "2024-05-11 14:22:57,003 - Setting: de_big_96_192, MSE: 1.173043, MAE: 0.919575\r\n",
      "2024-05-11 14:23:16,929 - Setting: de_big_96_336, MSE: 1.214182, MAE: 0.930726\r\n",
      "2024-05-11 14:23:33,774 - Setting: de_big_96_720, MSE: 1.330962, MAE: 0.967566\r\n",
      "2024-05-11 14:23:35,309 - Setting: de_small_36_24, MSE: 1.353048, MAE: 0.981453\r\n",
      "2024-05-11 14:23:36,724 - Setting: de_small_36_36, MSE: 1.427790, MAE: 1.014246\r\n",
      "2024-05-11 14:23:38,024 - Setting: de_small_36_48, MSE: 1.440417, MAE: 1.013440\r\n",
      "2024-05-11 14:23:39,245 - Setting: de_small_36_60, MSE: 1.502963, MAE: 1.035958\r\n",
      "CPU times: user 1.76 s, sys: 349 ms, total: 2.11 s\n",
      "Wall time: 2min 4s\n"
     ]
    }
   ],
   "source": [
    "%%time\n",
    "!python run_univariate.py \\\n",
    "--training_list execute_list/train_new_benchmark.csv \\\n",
    "--max_token_num 30 \\\n",
    "--is_training 0 \\\n",
    "--lm_layer_num 4 \\\n",
    "--inference_list execute_list/inference_new_benchmark.csv"
   ]
  },
  {
   "cell_type": "markdown",
   "id": "c40a0442",
   "metadata": {
    "papermill": {
     "duration": 0.011281,
     "end_time": "2024-05-11T14:23:40.733787",
     "exception": false,
     "start_time": "2024-05-11T14:23:40.722506",
     "status": "completed"
    },
    "tags": []
   },
   "source": [
    "**многомерный прогноз**"
   ]
  },
  {
   "cell_type": "code",
   "execution_count": 10,
   "id": "11943483",
   "metadata": {
    "execution": {
     "iopub.execute_input": "2024-05-11T14:23:40.758514Z",
     "iopub.status.busy": "2024-05-11T14:23:40.758187Z",
     "iopub.status.idle": "2024-05-11T14:25:55.473514Z",
     "shell.execute_reply": "2024-05-11T14:25:55.472302Z"
    },
    "papermill": {
     "duration": 134.730551,
     "end_time": "2024-05-11T14:25:55.475711",
     "exception": false,
     "start_time": "2024-05-11T14:23:40.745160",
     "status": "completed"
    },
    "tags": []
   },
   "outputs": [
    {
     "name": "stdout",
     "output_type": "stream",
     "text": [
      "Log directory: checkpoint_gpt2-small_full_train_new_benchmark_instruct_4_2_0.5_96\r\n",
      "2024-05-11 14:23:46,227 - Namespace(gpu=0, training_list='execute_list/train_new_benchmark.csv', inference_list='execute_list/inference_new_benchmark.csv', eval_model_path='', is_training=0, seed=2036, target='OT', label_len=0, lm_pretrain_model='gpt2-small', lm_ft_type='full', instruct_path='data_configs/instruct.json', zero_shot_instruct='', mask_rate=0.5, patch_len=16, max_token_num=30, max_backcast_len=96, max_forecast_len=720, lm_layer_num=4, dec_trans_layer_num=2, ts_embed_dropout=0.3, dec_head_dropout=0.1, num_workers=10, train_epochs=10, patience=10, learning_rate=0.0001, weight_decay=0, clip=5, checkpoint='checkpoint_gpt2-small_full_train_new_benchmark_instruct_4_2_0.5_96')\r\n",
      "2024-05-11 14:23:47,604 - Trainable Params: 67736832, All Params: 67736832, Percent: 1.0\r\n",
      "2024-05-11 14:23:47,605 - Trainable Params: 102512688, All Params: 102512688, Percent: 1.0\r\n",
      "2024-05-11 14:23:47,608 - ***** Task: de_big_M_96_24_0.5_16_32 *****\r\n",
      "2024-05-11 14:23:47,635 - Mode: test, Sample Num: 2857, Batch Num: 2857\r\n",
      "2024-05-11 14:23:47,636 - ***** Task: de_big_M_96_96_0.5_16_32 *****\r\n",
      "2024-05-11 14:23:47,662 - Mode: test, Sample Num: 2785, Batch Num: 2785\r\n",
      "2024-05-11 14:23:47,663 - ***** Task: de_big_M_96_192_0.5_16_32 *****\r\n",
      "2024-05-11 14:23:47,689 - Mode: test, Sample Num: 2689, Batch Num: 2689\r\n",
      "2024-05-11 14:23:47,690 - ***** Task: de_big_M_96_336_0.5_16_32 *****\r\n",
      "2024-05-11 14:23:47,715 - Mode: test, Sample Num: 2545, Batch Num: 2545\r\n",
      "2024-05-11 14:23:47,716 - ***** Task: de_big_M_96_720_0.5_16_32 *****\r\n",
      "2024-05-11 14:23:47,742 - Mode: test, Sample Num: 2161, Batch Num: 2161\r\n",
      "2024-05-11 14:23:47,743 - ***** Task: de_small_M_36_24_0.5_4_16 *****\r\n",
      "2024-05-11 14:23:47,747 - Mode: test, Sample Num: 170, Batch Num: 170\r\n",
      "2024-05-11 14:23:47,748 - ***** Task: de_small_M_36_36_0.5_4_16 *****\r\n",
      "2024-05-11 14:23:47,752 - Mode: test, Sample Num: 158, Batch Num: 158\r\n",
      "2024-05-11 14:23:47,753 - ***** Task: de_small_M_36_48_0.5_4_16 *****\r\n",
      "2024-05-11 14:23:47,757 - Mode: test, Sample Num: 146, Batch Num: 146\r\n",
      "2024-05-11 14:23:47,758 - ***** Task: de_small_M_36_60_0.5_4_16 *****\r\n",
      "2024-05-11 14:23:47,762 - Mode: test, Sample Num: 134, Batch Num: 134\r\n",
      "2024-05-11 14:23:47,762 - Start testing!\r\n",
      "2024-05-11 14:24:14,854 - Setting: de_big_96_24, MSE: 1.162523, MAE: 0.925705\r\n",
      "2024-05-11 14:24:40,318 - Setting: de_big_96_96, MSE: 1.191914, MAE: 0.924383\r\n",
      "2024-05-11 14:25:04,925 - Setting: de_big_96_192, MSE: 1.140610, MAE: 0.902613\r\n",
      "2024-05-11 14:25:28,206 - Setting: de_big_96_336, MSE: 1.178724, MAE: 0.913073\r\n",
      "2024-05-11 14:25:48,057 - Setting: de_big_96_720, MSE: 1.290122, MAE: 0.948273\r\n",
      "2024-05-11 14:25:49,838 - Setting: de_small_36_24, MSE: 1.367188, MAE: 0.980659\r\n",
      "2024-05-11 14:25:51,495 - Setting: de_small_36_36, MSE: 1.436400, MAE: 1.012344\r\n",
      "2024-05-11 14:25:53,015 - Setting: de_small_36_48, MSE: 1.446436, MAE: 1.011284\r\n",
      "2024-05-11 14:25:54,406 - Setting: de_small_36_60, MSE: 1.503919, MAE: 1.032489\r\n",
      "CPU times: user 1.9 s, sys: 400 ms, total: 2.3 s\n",
      "Wall time: 2min 14s\n"
     ]
    }
   ],
   "source": [
    "%%time\n",
    "!python run.py \\\n",
    "--training_list execute_list/train_new_benchmark.csv \\\n",
    "--max_token_num 30 \\\n",
    "--is_training 0 \\\n",
    "--lm_layer_num 4 \\\n",
    "--inference_list execute_list/inference_new_benchmark.csv"
   ]
  },
  {
   "cell_type": "markdown",
   "id": "9d378f7a",
   "metadata": {
    "papermill": {
     "duration": 0.019199,
     "end_time": "2024-05-11T14:25:55.513115",
     "exception": false,
     "start_time": "2024-05-11T14:25:55.493916",
     "status": "completed"
    },
    "tags": []
   },
   "source": [
    "### finetune"
   ]
  },
  {
   "cell_type": "code",
   "execution_count": 11,
   "id": "96a07ce5",
   "metadata": {
    "execution": {
     "iopub.execute_input": "2024-05-11T14:25:55.541762Z",
     "iopub.status.busy": "2024-05-11T14:25:55.541365Z",
     "iopub.status.idle": "2024-05-11T14:31:26.715034Z",
     "shell.execute_reply": "2024-05-11T14:31:26.713787Z"
    },
    "papermill": {
     "duration": 331.190298,
     "end_time": "2024-05-11T14:31:26.717159",
     "exception": false,
     "start_time": "2024-05-11T14:25:55.526861",
     "status": "completed"
    },
    "tags": []
   },
   "outputs": [
    {
     "name": "stdout",
     "output_type": "stream",
     "text": [
      "Log directory: checkpoint_gpt2-small_full_train_new_benchmark_instruct_4_2_0.5_96\r\n",
      "2024-05-11 14:26:00,966 - Namespace(gpu=0, training_list='execute_list/train_new_benchmark.csv', inference_list='execute_list/inference_all.csv', eval_model_path='', is_training=1, seed=2036, target='OT', label_len=0, lm_pretrain_model='gpt2-small', lm_ft_type='full', instruct_path='data_configs/instruct.json', zero_shot_instruct='', mask_rate=0.5, patch_len=16, max_token_num=30, max_backcast_len=96, max_forecast_len=720, lm_layer_num=4, dec_trans_layer_num=2, ts_embed_dropout=0.3, dec_head_dropout=0.1, num_workers=10, train_epochs=10, patience=10, learning_rate=0.0001, weight_decay=0, clip=5, checkpoint='checkpoint_gpt2-small_full_train_new_benchmark_instruct_4_2_0.5_96')\r\n",
      "2024-05-11 14:26:02,286 - Trainable Params: 67736832, All Params: 67736832, Percent: 1.0\r\n",
      "2024-05-11 14:26:02,286 - Trainable Params: 102512688, All Params: 102512688, Percent: 1.0\r\n",
      "2024-05-11 14:26:02,290 - ***** Task: de_big_S_96_720_0.5_16_32 *****\r\n",
      "2024-05-11 14:26:02,317 - Mode: train, Sample Num: 7825, Batch Num: 244\r\n",
      "2024-05-11 14:26:02,318 - ***** Task: de_small_S_36_60_0.5_4_16 *****\r\n",
      "2024-05-11 14:26:02,323 - Mode: train, Sample Num: 581, Batch Num: 36\r\n",
      "2024-05-11 14:26:02,324 - ***** Task: de_big_S_96_720_0.5_16_32 *****\r\n",
      "2024-05-11 14:26:02,349 - Mode: val, Sample Num: 2161, Batch Num: 67\r\n",
      "2024-05-11 14:26:02,349 - ***** Task: de_big_S_96_24_0.5_16_32 *****\r\n",
      "2024-05-11 14:26:02,375 - Mode: test, Sample Num: 2857, Batch Num: 2857\r\n",
      "2024-05-11 14:26:02,376 - ***** Task: de_big_S_96_96_0.5_16_32 *****\r\n",
      "2024-05-11 14:26:02,401 - Mode: test, Sample Num: 2785, Batch Num: 2785\r\n",
      "2024-05-11 14:26:02,402 - ***** Task: de_big_S_96_192_0.5_16_32 *****\r\n",
      "2024-05-11 14:26:02,427 - Mode: test, Sample Num: 2689, Batch Num: 2689\r\n",
      "2024-05-11 14:26:02,428 - ***** Task: de_big_S_96_336_0.5_16_32 *****\r\n",
      "2024-05-11 14:26:02,453 - Mode: test, Sample Num: 2545, Batch Num: 2545\r\n",
      "2024-05-11 14:26:02,454 - ***** Task: de_big_S_96_720_0.5_16_32 *****\r\n",
      "2024-05-11 14:26:02,480 - Mode: test, Sample Num: 2161, Batch Num: 2161\r\n",
      "2024-05-11 14:26:02,481 - ***** Task: de_small_S_36_24_0.5_4_16 *****\r\n",
      "2024-05-11 14:26:02,486 - Mode: test, Sample Num: 170, Batch Num: 170\r\n",
      "2024-05-11 14:26:02,487 - ***** Task: de_small_S_36_36_0.5_4_16 *****\r\n",
      "2024-05-11 14:26:02,491 - Mode: test, Sample Num: 158, Batch Num: 158\r\n",
      "2024-05-11 14:26:02,492 - ***** Task: de_small_S_36_48_0.5_4_16 *****\r\n",
      "2024-05-11 14:26:02,496 - Mode: test, Sample Num: 146, Batch Num: 146\r\n",
      "2024-05-11 14:26:02,497 - ***** Task: de_small_S_36_60_0.5_4_16 *****\r\n",
      "2024-05-11 14:26:02,501 - Mode: test, Sample Num: 134, Batch Num: 134\r\n",
      "2024-05-11 14:26:02,501 - Start training!\r\n",
      "2024-05-11 14:26:22,544 - Epoch: 1, Train Time: 19.711175, Train Loss: 0.674319\r\n",
      "2024-05-11 14:26:24,105 - Epoch: 1, Valid Time: 1.560784, Valid Loss: 0.164170, Valid Loss Improve: 0.967166\r\n",
      "2024-05-11 14:26:25,168 - Saving best model!\r\n",
      "2024-05-11 14:26:25,170 - Update learning rate to 9.939057285945933e-05\r\n",
      "2024-05-11 14:26:44,449 - Epoch: 2, Train Time: 18.815164, Train Loss: 0.453396\r\n",
      "2024-05-11 14:26:46,013 - Epoch: 2, Valid Time: 1.562889, Valid Loss: 0.174126, Valid Loss Improve: -0.060643\r\n",
      "2024-05-11 14:26:46,717 - Update learning rate to 9.757729755661012e-05\r\n",
      "2024-05-11 14:27:05,931 - Epoch: 3, Train Time: 18.780387, Train Loss: 0.411500\r\n",
      "2024-05-11 14:27:07,487 - Epoch: 3, Valid Time: 1.555953, Valid Loss: 0.148217, Valid Loss Improve: 0.097173\r\n",
      "2024-05-11 14:27:08,514 - Saving best model!\r\n",
      "2024-05-11 14:27:08,514 - Update learning rate to 9.460482294732422e-05\r\n",
      "2024-05-11 14:27:27,728 - Epoch: 4, Train Time: 18.763234, Train Loss: 0.390624\r\n",
      "2024-05-11 14:27:29,289 - Epoch: 4, Valid Time: 1.560582, Valid Loss: 0.186340, Valid Loss Improve: -0.257213\r\n",
      "2024-05-11 14:27:29,993 - Update learning rate to 9.054634122155992e-05\r\n",
      "2024-05-11 14:27:49,210 - Epoch: 5, Train Time: 18.773613, Train Loss: 0.378550\r\n",
      "2024-05-11 14:27:50,760 - Epoch: 5, Valid Time: 1.549797, Valid Loss: 0.202236, Valid Loss Improve: -0.364458\r\n",
      "2024-05-11 14:27:51,443 - Update learning rate to 8.550178566873411e-05\r\n",
      "2024-05-11 14:28:10,684 - Epoch: 6, Train Time: 18.810942, Train Loss: 0.362418\r\n",
      "2024-05-11 14:28:12,265 - Epoch: 6, Valid Time: 1.580981, Valid Loss: 0.139174, Valid Loss Improve: 0.061014\r\n",
      "2024-05-11 14:28:13,238 - Saving best model!\r\n",
      "2024-05-11 14:28:13,239 - Update learning rate to 7.959536998847744e-05\r\n",
      "2024-05-11 14:28:32,431 - Epoch: 7, Train Time: 18.750185, Train Loss: 0.355772\r\n",
      "2024-05-11 14:28:33,997 - Epoch: 7, Valid Time: 1.564684, Valid Loss: 0.133316, Valid Loss Improve: 0.042087\r\n",
      "2024-05-11 14:28:35,031 - Saving best model!\r\n",
      "2024-05-11 14:28:35,032 - Update learning rate to 7.297252973710758e-05\r\n",
      "2024-05-11 14:28:54,355 - Epoch: 8, Train Time: 18.736135, Train Loss: 0.349185\r\n",
      "2024-05-11 14:28:55,930 - Epoch: 8, Valid Time: 1.575253, Valid Loss: 0.136615, Valid Loss Improve: -0.024744\r\n",
      "2024-05-11 14:28:56,634 - Update learning rate to 6.579634122155991e-05\r\n",
      "2024-05-11 14:29:15,872 - Epoch: 9, Train Time: 18.810806, Train Loss: 0.344352\r\n",
      "2024-05-11 14:29:17,430 - Epoch: 9, Valid Time: 1.557269, Valid Loss: 0.137910, Valid Loss Improve: -0.034458\r\n",
      "2024-05-11 14:29:18,113 - Update learning rate to 5.824350601949144e-05\r\n",
      "2024-05-11 14:29:37,315 - Epoch: 10, Train Time: 18.779854, Train Loss: 0.332187\r\n",
      "2024-05-11 14:29:38,937 - Epoch: 10, Valid Time: 1.620876, Valid Loss: 0.140071, Valid Loss Improve: -0.050666\r\n",
      "2024-05-11 14:29:39,624 - Update learning rate to 5.050000000000001e-05\r\n",
      "2024-05-11 14:29:39,624 - Start testing!\r\n",
      "2024-05-11 14:30:01,940 - Setting: de_big_96_24, MSE: 0.130926, MAE: 0.259672\r\n",
      "2024-05-11 14:30:23,237 - Setting: de_big_96_96, MSE: 0.173463, MAE: 0.283889\r\n",
      "2024-05-11 14:30:44,080 - Setting: de_big_96_192, MSE: 0.192567, MAE: 0.300811\r\n",
      "2024-05-11 14:31:03,298 - Setting: de_big_96_336, MSE: 0.231068, MAE: 0.328101\r\n",
      "2024-05-11 14:31:20,019 - Setting: de_big_96_720, MSE: 0.313139, MAE: 0.390756\r\n",
      "2024-05-11 14:31:21,537 - Setting: de_small_36_24, MSE: 0.372462, MAE: 0.474040\r\n",
      "2024-05-11 14:31:22,994 - Setting: de_small_36_36, MSE: 0.490372, MAE: 0.535853\r\n",
      "2024-05-11 14:31:24,345 - Setting: de_small_36_48, MSE: 0.596525, MAE: 0.595016\r\n",
      "2024-05-11 14:31:25,607 - Setting: de_small_36_60, MSE: 0.688285, MAE: 0.643126\r\n",
      "CPU times: user 4.49 s, sys: 962 ms, total: 5.46 s\n",
      "Wall time: 5min 31s\n"
     ]
    }
   ],
   "source": [
    "%%time\n",
    "!python run_univariate.py  --training_list execute_list/train_new_benchmark.csv --max_token_num 30 --lm_layer_num 4 \n",
    "# --lm_layer_num 4 число слоёв уменьшено c 6 до 4, так как не хватило памяти графическому вычислителю"
   ]
  },
  {
   "cell_type": "code",
   "execution_count": 12,
   "id": "3da73176",
   "metadata": {
    "execution": {
     "iopub.execute_input": "2024-05-11T14:31:26.751729Z",
     "iopub.status.busy": "2024-05-11T14:31:26.751294Z",
     "iopub.status.idle": "2024-05-11T14:49:10.227640Z",
     "shell.execute_reply": "2024-05-11T14:49:10.226396Z"
    },
    "papermill": {
     "duration": 1063.495821,
     "end_time": "2024-05-11T14:49:10.229729",
     "exception": false,
     "start_time": "2024-05-11T14:31:26.733908",
     "status": "completed"
    },
    "tags": []
   },
   "outputs": [
    {
     "name": "stdout",
     "output_type": "stream",
     "text": [
      "Log directory: checkpoint_gpt2-small_full_train_new_benchmark_instruct_4_2_0.5_96\r\n",
      "2024-05-11 14:31:32,164 - Namespace(gpu=0, training_list='execute_list/train_new_benchmark.csv', inference_list='execute_list/inference_all.csv', eval_model_path='', is_training=1, seed=2036, target='OT', label_len=0, lm_pretrain_model='gpt2-small', lm_ft_type='full', instruct_path='data_configs/instruct.json', zero_shot_instruct='', mask_rate=0.5, patch_len=16, max_token_num=30, max_backcast_len=96, max_forecast_len=720, lm_layer_num=4, dec_trans_layer_num=2, ts_embed_dropout=0.3, dec_head_dropout=0.1, num_workers=10, train_epochs=10, patience=10, learning_rate=0.0001, weight_decay=0, clip=5, checkpoint='checkpoint_gpt2-small_full_train_new_benchmark_instruct_4_2_0.5_96')\r\n",
      "2024-05-11 14:31:33,462 - Trainable Params: 67736832, All Params: 67736832, Percent: 1.0\r\n",
      "2024-05-11 14:31:33,463 - Trainable Params: 102512688, All Params: 102512688, Percent: 1.0\r\n",
      "2024-05-11 14:31:33,466 - ***** Task: de_big_M_96_720_0.5_16_32 *****\r\n",
      "2024-05-11 14:31:33,494 - Mode: train, Sample Num: 7825, Batch Num: 244\r\n",
      "2024-05-11 14:31:33,495 - ***** Task: de_small_M_36_60_0.5_4_16 *****\r\n",
      "2024-05-11 14:31:33,500 - Mode: train, Sample Num: 581, Batch Num: 36\r\n",
      "2024-05-11 14:31:33,501 - ***** Task: de_big_M_96_720_0.5_16_32 *****\r\n",
      "2024-05-11 14:31:33,526 - Mode: val, Sample Num: 2161, Batch Num: 67\r\n",
      "2024-05-11 14:31:33,527 - ***** Task: de_big_M_96_24_0.5_16_32 *****\r\n",
      "2024-05-11 14:31:33,554 - Mode: test, Sample Num: 2857, Batch Num: 2857\r\n",
      "2024-05-11 14:31:33,554 - ***** Task: de_big_M_96_96_0.5_16_32 *****\r\n",
      "2024-05-11 14:31:33,580 - Mode: test, Sample Num: 2785, Batch Num: 2785\r\n",
      "2024-05-11 14:31:33,581 - ***** Task: de_big_M_96_192_0.5_16_32 *****\r\n",
      "2024-05-11 14:31:33,606 - Mode: test, Sample Num: 2689, Batch Num: 2689\r\n",
      "2024-05-11 14:31:33,607 - ***** Task: de_big_M_96_336_0.5_16_32 *****\r\n",
      "2024-05-11 14:31:33,632 - Mode: test, Sample Num: 2545, Batch Num: 2545\r\n",
      "2024-05-11 14:31:33,633 - ***** Task: de_big_M_96_720_0.5_16_32 *****\r\n",
      "2024-05-11 14:31:33,659 - Mode: test, Sample Num: 2161, Batch Num: 2161\r\n",
      "2024-05-11 14:31:33,660 - ***** Task: de_small_M_36_24_0.5_4_16 *****\r\n",
      "2024-05-11 14:31:33,664 - Mode: test, Sample Num: 170, Batch Num: 170\r\n",
      "2024-05-11 14:31:33,665 - ***** Task: de_small_M_36_36_0.5_4_16 *****\r\n",
      "2024-05-11 14:31:33,669 - Mode: test, Sample Num: 158, Batch Num: 158\r\n",
      "2024-05-11 14:31:33,669 - ***** Task: de_small_M_36_48_0.5_4_16 *****\r\n",
      "2024-05-11 14:31:33,673 - Mode: test, Sample Num: 146, Batch Num: 146\r\n",
      "2024-05-11 14:31:33,674 - ***** Task: de_small_M_36_60_0.5_4_16 *****\r\n",
      "2024-05-11 14:31:33,678 - Mode: test, Sample Num: 134, Batch Num: 134\r\n",
      "2024-05-11 14:31:33,679 - Start training!\r\n",
      "2024-05-11 14:32:58,920 - Epoch: 1, Train Time: 84.888480, Train Loss: 0.667128\r\n",
      "2024-05-11 14:33:06,227 - Epoch: 1, Valid Time: 7.306578, Valid Loss: 0.186237, Valid Loss Improve: 0.962753\r\n",
      "2024-05-11 14:33:07,241 - Saving best model!\r\n",
      "2024-05-11 14:33:07,241 - Update learning rate to 9.939057285945933e-05\r\n",
      "2024-05-11 14:34:32,145 - Epoch: 2, Train Time: 84.445916, Train Loss: 0.465271\r\n",
      "2024-05-11 14:34:39,458 - Epoch: 2, Valid Time: 7.313370, Valid Loss: 0.199076, Valid Loss Improve: -0.068943\r\n",
      "2024-05-11 14:34:40,401 - Update learning rate to 9.757729755661012e-05\r\n",
      "2024-05-11 14:36:05,332 - Epoch: 3, Train Time: 84.469783, Train Loss: 0.423846\r\n",
      "2024-05-11 14:36:12,645 - Epoch: 3, Valid Time: 7.313242, Valid Loss: 0.175151, Valid Loss Improve: 0.059526\r\n",
      "2024-05-11 14:36:13,581 - Saving best model!\r\n",
      "2024-05-11 14:36:13,581 - Update learning rate to 9.460482294732422e-05\r\n",
      "2024-05-11 14:37:38,501 - Epoch: 4, Train Time: 84.462209, Train Loss: 0.401382\r\n",
      "2024-05-11 14:37:45,812 - Epoch: 4, Valid Time: 7.310922, Valid Loss: 0.173085, Valid Loss Improve: 0.011796\r\n",
      "2024-05-11 14:37:46,819 - Saving best model!\r\n",
      "2024-05-11 14:37:46,819 - Update learning rate to 9.054634122155992e-05\r\n",
      "2024-05-11 14:39:11,615 - Epoch: 5, Train Time: 84.314884, Train Loss: 0.390595\r\n",
      "2024-05-11 14:39:18,905 - Epoch: 5, Valid Time: 7.289498, Valid Loss: 0.192907, Valid Loss Improve: -0.114525\r\n",
      "2024-05-11 14:39:19,964 - Update learning rate to 8.550178566873411e-05\r\n",
      "2024-05-11 14:40:44,891 - Epoch: 6, Train Time: 84.426957, Train Loss: 0.384042\r\n",
      "2024-05-11 14:40:52,195 - Epoch: 6, Valid Time: 7.303597, Valid Loss: 0.164982, Valid Loss Improve: 0.046813\r\n",
      "2024-05-11 14:40:53,167 - Saving best model!\r\n",
      "2024-05-11 14:40:53,168 - Update learning rate to 7.959536998847744e-05\r\n",
      "2024-05-11 14:42:18,059 - Epoch: 7, Train Time: 84.402926, Train Loss: 0.374684\r\n",
      "2024-05-11 14:42:25,355 - Epoch: 7, Valid Time: 7.295652, Valid Loss: 0.174595, Valid Loss Improve: -0.058268\r\n",
      "2024-05-11 14:42:26,046 - Update learning rate to 7.297252973710758e-05\r\n",
      "2024-05-11 14:43:51,026 - Epoch: 8, Train Time: 84.513468, Train Loss: 0.372723\r\n",
      "2024-05-11 14:43:58,323 - Epoch: 8, Valid Time: 7.296316, Valid Loss: 0.161552, Valid Loss Improve: 0.020790\r\n",
      "2024-05-11 14:43:59,298 - Saving best model!\r\n",
      "2024-05-11 14:43:59,299 - Update learning rate to 6.579634122155991e-05\r\n",
      "2024-05-11 14:45:24,190 - Epoch: 9, Train Time: 84.412761, Train Loss: 0.362310\r\n",
      "2024-05-11 14:45:31,474 - Epoch: 9, Valid Time: 7.283605, Valid Loss: 0.171847, Valid Loss Improve: -0.063724\r\n",
      "2024-05-11 14:45:32,415 - Update learning rate to 5.824350601949144e-05\r\n",
      "2024-05-11 14:46:57,353 - Epoch: 10, Train Time: 84.443890, Train Loss: 0.356664\r\n",
      "2024-05-11 14:47:04,652 - Epoch: 10, Valid Time: 7.298340, Valid Loss: 0.162534, Valid Loss Improve: -0.006077\r\n",
      "2024-05-11 14:47:05,622 - Update learning rate to 5.050000000000001e-05\r\n",
      "2024-05-11 14:47:05,622 - Start testing!\r\n",
      "2024-05-11 14:47:31,204 - Setting: de_big_96_24, MSE: 0.122733, MAE: 0.244922\r\n",
      "2024-05-11 14:47:56,101 - Setting: de_big_96_96, MSE: 0.173338, MAE: 0.283206\r\n",
      "2024-05-11 14:48:19,948 - Setting: de_big_96_192, MSE: 0.190516, MAE: 0.299566\r\n",
      "2024-05-11 14:48:42,946 - Setting: de_big_96_336, MSE: 0.233574, MAE: 0.331274\r\n",
      "2024-05-11 14:49:02,725 - Setting: de_big_96_720, MSE: 0.314840, MAE: 0.391908\r\n",
      "2024-05-11 14:49:04,505 - Setting: de_small_36_24, MSE: 0.345200, MAE: 0.439666\r\n",
      "2024-05-11 14:49:06,157 - Setting: de_small_36_36, MSE: 0.479462, MAE: 0.515119\r\n",
      "2024-05-11 14:49:07,675 - Setting: de_small_36_48, MSE: 0.541997, MAE: 0.553427\r\n",
      "2024-05-11 14:49:09,111 - Setting: de_small_36_60, MSE: 0.633468, MAE: 0.602811\r\n",
      "CPU times: user 13.1 s, sys: 2.86 s, total: 15.9 s\n",
      "Wall time: 17min 43s\n"
     ]
    }
   ],
   "source": [
    "%%time\n",
    "!python run.py  --training_list execute_list/train_new_benchmark.csv --max_token_num 30 --lm_layer_num 4 "
   ]
  }
 ],
 "metadata": {
  "kaggle": {
   "accelerator": "gpu",
   "dataSources": [],
   "dockerImageVersionId": 30699,
   "isGpuEnabled": true,
   "isInternetEnabled": true,
   "language": "python",
   "sourceType": "notebook"
  },
  "kernelspec": {
   "display_name": "Python 3",
   "language": "python",
   "name": "python3"
  },
  "language_info": {
   "codemirror_mode": {
    "name": "ipython",
    "version": 3
   },
   "file_extension": ".py",
   "mimetype": "text/x-python",
   "name": "python",
   "nbconvert_exporter": "python",
   "pygments_lexer": "ipython3",
   "version": "3.10.13"
  },
  "papermill": {
   "default_parameters": {},
   "duration": 1692.766422,
   "end_time": "2024-05-11T14:49:10.572695",
   "environment_variables": {},
   "exception": null,
   "input_path": "__notebook__.ipynb",
   "output_path": "__notebook__.ipynb",
   "parameters": {},
   "start_time": "2024-05-11T14:20:57.806273",
   "version": "2.5.0"
  }
 },
 "nbformat": 4,
 "nbformat_minor": 5
}
