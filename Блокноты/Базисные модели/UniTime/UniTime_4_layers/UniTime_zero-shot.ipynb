{
 "cells": [
  {
   "cell_type": "code",
   "execution_count": 1,
   "id": "7915ae8f",
   "metadata": {
    "_cell_guid": "b1076dfc-b9ad-4769-8c92-a6c4dae69d19",
    "_uuid": "8f2839f25d086af736a60e9eeb907d3b93b6e0e5",
    "execution": {
     "iopub.execute_input": "2024-05-03T08:52:29.008856Z",
     "iopub.status.busy": "2024-05-03T08:52:29.008491Z",
     "iopub.status.idle": "2024-05-03T08:52:58.850363Z",
     "shell.execute_reply": "2024-05-03T08:52:58.849124Z"
    },
    "papermill": {
     "duration": 29.850454,
     "end_time": "2024-05-03T08:52:58.853165",
     "exception": false,
     "start_time": "2024-05-03T08:52:29.002711",
     "status": "completed"
    },
    "tags": []
   },
   "outputs": [
    {
     "name": "stdout",
     "output_type": "stream",
     "text": [
      "Cloning into 'UniTime_for_Kaggle'...\r\n",
      "remote: Enumerating objects: 109, done.\u001b[K\r\n",
      "remote: Counting objects: 100% (109/109), done.\u001b[K\r\n",
      "remote: Compressing objects: 100% (87/87), done.\u001b[K\r\n",
      "remote: Total 109 (delta 54), reused 61 (delta 19), pack-reused 0\u001b[K\r\n",
      "Receiving objects: 100% (109/109), 477.03 KiB | 7.82 MiB/s, done.\r\n",
      "Resolving deltas: 100% (54/54), done.\r\n",
      "Cloning into 'ETDataset'...\r\n",
      "remote: Enumerating objects: 187, done.\u001b[K\r\n",
      "remote: Counting objects: 100% (28/28), done.\u001b[K\r\n",
      "remote: Compressing objects: 100% (8/8), done.\u001b[K\r\n",
      "remote: Total 187 (delta 25), reused 20 (delta 20), pack-reused 159\u001b[K\r\n",
      "Receiving objects: 100% (187/187), 3.86 MiB | 15.79 MiB/s, done.\r\n",
      "Resolving deltas: 100% (62/62), done.\r\n",
      "Downloading...\r\n",
      "From: https://drive.google.com/uc?id=1nXdMIJ7K201Bx3IBGNiaNFQ6FzeDEzIr\r\n",
      "To: /kaggle/working/weather.zip\r\n",
      "100%|███████████████████████████████████████| 2.29M/2.29M [00:00<00:00, 134MB/s]\r\n",
      "Downloading...\r\n",
      "From: https://drive.google.com/uc?id=1rN79CxW3Vldp-WDuSoG0bKq9tYQR79UK\r\n",
      "To: /kaggle/working/exchange_rate.zip\r\n",
      "100%|████████████████████████████████████████| 194k/194k [00:00<00:00, 78.3MB/s]\r\n",
      "Downloading...\r\n",
      "From: https://drive.google.com/uc?id=1WMKg7KevVEEd9jrfLG8mcpOequZMbjlM\r\n",
      "To: /kaggle/working/illness.zip\r\n",
      "100%|██████████████████████████████████████| 26.0k/26.0k [00:00<00:00, 63.6MB/s]\r\n",
      "Archive:  /kaggle/working/weather.zip\r\n",
      "   creating: weather/\r\n",
      "  inflating: weather/weather.csv     \r\n",
      "Archive:  /kaggle/working/exchange_rate.zip\r\n",
      "   creating: exchange_rate/\r\n",
      "  inflating: exchange_rate/.DS_Store  \r\n",
      "  inflating: exchange_rate/exchange_rate.csv  \r\n",
      "Archive:  /kaggle/working/illness.zip\r\n",
      "   creating: illness/\r\n",
      "  inflating: illness/national_illness.csv  \r\n"
     ]
    }
   ],
   "source": [
    "!pip install gdown -q # для загрузки файлов с гугл-диска\n",
    "\n",
    "!git clone https://github.com/m6129/UniTime_for_Kaggle.git #скорректированный репозиторий\n",
    "# подгрузка наборов данных    \n",
    "!git clone https://github.com/zhouhaoyi/ETDataset.git   \n",
    "!gdown --fuzzy https://drive.google.com/file/d/1nXdMIJ7K201Bx3IBGNiaNFQ6FzeDEzIr/view?usp=drive_link\n",
    "!gdown --fuzzy https://drive.google.com/file/d/1rN79CxW3Vldp-WDuSoG0bKq9tYQR79UK/view?usp=drive_link\n",
    "!gdown --fuzzy https://drive.google.com/file/d/1WMKg7KevVEEd9jrfLG8mcpOequZMbjlM/view?usp=drive_link\n",
    "    \n",
    "!unzip /kaggle/working/weather.zip\n",
    "!unzip /kaggle/working/exchange_rate.zip\n",
    "!unzip /kaggle/working/illness.zip"
   ]
  },
  {
   "cell_type": "code",
   "execution_count": 2,
   "id": "9b8826c2",
   "metadata": {
    "execution": {
     "iopub.execute_input": "2024-05-03T08:52:58.867976Z",
     "iopub.status.busy": "2024-05-03T08:52:58.867208Z",
     "iopub.status.idle": "2024-05-03T08:52:58.874911Z",
     "shell.execute_reply": "2024-05-03T08:52:58.873948Z"
    },
    "papermill": {
     "duration": 0.017747,
     "end_time": "2024-05-03T08:52:58.877245",
     "exception": false,
     "start_time": "2024-05-03T08:52:58.859498",
     "status": "completed"
    },
    "tags": []
   },
   "outputs": [
    {
     "name": "stdout",
     "output_type": "stream",
     "text": [
      "/kaggle/working/UniTime_for_Kaggle\n"
     ]
    }
   ],
   "source": [
    "cd /kaggle/working/UniTime_for_Kaggle"
   ]
  },
  {
   "cell_type": "code",
   "execution_count": 3,
   "id": "6debc058",
   "metadata": {
    "execution": {
     "iopub.execute_input": "2024-05-03T08:52:58.890866Z",
     "iopub.status.busy": "2024-05-03T08:52:58.890072Z",
     "iopub.status.idle": "2024-05-03T08:53:03.010198Z",
     "shell.execute_reply": "2024-05-03T08:53:03.008447Z"
    },
    "papermill": {
     "duration": 4.129956,
     "end_time": "2024-05-03T08:53:03.013118",
     "exception": false,
     "start_time": "2024-05-03T08:52:58.883162",
     "status": "completed"
    },
    "tags": []
   },
   "outputs": [],
   "source": [
    "# перенос наборов данных\n",
    "!mv /kaggle/working/ETDataset*/* /kaggle/working/UniTime_for_Kaggle/dataset\n",
    "!mv /kaggle/working/weather/ /kaggle/working/UniTime_for_Kaggle/dataset\n",
    "!mv /kaggle/working/exchange_rate/ /kaggle/working/UniTime_for_Kaggle/dataset\n",
    "!mv /kaggle/working/illness/ /kaggle/working/UniTime_for_Kaggle/dataset"
   ]
  },
  {
   "cell_type": "code",
   "execution_count": 4,
   "id": "79573555",
   "metadata": {
    "execution": {
     "iopub.execute_input": "2024-05-03T08:53:03.027129Z",
     "iopub.status.busy": "2024-05-03T08:53:03.026213Z",
     "iopub.status.idle": "2024-05-03T08:53:04.068591Z",
     "shell.execute_reply": "2024-05-03T08:53:04.067158Z"
    },
    "papermill": {
     "duration": 1.052247,
     "end_time": "2024-05-03T08:53:04.071222",
     "exception": false,
     "start_time": "2024-05-03T08:53:03.018975",
     "status": "completed"
    },
    "tags": []
   },
   "outputs": [],
   "source": [
    "mkdir checkpoint_gpt2-small_full_train_all_del_Electricity_instruct_4_2_0.5_96 # создание папки для модели"
   ]
  },
  {
   "cell_type": "code",
   "execution_count": 5,
   "id": "1c3ab13a",
   "metadata": {
    "execution": {
     "iopub.execute_input": "2024-05-03T08:53:04.084422Z",
     "iopub.status.busy": "2024-05-03T08:53:04.084048Z",
     "iopub.status.idle": "2024-05-03T08:53:12.538029Z",
     "shell.execute_reply": "2024-05-03T08:53:12.536907Z"
    },
    "papermill": {
     "duration": 8.463634,
     "end_time": "2024-05-03T08:53:12.540687",
     "exception": false,
     "start_time": "2024-05-03T08:53:04.077053",
     "status": "completed"
    },
    "tags": []
   },
   "outputs": [
    {
     "name": "stdout",
     "output_type": "stream",
     "text": [
      "Downloading...\r\n",
      "From (original): https://drive.google.com/uc?id=1Bla0gzKspuL4XfH1w_jWtoRWx2wvANVY\r\n",
      "From (redirected): https://drive.google.com/uc?id=1Bla0gzKspuL4XfH1w_jWtoRWx2wvANVY&confirm=t&uuid=ddb06793-2869-4aaa-914c-2584ce87aa18\r\n",
      "To: /kaggle/working/UniTime_for_Kaggle/model_s2036.pth\r\n",
      "100%|████████████████████████████████████████| 377M/377M [00:06<00:00, 59.8MB/s]\r\n"
     ]
    }
   ],
   "source": [
    "!gdown --fuzzy https://drive.google.com/file/d/1Bla0gzKspuL4XfH1w_jWtoRWx2wvANVY/view?usp=drive_link \n",
    "# https://www.kaggle.com/code/mrantonzaitsev/unitime-create-model-zero-shot"
   ]
  },
  {
   "cell_type": "code",
   "execution_count": 6,
   "id": "59af1bd3",
   "metadata": {
    "execution": {
     "iopub.execute_input": "2024-05-03T08:53:12.560733Z",
     "iopub.status.busy": "2024-05-03T08:53:12.560295Z",
     "iopub.status.idle": "2024-05-03T08:53:13.956808Z",
     "shell.execute_reply": "2024-05-03T08:53:13.955546Z"
    },
    "papermill": {
     "duration": 1.409727,
     "end_time": "2024-05-03T08:53:13.959449",
     "exception": false,
     "start_time": "2024-05-03T08:53:12.549722",
     "status": "completed"
    },
    "tags": []
   },
   "outputs": [],
   "source": [
    "!cp /kaggle/working/UniTime_for_Kaggle/model_s2036.pth /kaggle/working/UniTime_for_Kaggle/checkpoint_gpt2-small_full_train_all_del_Electricity_instruct_4_2_0.5_96"
   ]
  },
  {
   "cell_type": "markdown",
   "id": "59112712",
   "metadata": {
    "papermill": {
     "duration": 0.008246,
     "end_time": "2024-05-03T08:53:13.977025",
     "exception": false,
     "start_time": "2024-05-03T08:53:13.968779",
     "status": "completed"
    },
    "tags": []
   },
   "source": [
    "**одномерный прогноз**"
   ]
  },
  {
   "cell_type": "code",
   "execution_count": 7,
   "id": "a1f1db3d",
   "metadata": {
    "execution": {
     "iopub.execute_input": "2024-05-03T08:53:13.995205Z",
     "iopub.status.busy": "2024-05-03T08:53:13.994783Z",
     "iopub.status.idle": "2024-05-03T09:22:09.631656Z",
     "shell.execute_reply": "2024-05-03T09:22:09.630197Z"
    },
    "papermill": {
     "duration": 1735.648945,
     "end_time": "2024-05-03T09:22:09.634171",
     "exception": false,
     "start_time": "2024-05-03T08:53:13.985226",
     "status": "completed"
    },
    "tags": []
   },
   "outputs": [
    {
     "name": "stdout",
     "output_type": "stream",
     "text": [
      "Log directory: checkpoint_gpt2-small_full_train_all_del_Electricity_instruct_4_2_0.5_96\r\n",
      "2024-05-03 08:53:24,462 - Namespace(gpu=0, training_list='execute_list/train_all_del_Electricity.csv', inference_list='execute_list/del_Electricity_inference.csv', eval_model_path='', is_training=0, seed=2036, target='OT', label_len=0, lm_pretrain_model='gpt2-small', lm_ft_type='full', instruct_path='data_configs/instruct.json', zero_shot_instruct='', mask_rate=0.5, patch_len=16, max_token_num=17, max_backcast_len=96, max_forecast_len=720, lm_layer_num=4, dec_trans_layer_num=2, ts_embed_dropout=0.3, dec_head_dropout=0.1, num_workers=10, train_epochs=10, patience=10, learning_rate=0.0001, weight_decay=0, clip=5, checkpoint='checkpoint_gpt2-small_full_train_all_del_Electricity_instruct_4_2_0.5_96')\r\n",
      "tokenizer_config.json: 100%|██████████████████| 26.0/26.0 [00:00<00:00, 107kB/s]\r\n",
      "vocab.json: 100%|██████████████████████████| 1.04M/1.04M [00:00<00:00, 9.36MB/s]\r\n",
      "merges.txt: 100%|████████████████████████████| 456k/456k [00:00<00:00, 8.86MB/s]\r\n",
      "tokenizer.json: 100%|██████████████████████| 1.36M/1.36M [00:00<00:00, 12.9MB/s]\r\n",
      "config.json: 100%|█████████████████████████████| 665/665 [00:00<00:00, 3.31MB/s]\r\n",
      "model.safetensors: 100%|██████████████████████| 548M/548M [00:04<00:00, 133MB/s]\r\n",
      "generation_config.json: 100%|███████████████████| 124/124 [00:00<00:00, 613kB/s]\r\n",
      "2024-05-03 08:53:31,172 - Trainable Params: 67736832, All Params: 67736832, Percent: 1.0\r\n",
      "2024-05-03 08:53:31,173 - Trainable Params: 94365744, All Params: 94365744, Percent: 1.0\r\n",
      "2024-05-03 08:53:31,184 - ***** Task: ETTh1_S_96_24_0.5_16_32 *****\r\n",
      "2024-05-03 08:53:31,237 - Mode: test, Sample Num: 2857, Batch Num: 2857\r\n",
      "2024-05-03 08:53:31,238 - ***** Task: ETTh1_S_96_96_0.5_16_32 *****\r\n",
      "2024-05-03 08:53:31,277 - Mode: test, Sample Num: 2785, Batch Num: 2785\r\n",
      "2024-05-03 08:53:31,278 - ***** Task: ETTh1_S_96_192_0.5_16_32 *****\r\n",
      "2024-05-03 08:53:31,318 - Mode: test, Sample Num: 2689, Batch Num: 2689\r\n",
      "2024-05-03 08:53:31,319 - ***** Task: ETTh1_S_96_336_0.5_16_32 *****\r\n",
      "2024-05-03 08:53:31,360 - Mode: test, Sample Num: 2545, Batch Num: 2545\r\n",
      "2024-05-03 08:53:31,361 - ***** Task: ETTh1_S_96_720_0.5_16_32 *****\r\n",
      "2024-05-03 08:53:31,402 - Mode: test, Sample Num: 2161, Batch Num: 2161\r\n",
      "2024-05-03 08:53:31,403 - ***** Task: ETTh2_S_96_24_0.5_16_32 *****\r\n",
      "2024-05-03 08:53:31,442 - Mode: test, Sample Num: 2857, Batch Num: 2857\r\n",
      "2024-05-03 08:53:31,444 - ***** Task: ETTh2_S_96_96_0.5_16_32 *****\r\n",
      "2024-05-03 08:53:31,482 - Mode: test, Sample Num: 2785, Batch Num: 2785\r\n",
      "2024-05-03 08:53:31,483 - ***** Task: ETTh2_S_96_192_0.5_16_32 *****\r\n",
      "2024-05-03 08:53:31,523 - Mode: test, Sample Num: 2689, Batch Num: 2689\r\n",
      "2024-05-03 08:53:31,524 - ***** Task: ETTh2_S_96_336_0.5_16_32 *****\r\n",
      "2024-05-03 08:53:31,565 - Mode: test, Sample Num: 2545, Batch Num: 2545\r\n",
      "2024-05-03 08:53:31,566 - ***** Task: ETTh2_S_96_720_0.5_16_32 *****\r\n",
      "2024-05-03 08:53:31,607 - Mode: test, Sample Num: 2161, Batch Num: 2161\r\n",
      "2024-05-03 08:53:31,608 - ***** Task: exchange_S_96_24_0.5_16_24 *****\r\n",
      "2024-05-03 08:53:31,627 - Mode: test, Sample Num: 1494, Batch Num: 1494\r\n",
      "2024-05-03 08:53:31,628 - ***** Task: exchange_S_96_96_0.5_16_24 *****\r\n",
      "2024-05-03 08:53:31,644 - Mode: test, Sample Num: 1422, Batch Num: 1422\r\n",
      "2024-05-03 08:53:31,645 - ***** Task: exchange_S_96_192_0.5_16_24 *****\r\n",
      "2024-05-03 08:53:31,662 - Mode: test, Sample Num: 1326, Batch Num: 1326\r\n",
      "2024-05-03 08:53:31,664 - ***** Task: exchange_S_96_336_0.5_16_24 *****\r\n",
      "2024-05-03 08:53:31,681 - Mode: test, Sample Num: 1182, Batch Num: 1182\r\n",
      "2024-05-03 08:53:31,683 - ***** Task: exchange_S_96_720_0.5_16_24 *****\r\n",
      "2024-05-03 08:53:31,701 - Mode: test, Sample Num: 798, Batch Num: 798\r\n",
      "2024-05-03 08:53:31,702 - ***** Task: illness_S_36_24_0.5_4_16 *****\r\n",
      "2024-05-03 08:53:31,707 - Mode: test, Sample Num: 170, Batch Num: 170\r\n",
      "2024-05-03 08:53:31,708 - ***** Task: illness_S_36_36_0.5_4_16 *****\r\n",
      "2024-05-03 08:53:31,714 - Mode: test, Sample Num: 158, Batch Num: 158\r\n",
      "2024-05-03 08:53:31,715 - ***** Task: illness_S_36_48_0.5_4_16 *****\r\n",
      "2024-05-03 08:53:31,720 - Mode: test, Sample Num: 146, Batch Num: 146\r\n",
      "2024-05-03 08:53:31,721 - ***** Task: illness_S_36_60_0.5_4_16 *****\r\n",
      "2024-05-03 08:53:31,727 - Mode: test, Sample Num: 134, Batch Num: 134\r\n",
      "2024-05-03 08:53:31,728 - ***** Task: ETTm1_S_96_24_0.5_16_64 *****\r\n",
      "2024-05-03 08:53:31,903 - Mode: test, Sample Num: 11497, Batch Num: 11497\r\n",
      "2024-05-03 08:53:31,904 - ***** Task: ETTm1_S_96_96_0.5_16_64 *****\r\n",
      "2024-05-03 08:53:32,071 - Mode: test, Sample Num: 11425, Batch Num: 11425\r\n",
      "2024-05-03 08:53:32,072 - ***** Task: ETTm1_S_96_192_0.5_16_64 *****\r\n",
      "2024-05-03 08:53:32,235 - Mode: test, Sample Num: 11329, Batch Num: 11329\r\n",
      "2024-05-03 08:53:32,236 - ***** Task: ETTm1_S_96_336_0.5_16_64 *****\r\n",
      "2024-05-03 08:53:32,400 - Mode: test, Sample Num: 11185, Batch Num: 11185\r\n",
      "2024-05-03 08:53:32,402 - ***** Task: ETTm1_S_96_720_0.5_16_64 *****\r\n",
      "2024-05-03 08:53:32,564 - Mode: test, Sample Num: 10801, Batch Num: 10801\r\n",
      "2024-05-03 08:53:32,565 - ***** Task: ETTm2_S_96_24_0.5_16_64 *****\r\n",
      "2024-05-03 08:53:32,724 - Mode: test, Sample Num: 11497, Batch Num: 11497\r\n",
      "2024-05-03 08:53:32,725 - ***** Task: ETTm2_S_96_96_0.5_16_64 *****\r\n",
      "2024-05-03 08:53:32,883 - Mode: test, Sample Num: 11425, Batch Num: 11425\r\n",
      "2024-05-03 08:53:32,884 - ***** Task: ETTm2_S_96_192_0.5_16_64 *****\r\n",
      "2024-05-03 08:53:33,042 - Mode: test, Sample Num: 11329, Batch Num: 11329\r\n",
      "2024-05-03 08:53:33,043 - ***** Task: ETTm2_S_96_336_0.5_16_64 *****\r\n",
      "2024-05-03 08:53:33,216 - Mode: test, Sample Num: 11185, Batch Num: 11185\r\n",
      "2024-05-03 08:53:33,217 - ***** Task: ETTm2_S_96_720_0.5_16_64 *****\r\n",
      "2024-05-03 08:53:33,377 - Mode: test, Sample Num: 10801, Batch Num: 10801\r\n",
      "2024-05-03 08:53:33,378 - ***** Task: weather_S_96_24_0.5_16_64 *****\r\n",
      "2024-05-03 08:53:33,566 - Mode: test, Sample Num: 10516, Batch Num: 10516\r\n",
      "2024-05-03 08:53:33,567 - ***** Task: weather_S_96_96_0.5_16_64 *****\r\n",
      "2024-05-03 08:53:33,752 - Mode: test, Sample Num: 10444, Batch Num: 10444\r\n",
      "2024-05-03 08:53:33,753 - ***** Task: weather_S_96_192_0.5_16_64 *****\r\n",
      "2024-05-03 08:53:33,934 - Mode: test, Sample Num: 10348, Batch Num: 10348\r\n",
      "2024-05-03 08:53:33,935 - ***** Task: weather_S_96_336_0.5_16_64 *****\r\n",
      "2024-05-03 08:53:34,115 - Mode: test, Sample Num: 10204, Batch Num: 10204\r\n",
      "2024-05-03 08:53:34,116 - ***** Task: weather_S_96_720_0.5_16_64 *****\r\n",
      "2024-05-03 08:53:34,303 - Mode: test, Sample Num: 9820, Batch Num: 9820\r\n",
      "2024-05-03 08:53:34,303 - Start testing!\r\n",
      "2024-05-03 08:54:00,083 - Setting: ETTh1_96_24, MSE: 0.051641, MAE: 0.178560\r\n",
      "2024-05-03 08:54:23,188 - Setting: ETTh1_96_96, MSE: 0.078360, MAE: 0.216919\r\n",
      "2024-05-03 08:54:45,807 - Setting: ETTh1_96_192, MSE: 0.094766, MAE: 0.241090\r\n",
      "2024-05-03 08:55:07,370 - Setting: ETTh1_96_336, MSE: 0.109312, MAE: 0.262937\r\n",
      "2024-05-03 08:55:26,067 - Setting: ETTh1_96_720, MSE: 0.122109, MAE: 0.276482\r\n",
      "2024-05-03 08:55:51,518 - Setting: ETTh2_96_24, MSE: 0.223150, MAE: 0.369013\r\n",
      "2024-05-03 08:56:16,281 - Setting: ETTh2_96_96, MSE: 0.264469, MAE: 0.410934\r\n",
      "2024-05-03 08:56:40,208 - Setting: ETTh2_96_192, MSE: 0.307071, MAE: 0.447135\r\n",
      "2024-05-03 08:57:03,562 - Setting: ETTh2_96_336, MSE: 0.339661, MAE: 0.474279\r\n",
      "2024-05-03 08:57:22,910 - Setting: ETTh2_96_720, MSE: 0.377092, MAE: 0.498554\r\n",
      "2024-05-03 08:57:36,353 - Setting: exchange_96_24, MSE: 0.067126, MAE: 0.199048\r\n",
      "2024-05-03 08:57:49,863 - Setting: exchange_96_96, MSE: 0.160945, MAE: 0.307245\r\n",
      "2024-05-03 08:58:02,429 - Setting: exchange_96_192, MSE: 0.270150, MAE: 0.411166\r\n",
      "2024-05-03 08:58:13,778 - Setting: exchange_96_336, MSE: 0.465022, MAE: 0.530381\r\n",
      "2024-05-03 08:58:21,377 - Setting: exchange_96_720, MSE: 1.060686, MAE: 0.798042\r\n",
      "2024-05-03 08:58:23,135 - Setting: illness_36_24, MSE: 0.895135, MAE: 0.744271\r\n",
      "2024-05-03 08:58:24,769 - Setting: illness_36_36, MSE: 0.914173, MAE: 0.779903\r\n",
      "2024-05-03 08:58:26,269 - Setting: illness_36_48, MSE: 0.941665, MAE: 0.812634\r\n",
      "2024-05-03 08:58:27,684 - Setting: illness_36_60, MSE: 0.981924, MAE: 0.842126\r\n",
      "2024-05-03 09:00:07,847 - Setting: ETTm1_96_24, MSE: 0.027888, MAE: 0.128127\r\n",
      "2024-05-03 09:01:49,934 - Setting: ETTm1_96_96, MSE: 0.043156, MAE: 0.159624\r\n",
      "2024-05-03 09:03:32,541 - Setting: ETTm1_96_192, MSE: 0.055772, MAE: 0.183092\r\n",
      "2024-05-03 09:05:12,851 - Setting: ETTm1_96_336, MSE: 0.067128, MAE: 0.202194\r\n",
      "2024-05-03 09:06:48,319 - Setting: ETTm1_96_720, MSE: 0.088360, MAE: 0.231699\r\n",
      "2024-05-03 09:08:29,255 - Setting: ETTm2_96_24, MSE: 0.249346, MAE: 0.384501\r\n",
      "2024-05-03 09:10:10,957 - Setting: ETTm2_96_96, MSE: 0.206456, MAE: 0.353162\r\n",
      "2024-05-03 09:11:47,088 - Setting: ETTm2_96_192, MSE: 0.227274, MAE: 0.371436\r\n",
      "2024-05-03 09:13:20,173 - Setting: ETTm2_96_336, MSE: 0.243831, MAE: 0.387742\r\n",
      "2024-05-03 09:14:50,604 - Setting: ETTm2_96_720, MSE: 0.283275, MAE: 0.424738\r\n",
      "2024-05-03 09:16:19,277 - Setting: weather_96_24, MSE: 0.001015, MAE: 0.023692\r\n",
      "2024-05-03 09:17:48,277 - Setting: weather_96_96, MSE: 0.001497, MAE: 0.028581\r\n",
      "2024-05-03 09:19:17,007 - Setting: weather_96_192, MSE: 0.001661, MAE: 0.030251\r\n",
      "2024-05-03 09:20:44,017 - Setting: weather_96_336, MSE: 0.001776, MAE: 0.031344\r\n",
      "2024-05-03 09:22:07,930 - Setting: weather_96_720, MSE: 0.002212, MAE: 0.035114\r\n",
      "CPU times: user 32.7 s, sys: 6.18 s, total: 38.8 s\n",
      "Wall time: 28min 55s\n"
     ]
    }
   ],
   "source": [
    "%%time\n",
    "!python run_univariate.py \\\n",
    "--training_list execute_list/train_all_del_Electricity.csv \\\n",
    "--max_token_num 17 \\\n",
    "--is_training 0 \\\n",
    "--lm_layer_num 4 \\\n",
    "--inference_list execute_list/del_Electricity_inference.csv"
   ]
  },
  {
   "cell_type": "markdown",
   "id": "5339dd12",
   "metadata": {
    "papermill": {
     "duration": 0.017835,
     "end_time": "2024-05-03T09:22:09.670008",
     "exception": false,
     "start_time": "2024-05-03T09:22:09.652173",
     "status": "completed"
    },
    "tags": []
   },
   "source": [
    "**многомерный прогноз**"
   ]
  },
  {
   "cell_type": "code",
   "execution_count": 8,
   "id": "e67916ac",
   "metadata": {
    "execution": {
     "iopub.execute_input": "2024-05-03T09:22:09.708202Z",
     "iopub.status.busy": "2024-05-03T09:22:09.707787Z",
     "iopub.status.idle": "2024-05-03T09:54:01.938760Z",
     "shell.execute_reply": "2024-05-03T09:54:01.937417Z"
    },
    "papermill": {
     "duration": 1912.252554,
     "end_time": "2024-05-03T09:54:01.940876",
     "exception": false,
     "start_time": "2024-05-03T09:22:09.688322",
     "status": "completed"
    },
    "tags": []
   },
   "outputs": [
    {
     "name": "stdout",
     "output_type": "stream",
     "text": [
      "Log directory: checkpoint_gpt2-small_full_train_all_del_Electricity_instruct_4_2_0.5_96\r\n",
      "2024-05-03 09:22:15,856 - Namespace(gpu=0, training_list='execute_list/train_all_del_Electricity.csv', inference_list='execute_list/del_Electricity_inference.csv', eval_model_path='', is_training=0, seed=2036, target='OT', label_len=0, lm_pretrain_model='gpt2-small', lm_ft_type='full', instruct_path='data_configs/instruct.json', zero_shot_instruct='', mask_rate=0.5, patch_len=16, max_token_num=17, max_backcast_len=96, max_forecast_len=720, lm_layer_num=4, dec_trans_layer_num=2, ts_embed_dropout=0.3, dec_head_dropout=0.1, num_workers=10, train_epochs=10, patience=10, learning_rate=0.0001, weight_decay=0, clip=5, checkpoint='checkpoint_gpt2-small_full_train_all_del_Electricity_instruct_4_2_0.5_96')\r\n",
      "2024-05-03 09:22:17,163 - Trainable Params: 67736832, All Params: 67736832, Percent: 1.0\r\n",
      "2024-05-03 09:22:17,163 - Trainable Params: 94365744, All Params: 94365744, Percent: 1.0\r\n",
      "2024-05-03 09:22:17,167 - ***** Task: ETTh1_M_96_24_0.5_16_32 *****\r\n",
      "2024-05-03 09:22:17,213 - Mode: test, Sample Num: 2857, Batch Num: 2857\r\n",
      "2024-05-03 09:22:17,214 - ***** Task: ETTh1_M_96_96_0.5_16_32 *****\r\n",
      "2024-05-03 09:22:17,257 - Mode: test, Sample Num: 2785, Batch Num: 2785\r\n",
      "2024-05-03 09:22:17,258 - ***** Task: ETTh1_M_96_192_0.5_16_32 *****\r\n",
      "2024-05-03 09:22:17,301 - Mode: test, Sample Num: 2689, Batch Num: 2689\r\n",
      "2024-05-03 09:22:17,303 - ***** Task: ETTh1_M_96_336_0.5_16_32 *****\r\n",
      "2024-05-03 09:22:17,345 - Mode: test, Sample Num: 2545, Batch Num: 2545\r\n",
      "2024-05-03 09:22:17,346 - ***** Task: ETTh1_M_96_720_0.5_16_32 *****\r\n",
      "2024-05-03 09:22:17,389 - Mode: test, Sample Num: 2161, Batch Num: 2161\r\n",
      "2024-05-03 09:22:17,390 - ***** Task: ETTh2_M_96_24_0.5_16_32 *****\r\n",
      "2024-05-03 09:22:17,431 - Mode: test, Sample Num: 2857, Batch Num: 2857\r\n",
      "2024-05-03 09:22:17,432 - ***** Task: ETTh2_M_96_96_0.5_16_32 *****\r\n",
      "2024-05-03 09:22:17,473 - Mode: test, Sample Num: 2785, Batch Num: 2785\r\n",
      "2024-05-03 09:22:17,474 - ***** Task: ETTh2_M_96_192_0.5_16_32 *****\r\n",
      "2024-05-03 09:22:17,515 - Mode: test, Sample Num: 2689, Batch Num: 2689\r\n",
      "2024-05-03 09:22:17,517 - ***** Task: ETTh2_M_96_336_0.5_16_32 *****\r\n",
      "2024-05-03 09:22:17,559 - Mode: test, Sample Num: 2545, Batch Num: 2545\r\n",
      "2024-05-03 09:22:17,561 - ***** Task: ETTh2_M_96_720_0.5_16_32 *****\r\n",
      "2024-05-03 09:22:17,603 - Mode: test, Sample Num: 2161, Batch Num: 2161\r\n",
      "2024-05-03 09:22:17,604 - ***** Task: exchange_M_96_24_0.5_16_24 *****\r\n",
      "2024-05-03 09:22:17,623 - Mode: test, Sample Num: 1494, Batch Num: 1494\r\n",
      "2024-05-03 09:22:17,624 - ***** Task: exchange_M_96_96_0.5_16_24 *****\r\n",
      "2024-05-03 09:22:17,642 - Mode: test, Sample Num: 1422, Batch Num: 1422\r\n",
      "2024-05-03 09:22:17,643 - ***** Task: exchange_M_96_192_0.5_16_24 *****\r\n",
      "2024-05-03 09:22:17,661 - Mode: test, Sample Num: 1326, Batch Num: 1326\r\n",
      "2024-05-03 09:22:17,662 - ***** Task: exchange_M_96_336_0.5_16_24 *****\r\n",
      "2024-05-03 09:22:17,681 - Mode: test, Sample Num: 1182, Batch Num: 1182\r\n",
      "2024-05-03 09:22:17,682 - ***** Task: exchange_M_96_720_0.5_16_24 *****\r\n",
      "2024-05-03 09:22:17,700 - Mode: test, Sample Num: 798, Batch Num: 798\r\n",
      "2024-05-03 09:22:17,701 - ***** Task: illness_M_36_24_0.5_4_16 *****\r\n",
      "2024-05-03 09:22:17,707 - Mode: test, Sample Num: 170, Batch Num: 170\r\n",
      "2024-05-03 09:22:17,708 - ***** Task: illness_M_36_36_0.5_4_16 *****\r\n",
      "2024-05-03 09:22:17,714 - Mode: test, Sample Num: 158, Batch Num: 158\r\n",
      "2024-05-03 09:22:17,715 - ***** Task: illness_M_36_48_0.5_4_16 *****\r\n",
      "2024-05-03 09:22:17,720 - Mode: test, Sample Num: 146, Batch Num: 146\r\n",
      "2024-05-03 09:22:17,721 - ***** Task: illness_M_36_60_0.5_4_16 *****\r\n",
      "2024-05-03 09:22:17,727 - Mode: test, Sample Num: 134, Batch Num: 134\r\n",
      "2024-05-03 09:22:17,729 - ***** Task: ETTm1_M_96_24_0.5_16_64 *****\r\n",
      "2024-05-03 09:22:17,898 - Mode: test, Sample Num: 11497, Batch Num: 11497\r\n",
      "2024-05-03 09:22:17,900 - ***** Task: ETTm1_M_96_96_0.5_16_64 *****\r\n",
      "2024-05-03 09:22:18,066 - Mode: test, Sample Num: 11425, Batch Num: 11425\r\n",
      "2024-05-03 09:22:18,067 - ***** Task: ETTm1_M_96_192_0.5_16_64 *****\r\n",
      "2024-05-03 09:22:18,234 - Mode: test, Sample Num: 11329, Batch Num: 11329\r\n",
      "2024-05-03 09:22:18,235 - ***** Task: ETTm1_M_96_336_0.5_16_64 *****\r\n",
      "2024-05-03 09:22:18,404 - Mode: test, Sample Num: 11185, Batch Num: 11185\r\n",
      "2024-05-03 09:22:18,405 - ***** Task: ETTm1_M_96_720_0.5_16_64 *****\r\n",
      "2024-05-03 09:22:18,579 - Mode: test, Sample Num: 10801, Batch Num: 10801\r\n",
      "2024-05-03 09:22:18,581 - ***** Task: ETTm2_M_96_24_0.5_16_64 *****\r\n",
      "2024-05-03 09:22:18,746 - Mode: test, Sample Num: 11497, Batch Num: 11497\r\n",
      "2024-05-03 09:22:18,747 - ***** Task: ETTm2_M_96_96_0.5_16_64 *****\r\n",
      "2024-05-03 09:22:18,912 - Mode: test, Sample Num: 11425, Batch Num: 11425\r\n",
      "2024-05-03 09:22:18,913 - ***** Task: ETTm2_M_96_192_0.5_16_64 *****\r\n",
      "2024-05-03 09:22:19,076 - Mode: test, Sample Num: 11329, Batch Num: 11329\r\n",
      "2024-05-03 09:22:19,077 - ***** Task: ETTm2_M_96_336_0.5_16_64 *****\r\n",
      "2024-05-03 09:22:19,247 - Mode: test, Sample Num: 11185, Batch Num: 11185\r\n",
      "2024-05-03 09:22:19,249 - ***** Task: ETTm2_M_96_720_0.5_16_64 *****\r\n",
      "2024-05-03 09:22:19,411 - Mode: test, Sample Num: 10801, Batch Num: 10801\r\n",
      "2024-05-03 09:22:19,412 - ***** Task: weather_M_96_24_0.5_16_64 *****\r\n",
      "2024-05-03 09:22:19,601 - Mode: test, Sample Num: 10516, Batch Num: 10516\r\n",
      "2024-05-03 09:22:19,602 - ***** Task: weather_M_96_96_0.5_16_64 *****\r\n",
      "2024-05-03 09:22:19,796 - Mode: test, Sample Num: 10444, Batch Num: 10444\r\n",
      "2024-05-03 09:22:19,797 - ***** Task: weather_M_96_192_0.5_16_64 *****\r\n",
      "2024-05-03 09:22:19,999 - Mode: test, Sample Num: 10348, Batch Num: 10348\r\n",
      "2024-05-03 09:22:20,000 - ***** Task: weather_M_96_336_0.5_16_64 *****\r\n",
      "2024-05-03 09:22:20,202 - Mode: test, Sample Num: 10204, Batch Num: 10204\r\n",
      "2024-05-03 09:22:20,203 - ***** Task: weather_M_96_720_0.5_16_64 *****\r\n",
      "2024-05-03 09:22:20,404 - Mode: test, Sample Num: 9820, Batch Num: 9820\r\n",
      "2024-05-03 09:22:20,404 - Start testing!\r\n",
      "2024-05-03 09:22:48,115 - Setting: ETTh1_96_24, MSE: 0.978388, MAE: 0.661907\r\n",
      "2024-05-03 09:23:14,575 - Setting: ETTh1_96_96, MSE: 0.964619, MAE: 0.655955\r\n",
      "2024-05-03 09:23:40,712 - Setting: ETTh1_96_192, MSE: 0.988458, MAE: 0.669937\r\n",
      "2024-05-03 09:24:05,016 - Setting: ETTh1_96_336, MSE: 0.964684, MAE: 0.668255\r\n",
      "2024-05-03 09:24:26,135 - Setting: ETTh1_96_720, MSE: 0.965795, MAE: 0.681291\r\n",
      "2024-05-03 09:24:53,351 - Setting: ETTh2_96_24, MSE: 0.324275, MAE: 0.380402\r\n",
      "2024-05-03 09:25:20,248 - Setting: ETTh2_96_96, MSE: 0.430422, MAE: 0.434927\r\n",
      "2024-05-03 09:25:45,376 - Setting: ETTh2_96_192, MSE: 0.502856, MAE: 0.472479\r\n",
      "2024-05-03 09:26:10,065 - Setting: ETTh2_96_336, MSE: 0.520858, MAE: 0.491151\r\n",
      "2024-05-03 09:26:31,692 - Setting: ETTh2_96_720, MSE: 0.515858, MAE: 0.495571\r\n",
      "2024-05-03 09:26:46,388 - Setting: exchange_96_24, MSE: 0.063151, MAE: 0.176591\r\n",
      "2024-05-03 09:27:00,307 - Setting: exchange_96_96, MSE: 0.151885, MAE: 0.276403\r\n",
      "2024-05-03 09:27:13,194 - Setting: exchange_96_192, MSE: 0.248681, MAE: 0.360513\r\n",
      "2024-05-03 09:27:24,895 - Setting: exchange_96_336, MSE: 0.396609, MAE: 0.461724\r\n",
      "2024-05-03 09:27:33,068 - Setting: exchange_96_720, MSE: 0.944745, MAE: 0.740251\r\n",
      "2024-05-03 09:27:34,959 - Setting: illness_36_24, MSE: 5.149458, MAE: 1.532523\r\n",
      "2024-05-03 09:27:36,725 - Setting: illness_36_36, MSE: 3.851945, MAE: 1.299538\r\n",
      "2024-05-03 09:27:38,377 - Setting: illness_36_48, MSE: 3.114485, MAE: 1.195160\r\n",
      "2024-05-03 09:27:39,887 - Setting: illness_36_60, MSE: 2.971905, MAE: 1.205088\r\n",
      "2024-05-03 09:29:27,493 - Setting: ETTm1_96_24, MSE: 1.380665, MAE: 0.753432\r\n",
      "2024-05-03 09:31:08,938 - Setting: ETTm1_96_96, MSE: 1.030293, MAE: 0.649006\r\n",
      "2024-05-03 09:32:50,166 - Setting: ETTm1_96_192, MSE: 1.015506, MAE: 0.653983\r\n",
      "2024-05-03 09:34:31,149 - Setting: ETTm1_96_336, MSE: 0.991755, MAE: 0.651753\r\n",
      "2024-05-03 09:36:09,122 - Setting: ETTm1_96_720, MSE: 1.011592, MAE: 0.667124\r\n",
      "2024-05-03 09:37:50,539 - Setting: ETTm2_96_24, MSE: 0.235528, MAE: 0.335657\r\n",
      "2024-05-03 09:39:30,042 - Setting: ETTm2_96_96, MSE: 0.279053, MAE: 0.347031\r\n",
      "2024-05-03 09:41:09,592 - Setting: ETTm2_96_192, MSE: 0.335531, MAE: 0.376470\r\n",
      "2024-05-03 09:42:46,948 - Setting: ETTm2_96_336, MSE: 0.386246, MAE: 0.403631\r\n",
      "2024-05-03 09:44:23,664 - Setting: ETTm2_96_720, MSE: 0.481468, MAE: 0.451145\r\n",
      "2024-05-03 09:46:20,252 - Setting: weather_96_24, MSE: 0.205882, MAE: 0.251698\r\n",
      "2024-05-03 09:48:16,224 - Setting: weather_96_96, MSE: 0.268336, MAE: 0.299503\r\n",
      "2024-05-03 09:50:11,483 - Setting: weather_96_192, MSE: 0.311893, MAE: 0.329590\r\n",
      "2024-05-03 09:52:06,789 - Setting: weather_96_336, MSE: 0.361156, MAE: 0.359975\r\n",
      "2024-05-03 09:54:00,731 - Setting: weather_96_720, MSE: 0.427884, MAE: 0.400553\r\n",
      "CPU times: user 32.2 s, sys: 6.52 s, total: 38.7 s\n",
      "Wall time: 31min 52s\n"
     ]
    }
   ],
   "source": [
    "%%time\n",
    "!python run.py \\\n",
    "--training_list execute_list/train_all_del_Electricity.csv \\\n",
    "--max_token_num 17 \\\n",
    "--is_training 0 \\\n",
    "--lm_layer_num 4 \\\n",
    "--inference_list execute_list/del_Electricity_inference.csv"
   ]
  }
 ],
 "metadata": {
  "kaggle": {
   "accelerator": "gpu",
   "dataSources": [],
   "dockerImageVersionId": 30699,
   "isGpuEnabled": true,
   "isInternetEnabled": true,
   "language": "python",
   "sourceType": "notebook"
  },
  "kernelspec": {
   "display_name": "Python 3",
   "language": "python",
   "name": "python3"
  },
  "language_info": {
   "codemirror_mode": {
    "name": "ipython",
    "version": 3
   },
   "file_extension": ".py",
   "mimetype": "text/x-python",
   "name": "python",
   "nbconvert_exporter": "python",
   "pygments_lexer": "ipython3",
   "version": "3.10.13"
  },
  "papermill": {
   "default_parameters": {},
   "duration": 3696.293261,
   "end_time": "2024-05-03T09:54:02.189142",
   "environment_variables": {},
   "exception": null,
   "input_path": "__notebook__.ipynb",
   "output_path": "__notebook__.ipynb",
   "parameters": {},
   "start_time": "2024-05-03T08:52:25.895881",
   "version": "2.5.0"
  }
 },
 "nbformat": 4,
 "nbformat_minor": 5
}
