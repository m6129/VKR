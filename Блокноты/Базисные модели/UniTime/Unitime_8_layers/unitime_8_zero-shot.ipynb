{
 "cells": [
  {
   "cell_type": "code",
   "execution_count": 1,
   "id": "39f91863",
   "metadata": {
    "_cell_guid": "b1076dfc-b9ad-4769-8c92-a6c4dae69d19",
    "_uuid": "8f2839f25d086af736a60e9eeb907d3b93b6e0e5",
    "execution": {
     "iopub.execute_input": "2024-05-14T14:54:11.828068Z",
     "iopub.status.busy": "2024-05-14T14:54:11.827694Z",
     "iopub.status.idle": "2024-05-14T14:54:43.442057Z",
     "shell.execute_reply": "2024-05-14T14:54:43.440635Z"
    },
    "papermill": {
     "duration": 31.622298,
     "end_time": "2024-05-14T14:54:43.444608",
     "exception": false,
     "start_time": "2024-05-14T14:54:11.822310",
     "status": "completed"
    },
    "tags": []
   },
   "outputs": [
    {
     "name": "stdout",
     "output_type": "stream",
     "text": [
      "Cloning into 'UniTime_for_Kaggle'...\r\n",
      "remote: Enumerating objects: 204, done.\u001b[K\r\n",
      "remote: Counting objects: 100% (204/204), done.\u001b[K\r\n",
      "remote: Compressing objects: 100% (178/178), done.\u001b[K\r\n",
      "remote: Total 204 (delta 123), reused 68 (delta 23), pack-reused 0\u001b[K\r\n",
      "Receiving objects: 100% (204/204), 496.72 KiB | 9.93 MiB/s, done.\r\n",
      "Resolving deltas: 100% (123/123), done.\r\n",
      "Cloning into 'ETDataset'...\r\n",
      "remote: Enumerating objects: 187, done.\u001b[K\r\n",
      "remote: Counting objects: 100% (28/28), done.\u001b[K\r\n",
      "remote: Compressing objects: 100% (8/8), done.\u001b[K\r\n",
      "remote: Total 187 (delta 25), reused 20 (delta 20), pack-reused 159\u001b[K\r\n",
      "Receiving objects: 100% (187/187), 3.86 MiB | 17.32 MiB/s, done.\r\n",
      "Resolving deltas: 100% (62/62), done.\r\n",
      "Downloading...\r\n",
      "From: https://drive.google.com/uc?id=1nXdMIJ7K201Bx3IBGNiaNFQ6FzeDEzIr\r\n",
      "To: /kaggle/working/weather.zip\r\n",
      "100%|███████████████████████████████████████| 2.29M/2.29M [00:00<00:00, 169MB/s]\r\n",
      "Downloading...\r\n",
      "From: https://drive.google.com/uc?id=1rN79CxW3Vldp-WDuSoG0bKq9tYQR79UK\r\n",
      "To: /kaggle/working/exchange_rate.zip\r\n",
      "100%|█████████████████████████████████████████| 194k/194k [00:00<00:00, 109MB/s]\r\n",
      "Downloading...\r\n",
      "From: https://drive.google.com/uc?id=1WMKg7KevVEEd9jrfLG8mcpOequZMbjlM\r\n",
      "To: /kaggle/working/illness.zip\r\n",
      "100%|██████████████████████████████████████| 26.0k/26.0k [00:00<00:00, 63.1MB/s]\r\n",
      "Archive:  /kaggle/working/weather.zip\r\n",
      "   creating: weather/\r\n",
      "  inflating: weather/weather.csv     \r\n",
      "Archive:  /kaggle/working/exchange_rate.zip\r\n",
      "   creating: exchange_rate/\r\n",
      "  inflating: exchange_rate/.DS_Store  \r\n",
      "  inflating: exchange_rate/exchange_rate.csv  \r\n",
      "Archive:  /kaggle/working/illness.zip\r\n",
      "   creating: illness/\r\n",
      "  inflating: illness/national_illness.csv  \r\n"
     ]
    }
   ],
   "source": [
    "!pip install gdown -q # для загрузки файлов с гугл-диска\n",
    "\n",
    "!git clone https://github.com/m6129/UniTime_for_Kaggle.git #скорректированный репозиторий\n",
    "# подгрузка наборов данных    \n",
    "!git clone https://github.com/zhouhaoyi/ETDataset.git   \n",
    "!gdown --fuzzy https://drive.google.com/file/d/1nXdMIJ7K201Bx3IBGNiaNFQ6FzeDEzIr/view?usp=drive_link\n",
    "!gdown --fuzzy https://drive.google.com/file/d/1rN79CxW3Vldp-WDuSoG0bKq9tYQR79UK/view?usp=drive_link\n",
    "!gdown --fuzzy https://drive.google.com/file/d/1WMKg7KevVEEd9jrfLG8mcpOequZMbjlM/view?usp=drive_link\n",
    "!unzip /kaggle/working/weather.zip\n",
    "!unzip /kaggle/working/exchange_rate.zip\n",
    "!unzip /kaggle/working/illness.zip\n",
    "# новыt наборы данных\n",
    "!gdown --fuzzy https://drive.google.com/file/d/1-Jy7C9Dh9QJF_yWKf2hQKUia56aQXBJ0/view?usp=drive_link -q\n",
    "!gdown --fuzzy https://drive.google.com/file/d/1lPZhTcJVirbwhN6EpppcmpZzbDcBn4rx/view?usp=drive_link -q"
   ]
  },
  {
   "cell_type": "code",
   "execution_count": 2,
   "id": "b1296aec",
   "metadata": {
    "execution": {
     "iopub.execute_input": "2024-05-14T14:54:43.456867Z",
     "iopub.status.busy": "2024-05-14T14:54:43.456520Z",
     "iopub.status.idle": "2024-05-14T14:54:43.462724Z",
     "shell.execute_reply": "2024-05-14T14:54:43.461902Z"
    },
    "papermill": {
     "duration": 0.014413,
     "end_time": "2024-05-14T14:54:43.464613",
     "exception": false,
     "start_time": "2024-05-14T14:54:43.450200",
     "status": "completed"
    },
    "tags": []
   },
   "outputs": [
    {
     "name": "stdout",
     "output_type": "stream",
     "text": [
      "/kaggle/working/UniTime_for_Kaggle\n"
     ]
    }
   ],
   "source": [
    "cd /kaggle/working/UniTime_for_Kaggle"
   ]
  },
  {
   "cell_type": "code",
   "execution_count": 3,
   "id": "cfe5312e",
   "metadata": {
    "execution": {
     "iopub.execute_input": "2024-05-14T14:54:43.475975Z",
     "iopub.status.busy": "2024-05-14T14:54:43.475709Z",
     "iopub.status.idle": "2024-05-14T14:54:49.135789Z",
     "shell.execute_reply": "2024-05-14T14:54:49.134497Z"
    },
    "papermill": {
     "duration": 5.668497,
     "end_time": "2024-05-14T14:54:49.138181",
     "exception": false,
     "start_time": "2024-05-14T14:54:43.469684",
     "status": "completed"
    },
    "tags": []
   },
   "outputs": [],
   "source": [
    "# перенос наборов данных\n",
    "!mv /kaggle/working/ETDataset*/* /kaggle/working/UniTime_for_Kaggle/dataset\n",
    "!mv /kaggle/working/weather/ /kaggle/working/UniTime_for_Kaggle/dataset\n",
    "!mv /kaggle/working/exchange_rate/ /kaggle/working/UniTime_for_Kaggle/dataset\n",
    "!mv /kaggle/working/illness/ /kaggle/working/UniTime_for_Kaggle/dataset\n",
    "\n",
    "!mv /kaggle/working/de_small.csv /kaggle/working/UniTime_for_Kaggle/dataset\n",
    "!mv /kaggle/working/de_big.csv /kaggle/working/UniTime_for_Kaggle/dataset"
   ]
  },
  {
   "cell_type": "code",
   "execution_count": 4,
   "id": "0eee2d49",
   "metadata": {
    "execution": {
     "iopub.execute_input": "2024-05-14T14:54:49.150363Z",
     "iopub.status.busy": "2024-05-14T14:54:49.150038Z",
     "iopub.status.idle": "2024-05-14T14:54:50.089263Z",
     "shell.execute_reply": "2024-05-14T14:54:50.088190Z"
    },
    "papermill": {
     "duration": 0.947863,
     "end_time": "2024-05-14T14:54:50.091533",
     "exception": false,
     "start_time": "2024-05-14T14:54:49.143670",
     "status": "completed"
    },
    "tags": []
   },
   "outputs": [],
   "source": [
    "mkdir checkpoint_gpt2-small_full_divided_list_instruct_8_2_0.5_96 # создание папки для модели"
   ]
  },
  {
   "cell_type": "code",
   "execution_count": 5,
   "id": "9e939d6e",
   "metadata": {
    "execution": {
     "iopub.execute_input": "2024-05-14T14:54:50.103565Z",
     "iopub.status.busy": "2024-05-14T14:54:50.103250Z",
     "iopub.status.idle": "2024-05-14T14:55:13.738612Z",
     "shell.execute_reply": "2024-05-14T14:55:13.737642Z"
    },
    "papermill": {
     "duration": 23.64408,
     "end_time": "2024-05-14T14:55:13.740995",
     "exception": false,
     "start_time": "2024-05-14T14:54:50.096915",
     "status": "completed"
    },
    "tags": []
   },
   "outputs": [
    {
     "name": "stdout",
     "output_type": "stream",
     "text": [
      "Downloading...\r\n",
      "From (original): https://drive.google.com/uc?id=1FNbHlfzwODRRJrCUsLz8ZkVzRxcj66RF\r\n",
      "From (redirected): https://drive.google.com/uc?id=1FNbHlfzwODRRJrCUsLz8ZkVzRxcj66RF&confirm=t&uuid=498d9fd3-0f63-4d24-ae4c-af964aa6dacb\r\n",
      "To: /kaggle/working/UniTime_for_Kaggle/model_s2036.pth\r\n",
      "100%|████████████████████████████████████████| 524M/524M [00:21<00:00, 24.3MB/s]\r\n"
     ]
    }
   ],
   "source": [
    "!gdown --fuzzy https://drive.google.com/file/d/1FNbHlfzwODRRJrCUsLz8ZkVzRxcj66RF/view?usp=sharing\n",
    "# https://www.kaggle.com/code/mrantonzaitsev/unitime-create-model-zero-shot"
   ]
  },
  {
   "cell_type": "code",
   "execution_count": 6,
   "id": "b0fbd796",
   "metadata": {
    "execution": {
     "iopub.execute_input": "2024-05-14T14:55:13.765432Z",
     "iopub.status.busy": "2024-05-14T14:55:13.765121Z",
     "iopub.status.idle": "2024-05-14T14:55:15.126070Z",
     "shell.execute_reply": "2024-05-14T14:55:15.125019Z"
    },
    "papermill": {
     "duration": 1.375835,
     "end_time": "2024-05-14T14:55:15.128512",
     "exception": false,
     "start_time": "2024-05-14T14:55:13.752677",
     "status": "completed"
    },
    "tags": []
   },
   "outputs": [],
   "source": [
    "!cp /kaggle/working/UniTime_for_Kaggle/model_s2036.pth /kaggle/working/UniTime_for_Kaggle/checkpoint_gpt2-small_full_divided_list_instruct_8_2_0.5_96"
   ]
  },
  {
   "cell_type": "markdown",
   "id": "a1283e60",
   "metadata": {
    "papermill": {
     "duration": 0.01109,
     "end_time": "2024-05-14T14:55:15.151369",
     "exception": false,
     "start_time": "2024-05-14T14:55:15.140279",
     "status": "completed"
    },
    "tags": []
   },
   "source": [
    "**одномерный прогноз**"
   ]
  },
  {
   "cell_type": "code",
   "execution_count": 7,
   "id": "633f0b40",
   "metadata": {
    "execution": {
     "iopub.execute_input": "2024-05-14T14:55:15.176247Z",
     "iopub.status.busy": "2024-05-14T14:55:15.175675Z",
     "iopub.status.idle": "2024-05-14T15:32:49.246864Z",
     "shell.execute_reply": "2024-05-14T15:32:49.245424Z"
    },
    "papermill": {
     "duration": 2254.085824,
     "end_time": "2024-05-14T15:32:49.248941",
     "exception": false,
     "start_time": "2024-05-14T14:55:15.163117",
     "status": "completed"
    },
    "tags": []
   },
   "outputs": [
    {
     "name": "stdout",
     "output_type": "stream",
     "text": [
      "Log directory: checkpoint_gpt2-small_full_divided_list_instruct_8_2_0.5_96\r\n",
      "2024-05-14 14:55:24,623 - Namespace(gpu=0, training_list='execute_list/divided_list/all_train.csv', inference_list='execute_list/divided_list/inference_all.csv', eval_model_path='', is_training=0, seed=2036, target='OT', label_len=0, lm_pretrain_model='gpt2-small', lm_ft_type='full', instruct_path='data_configs/instruct.json', zero_shot_instruct='', mask_rate=0.5, patch_len=16, max_token_num=30, max_backcast_len=96, max_forecast_len=720, lm_layer_num=8, dec_trans_layer_num=2, ts_embed_dropout=0.3, dec_head_dropout=0.1, num_workers=10, train_epochs=10, patience=10, learning_rate=0.0001, weight_decay=0, clip=5, checkpoint='checkpoint_gpt2-small_full_divided_list_instruct_8_2_0.5_96')\r\n",
      "tokenizer_config.json: 100%|██████████████████| 26.0/26.0 [00:00<00:00, 133kB/s]\r\n",
      "vocab.json: 100%|██████████████████████████| 1.04M/1.04M [00:00<00:00, 2.37MB/s]\r\n",
      "merges.txt: 100%|████████████████████████████| 456k/456k [00:00<00:00, 2.49MB/s]\r\n",
      "tokenizer.json: 100%|██████████████████████| 1.36M/1.36M [00:00<00:00, 4.83MB/s]\r\n",
      "config.json: 100%|█████████████████████████████| 665/665 [00:00<00:00, 4.96MB/s]\r\n",
      "model.safetensors: 100%|██████████████████████| 548M/548M [00:03<00:00, 138MB/s]\r\n",
      "generation_config.json: 100%|███████████████████| 124/124 [00:00<00:00, 939kB/s]\r\n",
      "2024-05-14 14:55:31,825 - Trainable Params: 96088320, All Params: 96088320, Percent: 1.0\r\n",
      "2024-05-14 14:55:31,826 - Trainable Params: 130864176, All Params: 130864176, Percent: 1.0\r\n",
      "2024-05-14 14:55:31,836 - ***** Task: ETTh1_S_96_24_0.5_16_32 *****\r\n",
      "2024-05-14 14:55:31,881 - Mode: test, Sample Num: 2857, Batch Num: 2857\r\n",
      "2024-05-14 14:55:31,882 - ***** Task: ETTh1_S_96_96_0.5_16_32 *****\r\n",
      "2024-05-14 14:55:31,920 - Mode: test, Sample Num: 2785, Batch Num: 2785\r\n",
      "2024-05-14 14:55:31,920 - ***** Task: ETTh1_S_96_192_0.5_16_32 *****\r\n",
      "2024-05-14 14:55:31,963 - Mode: test, Sample Num: 2689, Batch Num: 2689\r\n",
      "2024-05-14 14:55:31,964 - ***** Task: ETTh1_S_96_336_0.5_16_32 *****\r\n",
      "2024-05-14 14:55:32,006 - Mode: test, Sample Num: 2545, Batch Num: 2545\r\n",
      "2024-05-14 14:55:32,007 - ***** Task: ETTh1_S_96_720_0.5_16_32 *****\r\n",
      "2024-05-14 14:55:32,045 - Mode: test, Sample Num: 2161, Batch Num: 2161\r\n",
      "2024-05-14 14:55:32,046 - ***** Task: ETTh2_S_96_24_0.5_16_32 *****\r\n",
      "2024-05-14 14:55:32,087 - Mode: test, Sample Num: 2857, Batch Num: 2857\r\n",
      "2024-05-14 14:55:32,088 - ***** Task: ETTh2_S_96_96_0.5_16_32 *****\r\n",
      "2024-05-14 14:55:32,126 - Mode: test, Sample Num: 2785, Batch Num: 2785\r\n",
      "2024-05-14 14:55:32,127 - ***** Task: ETTh2_S_96_192_0.5_16_32 *****\r\n",
      "2024-05-14 14:55:32,164 - Mode: test, Sample Num: 2689, Batch Num: 2689\r\n",
      "2024-05-14 14:55:32,165 - ***** Task: ETTh2_S_96_336_0.5_16_32 *****\r\n",
      "2024-05-14 14:55:32,199 - Mode: test, Sample Num: 2545, Batch Num: 2545\r\n",
      "2024-05-14 14:55:32,200 - ***** Task: ETTh2_S_96_720_0.5_16_32 *****\r\n",
      "2024-05-14 14:55:32,235 - Mode: test, Sample Num: 2161, Batch Num: 2161\r\n",
      "2024-05-14 14:55:32,235 - ***** Task: exchange_S_96_24_0.5_16_24 *****\r\n",
      "2024-05-14 14:55:32,251 - Mode: test, Sample Num: 1494, Batch Num: 1494\r\n",
      "2024-05-14 14:55:32,252 - ***** Task: exchange_S_96_96_0.5_16_24 *****\r\n",
      "2024-05-14 14:55:32,267 - Mode: test, Sample Num: 1422, Batch Num: 1422\r\n",
      "2024-05-14 14:55:32,268 - ***** Task: exchange_S_96_192_0.5_16_24 *****\r\n",
      "2024-05-14 14:55:32,282 - Mode: test, Sample Num: 1326, Batch Num: 1326\r\n",
      "2024-05-14 14:55:32,283 - ***** Task: exchange_S_96_336_0.5_16_24 *****\r\n",
      "2024-05-14 14:55:32,297 - Mode: test, Sample Num: 1182, Batch Num: 1182\r\n",
      "2024-05-14 14:55:32,298 - ***** Task: exchange_S_96_720_0.5_16_24 *****\r\n",
      "2024-05-14 14:55:32,313 - Mode: test, Sample Num: 798, Batch Num: 798\r\n",
      "2024-05-14 14:55:32,313 - ***** Task: illness_S_36_24_0.5_4_16 *****\r\n",
      "2024-05-14 14:55:32,318 - Mode: test, Sample Num: 170, Batch Num: 170\r\n",
      "2024-05-14 14:55:32,318 - ***** Task: illness_S_36_36_0.5_4_16 *****\r\n",
      "2024-05-14 14:55:32,323 - Mode: test, Sample Num: 158, Batch Num: 158\r\n",
      "2024-05-14 14:55:32,324 - ***** Task: illness_S_36_48_0.5_4_16 *****\r\n",
      "2024-05-14 14:55:32,328 - Mode: test, Sample Num: 146, Batch Num: 146\r\n",
      "2024-05-14 14:55:32,329 - ***** Task: illness_S_36_60_0.5_4_16 *****\r\n",
      "2024-05-14 14:55:32,333 - Mode: test, Sample Num: 134, Batch Num: 134\r\n",
      "2024-05-14 14:55:32,334 - ***** Task: ETTm1_S_96_24_0.5_16_64 *****\r\n",
      "2024-05-14 14:55:32,482 - Mode: test, Sample Num: 11497, Batch Num: 11497\r\n",
      "2024-05-14 14:55:32,483 - ***** Task: ETTm1_S_96_96_0.5_16_64 *****\r\n",
      "2024-05-14 14:55:32,626 - Mode: test, Sample Num: 11425, Batch Num: 11425\r\n",
      "2024-05-14 14:55:32,627 - ***** Task: ETTm1_S_96_192_0.5_16_64 *****\r\n",
      "2024-05-14 14:55:32,770 - Mode: test, Sample Num: 11329, Batch Num: 11329\r\n",
      "2024-05-14 14:55:32,771 - ***** Task: ETTm1_S_96_336_0.5_16_64 *****\r\n",
      "2024-05-14 14:55:32,916 - Mode: test, Sample Num: 11185, Batch Num: 11185\r\n",
      "2024-05-14 14:55:32,917 - ***** Task: ETTm1_S_96_720_0.5_16_64 *****\r\n",
      "2024-05-14 14:55:33,060 - Mode: test, Sample Num: 10801, Batch Num: 10801\r\n",
      "2024-05-14 14:55:33,061 - ***** Task: ETTm2_S_96_24_0.5_16_64 *****\r\n",
      "2024-05-14 14:55:33,201 - Mode: test, Sample Num: 11497, Batch Num: 11497\r\n",
      "2024-05-14 14:55:33,202 - ***** Task: ETTm2_S_96_96_0.5_16_64 *****\r\n",
      "2024-05-14 14:55:33,340 - Mode: test, Sample Num: 11425, Batch Num: 11425\r\n",
      "2024-05-14 14:55:33,342 - ***** Task: ETTm2_S_96_192_0.5_16_64 *****\r\n",
      "2024-05-14 14:55:33,480 - Mode: test, Sample Num: 11329, Batch Num: 11329\r\n",
      "2024-05-14 14:55:33,481 - ***** Task: ETTm2_S_96_336_0.5_16_64 *****\r\n",
      "2024-05-14 14:55:33,617 - Mode: test, Sample Num: 11185, Batch Num: 11185\r\n",
      "2024-05-14 14:55:33,618 - ***** Task: ETTm2_S_96_720_0.5_16_64 *****\r\n",
      "2024-05-14 14:55:33,755 - Mode: test, Sample Num: 10801, Batch Num: 10801\r\n",
      "2024-05-14 14:55:33,756 - ***** Task: weather_S_96_24_0.5_16_64 *****\r\n",
      "2024-05-14 14:55:33,921 - Mode: test, Sample Num: 10516, Batch Num: 10516\r\n",
      "2024-05-14 14:55:33,922 - ***** Task: weather_S_96_96_0.5_16_64 *****\r\n",
      "2024-05-14 14:55:34,083 - Mode: test, Sample Num: 10444, Batch Num: 10444\r\n",
      "2024-05-14 14:55:34,084 - ***** Task: weather_S_96_192_0.5_16_64 *****\r\n",
      "2024-05-14 14:55:34,244 - Mode: test, Sample Num: 10348, Batch Num: 10348\r\n",
      "2024-05-14 14:55:34,245 - ***** Task: weather_S_96_336_0.5_16_64 *****\r\n",
      "2024-05-14 14:55:34,404 - Mode: test, Sample Num: 10204, Batch Num: 10204\r\n",
      "2024-05-14 14:55:34,405 - ***** Task: weather_S_96_720_0.5_16_64 *****\r\n",
      "2024-05-14 14:55:34,570 - Mode: test, Sample Num: 9820, Batch Num: 9820\r\n",
      "2024-05-14 14:55:34,571 - ***** Task: de_big_S_96_24_0.5_16_32 *****\r\n",
      "2024-05-14 14:55:34,606 - Mode: test, Sample Num: 2857, Batch Num: 2857\r\n",
      "2024-05-14 14:55:34,607 - ***** Task: de_big_S_96_96_0.5_16_32 *****\r\n",
      "2024-05-14 14:55:34,635 - Mode: test, Sample Num: 2785, Batch Num: 2785\r\n",
      "2024-05-14 14:55:34,636 - ***** Task: de_big_S_96_192_0.5_16_32 *****\r\n",
      "2024-05-14 14:55:34,662 - Mode: test, Sample Num: 2689, Batch Num: 2689\r\n",
      "2024-05-14 14:55:34,663 - ***** Task: de_big_S_96_336_0.5_16_32 *****\r\n",
      "2024-05-14 14:55:34,690 - Mode: test, Sample Num: 2545, Batch Num: 2545\r\n",
      "2024-05-14 14:55:34,691 - ***** Task: de_big_S_96_720_0.5_16_32 *****\r\n",
      "2024-05-14 14:55:34,717 - Mode: test, Sample Num: 2161, Batch Num: 2161\r\n",
      "2024-05-14 14:55:34,717 - ***** Task: de_small_S_36_24_0.5_4_16 *****\r\n",
      "2024-05-14 14:55:34,722 - Mode: test, Sample Num: 170, Batch Num: 170\r\n",
      "2024-05-14 14:55:34,723 - ***** Task: de_small_S_36_36_0.5_4_16 *****\r\n",
      "2024-05-14 14:55:34,727 - Mode: test, Sample Num: 158, Batch Num: 158\r\n",
      "2024-05-14 14:55:34,727 - ***** Task: de_small_S_36_48_0.5_4_16 *****\r\n",
      "2024-05-14 14:55:34,731 - Mode: test, Sample Num: 146, Batch Num: 146\r\n",
      "2024-05-14 14:55:34,732 - ***** Task: de_small_S_36_60_0.5_4_16 *****\r\n",
      "2024-05-14 14:55:34,737 - Mode: test, Sample Num: 134, Batch Num: 134\r\n",
      "2024-05-14 14:55:34,737 - Start testing!\r\n",
      "2024-05-14 14:56:06,086 - Setting: ETTh1_96_24, MSE: 0.053415, MAE: 0.178865\r\n",
      "2024-05-14 14:56:35,423 - Setting: ETTh1_96_96, MSE: 0.075176, MAE: 0.211078\r\n",
      "2024-05-14 14:57:03,943 - Setting: ETTh1_96_192, MSE: 0.091229, MAE: 0.235587\r\n",
      "2024-05-14 14:57:31,177 - Setting: ETTh1_96_336, MSE: 0.105565, MAE: 0.257759\r\n",
      "2024-05-14 14:57:54,152 - Setting: ETTh1_96_720, MSE: 0.118999, MAE: 0.272560\r\n",
      "2024-05-14 14:58:24,026 - Setting: ETTh2_96_24, MSE: 0.210439, MAE: 0.367704\r\n",
      "2024-05-14 14:58:53,704 - Setting: ETTh2_96_96, MSE: 0.244144, MAE: 0.395844\r\n",
      "2024-05-14 14:59:22,376 - Setting: ETTh2_96_192, MSE: 0.285961, MAE: 0.431410\r\n",
      "2024-05-14 14:59:49,299 - Setting: ETTh2_96_336, MSE: 0.321190, MAE: 0.461522\r\n",
      "2024-05-14 15:00:11,987 - Setting: ETTh2_96_720, MSE: 0.361489, MAE: 0.488804\r\n",
      "2024-05-14 15:00:27,591 - Setting: exchange_96_24, MSE: 0.086821, MAE: 0.221755\r\n",
      "2024-05-14 15:00:42,252 - Setting: exchange_96_96, MSE: 0.158620, MAE: 0.306616\r\n",
      "2024-05-14 15:00:56,115 - Setting: exchange_96_192, MSE: 0.266307, MAE: 0.409419\r\n",
      "2024-05-14 15:01:08,387 - Setting: exchange_96_336, MSE: 0.458445, MAE: 0.528171\r\n",
      "2024-05-14 15:01:16,681 - Setting: exchange_96_720, MSE: 1.053839, MAE: 0.796061\r\n",
      "2024-05-14 15:01:18,649 - Setting: illness_36_24, MSE: 0.727476, MAE: 0.663456\r\n",
      "2024-05-14 15:01:20,536 - Setting: illness_36_36, MSE: 0.772053, MAE: 0.712246\r\n",
      "2024-05-14 15:01:22,217 - Setting: illness_36_48, MSE: 0.782646, MAE: 0.727803\r\n",
      "2024-05-14 15:01:23,799 - Setting: illness_36_60, MSE: 0.809106, MAE: 0.754094\r\n",
      "2024-05-14 15:03:24,184 - Setting: ETTm1_96_24, MSE: 0.027299, MAE: 0.127132\r\n",
      "2024-05-14 15:05:25,950 - Setting: ETTm1_96_96, MSE: 0.041496, MAE: 0.156303\r\n",
      "2024-05-14 15:07:26,031 - Setting: ETTm1_96_192, MSE: 0.053865, MAE: 0.179390\r\n",
      "2024-05-14 15:09:25,683 - Setting: ETTm1_96_336, MSE: 0.065296, MAE: 0.199236\r\n",
      "2024-05-14 15:11:19,870 - Setting: ETTm1_96_720, MSE: 0.086814, MAE: 0.229330\r\n",
      "2024-05-14 15:13:20,601 - Setting: ETTm2_96_24, MSE: 0.230205, MAE: 0.381747\r\n",
      "2024-05-14 15:15:22,269 - Setting: ETTm2_96_96, MSE: 0.191341, MAE: 0.341960\r\n",
      "2024-05-14 15:17:22,557 - Setting: ETTm2_96_192, MSE: 0.208419, MAE: 0.356419\r\n",
      "2024-05-14 15:19:21,741 - Setting: ETTm2_96_336, MSE: 0.227869, MAE: 0.374575\r\n",
      "2024-05-14 15:21:15,905 - Setting: ETTm2_96_720, MSE: 0.270289, MAE: 0.414515\r\n",
      "2024-05-14 15:23:05,927 - Setting: weather_96_24, MSE: 0.000941, MAE: 0.022219\r\n",
      "2024-05-14 15:24:57,761 - Setting: weather_96_96, MSE: 0.001426, MAE: 0.027700\r\n",
      "2024-05-14 15:26:47,900 - Setting: weather_96_192, MSE: 0.001590, MAE: 0.029526\r\n",
      "2024-05-14 15:28:37,128 - Setting: weather_96_336, MSE: 0.001699, MAE: 0.030624\r\n",
      "2024-05-14 15:30:21,138 - Setting: weather_96_720, MSE: 0.002136, MAE: 0.034480\r\n",
      "2024-05-14 15:30:51,506 - Setting: de_big_96_24, MSE: 1.572268, MAE: 1.029053\r\n",
      "2024-05-14 15:31:21,216 - Setting: de_big_96_96, MSE: 1.458351, MAE: 0.999935\r\n",
      "2024-05-14 15:31:50,104 - Setting: de_big_96_192, MSE: 1.404890, MAE: 0.978601\r\n",
      "2024-05-14 15:32:17,400 - Setting: de_big_96_336, MSE: 1.472190, MAE: 0.999701\r\n",
      "2024-05-14 15:32:40,494 - Setting: de_big_96_720, MSE: 1.590598, MAE: 1.037072\r\n",
      "2024-05-14 15:32:42,517 - Setting: de_small_36_24, MSE: 1.832083, MAE: 1.104568\r\n",
      "2024-05-14 15:32:44,379 - Setting: de_small_36_36, MSE: 1.768674, MAE: 1.096090\r\n",
      "2024-05-14 15:32:46,110 - Setting: de_small_36_48, MSE: 1.758694, MAE: 1.096088\r\n",
      "2024-05-14 15:32:47,776 - Setting: de_small_36_60, MSE: 1.828097, MAE: 1.123462\r\n",
      "CPU times: user 27.2 s, sys: 6.27 s, total: 33.4 s\n",
      "Wall time: 37min 34s\n"
     ]
    }
   ],
   "source": [
    "%%time\n",
    "!python run_univariate.py \\\n",
    "--training_list execute_list/divided_list/all_train.csv \\\n",
    "--max_token_num 30 \\\n",
    "--is_training 0 \\\n",
    "--lm_layer_num 8 \\\n",
    "--inference_list execute_list/divided_list/inference_all.csv"
   ]
  },
  {
   "cell_type": "markdown",
   "id": "3014183a",
   "metadata": {
    "papermill": {
     "duration": 0.01945,
     "end_time": "2024-05-14T15:32:49.288849",
     "exception": false,
     "start_time": "2024-05-14T15:32:49.269399",
     "status": "completed"
    },
    "tags": []
   },
   "source": [
    "**многомерный прогноз**"
   ]
  },
  {
   "cell_type": "code",
   "execution_count": 8,
   "id": "d52cd889",
   "metadata": {
    "execution": {
     "iopub.execute_input": "2024-05-14T15:32:49.329849Z",
     "iopub.status.busy": "2024-05-14T15:32:49.329443Z",
     "iopub.status.idle": "2024-05-14T16:20:47.054290Z",
     "shell.execute_reply": "2024-05-14T16:20:47.052890Z"
    },
    "papermill": {
     "duration": 2877.748137,
     "end_time": "2024-05-14T16:20:47.056664",
     "exception": false,
     "start_time": "2024-05-14T15:32:49.308527",
     "status": "completed"
    },
    "tags": []
   },
   "outputs": [
    {
     "name": "stdout",
     "output_type": "stream",
     "text": [
      "Log directory: checkpoint_gpt2-small_full_divided_list_instruct_8_2_0.5_96\r\n",
      "2024-05-14 15:32:54,624 - Namespace(gpu=0, training_list='execute_list/divided_list/all_train.csv', inference_list='execute_list/divided_list/inference_all.csv', eval_model_path='', is_training=0, seed=2036, target='OT', label_len=0, lm_pretrain_model='gpt2-small', lm_ft_type='full', instruct_path='data_configs/instruct.json', zero_shot_instruct='', mask_rate=0.5, patch_len=16, max_token_num=30, max_backcast_len=96, max_forecast_len=720, lm_layer_num=8, dec_trans_layer_num=2, ts_embed_dropout=0.3, dec_head_dropout=0.1, num_workers=10, train_epochs=10, patience=10, learning_rate=0.0001, weight_decay=0, clip=5, checkpoint='checkpoint_gpt2-small_full_divided_list_instruct_8_2_0.5_96')\r\n",
      "2024-05-14 15:32:55,837 - Trainable Params: 96088320, All Params: 96088320, Percent: 1.0\r\n",
      "2024-05-14 15:32:55,838 - Trainable Params: 130864176, All Params: 130864176, Percent: 1.0\r\n",
      "2024-05-14 15:32:55,842 - ***** Task: ETTh1_M_96_24_0.5_16_32 *****\r\n",
      "2024-05-14 15:32:55,883 - Mode: test, Sample Num: 2857, Batch Num: 2857\r\n",
      "2024-05-14 15:32:55,884 - ***** Task: ETTh1_M_96_96_0.5_16_32 *****\r\n",
      "2024-05-14 15:32:55,920 - Mode: test, Sample Num: 2785, Batch Num: 2785\r\n",
      "2024-05-14 15:32:55,921 - ***** Task: ETTh1_M_96_192_0.5_16_32 *****\r\n",
      "2024-05-14 15:32:55,958 - Mode: test, Sample Num: 2689, Batch Num: 2689\r\n",
      "2024-05-14 15:32:55,959 - ***** Task: ETTh1_M_96_336_0.5_16_32 *****\r\n",
      "2024-05-14 15:32:55,995 - Mode: test, Sample Num: 2545, Batch Num: 2545\r\n",
      "2024-05-14 15:32:55,996 - ***** Task: ETTh1_M_96_720_0.5_16_32 *****\r\n",
      "2024-05-14 15:32:56,032 - Mode: test, Sample Num: 2161, Batch Num: 2161\r\n",
      "2024-05-14 15:32:56,033 - ***** Task: ETTh2_M_96_24_0.5_16_32 *****\r\n",
      "2024-05-14 15:32:56,068 - Mode: test, Sample Num: 2857, Batch Num: 2857\r\n",
      "2024-05-14 15:32:56,069 - ***** Task: ETTh2_M_96_96_0.5_16_32 *****\r\n",
      "2024-05-14 15:32:56,104 - Mode: test, Sample Num: 2785, Batch Num: 2785\r\n",
      "2024-05-14 15:32:56,105 - ***** Task: ETTh2_M_96_192_0.5_16_32 *****\r\n",
      "2024-05-14 15:32:56,139 - Mode: test, Sample Num: 2689, Batch Num: 2689\r\n",
      "2024-05-14 15:32:56,140 - ***** Task: ETTh2_M_96_336_0.5_16_32 *****\r\n",
      "2024-05-14 15:32:56,176 - Mode: test, Sample Num: 2545, Batch Num: 2545\r\n",
      "2024-05-14 15:32:56,177 - ***** Task: ETTh2_M_96_720_0.5_16_32 *****\r\n",
      "2024-05-14 15:32:56,212 - Mode: test, Sample Num: 2161, Batch Num: 2161\r\n",
      "2024-05-14 15:32:56,213 - ***** Task: exchange_M_96_24_0.5_16_24 *****\r\n",
      "2024-05-14 15:32:56,229 - Mode: test, Sample Num: 1494, Batch Num: 1494\r\n",
      "2024-05-14 15:32:56,229 - ***** Task: exchange_M_96_96_0.5_16_24 *****\r\n",
      "2024-05-14 15:32:56,244 - Mode: test, Sample Num: 1422, Batch Num: 1422\r\n",
      "2024-05-14 15:32:56,245 - ***** Task: exchange_M_96_192_0.5_16_24 *****\r\n",
      "2024-05-14 15:32:56,261 - Mode: test, Sample Num: 1326, Batch Num: 1326\r\n",
      "2024-05-14 15:32:56,262 - ***** Task: exchange_M_96_336_0.5_16_24 *****\r\n",
      "2024-05-14 15:32:56,277 - Mode: test, Sample Num: 1182, Batch Num: 1182\r\n",
      "2024-05-14 15:32:56,278 - ***** Task: exchange_M_96_720_0.5_16_24 *****\r\n",
      "2024-05-14 15:32:56,293 - Mode: test, Sample Num: 798, Batch Num: 798\r\n",
      "2024-05-14 15:32:56,294 - ***** Task: illness_M_36_24_0.5_4_16 *****\r\n",
      "2024-05-14 15:32:56,299 - Mode: test, Sample Num: 170, Batch Num: 170\r\n",
      "2024-05-14 15:32:56,299 - ***** Task: illness_M_36_36_0.5_4_16 *****\r\n",
      "2024-05-14 15:32:56,304 - Mode: test, Sample Num: 158, Batch Num: 158\r\n",
      "2024-05-14 15:32:56,305 - ***** Task: illness_M_36_48_0.5_4_16 *****\r\n",
      "2024-05-14 15:32:56,309 - Mode: test, Sample Num: 146, Batch Num: 146\r\n",
      "2024-05-14 15:32:56,310 - ***** Task: illness_M_36_60_0.5_4_16 *****\r\n",
      "2024-05-14 15:32:56,315 - Mode: test, Sample Num: 134, Batch Num: 134\r\n",
      "2024-05-14 15:32:56,315 - ***** Task: ETTm1_M_96_24_0.5_16_64 *****\r\n",
      "2024-05-14 15:32:56,464 - Mode: test, Sample Num: 11497, Batch Num: 11497\r\n",
      "2024-05-14 15:32:56,465 - ***** Task: ETTm1_M_96_96_0.5_16_64 *****\r\n",
      "2024-05-14 15:32:56,613 - Mode: test, Sample Num: 11425, Batch Num: 11425\r\n",
      "2024-05-14 15:32:56,614 - ***** Task: ETTm1_M_96_192_0.5_16_64 *****\r\n",
      "2024-05-14 15:32:56,772 - Mode: test, Sample Num: 11329, Batch Num: 11329\r\n",
      "2024-05-14 15:32:56,773 - ***** Task: ETTm1_M_96_336_0.5_16_64 *****\r\n",
      "2024-05-14 15:32:56,931 - Mode: test, Sample Num: 11185, Batch Num: 11185\r\n",
      "2024-05-14 15:32:56,932 - ***** Task: ETTm1_M_96_720_0.5_16_64 *****\r\n",
      "2024-05-14 15:32:57,078 - Mode: test, Sample Num: 10801, Batch Num: 10801\r\n",
      "2024-05-14 15:32:57,080 - ***** Task: ETTm2_M_96_24_0.5_16_64 *****\r\n",
      "2024-05-14 15:32:57,218 - Mode: test, Sample Num: 11497, Batch Num: 11497\r\n",
      "2024-05-14 15:32:57,219 - ***** Task: ETTm2_M_96_96_0.5_16_64 *****\r\n",
      "2024-05-14 15:32:57,359 - Mode: test, Sample Num: 11425, Batch Num: 11425\r\n",
      "2024-05-14 15:32:57,361 - ***** Task: ETTm2_M_96_192_0.5_16_64 *****\r\n",
      "2024-05-14 15:32:57,500 - Mode: test, Sample Num: 11329, Batch Num: 11329\r\n",
      "2024-05-14 15:32:57,501 - ***** Task: ETTm2_M_96_336_0.5_16_64 *****\r\n",
      "2024-05-14 15:32:57,640 - Mode: test, Sample Num: 11185, Batch Num: 11185\r\n",
      "2024-05-14 15:32:57,641 - ***** Task: ETTm2_M_96_720_0.5_16_64 *****\r\n",
      "2024-05-14 15:32:57,778 - Mode: test, Sample Num: 10801, Batch Num: 10801\r\n",
      "2024-05-14 15:32:57,779 - ***** Task: weather_M_96_24_0.5_16_64 *****\r\n",
      "2024-05-14 15:32:57,952 - Mode: test, Sample Num: 10516, Batch Num: 10516\r\n",
      "2024-05-14 15:32:57,953 - ***** Task: weather_M_96_96_0.5_16_64 *****\r\n",
      "2024-05-14 15:32:58,120 - Mode: test, Sample Num: 10444, Batch Num: 10444\r\n",
      "2024-05-14 15:32:58,121 - ***** Task: weather_M_96_192_0.5_16_64 *****\r\n",
      "2024-05-14 15:32:58,296 - Mode: test, Sample Num: 10348, Batch Num: 10348\r\n",
      "2024-05-14 15:32:58,297 - ***** Task: weather_M_96_336_0.5_16_64 *****\r\n",
      "2024-05-14 15:32:58,482 - Mode: test, Sample Num: 10204, Batch Num: 10204\r\n",
      "2024-05-14 15:32:58,484 - ***** Task: weather_M_96_720_0.5_16_64 *****\r\n",
      "2024-05-14 15:32:58,661 - Mode: test, Sample Num: 9820, Batch Num: 9820\r\n",
      "2024-05-14 15:32:58,662 - ***** Task: de_big_M_96_24_0.5_16_32 *****\r\n",
      "2024-05-14 15:32:58,690 - Mode: test, Sample Num: 2857, Batch Num: 2857\r\n",
      "2024-05-14 15:32:58,691 - ***** Task: de_big_M_96_96_0.5_16_32 *****\r\n",
      "2024-05-14 15:32:58,717 - Mode: test, Sample Num: 2785, Batch Num: 2785\r\n",
      "2024-05-14 15:32:58,718 - ***** Task: de_big_M_96_192_0.5_16_32 *****\r\n",
      "2024-05-14 15:32:58,744 - Mode: test, Sample Num: 2689, Batch Num: 2689\r\n",
      "2024-05-14 15:32:58,745 - ***** Task: de_big_M_96_336_0.5_16_32 *****\r\n",
      "2024-05-14 15:32:58,771 - Mode: test, Sample Num: 2545, Batch Num: 2545\r\n",
      "2024-05-14 15:32:58,772 - ***** Task: de_big_M_96_720_0.5_16_32 *****\r\n",
      "2024-05-14 15:32:58,797 - Mode: test, Sample Num: 2161, Batch Num: 2161\r\n",
      "2024-05-14 15:32:58,798 - ***** Task: de_small_M_36_24_0.5_4_16 *****\r\n",
      "2024-05-14 15:32:58,802 - Mode: test, Sample Num: 170, Batch Num: 170\r\n",
      "2024-05-14 15:32:58,803 - ***** Task: de_small_M_36_36_0.5_4_16 *****\r\n",
      "2024-05-14 15:32:58,808 - Mode: test, Sample Num: 158, Batch Num: 158\r\n",
      "2024-05-14 15:32:58,809 - ***** Task: de_small_M_36_48_0.5_4_16 *****\r\n",
      "2024-05-14 15:32:58,813 - Mode: test, Sample Num: 146, Batch Num: 146\r\n",
      "2024-05-14 15:32:58,814 - ***** Task: de_small_M_36_60_0.5_4_16 *****\r\n",
      "2024-05-14 15:32:58,819 - Mode: test, Sample Num: 134, Batch Num: 134\r\n",
      "2024-05-14 15:32:58,819 - Start testing!\r\n",
      "2024-05-14 15:33:34,160 - Setting: ETTh1_96_24, MSE: 0.847444, MAE: 0.597091\r\n",
      "2024-05-14 15:34:08,266 - Setting: ETTh1_96_96, MSE: 0.864013, MAE: 0.613373\r\n",
      "2024-05-14 15:34:40,913 - Setting: ETTh1_96_192, MSE: 0.880087, MAE: 0.626217\r\n",
      "2024-05-14 15:35:11,814 - Setting: ETTh1_96_336, MSE: 0.883426, MAE: 0.636039\r\n",
      "2024-05-14 15:35:38,156 - Setting: ETTh1_96_720, MSE: 0.887882, MAE: 0.652304\r\n",
      "2024-05-14 15:36:12,784 - Setting: ETTh2_96_24, MSE: 0.285572, MAE: 0.357049\r\n",
      "2024-05-14 15:36:46,609 - Setting: ETTh2_96_96, MSE: 0.398745, MAE: 0.415692\r\n",
      "2024-05-14 15:37:19,452 - Setting: ETTh2_96_192, MSE: 0.472300, MAE: 0.454740\r\n",
      "2024-05-14 15:37:50,530 - Setting: ETTh2_96_336, MSE: 0.497940, MAE: 0.478294\r\n",
      "2024-05-14 15:38:16,990 - Setting: ETTh2_96_720, MSE: 0.497412, MAE: 0.485225\r\n",
      "2024-05-14 15:38:35,412 - Setting: exchange_96_24, MSE: 0.083422, MAE: 0.203139\r\n",
      "2024-05-14 15:38:53,019 - Setting: exchange_96_96, MSE: 0.150894, MAE: 0.278012\r\n",
      "2024-05-14 15:39:09,315 - Setting: exchange_96_192, MSE: 0.245803, MAE: 0.359830\r\n",
      "2024-05-14 15:39:23,843 - Setting: exchange_96_336, MSE: 0.391086, MAE: 0.459732\r\n",
      "2024-05-14 15:39:33,822 - Setting: exchange_96_720, MSE: 0.938304, MAE: 0.738159\r\n",
      "2024-05-14 15:39:36,118 - Setting: illness_36_24, MSE: 5.736584, MAE: 1.582612\r\n",
      "2024-05-14 15:39:38,242 - Setting: illness_36_36, MSE: 3.829225, MAE: 1.290553\r\n",
      "2024-05-14 15:39:40,241 - Setting: illness_36_48, MSE: 3.266857, MAE: 1.193303\r\n",
      "2024-05-14 15:39:42,077 - Setting: illness_36_60, MSE: 3.073104, MAE: 1.211593\r\n",
      "2024-05-14 15:42:03,100 - Setting: ETTm1_96_24, MSE: 1.029591, MAE: 0.648480\r\n",
      "2024-05-14 15:44:22,404 - Setting: ETTm1_96_96, MSE: 0.871646, MAE: 0.603305\r\n",
      "2024-05-14 15:46:40,295 - Setting: ETTm1_96_192, MSE: 0.882296, MAE: 0.609962\r\n",
      "2024-05-14 15:48:56,583 - Setting: ETTm1_96_336, MSE: 0.887469, MAE: 0.617221\r\n",
      "2024-05-14 15:51:09,303 - Setting: ETTm1_96_720, MSE: 0.918144, MAE: 0.635486\r\n",
      "2024-05-14 15:53:32,499 - Setting: ETTm2_96_24, MSE: 0.209717, MAE: 0.314694\r\n",
      "2024-05-14 15:55:51,706 - Setting: ETTm2_96_96, MSE: 0.259152, MAE: 0.331816\r\n",
      "2024-05-14 15:58:08,510 - Setting: ETTm2_96_192, MSE: 0.313563, MAE: 0.360549\r\n",
      "2024-05-14 16:00:24,062 - Setting: ETTm2_96_336, MSE: 0.368107, MAE: 0.390639\r\n",
      "2024-05-14 16:02:36,271 - Setting: ETTm2_96_720, MSE: 0.466889, MAE: 0.441267\r\n",
      "2024-05-14 16:05:35,471 - Setting: weather_96_24, MSE: 0.214090, MAE: 0.260416\r\n",
      "2024-05-14 16:08:34,049 - Setting: weather_96_96, MSE: 0.259627, MAE: 0.295428\r\n",
      "2024-05-14 16:11:35,814 - Setting: weather_96_192, MSE: 0.298394, MAE: 0.323709\r\n",
      "2024-05-14 16:14:37,667 - Setting: weather_96_336, MSE: 0.345306, MAE: 0.352493\r\n",
      "2024-05-14 16:17:37,096 - Setting: weather_96_720, MSE: 0.411677, MAE: 0.392343\r\n",
      "2024-05-14 16:18:16,555 - Setting: de_big_96_24, MSE: 1.534149, MAE: 1.011103\r\n",
      "2024-05-14 16:18:54,887 - Setting: de_big_96_96, MSE: 1.417132, MAE: 0.980724\r\n",
      "2024-05-14 16:19:31,821 - Setting: de_big_96_192, MSE: 1.370755, MAE: 0.962619\r\n",
      "2024-05-14 16:20:07,006 - Setting: de_big_96_336, MSE: 1.436129, MAE: 0.983386\r\n",
      "2024-05-14 16:20:36,574 - Setting: de_big_96_720, MSE: 1.550118, MAE: 1.019898\r\n",
      "2024-05-14 16:20:39,200 - Setting: de_small_36_24, MSE: 1.864098, MAE: 1.104987\r\n",
      "2024-05-14 16:20:41,521 - Setting: de_small_36_36, MSE: 1.787795, MAE: 1.093990\r\n",
      "2024-05-14 16:20:43,727 - Setting: de_small_36_48, MSE: 1.770857, MAE: 1.092748\r\n",
      "2024-05-14 16:20:45,828 - Setting: de_small_36_60, MSE: 1.834973, MAE: 1.119185\r\n",
      "CPU times: user 37.8 s, sys: 8.39 s, total: 46.2 s\n",
      "Wall time: 47min 57s\n"
     ]
    }
   ],
   "source": [
    "%%time\n",
    "!python run.py \\\n",
    "--training_list execute_list/divided_list/all_train.csv \\\n",
    "--max_token_num 30 \\\n",
    "--is_training 0 \\\n",
    "--lm_layer_num 8 \\\n",
    "--inference_list execute_list/divided_list/inference_all.csv"
   ]
  }
 ],
 "metadata": {
  "kaggle": {
   "accelerator": "gpu",
   "dataSources": [],
   "dockerImageVersionId": 30699,
   "isGpuEnabled": true,
   "isInternetEnabled": true,
   "language": "python",
   "sourceType": "notebook"
  },
  "kernelspec": {
   "display_name": "Python 3",
   "language": "python",
   "name": "python3"
  },
  "language_info": {
   "codemirror_mode": {
    "name": "ipython",
    "version": 3
   },
   "file_extension": ".py",
   "mimetype": "text/x-python",
   "name": "python",
   "nbconvert_exporter": "python",
   "pygments_lexer": "ipython3",
   "version": "3.10.13"
  },
  "papermill": {
   "default_parameters": {},
   "duration": 5198.325862,
   "end_time": "2024-05-14T16:20:47.422678",
   "environment_variables": {},
   "exception": null,
   "input_path": "__notebook__.ipynb",
   "output_path": "__notebook__.ipynb",
   "parameters": {},
   "start_time": "2024-05-14T14:54:09.096816",
   "version": "2.5.0"
  }
 },
 "nbformat": 4,
 "nbformat_minor": 5
}
