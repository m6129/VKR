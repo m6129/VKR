{
 "cells": [
  {
   "cell_type": "code",
   "execution_count": 1,
   "id": "fdcc325e",
   "metadata": {
    "_cell_guid": "b1076dfc-b9ad-4769-8c92-a6c4dae69d19",
    "_uuid": "8f2839f25d086af736a60e9eeb907d3b93b6e0e5",
    "execution": {
     "iopub.execute_input": "2024-05-14T10:55:08.355512Z",
     "iopub.status.busy": "2024-05-14T10:55:08.355140Z",
     "iopub.status.idle": "2024-05-14T10:55:41.571020Z",
     "shell.execute_reply": "2024-05-14T10:55:41.569787Z"
    },
    "papermill": {
     "duration": 33.224244,
     "end_time": "2024-05-14T10:55:41.573872",
     "exception": false,
     "start_time": "2024-05-14T10:55:08.349628",
     "status": "completed"
    },
    "tags": []
   },
   "outputs": [
    {
     "name": "stdout",
     "output_type": "stream",
     "text": [
      "Cloning into 'UniTime_for_Kaggle'...\r\n",
      "remote: Enumerating objects: 195, done.\u001b[K\r\n",
      "remote: Counting objects: 100% (195/195), done.\u001b[K\r\n",
      "remote: Compressing objects: 100% (169/169), done.\u001b[K\r\n",
      "remote: Total 195 (delta 115), reused 71 (delta 23), pack-reused 0\u001b[K\r\n",
      "Receiving objects: 100% (195/195), 494.84 KiB | 17.06 MiB/s, done.\r\n",
      "Resolving deltas: 100% (115/115), done.\r\n",
      "Cloning into 'ETDataset'...\r\n",
      "remote: Enumerating objects: 187, done.\u001b[K\r\n",
      "remote: Counting objects: 100% (28/28), done.\u001b[K\r\n",
      "remote: Compressing objects: 100% (8/8), done.\u001b[K\r\n",
      "remote: Total 187 (delta 25), reused 20 (delta 20), pack-reused 159\u001b[K\r\n",
      "Receiving objects: 100% (187/187), 3.86 MiB | 18.36 MiB/s, done.\r\n",
      "Resolving deltas: 100% (62/62), done.\r\n",
      "Downloading...\r\n",
      "From: https://drive.google.com/uc?id=1nXdMIJ7K201Bx3IBGNiaNFQ6FzeDEzIr\r\n",
      "To: /kaggle/working/weather.zip\r\n",
      "100%|███████████████████████████████████████| 2.29M/2.29M [00:00<00:00, 134MB/s]\r\n",
      "Downloading...\r\n",
      "From: https://drive.google.com/uc?id=1rN79CxW3Vldp-WDuSoG0bKq9tYQR79UK\r\n",
      "To: /kaggle/working/exchange_rate.zip\r\n",
      "100%|████████████████████████████████████████| 194k/194k [00:00<00:00, 78.6MB/s]\r\n",
      "Downloading...\r\n",
      "From: https://drive.google.com/uc?id=1WMKg7KevVEEd9jrfLG8mcpOequZMbjlM\r\n",
      "To: /kaggle/working/illness.zip\r\n",
      "100%|██████████████████████████████████████| 26.0k/26.0k [00:00<00:00, 56.0MB/s]\r\n",
      "Archive:  /kaggle/working/weather.zip\r\n",
      "   creating: weather/\r\n",
      "  inflating: weather/weather.csv     \r\n",
      "Archive:  /kaggle/working/exchange_rate.zip\r\n",
      "   creating: exchange_rate/\r\n",
      "  inflating: exchange_rate/.DS_Store  \r\n",
      "  inflating: exchange_rate/exchange_rate.csv  \r\n",
      "Archive:  /kaggle/working/illness.zip\r\n",
      "   creating: illness/\r\n",
      "  inflating: illness/national_illness.csv  \r\n"
     ]
    }
   ],
   "source": [
    "!pip install gdown -q # для загрузки файлов с гугл-диска\n",
    "!git clone https://github.com/m6129/UniTime_for_Kaggle.git\n",
    "\n",
    "# подгрузка наборов данных    \n",
    "!git clone https://github.com/zhouhaoyi/ETDataset.git\n",
    "!gdown --fuzzy https://drive.google.com/file/d/1nXdMIJ7K201Bx3IBGNiaNFQ6FzeDEzIr/view?usp=drive_link\n",
    "!gdown --fuzzy https://drive.google.com/file/d/1rN79CxW3Vldp-WDuSoG0bKq9tYQR79UK/view?usp=drive_link\n",
    "!gdown --fuzzy https://drive.google.com/file/d/1WMKg7KevVEEd9jrfLG8mcpOequZMbjlM/view?usp=drive_link\n",
    "!unzip /kaggle/working/weather.zip\n",
    "!unzip /kaggle/working/exchange_rate.zip\n",
    "!unzip /kaggle/working/illness.zip\n",
    "# новые наборы данных\n",
    "!gdown --fuzzy https://drive.google.com/file/d/1-Jy7C9Dh9QJF_yWKf2hQKUia56aQXBJ0/view?usp=drive_link -q\n",
    "!gdown --fuzzy https://drive.google.com/file/d/1lPZhTcJVirbwhN6EpppcmpZzbDcBn4rx/view?usp=drive_link -q"
   ]
  },
  {
   "cell_type": "code",
   "execution_count": 2,
   "id": "91271831",
   "metadata": {
    "execution": {
     "iopub.execute_input": "2024-05-14T10:55:41.588403Z",
     "iopub.status.busy": "2024-05-14T10:55:41.588047Z",
     "iopub.status.idle": "2024-05-14T10:55:41.595358Z",
     "shell.execute_reply": "2024-05-14T10:55:41.594277Z"
    },
    "papermill": {
     "duration": 0.017167,
     "end_time": "2024-05-14T10:55:41.597671",
     "exception": false,
     "start_time": "2024-05-14T10:55:41.580504",
     "status": "completed"
    },
    "tags": []
   },
   "outputs": [
    {
     "name": "stdout",
     "output_type": "stream",
     "text": [
      "/kaggle/working/UniTime_for_Kaggle\n"
     ]
    }
   ],
   "source": [
    "cd UniTime_for_Kaggle"
   ]
  },
  {
   "cell_type": "code",
   "execution_count": 3,
   "id": "0815f7a0",
   "metadata": {
    "execution": {
     "iopub.execute_input": "2024-05-14T10:55:41.611300Z",
     "iopub.status.busy": "2024-05-14T10:55:41.610962Z",
     "iopub.status.idle": "2024-05-14T10:55:47.337015Z",
     "shell.execute_reply": "2024-05-14T10:55:47.335745Z"
    },
    "papermill": {
     "duration": 5.735717,
     "end_time": "2024-05-14T10:55:47.339491",
     "exception": false,
     "start_time": "2024-05-14T10:55:41.603774",
     "status": "completed"
    },
    "tags": []
   },
   "outputs": [],
   "source": [
    "!mv /kaggle/working/ETDataset*/* /kaggle/working/UniTime_for_Kaggle/dataset\n",
    "!mv /kaggle/working/weather/ /kaggle/working/UniTime_for_Kaggle/dataset\n",
    "!mv /kaggle/working/exchange_rate/ /kaggle/working/UniTime_for_Kaggle/dataset\n",
    "!mv /kaggle/working/illness/ /kaggle/working/UniTime_for_Kaggle/dataset\n",
    "!mv /kaggle/working/de_small.csv /kaggle/working/UniTime_for_Kaggle/dataset\n",
    "!mv /kaggle/working/de_big.csv /kaggle/working/UniTime_for_Kaggle/dataset"
   ]
  },
  {
   "cell_type": "markdown",
   "id": "1c9c30a7",
   "metadata": {
    "papermill": {
     "duration": 0.005253,
     "end_time": "2024-05-14T10:55:47.350322",
     "exception": false,
     "start_time": "2024-05-14T10:55:47.345069",
     "status": "completed"
    },
    "tags": []
   },
   "source": [
    "**Одномерное прогнозирование**"
   ]
  },
  {
   "cell_type": "code",
   "execution_count": 4,
   "id": "15ab4632",
   "metadata": {
    "execution": {
     "iopub.execute_input": "2024-05-14T10:55:47.362282Z",
     "iopub.status.busy": "2024-05-14T10:55:47.361925Z",
     "iopub.status.idle": "2024-05-14T11:13:24.866604Z",
     "shell.execute_reply": "2024-05-14T11:13:24.865236Z"
    },
    "papermill": {
     "duration": 1057.513126,
     "end_time": "2024-05-14T11:13:24.868604",
     "exception": false,
     "start_time": "2024-05-14T10:55:47.355478",
     "status": "completed"
    },
    "tags": []
   },
   "outputs": [
    {
     "name": "stdout",
     "output_type": "stream",
     "text": [
      "Log directory: checkpoint_gpt2-small_full_divided_list_instruct_8_2_0.5_96\r\n",
      "2024-05-14 10:55:56,735 - Namespace(gpu=0, training_list='execute_list/divided_list/ETTh1_train.csv', inference_list='execute_list/inference_all.csv', eval_model_path='', is_training=1, seed=2036, target='OT', label_len=0, lm_pretrain_model='gpt2-small', lm_ft_type='full', instruct_path='data_configs/instruct.json', zero_shot_instruct='', mask_rate=0.5, patch_len=16, max_token_num=17, max_backcast_len=96, max_forecast_len=720, lm_layer_num=8, dec_trans_layer_num=2, ts_embed_dropout=0.3, dec_head_dropout=0.1, num_workers=10, train_epochs=10, patience=10, learning_rate=0.0001, weight_decay=0, clip=5, checkpoint='checkpoint_gpt2-small_full_divided_list_instruct_8_2_0.5_96')\r\n",
      "tokenizer_config.json: 100%|██████████████████| 26.0/26.0 [00:00<00:00, 153kB/s]\r\n",
      "vocab.json: 100%|██████████████████████████| 1.04M/1.04M [00:00<00:00, 11.2MB/s]\r\n",
      "merges.txt: 100%|████████████████████████████| 456k/456k [00:00<00:00, 1.86MB/s]\r\n",
      "tokenizer.json: 100%|██████████████████████| 1.36M/1.36M [00:00<00:00, 3.32MB/s]\r\n",
      "config.json: 100%|█████████████████████████████| 665/665 [00:00<00:00, 4.89MB/s]\r\n",
      "model.safetensors: 100%|██████████████████████| 548M/548M [00:01<00:00, 388MB/s]\r\n",
      "generation_config.json: 100%|███████████████████| 124/124 [00:00<00:00, 376kB/s]\r\n",
      "2024-05-14 10:56:01,960 - Trainable Params: 96088320, All Params: 96088320, Percent: 1.0\r\n",
      "2024-05-14 10:56:01,961 - Trainable Params: 122717232, All Params: 122717232, Percent: 1.0\r\n",
      "2024-05-14 10:56:01,972 - ***** Task: ETTh1_M_96_720_0.5_16_32 *****\r\n",
      "2024-05-14 10:56:02,018 - Mode: train, Sample Num: 7825, Batch Num: 244\r\n",
      "2024-05-14 10:56:02,019 - ***** Task: ETTh1_M_96_720_0.5_16_32 *****\r\n",
      "2024-05-14 10:56:02,058 - Mode: val, Sample Num: 2161, Batch Num: 67\r\n",
      "2024-05-14 10:56:02,059 - ***** Task: ETTh1_M_96_24_0.5_16_32 *****\r\n",
      "2024-05-14 10:56:02,096 - Mode: test, Sample Num: 2857, Batch Num: 2857\r\n",
      "2024-05-14 10:56:02,097 - ***** Task: ETTh1_M_96_96_0.5_16_32 *****\r\n",
      "2024-05-14 10:56:02,135 - Mode: test, Sample Num: 2785, Batch Num: 2785\r\n",
      "2024-05-14 10:56:02,136 - ***** Task: ETTh1_M_96_192_0.5_16_32 *****\r\n",
      "2024-05-14 10:56:02,174 - Mode: test, Sample Num: 2689, Batch Num: 2689\r\n",
      "2024-05-14 10:56:02,175 - ***** Task: ETTh1_M_96_336_0.5_16_32 *****\r\n",
      "2024-05-14 10:56:02,213 - Mode: test, Sample Num: 2545, Batch Num: 2545\r\n",
      "2024-05-14 10:56:02,213 - ***** Task: ETTh1_M_96_720_0.5_16_32 *****\r\n",
      "2024-05-14 10:56:02,251 - Mode: test, Sample Num: 2161, Batch Num: 2161\r\n",
      "2024-05-14 10:56:02,251 - Start training!\r\n",
      "2024-05-14 10:57:24,412 - Epoch: 1, Train Time: 82.016183, Train Loss: 0.644087\r\n",
      "2024-05-14 10:57:31,660 - Epoch: 1, Valid Time: 7.247462, Valid Loss: 1.599368, Valid Loss Improve: 0.680126\r\n",
      "2024-05-14 10:57:32,457 - Saving best model!\r\n",
      "2024-05-14 10:57:32,458 - Update learning rate to 9.939057285945933e-05\r\n",
      "2024-05-14 10:58:53,290 - Epoch: 2, Train Time: 80.601845, Train Loss: 0.584067\r\n",
      "2024-05-14 10:59:00,563 - Epoch: 2, Valid Time: 7.271584, Valid Loss: 1.654415, Valid Loss Improve: -0.034418\r\n",
      "2024-05-14 10:59:01,347 - Update learning rate to 9.757729755661012e-05\r\n",
      "2024-05-14 11:00:22,122 - Epoch: 3, Train Time: 80.547009, Train Loss: 0.569673\r\n",
      "2024-05-14 11:00:29,404 - Epoch: 3, Valid Time: 7.281557, Valid Loss: 1.577956, Valid Loss Improve: 0.013388\r\n",
      "2024-05-14 11:00:30,548 - Saving best model!\r\n",
      "2024-05-14 11:00:30,549 - Update learning rate to 9.460482294732422e-05\r\n",
      "2024-05-14 11:01:51,439 - Epoch: 4, Train Time: 80.647833, Train Loss: 0.558546\r\n",
      "2024-05-14 11:01:58,722 - Epoch: 4, Valid Time: 7.282433, Valid Loss: 1.600712, Valid Loss Improve: -0.014421\r\n",
      "2024-05-14 11:01:59,521 - Update learning rate to 9.054634122155992e-05\r\n",
      "2024-05-14 11:03:20,457 - Epoch: 5, Train Time: 80.696711, Train Loss: 0.550292\r\n",
      "2024-05-14 11:03:27,727 - Epoch: 5, Valid Time: 7.269606, Valid Loss: 1.574885, Valid Loss Improve: 0.001947\r\n",
      "2024-05-14 11:03:28,851 - Saving best model!\r\n",
      "2024-05-14 11:03:28,851 - Update learning rate to 8.550178566873411e-05\r\n",
      "2024-05-14 11:04:49,846 - Epoch: 6, Train Time: 80.751993, Train Loss: 0.541328\r\n",
      "2024-05-14 11:04:57,120 - Epoch: 6, Valid Time: 7.273116, Valid Loss: 1.586198, Valid Loss Improve: -0.007184\r\n",
      "2024-05-14 11:04:57,929 - Update learning rate to 7.959536998847744e-05\r\n",
      "2024-05-14 11:06:18,891 - Epoch: 7, Train Time: 80.717840, Train Loss: 0.533251\r\n",
      "2024-05-14 11:06:26,117 - Epoch: 7, Valid Time: 7.224947, Valid Loss: 1.567728, Valid Loss Improve: 0.004544\r\n",
      "2024-05-14 11:06:27,249 - Saving best model!\r\n",
      "2024-05-14 11:06:27,250 - Update learning rate to 7.297252973710758e-05\r\n",
      "2024-05-14 11:07:48,177 - Epoch: 8, Train Time: 80.677144, Train Loss: 0.526561\r\n",
      "2024-05-14 11:07:55,421 - Epoch: 8, Valid Time: 7.243068, Valid Loss: 1.570697, Valid Loss Improve: -0.001894\r\n",
      "2024-05-14 11:07:56,221 - Update learning rate to 6.579634122155991e-05\r\n",
      "2024-05-14 11:09:17,158 - Epoch: 9, Train Time: 80.688237, Train Loss: 0.519196\r\n",
      "2024-05-14 11:09:24,434 - Epoch: 9, Valid Time: 7.274585, Valid Loss: 1.594124, Valid Loss Improve: -0.016837\r\n",
      "2024-05-14 11:09:25,233 - Update learning rate to 5.824350601949144e-05\r\n",
      "2024-05-14 11:10:46,124 - Epoch: 10, Train Time: 80.646152, Train Loss: 0.513508\r\n",
      "2024-05-14 11:10:53,366 - Epoch: 10, Valid Time: 7.240904, Valid Loss: 1.578941, Valid Loss Improve: -0.007152\r\n",
      "2024-05-14 11:10:54,214 - Update learning rate to 5.050000000000001e-05\r\n",
      "2024-05-14 11:10:54,214 - Start testing!\r\n",
      "2024-05-14 11:11:27,098 - Setting: ETTh1_96_24, MSE: 0.318414, MAE: 0.370697\r\n",
      "2024-05-14 11:11:58,523 - Setting: ETTh1_96_96, MSE: 0.388379, MAE: 0.413598\r\n",
      "2024-05-14 11:12:29,320 - Setting: ETTh1_96_192, MSE: 0.431646, MAE: 0.440392\r\n",
      "2024-05-14 11:12:58,236 - Setting: ETTh1_96_336, MSE: 0.468913, MAE: 0.460242\r\n",
      "2024-05-14 11:13:23,290 - Setting: ETTh1_96_720, MSE: 0.479195, MAE: 0.481562\r\n",
      "CPU times: user 12.2 s, sys: 2.83 s, total: 15.1 s\n",
      "Wall time: 17min 37s\n"
     ]
    }
   ],
   "source": [
    "%%time\n",
    "!python run.py  --training_list execute_list/divided_list/ETTh1_train.csv --max_token_num 17 --lm_layer_num 8 "
   ]
  },
  {
   "cell_type": "code",
   "execution_count": 5,
   "id": "051339ac",
   "metadata": {
    "execution": {
     "iopub.execute_input": "2024-05-14T11:13:24.891540Z",
     "iopub.status.busy": "2024-05-14T11:13:24.891213Z",
     "iopub.status.idle": "2024-05-14T11:30:55.352317Z",
     "shell.execute_reply": "2024-05-14T11:30:55.351152Z"
    },
    "papermill": {
     "duration": 1050.475229,
     "end_time": "2024-05-14T11:30:55.354554",
     "exception": false,
     "start_time": "2024-05-14T11:13:24.879325",
     "status": "completed"
    },
    "tags": []
   },
   "outputs": [
    {
     "name": "stdout",
     "output_type": "stream",
     "text": [
      "Log directory: checkpoint_gpt2-small_full_divided_list_instruct_8_2_0.5_96\r\n",
      "2024-05-14 11:13:30,315 - Namespace(gpu=0, training_list='execute_list/divided_list/ETTh2_train.csv', inference_list='execute_list/inference_all.csv', eval_model_path='', is_training=1, seed=2036, target='OT', label_len=0, lm_pretrain_model='gpt2-small', lm_ft_type='full', instruct_path='data_configs/instruct.json', zero_shot_instruct='', mask_rate=0.5, patch_len=16, max_token_num=17, max_backcast_len=96, max_forecast_len=720, lm_layer_num=8, dec_trans_layer_num=2, ts_embed_dropout=0.3, dec_head_dropout=0.1, num_workers=10, train_epochs=10, patience=10, learning_rate=0.0001, weight_decay=0, clip=5, checkpoint='checkpoint_gpt2-small_full_divided_list_instruct_8_2_0.5_96')\r\n",
      "2024-05-14 11:13:31,867 - Trainable Params: 96088320, All Params: 96088320, Percent: 1.0\r\n",
      "2024-05-14 11:13:31,868 - Trainable Params: 122717232, All Params: 122717232, Percent: 1.0\r\n",
      "2024-05-14 11:13:31,871 - ***** Task: ETTh2_M_96_720_0.5_16_32 *****\r\n",
      "2024-05-14 11:13:31,909 - Mode: train, Sample Num: 7825, Batch Num: 244\r\n",
      "2024-05-14 11:13:31,910 - ***** Task: ETTh2_M_96_720_0.5_16_32 *****\r\n",
      "2024-05-14 11:13:31,946 - Mode: val, Sample Num: 2161, Batch Num: 67\r\n",
      "2024-05-14 11:13:31,947 - ***** Task: ETTh2_M_96_24_0.5_16_32 *****\r\n",
      "2024-05-14 11:13:31,982 - Mode: test, Sample Num: 2857, Batch Num: 2857\r\n",
      "2024-05-14 11:13:31,983 - ***** Task: ETTh2_M_96_96_0.5_16_32 *****\r\n",
      "2024-05-14 11:13:32,020 - Mode: test, Sample Num: 2785, Batch Num: 2785\r\n",
      "2024-05-14 11:13:32,021 - ***** Task: ETTh2_M_96_192_0.5_16_32 *****\r\n",
      "2024-05-14 11:13:32,057 - Mode: test, Sample Num: 2689, Batch Num: 2689\r\n",
      "2024-05-14 11:13:32,058 - ***** Task: ETTh2_M_96_336_0.5_16_32 *****\r\n",
      "2024-05-14 11:13:32,094 - Mode: test, Sample Num: 2545, Batch Num: 2545\r\n",
      "2024-05-14 11:13:32,095 - ***** Task: ETTh2_M_96_720_0.5_16_32 *****\r\n",
      "2024-05-14 11:13:32,130 - Mode: test, Sample Num: 2161, Batch Num: 2161\r\n",
      "2024-05-14 11:13:32,130 - Start training!\r\n",
      "2024-05-14 11:14:53,726 - Epoch: 1, Train Time: 81.428440, Train Loss: 0.811248\r\n",
      "2024-05-14 11:15:01,021 - Epoch: 1, Valid Time: 7.294327, Valid Loss: 0.590048, Valid Loss Improve: 0.881990\r\n",
      "2024-05-14 11:15:02,137 - Saving best model!\r\n",
      "2024-05-14 11:15:02,137 - Update learning rate to 9.939057285945933e-05\r\n",
      "2024-05-14 11:16:23,066 - Epoch: 2, Train Time: 80.654165, Train Loss: 0.777496\r\n",
      "2024-05-14 11:16:30,329 - Epoch: 2, Valid Time: 7.262380, Valid Loss: 0.634462, Valid Loss Improve: -0.075271\r\n",
      "2024-05-14 11:16:31,508 - Update learning rate to 9.757729755661012e-05\r\n",
      "2024-05-14 11:17:52,377 - Epoch: 3, Train Time: 80.613924, Train Loss: 0.770552\r\n",
      "2024-05-14 11:17:59,621 - Epoch: 3, Valid Time: 7.243996, Valid Loss: 0.609381, Valid Loss Improve: -0.032765\r\n",
      "2024-05-14 11:18:00,426 - Update learning rate to 9.460482294732422e-05\r\n",
      "2024-05-14 11:19:21,301 - Epoch: 4, Train Time: 80.627494, Train Loss: 0.767631\r\n",
      "2024-05-14 11:19:28,553 - Epoch: 4, Valid Time: 7.251321, Valid Loss: 0.613642, Valid Loss Improve: -0.039987\r\n",
      "2024-05-14 11:19:29,734 - Update learning rate to 9.054634122155992e-05\r\n",
      "2024-05-14 11:20:50,656 - Epoch: 5, Train Time: 80.667097, Train Loss: 0.757362\r\n",
      "2024-05-14 11:20:57,907 - Epoch: 5, Valid Time: 7.250720, Valid Loss: 0.617349, Valid Loss Improve: -0.046268\r\n",
      "2024-05-14 11:20:58,703 - Update learning rate to 8.550178566873411e-05\r\n",
      "2024-05-14 11:22:19,528 - Epoch: 6, Train Time: 80.563213, Train Loss: 0.751188\r\n",
      "2024-05-14 11:22:26,806 - Epoch: 6, Valid Time: 7.278341, Valid Loss: 0.616037, Valid Loss Improve: -0.044045\r\n",
      "2024-05-14 11:22:27,898 - Update learning rate to 7.959536998847744e-05\r\n",
      "2024-05-14 11:23:48,676 - Epoch: 7, Train Time: 80.536891, Train Loss: 0.742648\r\n",
      "2024-05-14 11:23:55,932 - Epoch: 7, Valid Time: 7.255777, Valid Loss: 0.622275, Valid Loss Improve: -0.054618\r\n",
      "2024-05-14 11:23:56,723 - Update learning rate to 7.297252973710758e-05\r\n",
      "2024-05-14 11:25:17,598 - Epoch: 8, Train Time: 80.593010, Train Loss: 0.734542\r\n",
      "2024-05-14 11:25:24,865 - Epoch: 8, Valid Time: 7.266994, Valid Loss: 0.608063, Valid Loss Improve: -0.030531\r\n",
      "2024-05-14 11:25:26,090 - Update learning rate to 6.579634122155991e-05\r\n",
      "2024-05-14 11:26:47,039 - Epoch: 9, Train Time: 80.700903, Train Loss: 0.726010\r\n",
      "2024-05-14 11:26:54,274 - Epoch: 9, Valid Time: 7.234190, Valid Loss: 0.632554, Valid Loss Improve: -0.072037\r\n",
      "2024-05-14 11:26:55,444 - Update learning rate to 5.824350601949144e-05\r\n",
      "2024-05-14 11:28:16,283 - Epoch: 10, Train Time: 80.594307, Train Loss: 0.719429\r\n",
      "2024-05-14 11:28:23,516 - Epoch: 10, Valid Time: 7.232104, Valid Loss: 0.628339, Valid Loss Improve: -0.064895\r\n",
      "2024-05-14 11:28:24,655 - Update learning rate to 5.050000000000001e-05\r\n",
      "2024-05-14 11:28:24,655 - Start testing!\r\n",
      "2024-05-14 11:28:57,613 - Setting: ETTh2_96_24, MSE: 0.207624, MAE: 0.292569\r\n",
      "2024-05-14 11:29:29,329 - Setting: ETTh2_96_96, MSE: 0.308204, MAE: 0.353099\r\n",
      "2024-05-14 11:30:00,186 - Setting: ETTh2_96_192, MSE: 0.388558, MAE: 0.400226\r\n",
      "2024-05-14 11:30:29,172 - Setting: ETTh2_96_336, MSE: 0.434369, MAE: 0.437904\r\n",
      "2024-05-14 11:30:54,239 - Setting: ETTh2_96_720, MSE: 0.448172, MAE: 0.456215\r\n",
      "CPU times: user 11.9 s, sys: 2.75 s, total: 14.7 s\n",
      "Wall time: 17min 30s\n"
     ]
    }
   ],
   "source": [
    "%%time\n",
    "!python run.py  --training_list execute_list/divided_list/ETTh2_train.csv --max_token_num 17 --lm_layer_num 8 "
   ]
  },
  {
   "cell_type": "code",
   "execution_count": 6,
   "id": "540f6468",
   "metadata": {
    "execution": {
     "iopub.execute_input": "2024-05-14T11:30:55.386076Z",
     "iopub.status.busy": "2024-05-14T11:30:55.385715Z",
     "iopub.status.idle": "2024-05-14T12:42:55.612156Z",
     "shell.execute_reply": "2024-05-14T12:42:55.610458Z"
    },
    "papermill": {
     "duration": 4320.244412,
     "end_time": "2024-05-14T12:42:55.614316",
     "exception": false,
     "start_time": "2024-05-14T11:30:55.369904",
     "status": "completed"
    },
    "tags": []
   },
   "outputs": [
    {
     "name": "stdout",
     "output_type": "stream",
     "text": [
      "Log directory: checkpoint_gpt2-small_full_divided_list_instruct_8_2_0.5_96\r\n",
      "2024-05-14 11:31:00,738 - Namespace(gpu=0, training_list='execute_list/divided_list/ETTm1_train.csv', inference_list='execute_list/inference_all.csv', eval_model_path='', is_training=1, seed=2036, target='OT', label_len=0, lm_pretrain_model='gpt2-small', lm_ft_type='full', instruct_path='data_configs/instruct.json', zero_shot_instruct='', mask_rate=0.5, patch_len=16, max_token_num=17, max_backcast_len=96, max_forecast_len=720, lm_layer_num=8, dec_trans_layer_num=2, ts_embed_dropout=0.3, dec_head_dropout=0.1, num_workers=10, train_epochs=10, patience=10, learning_rate=0.0001, weight_decay=0, clip=5, checkpoint='checkpoint_gpt2-small_full_divided_list_instruct_8_2_0.5_96')\r\n",
      "2024-05-14 11:31:02,027 - Trainable Params: 96088320, All Params: 96088320, Percent: 1.0\r\n",
      "2024-05-14 11:31:02,028 - Trainable Params: 122717232, All Params: 122717232, Percent: 1.0\r\n",
      "2024-05-14 11:31:02,032 - ***** Task: ETTm1_M_96_720_0.5_16_64 *****\r\n",
      "2024-05-14 11:31:02,188 - Mode: train, Sample Num: 33745, Batch Num: 527\r\n",
      "2024-05-14 11:31:02,189 - ***** Task: ETTm1_M_96_720_0.5_16_64 *****\r\n",
      "2024-05-14 11:31:02,340 - Mode: val, Sample Num: 10801, Batch Num: 168\r\n",
      "2024-05-14 11:31:02,341 - ***** Task: ETTm1_M_96_24_0.5_16_64 *****\r\n",
      "2024-05-14 11:31:02,494 - Mode: test, Sample Num: 11497, Batch Num: 11497\r\n",
      "2024-05-14 11:31:02,495 - ***** Task: ETTm1_M_96_96_0.5_16_64 *****\r\n",
      "2024-05-14 11:31:02,648 - Mode: test, Sample Num: 11425, Batch Num: 11425\r\n",
      "2024-05-14 11:31:02,649 - ***** Task: ETTm1_M_96_192_0.5_16_64 *****\r\n",
      "2024-05-14 11:31:02,797 - Mode: test, Sample Num: 11329, Batch Num: 11329\r\n",
      "2024-05-14 11:31:02,798 - ***** Task: ETTm1_M_96_336_0.5_16_64 *****\r\n",
      "2024-05-14 11:31:02,946 - Mode: test, Sample Num: 11185, Batch Num: 11185\r\n",
      "2024-05-14 11:31:02,947 - ***** Task: ETTm1_M_96_720_0.5_16_64 *****\r\n",
      "2024-05-14 11:31:03,097 - Mode: test, Sample Num: 10801, Batch Num: 10801\r\n",
      "2024-05-14 11:31:03,097 - Start training!\r\n",
      "2024-05-14 11:36:32,635 - Epoch: 1, Train Time: 329.334664, Train Loss: 0.474668\r\n",
      "2024-05-14 11:37:07,881 - Epoch: 1, Valid Time: 35.245269, Valid Loss: 1.011219, Valid Loss Improve: 0.797756\r\n",
      "2024-05-14 11:37:08,938 - Saving best model!\r\n",
      "2024-05-14 11:37:08,939 - Update learning rate to 9.939057285945933e-05\r\n",
      "2024-05-14 11:42:37,629 - Epoch: 2, Train Time: 328.400195, Train Loss: 0.442691\r\n",
      "2024-05-14 11:43:12,929 - Epoch: 2, Valid Time: 35.299855, Valid Loss: 1.000488, Valid Loss Improve: 0.010612\r\n",
      "2024-05-14 11:43:14,067 - Saving best model!\r\n",
      "2024-05-14 11:43:14,068 - Update learning rate to 9.757729755661012e-05\r\n",
      "2024-05-14 11:48:43,015 - Epoch: 3, Train Time: 328.543458, Train Loss: 0.433361\r\n",
      "2024-05-14 11:49:18,366 - Epoch: 3, Valid Time: 35.349467, Valid Loss: 0.990937, Valid Loss Improve: 0.009547\r\n",
      "2024-05-14 11:49:19,475 - Saving best model!\r\n",
      "2024-05-14 11:49:19,476 - Update learning rate to 9.460482294732422e-05\r\n",
      "2024-05-14 11:54:48,266 - Epoch: 4, Train Time: 328.491479, Train Loss: 0.425145\r\n",
      "2024-05-14 11:55:23,577 - Epoch: 4, Valid Time: 35.310585, Valid Loss: 0.996302, Valid Loss Improve: -0.005413\r\n",
      "2024-05-14 11:55:24,709 - Update learning rate to 9.054634122155992e-05\r\n",
      "2024-05-14 12:00:53,448 - Epoch: 5, Train Time: 328.407378, Train Loss: 0.417877\r\n",
      "2024-05-14 12:01:28,687 - Epoch: 5, Valid Time: 35.239063, Valid Loss: 1.011794, Valid Loss Improve: -0.021047\r\n",
      "2024-05-14 12:01:29,854 - Update learning rate to 8.550178566873411e-05\r\n",
      "2024-05-14 12:06:58,626 - Epoch: 6, Train Time: 328.463089, Train Loss: 0.411428\r\n",
      "2024-05-14 12:07:33,874 - Epoch: 6, Valid Time: 35.247734, Valid Loss: 1.003217, Valid Loss Improve: -0.012392\r\n",
      "2024-05-14 12:07:34,939 - Update learning rate to 7.959536998847744e-05\r\n",
      "2024-05-14 12:13:03,575 - Epoch: 7, Train Time: 328.329122, Train Loss: 0.405347\r\n",
      "2024-05-14 12:13:38,812 - Epoch: 7, Valid Time: 35.236194, Valid Loss: 1.005181, Valid Loss Improve: -0.014374\r\n",
      "2024-05-14 12:13:39,867 - Update learning rate to 7.297252973710758e-05\r\n",
      "2024-05-14 12:19:08,480 - Epoch: 8, Train Time: 328.302110, Train Loss: 0.399255\r\n",
      "2024-05-14 12:19:43,758 - Epoch: 8, Valid Time: 35.277806, Valid Loss: 1.006727, Valid Loss Improve: -0.015935\r\n",
      "2024-05-14 12:19:44,910 - Update learning rate to 6.579634122155991e-05\r\n",
      "2024-05-14 12:25:13,605 - Epoch: 9, Train Time: 328.392899, Train Loss: 0.393864\r\n",
      "2024-05-14 12:25:49,000 - Epoch: 9, Valid Time: 35.394782, Valid Loss: 1.020972, Valid Loss Improve: -0.030309\r\n",
      "2024-05-14 12:25:50,074 - Update learning rate to 5.824350601949144e-05\r\n",
      "2024-05-14 12:31:19,132 - Epoch: 10, Train Time: 328.749422, Train Loss: 0.388917\r\n",
      "2024-05-14 12:31:54,390 - Epoch: 10, Valid Time: 35.257005, Valid Loss: 1.016318, Valid Loss Improve: -0.025613\r\n",
      "2024-05-14 12:31:55,466 - Update learning rate to 5.050000000000001e-05\r\n",
      "2024-05-14 12:31:55,466 - Start testing!\r\n",
      "2024-05-14 12:34:11,485 - Setting: ETTm1_96_24, MSE: 0.241826, MAE: 0.310437\r\n",
      "2024-05-14 12:36:24,552 - Setting: ETTm1_96_96, MSE: 0.331721, MAE: 0.368119\r\n",
      "2024-05-14 12:38:37,981 - Setting: ETTm1_96_192, MSE: 0.371790, MAE: 0.387991\r\n",
      "2024-05-14 12:40:48,235 - Setting: ETTm1_96_336, MSE: 0.403094, MAE: 0.408063\r\n",
      "2024-05-14 12:42:54,485 - Setting: ETTm1_96_720, MSE: 0.463667, MAE: 0.441196\r\n",
      "CPU times: user 51.7 s, sys: 11.5 s, total: 1min 3s\n",
      "Wall time: 1h 12min\n"
     ]
    }
   ],
   "source": [
    "%%time\n",
    "!python run.py  --training_list execute_list/divided_list/ETTm1_train.csv --max_token_num 17 --lm_layer_num 8 "
   ]
  },
  {
   "cell_type": "code",
   "execution_count": 7,
   "id": "434f9b83",
   "metadata": {
    "execution": {
     "iopub.execute_input": "2024-05-14T12:42:55.652711Z",
     "iopub.status.busy": "2024-05-14T12:42:55.652364Z",
     "iopub.status.idle": "2024-05-14T13:56:03.061324Z",
     "shell.execute_reply": "2024-05-14T13:56:03.060075Z"
    },
    "papermill": {
     "duration": 4387.430727,
     "end_time": "2024-05-14T13:56:03.063536",
     "exception": false,
     "start_time": "2024-05-14T12:42:55.632809",
     "status": "completed"
    },
    "tags": []
   },
   "outputs": [
    {
     "name": "stdout",
     "output_type": "stream",
     "text": [
      "Log directory: checkpoint_gpt2-small_full_divided_list_instruct_8_2_0.5_96\r\n",
      "2024-05-14 12:43:01,105 - Namespace(gpu=0, training_list='execute_list/divided_list/ETTm2_train.csv', inference_list='execute_list/inference_all.csv', eval_model_path='', is_training=1, seed=2036, target='OT', label_len=0, lm_pretrain_model='gpt2-small', lm_ft_type='full', instruct_path='data_configs/instruct.json', zero_shot_instruct='', mask_rate=0.5, patch_len=16, max_token_num=17, max_backcast_len=96, max_forecast_len=720, lm_layer_num=8, dec_trans_layer_num=2, ts_embed_dropout=0.3, dec_head_dropout=0.1, num_workers=10, train_epochs=10, patience=10, learning_rate=0.0001, weight_decay=0, clip=5, checkpoint='checkpoint_gpt2-small_full_divided_list_instruct_8_2_0.5_96')\r\n",
      "2024-05-14 12:43:02,466 - Trainable Params: 96088320, All Params: 96088320, Percent: 1.0\r\n",
      "2024-05-14 12:43:02,467 - Trainable Params: 122717232, All Params: 122717232, Percent: 1.0\r\n",
      "2024-05-14 12:43:02,471 - ***** Task: ETTm2_M_96_720_0.5_16_64 *****\r\n",
      "2024-05-14 12:43:02,612 - Mode: train, Sample Num: 33745, Batch Num: 527\r\n",
      "2024-05-14 12:43:02,613 - ***** Task: ETTm2_M_96_720_0.5_16_64 *****\r\n",
      "2024-05-14 12:43:02,752 - Mode: val, Sample Num: 10801, Batch Num: 168\r\n",
      "2024-05-14 12:43:02,753 - ***** Task: ETTm2_M_96_24_0.5_16_64 *****\r\n",
      "2024-05-14 12:43:02,895 - Mode: test, Sample Num: 11497, Batch Num: 11497\r\n",
      "2024-05-14 12:43:02,896 - ***** Task: ETTm2_M_96_96_0.5_16_64 *****\r\n",
      "2024-05-14 12:43:03,034 - Mode: test, Sample Num: 11425, Batch Num: 11425\r\n",
      "2024-05-14 12:43:03,035 - ***** Task: ETTm2_M_96_192_0.5_16_64 *****\r\n",
      "2024-05-14 12:43:03,174 - Mode: test, Sample Num: 11329, Batch Num: 11329\r\n",
      "2024-05-14 12:43:03,175 - ***** Task: ETTm2_M_96_336_0.5_16_64 *****\r\n",
      "2024-05-14 12:43:03,314 - Mode: test, Sample Num: 11185, Batch Num: 11185\r\n",
      "2024-05-14 12:43:03,316 - ***** Task: ETTm2_M_96_720_0.5_16_64 *****\r\n",
      "2024-05-14 12:43:03,455 - Mode: test, Sample Num: 10801, Batch Num: 10801\r\n",
      "2024-05-14 12:43:03,455 - Start training!\r\n",
      "2024-05-14 12:48:32,846 - Epoch: 1, Train Time: 329.202837, Train Loss: 0.538899\r\n",
      "2024-05-14 12:49:08,088 - Epoch: 1, Valid Time: 35.241301, Valid Loss: 0.299218, Valid Loss Improve: 0.940156\r\n",
      "2024-05-14 12:49:09,235 - Saving best model!\r\n",
      "2024-05-14 12:49:09,236 - Update learning rate to 9.939057285945933e-05\r\n",
      "2024-05-14 12:54:37,937 - Epoch: 2, Train Time: 328.392151, Train Loss: 0.524857\r\n",
      "2024-05-14 12:55:13,167 - Epoch: 2, Valid Time: 35.229994, Valid Loss: 0.291843, Valid Loss Improve: 0.024647\r\n",
      "2024-05-14 12:55:14,354 - Saving best model!\r\n",
      "2024-05-14 12:55:14,355 - Update learning rate to 9.757729755661012e-05\r\n",
      "2024-05-14 13:00:43,024 - Epoch: 3, Train Time: 328.378983, Train Loss: 0.521303\r\n",
      "2024-05-14 13:01:18,300 - Epoch: 3, Valid Time: 35.275200, Valid Loss: 0.292990, Valid Loss Improve: -0.003929\r\n",
      "2024-05-14 13:01:19,436 - Update learning rate to 9.460482294732422e-05\r\n",
      "2024-05-14 13:06:48,540 - Epoch: 4, Train Time: 328.800267, Train Loss: 0.514796\r\n",
      "2024-05-14 13:07:24,059 - Epoch: 4, Valid Time: 35.518125, Valid Loss: 0.296136, Valid Loss Improve: -0.014711\r\n",
      "2024-05-14 13:07:25,257 - Update learning rate to 9.054634122155992e-05\r\n",
      "2024-05-14 13:12:54,599 - Epoch: 5, Train Time: 328.986520, Train Loss: 0.510932\r\n",
      "2024-05-14 13:13:30,107 - Epoch: 5, Valid Time: 35.507344, Valid Loss: 0.304917, Valid Loss Improve: -0.044800\r\n",
      "2024-05-14 13:13:31,329 - Update learning rate to 8.550178566873411e-05\r\n",
      "2024-05-14 13:19:00,438 - Epoch: 6, Train Time: 328.761123, Train Loss: 0.505914\r\n",
      "2024-05-14 13:19:35,949 - Epoch: 6, Valid Time: 35.510225, Valid Loss: 0.288395, Valid Loss Improve: 0.011815\r\n",
      "2024-05-14 13:19:37,160 - Saving best model!\r\n",
      "2024-05-14 13:19:37,161 - Update learning rate to 7.959536998847744e-05\r\n",
      "2024-05-14 13:25:06,253 - Epoch: 7, Train Time: 328.742586, Train Loss: 0.502746\r\n",
      "2024-05-14 13:25:41,737 - Epoch: 7, Valid Time: 35.483625, Valid Loss: 0.298432, Valid Loss Improve: -0.034802\r\n",
      "2024-05-14 13:25:42,893 - Update learning rate to 7.297252973710758e-05\r\n",
      "2024-05-14 13:31:12,122 - Epoch: 8, Train Time: 328.880901, Train Loss: 0.495863\r\n",
      "2024-05-14 13:31:47,618 - Epoch: 8, Valid Time: 35.495164, Valid Loss: 0.290003, Valid Loss Improve: -0.005577\r\n",
      "2024-05-14 13:31:48,909 - Update learning rate to 6.579634122155991e-05\r\n",
      "2024-05-14 13:37:18,051 - Epoch: 9, Train Time: 328.782977, Train Loss: 0.491683\r\n",
      "2024-05-14 13:37:53,562 - Epoch: 9, Valid Time: 35.510669, Valid Loss: 0.293131, Valid Loss Improve: -0.016423\r\n",
      "2024-05-14 13:37:54,726 - Update learning rate to 5.824350601949144e-05\r\n",
      "2024-05-14 13:43:23,770 - Epoch: 10, Train Time: 328.696095, Train Loss: 0.486528\r\n",
      "2024-05-14 13:43:59,270 - Epoch: 10, Valid Time: 35.499182, Valid Loss: 0.297281, Valid Loss Improve: -0.030814\r\n",
      "2024-05-14 13:44:00,525 - Update learning rate to 5.050000000000001e-05\r\n",
      "2024-05-14 13:44:00,525 - Start testing!\r\n",
      "2024-05-14 13:46:28,701 - Setting: ETTm2_96_24, MSE: 0.116030, MAE: 0.217383\r\n",
      "2024-05-14 13:48:54,938 - Setting: ETTm2_96_96, MSE: 0.185142, MAE: 0.272038\r\n",
      "2024-05-14 13:51:19,039 - Setting: ETTm2_96_192, MSE: 0.250985, MAE: 0.313012\r\n",
      "2024-05-14 13:53:41,646 - Setting: ETTm2_96_336, MSE: 0.312308, MAE: 0.351005\r\n",
      "2024-05-14 13:56:01,747 - Setting: ETTm2_96_720, MSE: 0.409114, MAE: 0.406354\r\n",
      "CPU times: user 1min 3s, sys: 13.2 s, total: 1min 16s\n",
      "Wall time: 1h 13min 7s\n"
     ]
    }
   ],
   "source": [
    "%%time\n",
    "!python run.py  --training_list execute_list/divided_list/ETTm2_train.csv --max_token_num 17 --lm_layer_num 8 "
   ]
  },
  {
   "cell_type": "code",
   "execution_count": 8,
   "id": "a662fb06",
   "metadata": {
    "execution": {
     "iopub.execute_input": "2024-05-14T13:56:03.112314Z",
     "iopub.status.busy": "2024-05-14T13:56:03.111870Z",
     "iopub.status.idle": "2024-05-14T14:06:35.265318Z",
     "shell.execute_reply": "2024-05-14T14:06:35.264016Z"
    },
    "papermill": {
     "duration": 632.180861,
     "end_time": "2024-05-14T14:06:35.267603",
     "exception": false,
     "start_time": "2024-05-14T13:56:03.086742",
     "status": "completed"
    },
    "tags": []
   },
   "outputs": [
    {
     "name": "stdout",
     "output_type": "stream",
     "text": [
      "Log directory: checkpoint_gpt2-small_full_divided_list_instruct_8_2_0.5_96\r\n",
      "2024-05-14 13:56:09,141 - Namespace(gpu=0, training_list='execute_list/divided_list/exchange_rate_train.csv', inference_list='execute_list/inference_all.csv', eval_model_path='', is_training=1, seed=2036, target='OT', label_len=0, lm_pretrain_model='gpt2-small', lm_ft_type='full', instruct_path='data_configs/instruct.json', zero_shot_instruct='', mask_rate=0.5, patch_len=16, max_token_num=17, max_backcast_len=96, max_forecast_len=720, lm_layer_num=8, dec_trans_layer_num=2, ts_embed_dropout=0.3, dec_head_dropout=0.1, num_workers=10, train_epochs=10, patience=10, learning_rate=0.0001, weight_decay=0, clip=5, checkpoint='checkpoint_gpt2-small_full_divided_list_instruct_8_2_0.5_96')\r\n",
      "2024-05-14 13:56:10,613 - Trainable Params: 96088320, All Params: 96088320, Percent: 1.0\r\n",
      "2024-05-14 13:56:10,614 - Trainable Params: 122717232, All Params: 122717232, Percent: 1.0\r\n",
      "2024-05-14 13:56:10,617 - ***** Task: exchange_M_96_720_0.5_16_24 *****\r\n",
      "2024-05-14 13:56:10,638 - Mode: train, Sample Num: 4496, Batch Num: 187\r\n",
      "2024-05-14 13:56:10,639 - ***** Task: exchange_M_96_720_0.5_16_24 *****\r\n",
      "2024-05-14 13:56:10,656 - Mode: val, Sample Num: 41, Batch Num: 1\r\n",
      "2024-05-14 13:56:10,657 - ***** Task: exchange_M_96_24_0.5_16_24 *****\r\n",
      "2024-05-14 13:56:10,675 - Mode: test, Sample Num: 1494, Batch Num: 1494\r\n",
      "2024-05-14 13:56:10,676 - ***** Task: exchange_M_96_96_0.5_16_24 *****\r\n",
      "2024-05-14 13:56:10,694 - Mode: test, Sample Num: 1422, Batch Num: 1422\r\n",
      "2024-05-14 13:56:10,695 - ***** Task: exchange_M_96_192_0.5_16_24 *****\r\n",
      "2024-05-14 13:56:10,712 - Mode: test, Sample Num: 1326, Batch Num: 1326\r\n",
      "2024-05-14 13:56:10,713 - ***** Task: exchange_M_96_336_0.5_16_24 *****\r\n",
      "2024-05-14 13:56:10,731 - Mode: test, Sample Num: 1182, Batch Num: 1182\r\n",
      "2024-05-14 13:56:10,732 - ***** Task: exchange_M_96_720_0.5_16_24 *****\r\n",
      "2024-05-14 13:56:10,750 - Mode: test, Sample Num: 798, Batch Num: 798\r\n",
      "2024-05-14 13:56:10,750 - Start training!\r\n",
      "2024-05-14 13:57:03,836 - Epoch: 1, Train Time: 52.864041, Train Loss: 0.750976\r\n",
      "2024-05-14 13:57:04,281 - Epoch: 1, Valid Time: 0.444521, Valid Loss: 1.279867, Valid Loss Improve: 0.744027\r\n",
      "2024-05-14 13:57:05,550 - Saving best model!\r\n",
      "2024-05-14 13:57:05,550 - Update learning rate to 9.939057285945933e-05\r\n",
      "2024-05-14 13:57:57,891 - Epoch: 2, Train Time: 52.011014, Train Loss: 0.740378\r\n",
      "2024-05-14 13:57:58,374 - Epoch: 2, Valid Time: 0.482039, Valid Loss: 1.132527, Valid Loss Improve: 0.115121\r\n",
      "2024-05-14 13:57:59,566 - Saving best model!\r\n",
      "2024-05-14 13:57:59,567 - Update learning rate to 9.757729755661012e-05\r\n",
      "2024-05-14 13:58:51,879 - Epoch: 3, Train Time: 51.976507, Train Loss: 0.735786\r\n",
      "2024-05-14 13:58:52,295 - Epoch: 3, Valid Time: 0.415832, Valid Loss: 1.104870, Valid Loss Improve: 0.024420\r\n",
      "2024-05-14 13:58:53,472 - Saving best model!\r\n",
      "2024-05-14 13:58:53,473 - Update learning rate to 9.460482294732422e-05\r\n",
      "2024-05-14 13:59:45,827 - Epoch: 4, Train Time: 52.013336, Train Loss: 0.731750\r\n",
      "2024-05-14 13:59:46,249 - Epoch: 4, Valid Time: 0.421201, Valid Loss: 1.111156, Valid Loss Improve: -0.005689\r\n",
      "2024-05-14 13:59:47,509 - Update learning rate to 9.054634122155992e-05\r\n",
      "2024-05-14 14:00:39,839 - Epoch: 5, Train Time: 51.993711, Train Loss: 0.729995\r\n",
      "2024-05-14 14:00:40,245 - Epoch: 5, Valid Time: 0.405546, Valid Loss: 1.277212, Valid Loss Improve: -0.155984\r\n",
      "2024-05-14 14:00:41,433 - Update learning rate to 8.550178566873411e-05\r\n",
      "2024-05-14 14:01:33,705 - Epoch: 6, Train Time: 51.940556, Train Loss: 0.727716\r\n",
      "2024-05-14 14:01:34,140 - Epoch: 6, Valid Time: 0.434447, Valid Loss: 1.160875, Valid Loss Improve: -0.050689\r\n",
      "2024-05-14 14:01:35,291 - Update learning rate to 7.959536998847744e-05\r\n",
      "2024-05-14 14:02:27,591 - Epoch: 7, Train Time: 51.965375, Train Loss: 0.723711\r\n",
      "2024-05-14 14:02:28,016 - Epoch: 7, Valid Time: 0.424555, Valid Loss: 1.082852, Valid Loss Improve: 0.019928\r\n",
      "2024-05-14 14:02:29,225 - Saving best model!\r\n",
      "2024-05-14 14:02:29,225 - Update learning rate to 7.297252973710758e-05\r\n",
      "2024-05-14 14:03:21,527 - Epoch: 8, Train Time: 51.965065, Train Loss: 0.720648\r\n",
      "2024-05-14 14:03:21,941 - Epoch: 8, Valid Time: 0.413641, Valid Loss: 0.977411, Valid Loss Improve: 0.097374\r\n",
      "2024-05-14 14:03:23,223 - Saving best model!\r\n",
      "2024-05-14 14:03:23,224 - Update learning rate to 6.579634122155991e-05\r\n",
      "2024-05-14 14:04:15,501 - Epoch: 9, Train Time: 51.953810, Train Loss: 0.717685\r\n",
      "2024-05-14 14:04:15,920 - Epoch: 9, Valid Time: 0.417641, Valid Loss: 1.049247, Valid Loss Improve: -0.073496\r\n",
      "2024-05-14 14:04:17,142 - Update learning rate to 5.824350601949144e-05\r\n",
      "2024-05-14 14:05:09,446 - Epoch: 10, Train Time: 51.966367, Train Loss: 0.712027\r\n",
      "2024-05-14 14:05:09,863 - Epoch: 10, Valid Time: 0.416182, Valid Loss: 0.947606, Valid Loss Improve: 0.030493\r\n",
      "2024-05-14 14:05:11,054 - Saving best model!\r\n",
      "2024-05-14 14:05:11,054 - Update learning rate to 5.050000000000001e-05\r\n",
      "2024-05-14 14:05:11,054 - Start testing!\r\n",
      "2024-05-14 14:05:31,091 - Setting: exchange_96_24, MSE: 0.028502, MAE: 0.116304\r\n",
      "2024-05-14 14:05:49,930 - Setting: exchange_96_96, MSE: 0.089546, MAE: 0.209147\r\n",
      "2024-05-14 14:06:07,444 - Setting: exchange_96_192, MSE: 0.183085, MAE: 0.303309\r\n",
      "2024-05-14 14:06:23,232 - Setting: exchange_96_336, MSE: 0.327921, MAE: 0.414145\r\n",
      "2024-05-14 14:06:34,000 - Setting: exchange_96_720, MSE: 0.887638, MAE: 0.708486\r\n",
      "CPU times: user 10.1 s, sys: 2.04 s, total: 12.2 s\n",
      "Wall time: 10min 32s\n"
     ]
    }
   ],
   "source": [
    "%%time\n",
    "!python run.py  --training_list execute_list/divided_list/exchange_rate_train.csv --max_token_num 17 --lm_layer_num 8 "
   ]
  },
  {
   "cell_type": "code",
   "execution_count": 9,
   "id": "6c6aa2fa",
   "metadata": {
    "execution": {
     "iopub.execute_input": "2024-05-14T14:06:35.323831Z",
     "iopub.status.busy": "2024-05-14T14:06:35.323440Z",
     "iopub.status.idle": "2024-05-14T14:08:14.913702Z",
     "shell.execute_reply": "2024-05-14T14:08:14.912283Z"
    },
    "papermill": {
     "duration": 99.622037,
     "end_time": "2024-05-14T14:08:14.916485",
     "exception": false,
     "start_time": "2024-05-14T14:06:35.294448",
     "status": "completed"
    },
    "tags": []
   },
   "outputs": [
    {
     "name": "stdout",
     "output_type": "stream",
     "text": [
      "Log directory: checkpoint_gpt2-small_full_divided_list_instruct_8_2_0.5_96\r\n",
      "2024-05-14 14:06:41,212 - Namespace(gpu=0, training_list='execute_list/divided_list/illness.csv', inference_list='execute_list/inference_all.csv', eval_model_path='', is_training=1, seed=2036, target='OT', label_len=0, lm_pretrain_model='gpt2-small', lm_ft_type='full', instruct_path='data_configs/instruct.json', zero_shot_instruct='', mask_rate=0.5, patch_len=16, max_token_num=17, max_backcast_len=96, max_forecast_len=720, lm_layer_num=8, dec_trans_layer_num=2, ts_embed_dropout=0.3, dec_head_dropout=0.1, num_workers=10, train_epochs=10, patience=10, learning_rate=0.0001, weight_decay=0, clip=5, checkpoint='checkpoint_gpt2-small_full_divided_list_instruct_8_2_0.5_96')\r\n",
      "2024-05-14 14:06:42,658 - Trainable Params: 96088320, All Params: 96088320, Percent: 1.0\r\n",
      "2024-05-14 14:06:42,659 - Trainable Params: 122717232, All Params: 122717232, Percent: 1.0\r\n",
      "2024-05-14 14:06:42,663 - ***** Task: illness_M_36_60_0.5_4_16 *****\r\n",
      "2024-05-14 14:06:42,669 - Mode: train, Sample Num: 581, Batch Num: 36\r\n",
      "2024-05-14 14:06:42,670 - ***** Task: illness_M_36_60_0.5_4_16 *****\r\n",
      "2024-05-14 14:06:42,675 - Mode: val, Sample Num: 38, Batch Num: 2\r\n",
      "2024-05-14 14:06:42,676 - ***** Task: illness_M_36_24_0.5_4_16 *****\r\n",
      "2024-05-14 14:06:42,681 - Mode: test, Sample Num: 170, Batch Num: 170\r\n",
      "2024-05-14 14:06:42,682 - ***** Task: illness_M_36_36_0.5_4_16 *****\r\n",
      "2024-05-14 14:06:42,687 - Mode: test, Sample Num: 158, Batch Num: 158\r\n",
      "2024-05-14 14:06:42,688 - ***** Task: illness_M_36_48_0.5_4_16 *****\r\n",
      "2024-05-14 14:06:42,694 - Mode: test, Sample Num: 146, Batch Num: 146\r\n",
      "2024-05-14 14:06:42,695 - ***** Task: illness_M_36_60_0.5_4_16 *****\r\n",
      "2024-05-14 14:06:42,700 - Mode: test, Sample Num: 134, Batch Num: 134\r\n",
      "2024-05-14 14:06:42,701 - Start training!\r\n",
      "2024-05-14 14:06:49,887 - Epoch: 1, Train Time: 6.961399, Train Loss: 0.854100\r\n",
      "2024-05-14 14:06:50,295 - Epoch: 1, Valid Time: 0.407733, Valid Loss: 0.480499, Valid Loss Improve: 0.903900\r\n",
      "2024-05-14 14:06:51,565 - Saving best model!\r\n",
      "2024-05-14 14:06:51,565 - Update learning rate to 9.939057285945933e-05\r\n",
      "2024-05-14 14:06:58,029 - Epoch: 2, Train Time: 6.042361, Train Loss: 0.623583\r\n",
      "2024-05-14 14:06:58,442 - Epoch: 2, Valid Time: 0.411528, Valid Loss: 0.406852, Valid Loss Improve: 0.153273\r\n",
      "2024-05-14 14:06:59,663 - Saving best model!\r\n",
      "2024-05-14 14:06:59,663 - Update learning rate to 9.757729755661012e-05\r\n",
      "2024-05-14 14:07:06,041 - Epoch: 3, Train Time: 6.046972, Train Loss: 0.594942\r\n",
      "2024-05-14 14:07:06,465 - Epoch: 3, Valid Time: 0.423350, Valid Loss: 0.335707, Valid Loss Improve: 0.174867\r\n",
      "2024-05-14 14:07:07,672 - Saving best model!\r\n",
      "2024-05-14 14:07:07,672 - Update learning rate to 9.460482294732422e-05\r\n",
      "2024-05-14 14:07:14,053 - Epoch: 4, Train Time: 6.043761, Train Loss: 0.549521\r\n",
      "2024-05-14 14:07:14,465 - Epoch: 4, Valid Time: 0.411448, Valid Loss: 0.306486, Valid Loss Improve: 0.087042\r\n",
      "2024-05-14 14:07:15,668 - Saving best model!\r\n",
      "2024-05-14 14:07:15,668 - Update learning rate to 9.054634122155992e-05\r\n",
      "2024-05-14 14:07:22,035 - Epoch: 5, Train Time: 6.044590, Train Loss: 0.532830\r\n",
      "2024-05-14 14:07:22,546 - Epoch: 5, Valid Time: 0.510799, Valid Loss: 0.312233, Valid Loss Improve: -0.018751\r\n",
      "2024-05-14 14:07:23,724 - Update learning rate to 8.550178566873411e-05\r\n",
      "2024-05-14 14:07:30,133 - Epoch: 6, Train Time: 6.049875, Train Loss: 0.515340\r\n",
      "2024-05-14 14:07:30,566 - Epoch: 6, Valid Time: 0.431531, Valid Loss: 0.298427, Valid Loss Improve: 0.026296\r\n",
      "2024-05-14 14:07:31,783 - Saving best model!\r\n",
      "2024-05-14 14:07:31,783 - Update learning rate to 7.959536998847744e-05\r\n",
      "2024-05-14 14:07:38,158 - Epoch: 7, Train Time: 6.047670, Train Loss: 0.506196\r\n",
      "2024-05-14 14:07:38,603 - Epoch: 7, Valid Time: 0.443947, Valid Loss: 0.298859, Valid Loss Improve: -0.001450\r\n",
      "2024-05-14 14:07:39,772 - Update learning rate to 7.297252973710758e-05\r\n",
      "2024-05-14 14:07:46,154 - Epoch: 8, Train Time: 6.042226, Train Loss: 0.493201\r\n",
      "2024-05-14 14:07:46,581 - Epoch: 8, Valid Time: 0.426014, Valid Loss: 0.330045, Valid Loss Improve: -0.105949\r\n",
      "2024-05-14 14:07:47,785 - Update learning rate to 6.579634122155991e-05\r\n",
      "2024-05-14 14:07:54,162 - Epoch: 9, Train Time: 6.052694, Train Loss: 0.476548\r\n",
      "2024-05-14 14:07:54,670 - Epoch: 9, Valid Time: 0.507597, Valid Loss: 0.321219, Valid Loss Improve: -0.076374\r\n",
      "2024-05-14 14:07:55,879 - Update learning rate to 5.824350601949144e-05\r\n",
      "2024-05-14 14:08:02,265 - Epoch: 10, Train Time: 6.053004, Train Loss: 0.479147\r\n",
      "2024-05-14 14:08:02,690 - Epoch: 10, Valid Time: 0.424056, Valid Loss: 0.312571, Valid Loss Improve: -0.047397\r\n",
      "2024-05-14 14:08:03,888 - Update learning rate to 5.050000000000001e-05\r\n",
      "2024-05-14 14:08:03,889 - Start testing!\r\n",
      "2024-05-14 14:08:06,874 - Setting: illness_36_24, MSE: 3.006017, MAE: 1.039925\r\n",
      "2024-05-14 14:08:09,307 - Setting: illness_36_36, MSE: 2.462635, MAE: 0.980419\r\n",
      "2024-05-14 14:08:11,514 - Setting: illness_36_48, MSE: 2.359516, MAE: 0.971204\r\n",
      "2024-05-14 14:08:13,618 - Setting: illness_36_60, MSE: 2.230049, MAE: 0.977504\r\n",
      "CPU times: user 1.64 s, sys: 358 ms, total: 2 s\n",
      "Wall time: 1min 39s\n"
     ]
    }
   ],
   "source": [
    "%%time\n",
    "!python run.py  --training_list execute_list/divided_list/illness.csv --max_token_num 17 --lm_layer_num 8 "
   ]
  },
  {
   "cell_type": "code",
   "execution_count": 10,
   "id": "8a124927",
   "metadata": {
    "execution": {
     "iopub.execute_input": "2024-05-14T14:08:15.050735Z",
     "iopub.status.busy": "2024-05-14T14:08:15.049796Z",
     "iopub.status.idle": "2024-05-14T16:24:27.264401Z",
     "shell.execute_reply": "2024-05-14T16:24:27.263171Z"
    },
    "papermill": {
     "duration": 8172.318664,
     "end_time": "2024-05-14T16:24:27.266886",
     "exception": false,
     "start_time": "2024-05-14T14:08:14.948222",
     "status": "completed"
    },
    "tags": []
   },
   "outputs": [
    {
     "name": "stdout",
     "output_type": "stream",
     "text": [
      "Log directory: checkpoint_gpt2-small_full_divided_list_instruct_5_2_0.5_96\r\n",
      "2024-05-14 14:08:20,974 - Namespace(gpu=0, training_list='execute_list/divided_list/weather_train.csv', inference_list='execute_list/inference_all.csv', eval_model_path='', is_training=1, seed=2036, target='OT', label_len=0, lm_pretrain_model='gpt2-small', lm_ft_type='full', instruct_path='data_configs/instruct.json', zero_shot_instruct='', mask_rate=0.5, patch_len=16, max_token_num=17, max_backcast_len=96, max_forecast_len=720, lm_layer_num=5, dec_trans_layer_num=2, ts_embed_dropout=0.3, dec_head_dropout=0.1, num_workers=10, train_epochs=10, patience=10, learning_rate=0.0001, weight_decay=0, clip=5, checkpoint='checkpoint_gpt2-small_full_divided_list_instruct_5_2_0.5_96')\r\n",
      "2024-05-14 14:08:22,403 - Trainable Params: 74824704, All Params: 74824704, Percent: 1.0\r\n",
      "2024-05-14 14:08:22,403 - Trainable Params: 101453616, All Params: 101453616, Percent: 1.0\r\n",
      "2024-05-14 14:08:22,407 - ***** Task: weather_M_96_720_0.5_16_64 *****\r\n",
      "2024-05-14 14:08:22,609 - Mode: train, Sample Num: 36072, Batch Num: 563\r\n",
      "2024-05-14 14:08:22,610 - ***** Task: weather_M_96_720_0.5_16_64 *****\r\n",
      "2024-05-14 14:08:22,801 - Mode: val, Sample Num: 4551, Batch Num: 71\r\n",
      "2024-05-14 14:08:22,802 - ***** Task: weather_M_96_24_0.5_16_64 *****\r\n",
      "2024-05-14 14:08:22,991 - Mode: test, Sample Num: 10516, Batch Num: 10516\r\n",
      "2024-05-14 14:08:22,992 - ***** Task: weather_M_96_96_0.5_16_64 *****\r\n",
      "2024-05-14 14:08:23,183 - Mode: test, Sample Num: 10444, Batch Num: 10444\r\n",
      "2024-05-14 14:08:23,185 - ***** Task: weather_M_96_192_0.5_16_64 *****\r\n",
      "2024-05-14 14:08:23,375 - Mode: test, Sample Num: 10348, Batch Num: 10348\r\n",
      "2024-05-14 14:08:23,376 - ***** Task: weather_M_96_336_0.5_16_64 *****\r\n",
      "2024-05-14 14:08:23,563 - Mode: test, Sample Num: 10204, Batch Num: 10204\r\n",
      "2024-05-14 14:08:23,564 - ***** Task: weather_M_96_720_0.5_16_64 *****\r\n",
      "2024-05-14 14:08:23,751 - Mode: test, Sample Num: 9820, Batch Num: 9820\r\n",
      "2024-05-14 14:08:23,751 - Start training!\r\n",
      "2024-05-14 14:20:24,575 - Epoch: 1, Train Time: 720.529612, Train Loss: 0.708700\r\n",
      "2024-05-14 14:20:55,705 - Epoch: 1, Valid Time: 31.129808, Valid Loss: 0.755354, Valid Loss Improve: 0.848929\r\n",
      "2024-05-14 14:20:56,414 - Saving best model!\r\n",
      "2024-05-14 14:20:56,415 - Update learning rate to 9.939057285945933e-05\r\n",
      "2024-05-14 14:32:55,612 - Epoch: 2, Train Time: 718.782237, Train Loss: 0.666053\r\n",
      "2024-05-14 14:33:26,756 - Epoch: 2, Valid Time: 31.143253, Valid Loss: 0.740352, Valid Loss Improve: 0.019861\r\n",
      "2024-05-14 14:33:27,739 - Saving best model!\r\n",
      "2024-05-14 14:33:27,740 - Update learning rate to 9.757729755661012e-05\r\n",
      "2024-05-14 14:45:27,023 - Epoch: 3, Train Time: 718.868689, Train Loss: 0.654889\r\n",
      "2024-05-14 14:45:58,118 - Epoch: 3, Valid Time: 31.095037, Valid Loss: 0.745545, Valid Loss Improve: -0.007014\r\n",
      "2024-05-14 14:45:58,904 - Update learning rate to 9.460482294732422e-05\r\n",
      "2024-05-14 14:57:57,600 - Epoch: 4, Train Time: 718.261270, Train Loss: 0.648145\r\n",
      "2024-05-14 14:58:28,669 - Epoch: 4, Valid Time: 31.067853, Valid Loss: 0.731802, Valid Loss Improve: 0.011549\r\n",
      "2024-05-14 14:58:29,832 - Saving best model!\r\n",
      "2024-05-14 14:58:29,832 - Update learning rate to 9.054634122155992e-05\r\n",
      "2024-05-14 15:10:28,591 - Epoch: 5, Train Time: 718.324067, Train Loss: 0.642741\r\n",
      "2024-05-14 15:10:59,709 - Epoch: 5, Valid Time: 31.116796, Valid Loss: 0.736947, Valid Loss Improve: -0.007031\r\n",
      "2024-05-14 15:11:00,425 - Update learning rate to 8.550178566873411e-05\r\n",
      "2024-05-14 15:22:59,483 - Epoch: 6, Train Time: 718.633286, Train Loss: 0.637905\r\n",
      "2024-05-14 15:23:30,574 - Epoch: 6, Valid Time: 31.090062, Valid Loss: 0.731380, Valid Loss Improve: 0.000577\r\n",
      "2024-05-14 15:23:31,654 - Saving best model!\r\n",
      "2024-05-14 15:23:31,655 - Update learning rate to 7.959536998847744e-05\r\n",
      "2024-05-14 15:35:30,731 - Epoch: 7, Train Time: 718.657350, Train Loss: 0.632281\r\n",
      "2024-05-14 15:36:01,902 - Epoch: 7, Valid Time: 31.169949, Valid Loss: 0.722469, Valid Loss Improve: 0.012183\r\n",
      "2024-05-14 15:36:03,036 - Saving best model!\r\n",
      "2024-05-14 15:36:03,037 - Update learning rate to 7.297252973710758e-05\r\n",
      "2024-05-14 15:48:02,110 - Epoch: 8, Train Time: 718.633508, Train Loss: 0.630679\r\n",
      "2024-05-14 15:48:33,245 - Epoch: 8, Valid Time: 31.134479, Valid Loss: 0.717989, Valid Loss Improve: 0.006202\r\n",
      "2024-05-14 15:48:34,283 - Saving best model!\r\n",
      "2024-05-14 15:48:34,283 - Update learning rate to 6.579634122155991e-05\r\n",
      "2024-05-14 16:00:33,135 - Epoch: 9, Train Time: 718.442652, Train Loss: 0.626142\r\n",
      "2024-05-14 16:01:04,262 - Epoch: 9, Valid Time: 31.126817, Valid Loss: 0.720088, Valid Loss Improve: -0.002924\r\n",
      "2024-05-14 16:01:04,986 - Update learning rate to 5.824350601949144e-05\r\n",
      "2024-05-14 16:13:03,786 - Epoch: 10, Train Time: 718.398144, Train Loss: 0.627914\r\n",
      "2024-05-14 16:13:34,930 - Epoch: 10, Valid Time: 31.143684, Valid Loss: 0.723933, Valid Loss Improve: -0.008278\r\n",
      "2024-05-14 16:13:35,633 - Update learning rate to 5.050000000000001e-05\r\n",
      "2024-05-14 16:13:35,633 - Start testing!\r\n",
      "2024-05-14 16:15:47,035 - Setting: weather_96_24, MSE: 0.112440, MAE: 0.150189\r\n",
      "2024-05-14 16:17:58,596 - Setting: weather_96_96, MSE: 0.181121, MAE: 0.222952\r\n",
      "2024-05-14 16:20:09,100 - Setting: weather_96_192, MSE: 0.227053, MAE: 0.261174\r\n",
      "2024-05-14 16:22:18,377 - Setting: weather_96_336, MSE: 0.280823, MAE: 0.299338\r\n",
      "2024-05-14 16:24:25,864 - Setting: weather_96_720, MSE: 0.355291, MAE: 0.347367\r\n",
      "CPU times: user 2min 13s, sys: 27.5 s, total: 2min 40s\n",
      "Wall time: 2h 16min 12s\n"
     ]
    }
   ],
   "source": [
    "%%time\n",
    "!python run.py  --training_list execute_list/divided_list/weather_train.csv --max_token_num 17 --lm_layer_num 5 "
   ]
  },
  {
   "cell_type": "code",
   "execution_count": 11,
   "id": "93e63e30",
   "metadata": {
    "execution": {
     "iopub.execute_input": "2024-05-14T16:24:27.339777Z",
     "iopub.status.busy": "2024-05-14T16:24:27.339376Z",
     "iopub.status.idle": "2024-05-14T16:26:48.105212Z",
     "shell.execute_reply": "2024-05-14T16:26:48.103756Z"
    },
    "papermill": {
     "duration": 140.806322,
     "end_time": "2024-05-14T16:26:48.107447",
     "exception": false,
     "start_time": "2024-05-14T16:24:27.301125",
     "status": "completed"
    },
    "tags": []
   },
   "outputs": [
    {
     "name": "stdout",
     "output_type": "stream",
     "text": [
      "Log directory: checkpoint_gpt2-small_full_divided_list_instruct_8_2_0.5_96\r\n",
      "2024-05-14 16:24:33,382 - Namespace(gpu=0, training_list='execute_list/divided_list/de_small_train.csv', inference_list='execute_list/inference_all.csv', eval_model_path='', is_training=1, seed=2036, target='OT', label_len=0, lm_pretrain_model='gpt2-small', lm_ft_type='full', instruct_path='data_configs/instruct.json', zero_shot_instruct='', mask_rate=0.5, patch_len=16, max_token_num=30, max_backcast_len=96, max_forecast_len=720, lm_layer_num=8, dec_trans_layer_num=2, ts_embed_dropout=0.3, dec_head_dropout=0.1, num_workers=10, train_epochs=10, patience=10, learning_rate=0.0001, weight_decay=0, clip=5, checkpoint='checkpoint_gpt2-small_full_divided_list_instruct_8_2_0.5_96')\r\n",
      "2024-05-14 16:24:34,930 - Trainable Params: 96088320, All Params: 96088320, Percent: 1.0\r\n",
      "2024-05-14 16:24:34,931 - Trainable Params: 130864176, All Params: 130864176, Percent: 1.0\r\n",
      "2024-05-14 16:24:34,935 - ***** Task: de_small_M_36_60_0.5_4_16 *****\r\n",
      "2024-05-14 16:24:34,941 - Mode: train, Sample Num: 581, Batch Num: 36\r\n",
      "2024-05-14 16:24:34,942 - ***** Task: de_small_M_36_60_0.5_4_16 *****\r\n",
      "2024-05-14 16:24:34,947 - Mode: val, Sample Num: 38, Batch Num: 2\r\n",
      "2024-05-14 16:24:34,948 - ***** Task: de_small_M_36_24_0.5_4_16 *****\r\n",
      "2024-05-14 16:24:34,953 - Mode: test, Sample Num: 170, Batch Num: 170\r\n",
      "2024-05-14 16:24:34,954 - ***** Task: de_small_M_36_36_0.5_4_16 *****\r\n",
      "2024-05-14 16:24:34,959 - Mode: test, Sample Num: 158, Batch Num: 158\r\n",
      "2024-05-14 16:24:34,960 - ***** Task: de_small_M_36_48_0.5_4_16 *****\r\n",
      "2024-05-14 16:24:34,966 - Mode: test, Sample Num: 146, Batch Num: 146\r\n",
      "2024-05-14 16:24:34,967 - ***** Task: de_small_M_36_60_0.5_4_16 *****\r\n",
      "2024-05-14 16:24:34,972 - Mode: test, Sample Num: 134, Batch Num: 134\r\n",
      "2024-05-14 16:24:34,972 - Start training!\r\n",
      "2024-05-14 16:24:45,986 - Epoch: 1, Train Time: 10.786500, Train Loss: 1.215535\r\n",
      "2024-05-14 16:24:46,487 - Epoch: 1, Valid Time: 0.500206, Valid Loss: 0.168694, Valid Loss Improve: 0.966261\r\n",
      "2024-05-14 16:24:47,768 - Saving best model!\r\n",
      "2024-05-14 16:24:47,768 - Update learning rate to 9.939057285945933e-05\r\n",
      "2024-05-14 16:24:58,015 - Epoch: 2, Train Time: 9.926197, Train Loss: 0.733963\r\n",
      "2024-05-14 16:24:58,529 - Epoch: 2, Valid Time: 0.512534, Valid Loss: 0.112191, Valid Loss Improve: 0.334940\r\n",
      "2024-05-14 16:24:59,828 - Saving best model!\r\n",
      "2024-05-14 16:24:59,829 - Update learning rate to 9.757729755661012e-05\r\n",
      "2024-05-14 16:25:10,121 - Epoch: 3, Train Time: 9.944288, Train Loss: 0.658199\r\n",
      "2024-05-14 16:25:10,620 - Epoch: 3, Valid Time: 0.498227, Valid Loss: 0.339401, Valid Loss Improve: -2.025194\r\n",
      "2024-05-14 16:25:11,949 - Update learning rate to 9.460482294732422e-05\r\n",
      "2024-05-14 16:25:22,331 - Epoch: 4, Train Time: 9.935524, Train Loss: 0.618693\r\n",
      "2024-05-14 16:25:22,831 - Epoch: 4, Valid Time: 0.499589, Valid Loss: 0.281258, Valid Loss Improve: -1.506951\r\n",
      "2024-05-14 16:25:24,149 - Update learning rate to 9.054634122155992e-05\r\n",
      "2024-05-14 16:25:34,406 - Epoch: 5, Train Time: 9.934163, Train Loss: 0.593923\r\n",
      "2024-05-14 16:25:34,920 - Epoch: 5, Valid Time: 0.513265, Valid Loss: 0.267218, Valid Loss Improve: -1.381800\r\n",
      "2024-05-14 16:25:36,209 - Update learning rate to 8.550178566873411e-05\r\n",
      "2024-05-14 16:25:46,486 - Epoch: 6, Train Time: 9.930182, Train Loss: 0.581957\r\n",
      "2024-05-14 16:25:46,986 - Epoch: 6, Valid Time: 0.499627, Valid Loss: 0.192649, Valid Loss Improve: -0.717148\r\n",
      "2024-05-14 16:25:48,249 - Update learning rate to 7.959536998847744e-05\r\n",
      "2024-05-14 16:25:58,514 - Epoch: 7, Train Time: 9.930112, Train Loss: 0.550872\r\n",
      "2024-05-14 16:25:59,011 - Epoch: 7, Valid Time: 0.496559, Valid Loss: 0.188201, Valid Loss Improve: -0.677499\r\n",
      "2024-05-14 16:26:00,291 - Update learning rate to 7.297252973710758e-05\r\n",
      "2024-05-14 16:26:10,563 - Epoch: 8, Train Time: 9.933698, Train Loss: 0.569171\r\n",
      "2024-05-14 16:26:11,078 - Epoch: 8, Valid Time: 0.514184, Valid Loss: 0.094694, Valid Loss Improve: 0.155956\r\n",
      "2024-05-14 16:26:12,360 - Saving best model!\r\n",
      "2024-05-14 16:26:12,360 - Update learning rate to 6.579634122155991e-05\r\n",
      "2024-05-14 16:26:22,644 - Epoch: 9, Train Time: 9.939511, Train Loss: 0.534999\r\n",
      "2024-05-14 16:26:23,156 - Epoch: 9, Valid Time: 0.511335, Valid Loss: 0.391826, Valid Loss Improve: -3.137794\r\n",
      "2024-05-14 16:26:24,469 - Update learning rate to 5.824350601949144e-05\r\n",
      "2024-05-14 16:26:34,721 - Epoch: 10, Train Time: 9.927571, Train Loss: 0.522858\r\n",
      "2024-05-14 16:26:35,226 - Epoch: 10, Valid Time: 0.504465, Valid Loss: 0.139374, Valid Loss Improve: -0.471824\r\n",
      "2024-05-14 16:26:36,480 - Update learning rate to 5.050000000000001e-05\r\n",
      "2024-05-14 16:26:36,480 - Start testing!\r\n",
      "2024-05-14 16:26:39,541 - Setting: de_small_36_24, MSE: 0.401295, MAE: 0.444455\r\n",
      "2024-05-14 16:26:42,101 - Setting: de_small_36_36, MSE: 0.425008, MAE: 0.468730\r\n",
      "2024-05-14 16:26:44,517 - Setting: de_small_36_48, MSE: 0.388763, MAE: 0.452707\r\n",
      "2024-05-14 16:26:46,775 - Setting: de_small_36_60, MSE: 0.392797, MAE: 0.463713\r\n",
      "CPU times: user 2.38 s, sys: 509 ms, total: 2.89 s\n",
      "Wall time: 2min 20s\n"
     ]
    }
   ],
   "source": [
    "%%time\n",
    "!python run.py  --training_list execute_list/divided_list/de_small_train.csv --max_token_num 30 --lm_layer_num 8 "
   ]
  },
  {
   "cell_type": "code",
   "execution_count": 12,
   "id": "5ecbaca8",
   "metadata": {
    "execution": {
     "iopub.execute_input": "2024-05-14T16:26:48.184513Z",
     "iopub.status.busy": "2024-05-14T16:26:48.183772Z",
     "iopub.status.idle": "2024-05-14T16:52:52.784380Z",
     "shell.execute_reply": "2024-05-14T16:52:52.783080Z"
    },
    "papermill": {
     "duration": 1564.6419,
     "end_time": "2024-05-14T16:52:52.786741",
     "exception": false,
     "start_time": "2024-05-14T16:26:48.144841",
     "status": "completed"
    },
    "tags": []
   },
   "outputs": [
    {
     "name": "stdout",
     "output_type": "stream",
     "text": [
      "Log directory: checkpoint_gpt2-small_full_divided_list_instruct_8_2_0.5_96\r\n",
      "2024-05-14 16:26:54,124 - Namespace(gpu=0, training_list='execute_list/divided_list/de_big_train.csv', inference_list='execute_list/inference_all.csv', eval_model_path='', is_training=1, seed=2036, target='OT', label_len=0, lm_pretrain_model='gpt2-small', lm_ft_type='full', instruct_path='data_configs/instruct.json', zero_shot_instruct='', mask_rate=0.5, patch_len=16, max_token_num=30, max_backcast_len=96, max_forecast_len=720, lm_layer_num=8, dec_trans_layer_num=2, ts_embed_dropout=0.3, dec_head_dropout=0.1, num_workers=10, train_epochs=10, patience=10, learning_rate=0.0001, weight_decay=0, clip=5, checkpoint='checkpoint_gpt2-small_full_divided_list_instruct_8_2_0.5_96')\r\n",
      "2024-05-14 16:26:55,615 - Trainable Params: 96088320, All Params: 96088320, Percent: 1.0\r\n",
      "2024-05-14 16:26:55,616 - Trainable Params: 130864176, All Params: 130864176, Percent: 1.0\r\n",
      "2024-05-14 16:26:55,620 - ***** Task: de_big_M_96_720_0.5_16_32 *****\r\n",
      "2024-05-14 16:26:55,653 - Mode: train, Sample Num: 7825, Batch Num: 244\r\n",
      "2024-05-14 16:26:55,654 - ***** Task: de_big_M_96_720_0.5_16_32 *****\r\n",
      "2024-05-14 16:26:55,683 - Mode: val, Sample Num: 2161, Batch Num: 67\r\n",
      "2024-05-14 16:26:55,685 - ***** Task: de_big_M_96_24_0.5_16_32 *****\r\n",
      "2024-05-14 16:26:55,715 - Mode: test, Sample Num: 2857, Batch Num: 2857\r\n",
      "2024-05-14 16:26:55,717 - ***** Task: de_big_M_96_96_0.5_16_32 *****\r\n",
      "2024-05-14 16:26:55,745 - Mode: test, Sample Num: 2785, Batch Num: 2785\r\n",
      "2024-05-14 16:26:55,746 - ***** Task: de_big_M_96_192_0.5_16_32 *****\r\n",
      "2024-05-14 16:26:55,776 - Mode: test, Sample Num: 2689, Batch Num: 2689\r\n",
      "2024-05-14 16:26:55,777 - ***** Task: de_big_M_96_336_0.5_16_32 *****\r\n",
      "2024-05-14 16:26:55,805 - Mode: test, Sample Num: 2545, Batch Num: 2545\r\n",
      "2024-05-14 16:26:55,807 - ***** Task: de_big_M_96_720_0.5_16_32 *****\r\n",
      "2024-05-14 16:26:55,836 - Mode: test, Sample Num: 2161, Batch Num: 2161\r\n",
      "2024-05-14 16:26:55,837 - Start training!\r\n",
      "2024-05-14 16:29:00,675 - Epoch: 1, Train Time: 124.601583, Train Loss: 0.601615\r\n",
      "2024-05-14 16:29:12,346 - Epoch: 1, Valid Time: 11.670032, Valid Loss: 0.184161, Valid Loss Improve: 0.963168\r\n",
      "2024-05-14 16:29:13,626 - Saving best model!\r\n",
      "2024-05-14 16:29:13,626 - Update learning rate to 9.939057285945933e-05\r\n",
      "2024-05-14 16:31:17,719 - Epoch: 2, Train Time: 123.739597, Train Loss: 0.408818\r\n",
      "2024-05-14 16:31:29,415 - Epoch: 2, Valid Time: 11.695075, Valid Loss: 0.190630, Valid Loss Improve: -0.035126\r\n",
      "2024-05-14 16:31:30,714 - Update learning rate to 9.757729755661012e-05\r\n",
      "2024-05-14 16:33:34,835 - Epoch: 3, Train Time: 123.772738, Train Loss: 0.384980\r\n",
      "2024-05-14 16:33:46,549 - Epoch: 3, Valid Time: 11.713332, Valid Loss: 0.173002, Valid Loss Improve: 0.060597\r\n",
      "2024-05-14 16:33:47,858 - Saving best model!\r\n",
      "2024-05-14 16:33:47,859 - Update learning rate to 9.460482294732422e-05\r\n",
      "2024-05-14 16:35:52,012 - Epoch: 4, Train Time: 123.793685, Train Loss: 0.370042\r\n",
      "2024-05-14 16:36:03,691 - Epoch: 4, Valid Time: 11.677540, Valid Loss: 0.173257, Valid Loss Improve: -0.001478\r\n",
      "2024-05-14 16:36:05,009 - Update learning rate to 9.054634122155992e-05\r\n",
      "2024-05-14 16:38:09,141 - Epoch: 5, Train Time: 123.779257, Train Loss: 0.362093\r\n",
      "2024-05-14 16:38:20,845 - Epoch: 5, Valid Time: 11.702831, Valid Loss: 0.187428, Valid Loss Improve: -0.083386\r\n",
      "2024-05-14 16:38:22,135 - Update learning rate to 8.550178566873411e-05\r\n",
      "2024-05-14 16:40:26,284 - Epoch: 6, Train Time: 123.793061, Train Loss: 0.354682\r\n",
      "2024-05-14 16:40:37,981 - Epoch: 6, Valid Time: 11.695978, Valid Loss: 0.167693, Valid Loss Improve: 0.030688\r\n",
      "2024-05-14 16:40:39,269 - Saving best model!\r\n",
      "2024-05-14 16:40:39,270 - Update learning rate to 7.959536998847744e-05\r\n",
      "2024-05-14 16:42:43,448 - Epoch: 7, Train Time: 123.812383, Train Loss: 0.345429\r\n",
      "2024-05-14 16:42:55,146 - Epoch: 7, Valid Time: 11.697542, Valid Loss: 0.181364, Valid Loss Improve: -0.081529\r\n",
      "2024-05-14 16:42:56,447 - Update learning rate to 7.297252973710758e-05\r\n",
      "2024-05-14 16:45:00,615 - Epoch: 8, Train Time: 123.828523, Train Loss: 0.341162\r\n",
      "2024-05-14 16:45:12,353 - Epoch: 8, Valid Time: 11.736955, Valid Loss: 0.155880, Valid Loss Improve: 0.070441\r\n",
      "2024-05-14 16:45:13,666 - Saving best model!\r\n",
      "2024-05-14 16:45:13,667 - Update learning rate to 6.579634122155991e-05\r\n",
      "2024-05-14 16:47:17,861 - Epoch: 9, Train Time: 123.803451, Train Loss: 0.335515\r\n",
      "2024-05-14 16:47:29,575 - Epoch: 9, Valid Time: 11.713346, Valid Loss: 0.153134, Valid Loss Improve: 0.017615\r\n",
      "2024-05-14 16:47:30,868 - Saving best model!\r\n",
      "2024-05-14 16:47:30,869 - Update learning rate to 5.824350601949144e-05\r\n",
      "2024-05-14 16:49:35,019 - Epoch: 10, Train Time: 123.806592, Train Loss: 0.330570\r\n",
      "2024-05-14 16:49:46,707 - Epoch: 10, Valid Time: 11.687666, Valid Loss: 0.169822, Valid Loss Improve: -0.108974\r\n",
      "2024-05-14 16:49:47,986 - Update learning rate to 5.050000000000001e-05\r\n",
      "2024-05-14 16:49:47,987 - Start testing!\r\n",
      "2024-05-14 16:50:28,387 - Setting: de_big_96_24, MSE: 0.104801, MAE: 0.220122\r\n",
      "2024-05-14 16:51:07,125 - Setting: de_big_96_96, MSE: 0.160238, MAE: 0.269622\r\n",
      "2024-05-14 16:51:44,884 - Setting: de_big_96_192, MSE: 0.183426, MAE: 0.292099\r\n",
      "2024-05-14 16:52:20,495 - Setting: de_big_96_336, MSE: 0.229966, MAE: 0.328042\r\n",
      "2024-05-14 16:52:51,385 - Setting: de_big_96_720, MSE: 0.316347, MAE: 0.393556\r\n",
      "CPU times: user 25.3 s, sys: 5.27 s, total: 30.5 s\n",
      "Wall time: 26min 4s\n"
     ]
    }
   ],
   "source": [
    "%%time\n",
    "!python run.py  --training_list execute_list/divided_list/de_big_train.csv --max_token_num 30 --lm_layer_num 8 "
   ]
  }
 ],
 "metadata": {
  "kaggle": {
   "accelerator": "gpu",
   "dataSources": [],
   "dockerImageVersionId": 30699,
   "isGpuEnabled": true,
   "isInternetEnabled": true,
   "language": "python",
   "sourceType": "notebook"
  },
  "kernelspec": {
   "display_name": "Python 3",
   "language": "python",
   "name": "python3"
  },
  "language_info": {
   "codemirror_mode": {
    "name": "ipython",
    "version": 3
   },
   "file_extension": ".py",
   "mimetype": "text/x-python",
   "name": "python",
   "nbconvert_exporter": "python",
   "pygments_lexer": "ipython3",
   "version": "3.10.13"
  },
  "papermill": {
   "default_parameters": {},
   "duration": 21467.616141,
   "end_time": "2024-05-14T16:52:53.197861",
   "environment_variables": {},
   "exception": null,
   "input_path": "__notebook__.ipynb",
   "output_path": "__notebook__.ipynb",
   "parameters": {},
   "start_time": "2024-05-14T10:55:05.581720",
   "version": "2.5.0"
  }
 },
 "nbformat": 4,
 "nbformat_minor": 5
}
