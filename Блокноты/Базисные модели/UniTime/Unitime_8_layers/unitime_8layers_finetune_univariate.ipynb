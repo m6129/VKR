{
 "cells": [
  {
   "cell_type": "code",
   "execution_count": 1,
   "id": "60c12e01",
   "metadata": {
    "_cell_guid": "b1076dfc-b9ad-4769-8c92-a6c4dae69d19",
    "_uuid": "8f2839f25d086af736a60e9eeb907d3b93b6e0e5",
    "execution": {
     "iopub.execute_input": "2024-05-14T10:50:08.500301Z",
     "iopub.status.busy": "2024-05-14T10:50:08.499501Z",
     "iopub.status.idle": "2024-05-14T10:50:40.605249Z",
     "shell.execute_reply": "2024-05-14T10:50:40.603750Z"
    },
    "papermill": {
     "duration": 32.114201,
     "end_time": "2024-05-14T10:50:40.607745",
     "exception": false,
     "start_time": "2024-05-14T10:50:08.493544",
     "status": "completed"
    },
    "tags": []
   },
   "outputs": [
    {
     "name": "stdout",
     "output_type": "stream",
     "text": [
      "Cloning into 'UniTime_for_Kaggle'...\r\n",
      "remote: Enumerating objects: 195, done.\u001b[K\r\n",
      "remote: Counting objects: 100% (195/195), done.\u001b[K\r\n",
      "remote: Compressing objects: 100% (169/169), done.\u001b[K\r\n",
      "remote: Total 195 (delta 115), reused 71 (delta 23), pack-reused 0\u001b[K\r\n",
      "Receiving objects: 100% (195/195), 494.84 KiB | 11.00 MiB/s, done.\r\n",
      "Resolving deltas: 100% (115/115), done.\r\n",
      "Cloning into 'ETDataset'...\r\n",
      "remote: Enumerating objects: 187, done.\u001b[K\r\n",
      "remote: Counting objects: 100% (28/28), done.\u001b[K\r\n",
      "remote: Compressing objects: 100% (8/8), done.\u001b[K\r\n",
      "remote: Total 187 (delta 25), reused 20 (delta 20), pack-reused 159\u001b[K\r\n",
      "Receiving objects: 100% (187/187), 3.86 MiB | 17.24 MiB/s, done.\r\n",
      "Resolving deltas: 100% (62/62), done.\r\n",
      "Downloading...\r\n",
      "From: https://drive.google.com/uc?id=1nXdMIJ7K201Bx3IBGNiaNFQ6FzeDEzIr\r\n",
      "To: /kaggle/working/weather.zip\r\n",
      "100%|███████████████████████████████████████| 2.29M/2.29M [00:00<00:00, 166MB/s]\r\n",
      "Downloading...\r\n",
      "From: https://drive.google.com/uc?id=1rN79CxW3Vldp-WDuSoG0bKq9tYQR79UK\r\n",
      "To: /kaggle/working/exchange_rate.zip\r\n",
      "100%|████████████████████████████████████████| 194k/194k [00:00<00:00, 96.5MB/s]\r\n",
      "Downloading...\r\n",
      "From: https://drive.google.com/uc?id=1WMKg7KevVEEd9jrfLG8mcpOequZMbjlM\r\n",
      "To: /kaggle/working/illness.zip\r\n",
      "100%|██████████████████████████████████████| 26.0k/26.0k [00:00<00:00, 56.4MB/s]\r\n",
      "Archive:  /kaggle/working/weather.zip\r\n",
      "   creating: weather/\r\n",
      "  inflating: weather/weather.csv     \r\n",
      "Archive:  /kaggle/working/exchange_rate.zip\r\n",
      "   creating: exchange_rate/\r\n",
      "  inflating: exchange_rate/.DS_Store  \r\n",
      "  inflating: exchange_rate/exchange_rate.csv  \r\n",
      "Archive:  /kaggle/working/illness.zip\r\n",
      "   creating: illness/\r\n",
      "  inflating: illness/national_illness.csv  \r\n"
     ]
    }
   ],
   "source": [
    "!pip install gdown -q # для загрузки файлов с гугл-диска\n",
    "!git clone https://github.com/m6129/UniTime_for_Kaggle.git\n",
    "\n",
    "# подгрузка наборов данных    \n",
    "!git clone https://github.com/zhouhaoyi/ETDataset.git\n",
    "!gdown --fuzzy https://drive.google.com/file/d/1nXdMIJ7K201Bx3IBGNiaNFQ6FzeDEzIr/view?usp=drive_link\n",
    "!gdown --fuzzy https://drive.google.com/file/d/1rN79CxW3Vldp-WDuSoG0bKq9tYQR79UK/view?usp=drive_link\n",
    "!gdown --fuzzy https://drive.google.com/file/d/1WMKg7KevVEEd9jrfLG8mcpOequZMbjlM/view?usp=drive_link\n",
    "!unzip /kaggle/working/weather.zip\n",
    "!unzip /kaggle/working/exchange_rate.zip\n",
    "!unzip /kaggle/working/illness.zip\n",
    "# новые наборы данных\n",
    "!gdown --fuzzy https://drive.google.com/file/d/1-Jy7C9Dh9QJF_yWKf2hQKUia56aQXBJ0/view?usp=drive_link -q\n",
    "!gdown --fuzzy https://drive.google.com/file/d/1lPZhTcJVirbwhN6EpppcmpZzbDcBn4rx/view?usp=drive_link -q"
   ]
  },
  {
   "cell_type": "code",
   "execution_count": 2,
   "id": "b2ac0808",
   "metadata": {
    "execution": {
     "iopub.execute_input": "2024-05-14T10:50:40.622155Z",
     "iopub.status.busy": "2024-05-14T10:50:40.621323Z",
     "iopub.status.idle": "2024-05-14T10:50:40.628485Z",
     "shell.execute_reply": "2024-05-14T10:50:40.627252Z"
    },
    "papermill": {
     "duration": 0.01643,
     "end_time": "2024-05-14T10:50:40.630586",
     "exception": false,
     "start_time": "2024-05-14T10:50:40.614156",
     "status": "completed"
    },
    "tags": []
   },
   "outputs": [
    {
     "name": "stdout",
     "output_type": "stream",
     "text": [
      "/kaggle/working/UniTime_for_Kaggle\n"
     ]
    }
   ],
   "source": [
    "cd UniTime_for_Kaggle"
   ]
  },
  {
   "cell_type": "code",
   "execution_count": 3,
   "id": "2ed629e3",
   "metadata": {
    "execution": {
     "iopub.execute_input": "2024-05-14T10:50:40.643483Z",
     "iopub.status.busy": "2024-05-14T10:50:40.643140Z",
     "iopub.status.idle": "2024-05-14T10:50:46.345469Z",
     "shell.execute_reply": "2024-05-14T10:50:46.344200Z"
    },
    "papermill": {
     "duration": 5.71148,
     "end_time": "2024-05-14T10:50:46.347897",
     "exception": false,
     "start_time": "2024-05-14T10:50:40.636417",
     "status": "completed"
    },
    "tags": []
   },
   "outputs": [],
   "source": [
    "!mv /kaggle/working/ETDataset*/* /kaggle/working/UniTime_for_Kaggle/dataset\n",
    "!mv /kaggle/working/weather/ /kaggle/working/UniTime_for_Kaggle/dataset\n",
    "!mv /kaggle/working/exchange_rate/ /kaggle/working/UniTime_for_Kaggle/dataset\n",
    "!mv /kaggle/working/illness/ /kaggle/working/UniTime_for_Kaggle/dataset\n",
    "!mv /kaggle/working/de_small.csv /kaggle/working/UniTime_for_Kaggle/dataset\n",
    "!mv /kaggle/working/de_big.csv /kaggle/working/UniTime_for_Kaggle/dataset"
   ]
  },
  {
   "cell_type": "markdown",
   "id": "a7be5682",
   "metadata": {
    "papermill": {
     "duration": 0.005455,
     "end_time": "2024-05-14T10:50:46.359227",
     "exception": false,
     "start_time": "2024-05-14T10:50:46.353772",
     "status": "completed"
    },
    "tags": []
   },
   "source": [
    "**Одномерное прогнозирование**"
   ]
  },
  {
   "cell_type": "code",
   "execution_count": 4,
   "id": "40ad998f",
   "metadata": {
    "execution": {
     "iopub.execute_input": "2024-05-14T10:50:46.372356Z",
     "iopub.status.busy": "2024-05-14T10:50:46.371955Z",
     "iopub.status.idle": "2024-05-14T10:57:00.389750Z",
     "shell.execute_reply": "2024-05-14T10:57:00.388486Z"
    },
    "papermill": {
     "duration": 374.026867,
     "end_time": "2024-05-14T10:57:00.391946",
     "exception": false,
     "start_time": "2024-05-14T10:50:46.365079",
     "status": "completed"
    },
    "tags": []
   },
   "outputs": [
    {
     "name": "stdout",
     "output_type": "stream",
     "text": [
      "Log directory: checkpoint_gpt2-small_full_divided_list_instruct_8_2_0.5_96\r\n",
      "2024-05-14 10:50:55,503 - Namespace(gpu=0, training_list='execute_list/divided_list/ETTh1_train.csv', inference_list='execute_list/inference_all.csv', eval_model_path='', is_training=1, seed=2036, target='OT', label_len=0, lm_pretrain_model='gpt2-small', lm_ft_type='full', instruct_path='data_configs/instruct.json', zero_shot_instruct='', mask_rate=0.5, patch_len=16, max_token_num=17, max_backcast_len=96, max_forecast_len=720, lm_layer_num=8, dec_trans_layer_num=2, ts_embed_dropout=0.3, dec_head_dropout=0.1, num_workers=10, train_epochs=10, patience=10, learning_rate=0.0001, weight_decay=0, clip=5, checkpoint='checkpoint_gpt2-small_full_divided_list_instruct_8_2_0.5_96')\r\n",
      "tokenizer_config.json: 100%|██████████████████| 26.0/26.0 [00:00<00:00, 132kB/s]\r\n",
      "vocab.json: 100%|██████████████████████████| 1.04M/1.04M [00:00<00:00, 14.2MB/s]\r\n",
      "merges.txt: 100%|████████████████████████████| 456k/456k [00:00<00:00, 14.0MB/s]\r\n",
      "tokenizer.json: 100%|██████████████████████| 1.36M/1.36M [00:00<00:00, 31.4MB/s]\r\n",
      "config.json: 100%|█████████████████████████████| 665/665 [00:00<00:00, 5.09MB/s]\r\n",
      "model.safetensors: 100%|██████████████████████| 548M/548M [00:02<00:00, 212MB/s]\r\n",
      "generation_config.json: 100%|███████████████████| 124/124 [00:00<00:00, 947kB/s]\r\n",
      "2024-05-14 10:51:00,350 - Trainable Params: 96088320, All Params: 96088320, Percent: 1.0\r\n",
      "2024-05-14 10:51:00,351 - Trainable Params: 122717232, All Params: 122717232, Percent: 1.0\r\n",
      "2024-05-14 10:51:00,361 - ***** Task: ETTh1_S_96_720_0.5_16_32 *****\r\n",
      "2024-05-14 10:51:00,411 - Mode: train, Sample Num: 7825, Batch Num: 244\r\n",
      "2024-05-14 10:51:00,412 - ***** Task: ETTh1_S_96_720_0.5_16_32 *****\r\n",
      "2024-05-14 10:51:00,452 - Mode: val, Sample Num: 2161, Batch Num: 67\r\n",
      "2024-05-14 10:51:00,453 - ***** Task: ETTh1_S_96_24_0.5_16_32 *****\r\n",
      "2024-05-14 10:51:00,489 - Mode: test, Sample Num: 2857, Batch Num: 2857\r\n",
      "2024-05-14 10:51:00,490 - ***** Task: ETTh1_S_96_96_0.5_16_32 *****\r\n",
      "2024-05-14 10:51:00,527 - Mode: test, Sample Num: 2785, Batch Num: 2785\r\n",
      "2024-05-14 10:51:00,528 - ***** Task: ETTh1_S_96_192_0.5_16_32 *****\r\n",
      "2024-05-14 10:51:00,564 - Mode: test, Sample Num: 2689, Batch Num: 2689\r\n",
      "2024-05-14 10:51:00,565 - ***** Task: ETTh1_S_96_336_0.5_16_32 *****\r\n",
      "2024-05-14 10:51:00,602 - Mode: test, Sample Num: 2545, Batch Num: 2545\r\n",
      "2024-05-14 10:51:00,603 - ***** Task: ETTh1_S_96_720_0.5_16_32 *****\r\n",
      "2024-05-14 10:51:00,639 - Mode: test, Sample Num: 2161, Batch Num: 2161\r\n",
      "2024-05-14 10:51:00,639 - Start training!\r\n",
      "2024-05-14 10:51:21,071 - Epoch: 1, Train Time: 20.300228, Train Loss: 0.284737\r\n",
      "2024-05-14 10:51:22,696 - Epoch: 1, Valid Time: 1.623588, Valid Loss: 0.185515, Valid Loss Improve: 0.962897\r\n",
      "2024-05-14 10:51:23,498 - Saving best model!\r\n",
      "2024-05-14 10:51:23,499 - Update learning rate to 9.939057285945933e-05\r\n",
      "2024-05-14 10:51:42,735 - Epoch: 2, Train Time: 18.989080, Train Loss: 0.263676\r\n",
      "2024-05-14 10:51:44,403 - Epoch: 2, Valid Time: 1.666973, Valid Loss: 0.165579, Valid Loss Improve: 0.107465\r\n",
      "2024-05-14 10:51:45,573 - Saving best model!\r\n",
      "2024-05-14 10:51:45,574 - Update learning rate to 9.757729755661012e-05\r\n",
      "2024-05-14 10:52:04,801 - Epoch: 3, Train Time: 19.002840, Train Loss: 0.257560\r\n",
      "2024-05-14 10:52:06,444 - Epoch: 3, Valid Time: 1.641671, Valid Loss: 0.164847, Valid Loss Improve: 0.004418\r\n",
      "2024-05-14 10:52:07,603 - Saving best model!\r\n",
      "2024-05-14 10:52:07,604 - Update learning rate to 9.460482294732422e-05\r\n",
      "2024-05-14 10:52:26,836 - Epoch: 4, Train Time: 19.005188, Train Loss: 0.253321\r\n",
      "2024-05-14 10:52:28,461 - Epoch: 4, Valid Time: 1.623836, Valid Loss: 0.175261, Valid Loss Improve: -0.063170\r\n",
      "2024-05-14 10:52:29,287 - Update learning rate to 9.054634122155992e-05\r\n",
      "2024-05-14 10:52:48,531 - Epoch: 5, Train Time: 19.010756, Train Loss: 0.252341\r\n",
      "2024-05-14 10:52:50,155 - Epoch: 5, Valid Time: 1.623417, Valid Loss: 0.169356, Valid Loss Improve: -0.027348\r\n",
      "2024-05-14 10:52:50,952 - Update learning rate to 8.550178566873411e-05\r\n",
      "2024-05-14 10:53:10,147 - Epoch: 6, Train Time: 18.963240, Train Loss: 0.249022\r\n",
      "2024-05-14 10:53:11,756 - Epoch: 6, Valid Time: 1.608845, Valid Loss: 0.157365, Valid Loss Improve: 0.045392\r\n",
      "2024-05-14 10:53:12,920 - Saving best model!\r\n",
      "2024-05-14 10:53:12,920 - Update learning rate to 7.959536998847744e-05\r\n",
      "2024-05-14 10:53:32,349 - Epoch: 7, Train Time: 19.125453, Train Loss: 0.246739\r\n",
      "2024-05-14 10:53:34,021 - Epoch: 7, Valid Time: 1.671735, Valid Loss: 0.164586, Valid Loss Improve: -0.045891\r\n",
      "2024-05-14 10:53:34,824 - Update learning rate to 7.297252973710758e-05\r\n",
      "2024-05-14 10:53:54,119 - Epoch: 8, Train Time: 19.064714, Train Loss: 0.244333\r\n",
      "2024-05-14 10:53:55,752 - Epoch: 8, Valid Time: 1.633065, Valid Loss: 0.163729, Valid Loss Improve: -0.040445\r\n",
      "2024-05-14 10:53:56,540 - Update learning rate to 6.579634122155991e-05\r\n",
      "2024-05-14 10:54:15,816 - Epoch: 9, Train Time: 19.047867, Train Loss: 0.241490\r\n",
      "2024-05-14 10:54:17,498 - Epoch: 9, Valid Time: 1.682231, Valid Loss: 0.160916, Valid Loss Improve: -0.022569\r\n",
      "2024-05-14 10:54:18,308 - Update learning rate to 5.824350601949144e-05\r\n",
      "2024-05-14 10:54:37,560 - Epoch: 10, Train Time: 19.014774, Train Loss: 0.238145\r\n",
      "2024-05-14 10:54:39,191 - Epoch: 10, Valid Time: 1.630718, Valid Loss: 0.160978, Valid Loss Improve: -0.022960\r\n",
      "2024-05-14 10:54:39,969 - Update learning rate to 5.050000000000001e-05\r\n",
      "2024-05-14 10:54:39,970 - Start testing!\r\n",
      "2024-05-14 10:55:10,875 - Setting: ETTh1_96_24, MSE: 0.030448, MAE: 0.135328\r\n",
      "2024-05-14 10:55:40,614 - Setting: ETTh1_96_96, MSE: 0.058551, MAE: 0.185526\r\n",
      "2024-05-14 10:56:09,101 - Setting: ETTh1_96_192, MSE: 0.076106, MAE: 0.212226\r\n",
      "2024-05-14 10:56:36,043 - Setting: ETTh1_96_336, MSE: 0.088583, MAE: 0.234374\r\n",
      "2024-05-14 10:56:58,885 - Setting: ETTh1_96_720, MSE: 0.094466, MAE: 0.242342\r\n",
      "CPU times: user 4.86 s, sys: 1.07 s, total: 5.93 s\n",
      "Wall time: 6min 14s\n"
     ]
    }
   ],
   "source": [
    "%%time\n",
    "!python run_univariate.py  --training_list execute_list/divided_list/ETTh1_train.csv --max_token_num 17 --lm_layer_num 8 "
   ]
  },
  {
   "cell_type": "code",
   "execution_count": 5,
   "id": "4a0105c9",
   "metadata": {
    "execution": {
     "iopub.execute_input": "2024-05-14T10:57:00.417831Z",
     "iopub.status.busy": "2024-05-14T10:57:00.417091Z",
     "iopub.status.idle": "2024-05-14T11:03:08.479841Z",
     "shell.execute_reply": "2024-05-14T11:03:08.478411Z"
    },
    "papermill": {
     "duration": 368.07861,
     "end_time": "2024-05-14T11:03:08.482310",
     "exception": false,
     "start_time": "2024-05-14T10:57:00.403700",
     "status": "completed"
    },
    "tags": []
   },
   "outputs": [
    {
     "name": "stdout",
     "output_type": "stream",
     "text": [
      "Log directory: checkpoint_gpt2-small_full_divided_list_instruct_8_2_0.5_96\r\n",
      "2024-05-14 10:57:05,760 - Namespace(gpu=0, training_list='execute_list/divided_list/ETTh2_train.csv', inference_list='execute_list/inference_all.csv', eval_model_path='', is_training=1, seed=2036, target='OT', label_len=0, lm_pretrain_model='gpt2-small', lm_ft_type='full', instruct_path='data_configs/instruct.json', zero_shot_instruct='', mask_rate=0.5, patch_len=16, max_token_num=17, max_backcast_len=96, max_forecast_len=720, lm_layer_num=8, dec_trans_layer_num=2, ts_embed_dropout=0.3, dec_head_dropout=0.1, num_workers=10, train_epochs=10, patience=10, learning_rate=0.0001, weight_decay=0, clip=5, checkpoint='checkpoint_gpt2-small_full_divided_list_instruct_8_2_0.5_96')\r\n",
      "2024-05-14 10:57:06,855 - Trainable Params: 96088320, All Params: 96088320, Percent: 1.0\r\n",
      "2024-05-14 10:57:06,856 - Trainable Params: 122717232, All Params: 122717232, Percent: 1.0\r\n",
      "2024-05-14 10:57:06,859 - ***** Task: ETTh2_S_96_720_0.5_16_32 *****\r\n",
      "2024-05-14 10:57:06,899 - Mode: train, Sample Num: 7825, Batch Num: 244\r\n",
      "2024-05-14 10:57:06,900 - ***** Task: ETTh2_S_96_720_0.5_16_32 *****\r\n",
      "2024-05-14 10:57:06,935 - Mode: val, Sample Num: 2161, Batch Num: 67\r\n",
      "2024-05-14 10:57:06,936 - ***** Task: ETTh2_S_96_24_0.5_16_32 *****\r\n",
      "2024-05-14 10:57:06,970 - Mode: test, Sample Num: 2857, Batch Num: 2857\r\n",
      "2024-05-14 10:57:06,971 - ***** Task: ETTh2_S_96_96_0.5_16_32 *****\r\n",
      "2024-05-14 10:57:07,006 - Mode: test, Sample Num: 2785, Batch Num: 2785\r\n",
      "2024-05-14 10:57:07,007 - ***** Task: ETTh2_S_96_192_0.5_16_32 *****\r\n",
      "2024-05-14 10:57:07,040 - Mode: test, Sample Num: 2689, Batch Num: 2689\r\n",
      "2024-05-14 10:57:07,041 - ***** Task: ETTh2_S_96_336_0.5_16_32 *****\r\n",
      "2024-05-14 10:57:07,075 - Mode: test, Sample Num: 2545, Batch Num: 2545\r\n",
      "2024-05-14 10:57:07,076 - ***** Task: ETTh2_S_96_720_0.5_16_32 *****\r\n",
      "2024-05-14 10:57:07,110 - Mode: test, Sample Num: 2161, Batch Num: 2161\r\n",
      "2024-05-14 10:57:07,111 - Start training!\r\n",
      "2024-05-14 10:57:27,087 - Epoch: 1, Train Time: 19.808532, Train Loss: 0.348850\r\n",
      "2024-05-14 10:57:28,741 - Epoch: 1, Valid Time: 1.653147, Valid Loss: 0.359800, Valid Loss Improve: 0.928040\r\n",
      "2024-05-14 10:57:29,909 - Saving best model!\r\n",
      "2024-05-14 10:57:29,909 - Update learning rate to 9.939057285945933e-05\r\n",
      "2024-05-14 10:57:49,104 - Epoch: 2, Train Time: 18.929933, Train Loss: 0.314301\r\n",
      "2024-05-14 10:57:50,747 - Epoch: 2, Valid Time: 1.642297, Valid Loss: 0.340832, Valid Loss Improve: 0.052718\r\n",
      "2024-05-14 10:57:51,838 - Saving best model!\r\n",
      "2024-05-14 10:57:51,839 - Update learning rate to 9.757729755661012e-05\r\n",
      "2024-05-14 10:58:11,039 - Epoch: 3, Train Time: 18.957985, Train Loss: 0.306462\r\n",
      "2024-05-14 10:58:12,675 - Epoch: 3, Valid Time: 1.635978, Valid Loss: 0.333956, Valid Loss Improve: 0.020174\r\n",
      "2024-05-14 10:58:13,763 - Saving best model!\r\n",
      "2024-05-14 10:58:13,764 - Update learning rate to 9.460482294732422e-05\r\n",
      "2024-05-14 10:58:32,974 - Epoch: 4, Train Time: 18.972932, Train Loss: 0.302501\r\n",
      "2024-05-14 10:58:34,613 - Epoch: 4, Valid Time: 1.639112, Valid Loss: 0.349680, Valid Loss Improve: -0.047085\r\n",
      "2024-05-14 10:58:35,675 - Update learning rate to 9.054634122155992e-05\r\n",
      "2024-05-14 10:58:54,812 - Epoch: 5, Train Time: 18.890817, Train Loss: 0.298264\r\n",
      "2024-05-14 10:58:56,445 - Epoch: 5, Valid Time: 1.632427, Valid Loss: 0.332989, Valid Loss Improve: 0.002896\r\n",
      "2024-05-14 10:58:57,522 - Saving best model!\r\n",
      "2024-05-14 10:58:57,522 - Update learning rate to 8.550178566873411e-05\r\n",
      "2024-05-14 10:59:16,674 - Epoch: 6, Train Time: 18.904273, Train Loss: 0.292994\r\n",
      "2024-05-14 10:59:18,324 - Epoch: 6, Valid Time: 1.649012, Valid Loss: 0.329592, Valid Loss Improve: 0.010201\r\n",
      "2024-05-14 10:59:19,396 - Saving best model!\r\n",
      "2024-05-14 10:59:19,396 - Update learning rate to 7.959536998847744e-05\r\n",
      "2024-05-14 10:59:38,609 - Epoch: 7, Train Time: 18.958799, Train Loss: 0.289057\r\n",
      "2024-05-14 10:59:40,248 - Epoch: 7, Valid Time: 1.638815, Valid Loss: 0.327487, Valid Loss Improve: 0.006388\r\n",
      "2024-05-14 10:59:41,332 - Saving best model!\r\n",
      "2024-05-14 10:59:41,332 - Update learning rate to 7.297252973710758e-05\r\n",
      "2024-05-14 11:00:00,500 - Epoch: 8, Train Time: 18.919713, Train Loss: 0.284388\r\n",
      "2024-05-14 11:00:02,197 - Epoch: 8, Valid Time: 1.696543, Valid Loss: 0.327776, Valid Loss Improve: -0.000885\r\n",
      "2024-05-14 11:00:03,299 - Update learning rate to 6.579634122155991e-05\r\n",
      "2024-05-14 11:00:22,409 - Epoch: 9, Train Time: 18.863734, Train Loss: 0.277587\r\n",
      "2024-05-14 11:00:24,049 - Epoch: 9, Valid Time: 1.639686, Valid Loss: 0.318678, Valid Loss Improve: 0.026896\r\n",
      "2024-05-14 11:00:25,131 - Saving best model!\r\n",
      "2024-05-14 11:00:25,131 - Update learning rate to 5.824350601949144e-05\r\n",
      "2024-05-14 11:00:44,269 - Epoch: 10, Train Time: 18.885182, Train Loss: 0.272273\r\n",
      "2024-05-14 11:00:45,932 - Epoch: 10, Valid Time: 1.662706, Valid Loss: 0.346707, Valid Loss Improve: -0.087952\r\n",
      "2024-05-14 11:00:46,996 - Update learning rate to 5.050000000000001e-05\r\n",
      "2024-05-14 11:00:46,996 - Start testing!\r\n",
      "2024-05-14 11:01:17,945 - Setting: ETTh2_96_24, MSE: 0.074813, MAE: 0.208863\r\n",
      "2024-05-14 11:01:47,889 - Setting: ETTh2_96_96, MSE: 0.131335, MAE: 0.279225\r\n",
      "2024-05-14 11:02:16,814 - Setting: ETTh2_96_192, MSE: 0.181563, MAE: 0.334400\r\n",
      "2024-05-14 11:02:44,123 - Setting: ETTh2_96_336, MSE: 0.217452, MAE: 0.372323\r\n",
      "2024-05-14 11:03:07,379 - Setting: ETTh2_96_720, MSE: 0.228404, MAE: 0.383368\r\n",
      "CPU times: user 4.67 s, sys: 1.05 s, total: 5.72 s\n",
      "Wall time: 6min 8s\n"
     ]
    }
   ],
   "source": [
    "%%time\n",
    "!python run_univariate.py  --training_list execute_list/divided_list/ETTh2_train.csv --max_token_num 17 --lm_layer_num 8 "
   ]
  },
  {
   "cell_type": "code",
   "execution_count": 6,
   "id": "14f19bf3",
   "metadata": {
    "execution": {
     "iopub.execute_input": "2024-05-14T11:03:08.515337Z",
     "iopub.status.busy": "2024-05-14T11:03:08.515014Z",
     "iopub.status.idle": "2024-05-14T11:25:14.012188Z",
     "shell.execute_reply": "2024-05-14T11:25:14.010804Z"
    },
    "papermill": {
     "duration": 1325.515515,
     "end_time": "2024-05-14T11:25:14.014331",
     "exception": false,
     "start_time": "2024-05-14T11:03:08.498816",
     "status": "completed"
    },
    "tags": []
   },
   "outputs": [
    {
     "name": "stdout",
     "output_type": "stream",
     "text": [
      "Log directory: checkpoint_gpt2-small_full_divided_list_instruct_8_2_0.5_96\r\n",
      "2024-05-14 11:03:14,046 - Namespace(gpu=0, training_list='execute_list/divided_list/ETTm1_train.csv', inference_list='execute_list/inference_all.csv', eval_model_path='', is_training=1, seed=2036, target='OT', label_len=0, lm_pretrain_model='gpt2-small', lm_ft_type='full', instruct_path='data_configs/instruct.json', zero_shot_instruct='', mask_rate=0.5, patch_len=16, max_token_num=17, max_backcast_len=96, max_forecast_len=720, lm_layer_num=8, dec_trans_layer_num=2, ts_embed_dropout=0.3, dec_head_dropout=0.1, num_workers=10, train_epochs=10, patience=10, learning_rate=0.0001, weight_decay=0, clip=5, checkpoint='checkpoint_gpt2-small_full_divided_list_instruct_8_2_0.5_96')\r\n",
      "2024-05-14 11:03:15,145 - Trainable Params: 96088320, All Params: 96088320, Percent: 1.0\r\n",
      "2024-05-14 11:03:15,145 - Trainable Params: 122717232, All Params: 122717232, Percent: 1.0\r\n",
      "2024-05-14 11:03:15,149 - ***** Task: ETTm1_S_96_720_0.5_16_64 *****\r\n",
      "2024-05-14 11:03:15,298 - Mode: train, Sample Num: 33745, Batch Num: 527\r\n",
      "2024-05-14 11:03:15,299 - ***** Task: ETTm1_S_96_720_0.5_16_64 *****\r\n",
      "2024-05-14 11:03:15,454 - Mode: val, Sample Num: 10801, Batch Num: 168\r\n",
      "2024-05-14 11:03:15,455 - ***** Task: ETTm1_S_96_24_0.5_16_64 *****\r\n",
      "2024-05-14 11:03:15,610 - Mode: test, Sample Num: 11497, Batch Num: 11497\r\n",
      "2024-05-14 11:03:15,611 - ***** Task: ETTm1_S_96_96_0.5_16_64 *****\r\n",
      "2024-05-14 11:03:15,756 - Mode: test, Sample Num: 11425, Batch Num: 11425\r\n",
      "2024-05-14 11:03:15,757 - ***** Task: ETTm1_S_96_192_0.5_16_64 *****\r\n",
      "2024-05-14 11:03:15,903 - Mode: test, Sample Num: 11329, Batch Num: 11329\r\n",
      "2024-05-14 11:03:15,904 - ***** Task: ETTm1_S_96_336_0.5_16_64 *****\r\n",
      "2024-05-14 11:03:16,047 - Mode: test, Sample Num: 11185, Batch Num: 11185\r\n",
      "2024-05-14 11:03:16,048 - ***** Task: ETTm1_S_96_720_0.5_16_64 *****\r\n",
      "2024-05-14 11:03:16,190 - Mode: test, Sample Num: 10801, Batch Num: 10801\r\n",
      "2024-05-14 11:03:16,191 - Start training!\r\n",
      "2024-05-14 11:04:20,273 - Epoch: 1, Train Time: 63.896214, Train Loss: 0.218176\r\n",
      "2024-05-14 11:04:26,523 - Epoch: 1, Valid Time: 6.249087, Valid Loss: 0.138080, Valid Loss Improve: 0.972384\r\n",
      "2024-05-14 11:04:27,621 - Saving best model!\r\n",
      "2024-05-14 11:04:27,621 - Update learning rate to 9.939057285945933e-05\r\n",
      "2024-05-14 11:05:30,920 - Epoch: 2, Train Time: 63.002831, Train Loss: 0.211562\r\n",
      "2024-05-14 11:05:37,196 - Epoch: 2, Valid Time: 6.275462, Valid Loss: 0.126159, Valid Loss Improve: 0.086334\r\n",
      "2024-05-14 11:05:38,328 - Saving best model!\r\n",
      "2024-05-14 11:05:38,328 - Update learning rate to 9.757729755661012e-05\r\n",
      "2024-05-14 11:06:41,638 - Epoch: 3, Train Time: 63.025432, Train Loss: 0.208578\r\n",
      "2024-05-14 11:06:47,905 - Epoch: 3, Valid Time: 6.265991, Valid Loss: 0.125507, Valid Loss Improve: 0.005163\r\n",
      "2024-05-14 11:06:49,028 - Saving best model!\r\n",
      "2024-05-14 11:06:49,029 - Update learning rate to 9.460482294732422e-05\r\n",
      "2024-05-14 11:07:52,467 - Epoch: 4, Train Time: 63.027164, Train Loss: 0.206417\r\n",
      "2024-05-14 11:07:58,817 - Epoch: 4, Valid Time: 6.349128, Valid Loss: 0.125280, Valid Loss Improve: 0.001811\r\n",
      "2024-05-14 11:07:59,918 - Saving best model!\r\n",
      "2024-05-14 11:07:59,918 - Update learning rate to 9.054634122155992e-05\r\n",
      "2024-05-14 11:09:03,332 - Epoch: 5, Train Time: 63.125510, Train Loss: 0.204764\r\n",
      "2024-05-14 11:09:09,656 - Epoch: 5, Valid Time: 6.323763, Valid Loss: 0.124984, Valid Loss Improve: 0.002361\r\n",
      "2024-05-14 11:09:10,814 - Saving best model!\r\n",
      "2024-05-14 11:09:10,814 - Update learning rate to 8.550178566873411e-05\r\n",
      "2024-05-14 11:10:14,371 - Epoch: 6, Train Time: 63.241945, Train Loss: 0.203111\r\n",
      "2024-05-14 11:10:20,701 - Epoch: 6, Valid Time: 6.330096, Valid Loss: 0.125723, Valid Loss Improve: -0.005908\r\n",
      "2024-05-14 11:10:21,514 - Update learning rate to 7.959536998847744e-05\r\n",
      "2024-05-14 11:11:24,973 - Epoch: 7, Train Time: 63.154682, Train Loss: 0.201955\r\n",
      "2024-05-14 11:11:31,241 - Epoch: 7, Valid Time: 6.267684, Valid Loss: 0.138845, Valid Loss Improve: -0.110900\r\n",
      "2024-05-14 11:11:32,467 - Update learning rate to 7.297252973710758e-05\r\n",
      "2024-05-14 11:12:35,782 - Epoch: 8, Train Time: 63.009343, Train Loss: 0.199808\r\n",
      "2024-05-14 11:12:42,054 - Epoch: 8, Valid Time: 6.270802, Valid Loss: 0.128295, Valid Loss Improve: -0.026493\r\n",
      "2024-05-14 11:12:43,253 - Update learning rate to 6.579634122155991e-05\r\n",
      "2024-05-14 11:13:46,534 - Epoch: 9, Train Time: 62.996786, Train Loss: 0.198759\r\n",
      "2024-05-14 11:13:52,794 - Epoch: 9, Valid Time: 6.260053, Valid Loss: 0.129899, Valid Loss Improve: -0.039320\r\n",
      "2024-05-14 11:13:53,908 - Update learning rate to 5.824350601949144e-05\r\n",
      "2024-05-14 11:14:57,215 - Epoch: 10, Train Time: 63.029650, Train Loss: 0.196205\r\n",
      "2024-05-14 11:15:03,523 - Epoch: 10, Valid Time: 6.307246, Valid Loss: 0.129402, Valid Loss Improve: -0.035345\r\n",
      "2024-05-14 11:15:04,590 - Update learning rate to 5.050000000000001e-05\r\n",
      "2024-05-14 11:15:04,590 - Start testing!\r\n",
      "2024-05-14 11:17:06,595 - Setting: ETTm1_96_24, MSE: 0.012199, MAE: 0.080834\r\n",
      "2024-05-14 11:19:10,304 - Setting: ETTm1_96_96, MSE: 0.030045, MAE: 0.130431\r\n",
      "2024-05-14 11:21:13,830 - Setting: ETTm1_96_192, MSE: 0.045218, MAE: 0.162514\r\n",
      "2024-05-14 11:23:15,761 - Setting: ETTm1_96_336, MSE: 0.059799, MAE: 0.188184\r\n",
      "2024-05-14 11:25:12,908 - Setting: ETTm1_96_720, MSE: 0.083987, MAE: 0.222247\r\n",
      "CPU times: user 16.2 s, sys: 3.53 s, total: 19.8 s\n",
      "Wall time: 22min 5s\n"
     ]
    }
   ],
   "source": [
    "%%time\n",
    "!python run_univariate.py  --training_list execute_list/divided_list/ETTm1_train.csv --max_token_num 17 --lm_layer_num 8 "
   ]
  },
  {
   "cell_type": "code",
   "execution_count": 7,
   "id": "db52be4c",
   "metadata": {
    "execution": {
     "iopub.execute_input": "2024-05-14T11:25:14.053580Z",
     "iopub.status.busy": "2024-05-14T11:25:14.053252Z",
     "iopub.status.idle": "2024-05-14T11:47:14.574733Z",
     "shell.execute_reply": "2024-05-14T11:47:14.573330Z"
    },
    "papermill": {
     "duration": 1320.543542,
     "end_time": "2024-05-14T11:47:14.577191",
     "exception": false,
     "start_time": "2024-05-14T11:25:14.033649",
     "status": "completed"
    },
    "tags": []
   },
   "outputs": [
    {
     "name": "stdout",
     "output_type": "stream",
     "text": [
      "Log directory: checkpoint_gpt2-small_full_divided_list_instruct_8_2_0.5_96\r\n",
      "2024-05-14 11:25:19,447 - Namespace(gpu=0, training_list='execute_list/divided_list/ETTm2_train.csv', inference_list='execute_list/inference_all.csv', eval_model_path='', is_training=1, seed=2036, target='OT', label_len=0, lm_pretrain_model='gpt2-small', lm_ft_type='full', instruct_path='data_configs/instruct.json', zero_shot_instruct='', mask_rate=0.5, patch_len=16, max_token_num=17, max_backcast_len=96, max_forecast_len=720, lm_layer_num=8, dec_trans_layer_num=2, ts_embed_dropout=0.3, dec_head_dropout=0.1, num_workers=10, train_epochs=10, patience=10, learning_rate=0.0001, weight_decay=0, clip=5, checkpoint='checkpoint_gpt2-small_full_divided_list_instruct_8_2_0.5_96')\r\n",
      "2024-05-14 11:25:20,613 - Trainable Params: 96088320, All Params: 96088320, Percent: 1.0\r\n",
      "2024-05-14 11:25:20,615 - Trainable Params: 122717232, All Params: 122717232, Percent: 1.0\r\n",
      "2024-05-14 11:25:20,619 - ***** Task: ETTm2_S_96_720_0.5_16_64 *****\r\n",
      "2024-05-14 11:25:20,771 - Mode: train, Sample Num: 33745, Batch Num: 527\r\n",
      "2024-05-14 11:25:20,772 - ***** Task: ETTm2_S_96_720_0.5_16_64 *****\r\n",
      "2024-05-14 11:25:20,915 - Mode: val, Sample Num: 10801, Batch Num: 168\r\n",
      "2024-05-14 11:25:20,916 - ***** Task: ETTm2_S_96_24_0.5_16_64 *****\r\n",
      "2024-05-14 11:25:21,060 - Mode: test, Sample Num: 11497, Batch Num: 11497\r\n",
      "2024-05-14 11:25:21,061 - ***** Task: ETTm2_S_96_96_0.5_16_64 *****\r\n",
      "2024-05-14 11:25:21,202 - Mode: test, Sample Num: 11425, Batch Num: 11425\r\n",
      "2024-05-14 11:25:21,203 - ***** Task: ETTm2_S_96_192_0.5_16_64 *****\r\n",
      "2024-05-14 11:25:21,342 - Mode: test, Sample Num: 11329, Batch Num: 11329\r\n",
      "2024-05-14 11:25:21,344 - ***** Task: ETTm2_S_96_336_0.5_16_64 *****\r\n",
      "2024-05-14 11:25:21,490 - Mode: test, Sample Num: 11185, Batch Num: 11185\r\n",
      "2024-05-14 11:25:21,491 - ***** Task: ETTm2_S_96_720_0.5_16_64 *****\r\n",
      "2024-05-14 11:25:21,641 - Mode: test, Sample Num: 10801, Batch Num: 10801\r\n",
      "2024-05-14 11:25:21,641 - Start training!\r\n",
      "2024-05-14 11:26:25,768 - Epoch: 1, Train Time: 63.905168, Train Loss: 0.260638\r\n",
      "2024-05-14 11:26:32,047 - Epoch: 1, Valid Time: 6.278448, Valid Loss: 0.260240, Valid Loss Improve: 0.947952\r\n",
      "2024-05-14 11:26:33,193 - Saving best model!\r\n",
      "2024-05-14 11:26:33,193 - Update learning rate to 9.939057285945933e-05\r\n",
      "2024-05-14 11:27:36,365 - Epoch: 2, Train Time: 62.871321, Train Loss: 0.249905\r\n",
      "2024-05-14 11:27:42,724 - Epoch: 2, Valid Time: 6.359201, Valid Loss: 0.258912, Valid Loss Improve: 0.005103\r\n",
      "2024-05-14 11:27:43,926 - Saving best model!\r\n",
      "2024-05-14 11:27:43,927 - Update learning rate to 9.757729755661012e-05\r\n",
      "2024-05-14 11:28:47,554 - Epoch: 3, Train Time: 63.236983, Train Loss: 0.247567\r\n",
      "2024-05-14 11:28:53,868 - Epoch: 3, Valid Time: 6.313346, Valid Loss: 0.247207, Valid Loss Improve: 0.045211\r\n",
      "2024-05-14 11:28:55,005 - Saving best model!\r\n",
      "2024-05-14 11:28:55,006 - Update learning rate to 9.460482294732422e-05\r\n",
      "2024-05-14 11:29:58,521 - Epoch: 4, Train Time: 63.236509, Train Loss: 0.245135\r\n",
      "2024-05-14 11:30:04,801 - Epoch: 4, Valid Time: 6.279088, Valid Loss: 0.257191, Valid Loss Improve: -0.040388\r\n",
      "2024-05-14 11:30:05,876 - Update learning rate to 9.054634122155992e-05\r\n",
      "2024-05-14 11:31:09,230 - Epoch: 5, Train Time: 63.081164, Train Loss: 0.243057\r\n",
      "2024-05-14 11:31:15,502 - Epoch: 5, Valid Time: 6.271745, Valid Loss: 0.259522, Valid Loss Improve: -0.049818\r\n",
      "2024-05-14 11:31:16,592 - Update learning rate to 8.550178566873411e-05\r\n",
      "2024-05-14 11:32:19,889 - Epoch: 6, Train Time: 62.981514, Train Loss: 0.241384\r\n",
      "2024-05-14 11:32:26,227 - Epoch: 6, Valid Time: 6.337384, Valid Loss: 0.249855, Valid Loss Improve: -0.010712\r\n",
      "2024-05-14 11:32:27,343 - Update learning rate to 7.959536998847744e-05\r\n",
      "2024-05-14 11:33:30,562 - Epoch: 7, Train Time: 62.938573, Train Loss: 0.238990\r\n",
      "2024-05-14 11:33:36,834 - Epoch: 7, Valid Time: 6.271316, Valid Loss: 0.254124, Valid Loss Improve: -0.027980\r\n",
      "2024-05-14 11:33:37,913 - Update learning rate to 7.297252973710758e-05\r\n",
      "2024-05-14 11:34:41,277 - Epoch: 8, Train Time: 63.058257, Train Loss: 0.235837\r\n",
      "2024-05-14 11:34:47,574 - Epoch: 8, Valid Time: 6.296473, Valid Loss: 0.258526, Valid Loss Improve: -0.045789\r\n",
      "2024-05-14 11:34:48,684 - Update learning rate to 6.579634122155991e-05\r\n",
      "2024-05-14 11:35:52,070 - Epoch: 9, Train Time: 63.062752, Train Loss: 0.232477\r\n",
      "2024-05-14 11:35:58,409 - Epoch: 9, Valid Time: 6.338108, Valid Loss: 0.258577, Valid Loss Improve: -0.045995\r\n",
      "2024-05-14 11:35:59,485 - Update learning rate to 5.824350601949144e-05\r\n",
      "2024-05-14 11:37:02,985 - Epoch: 10, Train Time: 63.185800, Train Loss: 0.229375\r\n",
      "2024-05-14 11:37:09,335 - Epoch: 10, Valid Time: 6.349365, Valid Loss: 0.249429, Valid Loss Improve: -0.008991\r\n",
      "2024-05-14 11:37:10,495 - Update learning rate to 5.050000000000001e-05\r\n",
      "2024-05-14 11:37:10,495 - Start testing!\r\n",
      "2024-05-14 11:39:13,056 - Setting: ETTm2_96_24, MSE: 0.034156, MAE: 0.126543\r\n",
      "2024-05-14 11:41:17,275 - Setting: ETTm2_96_96, MSE: 0.075828, MAE: 0.203017\r\n",
      "2024-05-14 11:43:19,573 - Setting: ETTm2_96_192, MSE: 0.108802, MAE: 0.247967\r\n",
      "2024-05-14 11:45:18,768 - Setting: ETTm2_96_336, MSE: 0.139367, MAE: 0.285997\r\n",
      "2024-05-14 11:47:13,541 - Setting: ETTm2_96_720, MSE: 0.191516, MAE: 0.342475\r\n",
      "CPU times: user 16 s, sys: 3.43 s, total: 19.5 s\n",
      "Wall time: 22min\n"
     ]
    }
   ],
   "source": [
    "%%time\n",
    "!python run_univariate.py  --training_list execute_list/divided_list/ETTm2_train.csv --max_token_num 17 --lm_layer_num 8 "
   ]
  },
  {
   "cell_type": "code",
   "execution_count": 8,
   "id": "d573ab07",
   "metadata": {
    "execution": {
     "iopub.execute_input": "2024-05-14T11:47:14.634154Z",
     "iopub.status.busy": "2024-05-14T11:47:14.633217Z",
     "iopub.status.idle": "2024-05-14T11:50:46.033782Z",
     "shell.execute_reply": "2024-05-14T11:50:46.032698Z"
    },
    "papermill": {
     "duration": 211.433229,
     "end_time": "2024-05-14T11:50:46.036036",
     "exception": false,
     "start_time": "2024-05-14T11:47:14.602807",
     "status": "completed"
    },
    "tags": []
   },
   "outputs": [
    {
     "name": "stdout",
     "output_type": "stream",
     "text": [
      "Log directory: checkpoint_gpt2-small_full_divided_list_instruct_8_2_0.5_96\r\n",
      "2024-05-14 11:47:19,905 - Namespace(gpu=0, training_list='execute_list/divided_list/exchange_rate_train.csv', inference_list='execute_list/inference_all.csv', eval_model_path='', is_training=1, seed=2036, target='OT', label_len=0, lm_pretrain_model='gpt2-small', lm_ft_type='full', instruct_path='data_configs/instruct.json', zero_shot_instruct='', mask_rate=0.5, patch_len=16, max_token_num=17, max_backcast_len=96, max_forecast_len=720, lm_layer_num=8, dec_trans_layer_num=2, ts_embed_dropout=0.3, dec_head_dropout=0.1, num_workers=10, train_epochs=10, patience=10, learning_rate=0.0001, weight_decay=0, clip=5, checkpoint='checkpoint_gpt2-small_full_divided_list_instruct_8_2_0.5_96')\r\n",
      "2024-05-14 11:47:21,006 - Trainable Params: 96088320, All Params: 96088320, Percent: 1.0\r\n",
      "2024-05-14 11:47:21,007 - Trainable Params: 122717232, All Params: 122717232, Percent: 1.0\r\n",
      "2024-05-14 11:47:21,010 - ***** Task: exchange_S_96_720_0.5_16_24 *****\r\n",
      "2024-05-14 11:47:21,029 - Mode: train, Sample Num: 4496, Batch Num: 187\r\n",
      "2024-05-14 11:47:21,030 - ***** Task: exchange_S_96_720_0.5_16_24 *****\r\n",
      "2024-05-14 11:47:21,046 - Mode: val, Sample Num: 41, Batch Num: 1\r\n",
      "2024-05-14 11:47:21,047 - ***** Task: exchange_S_96_24_0.5_16_24 *****\r\n",
      "2024-05-14 11:47:21,062 - Mode: test, Sample Num: 1494, Batch Num: 1494\r\n",
      "2024-05-14 11:47:21,063 - ***** Task: exchange_S_96_96_0.5_16_24 *****\r\n",
      "2024-05-14 11:47:21,078 - Mode: test, Sample Num: 1422, Batch Num: 1422\r\n",
      "2024-05-14 11:47:21,079 - ***** Task: exchange_S_96_192_0.5_16_24 *****\r\n",
      "2024-05-14 11:47:21,094 - Mode: test, Sample Num: 1326, Batch Num: 1326\r\n",
      "2024-05-14 11:47:21,095 - ***** Task: exchange_S_96_336_0.5_16_24 *****\r\n",
      "2024-05-14 11:47:21,109 - Mode: test, Sample Num: 1182, Batch Num: 1182\r\n",
      "2024-05-14 11:47:21,110 - ***** Task: exchange_S_96_720_0.5_16_24 *****\r\n",
      "2024-05-14 11:47:21,125 - Mode: test, Sample Num: 798, Batch Num: 798\r\n",
      "2024-05-14 11:47:21,126 - Start training!\r\n",
      "2024-05-14 11:47:34,154 - Epoch: 1, Train Time: 12.841793, Train Loss: 0.891081\r\n",
      "2024-05-14 11:47:34,434 - Epoch: 1, Valid Time: 0.279468, Valid Loss: 1.291239, Valid Loss Improve: 0.741752\r\n",
      "2024-05-14 11:47:35,651 - Saving best model!\r\n",
      "2024-05-14 11:47:35,651 - Update learning rate to 9.939057285945933e-05\r\n",
      "2024-05-14 11:47:47,979 - Epoch: 2, Train Time: 12.037427, Train Loss: 0.858309\r\n",
      "2024-05-14 11:47:48,286 - Epoch: 2, Valid Time: 0.306298, Valid Loss: 0.854106, Valid Loss Improve: 0.338537\r\n",
      "2024-05-14 11:47:49,432 - Saving best model!\r\n",
      "2024-05-14 11:47:49,432 - Update learning rate to 9.757729755661012e-05\r\n",
      "2024-05-14 11:48:01,762 - Epoch: 3, Train Time: 12.041615, Train Loss: 0.856011\r\n",
      "2024-05-14 11:48:02,080 - Epoch: 3, Valid Time: 0.317498, Valid Loss: 1.140500, Valid Loss Improve: -0.335314\r\n",
      "2024-05-14 11:48:02,891 - Update learning rate to 9.460482294732422e-05\r\n",
      "2024-05-14 11:48:15,195 - Epoch: 4, Train Time: 12.027281, Train Loss: 0.848571\r\n",
      "2024-05-14 11:48:15,497 - Epoch: 4, Valid Time: 0.300744, Valid Loss: 0.850821, Valid Loss Improve: 0.003846\r\n",
      "2024-05-14 11:48:16,582 - Saving best model!\r\n",
      "2024-05-14 11:48:16,582 - Update learning rate to 9.054634122155992e-05\r\n",
      "2024-05-14 11:48:28,859 - Epoch: 5, Train Time: 11.996627, Train Loss: 0.841303\r\n",
      "2024-05-14 11:48:29,167 - Epoch: 5, Valid Time: 0.308249, Valid Loss: 0.986557, Valid Loss Improve: -0.159535\r\n",
      "2024-05-14 11:48:30,234 - Update learning rate to 8.550178566873411e-05\r\n",
      "2024-05-14 11:48:42,470 - Epoch: 6, Train Time: 11.967049, Train Loss: 0.836508\r\n",
      "2024-05-14 11:48:42,755 - Epoch: 6, Valid Time: 0.284682, Valid Loss: 0.951643, Valid Loss Improve: -0.118499\r\n",
      "2024-05-14 11:48:43,844 - Update learning rate to 7.959536998847744e-05\r\n",
      "2024-05-14 11:48:56,129 - Epoch: 7, Train Time: 11.998942, Train Loss: 0.834687\r\n",
      "2024-05-14 11:48:56,409 - Epoch: 7, Valid Time: 0.279864, Valid Loss: 1.086117, Valid Loss Improve: -0.276551\r\n",
      "2024-05-14 11:48:57,480 - Update learning rate to 7.297252973710758e-05\r\n",
      "2024-05-14 11:49:09,796 - Epoch: 8, Train Time: 12.041559, Train Loss: 0.827947\r\n",
      "2024-05-14 11:49:10,092 - Epoch: 8, Valid Time: 0.295671, Valid Loss: 1.064174, Valid Loss Improve: -0.250760\r\n",
      "2024-05-14 11:49:11,158 - Update learning rate to 6.579634122155991e-05\r\n",
      "2024-05-14 11:49:23,493 - Epoch: 9, Train Time: 12.043179, Train Loss: 0.817285\r\n",
      "2024-05-14 11:49:23,788 - Epoch: 9, Valid Time: 0.294737, Valid Loss: 1.305051, Valid Loss Improve: -0.533872\r\n",
      "2024-05-14 11:49:24,872 - Update learning rate to 5.824350601949144e-05\r\n",
      "2024-05-14 11:49:37,153 - Epoch: 10, Train Time: 11.985646, Train Loss: 0.814482\r\n",
      "2024-05-14 11:49:37,442 - Epoch: 10, Valid Time: 0.288293, Valid Loss: 1.467695, Valid Loss Improve: -0.725033\r\n",
      "2024-05-14 11:49:38,527 - Update learning rate to 5.050000000000001e-05\r\n",
      "2024-05-14 11:49:38,527 - Start testing!\r\n",
      "2024-05-14 11:49:54,579 - Setting: exchange_96_24, MSE: 0.042968, MAE: 0.161270\r\n",
      "2024-05-14 11:50:09,680 - Setting: exchange_96_96, MSE: 0.105420, MAE: 0.243832\r\n",
      "2024-05-14 11:50:23,836 - Setting: exchange_96_192, MSE: 0.216340, MAE: 0.348440\r\n",
      "2024-05-14 11:50:36,409 - Setting: exchange_96_336, MSE: 0.426604, MAE: 0.493433\r\n",
      "2024-05-14 11:50:44,957 - Setting: exchange_96_720, MSE: 1.134920, MAE: 0.817401\r\n",
      "CPU times: user 2.78 s, sys: 560 ms, total: 3.34 s\n",
      "Wall time: 3min 31s\n"
     ]
    }
   ],
   "source": [
    "%%time\n",
    "!python run_univariate.py  --training_list execute_list/divided_list/exchange_rate_train.csv --max_token_num 17 --lm_layer_num 8 "
   ]
  },
  {
   "cell_type": "code",
   "execution_count": 9,
   "id": "cbcd36f8",
   "metadata": {
    "execution": {
     "iopub.execute_input": "2024-05-14T11:50:46.090345Z",
     "iopub.status.busy": "2024-05-14T11:50:46.090041Z",
     "iopub.status.idle": "2024-05-14T11:51:43.443661Z",
     "shell.execute_reply": "2024-05-14T11:51:43.442496Z"
    },
    "papermill": {
     "duration": 57.381434,
     "end_time": "2024-05-14T11:51:43.445662",
     "exception": false,
     "start_time": "2024-05-14T11:50:46.064228",
     "status": "completed"
    },
    "tags": []
   },
   "outputs": [
    {
     "name": "stdout",
     "output_type": "stream",
     "text": [
      "Log directory: checkpoint_gpt2-small_full_divided_list_instruct_8_2_0.5_96\r\n",
      "2024-05-14 11:50:51,486 - Namespace(gpu=0, training_list='execute_list/divided_list/illness.csv', inference_list='execute_list/inference_all.csv', eval_model_path='', is_training=1, seed=2036, target='OT', label_len=0, lm_pretrain_model='gpt2-small', lm_ft_type='full', instruct_path='data_configs/instruct.json', zero_shot_instruct='', mask_rate=0.5, patch_len=16, max_token_num=17, max_backcast_len=96, max_forecast_len=720, lm_layer_num=8, dec_trans_layer_num=2, ts_embed_dropout=0.3, dec_head_dropout=0.1, num_workers=10, train_epochs=10, patience=10, learning_rate=0.0001, weight_decay=0, clip=5, checkpoint='checkpoint_gpt2-small_full_divided_list_instruct_8_2_0.5_96')\r\n",
      "2024-05-14 11:50:52,623 - Trainable Params: 96088320, All Params: 96088320, Percent: 1.0\r\n",
      "2024-05-14 11:50:52,623 - Trainable Params: 122717232, All Params: 122717232, Percent: 1.0\r\n",
      "2024-05-14 11:50:52,627 - ***** Task: illness_S_36_60_0.5_4_16 *****\r\n",
      "2024-05-14 11:50:52,632 - Mode: train, Sample Num: 581, Batch Num: 36\r\n",
      "2024-05-14 11:50:52,633 - ***** Task: illness_S_36_60_0.5_4_16 *****\r\n",
      "2024-05-14 11:50:52,638 - Mode: val, Sample Num: 38, Batch Num: 2\r\n",
      "2024-05-14 11:50:52,639 - ***** Task: illness_S_36_24_0.5_4_16 *****\r\n",
      "2024-05-14 11:50:52,643 - Mode: test, Sample Num: 170, Batch Num: 170\r\n",
      "2024-05-14 11:50:52,644 - ***** Task: illness_S_36_36_0.5_4_16 *****\r\n",
      "2024-05-14 11:50:52,648 - Mode: test, Sample Num: 158, Batch Num: 158\r\n",
      "2024-05-14 11:50:52,650 - ***** Task: illness_S_36_48_0.5_4_16 *****\r\n",
      "2024-05-14 11:50:52,654 - Mode: test, Sample Num: 146, Batch Num: 146\r\n",
      "2024-05-14 11:50:52,655 - ***** Task: illness_S_36_60_0.5_4_16 *****\r\n",
      "2024-05-14 11:50:52,660 - Mode: test, Sample Num: 134, Batch Num: 134\r\n",
      "2024-05-14 11:50:52,660 - Start training!\r\n",
      "2024-05-14 11:50:55,700 - Epoch: 1, Train Time: 2.851230, Train Loss: 0.260822\r\n",
      "2024-05-14 11:50:56,001 - Epoch: 1, Valid Time: 0.300410, Valid Loss: 0.117410, Valid Loss Improve: 0.976518\r\n",
      "2024-05-14 11:50:57,094 - Saving best model!\r\n",
      "2024-05-14 11:50:57,094 - Update learning rate to 9.939057285945933e-05\r\n",
      "2024-05-14 11:50:59,338 - Epoch: 2, Train Time: 1.983539, Train Loss: 0.163323\r\n",
      "2024-05-14 11:50:59,624 - Epoch: 2, Valid Time: 0.285686, Valid Loss: 0.100263, Valid Loss Improve: 0.146049\r\n",
      "2024-05-14 11:51:00,753 - Saving best model!\r\n",
      "2024-05-14 11:51:00,753 - Update learning rate to 9.757729755661012e-05\r\n",
      "2024-05-14 11:51:03,037 - Epoch: 3, Train Time: 2.014691, Train Loss: 0.141791\r\n",
      "2024-05-14 11:51:03,359 - Epoch: 3, Valid Time: 0.321203, Valid Loss: 0.072050, Valid Loss Improve: 0.281384\r\n",
      "2024-05-14 11:51:04,511 - Saving best model!\r\n",
      "2024-05-14 11:51:04,511 - Update learning rate to 9.460482294732422e-05\r\n",
      "2024-05-14 11:51:06,773 - Epoch: 4, Train Time: 1.973015, Train Loss: 0.139085\r\n",
      "2024-05-14 11:51:07,059 - Epoch: 4, Valid Time: 0.284535, Valid Loss: 0.059588, Valid Loss Improve: 0.172970\r\n",
      "2024-05-14 11:51:08,218 - Saving best model!\r\n",
      "2024-05-14 11:51:08,219 - Update learning rate to 9.054634122155992e-05\r\n",
      "2024-05-14 11:51:10,497 - Epoch: 5, Train Time: 1.991088, Train Loss: 0.136328\r\n",
      "2024-05-14 11:51:10,784 - Epoch: 5, Valid Time: 0.286083, Valid Loss: 0.068221, Valid Loss Improve: -0.144889\r\n",
      "2024-05-14 11:51:12,246 - Update learning rate to 8.550178566873411e-05\r\n",
      "2024-05-14 11:51:14,527 - Epoch: 6, Train Time: 2.019480, Train Loss: 0.129161\r\n",
      "2024-05-14 11:51:14,910 - Epoch: 6, Valid Time: 0.381467, Valid Loss: 0.051816, Valid Loss Improve: 0.130427\r\n",
      "2024-05-14 11:51:16,013 - Saving best model!\r\n",
      "2024-05-14 11:51:16,014 - Update learning rate to 7.959536998847744e-05\r\n",
      "2024-05-14 11:51:18,269 - Epoch: 7, Train Time: 1.993808, Train Loss: 0.125539\r\n",
      "2024-05-14 11:51:18,567 - Epoch: 7, Valid Time: 0.297208, Valid Loss: 0.057024, Valid Loss Improve: -0.100509\r\n",
      "2024-05-14 11:51:22,056 - Update learning rate to 7.297252973710758e-05\r\n",
      "2024-05-14 11:51:24,310 - Epoch: 8, Train Time: 1.989914, Train Loss: 0.123727\r\n",
      "2024-05-14 11:51:24,589 - Epoch: 8, Valid Time: 0.277849, Valid Loss: 0.052435, Valid Loss Improve: -0.011952\r\n",
      "2024-05-14 11:51:25,784 - Update learning rate to 6.579634122155991e-05\r\n",
      "2024-05-14 11:51:28,026 - Epoch: 9, Train Time: 1.963851, Train Loss: 0.122606\r\n",
      "2024-05-14 11:51:28,316 - Epoch: 9, Valid Time: 0.289597, Valid Loss: 0.046702, Valid Loss Improve: 0.098686\r\n",
      "2024-05-14 11:51:29,520 - Saving best model!\r\n",
      "2024-05-14 11:51:29,521 - Update learning rate to 5.824350601949144e-05\r\n",
      "2024-05-14 11:51:31,756 - Epoch: 10, Train Time: 1.961262, Train Loss: 0.116060\r\n",
      "2024-05-14 11:51:32,063 - Epoch: 10, Valid Time: 0.306122, Valid Loss: 0.043997, Valid Loss Improve: 0.057937\r\n",
      "2024-05-14 11:51:34,538 - Saving best model!\r\n",
      "2024-05-14 11:51:34,538 - Update learning rate to 5.050000000000001e-05\r\n",
      "2024-05-14 11:51:34,539 - Start testing!\r\n",
      "2024-05-14 11:51:37,059 - Setting: illness_36_24, MSE: 0.777679, MAE: 0.667189\r\n",
      "2024-05-14 11:51:38,918 - Setting: illness_36_36, MSE: 0.737790, MAE: 0.671009\r\n",
      "2024-05-14 11:51:40,678 - Setting: illness_36_48, MSE: 0.742833, MAE: 0.704385\r\n",
      "2024-05-14 11:51:42,343 - Setting: illness_36_60, MSE: 0.794294, MAE: 0.758177\r\n",
      "CPU times: user 778 ms, sys: 191 ms, total: 969 ms\n",
      "Wall time: 57.3 s\n"
     ]
    }
   ],
   "source": [
    "%%time\n",
    "!python run_univariate.py  --training_list execute_list/divided_list/illness.csv --max_token_num 17 --lm_layer_num 8 "
   ]
  },
  {
   "cell_type": "code",
   "execution_count": 10,
   "id": "f31d8121",
   "metadata": {
    "execution": {
     "iopub.execute_input": "2024-05-14T11:51:43.502969Z",
     "iopub.status.busy": "2024-05-14T11:51:43.502151Z",
     "iopub.status.idle": "2024-05-14T12:13:06.329221Z",
     "shell.execute_reply": "2024-05-14T12:13:06.327973Z"
    },
    "papermill": {
     "duration": 1282.857773,
     "end_time": "2024-05-14T12:13:06.331400",
     "exception": false,
     "start_time": "2024-05-14T11:51:43.473627",
     "status": "completed"
    },
    "tags": []
   },
   "outputs": [
    {
     "name": "stdout",
     "output_type": "stream",
     "text": [
      "Log directory: checkpoint_gpt2-small_full_divided_list_instruct_8_2_0.5_96\r\n",
      "2024-05-14 11:51:48,864 - Namespace(gpu=0, training_list='execute_list/divided_list/weather_train.csv', inference_list='execute_list/inference_all.csv', eval_model_path='', is_training=1, seed=2036, target='OT', label_len=0, lm_pretrain_model='gpt2-small', lm_ft_type='full', instruct_path='data_configs/instruct.json', zero_shot_instruct='', mask_rate=0.5, patch_len=16, max_token_num=17, max_backcast_len=96, max_forecast_len=720, lm_layer_num=8, dec_trans_layer_num=2, ts_embed_dropout=0.3, dec_head_dropout=0.1, num_workers=10, train_epochs=10, patience=10, learning_rate=0.0001, weight_decay=0, clip=5, checkpoint='checkpoint_gpt2-small_full_divided_list_instruct_8_2_0.5_96')\r\n",
      "2024-05-14 11:51:49,974 - Trainable Params: 96088320, All Params: 96088320, Percent: 1.0\r\n",
      "2024-05-14 11:51:49,975 - Trainable Params: 122717232, All Params: 122717232, Percent: 1.0\r\n",
      "2024-05-14 11:51:49,978 - ***** Task: weather_S_96_720_0.5_16_64 *****\r\n",
      "2024-05-14 11:51:50,142 - Mode: train, Sample Num: 36072, Batch Num: 563\r\n",
      "2024-05-14 11:51:50,143 - ***** Task: weather_S_96_720_0.5_16_64 *****\r\n",
      "2024-05-14 11:51:50,306 - Mode: val, Sample Num: 4551, Batch Num: 71\r\n",
      "2024-05-14 11:51:50,307 - ***** Task: weather_S_96_24_0.5_16_64 *****\r\n",
      "2024-05-14 11:51:50,469 - Mode: test, Sample Num: 10516, Batch Num: 10516\r\n",
      "2024-05-14 11:51:50,470 - ***** Task: weather_S_96_96_0.5_16_64 *****\r\n",
      "2024-05-14 11:51:50,631 - Mode: test, Sample Num: 10444, Batch Num: 10444\r\n",
      "2024-05-14 11:51:50,632 - ***** Task: weather_S_96_192_0.5_16_64 *****\r\n",
      "2024-05-14 11:51:50,794 - Mode: test, Sample Num: 10348, Batch Num: 10348\r\n",
      "2024-05-14 11:51:50,795 - ***** Task: weather_S_96_336_0.5_16_64 *****\r\n",
      "2024-05-14 11:51:50,962 - Mode: test, Sample Num: 10204, Batch Num: 10204\r\n",
      "2024-05-14 11:51:50,963 - ***** Task: weather_S_96_720_0.5_16_64 *****\r\n",
      "2024-05-14 11:51:51,125 - Mode: test, Sample Num: 9820, Batch Num: 9820\r\n",
      "2024-05-14 11:51:51,125 - Start training!\r\n",
      "2024-05-14 11:52:59,578 - Epoch: 1, Train Time: 68.261925, Train Loss: 1.162591\r\n",
      "2024-05-14 11:53:02,390 - Epoch: 1, Valid Time: 2.811071, Valid Loss: 0.005763, Valid Loss Improve: 0.998847\r\n",
      "2024-05-14 11:53:03,525 - Saving best model!\r\n",
      "2024-05-14 11:53:03,526 - Update learning rate to 9.939057285945933e-05\r\n",
      "2024-05-14 11:54:11,315 - Epoch: 2, Train Time: 67.512627, Train Loss: 1.009951\r\n",
      "2024-05-14 11:54:14,155 - Epoch: 2, Valid Time: 2.839975, Valid Loss: 0.005245, Valid Loss Improve: 0.089887\r\n",
      "2024-05-14 11:54:15,363 - Saving best model!\r\n",
      "2024-05-14 11:54:15,363 - Update learning rate to 9.757729755661012e-05\r\n",
      "2024-05-14 11:55:23,343 - Epoch: 3, Train Time: 67.688469, Train Loss: 0.992480\r\n",
      "2024-05-14 11:55:26,275 - Epoch: 3, Valid Time: 2.931892, Valid Loss: 0.006232, Valid Loss Improve: -0.188327\r\n",
      "2024-05-14 11:55:27,332 - Update learning rate to 9.460482294732422e-05\r\n",
      "2024-05-14 11:56:35,244 - Epoch: 4, Train Time: 67.597804, Train Loss: 0.994387\r\n",
      "2024-05-14 11:56:38,145 - Epoch: 4, Valid Time: 2.900696, Valid Loss: 0.005830, Valid Loss Improve: -0.111624\r\n",
      "2024-05-14 11:56:39,246 - Update learning rate to 9.054634122155992e-05\r\n",
      "2024-05-14 11:57:47,234 - Epoch: 5, Train Time: 67.671602, Train Loss: 0.967331\r\n",
      "2024-05-14 11:57:50,049 - Epoch: 5, Valid Time: 2.814314, Valid Loss: 0.005448, Valid Loss Improve: -0.038812\r\n",
      "2024-05-14 11:57:51,220 - Update learning rate to 8.550178566873411e-05\r\n",
      "2024-05-14 11:58:58,907 - Epoch: 6, Train Time: 67.381992, Train Loss: 0.960683\r\n",
      "2024-05-14 11:59:01,730 - Epoch: 6, Valid Time: 2.822273, Valid Loss: 0.006150, Valid Loss Improve: -0.172579\r\n",
      "2024-05-14 11:59:02,785 - Update learning rate to 7.959536998847744e-05\r\n",
      "2024-05-14 12:00:10,519 - Epoch: 7, Train Time: 67.372710, Train Loss: 0.956777\r\n",
      "2024-05-14 12:00:13,332 - Epoch: 7, Valid Time: 2.812528, Valid Loss: 0.006101, Valid Loss Improve: -0.163201\r\n",
      "2024-05-14 12:00:14,461 - Update learning rate to 7.297252973710758e-05\r\n",
      "2024-05-14 12:01:22,134 - Epoch: 8, Train Time: 67.352540, Train Loss: 0.960302\r\n",
      "2024-05-14 12:01:24,950 - Epoch: 8, Valid Time: 2.816112, Valid Loss: 0.005741, Valid Loss Improve: -0.094638\r\n",
      "2024-05-14 12:01:26,038 - Update learning rate to 6.579634122155991e-05\r\n",
      "2024-05-14 12:02:34,334 - Epoch: 9, Train Time: 67.998292, Train Loss: 0.951927\r\n",
      "2024-05-14 12:02:37,221 - Epoch: 9, Valid Time: 2.886455, Valid Loss: 0.006038, Valid Loss Improve: -0.151201\r\n",
      "2024-05-14 12:02:38,325 - Update learning rate to 5.824350601949144e-05\r\n",
      "2024-05-14 12:03:46,381 - Epoch: 10, Train Time: 67.728920, Train Loss: 0.953245\r\n",
      "2024-05-14 12:03:49,284 - Epoch: 10, Valid Time: 2.902654, Valid Loss: 0.005680, Valid Loss Improve: -0.083050\r\n",
      "2024-05-14 12:03:50,379 - Update learning rate to 5.050000000000001e-05\r\n",
      "2024-05-14 12:03:50,380 - Start testing!\r\n",
      "2024-05-14 12:05:41,033 - Setting: weather_96_24, MSE: 0.000957, MAE: 0.022074\r\n",
      "2024-05-14 12:07:33,859 - Setting: weather_96_96, MSE: 0.001425, MAE: 0.027780\r\n",
      "2024-05-14 12:09:29,247 - Setting: weather_96_192, MSE: 0.001673, MAE: 0.030606\r\n",
      "2024-05-14 12:11:19,872 - Setting: weather_96_336, MSE: 0.001794, MAE: 0.031975\r\n",
      "2024-05-14 12:13:05,191 - Setting: weather_96_720, MSE: 0.002266, MAE: 0.036240\r\n",
      "CPU times: user 16.9 s, sys: 3.57 s, total: 20.4 s\n",
      "Wall time: 21min 22s\n"
     ]
    }
   ],
   "source": [
    "%%time\n",
    "!python run_univariate.py  --training_list execute_list/divided_list/weather_train.csv --max_token_num 17 --lm_layer_num 8 "
   ]
  },
  {
   "cell_type": "code",
   "execution_count": 11,
   "id": "7143f40c",
   "metadata": {
    "execution": {
     "iopub.execute_input": "2024-05-14T12:13:06.396311Z",
     "iopub.status.busy": "2024-05-14T12:13:06.395473Z",
     "iopub.status.idle": "2024-05-14T12:14:13.419144Z",
     "shell.execute_reply": "2024-05-14T12:14:13.417767Z"
    },
    "papermill": {
     "duration": 67.058563,
     "end_time": "2024-05-14T12:14:13.421543",
     "exception": false,
     "start_time": "2024-05-14T12:13:06.362980",
     "status": "completed"
    },
    "tags": []
   },
   "outputs": [
    {
     "name": "stdout",
     "output_type": "stream",
     "text": [
      "Log directory: checkpoint_gpt2-small_full_divided_list_instruct_8_2_0.5_96\r\n",
      "2024-05-14 12:13:11,945 - Namespace(gpu=0, training_list='execute_list/divided_list/de_small_train.csv', inference_list='execute_list/inference_all.csv', eval_model_path='', is_training=1, seed=2036, target='OT', label_len=0, lm_pretrain_model='gpt2-small', lm_ft_type='full', instruct_path='data_configs/instruct.json', zero_shot_instruct='', mask_rate=0.5, patch_len=16, max_token_num=30, max_backcast_len=96, max_forecast_len=720, lm_layer_num=8, dec_trans_layer_num=2, ts_embed_dropout=0.3, dec_head_dropout=0.1, num_workers=10, train_epochs=10, patience=10, learning_rate=0.0001, weight_decay=0, clip=5, checkpoint='checkpoint_gpt2-small_full_divided_list_instruct_8_2_0.5_96')\r\n",
      "2024-05-14 12:13:13,159 - Trainable Params: 96088320, All Params: 96088320, Percent: 1.0\r\n",
      "2024-05-14 12:13:13,160 - Trainable Params: 130864176, All Params: 130864176, Percent: 1.0\r\n",
      "2024-05-14 12:13:13,164 - ***** Task: de_small_S_36_60_0.5_4_16 *****\r\n",
      "2024-05-14 12:13:13,170 - Mode: train, Sample Num: 581, Batch Num: 36\r\n",
      "2024-05-14 12:13:13,171 - ***** Task: de_small_S_36_60_0.5_4_16 *****\r\n",
      "2024-05-14 12:13:13,175 - Mode: val, Sample Num: 38, Batch Num: 2\r\n",
      "2024-05-14 12:13:13,176 - ***** Task: de_small_S_36_24_0.5_4_16 *****\r\n",
      "2024-05-14 12:13:13,181 - Mode: test, Sample Num: 170, Batch Num: 170\r\n",
      "2024-05-14 12:13:13,182 - ***** Task: de_small_S_36_36_0.5_4_16 *****\r\n",
      "2024-05-14 12:13:13,187 - Mode: test, Sample Num: 158, Batch Num: 158\r\n",
      "2024-05-14 12:13:13,188 - ***** Task: de_small_S_36_48_0.5_4_16 *****\r\n",
      "2024-05-14 12:13:13,192 - Mode: test, Sample Num: 146, Batch Num: 146\r\n",
      "2024-05-14 12:13:13,193 - ***** Task: de_small_S_36_60_0.5_4_16 *****\r\n",
      "2024-05-14 12:13:13,198 - Mode: test, Sample Num: 134, Batch Num: 134\r\n",
      "2024-05-14 12:13:13,198 - Start training!\r\n",
      "2024-05-14 12:13:16,691 - Epoch: 1, Train Time: 3.319954, Train Loss: 1.198282\r\n",
      "2024-05-14 12:13:17,008 - Epoch: 1, Valid Time: 0.316181, Valid Loss: 0.228707, Valid Loss Improve: 0.954259\r\n",
      "2024-05-14 12:13:18,202 - Saving best model!\r\n",
      "2024-05-14 12:13:18,202 - Update learning rate to 9.939057285945933e-05\r\n",
      "2024-05-14 12:13:20,969 - Epoch: 2, Train Time: 2.477730, Train Loss: 0.743337\r\n",
      "2024-05-14 12:13:21,281 - Epoch: 2, Valid Time: 0.312042, Valid Loss: 0.177084, Valid Loss Improve: 0.225716\r\n",
      "2024-05-14 12:13:23,616 - Saving best model!\r\n",
      "2024-05-14 12:13:23,617 - Update learning rate to 9.757729755661012e-05\r\n",
      "2024-05-14 12:13:26,359 - Epoch: 3, Train Time: 2.466510, Train Loss: 0.674633\r\n",
      "2024-05-14 12:13:26,651 - Epoch: 3, Valid Time: 0.291487, Valid Loss: 0.132028, Valid Loss Improve: 0.254435\r\n",
      "2024-05-14 12:13:28,699 - Saving best model!\r\n",
      "2024-05-14 12:13:28,700 - Update learning rate to 9.460482294732422e-05\r\n",
      "2024-05-14 12:13:31,455 - Epoch: 4, Train Time: 2.483671, Train Loss: 0.634423\r\n",
      "2024-05-14 12:13:31,747 - Epoch: 4, Valid Time: 0.291948, Valid Loss: 0.443454, Valid Loss Improve: -2.358795\r\n",
      "2024-05-14 12:13:33,983 - Update learning rate to 9.054634122155992e-05\r\n",
      "2024-05-14 12:13:36,721 - Epoch: 5, Train Time: 2.467075, Train Loss: 0.597535\r\n",
      "2024-05-14 12:13:37,054 - Epoch: 5, Valid Time: 0.332713, Valid Loss: 0.130724, Valid Loss Improve: 0.009871\r\n",
      "2024-05-14 12:13:39,035 - Saving best model!\r\n",
      "2024-05-14 12:13:39,035 - Update learning rate to 8.550178566873411e-05\r\n",
      "2024-05-14 12:13:41,808 - Epoch: 6, Train Time: 2.481789, Train Loss: 0.571133\r\n",
      "2024-05-14 12:13:42,194 - Epoch: 6, Valid Time: 0.386209, Valid Loss: 0.169839, Valid Loss Improve: -0.299214\r\n",
      "2024-05-14 12:13:44,082 - Update learning rate to 7.959536998847744e-05\r\n",
      "2024-05-14 12:13:46,828 - Epoch: 7, Train Time: 2.479636, Train Loss: 0.559471\r\n",
      "2024-05-14 12:13:47,142 - Epoch: 7, Valid Time: 0.313346, Valid Loss: 0.122640, Valid Loss Improve: 0.061840\r\n",
      "2024-05-14 12:13:49,157 - Saving best model!\r\n",
      "2024-05-14 12:13:49,157 - Update learning rate to 7.297252973710758e-05\r\n",
      "2024-05-14 12:13:51,937 - Epoch: 8, Train Time: 2.493022, Train Loss: 0.540509\r\n",
      "2024-05-14 12:13:52,271 - Epoch: 8, Valid Time: 0.333800, Valid Loss: 0.194197, Valid Loss Improve: -0.583465\r\n",
      "2024-05-14 12:13:54,235 - Update learning rate to 6.579634122155991e-05\r\n",
      "2024-05-14 12:13:57,074 - Epoch: 9, Train Time: 2.523179, Train Loss: 0.522289\r\n",
      "2024-05-14 12:13:57,410 - Epoch: 9, Valid Time: 0.335189, Valid Loss: 0.204947, Valid Loss Improve: -0.671124\r\n",
      "2024-05-14 12:13:59,475 - Update learning rate to 5.824350601949144e-05\r\n",
      "2024-05-14 12:14:02,316 - Epoch: 10, Train Time: 2.526306, Train Loss: 0.528220\r\n",
      "2024-05-14 12:14:02,644 - Epoch: 10, Valid Time: 0.327287, Valid Loss: 0.227261, Valid Loss Improve: -0.853067\r\n",
      "2024-05-14 12:14:03,850 - Update learning rate to 5.050000000000001e-05\r\n",
      "2024-05-14 12:14:03,851 - Start testing!\r\n",
      "2024-05-14 12:14:06,456 - Setting: de_small_36_24, MSE: 0.460157, MAE: 0.466155\r\n",
      "2024-05-14 12:14:08,536 - Setting: de_small_36_36, MSE: 0.487622, MAE: 0.491049\r\n",
      "2024-05-14 12:14:10,538 - Setting: de_small_36_48, MSE: 0.488304, MAE: 0.500565\r\n",
      "2024-05-14 12:14:12,263 - Setting: de_small_36_60, MSE: 0.479535, MAE: 0.504836\r\n",
      "CPU times: user 985 ms, sys: 203 ms, total: 1.19 s\n",
      "Wall time: 1min 7s\n"
     ]
    }
   ],
   "source": [
    "%%time\n",
    "!python run_univariate.py  --training_list execute_list/divided_list/de_small_train.csv --max_token_num 30 --lm_layer_num 8 "
   ]
  },
  {
   "cell_type": "code",
   "execution_count": 12,
   "id": "37a8b983",
   "metadata": {
    "execution": {
     "iopub.execute_input": "2024-05-14T12:14:13.495476Z",
     "iopub.status.busy": "2024-05-14T12:14:13.495072Z",
     "iopub.status.idle": "2024-05-14T12:22:07.225653Z",
     "shell.execute_reply": "2024-05-14T12:22:07.224349Z"
    },
    "papermill": {
     "duration": 473.769898,
     "end_time": "2024-05-14T12:22:07.227963",
     "exception": false,
     "start_time": "2024-05-14T12:14:13.458065",
     "status": "completed"
    },
    "tags": []
   },
   "outputs": [
    {
     "name": "stdout",
     "output_type": "stream",
     "text": [
      "Log directory: checkpoint_gpt2-small_full_divided_list_instruct_8_2_0.5_96\r\n",
      "2024-05-14 12:14:18,816 - Namespace(gpu=0, training_list='execute_list/divided_list/de_big_train.csv', inference_list='execute_list/inference_all.csv', eval_model_path='', is_training=1, seed=2036, target='OT', label_len=0, lm_pretrain_model='gpt2-small', lm_ft_type='full', instruct_path='data_configs/instruct.json', zero_shot_instruct='', mask_rate=0.5, patch_len=16, max_token_num=30, max_backcast_len=96, max_forecast_len=720, lm_layer_num=8, dec_trans_layer_num=2, ts_embed_dropout=0.3, dec_head_dropout=0.1, num_workers=10, train_epochs=10, patience=10, learning_rate=0.0001, weight_decay=0, clip=5, checkpoint='checkpoint_gpt2-small_full_divided_list_instruct_8_2_0.5_96')\r\n",
      "2024-05-14 12:14:20,043 - Trainable Params: 96088320, All Params: 96088320, Percent: 1.0\r\n",
      "2024-05-14 12:14:20,045 - Trainable Params: 130864176, All Params: 130864176, Percent: 1.0\r\n",
      "2024-05-14 12:14:20,048 - ***** Task: de_big_S_96_720_0.5_16_32 *****\r\n",
      "2024-05-14 12:14:20,075 - Mode: train, Sample Num: 7825, Batch Num: 244\r\n",
      "2024-05-14 12:14:20,076 - ***** Task: de_big_S_96_720_0.5_16_32 *****\r\n",
      "2024-05-14 12:14:20,100 - Mode: val, Sample Num: 2161, Batch Num: 67\r\n",
      "2024-05-14 12:14:20,101 - ***** Task: de_big_S_96_24_0.5_16_32 *****\r\n",
      "2024-05-14 12:14:20,126 - Mode: test, Sample Num: 2857, Batch Num: 2857\r\n",
      "2024-05-14 12:14:20,126 - ***** Task: de_big_S_96_96_0.5_16_32 *****\r\n",
      "2024-05-14 12:14:20,151 - Mode: test, Sample Num: 2785, Batch Num: 2785\r\n",
      "2024-05-14 12:14:20,152 - ***** Task: de_big_S_96_192_0.5_16_32 *****\r\n",
      "2024-05-14 12:14:20,177 - Mode: test, Sample Num: 2689, Batch Num: 2689\r\n",
      "2024-05-14 12:14:20,178 - ***** Task: de_big_S_96_336_0.5_16_32 *****\r\n",
      "2024-05-14 12:14:20,203 - Mode: test, Sample Num: 2545, Batch Num: 2545\r\n",
      "2024-05-14 12:14:20,204 - ***** Task: de_big_S_96_720_0.5_16_32 *****\r\n",
      "2024-05-14 12:14:20,229 - Mode: test, Sample Num: 2161, Batch Num: 2161\r\n",
      "2024-05-14 12:14:20,229 - Start training!\r\n",
      "2024-05-14 12:14:47,102 - Epoch: 1, Train Time: 26.699433, Train Loss: 0.606477\r\n",
      "2024-05-14 12:14:49,445 - Epoch: 1, Valid Time: 2.343301, Valid Loss: 0.160957, Valid Loss Improve: 0.967809\r\n",
      "2024-05-14 12:14:50,699 - Saving best model!\r\n",
      "2024-05-14 12:14:50,700 - Update learning rate to 9.939057285945933e-05\r\n",
      "2024-05-14 12:15:16,856 - Epoch: 2, Train Time: 25.884727, Train Loss: 0.392550\r\n",
      "2024-05-14 12:15:19,195 - Epoch: 2, Valid Time: 2.338704, Valid Loss: 0.153618, Valid Loss Improve: 0.045597\r\n",
      "2024-05-14 12:15:20,382 - Saving best model!\r\n",
      "2024-05-14 12:15:20,383 - Update learning rate to 9.757729755661012e-05\r\n",
      "2024-05-14 12:15:46,636 - Epoch: 3, Train Time: 25.989455, Train Loss: 0.365303\r\n",
      "2024-05-14 12:15:49,094 - Epoch: 3, Valid Time: 2.457619, Valid Loss: 0.166131, Valid Loss Improve: -0.081459\r\n",
      "2024-05-14 12:15:50,231 - Update learning rate to 9.460482294732422e-05\r\n",
      "2024-05-14 12:16:16,555 - Epoch: 4, Train Time: 26.042980, Train Loss: 0.351631\r\n",
      "2024-05-14 12:16:18,946 - Epoch: 4, Valid Time: 2.389938, Valid Loss: 0.175750, Valid Loss Improve: -0.144074\r\n",
      "2024-05-14 12:16:20,223 - Update learning rate to 9.054634122155992e-05\r\n",
      "2024-05-14 12:16:46,932 - Epoch: 5, Train Time: 26.419758, Train Loss: 0.339788\r\n",
      "2024-05-14 12:16:49,352 - Epoch: 5, Valid Time: 2.419320, Valid Loss: 0.134860, Valid Loss Improve: 0.122105\r\n",
      "2024-05-14 12:16:50,742 - Saving best model!\r\n",
      "2024-05-14 12:16:50,742 - Update learning rate to 8.550178566873411e-05\r\n",
      "2024-05-14 12:17:17,375 - Epoch: 6, Train Time: 26.320432, Train Loss: 0.333692\r\n",
      "2024-05-14 12:17:19,868 - Epoch: 6, Valid Time: 2.492526, Valid Loss: 0.145380, Valid Loss Improve: -0.078006\r\n",
      "2024-05-14 12:17:21,239 - Update learning rate to 7.959536998847744e-05\r\n",
      "2024-05-14 12:17:48,147 - Epoch: 7, Train Time: 26.447592, Train Loss: 0.327172\r\n",
      "2024-05-14 12:17:50,601 - Epoch: 7, Valid Time: 2.453724, Valid Loss: 0.166252, Valid Loss Improve: -0.232775\r\n",
      "2024-05-14 12:17:51,898 - Update learning rate to 7.297252973710758e-05\r\n",
      "2024-05-14 12:18:18,609 - Epoch: 8, Train Time: 26.389847, Train Loss: 0.323991\r\n",
      "2024-05-14 12:18:21,077 - Epoch: 8, Valid Time: 2.467341, Valid Loss: 0.167600, Valid Loss Improve: -0.242767\r\n",
      "2024-05-14 12:18:22,397 - Update learning rate to 6.579634122155991e-05\r\n",
      "2024-05-14 12:18:49,140 - Epoch: 9, Train Time: 26.396077, Train Loss: 0.315689\r\n",
      "2024-05-14 12:18:51,621 - Epoch: 9, Valid Time: 2.480397, Valid Loss: 0.143921, Valid Loss Improve: -0.067186\r\n",
      "2024-05-14 12:18:52,896 - Update learning rate to 5.824350601949144e-05\r\n",
      "2024-05-14 12:19:19,610 - Epoch: 10, Train Time: 26.366501, Train Loss: 0.309470\r\n",
      "2024-05-14 12:19:22,060 - Epoch: 10, Valid Time: 2.449746, Valid Loss: 0.139457, Valid Loss Improve: -0.034086\r\n",
      "2024-05-14 12:19:23,420 - Update learning rate to 5.050000000000001e-05\r\n",
      "2024-05-14 12:19:23,420 - Start testing!\r\n",
      "2024-05-14 12:19:58,255 - Setting: de_big_96_24, MSE: 0.151462, MAE: 0.263267\r\n",
      "2024-05-14 12:20:33,274 - Setting: de_big_96_96, MSE: 0.211663, MAE: 0.307550\r\n",
      "2024-05-14 12:21:07,083 - Setting: de_big_96_192, MSE: 0.225795, MAE: 0.323473\r\n",
      "2024-05-14 12:21:39,072 - Setting: de_big_96_336, MSE: 0.282779, MAE: 0.360394\r\n",
      "2024-05-14 12:22:05,917 - Setting: de_big_96_720, MSE: 0.411838, MAE: 0.437031\r\n",
      "CPU times: user 7.48 s, sys: 1.48 s, total: 8.97 s\n",
      "Wall time: 7min 53s\n"
     ]
    }
   ],
   "source": [
    "%%time\n",
    "!python run_univariate.py  --training_list execute_list/divided_list/de_big_train.csv --max_token_num 30 --lm_layer_num 8 "
   ]
  }
 ],
 "metadata": {
  "kaggle": {
   "accelerator": "gpu",
   "dataSources": [],
   "dockerImageVersionId": 30699,
   "isGpuEnabled": true,
   "isInternetEnabled": true,
   "language": "python",
   "sourceType": "notebook"
  },
  "kernelspec": {
   "display_name": "Python 3",
   "language": "python",
   "name": "python3"
  },
  "language_info": {
   "codemirror_mode": {
    "name": "ipython",
    "version": 3
   },
   "file_extension": ".py",
   "mimetype": "text/x-python",
   "name": "python",
   "nbconvert_exporter": "python",
   "pygments_lexer": "ipython3",
   "version": "3.10.13"
  },
  "papermill": {
   "default_parameters": {},
   "duration": 5521.957005,
   "end_time": "2024-05-14T12:22:07.602987",
   "environment_variables": {},
   "exception": null,
   "input_path": "__notebook__.ipynb",
   "output_path": "__notebook__.ipynb",
   "parameters": {},
   "start_time": "2024-05-14T10:50:05.645982",
   "version": "2.5.0"
  }
 },
 "nbformat": 4,
 "nbformat_minor": 5
}
