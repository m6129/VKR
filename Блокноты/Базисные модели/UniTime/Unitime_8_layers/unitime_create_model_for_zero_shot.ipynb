{
 "cells": [
  {
   "cell_type": "code",
   "execution_count": 1,
   "id": "c5b40cf3",
   "metadata": {
    "_cell_guid": "b1076dfc-b9ad-4769-8c92-a6c4dae69d19",
    "_uuid": "8f2839f25d086af736a60e9eeb907d3b93b6e0e5",
    "execution": {
     "iopub.execute_input": "2024-05-14T13:50:57.989982Z",
     "iopub.status.busy": "2024-05-14T13:50:57.989300Z",
     "iopub.status.idle": "2024-05-14T13:51:16.902066Z",
     "shell.execute_reply": "2024-05-14T13:51:16.900983Z"
    },
    "papermill": {
     "duration": 18.92025,
     "end_time": "2024-05-14T13:51:16.904545",
     "exception": false,
     "start_time": "2024-05-14T13:50:57.984295",
     "status": "completed"
    },
    "tags": []
   },
   "outputs": [
    {
     "name": "stdout",
     "output_type": "stream",
     "text": [
      "Cloning into 'UniTime_for_Kaggle'...\r\n",
      "remote: Enumerating objects: 195, done.\u001b[K\r\n",
      "remote: Counting objects: 100% (195/195), done.\u001b[K\r\n",
      "remote: Compressing objects: 100% (169/169), done.\u001b[K\r\n",
      "remote: Total 195 (delta 115), reused 71 (delta 23), pack-reused 0\u001b[K\r\n",
      "Receiving objects: 100% (195/195), 494.84 KiB | 17.06 MiB/s, done.\r\n",
      "Resolving deltas: 100% (115/115), done.\r\n",
      "Downloading...\r\n",
      "From: https://drive.google.com/uc?id=1WMKg7KevVEEd9jrfLG8mcpOequZMbjlM\r\n",
      "To: /kaggle/working/illness.zip\r\n",
      "100%|██████████████████████████████████████| 26.0k/26.0k [00:00<00:00, 64.1MB/s]\r\n",
      "Archive:  /kaggle/working/illness.zip\r\n",
      "   creating: illness/\r\n",
      "  inflating: illness/national_illness.csv  \r\n"
     ]
    }
   ],
   "source": [
    "!pip install gdown -q # для загрузки файлов с гугл-диска\n",
    "\n",
    "!git clone https://github.com/m6129/UniTime_for_Kaggle.git\n",
    "# подгрузка наборов данных    \n",
    "!gdown --fuzzy https://drive.google.com/file/d/1WMKg7KevVEEd9jrfLG8mcpOequZMbjlM/view?usp=drive_link\n",
    "!unzip /kaggle/working/illness.zip"
   ]
  },
  {
   "cell_type": "code",
   "execution_count": 2,
   "id": "726f2b85",
   "metadata": {
    "execution": {
     "iopub.execute_input": "2024-05-14T13:51:16.914412Z",
     "iopub.status.busy": "2024-05-14T13:51:16.914099Z",
     "iopub.status.idle": "2024-05-14T13:51:16.919974Z",
     "shell.execute_reply": "2024-05-14T13:51:16.919184Z"
    },
    "papermill": {
     "duration": 0.012964,
     "end_time": "2024-05-14T13:51:16.921884",
     "exception": false,
     "start_time": "2024-05-14T13:51:16.908920",
     "status": "completed"
    },
    "tags": []
   },
   "outputs": [
    {
     "name": "stdout",
     "output_type": "stream",
     "text": [
      "/kaggle/working/UniTime_for_Kaggle\n"
     ]
    }
   ],
   "source": [
    "cd UniTime_for_Kaggle"
   ]
  },
  {
   "cell_type": "code",
   "execution_count": 3,
   "id": "9e1ff164",
   "metadata": {
    "execution": {
     "iopub.execute_input": "2024-05-14T13:51:16.930688Z",
     "iopub.status.busy": "2024-05-14T13:51:16.930427Z",
     "iopub.status.idle": "2024-05-14T13:51:17.863823Z",
     "shell.execute_reply": "2024-05-14T13:51:17.862584Z"
    },
    "papermill": {
     "duration": 0.940499,
     "end_time": "2024-05-14T13:51:17.866259",
     "exception": false,
     "start_time": "2024-05-14T13:51:16.925760",
     "status": "completed"
    },
    "tags": []
   },
   "outputs": [],
   "source": [
    "!mv /kaggle/working/illness/ /kaggle/working/UniTime_for_Kaggle/dataset"
   ]
  },
  {
   "cell_type": "markdown",
   "id": "dedffcea",
   "metadata": {
    "papermill": {
     "duration": 0.003839,
     "end_time": "2024-05-14T13:51:17.874506",
     "exception": false,
     "start_time": "2024-05-14T13:51:17.870667",
     "status": "completed"
    },
    "tags": []
   },
   "source": [
    "**комментарий**:\n",
    "один прогон блокнота, создаёт одну модель, так как они перезаписывают поверх предыдущей модели"
   ]
  },
  {
   "cell_type": "markdown",
   "id": "ba7246f4",
   "metadata": {
    "papermill": {
     "duration": 0.003745,
     "end_time": "2024-05-14T13:51:17.882135",
     "exception": false,
     "start_time": "2024-05-14T13:51:17.878390",
     "status": "completed"
    },
    "tags": []
   },
   "source": [
    "**создание модели на 17 токенов, 4 слоя**"
   ]
  },
  {
   "cell_type": "code",
   "execution_count": 4,
   "id": "b4cc8994",
   "metadata": {
    "execution": {
     "iopub.execute_input": "2024-05-14T13:51:17.891338Z",
     "iopub.status.busy": "2024-05-14T13:51:17.890990Z",
     "iopub.status.idle": "2024-05-14T13:51:17.895405Z",
     "shell.execute_reply": "2024-05-14T13:51:17.894563Z"
    },
    "papermill": {
     "duration": 0.011396,
     "end_time": "2024-05-14T13:51:17.897364",
     "exception": false,
     "start_time": "2024-05-14T13:51:17.885968",
     "status": "completed"
    },
    "tags": []
   },
   "outputs": [],
   "source": [
    "#%%time\n",
    "#!python run_univariate.py  --training_list execute_list/Illness_train.csv --max_token_num 17 --lm_layer_num 4 --train_epochs 1\n",
    "# --lm_layer_num 4 число слоёв уменьшено c 6 до 4, так как не хватило памяти графическому вычислителю"
   ]
  },
  {
   "cell_type": "markdown",
   "id": "226a7663",
   "metadata": {
    "papermill": {
     "duration": 0.00375,
     "end_time": "2024-05-14T13:51:17.905264",
     "exception": false,
     "start_time": "2024-05-14T13:51:17.901514",
     "status": "completed"
    },
    "tags": []
   },
   "source": [
    "**создание модели на 30 токенов, 4 слоя**"
   ]
  },
  {
   "cell_type": "code",
   "execution_count": 5,
   "id": "bbbcba6a",
   "metadata": {
    "execution": {
     "iopub.execute_input": "2024-05-14T13:51:17.914197Z",
     "iopub.status.busy": "2024-05-14T13:51:17.913948Z",
     "iopub.status.idle": "2024-05-14T13:51:17.917638Z",
     "shell.execute_reply": "2024-05-14T13:51:17.916852Z"
    },
    "papermill": {
     "duration": 0.010291,
     "end_time": "2024-05-14T13:51:17.919548",
     "exception": false,
     "start_time": "2024-05-14T13:51:17.909257",
     "status": "completed"
    },
    "tags": []
   },
   "outputs": [],
   "source": [
    "#%%time\n",
    "#!python run_univariate.py  --training_list execute_list/Illness_train.csv --max_token_num 30 --lm_layer_num 4 --train_epochs 1\n",
    "# --lm_layer_num 4 число слоёв уменьшено c 6 до 4, так как не хватило памяти графическому вычислителю"
   ]
  },
  {
   "cell_type": "markdown",
   "id": "d0fcd102",
   "metadata": {
    "papermill": {
     "duration": 0.003774,
     "end_time": "2024-05-14T13:51:17.927222",
     "exception": false,
     "start_time": "2024-05-14T13:51:17.923448",
     "status": "completed"
    },
    "tags": []
   },
   "source": [
    "--------------------------------- для нового исследования-----------------------\n",
    "**создание модели на 30 токенов, 8 слоёв**"
   ]
  },
  {
   "cell_type": "code",
   "execution_count": 6,
   "id": "681f51aa",
   "metadata": {
    "execution": {
     "iopub.execute_input": "2024-05-14T13:51:17.936738Z",
     "iopub.status.busy": "2024-05-14T13:51:17.936143Z",
     "iopub.status.idle": "2024-05-14T13:51:46.164667Z",
     "shell.execute_reply": "2024-05-14T13:51:46.163449Z"
    },
    "papermill": {
     "duration": 28.235332,
     "end_time": "2024-05-14T13:51:46.166707",
     "exception": false,
     "start_time": "2024-05-14T13:51:17.931375",
     "status": "completed"
    },
    "tags": []
   },
   "outputs": [
    {
     "name": "stdout",
     "output_type": "stream",
     "text": [
      "Log directory: checkpoint_gpt2-small_full_Illness_train_instruct_8_2_0.5_96\r\n",
      "2024-05-14 13:51:26,982 - Namespace(gpu=0, training_list='execute_list/Illness_train.csv', inference_list='execute_list/inference_all.csv', eval_model_path='', is_training=1, seed=2036, target='OT', label_len=0, lm_pretrain_model='gpt2-small', lm_ft_type='full', instruct_path='data_configs/instruct.json', zero_shot_instruct='', mask_rate=0.5, patch_len=16, max_token_num=30, max_backcast_len=96, max_forecast_len=720, lm_layer_num=8, dec_trans_layer_num=2, ts_embed_dropout=0.3, dec_head_dropout=0.1, num_workers=10, train_epochs=1, patience=10, learning_rate=0.0001, weight_decay=0, clip=5, checkpoint='checkpoint_gpt2-small_full_Illness_train_instruct_8_2_0.5_96')\r\n",
      "tokenizer_config.json: 100%|██████████████████| 26.0/26.0 [00:00<00:00, 141kB/s]\r\n",
      "vocab.json: 100%|██████████████████████████| 1.04M/1.04M [00:00<00:00, 2.68MB/s]\r\n",
      "merges.txt: 100%|████████████████████████████| 456k/456k [00:00<00:00, 12.9MB/s]\r\n",
      "tokenizer.json: 100%|██████████████████████| 1.36M/1.36M [00:00<00:00, 53.8MB/s]\r\n",
      "config.json: 100%|█████████████████████████████| 665/665 [00:00<00:00, 3.73MB/s]\r\n",
      "model.safetensors: 100%|██████████████████████| 548M/548M [00:01<00:00, 337MB/s]\r\n",
      "generation_config.json: 100%|███████████████████| 124/124 [00:00<00:00, 663kB/s]\r\n",
      "2024-05-14 13:51:32,420 - Trainable Params: 96088320, All Params: 96088320, Percent: 1.0\r\n",
      "2024-05-14 13:51:32,421 - Trainable Params: 130864176, All Params: 130864176, Percent: 1.0\r\n",
      "2024-05-14 13:51:32,430 - ***** Task: illness_S_36_60_0.5_4_16 *****\r\n",
      "2024-05-14 13:51:32,443 - Mode: train, Sample Num: 581, Batch Num: 36\r\n",
      "2024-05-14 13:51:32,444 - ***** Task: illness_S_36_24_0.5_4_16 *****\r\n",
      "2024-05-14 13:51:32,450 - Mode: test, Sample Num: 170, Batch Num: 170\r\n",
      "2024-05-14 13:51:32,451 - ***** Task: illness_S_36_36_0.5_4_16 *****\r\n",
      "2024-05-14 13:51:32,455 - Mode: test, Sample Num: 158, Batch Num: 158\r\n",
      "2024-05-14 13:51:32,456 - ***** Task: illness_S_36_48_0.5_4_16 *****\r\n",
      "2024-05-14 13:51:32,460 - Mode: test, Sample Num: 146, Batch Num: 146\r\n",
      "2024-05-14 13:51:32,461 - ***** Task: illness_S_36_60_0.5_4_16 *****\r\n",
      "2024-05-14 13:51:32,465 - Mode: test, Sample Num: 134, Batch Num: 134\r\n",
      "2024-05-14 13:51:32,466 - Start training!\r\n",
      "2024-05-14 13:51:35,967 - Epoch: 1, Train Time: 3.375851, Train Loss: 0.277433\r\n",
      "2024-05-14 13:51:35,967 - Epoch: 1, Valid Time: 0.000184, Valid Loss: nan, Valid Loss Improve: 0.000000\r\n",
      "2024-05-14 13:51:36,803 - Saving best model!\r\n",
      "2024-05-14 13:51:36,804 - Update learning rate to 9.939057285945933e-05\r\n",
      "2024-05-14 13:51:36,804 - Start testing!\r\n",
      "2024-05-14 13:51:39,277 - Setting: illness_36_24, MSE: 0.727476, MAE: 0.663456\r\n",
      "2024-05-14 13:51:41,123 - Setting: illness_36_36, MSE: 0.772053, MAE: 0.712246\r\n",
      "2024-05-14 13:51:42,811 - Setting: illness_36_48, MSE: 0.782646, MAE: 0.727803\r\n",
      "2024-05-14 13:51:44,614 - Setting: illness_36_60, MSE: 0.809106, MAE: 0.754094\r\n",
      "CPU times: user 399 ms, sys: 96.7 ms, total: 496 ms\n",
      "Wall time: 28.2 s\n"
     ]
    }
   ],
   "source": [
    "%%time\n",
    "!python run_univariate.py  --training_list execute_list/Illness_train.csv --max_token_num 30 --lm_layer_num 8 --train_epochs 1"
   ]
  }
 ],
 "metadata": {
  "kaggle": {
   "accelerator": "gpu",
   "dataSources": [],
   "dockerImageVersionId": 30699,
   "isGpuEnabled": true,
   "isInternetEnabled": true,
   "language": "python",
   "sourceType": "notebook"
  },
  "kernelspec": {
   "display_name": "Python 3",
   "language": "python",
   "name": "python3"
  },
  "language_info": {
   "codemirror_mode": {
    "name": "ipython",
    "version": 3
   },
   "file_extension": ".py",
   "mimetype": "text/x-python",
   "name": "python",
   "nbconvert_exporter": "python",
   "pygments_lexer": "ipython3",
   "version": "3.10.13"
  },
  "papermill": {
   "default_parameters": {},
   "duration": 51.189279,
   "end_time": "2024-05-14T13:51:46.492161",
   "environment_variables": {},
   "exception": null,
   "input_path": "__notebook__.ipynb",
   "output_path": "__notebook__.ipynb",
   "parameters": {},
   "start_time": "2024-05-14T13:50:55.302882",
   "version": "2.5.0"
  }
 },
 "nbformat": 4,
 "nbformat_minor": 5
}
