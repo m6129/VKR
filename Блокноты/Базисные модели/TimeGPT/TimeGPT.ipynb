{
  "nbformat": 4,
  "nbformat_minor": 0,
  "metadata": {
    "colab": {
      "provenance": []
    },
    "kernelspec": {
      "name": "python3",
      "display_name": "Python 3"
    },
    "language_info": {
      "name": "python"
    }
  },
  "cells": [
    {
      "cell_type": "markdown",
      "source": [
        "## установка библиотек, подгрузка API ключа, предобработка входных данных по правилам создателей TimeGPT"
      ],
      "metadata": {
        "id": "xPgrRx9_17pC"
      }
    },
    {
      "cell_type": "code",
      "execution_count": null,
      "metadata": {
        "id": "WBrp3zBDVr8U",
        "colab": {
          "base_uri": "https://localhost:8080/"
        },
        "outputId": "146ac000-bb66-4b85-c2fd-b32eed3bc78c"
      },
      "outputs": [
        {
          "output_type": "stream",
          "name": "stdout",
          "text": [
            "\u001b[2K     \u001b[90m━━━━━━━━━━━━━━━━━━━━━━━━━━━━━━━━━━━━━━━━\u001b[0m \u001b[32m71.7/71.7 kB\u001b[0m \u001b[31m1.2 MB/s\u001b[0m eta \u001b[36m0:00:00\u001b[0m\n",
            "\u001b[2K     \u001b[90m━━━━━━━━━━━━━━━━━━━━━━━━━━━━━━━━━━━━━━━━\u001b[0m \u001b[32m75.6/75.6 kB\u001b[0m \u001b[31m3.7 MB/s\u001b[0m eta \u001b[36m0:00:00\u001b[0m\n",
            "\u001b[2K     \u001b[90m━━━━━━━━━━━━━━━━━━━━━━━━━━━━━━━━━━━━━━━━\u001b[0m \u001b[32m40.3/40.3 kB\u001b[0m \u001b[31m3.3 MB/s\u001b[0m eta \u001b[36m0:00:00\u001b[0m\n",
            "\u001b[2K     \u001b[90m━━━━━━━━━━━━━━━━━━━━━━━━━━━━━━━━━━━━━━━━\u001b[0m \u001b[32m77.9/77.9 kB\u001b[0m \u001b[31m4.8 MB/s\u001b[0m eta \u001b[36m0:00:00\u001b[0m\n",
            "\u001b[2K     \u001b[90m━━━━━━━━━━━━━━━━━━━━━━━━━━━━━━━━━━━━━━━━\u001b[0m \u001b[32m58.3/58.3 kB\u001b[0m \u001b[31m4.0 MB/s\u001b[0m eta \u001b[36m0:00:00\u001b[0m\n",
            "\u001b[2K     \u001b[90m━━━━━━━━━━━━━━━━━━━━━━━━━━━━━━━━━━━━━━━━\u001b[0m \u001b[32m23.8/23.8 MB\u001b[0m \u001b[31m34.5 MB/s\u001b[0m eta \u001b[36m0:00:00\u001b[0m\n",
            "\u001b[2K     \u001b[90m━━━━━━━━━━━━━━━━━━━━━━━━━━━━━━━━━━━━━━━━\u001b[0m \u001b[32m129.9/129.9 kB\u001b[0m \u001b[31m10.0 MB/s\u001b[0m eta \u001b[36m0:00:00\u001b[0m\n",
            "\u001b[?25h"
          ]
        }
      ],
      "source": [
        "!pip install nixtlats -q # установка модели TimeGPT-1\n",
        "# метрики\n",
        "!pip install sktime -q\n",
        "from sktime.forecasting.model_selection import temporal_train_test_split # для разделения временных рядов на тренировочные и тестовые наборы.\n",
        "from sktime.performance_metrics.forecasting import  MeanAbsolutePercentageError\n",
        "smape = MeanAbsolutePercentageError(symmetric = True)#метрика sMAP\n",
        "from sklearn.metrics import mean_squared_error,mean_absolute_error #метрики\n",
        "from sklearn.model_selection import TimeSeriesSplit #для раздления набора данных\n",
        "import pandas as pd\n",
        "from prettytable import PrettyTable # для красоты и порядка"
      ]
    },
    {
      "cell_type": "code",
      "source": [
        "\n",
        "!pip install --upgrade gdown #https://github.com/wkentaro/gdown/issues/333\n",
        "!git clone https://github.com/zhouhaoyi/ETDataset # офицальный репозиторий температуры машинного масла\n",
        "!gdown --fuzzy https://drive.google.com/file/d/1nXdMIJ7K201Bx3IBGNiaNFQ6FzeDEzIr/view?usp=drive_link\n",
        "!gdown --fuzzy https://drive.google.com/file/d/1rN79CxW3Vldp-WDuSoG0bKq9tYQR79UK/view?usp=drive_link\n",
        "!gdown --fuzzy https://drive.google.com/file/d/1WMKg7KevVEEd9jrfLG8mcpOequZMbjlM/view?usp=drive_link\n",
        "!unzip /content/weather.zip\n",
        "!unzip /content/exchange_rate.zip\n",
        "!unzip /content/illness.zip"
      ],
      "metadata": {
        "id": "b7lXvsMz5k8U",
        "colab": {
          "base_uri": "https://localhost:8080/"
        },
        "outputId": "68dab779-4c05-4b6e-b294-267410935709"
      },
      "execution_count": null,
      "outputs": [
        {
          "output_type": "stream",
          "name": "stdout",
          "text": [
            "Requirement already satisfied: gdown in /usr/local/lib/python3.10/dist-packages (5.1.0)\n",
            "Requirement already satisfied: beautifulsoup4 in /usr/local/lib/python3.10/dist-packages (from gdown) (4.12.3)\n",
            "Requirement already satisfied: filelock in /usr/local/lib/python3.10/dist-packages (from gdown) (3.14.0)\n",
            "Requirement already satisfied: requests[socks] in /usr/local/lib/python3.10/dist-packages (from gdown) (2.31.0)\n",
            "Requirement already satisfied: tqdm in /usr/local/lib/python3.10/dist-packages (from gdown) (4.66.2)\n",
            "Requirement already satisfied: soupsieve>1.2 in /usr/local/lib/python3.10/dist-packages (from beautifulsoup4->gdown) (2.5)\n",
            "Requirement already satisfied: charset-normalizer<4,>=2 in /usr/local/lib/python3.10/dist-packages (from requests[socks]->gdown) (3.3.2)\n",
            "Requirement already satisfied: idna<4,>=2.5 in /usr/local/lib/python3.10/dist-packages (from requests[socks]->gdown) (3.7)\n",
            "Requirement already satisfied: urllib3<3,>=1.21.1 in /usr/local/lib/python3.10/dist-packages (from requests[socks]->gdown) (2.0.7)\n",
            "Requirement already satisfied: certifi>=2017.4.17 in /usr/local/lib/python3.10/dist-packages (from requests[socks]->gdown) (2024.2.2)\n",
            "Requirement already satisfied: PySocks!=1.5.7,>=1.5.6 in /usr/local/lib/python3.10/dist-packages (from requests[socks]->gdown) (1.7.1)\n",
            "Cloning into 'ETDataset'...\n",
            "remote: Enumerating objects: 187, done.\u001b[K\n",
            "remote: Counting objects: 100% (28/28), done.\u001b[K\n",
            "remote: Compressing objects: 100% (8/8), done.\u001b[K\n",
            "remote: Total 187 (delta 25), reused 20 (delta 20), pack-reused 159\u001b[K\n",
            "Receiving objects: 100% (187/187), 3.86 MiB | 4.63 MiB/s, done.\n",
            "Resolving deltas: 100% (62/62), done.\n",
            "Downloading...\n",
            "From: https://drive.google.com/uc?id=1nXdMIJ7K201Bx3IBGNiaNFQ6FzeDEzIr\n",
            "To: /content/weather.zip\n",
            "100% 2.29M/2.29M [00:00<00:00, 120MB/s]\n",
            "Downloading...\n",
            "From: https://drive.google.com/uc?id=1rN79CxW3Vldp-WDuSoG0bKq9tYQR79UK\n",
            "To: /content/exchange_rate.zip\n",
            "100% 194k/194k [00:00<00:00, 84.6MB/s]\n",
            "Downloading...\n",
            "From: https://drive.google.com/uc?id=1WMKg7KevVEEd9jrfLG8mcpOequZMbjlM\n",
            "To: /content/illness.zip\n",
            "100% 26.0k/26.0k [00:00<00:00, 43.8MB/s]\n",
            "Archive:  /content/weather.zip\n",
            "   creating: weather/\n",
            "  inflating: weather/weather.csv     \n",
            "Archive:  /content/exchange_rate.zip\n",
            "   creating: exchange_rate/\n",
            "  inflating: exchange_rate/.DS_Store  \n",
            "  inflating: exchange_rate/exchange_rate.csv  \n",
            "Archive:  /content/illness.zip\n",
            "   creating: illness/\n",
            "  inflating: illness/national_illness.csv  \n"
          ]
        }
      ]
    },
    {
      "cell_type": "code",
      "source": [
        "from google.colab import files\n",
        "uploaded = files.upload() # подгрузка токена в виртуальную среду"
      ],
      "metadata": {
        "colab": {
          "base_uri": "https://localhost:8080/",
          "height": 73
        },
        "id": "ZKPDndmKYMyf",
        "outputId": "d5d7657e-c304-4679-dedd-f6cc15bd15b6"
      },
      "execution_count": null,
      "outputs": [
        {
          "output_type": "display_data",
          "data": {
            "text/plain": [
              "<IPython.core.display.HTML object>"
            ],
            "text/html": [
              "\n",
              "     <input type=\"file\" id=\"files-eb26a425-3925-4152-bb72-120042e704cd\" name=\"files[]\" multiple disabled\n",
              "        style=\"border:none\" />\n",
              "     <output id=\"result-eb26a425-3925-4152-bb72-120042e704cd\">\n",
              "      Upload widget is only available when the cell has been executed in the\n",
              "      current browser session. Please rerun this cell to enable.\n",
              "      </output>\n",
              "      <script>// Copyright 2017 Google LLC\n",
              "//\n",
              "// Licensed under the Apache License, Version 2.0 (the \"License\");\n",
              "// you may not use this file except in compliance with the License.\n",
              "// You may obtain a copy of the License at\n",
              "//\n",
              "//      http://www.apache.org/licenses/LICENSE-2.0\n",
              "//\n",
              "// Unless required by applicable law or agreed to in writing, software\n",
              "// distributed under the License is distributed on an \"AS IS\" BASIS,\n",
              "// WITHOUT WARRANTIES OR CONDITIONS OF ANY KIND, either express or implied.\n",
              "// See the License for the specific language governing permissions and\n",
              "// limitations under the License.\n",
              "\n",
              "/**\n",
              " * @fileoverview Helpers for google.colab Python module.\n",
              " */\n",
              "(function(scope) {\n",
              "function span(text, styleAttributes = {}) {\n",
              "  const element = document.createElement('span');\n",
              "  element.textContent = text;\n",
              "  for (const key of Object.keys(styleAttributes)) {\n",
              "    element.style[key] = styleAttributes[key];\n",
              "  }\n",
              "  return element;\n",
              "}\n",
              "\n",
              "// Max number of bytes which will be uploaded at a time.\n",
              "const MAX_PAYLOAD_SIZE = 100 * 1024;\n",
              "\n",
              "function _uploadFiles(inputId, outputId) {\n",
              "  const steps = uploadFilesStep(inputId, outputId);\n",
              "  const outputElement = document.getElementById(outputId);\n",
              "  // Cache steps on the outputElement to make it available for the next call\n",
              "  // to uploadFilesContinue from Python.\n",
              "  outputElement.steps = steps;\n",
              "\n",
              "  return _uploadFilesContinue(outputId);\n",
              "}\n",
              "\n",
              "// This is roughly an async generator (not supported in the browser yet),\n",
              "// where there are multiple asynchronous steps and the Python side is going\n",
              "// to poll for completion of each step.\n",
              "// This uses a Promise to block the python side on completion of each step,\n",
              "// then passes the result of the previous step as the input to the next step.\n",
              "function _uploadFilesContinue(outputId) {\n",
              "  const outputElement = document.getElementById(outputId);\n",
              "  const steps = outputElement.steps;\n",
              "\n",
              "  const next = steps.next(outputElement.lastPromiseValue);\n",
              "  return Promise.resolve(next.value.promise).then((value) => {\n",
              "    // Cache the last promise value to make it available to the next\n",
              "    // step of the generator.\n",
              "    outputElement.lastPromiseValue = value;\n",
              "    return next.value.response;\n",
              "  });\n",
              "}\n",
              "\n",
              "/**\n",
              " * Generator function which is called between each async step of the upload\n",
              " * process.\n",
              " * @param {string} inputId Element ID of the input file picker element.\n",
              " * @param {string} outputId Element ID of the output display.\n",
              " * @return {!Iterable<!Object>} Iterable of next steps.\n",
              " */\n",
              "function* uploadFilesStep(inputId, outputId) {\n",
              "  const inputElement = document.getElementById(inputId);\n",
              "  inputElement.disabled = false;\n",
              "\n",
              "  const outputElement = document.getElementById(outputId);\n",
              "  outputElement.innerHTML = '';\n",
              "\n",
              "  const pickedPromise = new Promise((resolve) => {\n",
              "    inputElement.addEventListener('change', (e) => {\n",
              "      resolve(e.target.files);\n",
              "    });\n",
              "  });\n",
              "\n",
              "  const cancel = document.createElement('button');\n",
              "  inputElement.parentElement.appendChild(cancel);\n",
              "  cancel.textContent = 'Cancel upload';\n",
              "  const cancelPromise = new Promise((resolve) => {\n",
              "    cancel.onclick = () => {\n",
              "      resolve(null);\n",
              "    };\n",
              "  });\n",
              "\n",
              "  // Wait for the user to pick the files.\n",
              "  const files = yield {\n",
              "    promise: Promise.race([pickedPromise, cancelPromise]),\n",
              "    response: {\n",
              "      action: 'starting',\n",
              "    }\n",
              "  };\n",
              "\n",
              "  cancel.remove();\n",
              "\n",
              "  // Disable the input element since further picks are not allowed.\n",
              "  inputElement.disabled = true;\n",
              "\n",
              "  if (!files) {\n",
              "    return {\n",
              "      response: {\n",
              "        action: 'complete',\n",
              "      }\n",
              "    };\n",
              "  }\n",
              "\n",
              "  for (const file of files) {\n",
              "    const li = document.createElement('li');\n",
              "    li.append(span(file.name, {fontWeight: 'bold'}));\n",
              "    li.append(span(\n",
              "        `(${file.type || 'n/a'}) - ${file.size} bytes, ` +\n",
              "        `last modified: ${\n",
              "            file.lastModifiedDate ? file.lastModifiedDate.toLocaleDateString() :\n",
              "                                    'n/a'} - `));\n",
              "    const percent = span('0% done');\n",
              "    li.appendChild(percent);\n",
              "\n",
              "    outputElement.appendChild(li);\n",
              "\n",
              "    const fileDataPromise = new Promise((resolve) => {\n",
              "      const reader = new FileReader();\n",
              "      reader.onload = (e) => {\n",
              "        resolve(e.target.result);\n",
              "      };\n",
              "      reader.readAsArrayBuffer(file);\n",
              "    });\n",
              "    // Wait for the data to be ready.\n",
              "    let fileData = yield {\n",
              "      promise: fileDataPromise,\n",
              "      response: {\n",
              "        action: 'continue',\n",
              "      }\n",
              "    };\n",
              "\n",
              "    // Use a chunked sending to avoid message size limits. See b/62115660.\n",
              "    let position = 0;\n",
              "    do {\n",
              "      const length = Math.min(fileData.byteLength - position, MAX_PAYLOAD_SIZE);\n",
              "      const chunk = new Uint8Array(fileData, position, length);\n",
              "      position += length;\n",
              "\n",
              "      const base64 = btoa(String.fromCharCode.apply(null, chunk));\n",
              "      yield {\n",
              "        response: {\n",
              "          action: 'append',\n",
              "          file: file.name,\n",
              "          data: base64,\n",
              "        },\n",
              "      };\n",
              "\n",
              "      let percentDone = fileData.byteLength === 0 ?\n",
              "          100 :\n",
              "          Math.round((position / fileData.byteLength) * 100);\n",
              "      percent.textContent = `${percentDone}% done`;\n",
              "\n",
              "    } while (position < fileData.byteLength);\n",
              "  }\n",
              "\n",
              "  // All done.\n",
              "  yield {\n",
              "    response: {\n",
              "      action: 'complete',\n",
              "    }\n",
              "  };\n",
              "}\n",
              "\n",
              "scope.google = scope.google || {};\n",
              "scope.google.colab = scope.google.colab || {};\n",
              "scope.google.colab._files = {\n",
              "  _uploadFiles,\n",
              "  _uploadFilesContinue,\n",
              "};\n",
              "})(self);\n",
              "</script> "
            ]
          },
          "metadata": {}
        },
        {
          "output_type": "stream",
          "name": "stdout",
          "text": [
            "Saving diplom.json to diplom.json\n"
          ]
        }
      ]
    },
    {
      "cell_type": "code",
      "source": [
        "import json\n",
        "with open('diplom.json') as json_file:\n",
        "    data = json.load(json_file)\n",
        "    api_key = data['key'] # передаём в переменную api ключ"
      ],
      "metadata": {
        "id": "hEGIofUkYtJA"
      },
      "execution_count": null,
      "outputs": []
    },
    {
      "cell_type": "code",
      "source": [
        "from nixtlats import TimeGPT # импортируем некоторые необходимые библиотеки\n",
        "\n",
        "timegpt = TimeGPT(token = api_key) # проводим идентификацию ключа"
      ],
      "metadata": {
        "id": "3OoFwCIBWSy4",
        "colab": {
          "base_uri": "https://localhost:8080/"
        },
        "outputId": "2481710d-bf7c-4720-af78-22a52e83f445"
      },
      "execution_count": null,
      "outputs": [
        {
          "output_type": "stream",
          "name": "stderr",
          "text": [
            "/usr/local/lib/python3.10/dist-packages/nixtlats/__init__.py:5: FutureWarning: This package is deprecated, please install nixtla instead.\n",
            "  warnings.warn(\"This package is deprecated, please install nixtla instead.\", category=FutureWarning)\n",
            "/usr/local/lib/python3.10/dist-packages/nixtlats/nixtla_client.py:53: FutureWarning: `'token'` is deprecated; use `'api_key'` instead.\n",
            "  warnings.warn(\n",
            "/usr/local/lib/python3.10/dist-packages/nixtlats/nixtla_client.py:1604: FutureWarning: Class `TimeGPT` is deprecated; use `NixtlaClient` instead.\n",
            "  warnings.warn(\n"
          ]
        }
      ]
    },
    {
      "cell_type": "code",
      "source": [
        "ETTh1 = pd.read_csv('/content/ETDataset/ETT-small/ETTh1.csv')\n",
        "ETTh2 = pd.read_csv('/content/ETDataset/ETT-small/ETTh2.csv')\n",
        "ETTm1 = pd.read_csv('/content/ETDataset/ETT-small/ETTm1.csv')\n",
        "ETTm2 = pd.read_csv('/content/ETDataset/ETT-small/ETTm2.csv')\n",
        "exchange_rate = pd.read_csv('/content/exchange_rate/exchange_rate.csv')\n",
        "illness = pd.read_csv('/content/illness/national_illness.csv')\n",
        "weather = pd.read_csv('/content/weather/weather.csv')"
      ],
      "metadata": {
        "id": "qacDsGDUK6w5"
      },
      "execution_count": null,
      "outputs": []
    },
    {
      "cell_type": "code",
      "source": [
        "def TimeGPT_func_prep(df, ds, y):\n",
        "  '''обработка наборов данных по правилам Nixtla'''\n",
        "  df = df.rename(columns={ds: 'ds', y: 'y'}) # по правилам Nixtla\n",
        "  df['ds'] = pd.to_datetime(df['ds'])\n",
        "  df.index.name = 'unique_id' #\n",
        "  df.reset_index(inplace=True) #\n",
        "  df['unique_id'] = 1\n",
        "  last_column = df.iloc[:, -1] # копируем последний столбец\n",
        "  df = df.iloc[:, :-1] # удаляем последний столбец из исходного DataFrame\n",
        "  df.insert(2, 'y', last_column) # вставляем скопированный столбец на вторую позицию (индекс 1)\n",
        "  return df\n"
      ],
      "metadata": {
        "id": "1yoSUfVcolSw"
      },
      "execution_count": null,
      "outputs": []
    },
    {
      "cell_type": "code",
      "source": [
        "df_list = [ETTh1, ETTh2, ETTm1, ETTm2,  exchange_rate, illness, weather]\n",
        "for i, df in enumerate(df_list):\n",
        "    if i == 0:\n",
        "        ETTh1 = TimeGPT_func_prep(df, 'date', 'OT')\n",
        "    elif i == 1:\n",
        "        ETTh2 = TimeGPT_func_prep(df, 'date', 'OT')\n",
        "    elif i == 2:\n",
        "        ETTm1 = TimeGPT_func_prep(df, 'date', 'OT')\n",
        "    elif i == 3:\n",
        "        ETTm2 = TimeGPT_func_prep(df, 'date', 'OT')\n",
        "    elif i == 4:\n",
        "        exchange_rate = TimeGPT_func_prep(df, 'date', 'OT')\n",
        "    elif i == 5:\n",
        "        illness = TimeGPT_func_prep(df, 'date', 'OT')\n",
        "    elif i == 6:\n",
        "        weather = TimeGPT_func_prep(df, 'date', 'OT')"
      ],
      "metadata": {
        "id": "z43V_kC7t2QU"
      },
      "execution_count": null,
      "outputs": []
    },
    {
      "cell_type": "code",
      "source": [
        "def train_test_func(df):\n",
        "    train_size = int(len(df) * 0.8)\n",
        "    test_size = len(df) - train_size\n",
        "    X_train, X_test = df[0:train_size], df[train_size:len(df)]\n",
        "    return X_train, X_test\n",
        "\n",
        "# Создание словаря для хранения результатов\n",
        "split_data = {}\n",
        "\n",
        "# Применение функции к каждому датасету из списка df_list\n",
        "for df_name, df in zip(['ETTh1', 'ETTh2', 'ETTm1', 'ETTm2', 'exchange_rate', 'illness', 'weather'], df_list):\n",
        "    X_train, X_test = train_test_func(df)\n",
        "    split_data[f'{df_name}_train'] = X_train\n",
        "    split_data[f'{df_name}_test'] = X_test\n",
        "\n",
        "# Вывод размеров полученных выборок для каждого датасета\n",
        "for key, value in split_data.items():\n",
        "    print(f\"Размер {key}: {len(value)}\")\n"
      ],
      "metadata": {
        "colab": {
          "base_uri": "https://localhost:8080/"
        },
        "id": "5KAMK28hG-78",
        "outputId": "6a6be033-c62b-4858-a329-686245fe9c45"
      },
      "execution_count": null,
      "outputs": [
        {
          "output_type": "stream",
          "name": "stdout",
          "text": [
            "Размер ETTh1_train: 13936\n",
            "Размер ETTh1_test: 3484\n",
            "Размер ETTh2_train: 13936\n",
            "Размер ETTh2_test: 3484\n",
            "Размер ETTm1_train: 55744\n",
            "Размер ETTm1_test: 13936\n",
            "Размер ETTm2_train: 55744\n",
            "Размер ETTm2_test: 13936\n",
            "Размер exchange_rate_train: 6070\n",
            "Размер exchange_rate_test: 1518\n",
            "Размер illness_train: 772\n",
            "Размер illness_test: 194\n",
            "Размер weather_train: 42156\n",
            "Размер weather_test: 10540\n"
          ]
        }
      ]
    },
    {
      "cell_type": "code",
      "source": [
        "ETTh1_train, ETTh1_test = train_test_func(ETTh1)\n",
        "ETTh2_train, ETTh2_test = train_test_func(ETTh2)\n",
        "ETTm1_train, ETTm1_test = train_test_func(ETTm1)\n",
        "ETTm2_train, ETTm2_test = train_test_func(ETTm2)\n",
        "exchange_rate_train, exchange_rate_test = train_test_func(exchange_rate)\n",
        "illness_train, illness_test = train_test_func(illness)\n",
        "weather_train, weather_test = train_test_func(weather)"
      ],
      "metadata": {
        "id": "RlcpYo-tT7U8"
      },
      "execution_count": null,
      "outputs": []
    },
    {
      "cell_type": "code",
      "source": [
        "ETTh1_train_uni, ETTh1_test_uni = train_test_func(ETTh1[['ds','y']]) # TimeGPT работает только с одномерными временными рядами"
      ],
      "metadata": {
        "id": "AY1Y3Or8cN1w"
      },
      "execution_count": null,
      "outputs": []
    },
    {
      "cell_type": "code",
      "source": [
        "ETTh1_train_uni"
      ],
      "metadata": {
        "colab": {
          "base_uri": "https://localhost:8080/",
          "height": 424
        },
        "id": "so9m-g2ecgY_",
        "outputId": "742691d7-17d8-4ebd-bab9-73b55ae637e9"
      },
      "execution_count": null,
      "outputs": [
        {
          "output_type": "execute_result",
          "data": {
            "text/plain": [
              "                       ds          y\n",
              "0     2016-07-01 00:00:00  30.531000\n",
              "1     2016-07-01 01:00:00  27.787001\n",
              "2     2016-07-01 02:00:00  27.787001\n",
              "3     2016-07-01 03:00:00  25.044001\n",
              "4     2016-07-01 04:00:00  21.948000\n",
              "...                   ...        ...\n",
              "13931 2018-02-01 11:00:00   4.713000\n",
              "13932 2018-02-01 12:00:00   4.291000\n",
              "13933 2018-02-01 13:00:00   4.291000\n",
              "13934 2018-02-01 14:00:00   6.261000\n",
              "13935 2018-02-01 15:00:00   3.939000\n",
              "\n",
              "[13936 rows x 2 columns]"
            ],
            "text/html": [
              "\n",
              "  <div id=\"df-80c6e43f-2513-4c08-b5df-64b6f9757c1e\" class=\"colab-df-container\">\n",
              "    <div>\n",
              "<style scoped>\n",
              "    .dataframe tbody tr th:only-of-type {\n",
              "        vertical-align: middle;\n",
              "    }\n",
              "\n",
              "    .dataframe tbody tr th {\n",
              "        vertical-align: top;\n",
              "    }\n",
              "\n",
              "    .dataframe thead th {\n",
              "        text-align: right;\n",
              "    }\n",
              "</style>\n",
              "<table border=\"1\" class=\"dataframe\">\n",
              "  <thead>\n",
              "    <tr style=\"text-align: right;\">\n",
              "      <th></th>\n",
              "      <th>ds</th>\n",
              "      <th>y</th>\n",
              "    </tr>\n",
              "  </thead>\n",
              "  <tbody>\n",
              "    <tr>\n",
              "      <th>0</th>\n",
              "      <td>2016-07-01 00:00:00</td>\n",
              "      <td>30.531000</td>\n",
              "    </tr>\n",
              "    <tr>\n",
              "      <th>1</th>\n",
              "      <td>2016-07-01 01:00:00</td>\n",
              "      <td>27.787001</td>\n",
              "    </tr>\n",
              "    <tr>\n",
              "      <th>2</th>\n",
              "      <td>2016-07-01 02:00:00</td>\n",
              "      <td>27.787001</td>\n",
              "    </tr>\n",
              "    <tr>\n",
              "      <th>3</th>\n",
              "      <td>2016-07-01 03:00:00</td>\n",
              "      <td>25.044001</td>\n",
              "    </tr>\n",
              "    <tr>\n",
              "      <th>4</th>\n",
              "      <td>2016-07-01 04:00:00</td>\n",
              "      <td>21.948000</td>\n",
              "    </tr>\n",
              "    <tr>\n",
              "      <th>...</th>\n",
              "      <td>...</td>\n",
              "      <td>...</td>\n",
              "    </tr>\n",
              "    <tr>\n",
              "      <th>13931</th>\n",
              "      <td>2018-02-01 11:00:00</td>\n",
              "      <td>4.713000</td>\n",
              "    </tr>\n",
              "    <tr>\n",
              "      <th>13932</th>\n",
              "      <td>2018-02-01 12:00:00</td>\n",
              "      <td>4.291000</td>\n",
              "    </tr>\n",
              "    <tr>\n",
              "      <th>13933</th>\n",
              "      <td>2018-02-01 13:00:00</td>\n",
              "      <td>4.291000</td>\n",
              "    </tr>\n",
              "    <tr>\n",
              "      <th>13934</th>\n",
              "      <td>2018-02-01 14:00:00</td>\n",
              "      <td>6.261000</td>\n",
              "    </tr>\n",
              "    <tr>\n",
              "      <th>13935</th>\n",
              "      <td>2018-02-01 15:00:00</td>\n",
              "      <td>3.939000</td>\n",
              "    </tr>\n",
              "  </tbody>\n",
              "</table>\n",
              "<p>13936 rows × 2 columns</p>\n",
              "</div>\n",
              "    <div class=\"colab-df-buttons\">\n",
              "\n",
              "  <div class=\"colab-df-container\">\n",
              "    <button class=\"colab-df-convert\" onclick=\"convertToInteractive('df-80c6e43f-2513-4c08-b5df-64b6f9757c1e')\"\n",
              "            title=\"Convert this dataframe to an interactive table.\"\n",
              "            style=\"display:none;\">\n",
              "\n",
              "  <svg xmlns=\"http://www.w3.org/2000/svg\" height=\"24px\" viewBox=\"0 -960 960 960\">\n",
              "    <path d=\"M120-120v-720h720v720H120Zm60-500h600v-160H180v160Zm220 220h160v-160H400v160Zm0 220h160v-160H400v160ZM180-400h160v-160H180v160Zm440 0h160v-160H620v160ZM180-180h160v-160H180v160Zm440 0h160v-160H620v160Z\"/>\n",
              "  </svg>\n",
              "    </button>\n",
              "\n",
              "  <style>\n",
              "    .colab-df-container {\n",
              "      display:flex;\n",
              "      gap: 12px;\n",
              "    }\n",
              "\n",
              "    .colab-df-convert {\n",
              "      background-color: #E8F0FE;\n",
              "      border: none;\n",
              "      border-radius: 50%;\n",
              "      cursor: pointer;\n",
              "      display: none;\n",
              "      fill: #1967D2;\n",
              "      height: 32px;\n",
              "      padding: 0 0 0 0;\n",
              "      width: 32px;\n",
              "    }\n",
              "\n",
              "    .colab-df-convert:hover {\n",
              "      background-color: #E2EBFA;\n",
              "      box-shadow: 0px 1px 2px rgba(60, 64, 67, 0.3), 0px 1px 3px 1px rgba(60, 64, 67, 0.15);\n",
              "      fill: #174EA6;\n",
              "    }\n",
              "\n",
              "    .colab-df-buttons div {\n",
              "      margin-bottom: 4px;\n",
              "    }\n",
              "\n",
              "    [theme=dark] .colab-df-convert {\n",
              "      background-color: #3B4455;\n",
              "      fill: #D2E3FC;\n",
              "    }\n",
              "\n",
              "    [theme=dark] .colab-df-convert:hover {\n",
              "      background-color: #434B5C;\n",
              "      box-shadow: 0px 1px 3px 1px rgba(0, 0, 0, 0.15);\n",
              "      filter: drop-shadow(0px 1px 2px rgba(0, 0, 0, 0.3));\n",
              "      fill: #FFFFFF;\n",
              "    }\n",
              "  </style>\n",
              "\n",
              "    <script>\n",
              "      const buttonEl =\n",
              "        document.querySelector('#df-80c6e43f-2513-4c08-b5df-64b6f9757c1e button.colab-df-convert');\n",
              "      buttonEl.style.display =\n",
              "        google.colab.kernel.accessAllowed ? 'block' : 'none';\n",
              "\n",
              "      async function convertToInteractive(key) {\n",
              "        const element = document.querySelector('#df-80c6e43f-2513-4c08-b5df-64b6f9757c1e');\n",
              "        const dataTable =\n",
              "          await google.colab.kernel.invokeFunction('convertToInteractive',\n",
              "                                                    [key], {});\n",
              "        if (!dataTable) return;\n",
              "\n",
              "        const docLinkHtml = 'Like what you see? Visit the ' +\n",
              "          '<a target=\"_blank\" href=https://colab.research.google.com/notebooks/data_table.ipynb>data table notebook</a>'\n",
              "          + ' to learn more about interactive tables.';\n",
              "        element.innerHTML = '';\n",
              "        dataTable['output_type'] = 'display_data';\n",
              "        await google.colab.output.renderOutput(dataTable, element);\n",
              "        const docLink = document.createElement('div');\n",
              "        docLink.innerHTML = docLinkHtml;\n",
              "        element.appendChild(docLink);\n",
              "      }\n",
              "    </script>\n",
              "  </div>\n",
              "\n",
              "\n",
              "<div id=\"df-0e10e785-b4d2-42b7-b144-16ca99cbaf7d\">\n",
              "  <button class=\"colab-df-quickchart\" onclick=\"quickchart('df-0e10e785-b4d2-42b7-b144-16ca99cbaf7d')\"\n",
              "            title=\"Suggest charts\"\n",
              "            style=\"display:none;\">\n",
              "\n",
              "<svg xmlns=\"http://www.w3.org/2000/svg\" height=\"24px\"viewBox=\"0 0 24 24\"\n",
              "     width=\"24px\">\n",
              "    <g>\n",
              "        <path d=\"M19 3H5c-1.1 0-2 .9-2 2v14c0 1.1.9 2 2 2h14c1.1 0 2-.9 2-2V5c0-1.1-.9-2-2-2zM9 17H7v-7h2v7zm4 0h-2V7h2v10zm4 0h-2v-4h2v4z\"/>\n",
              "    </g>\n",
              "</svg>\n",
              "  </button>\n",
              "\n",
              "<style>\n",
              "  .colab-df-quickchart {\n",
              "      --bg-color: #E8F0FE;\n",
              "      --fill-color: #1967D2;\n",
              "      --hover-bg-color: #E2EBFA;\n",
              "      --hover-fill-color: #174EA6;\n",
              "      --disabled-fill-color: #AAA;\n",
              "      --disabled-bg-color: #DDD;\n",
              "  }\n",
              "\n",
              "  [theme=dark] .colab-df-quickchart {\n",
              "      --bg-color: #3B4455;\n",
              "      --fill-color: #D2E3FC;\n",
              "      --hover-bg-color: #434B5C;\n",
              "      --hover-fill-color: #FFFFFF;\n",
              "      --disabled-bg-color: #3B4455;\n",
              "      --disabled-fill-color: #666;\n",
              "  }\n",
              "\n",
              "  .colab-df-quickchart {\n",
              "    background-color: var(--bg-color);\n",
              "    border: none;\n",
              "    border-radius: 50%;\n",
              "    cursor: pointer;\n",
              "    display: none;\n",
              "    fill: var(--fill-color);\n",
              "    height: 32px;\n",
              "    padding: 0;\n",
              "    width: 32px;\n",
              "  }\n",
              "\n",
              "  .colab-df-quickchart:hover {\n",
              "    background-color: var(--hover-bg-color);\n",
              "    box-shadow: 0 1px 2px rgba(60, 64, 67, 0.3), 0 1px 3px 1px rgba(60, 64, 67, 0.15);\n",
              "    fill: var(--button-hover-fill-color);\n",
              "  }\n",
              "\n",
              "  .colab-df-quickchart-complete:disabled,\n",
              "  .colab-df-quickchart-complete:disabled:hover {\n",
              "    background-color: var(--disabled-bg-color);\n",
              "    fill: var(--disabled-fill-color);\n",
              "    box-shadow: none;\n",
              "  }\n",
              "\n",
              "  .colab-df-spinner {\n",
              "    border: 2px solid var(--fill-color);\n",
              "    border-color: transparent;\n",
              "    border-bottom-color: var(--fill-color);\n",
              "    animation:\n",
              "      spin 1s steps(1) infinite;\n",
              "  }\n",
              "\n",
              "  @keyframes spin {\n",
              "    0% {\n",
              "      border-color: transparent;\n",
              "      border-bottom-color: var(--fill-color);\n",
              "      border-left-color: var(--fill-color);\n",
              "    }\n",
              "    20% {\n",
              "      border-color: transparent;\n",
              "      border-left-color: var(--fill-color);\n",
              "      border-top-color: var(--fill-color);\n",
              "    }\n",
              "    30% {\n",
              "      border-color: transparent;\n",
              "      border-left-color: var(--fill-color);\n",
              "      border-top-color: var(--fill-color);\n",
              "      border-right-color: var(--fill-color);\n",
              "    }\n",
              "    40% {\n",
              "      border-color: transparent;\n",
              "      border-right-color: var(--fill-color);\n",
              "      border-top-color: var(--fill-color);\n",
              "    }\n",
              "    60% {\n",
              "      border-color: transparent;\n",
              "      border-right-color: var(--fill-color);\n",
              "    }\n",
              "    80% {\n",
              "      border-color: transparent;\n",
              "      border-right-color: var(--fill-color);\n",
              "      border-bottom-color: var(--fill-color);\n",
              "    }\n",
              "    90% {\n",
              "      border-color: transparent;\n",
              "      border-bottom-color: var(--fill-color);\n",
              "    }\n",
              "  }\n",
              "</style>\n",
              "\n",
              "  <script>\n",
              "    async function quickchart(key) {\n",
              "      const quickchartButtonEl =\n",
              "        document.querySelector('#' + key + ' button');\n",
              "      quickchartButtonEl.disabled = true;  // To prevent multiple clicks.\n",
              "      quickchartButtonEl.classList.add('colab-df-spinner');\n",
              "      try {\n",
              "        const charts = await google.colab.kernel.invokeFunction(\n",
              "            'suggestCharts', [key], {});\n",
              "      } catch (error) {\n",
              "        console.error('Error during call to suggestCharts:', error);\n",
              "      }\n",
              "      quickchartButtonEl.classList.remove('colab-df-spinner');\n",
              "      quickchartButtonEl.classList.add('colab-df-quickchart-complete');\n",
              "    }\n",
              "    (() => {\n",
              "      let quickchartButtonEl =\n",
              "        document.querySelector('#df-0e10e785-b4d2-42b7-b144-16ca99cbaf7d button');\n",
              "      quickchartButtonEl.style.display =\n",
              "        google.colab.kernel.accessAllowed ? 'block' : 'none';\n",
              "    })();\n",
              "  </script>\n",
              "</div>\n",
              "    </div>\n",
              "  </div>\n"
            ],
            "application/vnd.google.colaboratory.intrinsic+json": {
              "type": "dataframe",
              "variable_name": "ETTh1_train_uni",
              "summary": "{\n  \"name\": \"ETTh1_train_uni\",\n  \"rows\": 13936,\n  \"fields\": [\n    {\n      \"column\": \"ds\",\n      \"properties\": {\n        \"dtype\": \"date\",\n        \"min\": \"2016-07-01 00:00:00\",\n        \"max\": \"2018-02-01 15:00:00\",\n        \"num_unique_values\": 13936,\n        \"samples\": [\n          \"2017-05-26 03:00:00\",\n          \"2017-08-15 19:00:00\",\n          \"2018-01-01 16:00:00\"\n        ],\n        \"semantic_type\": \"\",\n        \"description\": \"\"\n      }\n    },\n    {\n      \"column\": \"y\",\n      \"properties\": {\n        \"dtype\": \"number\",\n        \"std\": 8.885977280224218,\n        \"min\": -4.079999923706056,\n        \"max\": 46.00699996948242,\n        \"num_unique_values\": 669,\n        \"samples\": [\n          18.92300033569336,\n          36.018001556396484,\n          11.1850004196167\n        ],\n        \"semantic_type\": \"\",\n        \"description\": \"\"\n      }\n    }\n  ]\n}"
            }
          },
          "metadata": {},
          "execution_count": 13
        }
      ]
    },
    {
      "cell_type": "code",
      "source": [
        "df = timegpt.forecast(df=ETTh1_train_uni,h=720, model='timegpt-1-long-horizon', freq='h') # предсказываю\n",
        "predict = df['TimeGPT'] # вытаскиваю предсказания\n",
        "predict.to_csv(\"ETTh1.csv\")"
      ],
      "metadata": {
        "colab": {
          "base_uri": "https://localhost:8080/"
        },
        "id": "Re3wKpSVckcI",
        "outputId": "d1db659e-feca-409f-d2b3-3c16b2537a4b"
      },
      "execution_count": null,
      "outputs": [
        {
          "output_type": "stream",
          "name": "stderr",
          "text": [
            "WARNING:nixtlats.nixtla_client:The specified horizon \"h\" exceeds the model horizon. This may lead to less accurate forecasts. Please consider using a smaller horizon.\n"
          ]
        }
      ]
    },
    {
      "cell_type": "code",
      "source": [
        "step_forecasting = [24, 96, 192, 336, 720]"
      ],
      "metadata": {
        "id": "eQ-cpolndXN0"
      },
      "execution_count": null,
      "outputs": []
    },
    {
      "cell_type": "code",
      "source": [
        "# Объявляем таблицу для красивого вывода результатов\n",
        "table = PrettyTable()\n",
        "table.field_names = [\"Шагов прогноза\", \"MAE\", \"MSE\"]\n",
        "test = ETTh1_test_uni['y']\n",
        "# Перебираем разные шаги прогнозирования\n",
        "for step in step_forecasting:\n",
        "    # Вычисляем метрики\n",
        "    MAE_value = mean_absolute_error(test.iloc[:step], predict[:step]).round(3)\n",
        "    MSE_value = mean_squared_error(test.iloc[:step], predict[:step]).round(3)\n",
        "    # Добавляем результаты в таблицу\n",
        "    table.add_row([step, MAE_value, MSE_value])\n",
        "# Печатаем таблицу\n",
        "print('zero-shot ETTh1'.center(len(table.field_names) * 11))\n",
        "print(table)"
      ],
      "metadata": {
        "colab": {
          "base_uri": "https://localhost:8080/"
        },
        "id": "VMg-kWjtdQUN",
        "outputId": "27c68d97-3849-48f8-cac4-13391f4d4183"
      },
      "execution_count": null,
      "outputs": [
        {
          "output_type": "stream",
          "name": "stdout",
          "text": [
            "         zero-shot ETTh1         \n",
            "+----------------+-------+-------+\n",
            "| Шагов прогноза |  MAE  |  MSE  |\n",
            "+----------------+-------+-------+\n",
            "|       24       | 0.576 | 0.522 |\n",
            "|       96       | 0.894 | 1.357 |\n",
            "|      192       |  0.89 | 1.219 |\n",
            "|      336       | 1.124 | 2.262 |\n",
            "|      720       | 1.328 | 2.941 |\n",
            "+----------------+-------+-------+\n"
          ]
        }
      ]
    },
    {
      "cell_type": "markdown",
      "source": [
        "## предсказание без дообучения"
      ],
      "metadata": {
        "id": "ig3XZz7Q2UBr"
      }
    },
    {
      "cell_type": "markdown",
      "source": [
        "#### ETTh1"
      ],
      "metadata": {
        "id": "-oWq_hJCZqTU"
      }
    },
    {
      "cell_type": "markdown",
      "source": [
        " любыми способами, не получилось добиться от TimeGPT прогнозирвоание многомерного временного ряда или прогнозирование с использованием ковариант\n",
        " он всё время выполнял одномерный прогноз"
      ],
      "metadata": {
        "id": "c0DI8EugeEMQ"
      }
    },
    {
      "cell_type": "code",
      "source": [
        "df = timegpt.forecast(df=ETTh1_train,h=720, model='timegpt-1-long-horizon', freq='h') # любыми способоами, у меня не получилось добиться от\n",
        "predict = df['TimeGPT'] # вытаскиваю предсказания\n",
        "predict.to_csv(\"ETTh1.csv\")"
      ],
      "metadata": {
        "colab": {
          "base_uri": "https://localhost:8080/"
        },
        "id": "x9r48J0X9La5",
        "outputId": "8fd917d9-d034-4600-e9b5-caf81ec6affb"
      },
      "execution_count": null,
      "outputs": [
        {
          "output_type": "stream",
          "name": "stderr",
          "text": [
            "WARNING:nixtlats.nixtla_client:The specified horizon \"h\" exceeds the model horizon. This may lead to less accurate forecasts. Please consider using a smaller horizon.\n"
          ]
        }
      ]
    },
    {
      "cell_type": "code",
      "source": [
        "step_forecasting = [24, 96, 192, 336, 720]"
      ],
      "metadata": {
        "id": "gOzfJC0xZZxl"
      },
      "execution_count": null,
      "outputs": []
    },
    {
      "cell_type": "code",
      "source": [
        "# Объявляем таблицу для красивого вывода результатов\n",
        "table = PrettyTable()\n",
        "table.field_names = [\"Шагов прогноза\", \"MAE\", \"MSE\"]\n",
        "test = ETTh1_test['y']\n",
        "# Перебираем разные шаги прогнозирования\n",
        "for step in step_forecasting:\n",
        "    # Вычисляем метрики\n",
        "    MAE_value = mean_absolute_error(test.iloc[:step], predict[:step]).round(3)\n",
        "    MSE_value = mean_squared_error(test.iloc[:step], predict[:step]).round(3)\n",
        "    # Добавляем результаты в таблицу\n",
        "    table.add_row([step, MAE_value, MSE_value])\n",
        "# Печатаем таблицу\n",
        "print('zero-shot ETTh1'.center(len(table.field_names) * 11))\n",
        "print(table)"
      ],
      "metadata": {
        "colab": {
          "base_uri": "https://localhost:8080/"
        },
        "id": "SPDIEIOG7y5L",
        "outputId": "d27b257b-2beb-44d4-8933-a436292c5a4a"
      },
      "execution_count": null,
      "outputs": [
        {
          "output_type": "stream",
          "name": "stdout",
          "text": [
            "         zero-shot ETTh1         \n",
            "+----------------+-------+-------+\n",
            "| Шагов прогноза |  MAE  |  MSE  |\n",
            "+----------------+-------+-------+\n",
            "|       24       | 0.576 | 0.522 |\n",
            "|       96       | 0.894 | 1.357 |\n",
            "|      192       |  0.89 | 1.219 |\n",
            "|      336       | 1.124 | 2.262 |\n",
            "|      720       | 1.328 | 2.941 |\n",
            "+----------------+-------+-------+\n"
          ]
        }
      ]
    },
    {
      "cell_type": "markdown",
      "source": [
        "#### ETTh2"
      ],
      "metadata": {
        "id": "ed5Sli19ZvFG"
      }
    },
    {
      "cell_type": "code",
      "source": [
        "df = timegpt.forecast(df=ETTh2_train,h=720, model='timegpt-1-long-horizon',  freq='h') # предсказываю\n",
        "predict = df['TimeGPT'] # вытаскиваю предсказания\n",
        "predict.to_csv(\"ETTh2.csv\")"
      ],
      "metadata": {
        "id": "beyat5qdaBsC"
      },
      "execution_count": null,
      "outputs": []
    },
    {
      "cell_type": "code",
      "source": [
        "table = PrettyTable()\n",
        "table.field_names = [\"Шагов прогноза\", \"MAE\", \"MSE\"]\n",
        "test = ETTh2_test['y']\n",
        "# Перебираем разные шаги прогнозирования\n",
        "for step in step_forecasting:\n",
        "    # Вычисляем метрики\n",
        "    MAE_value = mean_absolute_error(test.iloc[:step], predict[:step]).round(3)\n",
        "    MSE_value = mean_squared_error(test.iloc[:step], predict[:step]).round(3)\n",
        "    # Добавляем результаты в таблицу\n",
        "    table.add_row([step, MAE_value, MSE_value])\n",
        "# Печатаем таблицу\n",
        "print('zero-shot ETTh2'.center(len(table.field_names) * 11))\n",
        "print(table)"
      ],
      "metadata": {
        "colab": {
          "base_uri": "https://localhost:8080/"
        },
        "id": "OdUkT8ckbc0S",
        "outputId": "5d04703e-fd6e-49fd-bdb4-cf6e4f46ca5d"
      },
      "execution_count": null,
      "outputs": [
        {
          "output_type": "stream",
          "name": "stdout",
          "text": [
            "13936    14.272500\n",
            "13937    12.954000\n",
            "13938    11.196500\n",
            "13939     9.218500\n",
            "13940     7.900500\n",
            "           ...    \n",
            "17415    47.084999\n",
            "17416    48.183498\n",
            "17417    48.183498\n",
            "17418    46.865501\n",
            "17419    45.986500\n",
            "Name: y, Length: 3484, dtype: float64\n",
            "+----------------+-------+-------+-------+\n",
            "| Шагов прогноза | sMAPE |  MAE  |  MSE  |\n",
            "+----------------+-------+-------+-------+\n",
            "|       24       | 0.159 | 0.576 | 0.522 |\n",
            "|       96       | 0.361 | 0.894 | 1.357 |\n",
            "|      192       | 0.316 |  0.89 | 1.219 |\n",
            "|      336       | 0.329 | 1.124 | 2.262 |\n",
            "|      720       | 0.378 | 1.328 | 2.941 |\n",
            "+----------------+-------+-------+-------+\n"
          ]
        },
        {
          "output_type": "stream",
          "name": "stderr",
          "text": [
            "/usr/local/lib/python3.10/dist-packages/sktime/performance_metrics/forecasting/_classes.py:466: UserWarning: y_pred and y_true do not have the same row index. This may indicate incorrect objects passed to the metric. Indices of y_true will be used for y_pred.\n",
            "  warn(\n",
            "/usr/local/lib/python3.10/dist-packages/sktime/performance_metrics/forecasting/_classes.py:478: UserWarning: y_pred and y_true do not have the same column index. This may indicate incorrect objects passed to the metric. Indices of y_true will be used for y_pred.\n",
            "  warn(\n",
            "/usr/local/lib/python3.10/dist-packages/sktime/performance_metrics/forecasting/_classes.py:466: UserWarning: y_pred and y_true do not have the same row index. This may indicate incorrect objects passed to the metric. Indices of y_true will be used for y_pred.\n",
            "  warn(\n",
            "/usr/local/lib/python3.10/dist-packages/sktime/performance_metrics/forecasting/_classes.py:478: UserWarning: y_pred and y_true do not have the same column index. This may indicate incorrect objects passed to the metric. Indices of y_true will be used for y_pred.\n",
            "  warn(\n",
            "/usr/local/lib/python3.10/dist-packages/sktime/performance_metrics/forecasting/_classes.py:466: UserWarning: y_pred and y_true do not have the same row index. This may indicate incorrect objects passed to the metric. Indices of y_true will be used for y_pred.\n",
            "  warn(\n",
            "/usr/local/lib/python3.10/dist-packages/sktime/performance_metrics/forecasting/_classes.py:478: UserWarning: y_pred and y_true do not have the same column index. This may indicate incorrect objects passed to the metric. Indices of y_true will be used for y_pred.\n",
            "  warn(\n",
            "/usr/local/lib/python3.10/dist-packages/sktime/performance_metrics/forecasting/_classes.py:466: UserWarning: y_pred and y_true do not have the same row index. This may indicate incorrect objects passed to the metric. Indices of y_true will be used for y_pred.\n",
            "  warn(\n",
            "/usr/local/lib/python3.10/dist-packages/sktime/performance_metrics/forecasting/_classes.py:478: UserWarning: y_pred and y_true do not have the same column index. This may indicate incorrect objects passed to the metric. Indices of y_true will be used for y_pred.\n",
            "  warn(\n",
            "/usr/local/lib/python3.10/dist-packages/sktime/performance_metrics/forecasting/_classes.py:466: UserWarning: y_pred and y_true do not have the same row index. This may indicate incorrect objects passed to the metric. Indices of y_true will be used for y_pred.\n",
            "  warn(\n",
            "/usr/local/lib/python3.10/dist-packages/sktime/performance_metrics/forecasting/_classes.py:478: UserWarning: y_pred and y_true do not have the same column index. This may indicate incorrect objects passed to the metric. Indices of y_true will be used for y_pred.\n",
            "  warn(\n"
          ]
        }
      ]
    },
    {
      "cell_type": "markdown",
      "source": [
        "#### ETTm1"
      ],
      "metadata": {
        "id": "X3w7gsgycM92"
      }
    },
    {
      "cell_type": "code",
      "source": [
        "df = timegpt.forecast(df=ETTm1_train,h=720, model='timegpt-1-long-horizon',freq='15min') # предсказываю\n",
        "predict = df['TimeGPT'] # вытаскиваю предсказания\n",
        "predict.to_csv(\"ETTm1.csv\")"
      ],
      "metadata": {
        "colab": {
          "base_uri": "https://localhost:8080/"
        },
        "id": "J5Cz6aGJcQU_",
        "outputId": "65f3b417-bc15-4434-8286-32ee0c170883"
      },
      "execution_count": null,
      "outputs": [
        {
          "output_type": "stream",
          "name": "stderr",
          "text": [
            "WARNING:nixtlats.nixtla_client:The specified horizon \"h\" exceeds the model horizon. This may lead to less accurate forecasts. Please consider using a smaller horizon.\n"
          ]
        }
      ]
    },
    {
      "cell_type": "code",
      "source": [
        "table = PrettyTable()\n",
        "table.field_names = [\"Шагов прогноза\", \"MAE\", \"MSE\"]\n",
        "test = ETTm1_test['y']\n",
        "# Перебираем разные шаги прогнозирования\n",
        "for step in step_forecasting:\n",
        "    # Вычисляем метрики\n",
        "    MAE_value = mean_absolute_error(test.iloc[:step], predict[:step]).round(3)\n",
        "    MSE_value = mean_squared_error(test.iloc[:step], predict[:step]).round(3)\n",
        "    # Добавляем результаты в таблицу\n",
        "    table.add_row([step, MAE_value, MSE_value])\n",
        "print('zero-shot ETTm1'.center(len(table.field_names) * 11))\n",
        "print(table)"
      ],
      "metadata": {
        "colab": {
          "base_uri": "https://localhost:8080/"
        },
        "id": "NX66Y9WDdBB2",
        "outputId": "69fb780e-e80c-487b-a22d-a08fddd52338"
      },
      "execution_count": null,
      "outputs": [
        {
          "output_type": "stream",
          "name": "stdout",
          "text": [
            "         zero-shot ETTm1         \n",
            "+----------------+-------+-------+\n",
            "| Шагов прогноза |  MAE  |  MSE  |\n",
            "+----------------+-------+-------+\n",
            "|       24       | 0.435 | 0.254 |\n",
            "|       96       | 0.392 | 0.236 |\n",
            "|      192       | 1.399 | 3.602 |\n",
            "|      336       | 1.337 | 3.054 |\n",
            "|      720       | 1.173 | 2.287 |\n",
            "+----------------+-------+-------+\n"
          ]
        }
      ]
    },
    {
      "cell_type": "markdown",
      "source": [
        "#### ETTm2"
      ],
      "metadata": {
        "id": "9_aCx4gUdbZy"
      }
    },
    {
      "cell_type": "code",
      "source": [
        "%%time\n",
        "df = timegpt.forecast(df=ETTm2_train,h=720, model='timegpt-1-long-horizon',freq='15min') # предсказываю\n",
        "predict = df['TimeGPT'] # вытаскиваю предсказания\n",
        "predict.to_csv(\"ETTm2.csv\")"
      ],
      "metadata": {
        "colab": {
          "base_uri": "https://localhost:8080/"
        },
        "outputId": "bafade68-8858-4442-fcd2-f38b8d9954af",
        "id": "4SeAHD6idbZ6"
      },
      "execution_count": null,
      "outputs": [
        {
          "output_type": "stream",
          "name": "stderr",
          "text": [
            "WARNING:nixtlats.nixtla_client:The specified horizon \"h\" exceeds the model horizon. This may lead to less accurate forecasts. Please consider using a smaller horizon.\n"
          ]
        },
        {
          "output_type": "stream",
          "name": "stdout",
          "text": [
            "CPU times: user 1.92 s, sys: 14.2 ms, total: 1.94 s\n",
            "Wall time: 8.36 s\n"
          ]
        }
      ]
    },
    {
      "cell_type": "code",
      "source": [
        "table = PrettyTable()\n",
        "table.field_names = [\"Шагов прогноза\", \"MAE\", \"MSE\"]\n",
        "test = ETTm2_test['y']\n",
        "# Перебираем разные шаги прогнозирования\n",
        "for step in step_forecasting:\n",
        "    # Вычисляем метрики\n",
        "    MAE_value = mean_absolute_error(test.iloc[:step], predict[:step]).round(3)\n",
        "    MSE_value = mean_squared_error(test.iloc[:step], predict[:step]).round(3)\n",
        "    # Добавляем результаты в таблицу\n",
        "    table.add_row([step, MAE_value, MSE_value])\n",
        "print('zero-shot ETTm2'.center(len(table.field_names) * 11))\n",
        "print(table)"
      ],
      "metadata": {
        "id": "vDGmssPXdbZ6",
        "colab": {
          "base_uri": "https://localhost:8080/"
        },
        "outputId": "af7f3c51-c1a8-42b7-f976-71b28b5e1f3e"
      },
      "execution_count": null,
      "outputs": [
        {
          "output_type": "stream",
          "name": "stdout",
          "text": [
            "         zero-shot ETTm2         \n",
            "+----------------+-------+--------+\n",
            "| Шагов прогноза |  MAE  |  MSE   |\n",
            "+----------------+-------+--------+\n",
            "|       24       |  0.37 | 0.224  |\n",
            "|       96       | 1.681 | 6.262  |\n",
            "|      192       | 2.077 |  7.53  |\n",
            "|      336       | 2.423 | 10.006 |\n",
            "|      720       | 3.394 | 19.585 |\n",
            "+----------------+-------+--------+\n"
          ]
        }
      ]
    },
    {
      "cell_type": "markdown",
      "source": [
        "#### exchange_rate"
      ],
      "metadata": {
        "id": "FxCkvwCWu7FN"
      }
    },
    {
      "cell_type": "code",
      "source": [
        "%%time\n",
        "df = timegpt.forecast(df=exchange_rate_train, h=720, model='timegpt-1-long-horizon') # предсказываю\n",
        "predict = df['TimeGPT'] # вытаскиваю предсказания\n",
        "predict.to_csv(\"exchange_rate.csv\")"
      ],
      "metadata": {
        "colab": {
          "base_uri": "https://localhost:8080/"
        },
        "id": "rNhd9qFe3YLs",
        "outputId": "60df0a56-8dc2-4a06-83c7-5c70867d049b"
      },
      "execution_count": null,
      "outputs": [
        {
          "output_type": "stream",
          "name": "stderr",
          "text": [
            "WARNING:nixtlats.nixtla_client:The specified horizon \"h\" exceeds the model horizon. This may lead to less accurate forecasts. Please consider using a smaller horizon.\n"
          ]
        },
        {
          "output_type": "stream",
          "name": "stdout",
          "text": [
            "CPU times: user 226 ms, sys: 10.9 ms, total: 236 ms\n",
            "Wall time: 7.66 s\n"
          ]
        }
      ]
    },
    {
      "cell_type": "code",
      "source": [
        "table = PrettyTable()\n",
        "table.field_names = [\"Шагов прогноза\", \"MAE\", \"MSE\"]\n",
        "test = exchange_rate_train['y']\n",
        "# Перебираем разные шаги прогнозирования\n",
        "for step in step_forecasting:\n",
        "    # Вычисляем метрики\n",
        "    MAE_value = mean_absolute_error(test.iloc[:step], predict[:step]).round(3)\n",
        "    MSE_value = mean_squared_error(test.iloc[:step], predict[:step]).round(3)\n",
        "    # Добавляем результаты в таблицу\n",
        "    table.add_row([step, MAE_value, MSE_value])\n",
        "print('zero-shot exchange_rate'.center(len(table.field_names) * 11))\n",
        "print(table)"
      ],
      "metadata": {
        "colab": {
          "base_uri": "https://localhost:8080/"
        },
        "id": "qHQZuNat4RtC",
        "outputId": "5367b701-2acc-4593-c6b4-c95df958d06c"
      },
      "execution_count": null,
      "outputs": [
        {
          "output_type": "stream",
          "name": "stdout",
          "text": [
            "     zero-shot exchange_rate     \n",
            "+----------------+-------+-------+\n",
            "| Шагов прогноза |  MAE  |  MSE  |\n",
            "+----------------+-------+-------+\n",
            "|       24       | 0.224 |  0.05 |\n",
            "|       96       | 0.247 | 0.061 |\n",
            "|      192       | 0.253 | 0.064 |\n",
            "|      336       | 0.263 | 0.069 |\n",
            "|      720       | 0.303 | 0.094 |\n",
            "+----------------+-------+-------+\n"
          ]
        }
      ]
    },
    {
      "cell_type": "markdown",
      "source": [
        "#### weather"
      ],
      "metadata": {
        "id": "sW0R38RY67Lu"
      }
    },
    {
      "cell_type": "code",
      "source": [
        "weather1 = weather.drop_duplicates() # иначе выдают ошибку\n",
        "weather_train, weather_test = train_test_func(weather1)"
      ],
      "metadata": {
        "id": "X6kgGUFVNsYE"
      },
      "execution_count": null,
      "outputs": []
    },
    {
      "cell_type": "code",
      "source": [
        "weather.columns[3::]"
      ],
      "metadata": {
        "colab": {
          "base_uri": "https://localhost:8080/"
        },
        "id": "NRf7COiwOak9",
        "outputId": "6e704446-b7d6-4c8c-83b1-24c9206177c5"
      },
      "execution_count": null,
      "outputs": [
        {
          "output_type": "execute_result",
          "data": {
            "text/plain": [
              "Index(['p (mbar)', 'T (degC)', 'Tpot (K)', 'Tdew (degC)', 'rh (%)',\n",
              "       'VPmax (mbar)', 'VPact (mbar)', 'VPdef (mbar)', 'sh (g/kg)',\n",
              "       'H2OC (mmol/mol)', 'rho (g/m**3)', 'wv (m/s)', 'max. wv (m/s)',\n",
              "       'wd (deg)', 'rain (mm)', 'raining (s)', 'SWDR (W/m�)',\n",
              "       'PAR (�mol/m�/s)', 'max. PAR (�mol/m�/s)', 'Tlog (degC)'],\n",
              "      dtype='object')"
            ]
          },
          "metadata": {},
          "execution_count": 54
        }
      ]
    },
    {
      "cell_type": "code",
      "source": [
        "weather[weather.columns[3::]]"
      ],
      "metadata": {
        "colab": {
          "base_uri": "https://localhost:8080/",
          "height": 458
        },
        "id": "yF-hNpVLQk42",
        "outputId": "ecf4416d-0192-46f2-d51b-ab570d5dd8d7"
      },
      "execution_count": null,
      "outputs": [
        {
          "output_type": "execute_result",
          "data": {
            "text/plain": [
              "       p (mbar)  T (degC)  Tpot (K)  Tdew (degC)  rh (%)  VPmax (mbar)  \\\n",
              "0       1008.89      0.71    273.18        -1.33    86.1          6.43   \n",
              "1       1008.76      0.75    273.22        -1.44    85.2          6.45   \n",
              "2       1008.66      0.73    273.21        -1.48    85.1          6.44   \n",
              "3       1008.64      0.37    272.86        -1.64    86.3          6.27   \n",
              "4       1008.61      0.33    272.82        -1.50    87.4          6.26   \n",
              "...         ...       ...       ...          ...     ...           ...   \n",
              "52691    978.32      2.28    277.16        -0.80    80.0          7.20   \n",
              "52692    978.30      2.13    277.01        -0.43    83.1          7.12   \n",
              "52693    978.26      1.99    276.88        -0.71    82.2          7.05   \n",
              "52694    978.26      2.07    276.95        -0.77    81.4          7.09   \n",
              "52695    978.24      2.01    276.89        -0.66    82.4          7.06   \n",
              "\n",
              "       VPact (mbar)  VPdef (mbar)  sh (g/kg)  H2OC (mmol/mol)  rho (g/m**3)  \\\n",
              "0              5.54          0.89       3.42             5.49       1280.62   \n",
              "1              5.49          0.95       3.39             5.45       1280.33   \n",
              "2              5.48          0.96       3.39             5.43       1280.29   \n",
              "3              5.41          0.86       3.35             5.37       1281.97   \n",
              "4              5.47          0.79       3.38             5.42       1282.08   \n",
              "...             ...           ...        ...              ...           ...   \n",
              "52691          5.76          1.44       3.67             5.89       1234.61   \n",
              "52692          5.92          1.20       3.77             6.05       1235.20   \n",
              "52693          5.80          1.26       3.69             5.93       1235.82   \n",
              "52694          5.77          1.32       3.68             5.90       1235.49   \n",
              "52695          5.82          1.24       3.71             5.95       1235.71   \n",
              "\n",
              "       wv (m/s)  max. wv (m/s)  wd (deg)  rain (mm)  raining (s)  SWDR (W/m�)  \\\n",
              "0          1.02           1.60     224.3        0.0          0.0          0.0   \n",
              "1          0.43           0.84     206.8        0.0          0.0          0.0   \n",
              "2          0.61           1.48     197.1        0.0          0.0          0.0   \n",
              "3          1.11           1.48     206.4        0.0          0.0          0.0   \n",
              "4          0.49           1.40     209.6        0.0          0.0          0.0   \n",
              "...         ...            ...       ...        ...          ...          ...   \n",
              "52691      0.73           1.40     180.6        0.0          0.0          0.0   \n",
              "52692      0.43           0.82     174.0        0.0          0.0          0.0   \n",
              "52693      0.38           0.76     248.9        0.0          0.0          0.0   \n",
              "52694      0.57           1.07     196.6        0.0          0.0          0.0   \n",
              "52695      0.57           1.08     221.3        0.0          0.0          0.0   \n",
              "\n",
              "       PAR (�mol/m�/s)  max. PAR (�mol/m�/s)  Tlog (degC)  \n",
              "0                  0.0                   0.0        11.45  \n",
              "1                  0.0                   0.0        11.51  \n",
              "2                  0.0                   0.0        11.60  \n",
              "3                  0.0                   0.0        11.70  \n",
              "4                  0.0                   0.0        11.81  \n",
              "...                ...                   ...          ...  \n",
              "52691              0.0                   0.0        13.40  \n",
              "52692              0.0                   0.0        13.42  \n",
              "52693              0.0                   0.0        13.45  \n",
              "52694              0.0                   0.0        13.47  \n",
              "52695              0.0                   0.0        13.48  \n",
              "\n",
              "[52696 rows x 20 columns]"
            ],
            "text/html": [
              "\n",
              "  <div id=\"df-fb52d8cc-aff0-48d5-9724-c984e2a2758f\" class=\"colab-df-container\">\n",
              "    <div>\n",
              "<style scoped>\n",
              "    .dataframe tbody tr th:only-of-type {\n",
              "        vertical-align: middle;\n",
              "    }\n",
              "\n",
              "    .dataframe tbody tr th {\n",
              "        vertical-align: top;\n",
              "    }\n",
              "\n",
              "    .dataframe thead th {\n",
              "        text-align: right;\n",
              "    }\n",
              "</style>\n",
              "<table border=\"1\" class=\"dataframe\">\n",
              "  <thead>\n",
              "    <tr style=\"text-align: right;\">\n",
              "      <th></th>\n",
              "      <th>p (mbar)</th>\n",
              "      <th>T (degC)</th>\n",
              "      <th>Tpot (K)</th>\n",
              "      <th>Tdew (degC)</th>\n",
              "      <th>rh (%)</th>\n",
              "      <th>VPmax (mbar)</th>\n",
              "      <th>VPact (mbar)</th>\n",
              "      <th>VPdef (mbar)</th>\n",
              "      <th>sh (g/kg)</th>\n",
              "      <th>H2OC (mmol/mol)</th>\n",
              "      <th>rho (g/m**3)</th>\n",
              "      <th>wv (m/s)</th>\n",
              "      <th>max. wv (m/s)</th>\n",
              "      <th>wd (deg)</th>\n",
              "      <th>rain (mm)</th>\n",
              "      <th>raining (s)</th>\n",
              "      <th>SWDR (W/m�)</th>\n",
              "      <th>PAR (�mol/m�/s)</th>\n",
              "      <th>max. PAR (�mol/m�/s)</th>\n",
              "      <th>Tlog (degC)</th>\n",
              "    </tr>\n",
              "  </thead>\n",
              "  <tbody>\n",
              "    <tr>\n",
              "      <th>0</th>\n",
              "      <td>1008.89</td>\n",
              "      <td>0.71</td>\n",
              "      <td>273.18</td>\n",
              "      <td>-1.33</td>\n",
              "      <td>86.1</td>\n",
              "      <td>6.43</td>\n",
              "      <td>5.54</td>\n",
              "      <td>0.89</td>\n",
              "      <td>3.42</td>\n",
              "      <td>5.49</td>\n",
              "      <td>1280.62</td>\n",
              "      <td>1.02</td>\n",
              "      <td>1.60</td>\n",
              "      <td>224.3</td>\n",
              "      <td>0.0</td>\n",
              "      <td>0.0</td>\n",
              "      <td>0.0</td>\n",
              "      <td>0.0</td>\n",
              "      <td>0.0</td>\n",
              "      <td>11.45</td>\n",
              "    </tr>\n",
              "    <tr>\n",
              "      <th>1</th>\n",
              "      <td>1008.76</td>\n",
              "      <td>0.75</td>\n",
              "      <td>273.22</td>\n",
              "      <td>-1.44</td>\n",
              "      <td>85.2</td>\n",
              "      <td>6.45</td>\n",
              "      <td>5.49</td>\n",
              "      <td>0.95</td>\n",
              "      <td>3.39</td>\n",
              "      <td>5.45</td>\n",
              "      <td>1280.33</td>\n",
              "      <td>0.43</td>\n",
              "      <td>0.84</td>\n",
              "      <td>206.8</td>\n",
              "      <td>0.0</td>\n",
              "      <td>0.0</td>\n",
              "      <td>0.0</td>\n",
              "      <td>0.0</td>\n",
              "      <td>0.0</td>\n",
              "      <td>11.51</td>\n",
              "    </tr>\n",
              "    <tr>\n",
              "      <th>2</th>\n",
              "      <td>1008.66</td>\n",
              "      <td>0.73</td>\n",
              "      <td>273.21</td>\n",
              "      <td>-1.48</td>\n",
              "      <td>85.1</td>\n",
              "      <td>6.44</td>\n",
              "      <td>5.48</td>\n",
              "      <td>0.96</td>\n",
              "      <td>3.39</td>\n",
              "      <td>5.43</td>\n",
              "      <td>1280.29</td>\n",
              "      <td>0.61</td>\n",
              "      <td>1.48</td>\n",
              "      <td>197.1</td>\n",
              "      <td>0.0</td>\n",
              "      <td>0.0</td>\n",
              "      <td>0.0</td>\n",
              "      <td>0.0</td>\n",
              "      <td>0.0</td>\n",
              "      <td>11.60</td>\n",
              "    </tr>\n",
              "    <tr>\n",
              "      <th>3</th>\n",
              "      <td>1008.64</td>\n",
              "      <td>0.37</td>\n",
              "      <td>272.86</td>\n",
              "      <td>-1.64</td>\n",
              "      <td>86.3</td>\n",
              "      <td>6.27</td>\n",
              "      <td>5.41</td>\n",
              "      <td>0.86</td>\n",
              "      <td>3.35</td>\n",
              "      <td>5.37</td>\n",
              "      <td>1281.97</td>\n",
              "      <td>1.11</td>\n",
              "      <td>1.48</td>\n",
              "      <td>206.4</td>\n",
              "      <td>0.0</td>\n",
              "      <td>0.0</td>\n",
              "      <td>0.0</td>\n",
              "      <td>0.0</td>\n",
              "      <td>0.0</td>\n",
              "      <td>11.70</td>\n",
              "    </tr>\n",
              "    <tr>\n",
              "      <th>4</th>\n",
              "      <td>1008.61</td>\n",
              "      <td>0.33</td>\n",
              "      <td>272.82</td>\n",
              "      <td>-1.50</td>\n",
              "      <td>87.4</td>\n",
              "      <td>6.26</td>\n",
              "      <td>5.47</td>\n",
              "      <td>0.79</td>\n",
              "      <td>3.38</td>\n",
              "      <td>5.42</td>\n",
              "      <td>1282.08</td>\n",
              "      <td>0.49</td>\n",
              "      <td>1.40</td>\n",
              "      <td>209.6</td>\n",
              "      <td>0.0</td>\n",
              "      <td>0.0</td>\n",
              "      <td>0.0</td>\n",
              "      <td>0.0</td>\n",
              "      <td>0.0</td>\n",
              "      <td>11.81</td>\n",
              "    </tr>\n",
              "    <tr>\n",
              "      <th>...</th>\n",
              "      <td>...</td>\n",
              "      <td>...</td>\n",
              "      <td>...</td>\n",
              "      <td>...</td>\n",
              "      <td>...</td>\n",
              "      <td>...</td>\n",
              "      <td>...</td>\n",
              "      <td>...</td>\n",
              "      <td>...</td>\n",
              "      <td>...</td>\n",
              "      <td>...</td>\n",
              "      <td>...</td>\n",
              "      <td>...</td>\n",
              "      <td>...</td>\n",
              "      <td>...</td>\n",
              "      <td>...</td>\n",
              "      <td>...</td>\n",
              "      <td>...</td>\n",
              "      <td>...</td>\n",
              "      <td>...</td>\n",
              "    </tr>\n",
              "    <tr>\n",
              "      <th>52691</th>\n",
              "      <td>978.32</td>\n",
              "      <td>2.28</td>\n",
              "      <td>277.16</td>\n",
              "      <td>-0.80</td>\n",
              "      <td>80.0</td>\n",
              "      <td>7.20</td>\n",
              "      <td>5.76</td>\n",
              "      <td>1.44</td>\n",
              "      <td>3.67</td>\n",
              "      <td>5.89</td>\n",
              "      <td>1234.61</td>\n",
              "      <td>0.73</td>\n",
              "      <td>1.40</td>\n",
              "      <td>180.6</td>\n",
              "      <td>0.0</td>\n",
              "      <td>0.0</td>\n",
              "      <td>0.0</td>\n",
              "      <td>0.0</td>\n",
              "      <td>0.0</td>\n",
              "      <td>13.40</td>\n",
              "    </tr>\n",
              "    <tr>\n",
              "      <th>52692</th>\n",
              "      <td>978.30</td>\n",
              "      <td>2.13</td>\n",
              "      <td>277.01</td>\n",
              "      <td>-0.43</td>\n",
              "      <td>83.1</td>\n",
              "      <td>7.12</td>\n",
              "      <td>5.92</td>\n",
              "      <td>1.20</td>\n",
              "      <td>3.77</td>\n",
              "      <td>6.05</td>\n",
              "      <td>1235.20</td>\n",
              "      <td>0.43</td>\n",
              "      <td>0.82</td>\n",
              "      <td>174.0</td>\n",
              "      <td>0.0</td>\n",
              "      <td>0.0</td>\n",
              "      <td>0.0</td>\n",
              "      <td>0.0</td>\n",
              "      <td>0.0</td>\n",
              "      <td>13.42</td>\n",
              "    </tr>\n",
              "    <tr>\n",
              "      <th>52693</th>\n",
              "      <td>978.26</td>\n",
              "      <td>1.99</td>\n",
              "      <td>276.88</td>\n",
              "      <td>-0.71</td>\n",
              "      <td>82.2</td>\n",
              "      <td>7.05</td>\n",
              "      <td>5.80</td>\n",
              "      <td>1.26</td>\n",
              "      <td>3.69</td>\n",
              "      <td>5.93</td>\n",
              "      <td>1235.82</td>\n",
              "      <td>0.38</td>\n",
              "      <td>0.76</td>\n",
              "      <td>248.9</td>\n",
              "      <td>0.0</td>\n",
              "      <td>0.0</td>\n",
              "      <td>0.0</td>\n",
              "      <td>0.0</td>\n",
              "      <td>0.0</td>\n",
              "      <td>13.45</td>\n",
              "    </tr>\n",
              "    <tr>\n",
              "      <th>52694</th>\n",
              "      <td>978.26</td>\n",
              "      <td>2.07</td>\n",
              "      <td>276.95</td>\n",
              "      <td>-0.77</td>\n",
              "      <td>81.4</td>\n",
              "      <td>7.09</td>\n",
              "      <td>5.77</td>\n",
              "      <td>1.32</td>\n",
              "      <td>3.68</td>\n",
              "      <td>5.90</td>\n",
              "      <td>1235.49</td>\n",
              "      <td>0.57</td>\n",
              "      <td>1.07</td>\n",
              "      <td>196.6</td>\n",
              "      <td>0.0</td>\n",
              "      <td>0.0</td>\n",
              "      <td>0.0</td>\n",
              "      <td>0.0</td>\n",
              "      <td>0.0</td>\n",
              "      <td>13.47</td>\n",
              "    </tr>\n",
              "    <tr>\n",
              "      <th>52695</th>\n",
              "      <td>978.24</td>\n",
              "      <td>2.01</td>\n",
              "      <td>276.89</td>\n",
              "      <td>-0.66</td>\n",
              "      <td>82.4</td>\n",
              "      <td>7.06</td>\n",
              "      <td>5.82</td>\n",
              "      <td>1.24</td>\n",
              "      <td>3.71</td>\n",
              "      <td>5.95</td>\n",
              "      <td>1235.71</td>\n",
              "      <td>0.57</td>\n",
              "      <td>1.08</td>\n",
              "      <td>221.3</td>\n",
              "      <td>0.0</td>\n",
              "      <td>0.0</td>\n",
              "      <td>0.0</td>\n",
              "      <td>0.0</td>\n",
              "      <td>0.0</td>\n",
              "      <td>13.48</td>\n",
              "    </tr>\n",
              "  </tbody>\n",
              "</table>\n",
              "<p>52696 rows × 20 columns</p>\n",
              "</div>\n",
              "    <div class=\"colab-df-buttons\">\n",
              "\n",
              "  <div class=\"colab-df-container\">\n",
              "    <button class=\"colab-df-convert\" onclick=\"convertToInteractive('df-fb52d8cc-aff0-48d5-9724-c984e2a2758f')\"\n",
              "            title=\"Convert this dataframe to an interactive table.\"\n",
              "            style=\"display:none;\">\n",
              "\n",
              "  <svg xmlns=\"http://www.w3.org/2000/svg\" height=\"24px\" viewBox=\"0 -960 960 960\">\n",
              "    <path d=\"M120-120v-720h720v720H120Zm60-500h600v-160H180v160Zm220 220h160v-160H400v160Zm0 220h160v-160H400v160ZM180-400h160v-160H180v160Zm440 0h160v-160H620v160ZM180-180h160v-160H180v160Zm440 0h160v-160H620v160Z\"/>\n",
              "  </svg>\n",
              "    </button>\n",
              "\n",
              "  <style>\n",
              "    .colab-df-container {\n",
              "      display:flex;\n",
              "      gap: 12px;\n",
              "    }\n",
              "\n",
              "    .colab-df-convert {\n",
              "      background-color: #E8F0FE;\n",
              "      border: none;\n",
              "      border-radius: 50%;\n",
              "      cursor: pointer;\n",
              "      display: none;\n",
              "      fill: #1967D2;\n",
              "      height: 32px;\n",
              "      padding: 0 0 0 0;\n",
              "      width: 32px;\n",
              "    }\n",
              "\n",
              "    .colab-df-convert:hover {\n",
              "      background-color: #E2EBFA;\n",
              "      box-shadow: 0px 1px 2px rgba(60, 64, 67, 0.3), 0px 1px 3px 1px rgba(60, 64, 67, 0.15);\n",
              "      fill: #174EA6;\n",
              "    }\n",
              "\n",
              "    .colab-df-buttons div {\n",
              "      margin-bottom: 4px;\n",
              "    }\n",
              "\n",
              "    [theme=dark] .colab-df-convert {\n",
              "      background-color: #3B4455;\n",
              "      fill: #D2E3FC;\n",
              "    }\n",
              "\n",
              "    [theme=dark] .colab-df-convert:hover {\n",
              "      background-color: #434B5C;\n",
              "      box-shadow: 0px 1px 3px 1px rgba(0, 0, 0, 0.15);\n",
              "      filter: drop-shadow(0px 1px 2px rgba(0, 0, 0, 0.3));\n",
              "      fill: #FFFFFF;\n",
              "    }\n",
              "  </style>\n",
              "\n",
              "    <script>\n",
              "      const buttonEl =\n",
              "        document.querySelector('#df-fb52d8cc-aff0-48d5-9724-c984e2a2758f button.colab-df-convert');\n",
              "      buttonEl.style.display =\n",
              "        google.colab.kernel.accessAllowed ? 'block' : 'none';\n",
              "\n",
              "      async function convertToInteractive(key) {\n",
              "        const element = document.querySelector('#df-fb52d8cc-aff0-48d5-9724-c984e2a2758f');\n",
              "        const dataTable =\n",
              "          await google.colab.kernel.invokeFunction('convertToInteractive',\n",
              "                                                    [key], {});\n",
              "        if (!dataTable) return;\n",
              "\n",
              "        const docLinkHtml = 'Like what you see? Visit the ' +\n",
              "          '<a target=\"_blank\" href=https://colab.research.google.com/notebooks/data_table.ipynb>data table notebook</a>'\n",
              "          + ' to learn more about interactive tables.';\n",
              "        element.innerHTML = '';\n",
              "        dataTable['output_type'] = 'display_data';\n",
              "        await google.colab.output.renderOutput(dataTable, element);\n",
              "        const docLink = document.createElement('div');\n",
              "        docLink.innerHTML = docLinkHtml;\n",
              "        element.appendChild(docLink);\n",
              "      }\n",
              "    </script>\n",
              "  </div>\n",
              "\n",
              "\n",
              "<div id=\"df-ec866946-2b08-490e-8cfe-f8a478ec332d\">\n",
              "  <button class=\"colab-df-quickchart\" onclick=\"quickchart('df-ec866946-2b08-490e-8cfe-f8a478ec332d')\"\n",
              "            title=\"Suggest charts\"\n",
              "            style=\"display:none;\">\n",
              "\n",
              "<svg xmlns=\"http://www.w3.org/2000/svg\" height=\"24px\"viewBox=\"0 0 24 24\"\n",
              "     width=\"24px\">\n",
              "    <g>\n",
              "        <path d=\"M19 3H5c-1.1 0-2 .9-2 2v14c0 1.1.9 2 2 2h14c1.1 0 2-.9 2-2V5c0-1.1-.9-2-2-2zM9 17H7v-7h2v7zm4 0h-2V7h2v10zm4 0h-2v-4h2v4z\"/>\n",
              "    </g>\n",
              "</svg>\n",
              "  </button>\n",
              "\n",
              "<style>\n",
              "  .colab-df-quickchart {\n",
              "      --bg-color: #E8F0FE;\n",
              "      --fill-color: #1967D2;\n",
              "      --hover-bg-color: #E2EBFA;\n",
              "      --hover-fill-color: #174EA6;\n",
              "      --disabled-fill-color: #AAA;\n",
              "      --disabled-bg-color: #DDD;\n",
              "  }\n",
              "\n",
              "  [theme=dark] .colab-df-quickchart {\n",
              "      --bg-color: #3B4455;\n",
              "      --fill-color: #D2E3FC;\n",
              "      --hover-bg-color: #434B5C;\n",
              "      --hover-fill-color: #FFFFFF;\n",
              "      --disabled-bg-color: #3B4455;\n",
              "      --disabled-fill-color: #666;\n",
              "  }\n",
              "\n",
              "  .colab-df-quickchart {\n",
              "    background-color: var(--bg-color);\n",
              "    border: none;\n",
              "    border-radius: 50%;\n",
              "    cursor: pointer;\n",
              "    display: none;\n",
              "    fill: var(--fill-color);\n",
              "    height: 32px;\n",
              "    padding: 0;\n",
              "    width: 32px;\n",
              "  }\n",
              "\n",
              "  .colab-df-quickchart:hover {\n",
              "    background-color: var(--hover-bg-color);\n",
              "    box-shadow: 0 1px 2px rgba(60, 64, 67, 0.3), 0 1px 3px 1px rgba(60, 64, 67, 0.15);\n",
              "    fill: var(--button-hover-fill-color);\n",
              "  }\n",
              "\n",
              "  .colab-df-quickchart-complete:disabled,\n",
              "  .colab-df-quickchart-complete:disabled:hover {\n",
              "    background-color: var(--disabled-bg-color);\n",
              "    fill: var(--disabled-fill-color);\n",
              "    box-shadow: none;\n",
              "  }\n",
              "\n",
              "  .colab-df-spinner {\n",
              "    border: 2px solid var(--fill-color);\n",
              "    border-color: transparent;\n",
              "    border-bottom-color: var(--fill-color);\n",
              "    animation:\n",
              "      spin 1s steps(1) infinite;\n",
              "  }\n",
              "\n",
              "  @keyframes spin {\n",
              "    0% {\n",
              "      border-color: transparent;\n",
              "      border-bottom-color: var(--fill-color);\n",
              "      border-left-color: var(--fill-color);\n",
              "    }\n",
              "    20% {\n",
              "      border-color: transparent;\n",
              "      border-left-color: var(--fill-color);\n",
              "      border-top-color: var(--fill-color);\n",
              "    }\n",
              "    30% {\n",
              "      border-color: transparent;\n",
              "      border-left-color: var(--fill-color);\n",
              "      border-top-color: var(--fill-color);\n",
              "      border-right-color: var(--fill-color);\n",
              "    }\n",
              "    40% {\n",
              "      border-color: transparent;\n",
              "      border-right-color: var(--fill-color);\n",
              "      border-top-color: var(--fill-color);\n",
              "    }\n",
              "    60% {\n",
              "      border-color: transparent;\n",
              "      border-right-color: var(--fill-color);\n",
              "    }\n",
              "    80% {\n",
              "      border-color: transparent;\n",
              "      border-right-color: var(--fill-color);\n",
              "      border-bottom-color: var(--fill-color);\n",
              "    }\n",
              "    90% {\n",
              "      border-color: transparent;\n",
              "      border-bottom-color: var(--fill-color);\n",
              "    }\n",
              "  }\n",
              "</style>\n",
              "\n",
              "  <script>\n",
              "    async function quickchart(key) {\n",
              "      const quickchartButtonEl =\n",
              "        document.querySelector('#' + key + ' button');\n",
              "      quickchartButtonEl.disabled = true;  // To prevent multiple clicks.\n",
              "      quickchartButtonEl.classList.add('colab-df-spinner');\n",
              "      try {\n",
              "        const charts = await google.colab.kernel.invokeFunction(\n",
              "            'suggestCharts', [key], {});\n",
              "      } catch (error) {\n",
              "        console.error('Error during call to suggestCharts:', error);\n",
              "      }\n",
              "      quickchartButtonEl.classList.remove('colab-df-spinner');\n",
              "      quickchartButtonEl.classList.add('colab-df-quickchart-complete');\n",
              "    }\n",
              "    (() => {\n",
              "      let quickchartButtonEl =\n",
              "        document.querySelector('#df-ec866946-2b08-490e-8cfe-f8a478ec332d button');\n",
              "      quickchartButtonEl.style.display =\n",
              "        google.colab.kernel.accessAllowed ? 'block' : 'none';\n",
              "    })();\n",
              "  </script>\n",
              "</div>\n",
              "    </div>\n",
              "  </div>\n"
            ],
            "application/vnd.google.colaboratory.intrinsic+json": {
              "type": "dataframe",
              "summary": "{\n  \"name\": \"weather[weather\",\n  \"rows\": 52696,\n  \"fields\": [\n    {\n      \"column\": \"p (mbar)\",\n      \"properties\": {\n        \"dtype\": \"number\",\n        \"std\": 9.20714941429422,\n        \"min\": 955.58,\n        \"max\": 1020.07,\n        \"num_unique_values\": 5052,\n        \"samples\": [\n          1011.94,\n          1000.53,\n          1006.19\n        ],\n        \"semantic_type\": \"\",\n        \"description\": \"\"\n      }\n    },\n    {\n      \"column\": \"T (degC)\",\n      \"properties\": {\n        \"dtype\": \"number\",\n        \"std\": 7.4686705400282225,\n        \"min\": -6.44,\n        \"max\": 34.8,\n        \"num_unique_values\": 3680,\n        \"samples\": [\n          2.12,\n          24.03,\n          16.62\n        ],\n        \"semantic_type\": \"\",\n        \"description\": \"\"\n      }\n    },\n    {\n      \"column\": \"Tpot (K)\",\n      \"properties\": {\n        \"dtype\": \"number\",\n        \"std\": 7.616994840424776,\n        \"min\": 266.19,\n        \"max\": 309.13,\n        \"num_unique_values\": 3836,\n        \"samples\": [\n          281.02,\n          273.35,\n          282.75\n        ],\n        \"semantic_type\": \"\",\n        \"description\": \"\"\n      }\n    },\n    {\n      \"column\": \"Tdew (degC)\",\n      \"properties\": {\n        \"dtype\": \"number\",\n        \"std\": 5.956722251421258,\n        \"min\": -13.81,\n        \"max\": 20.5,\n        \"num_unique_values\": 3036,\n        \"samples\": [\n          -10.39,\n          14.8,\n          -0.96\n        ],\n        \"semantic_type\": \"\",\n        \"description\": \"\"\n      }\n    },\n    {\n      \"column\": \"rh (%)\",\n      \"properties\": {\n        \"dtype\": \"number\",\n        \"std\": 19.230259500947877,\n        \"min\": 21.16,\n        \"max\": 100.0,\n        \"num_unique_values\": 5494,\n        \"samples\": [\n          45.54,\n          67.67,\n          44.87\n        ],\n        \"semantic_type\": \"\",\n        \"description\": \"\"\n      }\n    },\n    {\n      \"column\": \"VPmax (mbar)\",\n      \"properties\": {\n        \"dtype\": \"number\",\n        \"std\": 7.632960145206344,\n        \"min\": 3.77,\n        \"max\": 55.67,\n        \"num_unique_values\": 2958,\n        \"samples\": [\n          29.49,\n          22.51,\n          10.88\n        ],\n        \"semantic_type\": \"\",\n        \"description\": \"\"\n      }\n    },\n    {\n      \"column\": \"VPact (mbar)\",\n      \"properties\": {\n        \"dtype\": \"number\",\n        \"std\": 4.023504311547772,\n        \"min\": 2.09,\n        \"max\": 24.16,\n        \"num_unique_values\": 2059,\n        \"samples\": [\n          14.33,\n          4.2,\n          14.69\n        ],\n        \"semantic_type\": \"\",\n        \"description\": \"\"\n      }\n    },\n    {\n      \"column\": \"VPdef (mbar)\",\n      \"properties\": {\n        \"dtype\": \"number\",\n        \"std\": 5.5393195060470175,\n        \"min\": 0.0,\n        \"max\": 42.1,\n        \"num_unique_values\": 2793,\n        \"samples\": [\n          31.8,\n          13.38,\n          23.27\n        ],\n        \"semantic_type\": \"\",\n        \"description\": \"\"\n      }\n    },\n    {\n      \"column\": \"sh (g/kg)\",\n      \"properties\": {\n        \"dtype\": \"number\",\n        \"std\": 2.561535931494074,\n        \"min\": 1.3,\n        \"max\": 15.4,\n        \"num_unique_values\": 1337,\n        \"samples\": [\n          9.03,\n          12.81,\n          14.53\n        ],\n        \"semantic_type\": \"\",\n        \"description\": \"\"\n      }\n    },\n    {\n      \"column\": \"H2OC (mmol/mol)\",\n      \"properties\": {\n        \"dtype\": \"number\",\n        \"std\": 4.082683841441041,\n        \"min\": 2.09,\n        \"max\": 24.53,\n        \"num_unique_values\": 2087,\n        \"samples\": [\n          15.59,\n          17.8,\n          8.23\n        ],\n        \"semantic_type\": \"\",\n        \"description\": \"\"\n      }\n    },\n    {\n      \"column\": \"rho (g/m**3)\",\n      \"properties\": {\n        \"dtype\": \"number\",\n        \"std\": 36.430222493831565,\n        \"min\": 1107.38,\n        \"max\": 1318.52,\n        \"num_unique_values\": 14826,\n        \"samples\": [\n          1276.66,\n          1156.4,\n          1231.75\n        ],\n        \"semantic_type\": \"\",\n        \"description\": \"\"\n      }\n    },\n    {\n      \"column\": \"wv (m/s)\",\n      \"properties\": {\n        \"dtype\": \"number\",\n        \"std\": 43.59693111454282,\n        \"min\": -9999.0,\n        \"max\": 13.77,\n        \"num_unique_values\": 977,\n        \"samples\": [\n          2.16,\n          7.3,\n          3.65\n        ],\n        \"semantic_type\": \"\",\n        \"description\": \"\"\n      }\n    },\n    {\n      \"column\": \"max. wv (m/s)\",\n      \"properties\": {\n        \"dtype\": \"number\",\n        \"std\": 2.4624666497059446,\n        \"min\": 0.0,\n        \"max\": 22.9,\n        \"num_unique_values\": 1367,\n        \"samples\": [\n          2.14,\n          2.05,\n          6.99\n        ],\n        \"semantic_type\": \"\",\n        \"description\": \"\"\n      }\n    },\n    {\n      \"column\": \"wd (deg)\",\n      \"properties\": {\n        \"dtype\": \"number\",\n        \"std\": 81.19484008553546,\n        \"min\": 0.0,\n        \"max\": 360.0,\n        \"num_unique_values\": 8099,\n        \"samples\": [\n          18.9,\n          278.9,\n          27.86\n        ],\n        \"semantic_type\": \"\",\n        \"description\": \"\"\n      }\n    },\n    {\n      \"column\": \"rain (mm)\",\n      \"properties\": {\n        \"dtype\": \"number\",\n        \"std\": 0.12328919692195224,\n        \"min\": 0.0,\n        \"max\": 11.2,\n        \"num_unique_values\": 42,\n        \"samples\": [\n          3.4,\n          1.7,\n          0.5\n        ],\n        \"semantic_type\": \"\",\n        \"description\": \"\"\n      }\n    },\n    {\n      \"column\": \"raining (s)\",\n      \"properties\": {\n        \"dtype\": \"number\",\n        \"std\": 111.50342017743145,\n        \"min\": 0.0,\n        \"max\": 600.0,\n        \"num_unique_values\": 61,\n        \"samples\": [\n          0.0,\n          370.0,\n          400.0\n        ],\n        \"semantic_type\": \"\",\n        \"description\": \"\"\n      }\n    },\n    {\n      \"column\": \"SWDR (W/m\\ufffd)\",\n      \"properties\": {\n        \"dtype\": \"number\",\n        \"std\": 215.73511597916436,\n        \"min\": 0.0,\n        \"max\": 1115.29,\n        \"num_unique_values\": 16767,\n        \"samples\": [\n          742.38,\n          235.93,\n          793.25\n        ],\n        \"semantic_type\": \"\",\n        \"description\": \"\"\n      }\n    },\n    {\n      \"column\": \"PAR (\\ufffdmol/m\\ufffd/s)\",\n      \"properties\": {\n        \"dtype\": \"number\",\n        \"std\": 422.7865148342765,\n        \"min\": 0.0,\n        \"max\": 2131.76,\n        \"num_unique_values\": 19508,\n        \"samples\": [\n          871.49,\n          792.67,\n          647.1\n        ],\n        \"semantic_type\": \"\",\n        \"description\": \"\"\n      }\n    },\n    {\n      \"column\": \"max. PAR (\\ufffdmol/m\\ufffd/s)\",\n      \"properties\": {\n        \"dtype\": \"number\",\n        \"std\": 569.9567616859014,\n        \"min\": -9999.0,\n        \"max\": 2498.94,\n        \"num_unique_values\": 19004,\n        \"samples\": [\n          1036.87,\n          1270.82,\n          1039.19\n        ],\n        \"semantic_type\": \"\",\n        \"description\": \"\"\n      }\n    },\n    {\n      \"column\": \"Tlog (degC)\",\n      \"properties\": {\n        \"dtype\": \"number\",\n        \"std\": 7.790619595393291,\n        \"min\": 6.9,\n        \"max\": 49.09,\n        \"num_unique_values\": 3716,\n        \"samples\": [\n          38.64,\n          16.29,\n          15.33\n        ],\n        \"semantic_type\": \"\",\n        \"description\": \"\"\n      }\n    }\n  ]\n}"
            }
          },
          "metadata": {},
          "execution_count": 63
        }
      ]
    },
    {
      "cell_type": "code",
      "source": [
        "weather.drop('y',axis=1)"
      ],
      "metadata": {
        "colab": {
          "base_uri": "https://localhost:8080/",
          "height": 806
        },
        "id": "rTuR39H-Q_4I",
        "outputId": "9eded678-c09a-44bc-dfc7-a4eb34c1864e"
      },
      "execution_count": null,
      "outputs": [
        {
          "output_type": "execute_result",
          "data": {
            "text/plain": [
              "       unique_id                  ds  p (mbar)  T (degC)  Tpot (K)  \\\n",
              "0              1 2020-01-01 00:10:00   1008.89      0.71    273.18   \n",
              "1              1 2020-01-01 00:20:00   1008.76      0.75    273.22   \n",
              "2              1 2020-01-01 00:30:00   1008.66      0.73    273.21   \n",
              "3              1 2020-01-01 00:40:00   1008.64      0.37    272.86   \n",
              "4              1 2020-01-01 00:50:00   1008.61      0.33    272.82   \n",
              "...          ...                 ...       ...       ...       ...   \n",
              "52691          1 2020-12-31 23:20:00    978.32      2.28    277.16   \n",
              "52692          1 2020-12-31 23:30:00    978.30      2.13    277.01   \n",
              "52693          1 2020-12-31 23:40:00    978.26      1.99    276.88   \n",
              "52694          1 2020-12-31 23:50:00    978.26      2.07    276.95   \n",
              "52695          1 2021-01-01 00:00:00    978.24      2.01    276.89   \n",
              "\n",
              "       Tdew (degC)  rh (%)  VPmax (mbar)  VPact (mbar)  VPdef (mbar)  ...  \\\n",
              "0            -1.33    86.1          6.43          5.54          0.89  ...   \n",
              "1            -1.44    85.2          6.45          5.49          0.95  ...   \n",
              "2            -1.48    85.1          6.44          5.48          0.96  ...   \n",
              "3            -1.64    86.3          6.27          5.41          0.86  ...   \n",
              "4            -1.50    87.4          6.26          5.47          0.79  ...   \n",
              "...            ...     ...           ...           ...           ...  ...   \n",
              "52691        -0.80    80.0          7.20          5.76          1.44  ...   \n",
              "52692        -0.43    83.1          7.12          5.92          1.20  ...   \n",
              "52693        -0.71    82.2          7.05          5.80          1.26  ...   \n",
              "52694        -0.77    81.4          7.09          5.77          1.32  ...   \n",
              "52695        -0.66    82.4          7.06          5.82          1.24  ...   \n",
              "\n",
              "       rho (g/m**3)  wv (m/s)  max. wv (m/s)  wd (deg)  rain (mm)  \\\n",
              "0           1280.62      1.02           1.60     224.3        0.0   \n",
              "1           1280.33      0.43           0.84     206.8        0.0   \n",
              "2           1280.29      0.61           1.48     197.1        0.0   \n",
              "3           1281.97      1.11           1.48     206.4        0.0   \n",
              "4           1282.08      0.49           1.40     209.6        0.0   \n",
              "...             ...       ...            ...       ...        ...   \n",
              "52691       1234.61      0.73           1.40     180.6        0.0   \n",
              "52692       1235.20      0.43           0.82     174.0        0.0   \n",
              "52693       1235.82      0.38           0.76     248.9        0.0   \n",
              "52694       1235.49      0.57           1.07     196.6        0.0   \n",
              "52695       1235.71      0.57           1.08     221.3        0.0   \n",
              "\n",
              "       raining (s)  SWDR (W/m�)  PAR (�mol/m�/s)  max. PAR (�mol/m�/s)  \\\n",
              "0              0.0          0.0              0.0                   0.0   \n",
              "1              0.0          0.0              0.0                   0.0   \n",
              "2              0.0          0.0              0.0                   0.0   \n",
              "3              0.0          0.0              0.0                   0.0   \n",
              "4              0.0          0.0              0.0                   0.0   \n",
              "...            ...          ...              ...                   ...   \n",
              "52691          0.0          0.0              0.0                   0.0   \n",
              "52692          0.0          0.0              0.0                   0.0   \n",
              "52693          0.0          0.0              0.0                   0.0   \n",
              "52694          0.0          0.0              0.0                   0.0   \n",
              "52695          0.0          0.0              0.0                   0.0   \n",
              "\n",
              "       Tlog (degC)  \n",
              "0            11.45  \n",
              "1            11.51  \n",
              "2            11.60  \n",
              "3            11.70  \n",
              "4            11.81  \n",
              "...            ...  \n",
              "52691        13.40  \n",
              "52692        13.42  \n",
              "52693        13.45  \n",
              "52694        13.47  \n",
              "52695        13.48  \n",
              "\n",
              "[52696 rows x 22 columns]"
            ],
            "text/html": [
              "\n",
              "  <div id=\"df-f5ccba71-0dbe-4e82-a5fc-2e394e19ed18\" class=\"colab-df-container\">\n",
              "    <div>\n",
              "<style scoped>\n",
              "    .dataframe tbody tr th:only-of-type {\n",
              "        vertical-align: middle;\n",
              "    }\n",
              "\n",
              "    .dataframe tbody tr th {\n",
              "        vertical-align: top;\n",
              "    }\n",
              "\n",
              "    .dataframe thead th {\n",
              "        text-align: right;\n",
              "    }\n",
              "</style>\n",
              "<table border=\"1\" class=\"dataframe\">\n",
              "  <thead>\n",
              "    <tr style=\"text-align: right;\">\n",
              "      <th></th>\n",
              "      <th>unique_id</th>\n",
              "      <th>ds</th>\n",
              "      <th>p (mbar)</th>\n",
              "      <th>T (degC)</th>\n",
              "      <th>Tpot (K)</th>\n",
              "      <th>Tdew (degC)</th>\n",
              "      <th>rh (%)</th>\n",
              "      <th>VPmax (mbar)</th>\n",
              "      <th>VPact (mbar)</th>\n",
              "      <th>VPdef (mbar)</th>\n",
              "      <th>...</th>\n",
              "      <th>rho (g/m**3)</th>\n",
              "      <th>wv (m/s)</th>\n",
              "      <th>max. wv (m/s)</th>\n",
              "      <th>wd (deg)</th>\n",
              "      <th>rain (mm)</th>\n",
              "      <th>raining (s)</th>\n",
              "      <th>SWDR (W/m�)</th>\n",
              "      <th>PAR (�mol/m�/s)</th>\n",
              "      <th>max. PAR (�mol/m�/s)</th>\n",
              "      <th>Tlog (degC)</th>\n",
              "    </tr>\n",
              "  </thead>\n",
              "  <tbody>\n",
              "    <tr>\n",
              "      <th>0</th>\n",
              "      <td>1</td>\n",
              "      <td>2020-01-01 00:10:00</td>\n",
              "      <td>1008.89</td>\n",
              "      <td>0.71</td>\n",
              "      <td>273.18</td>\n",
              "      <td>-1.33</td>\n",
              "      <td>86.1</td>\n",
              "      <td>6.43</td>\n",
              "      <td>5.54</td>\n",
              "      <td>0.89</td>\n",
              "      <td>...</td>\n",
              "      <td>1280.62</td>\n",
              "      <td>1.02</td>\n",
              "      <td>1.60</td>\n",
              "      <td>224.3</td>\n",
              "      <td>0.0</td>\n",
              "      <td>0.0</td>\n",
              "      <td>0.0</td>\n",
              "      <td>0.0</td>\n",
              "      <td>0.0</td>\n",
              "      <td>11.45</td>\n",
              "    </tr>\n",
              "    <tr>\n",
              "      <th>1</th>\n",
              "      <td>1</td>\n",
              "      <td>2020-01-01 00:20:00</td>\n",
              "      <td>1008.76</td>\n",
              "      <td>0.75</td>\n",
              "      <td>273.22</td>\n",
              "      <td>-1.44</td>\n",
              "      <td>85.2</td>\n",
              "      <td>6.45</td>\n",
              "      <td>5.49</td>\n",
              "      <td>0.95</td>\n",
              "      <td>...</td>\n",
              "      <td>1280.33</td>\n",
              "      <td>0.43</td>\n",
              "      <td>0.84</td>\n",
              "      <td>206.8</td>\n",
              "      <td>0.0</td>\n",
              "      <td>0.0</td>\n",
              "      <td>0.0</td>\n",
              "      <td>0.0</td>\n",
              "      <td>0.0</td>\n",
              "      <td>11.51</td>\n",
              "    </tr>\n",
              "    <tr>\n",
              "      <th>2</th>\n",
              "      <td>1</td>\n",
              "      <td>2020-01-01 00:30:00</td>\n",
              "      <td>1008.66</td>\n",
              "      <td>0.73</td>\n",
              "      <td>273.21</td>\n",
              "      <td>-1.48</td>\n",
              "      <td>85.1</td>\n",
              "      <td>6.44</td>\n",
              "      <td>5.48</td>\n",
              "      <td>0.96</td>\n",
              "      <td>...</td>\n",
              "      <td>1280.29</td>\n",
              "      <td>0.61</td>\n",
              "      <td>1.48</td>\n",
              "      <td>197.1</td>\n",
              "      <td>0.0</td>\n",
              "      <td>0.0</td>\n",
              "      <td>0.0</td>\n",
              "      <td>0.0</td>\n",
              "      <td>0.0</td>\n",
              "      <td>11.60</td>\n",
              "    </tr>\n",
              "    <tr>\n",
              "      <th>3</th>\n",
              "      <td>1</td>\n",
              "      <td>2020-01-01 00:40:00</td>\n",
              "      <td>1008.64</td>\n",
              "      <td>0.37</td>\n",
              "      <td>272.86</td>\n",
              "      <td>-1.64</td>\n",
              "      <td>86.3</td>\n",
              "      <td>6.27</td>\n",
              "      <td>5.41</td>\n",
              "      <td>0.86</td>\n",
              "      <td>...</td>\n",
              "      <td>1281.97</td>\n",
              "      <td>1.11</td>\n",
              "      <td>1.48</td>\n",
              "      <td>206.4</td>\n",
              "      <td>0.0</td>\n",
              "      <td>0.0</td>\n",
              "      <td>0.0</td>\n",
              "      <td>0.0</td>\n",
              "      <td>0.0</td>\n",
              "      <td>11.70</td>\n",
              "    </tr>\n",
              "    <tr>\n",
              "      <th>4</th>\n",
              "      <td>1</td>\n",
              "      <td>2020-01-01 00:50:00</td>\n",
              "      <td>1008.61</td>\n",
              "      <td>0.33</td>\n",
              "      <td>272.82</td>\n",
              "      <td>-1.50</td>\n",
              "      <td>87.4</td>\n",
              "      <td>6.26</td>\n",
              "      <td>5.47</td>\n",
              "      <td>0.79</td>\n",
              "      <td>...</td>\n",
              "      <td>1282.08</td>\n",
              "      <td>0.49</td>\n",
              "      <td>1.40</td>\n",
              "      <td>209.6</td>\n",
              "      <td>0.0</td>\n",
              "      <td>0.0</td>\n",
              "      <td>0.0</td>\n",
              "      <td>0.0</td>\n",
              "      <td>0.0</td>\n",
              "      <td>11.81</td>\n",
              "    </tr>\n",
              "    <tr>\n",
              "      <th>...</th>\n",
              "      <td>...</td>\n",
              "      <td>...</td>\n",
              "      <td>...</td>\n",
              "      <td>...</td>\n",
              "      <td>...</td>\n",
              "      <td>...</td>\n",
              "      <td>...</td>\n",
              "      <td>...</td>\n",
              "      <td>...</td>\n",
              "      <td>...</td>\n",
              "      <td>...</td>\n",
              "      <td>...</td>\n",
              "      <td>...</td>\n",
              "      <td>...</td>\n",
              "      <td>...</td>\n",
              "      <td>...</td>\n",
              "      <td>...</td>\n",
              "      <td>...</td>\n",
              "      <td>...</td>\n",
              "      <td>...</td>\n",
              "      <td>...</td>\n",
              "    </tr>\n",
              "    <tr>\n",
              "      <th>52691</th>\n",
              "      <td>1</td>\n",
              "      <td>2020-12-31 23:20:00</td>\n",
              "      <td>978.32</td>\n",
              "      <td>2.28</td>\n",
              "      <td>277.16</td>\n",
              "      <td>-0.80</td>\n",
              "      <td>80.0</td>\n",
              "      <td>7.20</td>\n",
              "      <td>5.76</td>\n",
              "      <td>1.44</td>\n",
              "      <td>...</td>\n",
              "      <td>1234.61</td>\n",
              "      <td>0.73</td>\n",
              "      <td>1.40</td>\n",
              "      <td>180.6</td>\n",
              "      <td>0.0</td>\n",
              "      <td>0.0</td>\n",
              "      <td>0.0</td>\n",
              "      <td>0.0</td>\n",
              "      <td>0.0</td>\n",
              "      <td>13.40</td>\n",
              "    </tr>\n",
              "    <tr>\n",
              "      <th>52692</th>\n",
              "      <td>1</td>\n",
              "      <td>2020-12-31 23:30:00</td>\n",
              "      <td>978.30</td>\n",
              "      <td>2.13</td>\n",
              "      <td>277.01</td>\n",
              "      <td>-0.43</td>\n",
              "      <td>83.1</td>\n",
              "      <td>7.12</td>\n",
              "      <td>5.92</td>\n",
              "      <td>1.20</td>\n",
              "      <td>...</td>\n",
              "      <td>1235.20</td>\n",
              "      <td>0.43</td>\n",
              "      <td>0.82</td>\n",
              "      <td>174.0</td>\n",
              "      <td>0.0</td>\n",
              "      <td>0.0</td>\n",
              "      <td>0.0</td>\n",
              "      <td>0.0</td>\n",
              "      <td>0.0</td>\n",
              "      <td>13.42</td>\n",
              "    </tr>\n",
              "    <tr>\n",
              "      <th>52693</th>\n",
              "      <td>1</td>\n",
              "      <td>2020-12-31 23:40:00</td>\n",
              "      <td>978.26</td>\n",
              "      <td>1.99</td>\n",
              "      <td>276.88</td>\n",
              "      <td>-0.71</td>\n",
              "      <td>82.2</td>\n",
              "      <td>7.05</td>\n",
              "      <td>5.80</td>\n",
              "      <td>1.26</td>\n",
              "      <td>...</td>\n",
              "      <td>1235.82</td>\n",
              "      <td>0.38</td>\n",
              "      <td>0.76</td>\n",
              "      <td>248.9</td>\n",
              "      <td>0.0</td>\n",
              "      <td>0.0</td>\n",
              "      <td>0.0</td>\n",
              "      <td>0.0</td>\n",
              "      <td>0.0</td>\n",
              "      <td>13.45</td>\n",
              "    </tr>\n",
              "    <tr>\n",
              "      <th>52694</th>\n",
              "      <td>1</td>\n",
              "      <td>2020-12-31 23:50:00</td>\n",
              "      <td>978.26</td>\n",
              "      <td>2.07</td>\n",
              "      <td>276.95</td>\n",
              "      <td>-0.77</td>\n",
              "      <td>81.4</td>\n",
              "      <td>7.09</td>\n",
              "      <td>5.77</td>\n",
              "      <td>1.32</td>\n",
              "      <td>...</td>\n",
              "      <td>1235.49</td>\n",
              "      <td>0.57</td>\n",
              "      <td>1.07</td>\n",
              "      <td>196.6</td>\n",
              "      <td>0.0</td>\n",
              "      <td>0.0</td>\n",
              "      <td>0.0</td>\n",
              "      <td>0.0</td>\n",
              "      <td>0.0</td>\n",
              "      <td>13.47</td>\n",
              "    </tr>\n",
              "    <tr>\n",
              "      <th>52695</th>\n",
              "      <td>1</td>\n",
              "      <td>2021-01-01 00:00:00</td>\n",
              "      <td>978.24</td>\n",
              "      <td>2.01</td>\n",
              "      <td>276.89</td>\n",
              "      <td>-0.66</td>\n",
              "      <td>82.4</td>\n",
              "      <td>7.06</td>\n",
              "      <td>5.82</td>\n",
              "      <td>1.24</td>\n",
              "      <td>...</td>\n",
              "      <td>1235.71</td>\n",
              "      <td>0.57</td>\n",
              "      <td>1.08</td>\n",
              "      <td>221.3</td>\n",
              "      <td>0.0</td>\n",
              "      <td>0.0</td>\n",
              "      <td>0.0</td>\n",
              "      <td>0.0</td>\n",
              "      <td>0.0</td>\n",
              "      <td>13.48</td>\n",
              "    </tr>\n",
              "  </tbody>\n",
              "</table>\n",
              "<p>52696 rows × 22 columns</p>\n",
              "</div>\n",
              "    <div class=\"colab-df-buttons\">\n",
              "\n",
              "  <div class=\"colab-df-container\">\n",
              "    <button class=\"colab-df-convert\" onclick=\"convertToInteractive('df-f5ccba71-0dbe-4e82-a5fc-2e394e19ed18')\"\n",
              "            title=\"Convert this dataframe to an interactive table.\"\n",
              "            style=\"display:none;\">\n",
              "\n",
              "  <svg xmlns=\"http://www.w3.org/2000/svg\" height=\"24px\" viewBox=\"0 -960 960 960\">\n",
              "    <path d=\"M120-120v-720h720v720H120Zm60-500h600v-160H180v160Zm220 220h160v-160H400v160Zm0 220h160v-160H400v160ZM180-400h160v-160H180v160Zm440 0h160v-160H620v160ZM180-180h160v-160H180v160Zm440 0h160v-160H620v160Z\"/>\n",
              "  </svg>\n",
              "    </button>\n",
              "\n",
              "  <style>\n",
              "    .colab-df-container {\n",
              "      display:flex;\n",
              "      gap: 12px;\n",
              "    }\n",
              "\n",
              "    .colab-df-convert {\n",
              "      background-color: #E8F0FE;\n",
              "      border: none;\n",
              "      border-radius: 50%;\n",
              "      cursor: pointer;\n",
              "      display: none;\n",
              "      fill: #1967D2;\n",
              "      height: 32px;\n",
              "      padding: 0 0 0 0;\n",
              "      width: 32px;\n",
              "    }\n",
              "\n",
              "    .colab-df-convert:hover {\n",
              "      background-color: #E2EBFA;\n",
              "      box-shadow: 0px 1px 2px rgba(60, 64, 67, 0.3), 0px 1px 3px 1px rgba(60, 64, 67, 0.15);\n",
              "      fill: #174EA6;\n",
              "    }\n",
              "\n",
              "    .colab-df-buttons div {\n",
              "      margin-bottom: 4px;\n",
              "    }\n",
              "\n",
              "    [theme=dark] .colab-df-convert {\n",
              "      background-color: #3B4455;\n",
              "      fill: #D2E3FC;\n",
              "    }\n",
              "\n",
              "    [theme=dark] .colab-df-convert:hover {\n",
              "      background-color: #434B5C;\n",
              "      box-shadow: 0px 1px 3px 1px rgba(0, 0, 0, 0.15);\n",
              "      filter: drop-shadow(0px 1px 2px rgba(0, 0, 0, 0.3));\n",
              "      fill: #FFFFFF;\n",
              "    }\n",
              "  </style>\n",
              "\n",
              "    <script>\n",
              "      const buttonEl =\n",
              "        document.querySelector('#df-f5ccba71-0dbe-4e82-a5fc-2e394e19ed18 button.colab-df-convert');\n",
              "      buttonEl.style.display =\n",
              "        google.colab.kernel.accessAllowed ? 'block' : 'none';\n",
              "\n",
              "      async function convertToInteractive(key) {\n",
              "        const element = document.querySelector('#df-f5ccba71-0dbe-4e82-a5fc-2e394e19ed18');\n",
              "        const dataTable =\n",
              "          await google.colab.kernel.invokeFunction('convertToInteractive',\n",
              "                                                    [key], {});\n",
              "        if (!dataTable) return;\n",
              "\n",
              "        const docLinkHtml = 'Like what you see? Visit the ' +\n",
              "          '<a target=\"_blank\" href=https://colab.research.google.com/notebooks/data_table.ipynb>data table notebook</a>'\n",
              "          + ' to learn more about interactive tables.';\n",
              "        element.innerHTML = '';\n",
              "        dataTable['output_type'] = 'display_data';\n",
              "        await google.colab.output.renderOutput(dataTable, element);\n",
              "        const docLink = document.createElement('div');\n",
              "        docLink.innerHTML = docLinkHtml;\n",
              "        element.appendChild(docLink);\n",
              "      }\n",
              "    </script>\n",
              "  </div>\n",
              "\n",
              "\n",
              "<div id=\"df-e1e38a15-eef3-4973-bec9-adcbdc300c61\">\n",
              "  <button class=\"colab-df-quickchart\" onclick=\"quickchart('df-e1e38a15-eef3-4973-bec9-adcbdc300c61')\"\n",
              "            title=\"Suggest charts\"\n",
              "            style=\"display:none;\">\n",
              "\n",
              "<svg xmlns=\"http://www.w3.org/2000/svg\" height=\"24px\"viewBox=\"0 0 24 24\"\n",
              "     width=\"24px\">\n",
              "    <g>\n",
              "        <path d=\"M19 3H5c-1.1 0-2 .9-2 2v14c0 1.1.9 2 2 2h14c1.1 0 2-.9 2-2V5c0-1.1-.9-2-2-2zM9 17H7v-7h2v7zm4 0h-2V7h2v10zm4 0h-2v-4h2v4z\"/>\n",
              "    </g>\n",
              "</svg>\n",
              "  </button>\n",
              "\n",
              "<style>\n",
              "  .colab-df-quickchart {\n",
              "      --bg-color: #E8F0FE;\n",
              "      --fill-color: #1967D2;\n",
              "      --hover-bg-color: #E2EBFA;\n",
              "      --hover-fill-color: #174EA6;\n",
              "      --disabled-fill-color: #AAA;\n",
              "      --disabled-bg-color: #DDD;\n",
              "  }\n",
              "\n",
              "  [theme=dark] .colab-df-quickchart {\n",
              "      --bg-color: #3B4455;\n",
              "      --fill-color: #D2E3FC;\n",
              "      --hover-bg-color: #434B5C;\n",
              "      --hover-fill-color: #FFFFFF;\n",
              "      --disabled-bg-color: #3B4455;\n",
              "      --disabled-fill-color: #666;\n",
              "  }\n",
              "\n",
              "  .colab-df-quickchart {\n",
              "    background-color: var(--bg-color);\n",
              "    border: none;\n",
              "    border-radius: 50%;\n",
              "    cursor: pointer;\n",
              "    display: none;\n",
              "    fill: var(--fill-color);\n",
              "    height: 32px;\n",
              "    padding: 0;\n",
              "    width: 32px;\n",
              "  }\n",
              "\n",
              "  .colab-df-quickchart:hover {\n",
              "    background-color: var(--hover-bg-color);\n",
              "    box-shadow: 0 1px 2px rgba(60, 64, 67, 0.3), 0 1px 3px 1px rgba(60, 64, 67, 0.15);\n",
              "    fill: var(--button-hover-fill-color);\n",
              "  }\n",
              "\n",
              "  .colab-df-quickchart-complete:disabled,\n",
              "  .colab-df-quickchart-complete:disabled:hover {\n",
              "    background-color: var(--disabled-bg-color);\n",
              "    fill: var(--disabled-fill-color);\n",
              "    box-shadow: none;\n",
              "  }\n",
              "\n",
              "  .colab-df-spinner {\n",
              "    border: 2px solid var(--fill-color);\n",
              "    border-color: transparent;\n",
              "    border-bottom-color: var(--fill-color);\n",
              "    animation:\n",
              "      spin 1s steps(1) infinite;\n",
              "  }\n",
              "\n",
              "  @keyframes spin {\n",
              "    0% {\n",
              "      border-color: transparent;\n",
              "      border-bottom-color: var(--fill-color);\n",
              "      border-left-color: var(--fill-color);\n",
              "    }\n",
              "    20% {\n",
              "      border-color: transparent;\n",
              "      border-left-color: var(--fill-color);\n",
              "      border-top-color: var(--fill-color);\n",
              "    }\n",
              "    30% {\n",
              "      border-color: transparent;\n",
              "      border-left-color: var(--fill-color);\n",
              "      border-top-color: var(--fill-color);\n",
              "      border-right-color: var(--fill-color);\n",
              "    }\n",
              "    40% {\n",
              "      border-color: transparent;\n",
              "      border-right-color: var(--fill-color);\n",
              "      border-top-color: var(--fill-color);\n",
              "    }\n",
              "    60% {\n",
              "      border-color: transparent;\n",
              "      border-right-color: var(--fill-color);\n",
              "    }\n",
              "    80% {\n",
              "      border-color: transparent;\n",
              "      border-right-color: var(--fill-color);\n",
              "      border-bottom-color: var(--fill-color);\n",
              "    }\n",
              "    90% {\n",
              "      border-color: transparent;\n",
              "      border-bottom-color: var(--fill-color);\n",
              "    }\n",
              "  }\n",
              "</style>\n",
              "\n",
              "  <script>\n",
              "    async function quickchart(key) {\n",
              "      const quickchartButtonEl =\n",
              "        document.querySelector('#' + key + ' button');\n",
              "      quickchartButtonEl.disabled = true;  // To prevent multiple clicks.\n",
              "      quickchartButtonEl.classList.add('colab-df-spinner');\n",
              "      try {\n",
              "        const charts = await google.colab.kernel.invokeFunction(\n",
              "            'suggestCharts', [key], {});\n",
              "      } catch (error) {\n",
              "        console.error('Error during call to suggestCharts:', error);\n",
              "      }\n",
              "      quickchartButtonEl.classList.remove('colab-df-spinner');\n",
              "      quickchartButtonEl.classList.add('colab-df-quickchart-complete');\n",
              "    }\n",
              "    (() => {\n",
              "      let quickchartButtonEl =\n",
              "        document.querySelector('#df-e1e38a15-eef3-4973-bec9-adcbdc300c61 button');\n",
              "      quickchartButtonEl.style.display =\n",
              "        google.colab.kernel.accessAllowed ? 'block' : 'none';\n",
              "    })();\n",
              "  </script>\n",
              "</div>\n",
              "    </div>\n",
              "  </div>\n"
            ],
            "application/vnd.google.colaboratory.intrinsic+json": {
              "type": "dataframe"
            }
          },
          "metadata": {},
          "execution_count": 69
        }
      ]
    },
    {
      "cell_type": "code",
      "source": [
        "%%time\n",
        "df = timegpt.forecast(df=weather_train, h=720, model='timegpt-1-long-horizon',freq='10min') # предсказываю\n",
        "predict = df['TimeGPT'] # вытаскиваю предсказания\n",
        "predict.to_csv(\"weather2.csv\")"
      ],
      "metadata": {
        "colab": {
          "base_uri": "https://localhost:8080/"
        },
        "id": "bX6VlFYS7FB-",
        "outputId": "ba0061ef-0a6e-41c5-fd1b-f6bb9958e493"
      },
      "execution_count": null,
      "outputs": [
        {
          "output_type": "stream",
          "name": "stderr",
          "text": [
            "WARNING:nixtlats.nixtla_client:The specified horizon \"h\" exceeds the model horizon. This may lead to less accurate forecasts. Please consider using a smaller horizon.\n"
          ]
        },
        {
          "output_type": "stream",
          "name": "stdout",
          "text": [
            "CPU times: user 2.21 s, sys: 41.5 ms, total: 2.25 s\n",
            "Wall time: 9.67 s\n"
          ]
        }
      ]
    },
    {
      "cell_type": "code",
      "source": [
        "table = PrettyTable()\n",
        "table.field_names = [\"Шагов прогноза\", \"MAE\", \"MSE\"]\n",
        "test = weather_test['y']\n",
        "# Перебираем разные шаги прогнозирования\n",
        "for step in step_forecasting:\n",
        "    # Вычисляем метрики\n",
        "    MAE_value = mean_absolute_error(test.iloc[:step], predict[:step]).round(3)\n",
        "    MSE_value = mean_squared_error(test.iloc[:step], predict[:step]).round(3)\n",
        "    # Добавляем результаты в таблицу\n",
        "    table.add_row([step, MAE_value, MSE_value])\n",
        "print('zero-shot weather'.center(len(table.field_names) * 11))\n",
        "print(table)"
      ],
      "metadata": {
        "colab": {
          "base_uri": "https://localhost:8080/"
        },
        "id": "jFwktK2M7MSN",
        "outputId": "efcebcf4-a6e5-459b-eb0c-3b6308bfc003"
      },
      "execution_count": null,
      "outputs": [
        {
          "output_type": "stream",
          "name": "stdout",
          "text": [
            "        zero-shot weather        \n",
            "+----------------+-------+--------+\n",
            "| Шагов прогноза |  MAE  |  MSE   |\n",
            "+----------------+-------+--------+\n",
            "|       24       | 7.942 | 93.442 |\n",
            "|       96       |  7.51 | 92.097 |\n",
            "|      192       | 6.104 | 60.032 |\n",
            "|      336       | 6.233 | 61.101 |\n",
            "|      720       | 6.411 | 63.333 |\n",
            "+----------------+-------+--------+\n"
          ]
        }
      ]
    },
    {
      "cell_type": "markdown",
      "source": [
        "#### illnes"
      ],
      "metadata": {
        "id": "pp_QuNIB9QEV"
      }
    },
    {
      "cell_type": "code",
      "source": [
        "step_forecasting1 = [24,36,48,60]"
      ],
      "metadata": {
        "id": "ABU0K8WO9co_"
      },
      "execution_count": null,
      "outputs": []
    },
    {
      "cell_type": "code",
      "source": [
        "illness"
      ],
      "metadata": {
        "colab": {
          "base_uri": "https://localhost:8080/",
          "height": 424
        },
        "id": "nhKMzMqNfOFP",
        "outputId": "c8e44f07-c3be-4bab-c549-c855215fe8bf"
      },
      "execution_count": null,
      "outputs": [
        {
          "output_type": "execute_result",
          "data": {
            "text/plain": [
              "     unique_id         ds        y  % WEIGHTED ILI  %UNWEIGHTED ILI  AGE 0-4  \\\n",
              "0            1 2002-01-01   176569        1.222620         1.166680      582   \n",
              "1            1 2002-01-08   186355        1.333440         1.216500      683   \n",
              "2            1 2002-01-15   192469        1.319290         1.130570      642   \n",
              "3            1 2002-01-22   207512        1.494840         1.252460      728   \n",
              "4            1 2002-01-29   223208        1.471950         1.302370      823   \n",
              "..         ...        ...      ...             ...              ...      ...   \n",
              "961          1 2020-06-02  1525058        0.839059         0.846722     2756   \n",
              "962          1 2020-06-09  1538038        0.895958         0.908885     3203   \n",
              "963          1 2020-06-16  1528103        0.910926         0.941625     3478   \n",
              "964          1 2020-06-23  1542813        0.946945         0.972185     3734   \n",
              "965          1 2020-06-30  1509928        0.963716         1.013760     3955   \n",
              "\n",
              "     AGE 5-24  ILITOTAL  NUM. OF PROVIDERS  \n",
              "0         805      2060                754  \n",
              "1         872      2267                785  \n",
              "2         878      2176                831  \n",
              "3        1045      2599                863  \n",
              "4        1189      2907                909  \n",
              "..        ...       ...                ...  \n",
              "961      3528     12913               3258  \n",
              "962      3778     13979               3254  \n",
              "963      3796     14389               3177  \n",
              "964      3818     14999               3066  \n",
              "965      3843     15307               3027  \n",
              "\n",
              "[966 rows x 9 columns]"
            ],
            "text/html": [
              "\n",
              "  <div id=\"df-82ad6788-5f3c-48f0-9ea0-0808d2ede3de\" class=\"colab-df-container\">\n",
              "    <div>\n",
              "<style scoped>\n",
              "    .dataframe tbody tr th:only-of-type {\n",
              "        vertical-align: middle;\n",
              "    }\n",
              "\n",
              "    .dataframe tbody tr th {\n",
              "        vertical-align: top;\n",
              "    }\n",
              "\n",
              "    .dataframe thead th {\n",
              "        text-align: right;\n",
              "    }\n",
              "</style>\n",
              "<table border=\"1\" class=\"dataframe\">\n",
              "  <thead>\n",
              "    <tr style=\"text-align: right;\">\n",
              "      <th></th>\n",
              "      <th>unique_id</th>\n",
              "      <th>ds</th>\n",
              "      <th>y</th>\n",
              "      <th>% WEIGHTED ILI</th>\n",
              "      <th>%UNWEIGHTED ILI</th>\n",
              "      <th>AGE 0-4</th>\n",
              "      <th>AGE 5-24</th>\n",
              "      <th>ILITOTAL</th>\n",
              "      <th>NUM. OF PROVIDERS</th>\n",
              "    </tr>\n",
              "  </thead>\n",
              "  <tbody>\n",
              "    <tr>\n",
              "      <th>0</th>\n",
              "      <td>1</td>\n",
              "      <td>2002-01-01</td>\n",
              "      <td>176569</td>\n",
              "      <td>1.222620</td>\n",
              "      <td>1.166680</td>\n",
              "      <td>582</td>\n",
              "      <td>805</td>\n",
              "      <td>2060</td>\n",
              "      <td>754</td>\n",
              "    </tr>\n",
              "    <tr>\n",
              "      <th>1</th>\n",
              "      <td>1</td>\n",
              "      <td>2002-01-08</td>\n",
              "      <td>186355</td>\n",
              "      <td>1.333440</td>\n",
              "      <td>1.216500</td>\n",
              "      <td>683</td>\n",
              "      <td>872</td>\n",
              "      <td>2267</td>\n",
              "      <td>785</td>\n",
              "    </tr>\n",
              "    <tr>\n",
              "      <th>2</th>\n",
              "      <td>1</td>\n",
              "      <td>2002-01-15</td>\n",
              "      <td>192469</td>\n",
              "      <td>1.319290</td>\n",
              "      <td>1.130570</td>\n",
              "      <td>642</td>\n",
              "      <td>878</td>\n",
              "      <td>2176</td>\n",
              "      <td>831</td>\n",
              "    </tr>\n",
              "    <tr>\n",
              "      <th>3</th>\n",
              "      <td>1</td>\n",
              "      <td>2002-01-22</td>\n",
              "      <td>207512</td>\n",
              "      <td>1.494840</td>\n",
              "      <td>1.252460</td>\n",
              "      <td>728</td>\n",
              "      <td>1045</td>\n",
              "      <td>2599</td>\n",
              "      <td>863</td>\n",
              "    </tr>\n",
              "    <tr>\n",
              "      <th>4</th>\n",
              "      <td>1</td>\n",
              "      <td>2002-01-29</td>\n",
              "      <td>223208</td>\n",
              "      <td>1.471950</td>\n",
              "      <td>1.302370</td>\n",
              "      <td>823</td>\n",
              "      <td>1189</td>\n",
              "      <td>2907</td>\n",
              "      <td>909</td>\n",
              "    </tr>\n",
              "    <tr>\n",
              "      <th>...</th>\n",
              "      <td>...</td>\n",
              "      <td>...</td>\n",
              "      <td>...</td>\n",
              "      <td>...</td>\n",
              "      <td>...</td>\n",
              "      <td>...</td>\n",
              "      <td>...</td>\n",
              "      <td>...</td>\n",
              "      <td>...</td>\n",
              "    </tr>\n",
              "    <tr>\n",
              "      <th>961</th>\n",
              "      <td>1</td>\n",
              "      <td>2020-06-02</td>\n",
              "      <td>1525058</td>\n",
              "      <td>0.839059</td>\n",
              "      <td>0.846722</td>\n",
              "      <td>2756</td>\n",
              "      <td>3528</td>\n",
              "      <td>12913</td>\n",
              "      <td>3258</td>\n",
              "    </tr>\n",
              "    <tr>\n",
              "      <th>962</th>\n",
              "      <td>1</td>\n",
              "      <td>2020-06-09</td>\n",
              "      <td>1538038</td>\n",
              "      <td>0.895958</td>\n",
              "      <td>0.908885</td>\n",
              "      <td>3203</td>\n",
              "      <td>3778</td>\n",
              "      <td>13979</td>\n",
              "      <td>3254</td>\n",
              "    </tr>\n",
              "    <tr>\n",
              "      <th>963</th>\n",
              "      <td>1</td>\n",
              "      <td>2020-06-16</td>\n",
              "      <td>1528103</td>\n",
              "      <td>0.910926</td>\n",
              "      <td>0.941625</td>\n",
              "      <td>3478</td>\n",
              "      <td>3796</td>\n",
              "      <td>14389</td>\n",
              "      <td>3177</td>\n",
              "    </tr>\n",
              "    <tr>\n",
              "      <th>964</th>\n",
              "      <td>1</td>\n",
              "      <td>2020-06-23</td>\n",
              "      <td>1542813</td>\n",
              "      <td>0.946945</td>\n",
              "      <td>0.972185</td>\n",
              "      <td>3734</td>\n",
              "      <td>3818</td>\n",
              "      <td>14999</td>\n",
              "      <td>3066</td>\n",
              "    </tr>\n",
              "    <tr>\n",
              "      <th>965</th>\n",
              "      <td>1</td>\n",
              "      <td>2020-06-30</td>\n",
              "      <td>1509928</td>\n",
              "      <td>0.963716</td>\n",
              "      <td>1.013760</td>\n",
              "      <td>3955</td>\n",
              "      <td>3843</td>\n",
              "      <td>15307</td>\n",
              "      <td>3027</td>\n",
              "    </tr>\n",
              "  </tbody>\n",
              "</table>\n",
              "<p>966 rows × 9 columns</p>\n",
              "</div>\n",
              "    <div class=\"colab-df-buttons\">\n",
              "\n",
              "  <div class=\"colab-df-container\">\n",
              "    <button class=\"colab-df-convert\" onclick=\"convertToInteractive('df-82ad6788-5f3c-48f0-9ea0-0808d2ede3de')\"\n",
              "            title=\"Convert this dataframe to an interactive table.\"\n",
              "            style=\"display:none;\">\n",
              "\n",
              "  <svg xmlns=\"http://www.w3.org/2000/svg\" height=\"24px\" viewBox=\"0 -960 960 960\">\n",
              "    <path d=\"M120-120v-720h720v720H120Zm60-500h600v-160H180v160Zm220 220h160v-160H400v160Zm0 220h160v-160H400v160ZM180-400h160v-160H180v160Zm440 0h160v-160H620v160ZM180-180h160v-160H180v160Zm440 0h160v-160H620v160Z\"/>\n",
              "  </svg>\n",
              "    </button>\n",
              "\n",
              "  <style>\n",
              "    .colab-df-container {\n",
              "      display:flex;\n",
              "      gap: 12px;\n",
              "    }\n",
              "\n",
              "    .colab-df-convert {\n",
              "      background-color: #E8F0FE;\n",
              "      border: none;\n",
              "      border-radius: 50%;\n",
              "      cursor: pointer;\n",
              "      display: none;\n",
              "      fill: #1967D2;\n",
              "      height: 32px;\n",
              "      padding: 0 0 0 0;\n",
              "      width: 32px;\n",
              "    }\n",
              "\n",
              "    .colab-df-convert:hover {\n",
              "      background-color: #E2EBFA;\n",
              "      box-shadow: 0px 1px 2px rgba(60, 64, 67, 0.3), 0px 1px 3px 1px rgba(60, 64, 67, 0.15);\n",
              "      fill: #174EA6;\n",
              "    }\n",
              "\n",
              "    .colab-df-buttons div {\n",
              "      margin-bottom: 4px;\n",
              "    }\n",
              "\n",
              "    [theme=dark] .colab-df-convert {\n",
              "      background-color: #3B4455;\n",
              "      fill: #D2E3FC;\n",
              "    }\n",
              "\n",
              "    [theme=dark] .colab-df-convert:hover {\n",
              "      background-color: #434B5C;\n",
              "      box-shadow: 0px 1px 3px 1px rgba(0, 0, 0, 0.15);\n",
              "      filter: drop-shadow(0px 1px 2px rgba(0, 0, 0, 0.3));\n",
              "      fill: #FFFFFF;\n",
              "    }\n",
              "  </style>\n",
              "\n",
              "    <script>\n",
              "      const buttonEl =\n",
              "        document.querySelector('#df-82ad6788-5f3c-48f0-9ea0-0808d2ede3de button.colab-df-convert');\n",
              "      buttonEl.style.display =\n",
              "        google.colab.kernel.accessAllowed ? 'block' : 'none';\n",
              "\n",
              "      async function convertToInteractive(key) {\n",
              "        const element = document.querySelector('#df-82ad6788-5f3c-48f0-9ea0-0808d2ede3de');\n",
              "        const dataTable =\n",
              "          await google.colab.kernel.invokeFunction('convertToInteractive',\n",
              "                                                    [key], {});\n",
              "        if (!dataTable) return;\n",
              "\n",
              "        const docLinkHtml = 'Like what you see? Visit the ' +\n",
              "          '<a target=\"_blank\" href=https://colab.research.google.com/notebooks/data_table.ipynb>data table notebook</a>'\n",
              "          + ' to learn more about interactive tables.';\n",
              "        element.innerHTML = '';\n",
              "        dataTable['output_type'] = 'display_data';\n",
              "        await google.colab.output.renderOutput(dataTable, element);\n",
              "        const docLink = document.createElement('div');\n",
              "        docLink.innerHTML = docLinkHtml;\n",
              "        element.appendChild(docLink);\n",
              "      }\n",
              "    </script>\n",
              "  </div>\n",
              "\n",
              "\n",
              "<div id=\"df-2b9c94c5-60ee-41be-aeae-89418d1292d4\">\n",
              "  <button class=\"colab-df-quickchart\" onclick=\"quickchart('df-2b9c94c5-60ee-41be-aeae-89418d1292d4')\"\n",
              "            title=\"Suggest charts\"\n",
              "            style=\"display:none;\">\n",
              "\n",
              "<svg xmlns=\"http://www.w3.org/2000/svg\" height=\"24px\"viewBox=\"0 0 24 24\"\n",
              "     width=\"24px\">\n",
              "    <g>\n",
              "        <path d=\"M19 3H5c-1.1 0-2 .9-2 2v14c0 1.1.9 2 2 2h14c1.1 0 2-.9 2-2V5c0-1.1-.9-2-2-2zM9 17H7v-7h2v7zm4 0h-2V7h2v10zm4 0h-2v-4h2v4z\"/>\n",
              "    </g>\n",
              "</svg>\n",
              "  </button>\n",
              "\n",
              "<style>\n",
              "  .colab-df-quickchart {\n",
              "      --bg-color: #E8F0FE;\n",
              "      --fill-color: #1967D2;\n",
              "      --hover-bg-color: #E2EBFA;\n",
              "      --hover-fill-color: #174EA6;\n",
              "      --disabled-fill-color: #AAA;\n",
              "      --disabled-bg-color: #DDD;\n",
              "  }\n",
              "\n",
              "  [theme=dark] .colab-df-quickchart {\n",
              "      --bg-color: #3B4455;\n",
              "      --fill-color: #D2E3FC;\n",
              "      --hover-bg-color: #434B5C;\n",
              "      --hover-fill-color: #FFFFFF;\n",
              "      --disabled-bg-color: #3B4455;\n",
              "      --disabled-fill-color: #666;\n",
              "  }\n",
              "\n",
              "  .colab-df-quickchart {\n",
              "    background-color: var(--bg-color);\n",
              "    border: none;\n",
              "    border-radius: 50%;\n",
              "    cursor: pointer;\n",
              "    display: none;\n",
              "    fill: var(--fill-color);\n",
              "    height: 32px;\n",
              "    padding: 0;\n",
              "    width: 32px;\n",
              "  }\n",
              "\n",
              "  .colab-df-quickchart:hover {\n",
              "    background-color: var(--hover-bg-color);\n",
              "    box-shadow: 0 1px 2px rgba(60, 64, 67, 0.3), 0 1px 3px 1px rgba(60, 64, 67, 0.15);\n",
              "    fill: var(--button-hover-fill-color);\n",
              "  }\n",
              "\n",
              "  .colab-df-quickchart-complete:disabled,\n",
              "  .colab-df-quickchart-complete:disabled:hover {\n",
              "    background-color: var(--disabled-bg-color);\n",
              "    fill: var(--disabled-fill-color);\n",
              "    box-shadow: none;\n",
              "  }\n",
              "\n",
              "  .colab-df-spinner {\n",
              "    border: 2px solid var(--fill-color);\n",
              "    border-color: transparent;\n",
              "    border-bottom-color: var(--fill-color);\n",
              "    animation:\n",
              "      spin 1s steps(1) infinite;\n",
              "  }\n",
              "\n",
              "  @keyframes spin {\n",
              "    0% {\n",
              "      border-color: transparent;\n",
              "      border-bottom-color: var(--fill-color);\n",
              "      border-left-color: var(--fill-color);\n",
              "    }\n",
              "    20% {\n",
              "      border-color: transparent;\n",
              "      border-left-color: var(--fill-color);\n",
              "      border-top-color: var(--fill-color);\n",
              "    }\n",
              "    30% {\n",
              "      border-color: transparent;\n",
              "      border-left-color: var(--fill-color);\n",
              "      border-top-color: var(--fill-color);\n",
              "      border-right-color: var(--fill-color);\n",
              "    }\n",
              "    40% {\n",
              "      border-color: transparent;\n",
              "      border-right-color: var(--fill-color);\n",
              "      border-top-color: var(--fill-color);\n",
              "    }\n",
              "    60% {\n",
              "      border-color: transparent;\n",
              "      border-right-color: var(--fill-color);\n",
              "    }\n",
              "    80% {\n",
              "      border-color: transparent;\n",
              "      border-right-color: var(--fill-color);\n",
              "      border-bottom-color: var(--fill-color);\n",
              "    }\n",
              "    90% {\n",
              "      border-color: transparent;\n",
              "      border-bottom-color: var(--fill-color);\n",
              "    }\n",
              "  }\n",
              "</style>\n",
              "\n",
              "  <script>\n",
              "    async function quickchart(key) {\n",
              "      const quickchartButtonEl =\n",
              "        document.querySelector('#' + key + ' button');\n",
              "      quickchartButtonEl.disabled = true;  // To prevent multiple clicks.\n",
              "      quickchartButtonEl.classList.add('colab-df-spinner');\n",
              "      try {\n",
              "        const charts = await google.colab.kernel.invokeFunction(\n",
              "            'suggestCharts', [key], {});\n",
              "      } catch (error) {\n",
              "        console.error('Error during call to suggestCharts:', error);\n",
              "      }\n",
              "      quickchartButtonEl.classList.remove('colab-df-spinner');\n",
              "      quickchartButtonEl.classList.add('colab-df-quickchart-complete');\n",
              "    }\n",
              "    (() => {\n",
              "      let quickchartButtonEl =\n",
              "        document.querySelector('#df-2b9c94c5-60ee-41be-aeae-89418d1292d4 button');\n",
              "      quickchartButtonEl.style.display =\n",
              "        google.colab.kernel.accessAllowed ? 'block' : 'none';\n",
              "    })();\n",
              "  </script>\n",
              "</div>\n",
              "    </div>\n",
              "  </div>\n"
            ],
            "application/vnd.google.colaboratory.intrinsic+json": {
              "type": "dataframe",
              "variable_name": "illness",
              "summary": "{\n  \"name\": \"illness\",\n  \"rows\": 966,\n  \"fields\": [\n    {\n      \"column\": \"unique_id\",\n      \"properties\": {\n        \"dtype\": \"number\",\n        \"std\": 0,\n        \"min\": 1,\n        \"max\": 1,\n        \"num_unique_values\": 1,\n        \"samples\": [\n          1\n        ],\n        \"semantic_type\": \"\",\n        \"description\": \"\"\n      }\n    },\n    {\n      \"column\": \"ds\",\n      \"properties\": {\n        \"dtype\": \"date\",\n        \"min\": \"2002-01-01 00:00:00\",\n        \"max\": \"2020-06-30 00:00:00\",\n        \"num_unique_values\": 966,\n        \"samples\": [\n          \"2006-09-05 00:00:00\"\n        ],\n        \"semantic_type\": \"\",\n        \"description\": \"\"\n      }\n    },\n    {\n      \"column\": \"y\",\n      \"properties\": {\n        \"dtype\": \"number\",\n        \"std\": 349018,\n        \"min\": 64699,\n        \"max\": 1640587,\n        \"num_unique_values\": 966,\n        \"samples\": [\n          225197\n        ],\n        \"semantic_type\": \"\",\n        \"description\": \"\"\n      }\n    },\n    {\n      \"column\": \"% WEIGHTED ILI\",\n      \"properties\": {\n        \"dtype\": \"number\",\n        \"std\": 1.3430417025221388,\n        \"min\": 0.351881,\n        \"max\": 7.7151,\n        \"num_unique_values\": 964,\n        \"samples\": [\n          1.4128\n        ],\n        \"semantic_type\": \"\",\n        \"description\": \"\"\n      }\n    },\n    {\n      \"column\": \"%UNWEIGHTED ILI\",\n      \"properties\": {\n        \"dtype\": \"number\",\n        \"std\": 1.3090192253885504,\n        \"min\": 0.4915069999999999,\n        \"max\": 7.7809,\n        \"num_unique_values\": 965,\n        \"samples\": [\n          1.86039\n        ],\n        \"semantic_type\": \"\",\n        \"description\": \"\"\n      }\n    },\n    {\n      \"column\": \"AGE 0-4\",\n      \"properties\": {\n        \"dtype\": \"number\",\n        \"std\": 3153,\n        \"min\": 98,\n        \"max\": 24097,\n        \"num_unique_values\": 896,\n        \"samples\": [\n          3909\n        ],\n        \"semantic_type\": \"\",\n        \"description\": \"\"\n      }\n    },\n    {\n      \"column\": \"AGE 5-24\",\n      \"properties\": {\n        \"dtype\": \"number\",\n        \"std\": 5953,\n        \"min\": 91,\n        \"max\": 45513,\n        \"num_unique_values\": 919,\n        \"samples\": [\n          1255\n        ],\n        \"semantic_type\": \"\",\n        \"description\": \"\"\n      }\n    },\n    {\n      \"column\": \"ILITOTAL\",\n      \"properties\": {\n        \"dtype\": \"number\",\n        \"std\": 15010,\n        \"min\": 318,\n        \"max\": 111361,\n        \"num_unique_values\": 948,\n        \"samples\": [\n          14637\n        ],\n        \"semantic_type\": \"\",\n        \"description\": \"\"\n      }\n    },\n    {\n      \"column\": \"NUM. OF PROVIDERS\",\n      \"properties\": {\n        \"dtype\": \"number\",\n        \"std\": 681,\n        \"min\": 264,\n        \"max\": 3453,\n        \"num_unique_values\": 753,\n        \"samples\": [\n          2948\n        ],\n        \"semantic_type\": \"\",\n        \"description\": \"\"\n      }\n    }\n  ]\n}"
            }
          },
          "metadata": {},
          "execution_count": 78
        }
      ]
    },
    {
      "cell_type": "code",
      "source": [
        "%%time\n",
        "df = timegpt.forecast(df=illness_train, h=60,freq='7d' ) # предсказываю\n",
        "predict = df['TimeGPT'] # вытаскиваю предсказания\n",
        "predict.to_csv(\"ill.csv\")"
      ],
      "metadata": {
        "colab": {
          "base_uri": "https://localhost:8080/"
        },
        "id": "EJCImQ5E9SCh",
        "outputId": "98b0dcaf-1436-4191-8881-ade744e60cd4"
      },
      "execution_count": null,
      "outputs": [
        {
          "output_type": "stream",
          "name": "stderr",
          "text": [
            "WARNING:nixtlats.nixtla_client:The specified horizon \"h\" exceeds the model horizon. This may lead to less accurate forecasts. Please consider using a smaller horizon.\n"
          ]
        },
        {
          "output_type": "stream",
          "name": "stdout",
          "text": [
            "CPU times: user 85.5 ms, sys: 7.4 ms, total: 92.9 ms\n",
            "Wall time: 4.29 s\n"
          ]
        }
      ]
    },
    {
      "cell_type": "code",
      "source": [
        "table = PrettyTable()\n",
        "table.field_names = [\"Шагов прогноза\",  \"MAE\", \"MSE\"]\n",
        "test = illness_test['y']\n",
        "# Перебираем разные шаги прогнозирования\n",
        "for step in step_forecasting1:\n",
        "    # Вычисляем метрики\n",
        "    MAE_value = mean_absolute_error(test.iloc[:step], predict[:step]).round(3)\n",
        "    MSE_value = mean_squared_error(test.iloc[:step], predict[:step]).round(3)\n",
        "    # Добавляем результаты в таблицу\n",
        "    table.add_row([step, MAE_value, MSE_value])\n",
        "print('zero-shot illness'.center(len(table.field_names) * 11))\n",
        "print(table)"
      ],
      "metadata": {
        "colab": {
          "base_uri": "https://localhost:8080/"
        },
        "id": "YmzFL4Ra_hL5",
        "outputId": "837ab9c2-cdd7-4cf5-81b1-b47964574b12"
      },
      "execution_count": null,
      "outputs": [
        {
          "output_type": "stream",
          "name": "stdout",
          "text": [
            "        zero-shot illness        \n",
            "+----------------+------------+------------------+\n",
            "| Шагов прогноза |    MAE     |       MSE        |\n",
            "+----------------+------------+------------------+\n",
            "|       24       | 224384.208 | 79674712630.944  |\n",
            "|       36       | 286680.894 | 111297762147.064 |\n",
            "|       48       | 282778.878 | 102641796745.375 |\n",
            "|       60       | 265048.321 | 89781749298.283  |\n",
            "+----------------+------------+------------------+\n"
          ]
        }
      ]
    },
    {
      "cell_type": "markdown",
      "source": [
        "наблюдаю абсолютную невозможность предсказать illness"
      ],
      "metadata": {
        "id": "VmBbxJt-fuy2"
      }
    },
    {
      "cell_type": "markdown",
      "source": [
        "## с дообучением на 200 точках\n",
        "значительно больше 200 точек не получалось взять"
      ],
      "metadata": {
        "id": "tw0dPLdCBSKu"
      }
    },
    {
      "cell_type": "markdown",
      "source": [
        "#### ETTh1 few200"
      ],
      "metadata": {
        "id": "PoEDaRjdLX8S"
      }
    },
    {
      "cell_type": "code",
      "source": [
        "%%time\n",
        "df = timegpt.forecast(df=ETTh1_train,h=720, finetune_steps=200, model='timegpt-1-long-horizon') # предсказываю\n",
        "predict = df['TimeGPT'] # вытаскиваю предсказания"
      ],
      "metadata": {
        "colab": {
          "base_uri": "https://localhost:8080/"
        },
        "id": "0LgtZTmQBWXx",
        "outputId": "09c8723d-d93c-400f-8743-ed2fcf4ee367"
      },
      "execution_count": null,
      "outputs": [
        {
          "output_type": "stream",
          "name": "stderr",
          "text": [
            "WARNING:nixtlats.nixtla_client:The specified horizon \"h\" exceeds the model horizon. This may lead to less accurate forecasts. Please consider using a smaller horizon.\n"
          ]
        },
        {
          "output_type": "stream",
          "name": "stdout",
          "text": [
            "CPU times: user 567 ms, sys: 24.5 ms, total: 591 ms\n",
            "Wall time: 27.1 s\n"
          ]
        }
      ]
    },
    {
      "cell_type": "code",
      "source": [
        "predict.to_csv(\"ETTh1_few200.csv\")"
      ],
      "metadata": {
        "id": "zWmG_0CFENGe"
      },
      "execution_count": null,
      "outputs": []
    },
    {
      "cell_type": "code",
      "source": [
        "# Объявляем таблицу для красивого вывода результатов\n",
        "table = PrettyTable()\n",
        "table.field_names = [\"Шагов прогноза\", \"MAE\", \"MSE\"]\n",
        "test = ETTh1_test['y']\n",
        "# Перебираем разные шаги прогнозирования\n",
        "for step in step_forecasting:\n",
        "    # Вычисляем метрики\n",
        "    MAE_value = mean_absolute_error(test.iloc[:step], predict[:step]).round(3)\n",
        "    MSE_value = mean_squared_error(test.iloc[:step], predict[:step]).round(3)\n",
        "    # Добавляем результаты в таблицу\n",
        "    table.add_row([step, MAE_value, MSE_value])\n",
        "# Печатаем таблицу\n",
        "print('few-shot 200 ETTh1'.center(len(table.field_names) * 11))\n",
        "print(table)"
      ],
      "metadata": {
        "colab": {
          "base_uri": "https://localhost:8080/"
        },
        "id": "qamsBwNaB88n",
        "outputId": "6cb369d8-5097-42c5-af0d-34eed2a98b0c"
      },
      "execution_count": null,
      "outputs": [
        {
          "output_type": "stream",
          "name": "stdout",
          "text": [
            "        few-shot 200 ETTh1       \n",
            "+----------------+-------+-------+\n",
            "| Шагов прогноза |  MAE  |  MSE  |\n",
            "+----------------+-------+-------+\n",
            "|       24       | 1.162 | 1.798 |\n",
            "|       96       | 0.733 | 0.871 |\n",
            "|      192       | 0.763 | 0.889 |\n",
            "|      336       | 1.498 | 4.188 |\n",
            "|      720       | 2.173 | 7.116 |\n",
            "+----------------+-------+-------+\n"
          ]
        }
      ]
    },
    {
      "cell_type": "markdown",
      "source": [
        "#### ETTh2 few 200"
      ],
      "metadata": {
        "id": "4VfrLZY_Ldce"
      }
    },
    {
      "cell_type": "code",
      "source": [
        "%%time\n",
        "df = timegpt.forecast(df=ETTh2_train, h=720, finetune_steps=200, model='timegpt-1-long-horizon') # предсказываю\n",
        "predict = df['TimeGPT'] # вытаскиваю предсказания\n",
        "predict.to_csv(\"ETTh2_few200.csv\")"
      ],
      "metadata": {
        "colab": {
          "base_uri": "https://localhost:8080/"
        },
        "id": "wc0h_MEpLiwb",
        "outputId": "71502481-a53b-446f-ab7c-2836557feea0"
      },
      "execution_count": null,
      "outputs": [
        {
          "output_type": "stream",
          "name": "stderr",
          "text": [
            "WARNING:nixtlats.nixtla_client:The specified horizon \"h\" exceeds the model horizon. This may lead to less accurate forecasts. Please consider using a smaller horizon.\n"
          ]
        },
        {
          "output_type": "stream",
          "name": "stdout",
          "text": [
            "CPU times: user 805 ms, sys: 30.7 ms, total: 836 ms\n",
            "Wall time: 31.3 s\n"
          ]
        }
      ]
    },
    {
      "cell_type": "code",
      "source": [
        "# Объявляем таблицу для красивого вывода результатов\n",
        "table = PrettyTable()\n",
        "table.field_names = [\"Шагов прогноза\", \"MAE\", \"MSE\"]\n",
        "test = ETTh2_test['y']\n",
        "# Перебираем разные шаги прогнозирования\n",
        "for step in step_forecasting:\n",
        "    # Вычисляем метрики\n",
        "    MAE_value = mean_absolute_error(test.iloc[:step], predict[:step]).round(3)\n",
        "    MSE_value = mean_squared_error(test.iloc[:step], predict[:step]).round(3)\n",
        "    # Добавляем результаты в таблицу\n",
        "    table.add_row([step, MAE_value, MSE_value])\n",
        "# Печатаем таблицу\n",
        "print('few-shot 200 ETTh2'.center(len(table.field_names) * 11))\n",
        "print(table)"
      ],
      "metadata": {
        "colab": {
          "base_uri": "https://localhost:8080/"
        },
        "id": "31m2UzDOLnLw",
        "outputId": "92f3c8a4-d920-41fb-e6db-c88f81d2fd96"
      },
      "execution_count": null,
      "outputs": [
        {
          "output_type": "stream",
          "name": "stdout",
          "text": [
            "        few-shot 200 ETTh2       \n",
            "+----------------+-------+---------+\n",
            "| Шагов прогноза |  MAE  |   MSE   |\n",
            "+----------------+-------+---------+\n",
            "|       24       | 2.459 |  9.455  |\n",
            "|       96       | 2.676 |  11.253 |\n",
            "|      192       |  3.32 |  16.305 |\n",
            "|      336       | 5.452 |  45.52  |\n",
            "|      720       | 9.295 | 116.418 |\n",
            "+----------------+-------+---------+\n"
          ]
        }
      ]
    },
    {
      "cell_type": "markdown",
      "source": [
        "### ETTm1 few 200"
      ],
      "metadata": {
        "id": "aoZoMcWS1ZmP"
      }
    },
    {
      "cell_type": "code",
      "source": [
        "df = timegpt.forecast(df=ETTm1_train,h=720, finetune_steps=200, model='timegpt-1-long-horizon') # предсказываю\n",
        "predict = df['TimeGPT'] # вытаскиваю предсказания\n",
        "predict.to_csv(\"ETTm1_few200.csv\")"
      ],
      "metadata": {
        "colab": {
          "base_uri": "https://localhost:8080/"
        },
        "id": "9p4iK6JVJ3En",
        "outputId": "b4206fe0-4c9e-4388-d6ff-68151ab5e621"
      },
      "execution_count": null,
      "outputs": [
        {
          "output_type": "stream",
          "name": "stderr",
          "text": [
            "WARNING:nixtlats.nixtla_client:The specified horizon \"h\" exceeds the model horizon. This may lead to less accurate forecasts. Please consider using a smaller horizon.\n"
          ]
        }
      ]
    },
    {
      "cell_type": "code",
      "source": [
        "# Объявляем таблицу для красивого вывода результатов\n",
        "table = PrettyTable()\n",
        "table.field_names = [\"Шагов прогноза\", \"MAE\", \"MSE\"]\n",
        "test = ETTm1_test['y']\n",
        "# Перебираем разные шаги прогнозирования\n",
        "for step in step_forecasting:\n",
        "    # Вычисляем метрики\n",
        "    MAE_value = mean_absolute_error(test.iloc[:step], predict[:step]).round(3)\n",
        "    MSE_value = mean_squared_error(test.iloc[:step], predict[:step]).round(3)\n",
        "    # Добавляем результаты в таблицу\n",
        "    table.add_row([step, MAE_value, MSE_value])\n",
        "# Печатаем таблицу\n",
        "print('few-shot 200 ETTm1'.center(len(table.field_names) * 11))\n",
        "print(table)"
      ],
      "metadata": {
        "colab": {
          "base_uri": "https://localhost:8080/"
        },
        "id": "mPcC1h3cgDo-",
        "outputId": "838c6273-da8c-4cd2-8fca-733644bbfc8c"
      },
      "execution_count": null,
      "outputs": [
        {
          "output_type": "stream",
          "name": "stdout",
          "text": [
            "        few-shot 200 ETTm1       \n",
            "+----------------+-------+-------+\n",
            "| Шагов прогноза |  MAE  |  MSE  |\n",
            "+----------------+-------+-------+\n",
            "|       24       | 0.504 | 0.323 |\n",
            "|       96       | 0.748 | 0.697 |\n",
            "|      192       | 0.868 |  1.02 |\n",
            "|      336       | 0.963 | 1.388 |\n",
            "|      720       | 0.965 | 1.324 |\n",
            "+----------------+-------+-------+\n"
          ]
        }
      ]
    },
    {
      "cell_type": "markdown",
      "source": [
        "### ETTm2 few 200"
      ],
      "metadata": {
        "id": "l86ugOYp1f3s"
      }
    },
    {
      "cell_type": "code",
      "source": [
        "df = timegpt.forecast(df=ETTm2_train, h=720, finetune_steps=200, model='timegpt-1-long-horizon') # предсказываю\n",
        "predict = df['TimeGPT'] # вытаскиваю предсказания\n",
        "predict.to_csv(\"ETTm2_few200.csv\")"
      ],
      "metadata": {
        "colab": {
          "base_uri": "https://localhost:8080/"
        },
        "id": "zoNfHILrgRfK",
        "outputId": "8b4db5df-0728-4b6b-8afc-58bfd8429581"
      },
      "execution_count": null,
      "outputs": [
        {
          "output_type": "stream",
          "name": "stderr",
          "text": [
            "WARNING:nixtlats.nixtla_client:The specified horizon \"h\" exceeds the model horizon. This may lead to less accurate forecasts. Please consider using a smaller horizon.\n"
          ]
        }
      ]
    },
    {
      "cell_type": "code",
      "source": [
        "# Объявляем таблицу для красивого вывода результатов\n",
        "table = PrettyTable()\n",
        "table.field_names = [\"Шагов прогноза\", \"MAE\", \"MSE\"]\n",
        "test = ETTm2_test['y']\n",
        "# Перебираем разные шаги прогнозирования\n",
        "for step in step_forecasting:\n",
        "    # Вычисляем метрики\n",
        "    MAE_value = mean_absolute_error(test.iloc[:step], predict[:step]).round(3)\n",
        "    MSE_value = mean_squared_error(test.iloc[:step], predict[:step]).round(3)\n",
        "    # Добавляем результаты в таблицу\n",
        "    table.add_row([step, MAE_value, MSE_value])\n",
        "# Печатаем таблицу\n",
        "print('few-shot 200 ETTm2'.center(len(table.field_names) * 11))\n",
        "print(table)"
      ],
      "metadata": {
        "colab": {
          "base_uri": "https://localhost:8080/"
        },
        "id": "739MEpN-gY3x",
        "outputId": "0dab5de5-a81c-4ded-cdeb-3fa3afbba1d9"
      },
      "execution_count": null,
      "outputs": [
        {
          "output_type": "stream",
          "name": "stdout",
          "text": [
            "        few-shot 200 ETTm2       \n",
            "+----------------+-------+--------+\n",
            "| Шагов прогноза |  MAE  |  MSE   |\n",
            "+----------------+-------+--------+\n",
            "|       24       | 2.507 | 7.497  |\n",
            "|       96       | 4.129 | 20.084 |\n",
            "|      192       | 3.817 | 17.049 |\n",
            "|      336       | 2.703 |  10.6  |\n",
            "|      720       | 2.372 | 9.018  |\n",
            "+----------------+-------+--------+\n"
          ]
        }
      ]
    },
    {
      "cell_type": "markdown",
      "source": [
        "### exchange_rate few 200"
      ],
      "metadata": {
        "id": "_pjMqSy_1hlU"
      }
    },
    {
      "cell_type": "code",
      "source": [
        "df = timegpt.forecast(df=exchange_rate_train, h=720, finetune_steps=200, model='timegpt-1-long-horizon') # предсказываю\n",
        "predict = df['TimeGPT'] # вытаскиваю предсказания\n",
        "predict.to_csv(\"exchange_rate_few200.csv\")"
      ],
      "metadata": {
        "colab": {
          "base_uri": "https://localhost:8080/"
        },
        "id": "lJYUWRJWglTr",
        "outputId": "03da17e6-1427-4e27-eadd-14056f41f81b"
      },
      "execution_count": null,
      "outputs": [
        {
          "output_type": "stream",
          "name": "stderr",
          "text": [
            "WARNING:nixtlats.nixtla_client:The specified horizon \"h\" exceeds the model horizon. This may lead to less accurate forecasts. Please consider using a smaller horizon.\n"
          ]
        }
      ]
    },
    {
      "cell_type": "code",
      "source": [
        "# Объявляем таблицу для красивого вывода результатов\n",
        "table = PrettyTable()\n",
        "table.field_names = [\"Шагов прогноза\", \"MAE\", \"MSE\"]\n",
        "test = exchange_rate_test['y']\n",
        "# Перебираем разные шаги прогнозирования\n",
        "for step in step_forecasting:\n",
        "    # Вычисляем метрики\n",
        "    MAE_value = mean_absolute_error(test.iloc[:step], predict[:step]).round(3)\n",
        "    MSE_value = mean_squared_error(test.iloc[:step], predict[:step]).round(3)\n",
        "    # Добавляем результаты в таблицу\n",
        "    table.add_row([step, MAE_value, MSE_value])\n",
        "# Печатаем таблицу\n",
        "print('few-shot 200 exchange_rate'.center(len(table.field_names) * 11))\n",
        "print(table)"
      ],
      "metadata": {
        "colab": {
          "base_uri": "https://localhost:8080/"
        },
        "id": "5ETPDMaqgvCU",
        "outputId": "a5793b91-2be3-4126-8589-d4a59b4e7166"
      },
      "execution_count": null,
      "outputs": [
        {
          "output_type": "stream",
          "name": "stdout",
          "text": [
            "        few-shot 200 ETTm2       \n",
            "+----------------+-------+-------+\n",
            "| Шагов прогноза |  MAE  |  MSE  |\n",
            "+----------------+-------+-------+\n",
            "|       24       | 0.008 |  0.0  |\n",
            "|       96       | 0.013 |  0.0  |\n",
            "|      192       | 0.035 | 0.002 |\n",
            "|      336       | 0.045 | 0.003 |\n",
            "|      720       | 0.098 | 0.013 |\n",
            "+----------------+-------+-------+\n"
          ]
        }
      ]
    },
    {
      "cell_type": "markdown",
      "source": [
        "### weather few 200"
      ],
      "metadata": {
        "id": "aR_v7xPj1mGO"
      }
    },
    {
      "cell_type": "code",
      "source": [
        "weather1 = weather.drop_duplicates() # иначе выдают ошибку\n",
        "weather_train, weather_test = train_test_func(weather1)"
      ],
      "metadata": {
        "id": "wGm1mQHHiPWL"
      },
      "execution_count": null,
      "outputs": []
    },
    {
      "cell_type": "code",
      "source": [
        "%%time\n",
        "df = timegpt.forecast(df=weather_train, h=720, finetune_steps=200, model='timegpt-1-long-horizon',freq='10min') # предсказываю\n",
        "predict = df['TimeGPT'] # вытаскиваю предсказания\n",
        "predict.to_csv(\"weather200.csv\")"
      ],
      "metadata": {
        "colab": {
          "base_uri": "https://localhost:8080/"
        },
        "id": "nyftoVr1h-yY",
        "outputId": "24bb11b0-ffb8-439a-bf5f-7c48a47a99c6"
      },
      "execution_count": null,
      "outputs": [
        {
          "output_type": "stream",
          "name": "stderr",
          "text": [
            "WARNING:nixtlats.nixtla_client:The specified horizon \"h\" exceeds the model horizon. This may lead to less accurate forecasts. Please consider using a smaller horizon.\n"
          ]
        },
        {
          "output_type": "stream",
          "name": "stdout",
          "text": [
            "CPU times: user 1.51 s, sys: 37 ms, total: 1.55 s\n",
            "Wall time: 55 s\n"
          ]
        }
      ]
    },
    {
      "cell_type": "code",
      "source": [
        "table = PrettyTable()\n",
        "table.field_names = [\"Шагов прогноза\", \"MAE\", \"MSE\"]\n",
        "test = weather_test['y']\n",
        "# Перебираем разные шаги прогнозирования\n",
        "for step in step_forecasting:\n",
        "    # Вычисляем метрики\n",
        "    MAE_value = mean_absolute_error(test.iloc[:step], predict[:step]).round(3)\n",
        "    MSE_value = mean_squared_error(test.iloc[:step], predict[:step]).round(3)\n",
        "    # Добавляем результаты в таблицу\n",
        "    table.add_row([step, MAE_value, MSE_value])\n",
        "print('zero-shot weather'.center(len(table.field_names) * 11))\n",
        "print(table)"
      ],
      "metadata": {
        "colab": {
          "base_uri": "https://localhost:8080/"
        },
        "id": "o_LecoouiakB",
        "outputId": "bc235f04-64de-4085-c475-8f5c2d4e6618"
      },
      "execution_count": null,
      "outputs": [
        {
          "output_type": "stream",
          "name": "stdout",
          "text": [
            "        zero-shot weather        \n",
            "+----------------+-------+--------+\n",
            "| Шагов прогноза |  MAE  |  MSE   |\n",
            "+----------------+-------+--------+\n",
            "|       24       | 5.963 | 47.185 |\n",
            "|       96       |  8.6  | 98.665 |\n",
            "|      192       | 6.153 | 59.597 |\n",
            "|      336       | 5.265 | 43.522 |\n",
            "|      720       | 5.494 | 47.21  |\n",
            "+----------------+-------+--------+\n"
          ]
        }
      ]
    },
    {
      "cell_type": "markdown",
      "source": [
        "### illness few 200"
      ],
      "metadata": {
        "id": "ng03zIju1oxU"
      }
    },
    {
      "cell_type": "code",
      "source": [
        "df = timegpt.forecast(df=illness_train, h=60, finetune_steps=200, model='timegpt-1-long-horizon') # предсказываю\n",
        "predict = df['TimeGPT'] # вытаскиваю предсказания\n",
        "predict.to_csv(\"illness_few200.csv\")"
      ],
      "metadata": {
        "colab": {
          "base_uri": "https://localhost:8080/"
        },
        "id": "i9b9G7FwhMME",
        "outputId": "3a91792b-6eb3-4b85-e401-d267fcbc00b8"
      },
      "execution_count": null,
      "outputs": [
        {
          "output_type": "stream",
          "name": "stderr",
          "text": [
            "WARNING:nixtlats.nixtla_client:The specified horizon \"h\" exceeds the model horizon. This may lead to less accurate forecasts. Please consider using a smaller horizon.\n"
          ]
        }
      ]
    },
    {
      "cell_type": "code",
      "source": [
        "table = PrettyTable()\n",
        "table.field_names = [\"Шагов прогноза\",  \"MAE\", \"MSE\"]\n",
        "test = illness_test['y']\n",
        "# Перебираем разные шаги прогнозирования\n",
        "for step in step_forecasting1:\n",
        "    # Вычисляем метрики\n",
        "    MAE_value = mean_absolute_error(test.iloc[:step], predict[:step]).round(3)\n",
        "    MSE_value = mean_squared_error(test.iloc[:step], predict[:step]).round(3)\n",
        "    # Добавляем результаты в таблицу\n",
        "    table.add_row([step, MAE_value, MSE_value])\n",
        "print('few-shot 200 illness'.center(len(table.field_names) * 11))\n",
        "print(table)"
      ],
      "metadata": {
        "colab": {
          "base_uri": "https://localhost:8080/"
        },
        "id": "sWR06yBqhhJG",
        "outputId": "1d63ebaf-ade4-4a7b-da97-522430f97ae4"
      },
      "execution_count": null,
      "outputs": [
        {
          "output_type": "stream",
          "name": "stdout",
          "text": [
            "       few-shot 200 illness      \n",
            "+----------------+------------+-----------------+\n",
            "| Шагов прогноза |    MAE     |       MSE       |\n",
            "+----------------+------------+-----------------+\n",
            "|       24       | 82157.451  | 11309856808.086 |\n",
            "|       36       | 101026.809 | 14891674134.025 |\n",
            "|       48       | 103290.525 |  14561701775.17 |\n",
            "|       60       | 119798.829 | 18689907972.032 |\n",
            "+----------------+------------+-----------------+\n"
          ]
        }
      ]
    }
  ]
}