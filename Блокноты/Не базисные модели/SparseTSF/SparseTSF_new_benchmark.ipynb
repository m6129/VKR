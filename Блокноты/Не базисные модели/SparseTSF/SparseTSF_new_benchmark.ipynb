{
 "cells": [
  {
   "cell_type": "code",
   "execution_count": 1,
   "id": "9ff6abc3",
   "metadata": {
    "_cell_guid": "b1076dfc-b9ad-4769-8c92-a6c4dae69d19",
    "_uuid": "8f2839f25d086af736a60e9eeb907d3b93b6e0e5",
    "execution": {
     "iopub.execute_input": "2024-05-11T06:20:03.578307Z",
     "iopub.status.busy": "2024-05-11T06:20:03.577868Z",
     "iopub.status.idle": "2024-05-11T06:20:23.460217Z",
     "shell.execute_reply": "2024-05-11T06:20:23.459027Z"
    },
    "papermill": {
     "duration": 19.889813,
     "end_time": "2024-05-11T06:20:23.462609",
     "exception": false,
     "start_time": "2024-05-11T06:20:03.572796",
     "status": "completed"
    },
    "tags": []
   },
   "outputs": [
    {
     "name": "stdout",
     "output_type": "stream",
     "text": [
      "Cloning into 'SparseTSF'...\r\n",
      "remote: Enumerating objects: 173, done.\u001b[K\r\n",
      "remote: Counting objects: 100% (173/173), done.\u001b[K\r\n",
      "remote: Compressing objects: 100% (94/94), done.\u001b[K\r\n",
      "remote: Total 173 (delta 87), reused 155 (delta 69), pack-reused 0\u001b[K\r\n",
      "Receiving objects: 100% (173/173), 453.05 KiB | 13.32 MiB/s, done.\r\n",
      "Resolving deltas: 100% (87/87), done.\r\n"
     ]
    }
   ],
   "source": [
    "!git clone https://github.com/m6129/SparseTSF.git\n",
    "    # подгрузка наборов данных\n",
    "\n",
    "!pip install --upgrade gdown -q #https://github.com/wkentaro/gdown/issues/333\n",
    "!gdown --fuzzy https://drive.google.com/file/d/1-Jy7C9Dh9QJF_yWKf2hQKUia56aQXBJ0/view?usp=drive_link -q\n",
    "!gdown --fuzzy https://drive.google.com/file/d/1lPZhTcJVirbwhN6EpppcmpZzbDcBn4rx/view?usp=drive_link -q"
   ]
  },
  {
   "cell_type": "code",
   "execution_count": 2,
   "id": "96406b0e",
   "metadata": {
    "execution": {
     "iopub.execute_input": "2024-05-11T06:20:23.471943Z",
     "iopub.status.busy": "2024-05-11T06:20:23.471293Z",
     "iopub.status.idle": "2024-05-11T06:20:23.477278Z",
     "shell.execute_reply": "2024-05-11T06:20:23.476420Z"
    },
    "papermill": {
     "duration": 0.012722,
     "end_time": "2024-05-11T06:20:23.479258",
     "exception": false,
     "start_time": "2024-05-11T06:20:23.466536",
     "status": "completed"
    },
    "tags": []
   },
   "outputs": [
    {
     "name": "stdout",
     "output_type": "stream",
     "text": [
      "/kaggle/working/SparseTSF\n"
     ]
    }
   ],
   "source": [
    "cd SparseTSF"
   ]
  },
  {
   "cell_type": "code",
   "execution_count": 3,
   "id": "0444e1be",
   "metadata": {
    "execution": {
     "iopub.execute_input": "2024-05-11T06:20:23.487487Z",
     "iopub.status.busy": "2024-05-11T06:20:23.487204Z",
     "iopub.status.idle": "2024-05-11T06:20:24.425036Z",
     "shell.execute_reply": "2024-05-11T06:20:24.423943Z"
    },
    "papermill": {
     "duration": 0.944517,
     "end_time": "2024-05-11T06:20:24.427351",
     "exception": false,
     "start_time": "2024-05-11T06:20:23.482834",
     "status": "completed"
    },
    "tags": []
   },
   "outputs": [],
   "source": [
    "mkdir dataset"
   ]
  },
  {
   "cell_type": "code",
   "execution_count": 4,
   "id": "084a9f90",
   "metadata": {
    "execution": {
     "iopub.execute_input": "2024-05-11T06:20:24.436576Z",
     "iopub.status.busy": "2024-05-11T06:20:24.436254Z",
     "iopub.status.idle": "2024-05-11T06:20:26.291914Z",
     "shell.execute_reply": "2024-05-11T06:20:26.290694Z"
    },
    "papermill": {
     "duration": 1.862799,
     "end_time": "2024-05-11T06:20:26.294200",
     "exception": false,
     "start_time": "2024-05-11T06:20:24.431401",
     "status": "completed"
    },
    "tags": []
   },
   "outputs": [],
   "source": [
    "# новый набор данных\n",
    "!mv /kaggle/working/de_small.csv /kaggle/working/SparseTSF/dataset\n",
    "!mv /kaggle/working/de_big.csv /kaggle/working/SparseTSF/dataset"
   ]
  },
  {
   "cell_type": "code",
   "execution_count": 5,
   "id": "ade966a8",
   "metadata": {
    "execution": {
     "iopub.execute_input": "2024-05-11T06:20:26.302930Z",
     "iopub.status.busy": "2024-05-11T06:20:26.302632Z",
     "iopub.status.idle": "2024-05-11T06:21:34.570162Z",
     "shell.execute_reply": "2024-05-11T06:21:34.568849Z"
    },
    "papermill": {
     "duration": 68.277769,
     "end_time": "2024-05-11T06:21:34.575749",
     "exception": false,
     "start_time": "2024-05-11T06:20:26.297980",
     "status": "completed"
    },
    "tags": []
   },
   "outputs": [
    {
     "name": "stdout",
     "output_type": "stream",
     "text": [
      "CPU times: user 978 ms, sys: 183 ms, total: 1.16 s\n",
      "Wall time: 1min 8s\n"
     ]
    }
   ],
   "source": [
    "%%time\n",
    "!bash scripts/SparseTSF/univariate/de_small.sh"
   ]
  },
  {
   "cell_type": "code",
   "execution_count": 6,
   "id": "ac8ef391",
   "metadata": {
    "execution": {
     "iopub.execute_input": "2024-05-11T06:21:34.584499Z",
     "iopub.status.busy": "2024-05-11T06:21:34.584160Z",
     "iopub.status.idle": "2024-05-11T06:25:15.390365Z",
     "shell.execute_reply": "2024-05-11T06:25:15.389238Z"
    },
    "papermill": {
     "duration": 220.81679,
     "end_time": "2024-05-11T06:25:15.396211",
     "exception": false,
     "start_time": "2024-05-11T06:21:34.579421",
     "status": "completed"
    },
    "tags": []
   },
   "outputs": [
    {
     "name": "stdout",
     "output_type": "stream",
     "text": [
      "CPU times: user 3.29 s, sys: 452 ms, total: 3.75 s\n",
      "Wall time: 3min 40s\n"
     ]
    }
   ],
   "source": [
    "%%time\n",
    "!bash scripts/SparseTSF/univariate/de_big.sh"
   ]
  },
  {
   "cell_type": "code",
   "execution_count": 7,
   "id": "d0e06609",
   "metadata": {
    "execution": {
     "iopub.execute_input": "2024-05-11T06:25:15.405372Z",
     "iopub.status.busy": "2024-05-11T06:25:15.405031Z",
     "iopub.status.idle": "2024-05-11T06:26:17.388338Z",
     "shell.execute_reply": "2024-05-11T06:26:17.387164Z"
    },
    "papermill": {
     "duration": 61.993412,
     "end_time": "2024-05-11T06:26:17.393330",
     "exception": false,
     "start_time": "2024-05-11T06:25:15.399918",
     "status": "completed"
    },
    "tags": []
   },
   "outputs": [
    {
     "name": "stdout",
     "output_type": "stream",
     "text": [
      "CPU times: user 889 ms, sys: 133 ms, total: 1.02 s\n",
      "Wall time: 1min 1s\n"
     ]
    }
   ],
   "source": [
    "%%time\n",
    "!bash scripts/SparseTSF/multivariate/de_small.sh"
   ]
  },
  {
   "cell_type": "code",
   "execution_count": 8,
   "id": "4094b0d8",
   "metadata": {
    "execution": {
     "iopub.execute_input": "2024-05-11T06:26:17.402912Z",
     "iopub.status.busy": "2024-05-11T06:26:17.402131Z",
     "iopub.status.idle": "2024-05-11T06:31:34.305339Z",
     "shell.execute_reply": "2024-05-11T06:31:34.304247Z"
    },
    "papermill": {
     "duration": 316.914128,
     "end_time": "2024-05-11T06:31:34.311269",
     "exception": false,
     "start_time": "2024-05-11T06:26:17.397141",
     "status": "completed"
    },
    "tags": []
   },
   "outputs": [
    {
     "name": "stdout",
     "output_type": "stream",
     "text": [
      "CPU times: user 4.95 s, sys: 710 ms, total: 5.66 s\n",
      "Wall time: 5min 16s\n"
     ]
    }
   ],
   "source": [
    "%%time\n",
    "!bash scripts/SparseTSF/multivariate/de_big.sh"
   ]
  }
 ],
 "metadata": {
  "kaggle": {
   "accelerator": "gpu",
   "dataSources": [],
   "dockerImageVersionId": 30699,
   "isGpuEnabled": true,
   "isInternetEnabled": true,
   "language": "python",
   "sourceType": "notebook"
  },
  "kernelspec": {
   "display_name": "Python 3",
   "language": "python",
   "name": "python3"
  },
  "language_info": {
   "codemirror_mode": {
    "name": "ipython",
    "version": 3
   },
   "file_extension": ".py",
   "mimetype": "text/x-python",
   "name": "python",
   "nbconvert_exporter": "python",
   "pygments_lexer": "ipython3",
   "version": "3.10.13"
  },
  "papermill": {
   "default_parameters": {},
   "duration": 693.788326,
   "end_time": "2024-05-11T06:31:34.635003",
   "environment_variables": {},
   "exception": null,
   "input_path": "__notebook__.ipynb",
   "output_path": "__notebook__.ipynb",
   "parameters": {},
   "start_time": "2024-05-11T06:20:00.846677",
   "version": "2.5.0"
  }
 },
 "nbformat": 4,
 "nbformat_minor": 5
}
