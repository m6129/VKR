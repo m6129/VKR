{
 "cells": [
  {
   "cell_type": "code",
   "execution_count": 1,
   "id": "bbc89ff3",
   "metadata": {
    "_cell_guid": "b1076dfc-b9ad-4769-8c92-a6c4dae69d19",
    "_uuid": "8f2839f25d086af736a60e9eeb907d3b93b6e0e5",
    "execution": {
     "iopub.execute_input": "2024-05-04T19:06:12.433608Z",
     "iopub.status.busy": "2024-05-04T19:06:12.433206Z",
     "iopub.status.idle": "2024-05-04T19:06:43.123585Z",
     "shell.execute_reply": "2024-05-04T19:06:43.122518Z"
    },
    "papermill": {
     "duration": 30.699791,
     "end_time": "2024-05-04T19:06:43.126086",
     "exception": false,
     "start_time": "2024-05-04T19:06:12.426295",
     "status": "completed"
    },
    "tags": []
   },
   "outputs": [
    {
     "name": "stdout",
     "output_type": "stream",
     "text": [
      "Cloning into 'SparseTSF'...\r\n",
      "remote: Enumerating objects: 145, done.\u001b[K\r\n",
      "remote: Counting objects: 100% (145/145), done.\u001b[K\r\n",
      "remote: Compressing objects: 100% (79/79), done.\u001b[K\r\n",
      "remote: Total 145 (delta 70), reused 134 (delta 59), pack-reused 0\u001b[K\r\n",
      "Receiving objects: 100% (145/145), 447.67 KiB | 16.58 MiB/s, done.\r\n",
      "Resolving deltas: 100% (70/70), done.\r\n",
      "Archive:  /kaggle/working/weather.zip\r\n",
      "   creating: weather/\r\n",
      "  inflating: weather/weather.csv     \r\n",
      "Archive:  /kaggle/working/exchange_rate.zip\r\n",
      "   creating: exchange_rate/\r\n",
      "  inflating: exchange_rate/.DS_Store  \r\n",
      "  inflating: exchange_rate/exchange_rate.csv  \r\n",
      "Archive:  /kaggle/working/illness.zip\r\n",
      "   creating: illness/\r\n",
      "  inflating: illness/national_illness.csv  \r\n"
     ]
    }
   ],
   "source": [
    "!git clone https://github.com/m6129/SparseTSF.git\n",
    "    # подгрузка наборов данных\n",
    "!git clone https://github.com/zhouhaoyi/ETDataset -q\n",
    "!pip install --upgrade gdown -q #https://github.com/wkentaro/gdown/issues/333\n",
    "!gdown --fuzzy https://drive.google.com/file/d/1nXdMIJ7K201Bx3IBGNiaNFQ6FzeDEzIr/view?usp=drive_link -q\n",
    "!gdown --fuzzy https://drive.google.com/file/d/1rN79CxW3Vldp-WDuSoG0bKq9tYQR79UK/view?usp=drive_link -q\n",
    "!gdown --fuzzy https://drive.google.com/file/d/1WMKg7KevVEEd9jrfLG8mcpOequZMbjlM/view?usp=drive_link -q\n",
    "!unzip /kaggle/working/weather.zip\n",
    "!unzip /kaggle/working/exchange_rate.zip\n",
    "!unzip /kaggle/working/illness.zip"
   ]
  },
  {
   "cell_type": "code",
   "execution_count": 2,
   "id": "ab3c7b9d",
   "metadata": {
    "execution": {
     "iopub.execute_input": "2024-05-04T19:06:43.139953Z",
     "iopub.status.busy": "2024-05-04T19:06:43.139610Z",
     "iopub.status.idle": "2024-05-04T19:06:43.145909Z",
     "shell.execute_reply": "2024-05-04T19:06:43.145048Z"
    },
    "papermill": {
     "duration": 0.015722,
     "end_time": "2024-05-04T19:06:43.147926",
     "exception": false,
     "start_time": "2024-05-04T19:06:43.132204",
     "status": "completed"
    },
    "tags": []
   },
   "outputs": [
    {
     "name": "stdout",
     "output_type": "stream",
     "text": [
      "/kaggle/working/SparseTSF\n"
     ]
    }
   ],
   "source": [
    "cd SparseTSF"
   ]
  },
  {
   "cell_type": "code",
   "execution_count": 3,
   "id": "75dd1a34",
   "metadata": {
    "execution": {
     "iopub.execute_input": "2024-05-04T19:06:43.161256Z",
     "iopub.status.busy": "2024-05-04T19:06:43.160560Z",
     "iopub.status.idle": "2024-05-04T19:06:44.111617Z",
     "shell.execute_reply": "2024-05-04T19:06:44.110381Z"
    },
    "papermill": {
     "duration": 0.960401,
     "end_time": "2024-05-04T19:06:44.114199",
     "exception": false,
     "start_time": "2024-05-04T19:06:43.153798",
     "status": "completed"
    },
    "tags": []
   },
   "outputs": [],
   "source": [
    "mkdir dataset"
   ]
  },
  {
   "cell_type": "code",
   "execution_count": 4,
   "id": "1bb54b2c",
   "metadata": {
    "execution": {
     "iopub.execute_input": "2024-05-04T19:06:44.128019Z",
     "iopub.status.busy": "2024-05-04T19:06:44.127678Z",
     "iopub.status.idle": "2024-05-04T19:06:47.941770Z",
     "shell.execute_reply": "2024-05-04T19:06:47.940483Z"
    },
    "papermill": {
     "duration": 3.824105,
     "end_time": "2024-05-04T19:06:47.944449",
     "exception": false,
     "start_time": "2024-05-04T19:06:44.120344",
     "status": "completed"
    },
    "tags": []
   },
   "outputs": [],
   "source": [
    "!mv /kaggle/working/ETDataset/ETT-small/* /kaggle/working/SparseTSF/dataset\n",
    "!mv /kaggle/working/weather/* /kaggle/working/SparseTSF/dataset\n",
    "!mv /kaggle/working/exchange_rate/* /kaggle/working/SparseTSF/dataset\n",
    "!mv /kaggle/working/illness/* /kaggle/working/SparseTSF/dataset"
   ]
  },
  {
   "cell_type": "markdown",
   "id": "82a7e1c1",
   "metadata": {},
   "source": [
    "**одномерное прогнозирование**"
   ]
  },
  {
   "cell_type": "code",
   "execution_count": 5,
   "id": "821dff28",
   "metadata": {
    "execution": {
     "iopub.execute_input": "2024-05-04T19:06:47.958462Z",
     "iopub.status.busy": "2024-05-04T19:06:47.957638Z",
     "iopub.status.idle": "2024-05-04T19:09:46.254724Z",
     "shell.execute_reply": "2024-05-04T19:09:46.253669Z"
    },
    "papermill": {
     "duration": 178.31321,
     "end_time": "2024-05-04T19:09:46.263692",
     "exception": false,
     "start_time": "2024-05-04T19:06:47.950482",
     "status": "completed"
    },
    "tags": []
   },
   "outputs": [
    {
     "name": "stdout",
     "output_type": "stream",
     "text": [
      "CPU times: user 2.98 s, sys: 430 ms, total: 3.41 s\n",
      "Wall time: 2min 58s\n"
     ]
    }
   ],
   "source": [
    "%%time\n",
    "!bash scripts/SparseTSF/univariate/etth1.sh"
   ]
  },
  {
   "cell_type": "code",
   "execution_count": 6,
   "id": "7b83de40",
   "metadata": {
    "execution": {
     "iopub.execute_input": "2024-05-04T19:09:46.277570Z",
     "iopub.status.busy": "2024-05-04T19:09:46.277207Z",
     "iopub.status.idle": "2024-05-04T19:12:46.694057Z",
     "shell.execute_reply": "2024-05-04T19:12:46.692950Z"
    },
    "papermill": {
     "duration": 180.43207,
     "end_time": "2024-05-04T19:12:46.702099",
     "exception": false,
     "start_time": "2024-05-04T19:09:46.270029",
     "status": "completed"
    },
    "tags": []
   },
   "outputs": [
    {
     "name": "stdout",
     "output_type": "stream",
     "text": [
      "CPU times: user 2.96 s, sys: 444 ms, total: 3.4 s\n",
      "Wall time: 3min\n"
     ]
    }
   ],
   "source": [
    "%%time\n",
    "!bash scripts/SparseTSF/univariate/etth2.sh"
   ]
  },
  {
   "cell_type": "code",
   "execution_count": 7,
   "id": "f6a6106a",
   "metadata": {
    "execution": {
     "iopub.execute_input": "2024-05-04T19:12:46.715776Z",
     "iopub.status.busy": "2024-05-04T19:12:46.715370Z",
     "iopub.status.idle": "2024-05-04T19:19:19.971013Z",
     "shell.execute_reply": "2024-05-04T19:19:19.969879Z"
    },
    "papermill": {
     "duration": 393.270841,
     "end_time": "2024-05-04T19:19:19.979050",
     "exception": false,
     "start_time": "2024-05-04T19:12:46.708209",
     "status": "completed"
    },
    "tags": []
   },
   "outputs": [
    {
     "name": "stdout",
     "output_type": "stream",
     "text": [
      "CPU times: user 6.62 s, sys: 898 ms, total: 7.52 s\n",
      "Wall time: 6min 33s\n"
     ]
    }
   ],
   "source": [
    "%%time\n",
    "!bash scripts/SparseTSF/univariate/ettm1.sh"
   ]
  },
  {
   "cell_type": "code",
   "execution_count": 8,
   "id": "069ddee3",
   "metadata": {
    "execution": {
     "iopub.execute_input": "2024-05-04T19:19:19.993677Z",
     "iopub.status.busy": "2024-05-04T19:19:19.992841Z",
     "iopub.status.idle": "2024-05-04T19:25:29.784474Z",
     "shell.execute_reply": "2024-05-04T19:25:29.783315Z"
    },
    "papermill": {
     "duration": 369.807321,
     "end_time": "2024-05-04T19:25:29.792630",
     "exception": false,
     "start_time": "2024-05-04T19:19:19.985309",
     "status": "completed"
    },
    "tags": []
   },
   "outputs": [
    {
     "name": "stdout",
     "output_type": "stream",
     "text": [
      "CPU times: user 6.12 s, sys: 888 ms, total: 7.01 s\n",
      "Wall time: 6min 9s\n"
     ]
    }
   ],
   "source": [
    "%%time\n",
    "!bash scripts/SparseTSF/univariate/ettm2.sh"
   ]
  },
  {
   "cell_type": "code",
   "execution_count": 9,
   "id": "44cbd83f",
   "metadata": {
    "execution": {
     "iopub.execute_input": "2024-05-04T19:25:29.807316Z",
     "iopub.status.busy": "2024-05-04T19:25:29.806487Z",
     "iopub.status.idle": "2024-05-04T19:27:34.223234Z",
     "shell.execute_reply": "2024-05-04T19:27:34.221634Z"
    },
    "papermill": {
     "duration": 124.432774,
     "end_time": "2024-05-04T19:27:34.231611",
     "exception": false,
     "start_time": "2024-05-04T19:25:29.798837",
     "status": "completed"
    },
    "tags": []
   },
   "outputs": [
    {
     "name": "stdout",
     "output_type": "stream",
     "text": [
      "CPU times: user 2.06 s, sys: 299 ms, total: 2.36 s\n",
      "Wall time: 2min 4s\n"
     ]
    }
   ],
   "source": [
    "%%time\n",
    "!bash scripts/SparseTSF/univariate/exchange_rate.sh"
   ]
  },
  {
   "cell_type": "code",
   "execution_count": 10,
   "id": "ff6416e1",
   "metadata": {
    "execution": {
     "iopub.execute_input": "2024-05-04T19:27:34.246725Z",
     "iopub.status.busy": "2024-05-04T19:27:34.246367Z",
     "iopub.status.idle": "2024-05-04T19:31:55.522888Z",
     "shell.execute_reply": "2024-05-04T19:31:55.521705Z"
    },
    "papermill": {
     "duration": 261.293143,
     "end_time": "2024-05-04T19:31:55.531646",
     "exception": false,
     "start_time": "2024-05-04T19:27:34.238503",
     "status": "completed"
    },
    "tags": []
   },
   "outputs": [
    {
     "name": "stdout",
     "output_type": "stream",
     "text": [
      "CPU times: user 4.4 s, sys: 593 ms, total: 4.99 s\n",
      "Wall time: 4min 21s\n"
     ]
    }
   ],
   "source": [
    "%%time\n",
    "!bash scripts/SparseTSF/univariate/weather.sh"
   ]
  },
  {
   "cell_type": "code",
   "execution_count": 11,
   "id": "11750fd6",
   "metadata": {
    "execution": {
     "iopub.execute_input": "2024-05-04T19:31:55.546723Z",
     "iopub.status.busy": "2024-05-04T19:31:55.546362Z",
     "iopub.status.idle": "2024-05-04T19:33:31.995053Z",
     "shell.execute_reply": "2024-05-04T19:33:31.993761Z"
    },
    "papermill": {
     "duration": 96.4648,
     "end_time": "2024-05-04T19:33:32.003257",
     "exception": false,
     "start_time": "2024-05-04T19:31:55.538457",
     "status": "completed"
    },
    "tags": []
   },
   "outputs": [
    {
     "name": "stdout",
     "output_type": "stream",
     "text": [
      "CPU times: user 1.57 s, sys: 264 ms, total: 1.83 s\n",
      "Wall time: 1min 36s\n"
     ]
    }
   ],
   "source": [
    "%%time\n",
    "!bash scripts/SparseTSF/univariate/illness.sh"
   ]
  },
  {
   "cell_type": "markdown",
   "id": "bd25531c",
   "metadata": {
    "papermill": {
     "duration": 0.006717,
     "end_time": "2024-05-04T19:33:32.016798",
     "exception": false,
     "start_time": "2024-05-04T19:33:32.010081",
     "status": "completed"
    },
    "tags": []
   },
   "source": [
    "**многомерное прогнозирование**"
   ]
  },
  {
   "cell_type": "code",
   "execution_count": 12,
   "id": "7bec0023",
   "metadata": {
    "execution": {
     "iopub.execute_input": "2024-05-04T19:33:32.032648Z",
     "iopub.status.busy": "2024-05-04T19:33:32.031772Z",
     "iopub.status.idle": "2024-05-04T19:36:26.942863Z",
     "shell.execute_reply": "2024-05-04T19:36:26.941588Z"
    },
    "papermill": {
     "duration": 174.928769,
     "end_time": "2024-05-04T19:36:26.952257",
     "exception": false,
     "start_time": "2024-05-04T19:33:32.023488",
     "status": "completed"
    },
    "tags": []
   },
   "outputs": [
    {
     "name": "stdout",
     "output_type": "stream",
     "text": [
      "CPU times: user 3.03 s, sys: 452 ms, total: 3.48 s\n",
      "Wall time: 2min 54s\n"
     ]
    }
   ],
   "source": [
    "%%time\n",
    "!bash scripts/SparseTSF/multivariate/etth1.sh"
   ]
  },
  {
   "cell_type": "code",
   "execution_count": 13,
   "id": "002ddd1d",
   "metadata": {
    "execution": {
     "iopub.execute_input": "2024-05-04T19:36:26.967988Z",
     "iopub.status.busy": "2024-05-04T19:36:26.967631Z",
     "iopub.status.idle": "2024-05-04T19:39:24.883072Z",
     "shell.execute_reply": "2024-05-04T19:39:24.881900Z"
    },
    "papermill": {
     "duration": 177.932623,
     "end_time": "2024-05-04T19:39:24.892274",
     "exception": false,
     "start_time": "2024-05-04T19:36:26.959651",
     "status": "completed"
    },
    "tags": []
   },
   "outputs": [
    {
     "name": "stdout",
     "output_type": "stream",
     "text": [
      "CPU times: user 3.09 s, sys: 441 ms, total: 3.53 s\n",
      "Wall time: 2min 57s\n"
     ]
    }
   ],
   "source": [
    "%%time\n",
    "!bash scripts/SparseTSF/multivariate/etth2.sh"
   ]
  },
  {
   "cell_type": "code",
   "execution_count": 14,
   "id": "a1625e76",
   "metadata": {
    "execution": {
     "iopub.execute_input": "2024-05-04T19:39:24.908726Z",
     "iopub.status.busy": "2024-05-04T19:39:24.907989Z",
     "iopub.status.idle": "2024-05-04T19:47:18.281966Z",
     "shell.execute_reply": "2024-05-04T19:47:18.280684Z"
    },
    "papermill": {
     "duration": 473.391034,
     "end_time": "2024-05-04T19:47:18.290649",
     "exception": false,
     "start_time": "2024-05-04T19:39:24.899615",
     "status": "completed"
    },
    "tags": []
   },
   "outputs": [
    {
     "name": "stdout",
     "output_type": "stream",
     "text": [
      "CPU times: user 7.72 s, sys: 1.02 s, total: 8.74 s\n",
      "Wall time: 7min 53s\n"
     ]
    }
   ],
   "source": [
    "%%time\n",
    "!bash scripts/SparseTSF/multivariate/ettm1.sh"
   ]
  },
  {
   "cell_type": "code",
   "execution_count": 15,
   "id": "6748371f",
   "metadata": {
    "execution": {
     "iopub.execute_input": "2024-05-04T19:47:18.305888Z",
     "iopub.status.busy": "2024-05-04T19:47:18.305578Z",
     "iopub.status.idle": "2024-05-04T19:55:46.819585Z",
     "shell.execute_reply": "2024-05-04T19:55:46.818426Z"
    },
    "papermill": {
     "duration": 508.530442,
     "end_time": "2024-05-04T19:55:46.828011",
     "exception": false,
     "start_time": "2024-05-04T19:47:18.297569",
     "status": "completed"
    },
    "tags": []
   },
   "outputs": [
    {
     "name": "stdout",
     "output_type": "stream",
     "text": [
      "CPU times: user 8.13 s, sys: 1.01 s, total: 9.14 s\n",
      "Wall time: 8min 28s\n"
     ]
    }
   ],
   "source": [
    "%%time\n",
    "!bash scripts/SparseTSF/multivariate/ettm2.sh"
   ]
  },
  {
   "cell_type": "code",
   "execution_count": 16,
   "id": "c60b89aa",
   "metadata": {
    "execution": {
     "iopub.execute_input": "2024-05-04T19:55:46.844135Z",
     "iopub.status.busy": "2024-05-04T19:55:46.843802Z",
     "iopub.status.idle": "2024-05-04T19:59:03.565805Z",
     "shell.execute_reply": "2024-05-04T19:59:03.564437Z"
    },
    "papermill": {
     "duration": 196.740615,
     "end_time": "2024-05-04T19:59:03.575839",
     "exception": false,
     "start_time": "2024-05-04T19:55:46.835224",
     "status": "completed"
    },
    "tags": []
   },
   "outputs": [
    {
     "name": "stdout",
     "output_type": "stream",
     "text": [
      "CPU times: user 3.05 s, sys: 381 ms, total: 3.44 s\n",
      "Wall time: 3min 16s\n"
     ]
    }
   ],
   "source": [
    "%%time\n",
    "!bash scripts/SparseTSF/multivariate/exchange_rate.sh"
   ]
  },
  {
   "cell_type": "code",
   "execution_count": 17,
   "id": "11f30bc6",
   "metadata": {
    "execution": {
     "iopub.execute_input": "2024-05-04T19:59:03.593018Z",
     "iopub.status.busy": "2024-05-04T19:59:03.592678Z",
     "iopub.status.idle": "2024-05-04T20:09:16.966127Z",
     "shell.execute_reply": "2024-05-04T20:09:16.965018Z"
    },
    "papermill": {
     "duration": 613.392197,
     "end_time": "2024-05-04T20:09:16.975782",
     "exception": false,
     "start_time": "2024-05-04T19:59:03.583585",
     "status": "completed"
    },
    "tags": []
   },
   "outputs": [
    {
     "name": "stdout",
     "output_type": "stream",
     "text": [
      "CPU times: user 10.4 s, sys: 1.38 s, total: 11.8 s\n",
      "Wall time: 10min 13s\n"
     ]
    }
   ],
   "source": [
    "%%time\n",
    "!bash scripts/SparseTSF/multivariate/weather.sh"
   ]
  },
  {
   "cell_type": "code",
   "execution_count": 18,
   "id": "732f3231",
   "metadata": {
    "execution": {
     "iopub.execute_input": "2024-05-04T20:09:16.992331Z",
     "iopub.status.busy": "2024-05-04T20:09:16.991996Z",
     "iopub.status.idle": "2024-05-04T20:10:32.134170Z",
     "shell.execute_reply": "2024-05-04T20:10:32.132984Z"
    },
    "papermill": {
     "duration": 75.160341,
     "end_time": "2024-05-04T20:10:32.143734",
     "exception": false,
     "start_time": "2024-05-04T20:09:16.983393",
     "status": "completed"
    },
    "tags": []
   },
   "outputs": [
    {
     "name": "stdout",
     "output_type": "stream",
     "text": [
      "CPU times: user 1.08 s, sys: 175 ms, total: 1.25 s\n",
      "Wall time: 1min 15s\n"
     ]
    }
   ],
   "source": [
    "%%time\n",
    "!bash scripts/SparseTSF/multivariate/illness.sh"
   ]
  }
 ],
 "metadata": {
  "kaggle": {
   "accelerator": "gpu",
   "dataSources": [],
   "dockerImageVersionId": 30699,
   "isGpuEnabled": true,
   "isInternetEnabled": true,
   "language": "python",
   "sourceType": "notebook"
  },
  "kernelspec": {
   "display_name": "Python 3",
   "language": "python",
   "name": "python3"
  },
  "language_info": {
   "codemirror_mode": {
    "name": "ipython",
    "version": 3
   },
   "file_extension": ".py",
   "mimetype": "text/x-python",
   "name": "python",
   "nbconvert_exporter": "python",
   "pygments_lexer": "ipython3",
   "version": "3.10.13"
  },
  "papermill": {
   "default_parameters": {},
   "duration": 3862.82666,
   "end_time": "2024-05-04T20:10:32.377602",
   "environment_variables": {},
   "exception": null,
   "input_path": "__notebook__.ipynb",
   "output_path": "__notebook__.ipynb",
   "parameters": {},
   "start_time": "2024-05-04T19:06:09.550942",
   "version": "2.5.0"
  }
 },
 "nbformat": 4,
 "nbformat_minor": 5
}
