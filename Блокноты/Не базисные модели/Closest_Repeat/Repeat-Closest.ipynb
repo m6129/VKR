{
 "cells": [
  {
   "cell_type": "code",
   "execution_count": 1,
   "id": "ece06a4d",
   "metadata": {
    "_cell_guid": "b1076dfc-b9ad-4769-8c92-a6c4dae69d19",
    "_uuid": "8f2839f25d086af736a60e9eeb907d3b93b6e0e5",
    "execution": {
     "iopub.execute_input": "2024-05-11T06:41:42.237516Z",
     "iopub.status.busy": "2024-05-11T06:41:42.237062Z",
     "iopub.status.idle": "2024-05-11T06:42:19.920096Z",
     "shell.execute_reply": "2024-05-11T06:42:19.918575Z"
    },
    "papermill": {
     "duration": 37.690718,
     "end_time": "2024-05-11T06:42:19.923019",
     "exception": false,
     "start_time": "2024-05-11T06:41:42.232301",
     "status": "completed"
    },
    "tags": []
   },
   "outputs": [
    {
     "name": "stdout",
     "output_type": "stream",
     "text": [
      "Cloning into 'LTSF-Linear'...\r\n",
      "remote: Enumerating objects: 505, done.\u001b[K\r\n",
      "remote: Counting objects: 100% (296/296), done.\u001b[K\r\n",
      "remote: Compressing objects: 100% (137/137), done.\u001b[K\r\n",
      "remote: Total 505 (delta 194), reused 209 (delta 157), pack-reused 209\u001b[K\r\n",
      "Receiving objects: 100% (505/505), 5.83 MiB | 23.16 MiB/s, done.\r\n",
      "Resolving deltas: 100% (256/256), done.\r\n",
      "Archive:  /kaggle/working/weather.zip\r\n",
      "   creating: weather/\r\n",
      "  inflating: weather/weather.csv     \r\n",
      "Archive:  /kaggle/working/exchange_rate.zip\r\n",
      "   creating: exchange_rate/\r\n",
      "  inflating: exchange_rate/.DS_Store  \r\n",
      "  inflating: exchange_rate/exchange_rate.csv  \r\n",
      "Archive:  /kaggle/working/illness.zip\r\n",
      "   creating: illness/\r\n",
      "  inflating: illness/national_illness.csv  \r\n"
     ]
    }
   ],
   "source": [
    "!git clone https://github.com/m6129/LTSF-Linear.git\n",
    "        # подгрузка наборов данных\n",
    "!git clone https://github.com/zhouhaoyi/ETDataset -q\n",
    "!pip install --upgrade gdown -q #https://github.com/wkentaro/gdown/issues/333\n",
    "!gdown --fuzzy https://drive.google.com/file/d/1nXdMIJ7K201Bx3IBGNiaNFQ6FzeDEzIr/view?usp=drive_link -q\n",
    "!gdown --fuzzy https://drive.google.com/file/d/1rN79CxW3Vldp-WDuSoG0bKq9tYQR79UK/view?usp=drive_link -q\n",
    "!gdown --fuzzy https://drive.google.com/file/d/1WMKg7KevVEEd9jrfLG8mcpOequZMbjlM/view?usp=drive_link -q\n",
    "!unzip /kaggle/working/weather.zip\n",
    "!unzip /kaggle/working/exchange_rate.zip\n",
    "!unzip /kaggle/working/illness.zip\n",
    "!gdown --fuzzy https://drive.google.com/file/d/1-Jy7C9Dh9QJF_yWKf2hQKUia56aQXBJ0/view?usp=drive_link -q\n",
    "!gdown --fuzzy https://drive.google.com/file/d/1lPZhTcJVirbwhN6EpppcmpZzbDcBn4rx/view?usp=drive_link -q"
   ]
  },
  {
   "cell_type": "code",
   "execution_count": 2,
   "id": "93387aea",
   "metadata": {
    "execution": {
     "iopub.execute_input": "2024-05-11T06:42:19.933443Z",
     "iopub.status.busy": "2024-05-11T06:42:19.932902Z",
     "iopub.status.idle": "2024-05-11T06:42:33.069964Z",
     "shell.execute_reply": "2024-05-11T06:42:33.068416Z"
    },
    "papermill": {
     "duration": 13.145185,
     "end_time": "2024-05-11T06:42:33.072558",
     "exception": false,
     "start_time": "2024-05-11T06:42:19.927373",
     "status": "completed"
    },
    "tags": []
   },
   "outputs": [],
   "source": [
    "!pip install pmdarima -q"
   ]
  },
  {
   "cell_type": "code",
   "execution_count": 3,
   "id": "da1fa5a3",
   "metadata": {
    "execution": {
     "iopub.execute_input": "2024-05-11T06:42:33.083012Z",
     "iopub.status.busy": "2024-05-11T06:42:33.082581Z",
     "iopub.status.idle": "2024-05-11T06:42:33.090161Z",
     "shell.execute_reply": "2024-05-11T06:42:33.089056Z"
    },
    "papermill": {
     "duration": 0.015745,
     "end_time": "2024-05-11T06:42:33.092496",
     "exception": false,
     "start_time": "2024-05-11T06:42:33.076751",
     "status": "completed"
    },
    "tags": []
   },
   "outputs": [
    {
     "name": "stdout",
     "output_type": "stream",
     "text": [
      "/kaggle/working/LTSF-Linear\n"
     ]
    }
   ],
   "source": [
    "cd /kaggle/working/LTSF-Linear"
   ]
  },
  {
   "cell_type": "code",
   "execution_count": 4,
   "id": "38052b21",
   "metadata": {
    "execution": {
     "iopub.execute_input": "2024-05-11T06:42:33.102560Z",
     "iopub.status.busy": "2024-05-11T06:42:33.102150Z",
     "iopub.status.idle": "2024-05-11T06:42:34.120132Z",
     "shell.execute_reply": "2024-05-11T06:42:34.118422Z"
    },
    "papermill": {
     "duration": 1.026441,
     "end_time": "2024-05-11T06:42:34.123070",
     "exception": false,
     "start_time": "2024-05-11T06:42:33.096629",
     "status": "completed"
    },
    "tags": []
   },
   "outputs": [],
   "source": [
    "mkdir dataset"
   ]
  },
  {
   "cell_type": "code",
   "execution_count": 5,
   "id": "bf63db31",
   "metadata": {
    "execution": {
     "iopub.execute_input": "2024-05-11T06:42:34.133709Z",
     "iopub.status.busy": "2024-05-11T06:42:34.132368Z",
     "iopub.status.idle": "2024-05-11T06:42:40.203831Z",
     "shell.execute_reply": "2024-05-11T06:42:40.202478Z"
    },
    "papermill": {
     "duration": 6.079487,
     "end_time": "2024-05-11T06:42:40.206492",
     "exception": false,
     "start_time": "2024-05-11T06:42:34.127005",
     "status": "completed"
    },
    "tags": []
   },
   "outputs": [],
   "source": [
    "!mv /kaggle/working/ETDataset/ETT-small/* /kaggle/working/LTSF-Linear/dataset\n",
    "!mv /kaggle/working/weather/* /kaggle/working/LTSF-Linear/dataset\n",
    "!mv /kaggle/working/exchange_rate/* /kaggle/working/LTSF-Linear/dataset\n",
    "!mv /kaggle/working/illness/* /kaggle/working/LTSF-Linear/dataset\n",
    "# новый набор данных\n",
    "!mv /kaggle/working/de_small.csv /kaggle/working/LTSF-Linear/dataset\n",
    "!mv /kaggle/working/de_big.csv /kaggle/working/LTSF-Linear/dataset"
   ]
  },
  {
   "cell_type": "code",
   "execution_count": 6,
   "id": "3a91aaf6",
   "metadata": {
    "execution": {
     "iopub.execute_input": "2024-05-11T06:42:40.216064Z",
     "iopub.status.busy": "2024-05-11T06:42:40.215657Z",
     "iopub.status.idle": "2024-05-11T06:47:24.007588Z",
     "shell.execute_reply": "2024-05-11T06:47:24.006229Z"
    },
    "papermill": {
     "duration": 283.803262,
     "end_time": "2024-05-11T06:47:24.013637",
     "exception": false,
     "start_time": "2024-05-11T06:42:40.210375",
     "status": "completed"
    },
    "tags": []
   },
   "outputs": [
    {
     "name": "stdout",
     "output_type": "stream",
     "text": [
      "CPU times: user 5.3 s, sys: 804 ms, total: 6.1 s\n",
      "Wall time: 4min 43s\n"
     ]
    }
   ],
   "source": [
    "%%time\n",
    "!bash scripts/EXP-LongForecasting/Stat/univariate/Repeat-C_96.sh"
   ]
  },
  {
   "cell_type": "code",
   "execution_count": 7,
   "id": "aaf5c8d2",
   "metadata": {
    "execution": {
     "iopub.execute_input": "2024-05-11T06:47:24.024155Z",
     "iopub.status.busy": "2024-05-11T06:47:24.023743Z",
     "iopub.status.idle": "2024-05-11T06:52:49.161530Z",
     "shell.execute_reply": "2024-05-11T06:52:49.159220Z"
    },
    "papermill": {
     "duration": 325.154139,
     "end_time": "2024-05-11T06:52:49.171826",
     "exception": false,
     "start_time": "2024-05-11T06:47:24.017687",
     "status": "completed"
    },
    "tags": []
   },
   "outputs": [
    {
     "name": "stdout",
     "output_type": "stream",
     "text": [
      "CPU times: user 6.24 s, sys: 1.02 s, total: 7.26 s\n",
      "Wall time: 5min 25s\n"
     ]
    }
   ],
   "source": [
    "%%time\n",
    "!bash scripts/EXP-LongForecasting/Stat/multivariate/Repeat-C_96.sh"
   ]
  }
 ],
 "metadata": {
  "kaggle": {
   "accelerator": "none",
   "dataSources": [],
   "dockerImageVersionId": 30698,
   "isGpuEnabled": false,
   "isInternetEnabled": true,
   "language": "python",
   "sourceType": "notebook"
  },
  "kernelspec": {
   "display_name": "Python 3",
   "language": "python",
   "name": "python3"
  },
  "language_info": {
   "codemirror_mode": {
    "name": "ipython",
    "version": 3
   },
   "file_extension": ".py",
   "mimetype": "text/x-python",
   "name": "python",
   "nbconvert_exporter": "python",
   "pygments_lexer": "ipython3",
   "version": "3.10.13"
  },
  "papermill": {
   "default_parameters": {},
   "duration": 670.22941,
   "end_time": "2024-05-11T06:52:49.601257",
   "environment_variables": {},
   "exception": null,
   "input_path": "__notebook__.ipynb",
   "output_path": "__notebook__.ipynb",
   "parameters": {},
   "start_time": "2024-05-11T06:41:39.371847",
   "version": "2.5.0"
  }
 },
 "nbformat": 4,
 "nbformat_minor": 5
}
