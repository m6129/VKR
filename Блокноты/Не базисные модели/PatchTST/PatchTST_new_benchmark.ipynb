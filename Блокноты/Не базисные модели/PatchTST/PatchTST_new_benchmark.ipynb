{
 "cells": [
  {
   "cell_type": "code",
   "execution_count": 1,
   "id": "00b9a870",
   "metadata": {
    "_cell_guid": "b1076dfc-b9ad-4769-8c92-a6c4dae69d19",
    "_uuid": "8f2839f25d086af736a60e9eeb907d3b93b6e0e5",
    "execution": {
     "iopub.execute_input": "2024-05-11T16:08:24.483789Z",
     "iopub.status.busy": "2024-05-11T16:08:24.483402Z",
     "iopub.status.idle": "2024-05-11T16:08:51.197394Z",
     "shell.execute_reply": "2024-05-11T16:08:51.196221Z"
    },
    "papermill": {
     "duration": 26.721742,
     "end_time": "2024-05-11T16:08:51.200009",
     "exception": false,
     "start_time": "2024-05-11T16:08:24.478267",
     "status": "completed"
    },
    "tags": []
   },
   "outputs": [
    {
     "name": "stdout",
     "output_type": "stream",
     "text": [
      "Cloning into 'PatchTST'...\r\n",
      "remote: Enumerating objects: 807, done.\u001b[K\r\n",
      "remote: Counting objects: 100% (573/573), done.\u001b[K\r\n",
      "remote: Compressing objects: 100% (265/265), done.\u001b[K\r\n",
      "remote: Total 807 (delta 376), reused 450 (delta 303), pack-reused 234\u001b[K\r\n",
      "Receiving objects: 100% (807/807), 12.99 MiB | 14.35 MiB/s, done.\r\n",
      "Resolving deltas: 100% (466/466), done.\r\n"
     ]
    }
   ],
   "source": [
    "!git clone https://github.com/m6129/PatchTST.git\n",
    "    # подгрузка наборов данных\n",
    "!pip install --upgrade gdown -q #https://github.com/wkentaro/gdown/issues/333\n",
    "!gdown --fuzzy https://drive.google.com/file/d/1-Jy7C9Dh9QJF_yWKf2hQKUia56aQXBJ0/view?usp=drive_link -q\n",
    "!gdown --fuzzy https://drive.google.com/file/d/1lPZhTcJVirbwhN6EpppcmpZzbDcBn4rx/view?usp=drive_link -q"
   ]
  },
  {
   "cell_type": "code",
   "execution_count": 2,
   "id": "52bea7e5",
   "metadata": {
    "execution": {
     "iopub.execute_input": "2024-05-11T16:08:51.210866Z",
     "iopub.status.busy": "2024-05-11T16:08:51.210263Z",
     "iopub.status.idle": "2024-05-11T16:08:51.217105Z",
     "shell.execute_reply": "2024-05-11T16:08:51.216135Z"
    },
    "papermill": {
     "duration": 0.014214,
     "end_time": "2024-05-11T16:08:51.219124",
     "exception": false,
     "start_time": "2024-05-11T16:08:51.204910",
     "status": "completed"
    },
    "tags": []
   },
   "outputs": [
    {
     "name": "stdout",
     "output_type": "stream",
     "text": [
      "/kaggle/working/PatchTST/PatchTST_supervised\n"
     ]
    }
   ],
   "source": [
    "cd /kaggle/working/PatchTST/PatchTST_supervised"
   ]
  },
  {
   "cell_type": "code",
   "execution_count": 3,
   "id": "b748a9a0",
   "metadata": {
    "execution": {
     "iopub.execute_input": "2024-05-11T16:08:51.228275Z",
     "iopub.status.busy": "2024-05-11T16:08:51.227768Z",
     "iopub.status.idle": "2024-05-11T16:08:52.177986Z",
     "shell.execute_reply": "2024-05-11T16:08:52.176764Z"
    },
    "papermill": {
     "duration": 0.957535,
     "end_time": "2024-05-11T16:08:52.180595",
     "exception": false,
     "start_time": "2024-05-11T16:08:51.223060",
     "status": "completed"
    },
    "tags": []
   },
   "outputs": [],
   "source": [
    "mkdir dataset"
   ]
  },
  {
   "cell_type": "code",
   "execution_count": 4,
   "id": "65385c16",
   "metadata": {
    "execution": {
     "iopub.execute_input": "2024-05-11T16:08:52.190591Z",
     "iopub.status.busy": "2024-05-11T16:08:52.189990Z",
     "iopub.status.idle": "2024-05-11T16:08:54.103975Z",
     "shell.execute_reply": "2024-05-11T16:08:54.102764Z"
    },
    "papermill": {
     "duration": 1.921995,
     "end_time": "2024-05-11T16:08:54.106830",
     "exception": false,
     "start_time": "2024-05-11T16:08:52.184835",
     "status": "completed"
    },
    "tags": []
   },
   "outputs": [],
   "source": [
    "!mv /kaggle/working/de_small.csv /kaggle/working/PatchTST/PatchTST_supervised/dataset\n",
    "!mv /kaggle/working/de_big.csv /kaggle/working/PatchTST/PatchTST_supervised/dataset"
   ]
  },
  {
   "cell_type": "code",
   "execution_count": 5,
   "id": "43e806ad",
   "metadata": {
    "execution": {
     "iopub.execute_input": "2024-05-11T16:08:54.118120Z",
     "iopub.status.busy": "2024-05-11T16:08:54.117465Z",
     "iopub.status.idle": "2024-05-11T16:14:12.251564Z",
     "shell.execute_reply": "2024-05-11T16:14:12.250327Z"
    },
    "papermill": {
     "duration": 318.145573,
     "end_time": "2024-05-11T16:14:12.257911",
     "exception": false,
     "start_time": "2024-05-11T16:08:54.112338",
     "status": "completed"
    },
    "tags": []
   },
   "outputs": [
    {
     "name": "stdout",
     "output_type": "stream",
     "text": [
      "CPU times: user 4.97 s, sys: 677 ms, total: 5.64 s\n",
      "Wall time: 5min 18s\n"
     ]
    }
   ],
   "source": [
    "%%time\n",
    "!bash scripts/PatchTST/univariate/de_small.sh"
   ]
  },
  {
   "cell_type": "code",
   "execution_count": 6,
   "id": "f5c837b9",
   "metadata": {
    "execution": {
     "iopub.execute_input": "2024-05-11T16:14:12.267966Z",
     "iopub.status.busy": "2024-05-11T16:14:12.267621Z",
     "iopub.status.idle": "2024-05-11T16:33:09.777106Z",
     "shell.execute_reply": "2024-05-11T16:33:09.775930Z"
    },
    "papermill": {
     "duration": 1137.520707,
     "end_time": "2024-05-11T16:33:09.782739",
     "exception": false,
     "start_time": "2024-05-11T16:14:12.262032",
     "status": "completed"
    },
    "tags": []
   },
   "outputs": [
    {
     "name": "stdout",
     "output_type": "stream",
     "text": [
      "CPU times: user 17.2 s, sys: 2.63 s, total: 19.8 s\n",
      "Wall time: 18min 57s\n"
     ]
    }
   ],
   "source": [
    "%%time\n",
    "!bash scripts/PatchTST/univariate/de_big.sh"
   ]
  },
  {
   "cell_type": "markdown",
   "id": "15d84b8a",
   "metadata": {
    "papermill": {
     "duration": 0.003968,
     "end_time": "2024-05-11T16:33:09.791378",
     "exception": false,
     "start_time": "2024-05-11T16:33:09.787410",
     "status": "completed"
    },
    "tags": []
   },
   "source": [
    "## многомерное прогнозирование"
   ]
  },
  {
   "cell_type": "code",
   "execution_count": 7,
   "id": "ffd205d0",
   "metadata": {
    "execution": {
     "iopub.execute_input": "2024-05-11T16:33:09.801535Z",
     "iopub.status.busy": "2024-05-11T16:33:09.801160Z",
     "iopub.status.idle": "2024-05-11T16:39:31.859325Z",
     "shell.execute_reply": "2024-05-11T16:39:31.858117Z"
    },
    "papermill": {
     "duration": 382.070354,
     "end_time": "2024-05-11T16:39:31.865770",
     "exception": false,
     "start_time": "2024-05-11T16:33:09.795416",
     "status": "completed"
    },
    "tags": []
   },
   "outputs": [
    {
     "name": "stdout",
     "output_type": "stream",
     "text": [
      "CPU times: user 5.9 s, sys: 865 ms, total: 6.76 s\n",
      "Wall time: 6min 22s\n"
     ]
    }
   ],
   "source": [
    "%%time\n",
    "!bash scripts/PatchTST/de_small.sh"
   ]
  },
  {
   "cell_type": "code",
   "execution_count": 8,
   "id": "c3431a7d",
   "metadata": {
    "execution": {
     "iopub.execute_input": "2024-05-11T16:39:31.876249Z",
     "iopub.status.busy": "2024-05-11T16:39:31.875894Z",
     "iopub.status.idle": "2024-05-11T17:05:15.514107Z",
     "shell.execute_reply": "2024-05-11T17:05:15.512933Z"
    },
    "papermill": {
     "duration": 1543.650696,
     "end_time": "2024-05-11T17:05:15.520911",
     "exception": false,
     "start_time": "2024-05-11T16:39:31.870215",
     "status": "completed"
    },
    "tags": []
   },
   "outputs": [
    {
     "name": "stdout",
     "output_type": "stream",
     "text": [
      "CPU times: user 24.2 s, sys: 3.69 s, total: 27.9 s\n",
      "Wall time: 25min 43s\n"
     ]
    }
   ],
   "source": [
    "%%time\n",
    "!bash scripts/PatchTST/de_big.sh"
   ]
  }
 ],
 "metadata": {
  "kaggle": {
   "accelerator": "gpu",
   "dataSources": [],
   "dockerImageVersionId": 30699,
   "isGpuEnabled": true,
   "isInternetEnabled": true,
   "language": "python",
   "sourceType": "notebook"
  },
  "kernelspec": {
   "display_name": "Python 3",
   "language": "python",
   "name": "python3"
  },
  "language_info": {
   "codemirror_mode": {
    "name": "ipython",
    "version": 3
   },
   "file_extension": ".py",
   "mimetype": "text/x-python",
   "name": "python",
   "nbconvert_exporter": "python",
   "pygments_lexer": "ipython3",
   "version": "3.10.13"
  },
  "papermill": {
   "default_parameters": {},
   "duration": 3414.097848,
   "end_time": "2024-05-11T17:05:15.851371",
   "environment_variables": {},
   "exception": null,
   "input_path": "__notebook__.ipynb",
   "output_path": "__notebook__.ipynb",
   "parameters": {},
   "start_time": "2024-05-11T16:08:21.753523",
   "version": "2.5.0"
  }
 },
 "nbformat": 4,
 "nbformat_minor": 5
}
