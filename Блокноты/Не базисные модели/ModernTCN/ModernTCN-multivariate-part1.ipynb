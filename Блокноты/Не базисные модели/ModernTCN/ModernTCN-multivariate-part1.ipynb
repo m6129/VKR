{
 "cells": [
  {
   "cell_type": "code",
   "execution_count": 1,
   "id": "59e0e548",
   "metadata": {
    "_cell_guid": "b1076dfc-b9ad-4769-8c92-a6c4dae69d19",
    "_uuid": "8f2839f25d086af736a60e9eeb907d3b93b6e0e5",
    "execution": {
     "iopub.execute_input": "2024-05-09T05:31:43.849196Z",
     "iopub.status.busy": "2024-05-09T05:31:43.848352Z",
     "iopub.status.idle": "2024-05-09T05:32:12.896446Z",
     "shell.execute_reply": "2024-05-09T05:32:12.895496Z"
    },
    "papermill": {
     "duration": 29.055565,
     "end_time": "2024-05-09T05:32:12.898943",
     "exception": false,
     "start_time": "2024-05-09T05:31:43.843378",
     "status": "completed"
    },
    "tags": []
   },
   "outputs": [
    {
     "name": "stdout",
     "output_type": "stream",
     "text": [
      "Cloning into 'ModernTCN'...\r\n",
      "remote: Enumerating objects: 159, done.\u001b[K\r\n",
      "remote: Counting objects: 100% (92/92), done.\u001b[K\r\n",
      "remote: Compressing objects: 100% (51/51), done.\u001b[K\r\n",
      "remote: Total 159 (delta 47), reused 80 (delta 40), pack-reused 67\u001b[K\r\n",
      "Receiving objects: 100% (159/159), 2.08 MiB | 33.73 MiB/s, done.\r\n",
      "Resolving deltas: 100% (65/65), done.\r\n",
      "Archive:  /kaggle/working/weather.zip\r\n",
      "   creating: weather/\r\n",
      "  inflating: weather/weather.csv     \r\n",
      "Archive:  /kaggle/working/exchange_rate.zip\r\n",
      "   creating: exchange_rate/\r\n",
      "  inflating: exchange_rate/.DS_Store  \r\n",
      "  inflating: exchange_rate/exchange_rate.csv  \r\n",
      "Archive:  /kaggle/working/illness.zip\r\n",
      "   creating: illness/\r\n",
      "  inflating: illness/national_illness.csv  \r\n"
     ]
    }
   ],
   "source": [
    "!git clone https://github.com/m6129/ModernTCN.git\n",
    "    # подгрузка наборов данных\n",
    "!git clone https://github.com/zhouhaoyi/ETDataset -q\n",
    "!pip install --upgrade gdown -q #https://github.com/wkentaro/gdown/issues/333\n",
    "!gdown --fuzzy https://drive.google.com/file/d/1nXdMIJ7K201Bx3IBGNiaNFQ6FzeDEzIr/view?usp=drive_link -q\n",
    "!gdown --fuzzy https://drive.google.com/file/d/1rN79CxW3Vldp-WDuSoG0bKq9tYQR79UK/view?usp=drive_link -q\n",
    "!gdown --fuzzy https://drive.google.com/file/d/1WMKg7KevVEEd9jrfLG8mcpOequZMbjlM/view?usp=drive_link -q\n",
    "!unzip /kaggle/working/weather.zip\n",
    "!unzip /kaggle/working/exchange_rate.zip\n",
    "!unzip /kaggle/working/illness.zip"
   ]
  },
  {
   "cell_type": "code",
   "execution_count": 2,
   "id": "eadf1114",
   "metadata": {
    "execution": {
     "iopub.execute_input": "2024-05-09T05:32:12.908519Z",
     "iopub.status.busy": "2024-05-09T05:32:12.908152Z",
     "iopub.status.idle": "2024-05-09T05:32:12.914669Z",
     "shell.execute_reply": "2024-05-09T05:32:12.913834Z"
    },
    "papermill": {
     "duration": 0.013649,
     "end_time": "2024-05-09T05:32:12.916860",
     "exception": false,
     "start_time": "2024-05-09T05:32:12.903211",
     "status": "completed"
    },
    "tags": []
   },
   "outputs": [
    {
     "name": "stdout",
     "output_type": "stream",
     "text": [
      "/kaggle/working/ModernTCN\n"
     ]
    }
   ],
   "source": [
    "cd ModernTCN"
   ]
  },
  {
   "cell_type": "code",
   "execution_count": 3,
   "id": "91c9797f",
   "metadata": {
    "execution": {
     "iopub.execute_input": "2024-05-09T05:32:12.925687Z",
     "iopub.status.busy": "2024-05-09T05:32:12.925399Z",
     "iopub.status.idle": "2024-05-09T05:32:13.905452Z",
     "shell.execute_reply": "2024-05-09T05:32:13.904222Z"
    },
    "papermill": {
     "duration": 0.987106,
     "end_time": "2024-05-09T05:32:13.907794",
     "exception": false,
     "start_time": "2024-05-09T05:32:12.920688",
     "status": "completed"
    },
    "tags": []
   },
   "outputs": [],
   "source": [
    "mkdir all_six_datasets"
   ]
  },
  {
   "cell_type": "code",
   "execution_count": 4,
   "id": "0bad0579",
   "metadata": {
    "execution": {
     "iopub.execute_input": "2024-05-09T05:32:13.917566Z",
     "iopub.status.busy": "2024-05-09T05:32:13.917249Z",
     "iopub.status.idle": "2024-05-09T05:32:17.716557Z",
     "shell.execute_reply": "2024-05-09T05:32:17.715449Z"
    },
    "papermill": {
     "duration": 3.806977,
     "end_time": "2024-05-09T05:32:17.719005",
     "exception": false,
     "start_time": "2024-05-09T05:32:13.912028",
     "status": "completed"
    },
    "tags": []
   },
   "outputs": [],
   "source": [
    "!mv /kaggle/working/ETDataset/* /kaggle/working/ModernTCN/all_six_datasets\n",
    "!mv /kaggle/working/weather /kaggle/working/ModernTCN/all_six_datasets\n",
    "!mv /kaggle/working/exchange_rate /kaggle/working/ModernTCN/all_six_datasets\n",
    "!mv /kaggle/working/illness /kaggle/working/ModernTCN/all_six_datasets"
   ]
  },
  {
   "cell_type": "code",
   "execution_count": 5,
   "id": "8bcb42a3",
   "metadata": {
    "execution": {
     "iopub.execute_input": "2024-05-09T05:32:17.730511Z",
     "iopub.status.busy": "2024-05-09T05:32:17.730142Z",
     "iopub.status.idle": "2024-05-09T05:54:48.468605Z",
     "shell.execute_reply": "2024-05-09T05:54:48.467436Z"
    },
    "papermill": {
     "duration": 1350.752378,
     "end_time": "2024-05-09T05:54:48.477015",
     "exception": false,
     "start_time": "2024-05-09T05:32:17.724637",
     "status": "completed"
    },
    "tags": []
   },
   "outputs": [
    {
     "name": "stdout",
     "output_type": "stream",
     "text": [
      "CPU times: user 20.6 s, sys: 3.67 s, total: 24.2 s\n",
      "Wall time: 22min 30s\n"
     ]
    }
   ],
   "source": [
    "%%time\n",
    "!bash scripts/multivariate/ETTh1.sh>1.log"
   ]
  },
  {
   "cell_type": "code",
   "execution_count": 6,
   "id": "ffc19e3e",
   "metadata": {
    "execution": {
     "iopub.execute_input": "2024-05-09T05:54:48.486123Z",
     "iopub.status.busy": "2024-05-09T05:54:48.485804Z",
     "iopub.status.idle": "2024-05-09T06:15:04.736698Z",
     "shell.execute_reply": "2024-05-09T06:15:04.735400Z"
    },
    "papermill": {
     "duration": 1216.260837,
     "end_time": "2024-05-09T06:15:04.741670",
     "exception": false,
     "start_time": "2024-05-09T05:54:48.480833",
     "status": "completed"
    },
    "tags": []
   },
   "outputs": [
    {
     "name": "stdout",
     "output_type": "stream",
     "text": [
      "CPU times: user 16.4 s, sys: 2.98 s, total: 19.4 s\n",
      "Wall time: 20min 16s\n"
     ]
    }
   ],
   "source": [
    "%%time\n",
    "!bash scripts/multivariate/ETTh2.sh>2.log"
   ]
  },
  {
   "cell_type": "code",
   "execution_count": 7,
   "id": "b0042253",
   "metadata": {
    "execution": {
     "iopub.execute_input": "2024-05-09T06:15:04.751038Z",
     "iopub.status.busy": "2024-05-09T06:15:04.750738Z",
     "iopub.status.idle": "2024-05-09T06:21:52.479067Z",
     "shell.execute_reply": "2024-05-09T06:21:52.477889Z"
    },
    "papermill": {
     "duration": 407.739454,
     "end_time": "2024-05-09T06:21:52.485052",
     "exception": false,
     "start_time": "2024-05-09T06:15:04.745598",
     "status": "completed"
    },
    "tags": []
   },
   "outputs": [
    {
     "name": "stdout",
     "output_type": "stream",
     "text": [
      "CPU times: user 6.06 s, sys: 955 ms, total: 7.01 s\n",
      "Wall time: 6min 47s\n"
     ]
    }
   ],
   "source": [
    "%%time\n",
    "!bash scripts/multivariate/Exchange_rate.sh>5.log"
   ]
  },
  {
   "cell_type": "code",
   "execution_count": 8,
   "id": "2eab1bea",
   "metadata": {
    "execution": {
     "iopub.execute_input": "2024-05-09T06:21:52.495202Z",
     "iopub.status.busy": "2024-05-09T06:21:52.494878Z",
     "iopub.status.idle": "2024-05-09T06:23:10.866876Z",
     "shell.execute_reply": "2024-05-09T06:23:10.865781Z"
    },
    "papermill": {
     "duration": 78.382859,
     "end_time": "2024-05-09T06:23:10.872321",
     "exception": false,
     "start_time": "2024-05-09T06:21:52.489462",
     "status": "completed"
    },
    "tags": []
   },
   "outputs": [
    {
     "name": "stdout",
     "output_type": "stream",
     "text": [
      "CPU times: user 1.14 s, sys: 209 ms, total: 1.35 s\n",
      "Wall time: 1min 18s\n"
     ]
    }
   ],
   "source": [
    "%%time\n",
    "!bash scripts/multivariate/ILI.sh>7.log"
   ]
  }
 ],
 "metadata": {
  "kaggle": {
   "accelerator": "gpu",
   "dataSources": [],
   "dockerImageVersionId": 30698,
   "isGpuEnabled": true,
   "isInternetEnabled": true,
   "language": "python",
   "sourceType": "notebook"
  },
  "kernelspec": {
   "display_name": "Python 3",
   "language": "python",
   "name": "python3"
  },
  "language_info": {
   "codemirror_mode": {
    "name": "ipython",
    "version": 3
   },
   "file_extension": ".py",
   "mimetype": "text/x-python",
   "name": "python",
   "nbconvert_exporter": "python",
   "pygments_lexer": "ipython3",
   "version": "3.10.13"
  },
  "papermill": {
   "default_parameters": {},
   "duration": 3090.172344,
   "end_time": "2024-05-09T06:23:11.101098",
   "environment_variables": {},
   "exception": null,
   "input_path": "__notebook__.ipynb",
   "output_path": "__notebook__.ipynb",
   "parameters": {},
   "start_time": "2024-05-09T05:31:40.928754",
   "version": "2.5.0"
  }
 },
 "nbformat": 4,
 "nbformat_minor": 5
}
