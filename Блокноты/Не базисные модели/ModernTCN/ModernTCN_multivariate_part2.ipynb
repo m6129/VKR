{
 "cells": [
  {
   "cell_type": "code",
   "execution_count": 1,
   "id": "0c328e5f",
   "metadata": {
    "_cell_guid": "b1076dfc-b9ad-4769-8c92-a6c4dae69d19",
    "_uuid": "8f2839f25d086af736a60e9eeb907d3b93b6e0e5",
    "execution": {
     "iopub.execute_input": "2024-05-11T07:57:49.612149Z",
     "iopub.status.busy": "2024-05-11T07:57:49.611830Z",
     "iopub.status.idle": "2024-05-11T07:58:18.176852Z",
     "shell.execute_reply": "2024-05-11T07:58:18.175687Z"
    },
    "papermill": {
     "duration": 28.571388,
     "end_time": "2024-05-11T07:58:18.179301",
     "exception": false,
     "start_time": "2024-05-11T07:57:49.607913",
     "status": "completed"
    },
    "tags": []
   },
   "outputs": [
    {
     "name": "stdout",
     "output_type": "stream",
     "text": [
      "Cloning into 'ModernTCN'...\r\n",
      "remote: Enumerating objects: 181, done.\u001b[K\r\n",
      "remote: Counting objects: 100% (114/114), done.\u001b[K\r\n",
      "remote: Compressing objects: 100% (62/62), done.\u001b[K\r\n",
      "remote: Total 181 (delta 62), reused 98 (delta 51), pack-reused 67\u001b[K\r\n",
      "Receiving objects: 100% (181/181), 2.08 MiB | 33.26 MiB/s, done.\r\n",
      "Resolving deltas: 100% (80/80), done.\r\n",
      "Archive:  /kaggle/working/weather.zip\r\n",
      "   creating: weather/\r\n",
      "  inflating: weather/weather.csv     \r\n",
      "Archive:  /kaggle/working/exchange_rate.zip\r\n",
      "   creating: exchange_rate/\r\n",
      "  inflating: exchange_rate/.DS_Store  \r\n",
      "  inflating: exchange_rate/exchange_rate.csv  \r\n",
      "Archive:  /kaggle/working/illness.zip\r\n",
      "   creating: illness/\r\n",
      "  inflating: illness/national_illness.csv  \r\n"
     ]
    }
   ],
   "source": [
    "!git clone https://github.com/m6129/ModernTCN.git\n",
    "    # подгрузка наборов данных\n",
    "!git clone https://github.com/zhouhaoyi/ETDataset -q\n",
    "!pip install --upgrade gdown -q #https://github.com/wkentaro/gdown/issues/333\n",
    "!gdown --fuzzy https://drive.google.com/file/d/1nXdMIJ7K201Bx3IBGNiaNFQ6FzeDEzIr/view?usp=drive_link -q\n",
    "!gdown --fuzzy https://drive.google.com/file/d/1rN79CxW3Vldp-WDuSoG0bKq9tYQR79UK/view?usp=drive_link -q\n",
    "!gdown --fuzzy https://drive.google.com/file/d/1WMKg7KevVEEd9jrfLG8mcpOequZMbjlM/view?usp=drive_link -q\n",
    "!unzip /kaggle/working/weather.zip\n",
    "!unzip /kaggle/working/exchange_rate.zip\n",
    "!unzip /kaggle/working/illness.zip"
   ]
  },
  {
   "cell_type": "code",
   "execution_count": 2,
   "id": "57dc3c08",
   "metadata": {
    "execution": {
     "iopub.execute_input": "2024-05-11T07:58:18.188095Z",
     "iopub.status.busy": "2024-05-11T07:58:18.187350Z",
     "iopub.status.idle": "2024-05-11T07:58:18.193682Z",
     "shell.execute_reply": "2024-05-11T07:58:18.192840Z"
    },
    "papermill": {
     "duration": 0.012524,
     "end_time": "2024-05-11T07:58:18.195615",
     "exception": false,
     "start_time": "2024-05-11T07:58:18.183091",
     "status": "completed"
    },
    "tags": []
   },
   "outputs": [
    {
     "name": "stdout",
     "output_type": "stream",
     "text": [
      "/kaggle/working/ModernTCN\n"
     ]
    }
   ],
   "source": [
    "cd ModernTCN"
   ]
  },
  {
   "cell_type": "code",
   "execution_count": 3,
   "id": "5af77350",
   "metadata": {
    "execution": {
     "iopub.execute_input": "2024-05-11T07:58:18.203266Z",
     "iopub.status.busy": "2024-05-11T07:58:18.202995Z",
     "iopub.status.idle": "2024-05-11T07:58:19.140516Z",
     "shell.execute_reply": "2024-05-11T07:58:19.139291Z"
    },
    "papermill": {
     "duration": 0.943932,
     "end_time": "2024-05-11T07:58:19.142866",
     "exception": false,
     "start_time": "2024-05-11T07:58:18.198934",
     "status": "completed"
    },
    "tags": []
   },
   "outputs": [],
   "source": [
    "mkdir all_six_datasets"
   ]
  },
  {
   "cell_type": "code",
   "execution_count": 4,
   "id": "73c6d83c",
   "metadata": {
    "execution": {
     "iopub.execute_input": "2024-05-11T07:58:19.150985Z",
     "iopub.status.busy": "2024-05-11T07:58:19.150695Z",
     "iopub.status.idle": "2024-05-11T07:58:22.882807Z",
     "shell.execute_reply": "2024-05-11T07:58:22.881548Z"
    },
    "papermill": {
     "duration": 3.738786,
     "end_time": "2024-05-11T07:58:22.885162",
     "exception": false,
     "start_time": "2024-05-11T07:58:19.146376",
     "status": "completed"
    },
    "tags": []
   },
   "outputs": [],
   "source": [
    "!mv /kaggle/working/ETDataset/* /kaggle/working/ModernTCN/all_six_datasets\n",
    "!mv /kaggle/working/weather /kaggle/working/ModernTCN/all_six_datasets\n",
    "!mv /kaggle/working/exchange_rate /kaggle/working/ModernTCN/all_six_datasets\n",
    "!mv /kaggle/working/illness /kaggle/working/ModernTCN/all_six_datasets"
   ]
  },
  {
   "cell_type": "code",
   "execution_count": 5,
   "id": "9b5bd2c6",
   "metadata": {
    "execution": {
     "iopub.execute_input": "2024-05-11T07:58:22.894382Z",
     "iopub.status.busy": "2024-05-11T07:58:22.894016Z",
     "iopub.status.idle": "2024-05-11T12:57:16.313575Z",
     "shell.execute_reply": "2024-05-11T12:57:16.312323Z"
    },
    "papermill": {
     "duration": 17933.430132,
     "end_time": "2024-05-11T12:57:16.319269",
     "exception": false,
     "start_time": "2024-05-11T07:58:22.889137",
     "status": "completed"
    },
    "tags": []
   },
   "outputs": [
    {
     "name": "stdout",
     "output_type": "stream",
     "text": [
      "CPU times: user 3min 40s, sys: 48.5 s, total: 4min 29s\n",
      "Wall time: 4h 58min 53s\n"
     ]
    }
   ],
   "source": [
    "%%time\n",
    "!bash scripts/multivariate/ETTm1.sh>3.log"
   ]
  },
  {
   "cell_type": "code",
   "execution_count": 6,
   "id": "75971191",
   "metadata": {
    "execution": {
     "iopub.execute_input": "2024-05-11T12:57:16.328125Z",
     "iopub.status.busy": "2024-05-11T12:57:16.327333Z",
     "iopub.status.idle": "2024-05-11T17:17:32.302971Z",
     "shell.execute_reply": "2024-05-11T17:17:32.301763Z"
    },
    "papermill": {
     "duration": 15615.985362,
     "end_time": "2024-05-11T17:17:32.308009",
     "exception": false,
     "start_time": "2024-05-11T12:57:16.322647",
     "status": "completed"
    },
    "tags": []
   },
   "outputs": [
    {
     "name": "stdout",
     "output_type": "stream",
     "text": [
      "CPU times: user 3min 19s, sys: 43.4 s, total: 4min 2s\n",
      "Wall time: 4h 20min 15s\n"
     ]
    }
   ],
   "source": [
    "%%time\n",
    "!bash scripts/multivariate/ETTm2.sh>4.log"
   ]
  }
 ],
 "metadata": {
  "kaggle": {
   "accelerator": "gpu",
   "dataSources": [],
   "dockerImageVersionId": 30699,
   "isGpuEnabled": true,
   "isInternetEnabled": true,
   "language": "python",
   "sourceType": "notebook"
  },
  "kernelspec": {
   "display_name": "Python 3",
   "language": "python",
   "name": "python3"
  },
  "language_info": {
   "codemirror_mode": {
    "name": "ipython",
    "version": 3
   },
   "file_extension": ".py",
   "mimetype": "text/x-python",
   "name": "python",
   "nbconvert_exporter": "python",
   "pygments_lexer": "ipython3",
   "version": "3.10.13"
  },
  "papermill": {
   "default_parameters": {},
   "duration": 33585.766726,
   "end_time": "2024-05-11T17:17:32.696539",
   "environment_variables": {},
   "exception": null,
   "input_path": "__notebook__.ipynb",
   "output_path": "__notebook__.ipynb",
   "parameters": {},
   "start_time": "2024-05-11T07:57:46.929813",
   "version": "2.5.0"
  }
 },
 "nbformat": 4,
 "nbformat_minor": 5
}
