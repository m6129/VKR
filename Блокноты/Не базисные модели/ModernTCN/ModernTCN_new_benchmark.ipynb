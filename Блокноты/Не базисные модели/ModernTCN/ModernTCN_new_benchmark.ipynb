{
 "cells": [
  {
   "cell_type": "code",
   "execution_count": 1,
   "id": "7226d7c6",
   "metadata": {
    "_cell_guid": "b1076dfc-b9ad-4769-8c92-a6c4dae69d19",
    "_uuid": "8f2839f25d086af736a60e9eeb907d3b93b6e0e5",
    "execution": {
     "iopub.execute_input": "2024-05-11T06:45:52.798060Z",
     "iopub.status.busy": "2024-05-11T06:45:52.797097Z",
     "iopub.status.idle": "2024-05-11T06:46:12.423808Z",
     "shell.execute_reply": "2024-05-11T06:46:12.422698Z"
    },
    "papermill": {
     "duration": 19.634355,
     "end_time": "2024-05-11T06:46:12.426200",
     "exception": false,
     "start_time": "2024-05-11T06:45:52.791845",
     "status": "completed"
    },
    "tags": []
   },
   "outputs": [
    {
     "name": "stdout",
     "output_type": "stream",
     "text": [
      "Cloning into 'ModernTCN'...\r\n",
      "remote: Enumerating objects: 181, done.\u001b[K\r\n",
      "remote: Counting objects: 100% (114/114), done.\u001b[K\r\n",
      "remote: Compressing objects: 100% (62/62), done.\u001b[K\r\n",
      "remote: Total 181 (delta 62), reused 98 (delta 51), pack-reused 67\u001b[K\r\n",
      "Receiving objects: 100% (181/181), 2.08 MiB | 20.67 MiB/s, done.\r\n",
      "Resolving deltas: 100% (80/80), done.\r\n"
     ]
    }
   ],
   "source": [
    "!git clone https://github.com/m6129/ModernTCN.git\n",
    "    # подгрузка наборов данных\n",
    "!pip install --upgrade gdown -q #https://github.com/wkentaro/gdown/issues/333\n",
    "!gdown --fuzzy https://drive.google.com/file/d/1-Jy7C9Dh9QJF_yWKf2hQKUia56aQXBJ0/view?usp=drive_link -q\n",
    "!gdown --fuzzy https://drive.google.com/file/d/1lPZhTcJVirbwhN6EpppcmpZzbDcBn4rx/view?usp=drive_link -q"
   ]
  },
  {
   "cell_type": "code",
   "execution_count": 2,
   "id": "0f7dcaaa",
   "metadata": {
    "execution": {
     "iopub.execute_input": "2024-05-11T06:46:12.434925Z",
     "iopub.status.busy": "2024-05-11T06:46:12.434618Z",
     "iopub.status.idle": "2024-05-11T06:46:12.440633Z",
     "shell.execute_reply": "2024-05-11T06:46:12.439776Z"
    },
    "papermill": {
     "duration": 0.012664,
     "end_time": "2024-05-11T06:46:12.442690",
     "exception": false,
     "start_time": "2024-05-11T06:46:12.430026",
     "status": "completed"
    },
    "tags": []
   },
   "outputs": [
    {
     "name": "stdout",
     "output_type": "stream",
     "text": [
      "/kaggle/working/ModernTCN\n"
     ]
    }
   ],
   "source": [
    "cd ModernTCN"
   ]
  },
  {
   "cell_type": "code",
   "execution_count": 3,
   "id": "ced6109a",
   "metadata": {
    "execution": {
     "iopub.execute_input": "2024-05-11T06:46:12.450780Z",
     "iopub.status.busy": "2024-05-11T06:46:12.450525Z",
     "iopub.status.idle": "2024-05-11T06:46:13.413578Z",
     "shell.execute_reply": "2024-05-11T06:46:13.412435Z"
    },
    "papermill": {
     "duration": 0.969954,
     "end_time": "2024-05-11T06:46:13.416224",
     "exception": false,
     "start_time": "2024-05-11T06:46:12.446270",
     "status": "completed"
    },
    "tags": []
   },
   "outputs": [],
   "source": [
    "mkdir all_six_datasets"
   ]
  },
  {
   "cell_type": "code",
   "execution_count": 4,
   "id": "074ffe1e",
   "metadata": {
    "execution": {
     "iopub.execute_input": "2024-05-11T06:46:13.426330Z",
     "iopub.status.busy": "2024-05-11T06:46:13.426003Z",
     "iopub.status.idle": "2024-05-11T06:46:15.334821Z",
     "shell.execute_reply": "2024-05-11T06:46:15.333575Z"
    },
    "papermill": {
     "duration": 1.916814,
     "end_time": "2024-05-11T06:46:15.337419",
     "exception": false,
     "start_time": "2024-05-11T06:46:13.420605",
     "status": "completed"
    },
    "tags": []
   },
   "outputs": [],
   "source": [
    "# новый набор данных\n",
    "!mv /kaggle/working/de_small.csv /kaggle/working/ModernTCN/all_six_datasets\n",
    "!mv /kaggle/working/de_big.csv /kaggle/working/ModernTCN/all_six_datasets"
   ]
  },
  {
   "cell_type": "code",
   "execution_count": 5,
   "id": "6888a288",
   "metadata": {
    "execution": {
     "iopub.execute_input": "2024-05-11T06:46:15.346642Z",
     "iopub.status.busy": "2024-05-11T06:46:15.345916Z",
     "iopub.status.idle": "2024-05-11T06:47:21.772386Z",
     "shell.execute_reply": "2024-05-11T06:47:21.771149Z"
    },
    "papermill": {
     "duration": 66.436992,
     "end_time": "2024-05-11T06:47:21.778173",
     "exception": false,
     "start_time": "2024-05-11T06:46:15.341181",
     "status": "completed"
    },
    "tags": []
   },
   "outputs": [
    {
     "name": "stdout",
     "output_type": "stream",
     "text": [
      "CPU times: user 984 ms, sys: 181 ms, total: 1.17 s\n",
      "Wall time: 1min 6s\n"
     ]
    }
   ],
   "source": [
    "%%time\n",
    "!bash scripts/univariate/de_small.sh>8.log"
   ]
  },
  {
   "cell_type": "code",
   "execution_count": 6,
   "id": "14218597",
   "metadata": {
    "execution": {
     "iopub.execute_input": "2024-05-11T06:47:21.786829Z",
     "iopub.status.busy": "2024-05-11T06:47:21.786518Z",
     "iopub.status.idle": "2024-05-11T06:57:17.987899Z",
     "shell.execute_reply": "2024-05-11T06:57:17.986666Z"
    },
    "papermill": {
     "duration": 596.212179,
     "end_time": "2024-05-11T06:57:17.994039",
     "exception": false,
     "start_time": "2024-05-11T06:47:21.781860",
     "status": "completed"
    },
    "tags": []
   },
   "outputs": [
    {
     "name": "stdout",
     "output_type": "stream",
     "text": [
      "CPU times: user 9.67 s, sys: 1.26 s, total: 10.9 s\n",
      "Wall time: 9min 56s\n"
     ]
    }
   ],
   "source": [
    "%%time\n",
    "!bash scripts/univariate/de_big.sh>9.log"
   ]
  },
  {
   "cell_type": "code",
   "execution_count": 7,
   "id": "ee19661a",
   "metadata": {
    "execution": {
     "iopub.execute_input": "2024-05-11T06:57:18.003671Z",
     "iopub.status.busy": "2024-05-11T06:57:18.002947Z",
     "iopub.status.idle": "2024-05-11T06:58:23.922840Z",
     "shell.execute_reply": "2024-05-11T06:58:23.921769Z"
    },
    "papermill": {
     "duration": 65.930192,
     "end_time": "2024-05-11T06:58:23.928087",
     "exception": false,
     "start_time": "2024-05-11T06:57:17.997895",
     "status": "completed"
    },
    "tags": []
   },
   "outputs": [
    {
     "name": "stdout",
     "output_type": "stream",
     "text": [
      "CPU times: user 981 ms, sys: 175 ms, total: 1.16 s\n",
      "Wall time: 1min 5s\n"
     ]
    }
   ],
   "source": [
    "%%time\n",
    "!bash scripts/multivariate/de_small.sh>10.log"
   ]
  },
  {
   "cell_type": "code",
   "execution_count": 8,
   "id": "8e2af5f0",
   "metadata": {
    "execution": {
     "iopub.execute_input": "2024-05-11T06:58:23.937925Z",
     "iopub.status.busy": "2024-05-11T06:58:23.937131Z",
     "iopub.status.idle": "2024-05-11T07:27:54.311971Z",
     "shell.execute_reply": "2024-05-11T07:27:54.310827Z"
    },
    "papermill": {
     "duration": 1770.385723,
     "end_time": "2024-05-11T07:27:54.317691",
     "exception": false,
     "start_time": "2024-05-11T06:58:23.931968",
     "status": "completed"
    },
    "tags": []
   },
   "outputs": [
    {
     "name": "stdout",
     "output_type": "stream",
     "text": [
      "CPU times: user 25 s, sys: 4.39 s, total: 29.4 s\n",
      "Wall time: 29min 30s\n"
     ]
    }
   ],
   "source": [
    "%%time\n",
    "!bash scripts/multivariate/de_big.sh>11.log"
   ]
  }
 ],
 "metadata": {
  "kaggle": {
   "accelerator": "gpu",
   "dataSources": [],
   "dockerImageVersionId": 30699,
   "isGpuEnabled": true,
   "isInternetEnabled": true,
   "language": "python",
   "sourceType": "notebook"
  },
  "kernelspec": {
   "display_name": "Python 3",
   "language": "python",
   "name": "python3"
  },
  "language_info": {
   "codemirror_mode": {
    "name": "ipython",
    "version": 3
   },
   "file_extension": ".py",
   "mimetype": "text/x-python",
   "name": "python",
   "nbconvert_exporter": "python",
   "pygments_lexer": "ipython3",
   "version": "3.10.13"
  },
  "papermill": {
   "default_parameters": {},
   "duration": 2524.590223,
   "end_time": "2024-05-11T07:27:54.645451",
   "environment_variables": {},
   "exception": null,
   "input_path": "__notebook__.ipynb",
   "output_path": "__notebook__.ipynb",
   "parameters": {},
   "start_time": "2024-05-11T06:45:50.055228",
   "version": "2.5.0"
  }
 },
 "nbformat": 4,
 "nbformat_minor": 5
}
