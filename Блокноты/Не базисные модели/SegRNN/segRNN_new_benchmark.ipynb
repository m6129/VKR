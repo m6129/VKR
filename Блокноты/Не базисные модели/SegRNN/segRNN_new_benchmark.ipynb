{
 "cells": [
  {
   "cell_type": "code",
   "execution_count": 1,
   "id": "61e9ef08",
   "metadata": {
    "_cell_guid": "b1076dfc-b9ad-4769-8c92-a6c4dae69d19",
    "_uuid": "8f2839f25d086af736a60e9eeb907d3b93b6e0e5",
    "execution": {
     "iopub.execute_input": "2024-05-11T06:15:24.010097Z",
     "iopub.status.busy": "2024-05-11T06:15:24.009210Z",
     "iopub.status.idle": "2024-05-11T06:15:45.809532Z",
     "shell.execute_reply": "2024-05-11T06:15:45.808335Z"
    },
    "papermill": {
     "duration": 21.807863,
     "end_time": "2024-05-11T06:15:45.812207",
     "exception": false,
     "start_time": "2024-05-11T06:15:24.004344",
     "status": "completed"
    },
    "tags": []
   },
   "outputs": [
    {
     "name": "stdout",
     "output_type": "stream",
     "text": [
      "Cloning into 'SegRNN'...\r\n",
      "remote: Enumerating objects: 392, done.\u001b[K\r\n",
      "remote: Counting objects: 100% (77/77), done.\u001b[K\r\n",
      "remote: Compressing objects: 100% (18/18), done.\u001b[K\r\n",
      "remote: Total 392 (delta 66), reused 62 (delta 58), pack-reused 315\u001b[K\r\n",
      "Receiving objects: 100% (392/392), 612.04 KiB | 1.30 MiB/s, done.\r\n",
      "Resolving deltas: 100% (212/212), done.\r\n"
     ]
    }
   ],
   "source": [
    "!git clone https://github.com/m6129/SegRNN.git\n",
    "# подгрузка данных \n",
    "!pip install --upgrade gdown -q #https://github.com/wkentaro/gdown/issues/333\n",
    "!gdown --fuzzy https://drive.google.com/file/d/1-Jy7C9Dh9QJF_yWKf2hQKUia56aQXBJ0/view?usp=drive_link -q\n",
    "!gdown --fuzzy https://drive.google.com/file/d/1lPZhTcJVirbwhN6EpppcmpZzbDcBn4rx/view?usp=drive_link -q"
   ]
  },
  {
   "cell_type": "code",
   "execution_count": 2,
   "id": "79d590fd",
   "metadata": {
    "execution": {
     "iopub.execute_input": "2024-05-11T06:15:45.821897Z",
     "iopub.status.busy": "2024-05-11T06:15:45.821592Z",
     "iopub.status.idle": "2024-05-11T06:15:45.827949Z",
     "shell.execute_reply": "2024-05-11T06:15:45.827010Z"
    },
    "papermill": {
     "duration": 0.013532,
     "end_time": "2024-05-11T06:15:45.830171",
     "exception": false,
     "start_time": "2024-05-11T06:15:45.816639",
     "status": "completed"
    },
    "tags": []
   },
   "outputs": [
    {
     "name": "stdout",
     "output_type": "stream",
     "text": [
      "/kaggle/working/SegRNN\n"
     ]
    }
   ],
   "source": [
    "cd SegRNN"
   ]
  },
  {
   "cell_type": "code",
   "execution_count": 3,
   "id": "8305ee39",
   "metadata": {
    "execution": {
     "iopub.execute_input": "2024-05-11T06:15:45.840375Z",
     "iopub.status.busy": "2024-05-11T06:15:45.840059Z",
     "iopub.status.idle": "2024-05-11T06:15:46.852687Z",
     "shell.execute_reply": "2024-05-11T06:15:46.851465Z"
    },
    "papermill": {
     "duration": 1.020249,
     "end_time": "2024-05-11T06:15:46.855082",
     "exception": false,
     "start_time": "2024-05-11T06:15:45.834833",
     "status": "completed"
    },
    "tags": []
   },
   "outputs": [],
   "source": [
    "mkdir dataset"
   ]
  },
  {
   "cell_type": "code",
   "execution_count": 4,
   "id": "0096de66",
   "metadata": {
    "execution": {
     "iopub.execute_input": "2024-05-11T06:15:46.864750Z",
     "iopub.status.busy": "2024-05-11T06:15:46.864360Z",
     "iopub.status.idle": "2024-05-11T06:15:48.752819Z",
     "shell.execute_reply": "2024-05-11T06:15:48.751598Z"
    },
    "papermill": {
     "duration": 1.895896,
     "end_time": "2024-05-11T06:15:48.755060",
     "exception": false,
     "start_time": "2024-05-11T06:15:46.859164",
     "status": "completed"
    },
    "tags": []
   },
   "outputs": [],
   "source": [
    "# новый набор данных\n",
    "!mv /kaggle/working/de_small.csv /kaggle/working/SegRNN/dataset\n",
    "!mv /kaggle/working/de_big.csv /kaggle/working/SegRNN/dataset"
   ]
  },
  {
   "cell_type": "code",
   "execution_count": 5,
   "id": "64bfcbe3",
   "metadata": {
    "execution": {
     "iopub.execute_input": "2024-05-11T06:15:48.763977Z",
     "iopub.status.busy": "2024-05-11T06:15:48.763693Z",
     "iopub.status.idle": "2024-05-11T06:17:34.736093Z",
     "shell.execute_reply": "2024-05-11T06:17:34.734822Z"
    },
    "papermill": {
     "duration": 105.982718,
     "end_time": "2024-05-11T06:17:34.741679",
     "exception": false,
     "start_time": "2024-05-11T06:15:48.758961",
     "status": "completed"
    },
    "tags": []
   },
   "outputs": [
    {
     "name": "stdout",
     "output_type": "stream",
     "text": [
      "CPU times: user 1.65 s, sys: 247 ms, total: 1.9 s\n",
      "Wall time: 1min 45s\n"
     ]
    }
   ],
   "source": [
    "%%time\n",
    "!bash scripts/SegRNN/univariate/de_small.sh"
   ]
  },
  {
   "cell_type": "code",
   "execution_count": 6,
   "id": "fbe8fa45",
   "metadata": {
    "execution": {
     "iopub.execute_input": "2024-05-11T06:17:34.751873Z",
     "iopub.status.busy": "2024-05-11T06:17:34.750993Z",
     "iopub.status.idle": "2024-05-11T06:23:21.048457Z",
     "shell.execute_reply": "2024-05-11T06:23:21.047338Z"
    },
    "papermill": {
     "duration": 346.308754,
     "end_time": "2024-05-11T06:23:21.054565",
     "exception": false,
     "start_time": "2024-05-11T06:17:34.745811",
     "status": "completed"
    },
    "tags": []
   },
   "outputs": [
    {
     "name": "stdout",
     "output_type": "stream",
     "text": [
      "CPU times: user 5.37 s, sys: 779 ms, total: 6.15 s\n",
      "Wall time: 5min 46s\n"
     ]
    }
   ],
   "source": [
    "%%time\n",
    "!bash scripts/SegRNN/univariate/de_big.sh"
   ]
  },
  {
   "cell_type": "code",
   "execution_count": 7,
   "id": "b0c2e9e8",
   "metadata": {
    "execution": {
     "iopub.execute_input": "2024-05-11T06:23:21.065357Z",
     "iopub.status.busy": "2024-05-11T06:23:21.064986Z",
     "iopub.status.idle": "2024-05-11T06:25:46.056534Z",
     "shell.execute_reply": "2024-05-11T06:25:46.055285Z"
    },
    "papermill": {
     "duration": 145.003986,
     "end_time": "2024-05-11T06:25:46.062402",
     "exception": false,
     "start_time": "2024-05-11T06:23:21.058416",
     "status": "completed"
    },
    "tags": []
   },
   "outputs": [
    {
     "name": "stdout",
     "output_type": "stream",
     "text": [
      "CPU times: user 2.16 s, sys: 333 ms, total: 2.5 s\n",
      "Wall time: 2min 24s\n"
     ]
    }
   ],
   "source": [
    "%%time\n",
    "!bash scripts/SegRNN/multivariate/de_small.sh"
   ]
  },
  {
   "cell_type": "code",
   "execution_count": 8,
   "id": "078f96e8",
   "metadata": {
    "execution": {
     "iopub.execute_input": "2024-05-11T06:25:46.072549Z",
     "iopub.status.busy": "2024-05-11T06:25:46.072222Z",
     "iopub.status.idle": "2024-05-11T06:40:10.195046Z",
     "shell.execute_reply": "2024-05-11T06:40:10.193821Z"
    },
    "papermill": {
     "duration": 864.134957,
     "end_time": "2024-05-11T06:40:10.201729",
     "exception": false,
     "start_time": "2024-05-11T06:25:46.066772",
     "status": "completed"
    },
    "tags": []
   },
   "outputs": [
    {
     "name": "stdout",
     "output_type": "stream",
     "text": [
      "CPU times: user 12.2 s, sys: 2.22 s, total: 14.4 s\n",
      "Wall time: 14min 24s\n"
     ]
    }
   ],
   "source": [
    "%%time\n",
    "!bash scripts/SegRNN/multivariate/de_big.sh"
   ]
  }
 ],
 "metadata": {
  "kaggle": {
   "accelerator": "gpu",
   "dataSources": [],
   "dockerImageVersionId": 30683,
   "isGpuEnabled": true,
   "isInternetEnabled": true,
   "language": "python",
   "sourceType": "notebook"
  },
  "kernelspec": {
   "display_name": "Python 3",
   "language": "python",
   "name": "python3"
  },
  "language_info": {
   "codemirror_mode": {
    "name": "ipython",
    "version": 3
   },
   "file_extension": ".py",
   "mimetype": "text/x-python",
   "name": "python",
   "nbconvert_exporter": "python",
   "pygments_lexer": "ipython3",
   "version": "3.10.13"
  },
  "papermill": {
   "default_parameters": {},
   "duration": 1489.288535,
   "end_time": "2024-05-11T06:40:10.528669",
   "environment_variables": {},
   "exception": null,
   "input_path": "__notebook__.ipynb",
   "output_path": "__notebook__.ipynb",
   "parameters": {},
   "start_time": "2024-05-11T06:15:21.240134",
   "version": "2.5.0"
  }
 },
 "nbformat": 4,
 "nbformat_minor": 5
}
