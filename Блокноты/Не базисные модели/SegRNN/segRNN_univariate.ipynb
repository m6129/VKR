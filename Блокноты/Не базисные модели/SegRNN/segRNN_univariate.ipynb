{
 "cells": [
  {
   "cell_type": "code",
   "execution_count": 1,
   "id": "c201eea2",
   "metadata": {
    "_cell_guid": "b1076dfc-b9ad-4769-8c92-a6c4dae69d19",
    "_uuid": "8f2839f25d086af736a60e9eeb907d3b93b6e0e5",
    "execution": {
     "iopub.execute_input": "2024-05-04T14:13:51.686739Z",
     "iopub.status.busy": "2024-05-04T14:13:51.685992Z",
     "iopub.status.idle": "2024-05-04T14:14:19.442142Z",
     "shell.execute_reply": "2024-05-04T14:14:19.441166Z"
    },
    "papermill": {
     "duration": 27.76406,
     "end_time": "2024-05-04T14:14:19.444549",
     "exception": false,
     "start_time": "2024-05-04T14:13:51.680489",
     "status": "completed"
    },
    "tags": []
   },
   "outputs": [
    {
     "name": "stdout",
     "output_type": "stream",
     "text": [
      "Cloning into 'SegRNN'...\r\n",
      "remote: Enumerating objects: 382, done.\u001b[K\r\n",
      "remote: Counting objects: 100% (382/382), done.\u001b[K\r\n",
      "remote: Compressing objects: 100% (234/234), done.\u001b[K\r\n",
      "remote: Total 382 (delta 202), reused 278 (delta 125), pack-reused 0\u001b[K\r\n",
      "Receiving objects: 100% (382/382), 617.23 KiB | 19.29 MiB/s, done.\r\n",
      "Resolving deltas: 100% (202/202), done.\r\n",
      "Archive:  /kaggle/working/weather.zip\r\n",
      "   creating: weather/\r\n",
      "  inflating: weather/weather.csv     \r\n",
      "Archive:  /kaggle/working/exchange_rate.zip\r\n",
      "   creating: exchange_rate/\r\n",
      "  inflating: exchange_rate/.DS_Store  \r\n",
      "  inflating: exchange_rate/exchange_rate.csv  \r\n",
      "Archive:  /kaggle/working/illness.zip\r\n",
      "   creating: illness/\r\n",
      "  inflating: illness/national_illness.csv  \r\n"
     ]
    }
   ],
   "source": [
    "!git clone https://github.com/m6129/SegRNN.git\n",
    "# подгрузка данных \n",
    "!git clone https://github.com/zhouhaoyi/ETDataset -q\n",
    "!pip install --upgrade gdown -q #https://github.com/wkentaro/gdown/issues/333\n",
    "!gdown --fuzzy https://drive.google.com/file/d/1nXdMIJ7K201Bx3IBGNiaNFQ6FzeDEzIr/view?usp=drive_link -q\n",
    "!gdown --fuzzy https://drive.google.com/file/d/1rN79CxW3Vldp-WDuSoG0bKq9tYQR79UK/view?usp=drive_link -q\n",
    "!gdown --fuzzy https://drive.google.com/file/d/1WMKg7KevVEEd9jrfLG8mcpOequZMbjlM/view?usp=drive_link -q\n",
    "!unzip /kaggle/working/weather.zip\n",
    "!unzip /kaggle/working/exchange_rate.zip\n",
    "!unzip /kaggle/working/illness.zip"
   ]
  },
  {
   "cell_type": "code",
   "execution_count": 2,
   "id": "a0c4f676",
   "metadata": {
    "execution": {
     "iopub.execute_input": "2024-05-04T14:14:19.455011Z",
     "iopub.status.busy": "2024-05-04T14:14:19.454726Z",
     "iopub.status.idle": "2024-05-04T14:14:19.461077Z",
     "shell.execute_reply": "2024-05-04T14:14:19.460140Z"
    },
    "papermill": {
     "duration": 0.013734,
     "end_time": "2024-05-04T14:14:19.462975",
     "exception": false,
     "start_time": "2024-05-04T14:14:19.449241",
     "status": "completed"
    },
    "tags": []
   },
   "outputs": [
    {
     "name": "stdout",
     "output_type": "stream",
     "text": [
      "/kaggle/working/SegRNN\n"
     ]
    }
   ],
   "source": [
    "cd SegRNN"
   ]
  },
  {
   "cell_type": "code",
   "execution_count": 3,
   "id": "3cc552f3",
   "metadata": {
    "execution": {
     "iopub.execute_input": "2024-05-04T14:14:19.473087Z",
     "iopub.status.busy": "2024-05-04T14:14:19.472448Z",
     "iopub.status.idle": "2024-05-04T14:14:20.406885Z",
     "shell.execute_reply": "2024-05-04T14:14:20.405600Z"
    },
    "papermill": {
     "duration": 0.942213,
     "end_time": "2024-05-04T14:14:20.409512",
     "exception": false,
     "start_time": "2024-05-04T14:14:19.467299",
     "status": "completed"
    },
    "tags": []
   },
   "outputs": [],
   "source": [
    "mkdir dataset"
   ]
  },
  {
   "cell_type": "code",
   "execution_count": 4,
   "id": "7fa68f11",
   "metadata": {
    "execution": {
     "iopub.execute_input": "2024-05-04T14:14:20.420278Z",
     "iopub.status.busy": "2024-05-04T14:14:20.419953Z",
     "iopub.status.idle": "2024-05-04T14:14:24.188285Z",
     "shell.execute_reply": "2024-05-04T14:14:24.187062Z"
    },
    "papermill": {
     "duration": 3.77621,
     "end_time": "2024-05-04T14:14:24.190566",
     "exception": false,
     "start_time": "2024-05-04T14:14:20.414356",
     "status": "completed"
    },
    "tags": []
   },
   "outputs": [],
   "source": [
    "!mv /kaggle/working/ETDataset/ETT-small/* /kaggle/working/SegRNN/dataset\n",
    "!mv /kaggle/working/weather/* /kaggle/working/SegRNN/dataset\n",
    "!mv /kaggle/working/exchange_rate/* /kaggle/working/SegRNN/dataset\n",
    "!mv /kaggle/working/illness/* /kaggle/working/SegRNN/dataset"
   ]
  },
  {
   "cell_type": "code",
   "execution_count": 5,
   "id": "23675788",
   "metadata": {
    "execution": {
     "iopub.execute_input": "2024-05-04T14:14:24.201231Z",
     "iopub.status.busy": "2024-05-04T14:14:24.200937Z",
     "iopub.status.idle": "2024-05-04T14:16:51.000524Z",
     "shell.execute_reply": "2024-05-04T14:16:50.999208Z"
    },
    "papermill": {
     "duration": 146.811161,
     "end_time": "2024-05-04T14:16:51.006584",
     "exception": false,
     "start_time": "2024-05-04T14:14:24.195423",
     "status": "completed"
    },
    "tags": []
   },
   "outputs": [
    {
     "name": "stdout",
     "output_type": "stream",
     "text": [
      "CPU times: user 2.3 s, sys: 318 ms, total: 2.61 s\n",
      "Wall time: 2min 26s\n"
     ]
    }
   ],
   "source": [
    "%%time\n",
    "!bash scripts/SegRNN/univariate/etth1.sh"
   ]
  },
  {
   "cell_type": "code",
   "execution_count": 6,
   "id": "4bfbc327",
   "metadata": {
    "execution": {
     "iopub.execute_input": "2024-05-04T14:16:51.017501Z",
     "iopub.status.busy": "2024-05-04T14:16:51.016735Z",
     "iopub.status.idle": "2024-05-04T14:19:13.954922Z",
     "shell.execute_reply": "2024-05-04T14:19:13.953497Z"
    },
    "papermill": {
     "duration": 142.951221,
     "end_time": "2024-05-04T14:19:13.962353",
     "exception": false,
     "start_time": "2024-05-04T14:16:51.011132",
     "status": "completed"
    },
    "tags": []
   },
   "outputs": [
    {
     "name": "stdout",
     "output_type": "stream",
     "text": [
      "CPU times: user 2.27 s, sys: 320 ms, total: 2.59 s\n",
      "Wall time: 2min 22s\n"
     ]
    }
   ],
   "source": [
    "%%time\n",
    "!bash scripts/SegRNN/univariate/etth2.sh"
   ]
  },
  {
   "cell_type": "code",
   "execution_count": 7,
   "id": "dbdae73c",
   "metadata": {
    "execution": {
     "iopub.execute_input": "2024-05-04T14:19:13.975238Z",
     "iopub.status.busy": "2024-05-04T14:19:13.974874Z",
     "iopub.status.idle": "2024-05-04T14:26:15.883497Z",
     "shell.execute_reply": "2024-05-04T14:26:15.882305Z"
    },
    "papermill": {
     "duration": 421.921645,
     "end_time": "2024-05-04T14:26:15.889526",
     "exception": false,
     "start_time": "2024-05-04T14:19:13.967881",
     "status": "completed"
    },
    "tags": []
   },
   "outputs": [
    {
     "name": "stdout",
     "output_type": "stream",
     "text": [
      "CPU times: user 6.56 s, sys: 898 ms, total: 7.46 s\n",
      "Wall time: 7min 1s\n"
     ]
    }
   ],
   "source": [
    "%%time\n",
    "!bash scripts/SegRNN/univariate/ettm1.sh"
   ]
  },
  {
   "cell_type": "code",
   "execution_count": 8,
   "id": "369ba464",
   "metadata": {
    "execution": {
     "iopub.execute_input": "2024-05-04T14:26:15.900279Z",
     "iopub.status.busy": "2024-05-04T14:26:15.899955Z",
     "iopub.status.idle": "2024-05-04T14:32:10.333626Z",
     "shell.execute_reply": "2024-05-04T14:32:10.332330Z"
    },
    "papermill": {
     "duration": 354.446401,
     "end_time": "2024-05-04T14:32:10.340588",
     "exception": false,
     "start_time": "2024-05-04T14:26:15.894187",
     "status": "completed"
    },
    "tags": []
   },
   "outputs": [
    {
     "name": "stdout",
     "output_type": "stream",
     "text": [
      "CPU times: user 5.55 s, sys: 738 ms, total: 6.28 s\n",
      "Wall time: 5min 54s\n"
     ]
    }
   ],
   "source": [
    "%%time\n",
    "!bash scripts/SegRNN/univariate/ettm2.sh"
   ]
  },
  {
   "cell_type": "code",
   "execution_count": 9,
   "id": "d1a11a0c",
   "metadata": {
    "execution": {
     "iopub.execute_input": "2024-05-04T14:32:10.351900Z",
     "iopub.status.busy": "2024-05-04T14:32:10.351583Z",
     "iopub.status.idle": "2024-05-04T14:34:19.842050Z",
     "shell.execute_reply": "2024-05-04T14:34:19.840803Z"
    },
    "papermill": {
     "duration": 129.503397,
     "end_time": "2024-05-04T14:34:19.848983",
     "exception": false,
     "start_time": "2024-05-04T14:32:10.345586",
     "status": "completed"
    },
    "tags": []
   },
   "outputs": [
    {
     "name": "stdout",
     "output_type": "stream",
     "text": [
      "CPU times: user 1.96 s, sys: 325 ms, total: 2.29 s\n",
      "Wall time: 2min 9s\n"
     ]
    }
   ],
   "source": [
    "%%time\n",
    "!bash scripts/SegRNN/univariate/exchange_rate.sh"
   ]
  },
  {
   "cell_type": "code",
   "execution_count": 10,
   "id": "e8b832f0",
   "metadata": {
    "execution": {
     "iopub.execute_input": "2024-05-04T14:34:19.860663Z",
     "iopub.status.busy": "2024-05-04T14:34:19.860019Z",
     "iopub.status.idle": "2024-05-04T14:45:45.451079Z",
     "shell.execute_reply": "2024-05-04T14:45:45.449898Z"
    },
    "papermill": {
     "duration": 685.603576,
     "end_time": "2024-05-04T14:45:45.457479",
     "exception": false,
     "start_time": "2024-05-04T14:34:19.853903",
     "status": "completed"
    },
    "tags": []
   },
   "outputs": [
    {
     "name": "stdout",
     "output_type": "stream",
     "text": [
      "CPU times: user 10.6 s, sys: 1.5 s, total: 12 s\n",
      "Wall time: 11min 25s\n"
     ]
    }
   ],
   "source": [
    "%%time\n",
    "!bash scripts/SegRNN/univariate/weather.sh"
   ]
  },
  {
   "cell_type": "code",
   "execution_count": 11,
   "id": "9bbaee18",
   "metadata": {
    "execution": {
     "iopub.execute_input": "2024-05-04T14:45:45.469439Z",
     "iopub.status.busy": "2024-05-04T14:45:45.469097Z",
     "iopub.status.idle": "2024-05-04T14:48:16.902631Z",
     "shell.execute_reply": "2024-05-04T14:48:16.901330Z"
    },
    "papermill": {
     "duration": 151.446734,
     "end_time": "2024-05-04T14:48:16.909612",
     "exception": false,
     "start_time": "2024-05-04T14:45:45.462878",
     "status": "completed"
    },
    "tags": []
   },
   "outputs": [
    {
     "name": "stdout",
     "output_type": "stream",
     "text": [
      "CPU times: user 2.33 s, sys: 346 ms, total: 2.68 s\n",
      "Wall time: 2min 31s\n"
     ]
    }
   ],
   "source": [
    "%%time\n",
    "!bash scripts/SegRNN/univariate/illness.sh"
   ]
  }
 ],
 "metadata": {
  "kaggle": {
   "accelerator": "gpu",
   "dataSources": [],
   "dockerImageVersionId": 30684,
   "isGpuEnabled": true,
   "isInternetEnabled": true,
   "language": "python",
   "sourceType": "notebook"
  },
  "kernelspec": {
   "display_name": "Python 3",
   "language": "python",
   "name": "python3"
  },
  "language_info": {
   "codemirror_mode": {
    "name": "ipython",
    "version": 3
   },
   "file_extension": ".py",
   "mimetype": "text/x-python",
   "name": "python",
   "nbconvert_exporter": "python",
   "pygments_lexer": "ipython3",
   "version": "3.10.13"
  },
  "papermill": {
   "default_parameters": {},
   "duration": 2068.397694,
   "end_time": "2024-05-04T14:48:17.236769",
   "environment_variables": {},
   "exception": null,
   "input_path": "__notebook__.ipynb",
   "output_path": "__notebook__.ipynb",
   "parameters": {},
   "start_time": "2024-05-04T14:13:48.839075",
   "version": "2.5.0"
  }
 },
 "nbformat": 4,
 "nbformat_minor": 5
}
