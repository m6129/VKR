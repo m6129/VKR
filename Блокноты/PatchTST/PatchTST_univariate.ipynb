{
 "cells": [
  {
   "cell_type": "code",
   "execution_count": 1,
   "id": "5b4fe240",
   "metadata": {
    "_cell_guid": "b1076dfc-b9ad-4769-8c92-a6c4dae69d19",
    "_uuid": "8f2839f25d086af736a60e9eeb907d3b93b6e0e5",
    "execution": {
     "iopub.execute_input": "2024-04-21T05:12:21.086089Z",
     "iopub.status.busy": "2024-04-21T05:12:21.085735Z",
     "iopub.status.idle": "2024-04-21T05:12:55.491194Z",
     "shell.execute_reply": "2024-04-21T05:12:55.490031Z"
    },
    "papermill": {
     "duration": 34.412861,
     "end_time": "2024-04-21T05:12:55.493596",
     "exception": false,
     "start_time": "2024-04-21T05:12:21.080735",
     "status": "completed"
    },
    "tags": []
   },
   "outputs": [
    {
     "name": "stdout",
     "output_type": "stream",
     "text": [
      "Cloning into 'PatchTST'...\r\n",
      "remote: Enumerating objects: 562, done.\u001b[K\r\n",
      "remote: Counting objects: 100% (328/328), done.\u001b[K\r\n",
      "remote: Compressing objects: 100% (180/180), done.\u001b[K\r\n",
      "remote: Total 562 (delta 211), reused 205 (delta 148), pack-reused 234\u001b[K\r\n",
      "Receiving objects: 100% (562/562), 12.96 MiB | 20.32 MiB/s, done.\r\n",
      "Resolving deltas: 100% (301/301), done.\r\n",
      "Archive:  /kaggle/working/weather.zip\r\n",
      "   creating: weather/\r\n",
      "  inflating: weather/weather.csv     \r\n",
      "Archive:  /kaggle/working/exchange_rate.zip\r\n",
      "   creating: exchange_rate/\r\n",
      "  inflating: exchange_rate/.DS_Store  \r\n",
      "  inflating: exchange_rate/exchange_rate.csv  \r\n",
      "Archive:  /kaggle/working/illness.zip\r\n",
      "   creating: illness/\r\n",
      "  inflating: illness/national_illness.csv  \r\n"
     ]
    }
   ],
   "source": [
    "!git clone https://github.com/m6129/PatchTST.git\n",
    "!git clone https://github.com/zhouhaoyi/ETDataset -q\n",
    "!pip install --upgrade gdown -q #https://github.com/wkentaro/gdown/issues/333\n",
    "!gdown --fuzzy https://drive.google.com/file/d/1nXdMIJ7K201Bx3IBGNiaNFQ6FzeDEzIr/view?usp=drive_link -q\n",
    "!gdown --fuzzy https://drive.google.com/file/d/1rN79CxW3Vldp-WDuSoG0bKq9tYQR79UK/view?usp=drive_link -q\n",
    "!gdown --fuzzy https://drive.google.com/file/d/1WMKg7KevVEEd9jrfLG8mcpOequZMbjlM/view?usp=drive_link -q\n",
    "!unzip /kaggle/working/weather.zip\n",
    "!unzip /kaggle/working/exchange_rate.zip\n",
    "!unzip /kaggle/working/illness.zip"
   ]
  },
  {
   "cell_type": "code",
   "execution_count": 2,
   "id": "40221333",
   "metadata": {
    "execution": {
     "iopub.execute_input": "2024-04-21T05:12:55.504371Z",
     "iopub.status.busy": "2024-04-21T05:12:55.504075Z",
     "iopub.status.idle": "2024-04-21T05:12:55.510320Z",
     "shell.execute_reply": "2024-04-21T05:12:55.509474Z"
    },
    "papermill": {
     "duration": 0.013944,
     "end_time": "2024-04-21T05:12:55.512338",
     "exception": false,
     "start_time": "2024-04-21T05:12:55.498394",
     "status": "completed"
    },
    "tags": []
   },
   "outputs": [
    {
     "name": "stdout",
     "output_type": "stream",
     "text": [
      "/kaggle/working/PatchTST/PatchTST_supervised\n"
     ]
    }
   ],
   "source": [
    "cd /kaggle/working/PatchTST/PatchTST_supervised"
   ]
  },
  {
   "cell_type": "code",
   "execution_count": 3,
   "id": "43b64fbe",
   "metadata": {
    "execution": {
     "iopub.execute_input": "2024-04-21T05:12:55.522690Z",
     "iopub.status.busy": "2024-04-21T05:12:55.522402Z",
     "iopub.status.idle": "2024-04-21T05:12:56.466678Z",
     "shell.execute_reply": "2024-04-21T05:12:56.465529Z"
    },
    "papermill": {
     "duration": 0.951908,
     "end_time": "2024-04-21T05:12:56.469034",
     "exception": false,
     "start_time": "2024-04-21T05:12:55.517126",
     "status": "completed"
    },
    "tags": []
   },
   "outputs": [],
   "source": [
    "mkdir dataset"
   ]
  },
  {
   "cell_type": "code",
   "execution_count": 4,
   "id": "7411b781",
   "metadata": {
    "execution": {
     "iopub.execute_input": "2024-04-21T05:12:56.479987Z",
     "iopub.status.busy": "2024-04-21T05:12:56.479645Z",
     "iopub.status.idle": "2024-04-21T05:13:00.264237Z",
     "shell.execute_reply": "2024-04-21T05:13:00.262961Z"
    },
    "papermill": {
     "duration": 3.792826,
     "end_time": "2024-04-21T05:13:00.266666",
     "exception": false,
     "start_time": "2024-04-21T05:12:56.473840",
     "status": "completed"
    },
    "tags": []
   },
   "outputs": [],
   "source": [
    "!mv /kaggle/working/ETDataset/ETT-small/* /kaggle/working/PatchTST/PatchTST_supervised/dataset\n",
    "!mv /kaggle/working/weather/* /kaggle/working/PatchTST/PatchTST_supervised/dataset\n",
    "!mv /kaggle/working/exchange_rate/* /kaggle/working/PatchTST/PatchTST_supervised/dataset\n",
    "!mv /kaggle/working/illness/* /kaggle/working/PatchTST/PatchTST_supervised/dataset"
   ]
  },
  {
   "cell_type": "code",
   "execution_count": 5,
   "id": "a4a12d4c",
   "metadata": {
    "execution": {
     "iopub.execute_input": "2024-04-21T05:13:00.277964Z",
     "iopub.status.busy": "2024-04-21T05:13:00.277625Z",
     "iopub.status.idle": "2024-04-21T05:13:57.704018Z",
     "shell.execute_reply": "2024-04-21T05:13:57.702773Z"
    },
    "papermill": {
     "duration": 57.43506,
     "end_time": "2024-04-21T05:13:57.706633",
     "exception": false,
     "start_time": "2024-04-21T05:13:00.271573",
     "status": "completed"
    },
    "tags": []
   },
   "outputs": [
    {
     "name": "stdout",
     "output_type": "stream",
     "text": [
      "\u001b[31mERROR: pip's dependency resolver does not currently take into account all the packages that are installed. This behaviour is the source of the following dependency conflicts.\r\n",
      "pytorch-lightning 2.2.2 requires torch>=1.13.0, but you have torch 1.11.0 which is incompatible.\r\n",
      "stable-baselines3 2.1.0 requires torch>=1.13, but you have torch 1.11.0 which is incompatible.\r\n",
      "torchdata 0.7.1 requires torch>=2, but you have torch 1.11.0 which is incompatible.\u001b[0m\u001b[31m\r\n",
      "\u001b[0m"
     ]
    }
   ],
   "source": [
    "!pip install -r requirements.txt -q"
   ]
  },
  {
   "cell_type": "code",
   "execution_count": 6,
   "id": "70ac0615",
   "metadata": {
    "execution": {
     "iopub.execute_input": "2024-04-21T05:13:57.719628Z",
     "iopub.status.busy": "2024-04-21T05:13:57.719148Z",
     "iopub.status.idle": "2024-04-21T05:36:46.923870Z",
     "shell.execute_reply": "2024-04-21T05:36:46.922665Z"
    },
    "papermill": {
     "duration": 1369.218603,
     "end_time": "2024-04-21T05:36:46.930487",
     "exception": false,
     "start_time": "2024-04-21T05:13:57.711884",
     "status": "completed"
    },
    "tags": []
   },
   "outputs": [
    {
     "name": "stdout",
     "output_type": "stream",
     "text": [
      "CPU times: user 21.8 s, sys: 3.33 s, total: 25.1 s\n",
      "Wall time: 22min 49s\n"
     ]
    }
   ],
   "source": [
    "%%time\n",
    "!bash scripts/PatchTST/univariate/etth1.sh"
   ]
  },
  {
   "cell_type": "code",
   "execution_count": 7,
   "id": "339380c3",
   "metadata": {
    "execution": {
     "iopub.execute_input": "2024-04-21T05:36:46.941922Z",
     "iopub.status.busy": "2024-04-21T05:36:46.941580Z",
     "iopub.status.idle": "2024-04-21T06:01:13.510921Z",
     "shell.execute_reply": "2024-04-21T06:01:13.509577Z"
    },
    "papermill": {
     "duration": 1466.582579,
     "end_time": "2024-04-21T06:01:13.518015",
     "exception": false,
     "start_time": "2024-04-21T05:36:46.935436",
     "status": "completed"
    },
    "tags": []
   },
   "outputs": [
    {
     "name": "stdout",
     "output_type": "stream",
     "text": [
      "CPU times: user 23.7 s, sys: 3.6 s, total: 27.3 s\n",
      "Wall time: 24min 26s\n"
     ]
    }
   ],
   "source": [
    "%%time\n",
    "!bash scripts/PatchTST/univariate/etth2.sh"
   ]
  },
  {
   "cell_type": "code",
   "execution_count": 8,
   "id": "80f8b685",
   "metadata": {
    "execution": {
     "iopub.execute_input": "2024-04-21T06:01:13.529702Z",
     "iopub.status.busy": "2024-04-21T06:01:13.529381Z",
     "iopub.status.idle": "2024-04-21T06:22:00.135989Z",
     "shell.execute_reply": "2024-04-21T06:22:00.134781Z"
    },
    "papermill": {
     "duration": 1246.672634,
     "end_time": "2024-04-21T06:22:00.195750",
     "exception": false,
     "start_time": "2024-04-21T06:01:13.523116",
     "status": "completed"
    },
    "tags": []
   },
   "outputs": [
    {
     "name": "stdout",
     "output_type": "stream",
     "text": [
      "CPU times: user 19.6 s, sys: 2.99 s, total: 22.6 s\n",
      "Wall time: 20min 46s\n"
     ]
    }
   ],
   "source": [
    "%%time\n",
    "!bash scripts/PatchTST/univariate/ettm1.sh"
   ]
  },
  {
   "cell_type": "code",
   "execution_count": 9,
   "id": "1240d669",
   "metadata": {
    "execution": {
     "iopub.execute_input": "2024-04-21T06:22:00.208066Z",
     "iopub.status.busy": "2024-04-21T06:22:00.207654Z",
     "iopub.status.idle": "2024-04-21T06:44:44.229880Z",
     "shell.execute_reply": "2024-04-21T06:44:44.228681Z"
    },
    "papermill": {
     "duration": 1364.036583,
     "end_time": "2024-04-21T06:44:44.237590",
     "exception": false,
     "start_time": "2024-04-21T06:22:00.201007",
     "status": "completed"
    },
    "tags": []
   },
   "outputs": [
    {
     "name": "stdout",
     "output_type": "stream",
     "text": [
      "CPU times: user 21.1 s, sys: 3.32 s, total: 24.4 s\n",
      "Wall time: 22min 44s\n"
     ]
    }
   ],
   "source": [
    "%%time\n",
    "!bash scripts/PatchTST/univariate/ettm2.sh"
   ]
  },
  {
   "cell_type": "code",
   "execution_count": 10,
   "id": "b7c7a8be",
   "metadata": {
    "execution": {
     "iopub.execute_input": "2024-04-21T06:44:44.249903Z",
     "iopub.status.busy": "2024-04-21T06:44:44.249578Z",
     "iopub.status.idle": "2024-04-21T06:53:59.096232Z",
     "shell.execute_reply": "2024-04-21T06:53:59.095091Z"
    },
    "papermill": {
     "duration": 554.860387,
     "end_time": "2024-04-21T06:53:59.103449",
     "exception": false,
     "start_time": "2024-04-21T06:44:44.243062",
     "status": "completed"
    },
    "tags": []
   },
   "outputs": [
    {
     "name": "stdout",
     "output_type": "stream",
     "text": [
      "CPU times: user 8.58 s, sys: 1.39 s, total: 9.97 s\n",
      "Wall time: 9min 14s\n"
     ]
    }
   ],
   "source": [
    "%%time\n",
    "!bash scripts/PatchTST/univariate/exchange_rate.sh"
   ]
  },
  {
   "cell_type": "code",
   "execution_count": 11,
   "id": "cb8ae4ec",
   "metadata": {
    "execution": {
     "iopub.execute_input": "2024-04-21T06:53:59.116783Z",
     "iopub.status.busy": "2024-04-21T06:53:59.116174Z",
     "iopub.status.idle": "2024-04-21T07:21:21.578416Z",
     "shell.execute_reply": "2024-04-21T07:21:21.577256Z"
    },
    "papermill": {
     "duration": 1642.476349,
     "end_time": "2024-04-21T07:21:21.585631",
     "exception": false,
     "start_time": "2024-04-21T06:53:59.109282",
     "status": "completed"
    },
    "tags": []
   },
   "outputs": [
    {
     "name": "stdout",
     "output_type": "stream",
     "text": [
      "CPU times: user 23 s, sys: 3.84 s, total: 26.9 s\n",
      "Wall time: 27min 22s\n"
     ]
    }
   ],
   "source": [
    "%%time\n",
    "!bash scripts/PatchTST/univariate/weather.sh"
   ]
  },
  {
   "cell_type": "code",
   "execution_count": 12,
   "id": "85988deb",
   "metadata": {
    "execution": {
     "iopub.execute_input": "2024-04-21T07:21:21.598386Z",
     "iopub.status.busy": "2024-04-21T07:21:21.598066Z",
     "iopub.status.idle": "2024-04-21T07:31:39.343200Z",
     "shell.execute_reply": "2024-04-21T07:31:39.341996Z"
    },
    "papermill": {
     "duration": 617.760152,
     "end_time": "2024-04-21T07:31:39.351377",
     "exception": false,
     "start_time": "2024-04-21T07:21:21.591225",
     "status": "completed"
    },
    "tags": []
   },
   "outputs": [
    {
     "name": "stdout",
     "output_type": "stream",
     "text": [
      "CPU times: user 9.4 s, sys: 1.37 s, total: 10.8 s\n",
      "Wall time: 10min 17s\n"
     ]
    }
   ],
   "source": [
    "%%time\n",
    "!bash scripts/PatchTST/univariate/illness.sh"
   ]
  }
 ],
 "metadata": {
  "kaggle": {
   "accelerator": "gpu",
   "dataSources": [],
   "isGpuEnabled": true,
   "isInternetEnabled": true,
   "language": "python",
   "sourceType": "notebook"
  },
  "kernelspec": {
   "display_name": "Python 3",
   "language": "python",
   "name": "python3"
  },
  "language_info": {
   "codemirror_mode": {
    "name": "ipython",
    "version": 3
   },
   "file_extension": ".py",
   "mimetype": "text/x-python",
   "name": "python",
   "nbconvert_exporter": "python",
   "pygments_lexer": "ipython3",
   "version": "3.10.13"
  },
  "papermill": {
   "default_parameters": {},
   "duration": 8361.198391,
   "end_time": "2024-04-21T07:31:39.594328",
   "environment_variables": {},
   "exception": null,
   "input_path": "__notebook__.ipynb",
   "output_path": "__notebook__.ipynb",
   "parameters": {},
   "start_time": "2024-04-21T05:12:18.395937",
   "version": "2.5.0"
  }
 },
 "nbformat": 4,
 "nbformat_minor": 5
}
