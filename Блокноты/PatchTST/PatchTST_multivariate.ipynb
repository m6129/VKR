{
 "cells": [
  {
   "cell_type": "markdown",
   "id": "ed148545",
   "metadata": {
    "papermill": {
     "duration": 0.004032,
     "end_time": "2024-04-21T18:03:21.600602",
     "exception": false,
     "start_time": "2024-04-21T18:03:21.596570",
     "status": "completed"
    },
    "tags": []
   },
   "source": [
    "**Russian language**\n",
    "обучение модели, для каждого прогноза отдельно"
   ]
  },
  {
   "cell_type": "code",
   "execution_count": 1,
   "id": "2e353225",
   "metadata": {
    "execution": {
     "iopub.execute_input": "2024-04-21T18:03:21.610076Z",
     "iopub.status.busy": "2024-04-21T18:03:21.609247Z",
     "iopub.status.idle": "2024-04-21T18:03:48.248915Z",
     "shell.execute_reply": "2024-04-21T18:03:48.247861Z"
    },
    "papermill": {
     "duration": 26.646635,
     "end_time": "2024-04-21T18:03:48.251041",
     "exception": false,
     "start_time": "2024-04-21T18:03:21.604406",
     "status": "completed"
    },
    "tags": []
   },
   "outputs": [
    {
     "name": "stdout",
     "output_type": "stream",
     "text": [
      "Cloning into 'PatchTST'...\r\n",
      "remote: Enumerating objects: 683, done.\u001b[K\r\n",
      "remote: Counting objects: 100% (449/449), done.\u001b[K\r\n",
      "remote: Compressing objects: 100% (301/301), done.\u001b[K\r\n",
      "remote: Total 683 (delta 290), reused 205 (delta 148), pack-reused 234\u001b[K\r\n",
      "Receiving objects: 100% (683/683), 12.98 MiB | 41.03 MiB/s, done.\r\n",
      "Resolving deltas: 100% (380/380), done.\r\n",
      "Archive:  /kaggle/working/weather.zip\r\n",
      "   creating: weather/\r\n",
      "  inflating: weather/weather.csv     \r\n",
      "Archive:  /kaggle/working/exchange_rate.zip\r\n",
      "   creating: exchange_rate/\r\n",
      "  inflating: exchange_rate/.DS_Store  \r\n",
      "  inflating: exchange_rate/exchange_rate.csv  \r\n",
      "Archive:  /kaggle/working/illness.zip\r\n",
      "   creating: illness/\r\n",
      "  inflating: illness/national_illness.csv  \r\n"
     ]
    }
   ],
   "source": [
    "!git clone https://github.com/m6129/PatchTST.git\n",
    "!git clone https://github.com/zhouhaoyi/ETDataset -q\n",
    "!pip install --upgrade gdown -q #https://github.com/wkentaro/gdown/issues/333\n",
    "!gdown --fuzzy https://drive.google.com/file/d/1nXdMIJ7K201Bx3IBGNiaNFQ6FzeDEzIr/view?usp=drive_link -q\n",
    "!gdown --fuzzy https://drive.google.com/file/d/1rN79CxW3Vldp-WDuSoG0bKq9tYQR79UK/view?usp=drive_link -q\n",
    "!gdown --fuzzy https://drive.google.com/file/d/1WMKg7KevVEEd9jrfLG8mcpOequZMbjlM/view?usp=drive_link -q\n",
    "!unzip /kaggle/working/weather.zip\n",
    "!unzip /kaggle/working/exchange_rate.zip\n",
    "!unzip /kaggle/working/illness.zip"
   ]
  },
  {
   "cell_type": "code",
   "execution_count": 2,
   "id": "15033ef0",
   "metadata": {
    "execution": {
     "iopub.execute_input": "2024-04-21T18:03:48.262637Z",
     "iopub.status.busy": "2024-04-21T18:03:48.261997Z",
     "iopub.status.idle": "2024-04-21T18:03:48.268326Z",
     "shell.execute_reply": "2024-04-21T18:03:48.267331Z"
    },
    "papermill": {
     "duration": 0.01421,
     "end_time": "2024-04-21T18:03:48.270201",
     "exception": false,
     "start_time": "2024-04-21T18:03:48.255991",
     "status": "completed"
    },
    "tags": []
   },
   "outputs": [
    {
     "name": "stdout",
     "output_type": "stream",
     "text": [
      "/kaggle/working/PatchTST/PatchTST_supervised\n"
     ]
    }
   ],
   "source": [
    "cd /kaggle/working/PatchTST/PatchTST_supervised"
   ]
  },
  {
   "cell_type": "code",
   "execution_count": 3,
   "id": "eab3e030",
   "metadata": {
    "execution": {
     "iopub.execute_input": "2024-04-21T18:03:48.281482Z",
     "iopub.status.busy": "2024-04-21T18:03:48.281042Z",
     "iopub.status.idle": "2024-04-21T18:03:49.227515Z",
     "shell.execute_reply": "2024-04-21T18:03:49.226395Z"
    },
    "papermill": {
     "duration": 0.955026,
     "end_time": "2024-04-21T18:03:49.229939",
     "exception": false,
     "start_time": "2024-04-21T18:03:48.274913",
     "status": "completed"
    },
    "tags": []
   },
   "outputs": [],
   "source": [
    "mkdir dataset"
   ]
  },
  {
   "cell_type": "code",
   "execution_count": 4,
   "id": "eb14c90d",
   "metadata": {
    "execution": {
     "iopub.execute_input": "2024-04-21T18:03:49.241764Z",
     "iopub.status.busy": "2024-04-21T18:03:49.241017Z",
     "iopub.status.idle": "2024-04-21T18:03:52.974729Z",
     "shell.execute_reply": "2024-04-21T18:03:52.973439Z"
    },
    "papermill": {
     "duration": 3.742301,
     "end_time": "2024-04-21T18:03:52.977349",
     "exception": false,
     "start_time": "2024-04-21T18:03:49.235048",
     "status": "completed"
    },
    "tags": []
   },
   "outputs": [],
   "source": [
    "!mv /kaggle/working/ETDataset/ETT-small/* /kaggle/working/PatchTST/PatchTST_supervised/dataset\n",
    "!mv /kaggle/working/weather/* /kaggle/working/PatchTST/PatchTST_supervised/dataset\n",
    "!mv /kaggle/working/exchange_rate/* /kaggle/working/PatchTST/PatchTST_supervised/dataset\n",
    "!mv /kaggle/working/illness/* /kaggle/working/PatchTST/PatchTST_supervised/dataset"
   ]
  },
  {
   "cell_type": "code",
   "execution_count": 5,
   "id": "443719ef",
   "metadata": {
    "execution": {
     "iopub.execute_input": "2024-04-21T18:03:52.989132Z",
     "iopub.status.busy": "2024-04-21T18:03:52.988485Z",
     "iopub.status.idle": "2024-04-21T18:04:49.985982Z",
     "shell.execute_reply": "2024-04-21T18:04:49.984677Z"
    },
    "papermill": {
     "duration": 57.006941,
     "end_time": "2024-04-21T18:04:49.989500",
     "exception": false,
     "start_time": "2024-04-21T18:03:52.982559",
     "status": "completed"
    },
    "tags": []
   },
   "outputs": [
    {
     "name": "stdout",
     "output_type": "stream",
     "text": [
      "\u001b[31mERROR: pip's dependency resolver does not currently take into account all the packages that are installed. This behaviour is the source of the following dependency conflicts.\r\n",
      "pytorch-lightning 2.2.2 requires torch>=1.13.0, but you have torch 1.11.0 which is incompatible.\r\n",
      "stable-baselines3 2.1.0 requires torch>=1.13, but you have torch 1.11.0 which is incompatible.\r\n",
      "torchdata 0.7.1 requires torch>=2, but you have torch 1.11.0 which is incompatible.\u001b[0m\u001b[31m\r\n",
      "\u001b[0m"
     ]
    }
   ],
   "source": [
    "!pip install -r requirements.txt -q"
   ]
  },
  {
   "cell_type": "code",
   "execution_count": 6,
   "id": "4edf11f7",
   "metadata": {
    "execution": {
     "iopub.execute_input": "2024-04-21T18:04:50.003333Z",
     "iopub.status.busy": "2024-04-21T18:04:50.002981Z",
     "iopub.status.idle": "2024-04-21T18:33:37.968560Z",
     "shell.execute_reply": "2024-04-21T18:33:37.967415Z"
    },
    "papermill": {
     "duration": 1727.980983,
     "end_time": "2024-04-21T18:33:37.977618",
     "exception": false,
     "start_time": "2024-04-21T18:04:49.996635",
     "status": "completed"
    },
    "tags": []
   },
   "outputs": [
    {
     "name": "stdout",
     "output_type": "stream",
     "text": [
      "CPU times: user 26.9 s, sys: 4.28 s, total: 31.2 s\n",
      "Wall time: 28min 47s\n"
     ]
    }
   ],
   "source": [
    "%%time\n",
    "!bash scripts/PatchTST/etth1.sh"
   ]
  },
  {
   "cell_type": "code",
   "execution_count": 7,
   "id": "e5b01399",
   "metadata": {
    "execution": {
     "iopub.execute_input": "2024-04-21T18:33:37.993321Z",
     "iopub.status.busy": "2024-04-21T18:33:37.992978Z",
     "iopub.status.idle": "2024-04-21T19:04:17.354226Z",
     "shell.execute_reply": "2024-04-21T19:04:17.352916Z"
    },
    "papermill": {
     "duration": 1839.37667,
     "end_time": "2024-04-21T19:04:17.361402",
     "exception": false,
     "start_time": "2024-04-21T18:33:37.984732",
     "status": "completed"
    },
    "tags": []
   },
   "outputs": [
    {
     "name": "stdout",
     "output_type": "stream",
     "text": [
      "CPU times: user 28.3 s, sys: 4.65 s, total: 33 s\n",
      "Wall time: 30min 39s\n"
     ]
    }
   ],
   "source": [
    "%%time\n",
    "!bash scripts/PatchTST/etth2.sh"
   ]
  },
  {
   "cell_type": "code",
   "execution_count": 8,
   "id": "86f540fb",
   "metadata": {
    "execution": {
     "iopub.execute_input": "2024-04-21T19:04:17.373804Z",
     "iopub.status.busy": "2024-04-21T19:04:17.373007Z",
     "iopub.status.idle": "2024-04-21T20:47:41.738506Z",
     "shell.execute_reply": "2024-04-21T20:47:41.737374Z"
    },
    "papermill": {
     "duration": 6204.378814,
     "end_time": "2024-04-21T20:47:41.745402",
     "exception": false,
     "start_time": "2024-04-21T19:04:17.366588",
     "status": "completed"
    },
    "tags": []
   },
   "outputs": [
    {
     "name": "stdout",
     "output_type": "stream",
     "text": [
      "CPU times: user 1min 23s, sys: 15.9 s, total: 1min 39s\n",
      "Wall time: 1h 43min 24s\n"
     ]
    }
   ],
   "source": [
    "%%time\n",
    "!bash scripts/PatchTST/ettm1.sh"
   ]
  },
  {
   "cell_type": "code",
   "execution_count": 9,
   "id": "fe6d4c37",
   "metadata": {
    "execution": {
     "iopub.execute_input": "2024-04-21T20:47:41.759330Z",
     "iopub.status.busy": "2024-04-21T20:47:41.758960Z",
     "iopub.status.idle": "2024-04-21T22:10:27.180119Z",
     "shell.execute_reply": "2024-04-21T22:10:27.178909Z"
    },
    "papermill": {
     "duration": 4965.436158,
     "end_time": "2024-04-21T22:10:27.188125",
     "exception": false,
     "start_time": "2024-04-21T20:47:41.751967",
     "status": "completed"
    },
    "tags": []
   },
   "outputs": [
    {
     "name": "stdout",
     "output_type": "stream",
     "text": [
      "CPU times: user 1min 6s, sys: 12.6 s, total: 1min 18s\n",
      "Wall time: 1h 22min 45s\n"
     ]
    }
   ],
   "source": [
    "%%time\n",
    "!bash scripts/PatchTST/ettm2.sh"
   ]
  },
  {
   "cell_type": "code",
   "execution_count": 10,
   "id": "d1328cbe",
   "metadata": {
    "execution": {
     "iopub.execute_input": "2024-04-21T22:10:27.200900Z",
     "iopub.status.busy": "2024-04-21T22:10:27.200588Z",
     "iopub.status.idle": "2024-04-21T22:33:25.274423Z",
     "shell.execute_reply": "2024-04-21T22:33:25.273241Z"
    },
    "papermill": {
     "duration": 1378.088356,
     "end_time": "2024-04-21T22:33:25.282176",
     "exception": false,
     "start_time": "2024-04-21T22:10:27.193820",
     "status": "completed"
    },
    "tags": []
   },
   "outputs": [
    {
     "name": "stdout",
     "output_type": "stream",
     "text": [
      "CPU times: user 19 s, sys: 3.55 s, total: 22.6 s\n",
      "Wall time: 22min 58s\n"
     ]
    }
   ],
   "source": [
    "%%time\n",
    "!bash scripts/PatchTST/exchange_rate.sh"
   ]
  },
  {
   "cell_type": "code",
   "execution_count": 11,
   "id": "e32fdc1b",
   "metadata": {
    "execution": {
     "iopub.execute_input": "2024-04-21T22:33:25.294732Z",
     "iopub.status.busy": "2024-04-21T22:33:25.294425Z",
     "iopub.status.idle": "2024-04-22T02:54:14.049671Z",
     "shell.execute_reply": "2024-04-22T02:54:14.048462Z"
    },
    "papermill": {
     "duration": 15648.77015,
     "end_time": "2024-04-22T02:54:14.057852",
     "exception": false,
     "start_time": "2024-04-21T22:33:25.287702",
     "status": "completed"
    },
    "tags": []
   },
   "outputs": [
    {
     "name": "stdout",
     "output_type": "stream",
     "text": [
      "CPU times: user 3min, sys: 38.8 s, total: 3min 39s\n",
      "Wall time: 4h 20min 48s\n"
     ]
    }
   ],
   "source": [
    "%%time\n",
    "!bash scripts/PatchTST/weather.sh"
   ]
  },
  {
   "cell_type": "code",
   "execution_count": 12,
   "id": "6711f63b",
   "metadata": {
    "execution": {
     "iopub.execute_input": "2024-04-22T02:54:14.071567Z",
     "iopub.status.busy": "2024-04-22T02:54:14.071223Z",
     "iopub.status.idle": "2024-04-22T03:09:51.788466Z",
     "shell.execute_reply": "2024-04-22T03:09:51.787175Z"
    },
    "papermill": {
     "duration": 937.732247,
     "end_time": "2024-04-22T03:09:51.796127",
     "exception": false,
     "start_time": "2024-04-22T02:54:14.063880",
     "status": "completed"
    },
    "tags": []
   },
   "outputs": [
    {
     "name": "stdout",
     "output_type": "stream",
     "text": [
      "CPU times: user 15.1 s, sys: 2.57 s, total: 17.6 s\n",
      "Wall time: 15min 37s\n"
     ]
    }
   ],
   "source": [
    "%%time\n",
    "!bash scripts/PatchTST/illness.sh"
   ]
  }
 ],
 "metadata": {
  "kaggle": {
   "accelerator": "gpu",
   "dataSources": [],
   "dockerImageVersionId": 30698,
   "isGpuEnabled": true,
   "isInternetEnabled": true,
   "language": "python",
   "sourceType": "notebook"
  },
  "kernelspec": {
   "display_name": "Python 3",
   "language": "python",
   "name": "python3"
  },
  "language_info": {
   "codemirror_mode": {
    "name": "ipython",
    "version": 3
   },
   "file_extension": ".py",
   "mimetype": "text/x-python",
   "name": "python",
   "nbconvert_exporter": "python",
   "pygments_lexer": "ipython3",
   "version": "3.10.13"
  },
  "papermill": {
   "default_parameters": {},
   "duration": 32793.343222,
   "end_time": "2024-04-22T03:09:52.186054",
   "environment_variables": {},
   "exception": null,
   "input_path": "__notebook__.ipynb",
   "output_path": "__notebook__.ipynb",
   "parameters": {},
   "start_time": "2024-04-21T18:03:18.842832",
   "version": "2.5.0"
  }
 },
 "nbformat": 4,
 "nbformat_minor": 5
}
