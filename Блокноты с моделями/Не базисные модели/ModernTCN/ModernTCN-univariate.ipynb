{
 "cells": [
  {
   "cell_type": "code",
   "execution_count": 1,
   "id": "a6e542da",
   "metadata": {
    "_cell_guid": "b1076dfc-b9ad-4769-8c92-a6c4dae69d19",
    "_uuid": "8f2839f25d086af736a60e9eeb907d3b93b6e0e5",
    "execution": {
     "iopub.execute_input": "2024-05-08T18:04:25.956842Z",
     "iopub.status.busy": "2024-05-08T18:04:25.956016Z",
     "iopub.status.idle": "2024-05-08T18:04:53.761359Z",
     "shell.execute_reply": "2024-05-08T18:04:53.760258Z"
    },
    "papermill": {
     "duration": 27.813027,
     "end_time": "2024-05-08T18:04:53.763575",
     "exception": false,
     "start_time": "2024-05-08T18:04:25.950548",
     "status": "completed"
    },
    "tags": []
   },
   "outputs": [
    {
     "name": "stdout",
     "output_type": "stream",
     "text": [
      "Cloning into 'ModernTCN'...\r\n",
      "remote: Enumerating objects: 152, done.\u001b[K\r\n",
      "remote: Counting objects: 100% (85/85), done.\u001b[K\r\n",
      "remote: Compressing objects: 100% (47/47), done.\u001b[K\r\n",
      "remote: Total 152 (delta 42), reused 75 (delta 37), pack-reused 67\u001b[K\r\n",
      "Receiving objects: 100% (152/152), 2.07 MiB | 26.56 MiB/s, done.\r\n",
      "Resolving deltas: 100% (60/60), done.\r\n",
      "Archive:  /kaggle/working/weather.zip\r\n",
      "   creating: weather/\r\n",
      "  inflating: weather/weather.csv     \r\n",
      "Archive:  /kaggle/working/exchange_rate.zip\r\n",
      "   creating: exchange_rate/\r\n",
      "  inflating: exchange_rate/.DS_Store  \r\n",
      "  inflating: exchange_rate/exchange_rate.csv  \r\n",
      "Archive:  /kaggle/working/illness.zip\r\n",
      "   creating: illness/\r\n",
      "  inflating: illness/national_illness.csv  \r\n"
     ]
    }
   ],
   "source": [
    "!git clone https://github.com/m6129/ModernTCN.git\n",
    "    # подгрузка наборов данных\n",
    "!git clone https://github.com/zhouhaoyi/ETDataset -q\n",
    "!pip install --upgrade gdown -q #https://github.com/wkentaro/gdown/issues/333\n",
    "!gdown --fuzzy https://drive.google.com/file/d/1nXdMIJ7K201Bx3IBGNiaNFQ6FzeDEzIr/view?usp=drive_link -q\n",
    "!gdown --fuzzy https://drive.google.com/file/d/1rN79CxW3Vldp-WDuSoG0bKq9tYQR79UK/view?usp=drive_link -q\n",
    "!gdown --fuzzy https://drive.google.com/file/d/1WMKg7KevVEEd9jrfLG8mcpOequZMbjlM/view?usp=drive_link -q\n",
    "!unzip /kaggle/working/weather.zip\n",
    "!unzip /kaggle/working/exchange_rate.zip\n",
    "!unzip /kaggle/working/illness.zip"
   ]
  },
  {
   "cell_type": "code",
   "execution_count": 2,
   "id": "49cae0e1",
   "metadata": {
    "execution": {
     "iopub.execute_input": "2024-05-08T18:04:53.774132Z",
     "iopub.status.busy": "2024-05-08T18:04:53.773811Z",
     "iopub.status.idle": "2024-05-08T18:04:53.780185Z",
     "shell.execute_reply": "2024-05-08T18:04:53.779126Z"
    },
    "papermill": {
     "duration": 0.013721,
     "end_time": "2024-05-08T18:04:53.782053",
     "exception": false,
     "start_time": "2024-05-08T18:04:53.768332",
     "status": "completed"
    },
    "tags": []
   },
   "outputs": [
    {
     "name": "stdout",
     "output_type": "stream",
     "text": [
      "/kaggle/working/ModernTCN\n"
     ]
    }
   ],
   "source": [
    "cd ModernTCN"
   ]
  },
  {
   "cell_type": "code",
   "execution_count": 3,
   "id": "472a6ec9",
   "metadata": {
    "execution": {
     "iopub.execute_input": "2024-05-08T18:04:53.791672Z",
     "iopub.status.busy": "2024-05-08T18:04:53.791361Z",
     "iopub.status.idle": "2024-05-08T18:04:54.725288Z",
     "shell.execute_reply": "2024-05-08T18:04:54.724228Z"
    },
    "papermill": {
     "duration": 0.941314,
     "end_time": "2024-05-08T18:04:54.727671",
     "exception": false,
     "start_time": "2024-05-08T18:04:53.786357",
     "status": "completed"
    },
    "tags": []
   },
   "outputs": [],
   "source": [
    "mkdir all_six_datasets"
   ]
  },
  {
   "cell_type": "code",
   "execution_count": 4,
   "id": "84eb2b89",
   "metadata": {
    "execution": {
     "iopub.execute_input": "2024-05-08T18:04:54.738125Z",
     "iopub.status.busy": "2024-05-08T18:04:54.737822Z",
     "iopub.status.idle": "2024-05-08T18:04:58.447585Z",
     "shell.execute_reply": "2024-05-08T18:04:58.446431Z"
    },
    "papermill": {
     "duration": 3.717825,
     "end_time": "2024-05-08T18:04:58.450152",
     "exception": false,
     "start_time": "2024-05-08T18:04:54.732327",
     "status": "completed"
    },
    "tags": []
   },
   "outputs": [],
   "source": [
    "!mv /kaggle/working/ETDataset/* /kaggle/working/ModernTCN/all_six_datasets\n",
    "!mv /kaggle/working/weather /kaggle/working/ModernTCN/all_six_datasets\n",
    "!mv /kaggle/working/exchange_rate /kaggle/working/ModernTCN/all_six_datasets\n",
    "!mv /kaggle/working/illness /kaggle/working/ModernTCN/all_six_datasets"
   ]
  },
  {
   "cell_type": "code",
   "execution_count": 5,
   "id": "85c67b9e",
   "metadata": {
    "execution": {
     "iopub.execute_input": "2024-05-08T18:04:58.461194Z",
     "iopub.status.busy": "2024-05-08T18:04:58.460428Z",
     "iopub.status.idle": "2024-05-08T18:12:19.684904Z",
     "shell.execute_reply": "2024-05-08T18:12:19.683583Z"
    },
    "papermill": {
     "duration": 441.236383,
     "end_time": "2024-05-08T18:12:19.691202",
     "exception": false,
     "start_time": "2024-05-08T18:04:58.454819",
     "status": "completed"
    },
    "tags": []
   },
   "outputs": [
    {
     "name": "stdout",
     "output_type": "stream",
     "text": [
      "CPU times: user 6.51 s, sys: 923 ms, total: 7.43 s\n",
      "Wall time: 7min 21s\n"
     ]
    }
   ],
   "source": [
    "%%time\n",
    "!bash scripts/univariate/ETTh1.sh>1.log"
   ]
  },
  {
   "cell_type": "code",
   "execution_count": 6,
   "id": "99382fd0",
   "metadata": {
    "execution": {
     "iopub.execute_input": "2024-05-08T18:12:19.701908Z",
     "iopub.status.busy": "2024-05-08T18:12:19.701579Z",
     "iopub.status.idle": "2024-05-08T18:18:57.821196Z",
     "shell.execute_reply": "2024-05-08T18:18:57.820068Z"
    },
    "papermill": {
     "duration": 398.131527,
     "end_time": "2024-05-08T18:18:57.827339",
     "exception": false,
     "start_time": "2024-05-08T18:12:19.695812",
     "status": "completed"
    },
    "tags": []
   },
   "outputs": [
    {
     "name": "stdout",
     "output_type": "stream",
     "text": [
      "CPU times: user 5.95 s, sys: 805 ms, total: 6.75 s\n",
      "Wall time: 6min 38s\n"
     ]
    }
   ],
   "source": [
    "%%time\n",
    "!bash scripts/univariate/ETTh2.sh>2.log"
   ]
  },
  {
   "cell_type": "code",
   "execution_count": 7,
   "id": "eb92bfee",
   "metadata": {
    "execution": {
     "iopub.execute_input": "2024-05-08T18:18:57.839093Z",
     "iopub.status.busy": "2024-05-08T18:18:57.838104Z",
     "iopub.status.idle": "2024-05-08T19:17:18.805629Z",
     "shell.execute_reply": "2024-05-08T19:17:18.804425Z"
    },
    "papermill": {
     "duration": 3500.979956,
     "end_time": "2024-05-08T19:17:18.812273",
     "exception": false,
     "start_time": "2024-05-08T18:18:57.832317",
     "status": "completed"
    },
    "tags": []
   },
   "outputs": [
    {
     "name": "stdout",
     "output_type": "stream",
     "text": [
      "CPU times: user 39.2 s, sys: 8.25 s, total: 47.4 s\n",
      "Wall time: 58min 20s\n"
     ]
    }
   ],
   "source": [
    "%%time\n",
    "!bash scripts/univariate/ETTm1.sh>3.log"
   ]
  },
  {
   "cell_type": "code",
   "execution_count": 8,
   "id": "19579442",
   "metadata": {
    "execution": {
     "iopub.execute_input": "2024-05-08T19:17:18.823297Z",
     "iopub.status.busy": "2024-05-08T19:17:18.823002Z",
     "iopub.status.idle": "2024-05-08T20:12:43.168316Z",
     "shell.execute_reply": "2024-05-08T20:12:43.167174Z"
    },
    "papermill": {
     "duration": 3324.357479,
     "end_time": "2024-05-08T20:12:43.174534",
     "exception": false,
     "start_time": "2024-05-08T19:17:18.817055",
     "status": "completed"
    },
    "tags": []
   },
   "outputs": [
    {
     "name": "stdout",
     "output_type": "stream",
     "text": [
      "CPU times: user 36.7 s, sys: 7.65 s, total: 44.4 s\n",
      "Wall time: 55min 24s\n"
     ]
    }
   ],
   "source": [
    "%%time\n",
    "!bash scripts/univariate/ETTm2.sh>4.log"
   ]
  },
  {
   "cell_type": "code",
   "execution_count": 9,
   "id": "4472721f",
   "metadata": {
    "collapsed": true,
    "execution": {
     "iopub.execute_input": "2024-05-08T20:12:43.187195Z",
     "iopub.status.busy": "2024-05-08T20:12:43.186203Z",
     "iopub.status.idle": "2024-05-08T20:17:58.569023Z",
     "shell.execute_reply": "2024-05-08T20:17:58.567928Z"
    },
    "jupyter": {
     "outputs_hidden": true
    },
    "papermill": {
     "duration": 315.395002,
     "end_time": "2024-05-08T20:17:58.575162",
     "exception": false,
     "start_time": "2024-05-08T20:12:43.180160",
     "status": "completed"
    },
    "tags": []
   },
   "outputs": [
    {
     "name": "stdout",
     "output_type": "stream",
     "text": [
      "CPU times: user 4.38 s, sys: 625 ms, total: 5 s\n",
      "Wall time: 5min 15s\n"
     ]
    }
   ],
   "source": [
    "%%time\n",
    "!bash scripts/univariate/Exchange_rate.sh>5.log"
   ]
  },
  {
   "cell_type": "code",
   "execution_count": 10,
   "id": "1dcf7591",
   "metadata": {
    "execution": {
     "iopub.execute_input": "2024-05-08T20:17:58.586829Z",
     "iopub.status.busy": "2024-05-08T20:17:58.586518Z",
     "iopub.status.idle": "2024-05-08T20:43:06.514606Z",
     "shell.execute_reply": "2024-05-08T20:43:06.513408Z"
    },
    "papermill": {
     "duration": 1507.941264,
     "end_time": "2024-05-08T20:43:06.521784",
     "exception": false,
     "start_time": "2024-05-08T20:17:58.580520",
     "status": "completed"
    },
    "tags": []
   },
   "outputs": [
    {
     "name": "stdout",
     "output_type": "stream",
     "text": [
      "CPU times: user 19.9 s, sys: 3.51 s, total: 23.4 s\n",
      "Wall time: 25min 7s\n"
     ]
    }
   ],
   "source": [
    "%%time\n",
    "!bash scripts/univariate/weather.sh>6.log"
   ]
  },
  {
   "cell_type": "code",
   "execution_count": 11,
   "id": "96a4ea1e",
   "metadata": {
    "execution": {
     "iopub.execute_input": "2024-05-08T20:43:06.534984Z",
     "iopub.status.busy": "2024-05-08T20:43:06.534078Z",
     "iopub.status.idle": "2024-05-08T20:44:30.089337Z",
     "shell.execute_reply": "2024-05-08T20:44:30.088187Z"
    },
    "papermill": {
     "duration": 83.569287,
     "end_time": "2024-05-08T20:44:30.096792",
     "exception": false,
     "start_time": "2024-05-08T20:43:06.527505",
     "status": "completed"
    },
    "tags": []
   },
   "outputs": [
    {
     "name": "stdout",
     "output_type": "stream",
     "text": [
      "CPU times: user 1.35 s, sys: 200 ms, total: 1.55 s\n",
      "Wall time: 1min 23s\n"
     ]
    }
   ],
   "source": [
    "%%time\n",
    "!bash scripts/univariate/ILI.sh>7.log"
   ]
  }
 ],
 "metadata": {
  "kaggle": {
   "accelerator": "gpu",
   "dataSources": [],
   "dockerImageVersionId": 30698,
   "isGpuEnabled": true,
   "isInternetEnabled": true,
   "language": "python",
   "sourceType": "notebook"
  },
  "kernelspec": {
   "display_name": "Python 3",
   "language": "python",
   "name": "python3"
  },
  "language_info": {
   "codemirror_mode": {
    "name": "ipython",
    "version": 3
   },
   "file_extension": ".py",
   "mimetype": "text/x-python",
   "name": "python",
   "nbconvert_exporter": "python",
   "pygments_lexer": "ipython3",
   "version": "3.10.13"
  },
  "papermill": {
   "default_parameters": {},
   "duration": 9607.152096,
   "end_time": "2024-05-08T20:44:30.439865",
   "environment_variables": {},
   "exception": null,
   "input_path": "__notebook__.ipynb",
   "output_path": "__notebook__.ipynb",
   "parameters": {},
   "start_time": "2024-05-08T18:04:23.287769",
   "version": "2.5.0"
  }
 },
 "nbformat": 4,
 "nbformat_minor": 5
}
