{
 "cells": [
  {
   "cell_type": "code",
   "execution_count": 1,
   "id": "baa783c1",
   "metadata": {
    "_cell_guid": "b1076dfc-b9ad-4769-8c92-a6c4dae69d19",
    "_uuid": "8f2839f25d086af736a60e9eeb907d3b93b6e0e5",
    "execution": {
     "iopub.execute_input": "2024-05-10T06:48:21.825249Z",
     "iopub.status.busy": "2024-05-10T06:48:21.824876Z",
     "iopub.status.idle": "2024-05-10T06:48:53.658124Z",
     "shell.execute_reply": "2024-05-10T06:48:53.657176Z"
    },
    "papermill": {
     "duration": 31.83969,
     "end_time": "2024-05-10T06:48:53.660438",
     "exception": false,
     "start_time": "2024-05-10T06:48:21.820748",
     "status": "completed"
    },
    "tags": []
   },
   "outputs": [
    {
     "name": "stdout",
     "output_type": "stream",
     "text": [
      "Cloning into 'ModernTCN'...\r\n",
      "remote: Enumerating objects: 166, done.\u001b[K\r\n",
      "remote: Counting objects: 100% (99/99), done.\u001b[K\r\n",
      "remote: Compressing objects: 100% (53/53), done.\u001b[K\r\n",
      "remote: Total 166 (delta 52), reused 87 (delta 45), pack-reused 67\u001b[K\r\n",
      "Receiving objects: 100% (166/166), 2.08 MiB | 6.48 MiB/s, done.\r\n",
      "Resolving deltas: 100% (70/70), done.\r\n",
      "Archive:  /kaggle/working/weather.zip\r\n",
      "   creating: weather/\r\n",
      "  inflating: weather/weather.csv     \r\n",
      "Archive:  /kaggle/working/exchange_rate.zip\r\n",
      "   creating: exchange_rate/\r\n",
      "  inflating: exchange_rate/.DS_Store  \r\n",
      "  inflating: exchange_rate/exchange_rate.csv  \r\n",
      "Archive:  /kaggle/working/illness.zip\r\n",
      "   creating: illness/\r\n",
      "  inflating: illness/national_illness.csv  \r\n"
     ]
    }
   ],
   "source": [
    "!git clone https://github.com/m6129/ModernTCN.git\n",
    "    # подгрузка наборов данных\n",
    "!git clone https://github.com/zhouhaoyi/ETDataset -q\n",
    "!pip install --upgrade gdown -q #https://github.com/wkentaro/gdown/issues/333\n",
    "!gdown --fuzzy https://drive.google.com/file/d/1nXdMIJ7K201Bx3IBGNiaNFQ6FzeDEzIr/view?usp=drive_link -q\n",
    "!gdown --fuzzy https://drive.google.com/file/d/1rN79CxW3Vldp-WDuSoG0bKq9tYQR79UK/view?usp=drive_link -q\n",
    "!gdown --fuzzy https://drive.google.com/file/d/1WMKg7KevVEEd9jrfLG8mcpOequZMbjlM/view?usp=drive_link -q\n",
    "!unzip /kaggle/working/weather.zip\n",
    "!unzip /kaggle/working/exchange_rate.zip\n",
    "!unzip /kaggle/working/illness.zip"
   ]
  },
  {
   "cell_type": "code",
   "execution_count": 2,
   "id": "639f9788",
   "metadata": {
    "execution": {
     "iopub.execute_input": "2024-05-10T06:48:53.668576Z",
     "iopub.status.busy": "2024-05-10T06:48:53.668265Z",
     "iopub.status.idle": "2024-05-10T06:48:53.674169Z",
     "shell.execute_reply": "2024-05-10T06:48:53.673392Z"
    },
    "papermill": {
     "duration": 0.012216,
     "end_time": "2024-05-10T06:48:53.676145",
     "exception": false,
     "start_time": "2024-05-10T06:48:53.663929",
     "status": "completed"
    },
    "tags": []
   },
   "outputs": [
    {
     "name": "stdout",
     "output_type": "stream",
     "text": [
      "/kaggle/working/ModernTCN\n"
     ]
    }
   ],
   "source": [
    "cd ModernTCN"
   ]
  },
  {
   "cell_type": "code",
   "execution_count": 3,
   "id": "7ef56dfa",
   "metadata": {
    "execution": {
     "iopub.execute_input": "2024-05-10T06:48:53.683612Z",
     "iopub.status.busy": "2024-05-10T06:48:53.683367Z",
     "iopub.status.idle": "2024-05-10T06:48:54.613127Z",
     "shell.execute_reply": "2024-05-10T06:48:54.611937Z"
    },
    "papermill": {
     "duration": 0.936054,
     "end_time": "2024-05-10T06:48:54.615496",
     "exception": false,
     "start_time": "2024-05-10T06:48:53.679442",
     "status": "completed"
    },
    "tags": []
   },
   "outputs": [],
   "source": [
    "mkdir all_six_datasets"
   ]
  },
  {
   "cell_type": "code",
   "execution_count": 4,
   "id": "40274bb4",
   "metadata": {
    "execution": {
     "iopub.execute_input": "2024-05-10T06:48:54.623946Z",
     "iopub.status.busy": "2024-05-10T06:48:54.623653Z",
     "iopub.status.idle": "2024-05-10T06:48:58.373563Z",
     "shell.execute_reply": "2024-05-10T06:48:58.372487Z"
    },
    "papermill": {
     "duration": 3.756914,
     "end_time": "2024-05-10T06:48:58.375967",
     "exception": false,
     "start_time": "2024-05-10T06:48:54.619053",
     "status": "completed"
    },
    "tags": []
   },
   "outputs": [],
   "source": [
    "!mv /kaggle/working/ETDataset/* /kaggle/working/ModernTCN/all_six_datasets\n",
    "!mv /kaggle/working/weather /kaggle/working/ModernTCN/all_six_datasets\n",
    "!mv /kaggle/working/exchange_rate /kaggle/working/ModernTCN/all_six_datasets\n",
    "!mv /kaggle/working/illness /kaggle/working/ModernTCN/all_six_datasets"
   ]
  },
  {
   "cell_type": "code",
   "execution_count": 5,
   "id": "8831fc03",
   "metadata": {
    "execution": {
     "iopub.execute_input": "2024-05-10T06:48:58.384554Z",
     "iopub.status.busy": "2024-05-10T06:48:58.384186Z",
     "iopub.status.idle": "2024-05-10T13:39:56.011912Z",
     "shell.execute_reply": "2024-05-10T13:39:56.010606Z"
    },
    "papermill": {
     "duration": 24657.638141,
     "end_time": "2024-05-10T13:39:56.017834",
     "exception": false,
     "start_time": "2024-05-10T06:48:58.379693",
     "status": "completed"
    },
    "tags": []
   },
   "outputs": [
    {
     "name": "stdout",
     "output_type": "stream",
     "text": [
      "CPU times: user 5min 37s, sys: 1min 9s, total: 6min 46s\n",
      "Wall time: 6h 50min 57s\n"
     ]
    }
   ],
   "source": [
    "%%time\n",
    "!bash scripts/multivariate/weather.sh>6.log"
   ]
  }
 ],
 "metadata": {
  "kaggle": {
   "accelerator": "gpu",
   "dataSources": [],
   "dockerImageVersionId": 30698,
   "isGpuEnabled": true,
   "isInternetEnabled": true,
   "language": "python",
   "sourceType": "notebook"
  },
  "kernelspec": {
   "display_name": "Python 3",
   "language": "python",
   "name": "python3"
  },
  "language_info": {
   "codemirror_mode": {
    "name": "ipython",
    "version": 3
   },
   "file_extension": ".py",
   "mimetype": "text/x-python",
   "name": "python",
   "nbconvert_exporter": "python",
   "pygments_lexer": "ipython3",
   "version": "3.10.13"
  },
  "papermill": {
   "default_parameters": {},
   "duration": 24697.355035,
   "end_time": "2024-05-10T13:39:56.389599",
   "environment_variables": {},
   "exception": null,
   "input_path": "__notebook__.ipynb",
   "output_path": "__notebook__.ipynb",
   "parameters": {},
   "start_time": "2024-05-10T06:48:19.034564",
   "version": "2.5.0"
  }
 },
 "nbformat": 4,
 "nbformat_minor": 5
}
