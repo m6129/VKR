{
 "cells": [
  {
   "cell_type": "code",
   "execution_count": 1,
   "id": "9a11cec7",
   "metadata": {
    "_cell_guid": "b1076dfc-b9ad-4769-8c92-a6c4dae69d19",
    "_uuid": "8f2839f25d086af736a60e9eeb907d3b93b6e0e5",
    "execution": {
     "iopub.execute_input": "2024-05-04T17:44:22.373816Z",
     "iopub.status.busy": "2024-05-04T17:44:22.373544Z",
     "iopub.status.idle": "2024-05-04T17:44:49.927965Z",
     "shell.execute_reply": "2024-05-04T17:44:49.926846Z"
    },
    "papermill": {
     "duration": 27.561162,
     "end_time": "2024-05-04T17:44:49.930273",
     "exception": false,
     "start_time": "2024-05-04T17:44:22.369111",
     "status": "completed"
    },
    "tags": []
   },
   "outputs": [
    {
     "name": "stdout",
     "output_type": "stream",
     "text": [
      "Cloning into 'SegRNN'...\r\n",
      "remote: Enumerating objects: 382, done.\u001b[K\r\n",
      "remote: Counting objects: 100% (382/382), done.\u001b[K\r\n",
      "remote: Compressing objects: 100% (234/234), done.\u001b[K\r\n",
      "remote: Total 382 (delta 202), reused 278 (delta 125), pack-reused 0\u001b[K\r\n",
      "Receiving objects: 100% (382/382), 617.23 KiB | 18.15 MiB/s, done.\r\n",
      "Resolving deltas: 100% (202/202), done.\r\n",
      "Archive:  /kaggle/working/weather.zip\r\n",
      "   creating: weather/\r\n",
      "  inflating: weather/weather.csv     \r\n",
      "Archive:  /kaggle/working/exchange_rate.zip\r\n",
      "   creating: exchange_rate/\r\n",
      "  inflating: exchange_rate/.DS_Store  \r\n",
      "  inflating: exchange_rate/exchange_rate.csv  \r\n",
      "Archive:  /kaggle/working/illness.zip\r\n",
      "   creating: illness/\r\n",
      "  inflating: illness/national_illness.csv  \r\n"
     ]
    }
   ],
   "source": [
    "!git clone https://github.com/m6129/SegRNN.git\n",
    "# подгрузка наборов данных\n",
    "!git clone https://github.com/zhouhaoyi/ETDataset -q\n",
    "!pip install --upgrade gdown -q #https://github.com/wkentaro/gdown/issues/333\n",
    "!gdown --fuzzy https://drive.google.com/file/d/1nXdMIJ7K201Bx3IBGNiaNFQ6FzeDEzIr/view?usp=drive_link -q\n",
    "!gdown --fuzzy https://drive.google.com/file/d/1rN79CxW3Vldp-WDuSoG0bKq9tYQR79UK/view?usp=drive_link -q\n",
    "!gdown --fuzzy https://drive.google.com/file/d/1WMKg7KevVEEd9jrfLG8mcpOequZMbjlM/view?usp=drive_link -q\n",
    "!unzip /kaggle/working/weather.zip\n",
    "!unzip /kaggle/working/exchange_rate.zip\n",
    "!unzip /kaggle/working/illness.zip"
   ]
  },
  {
   "cell_type": "code",
   "execution_count": 2,
   "id": "65075cf2",
   "metadata": {
    "execution": {
     "iopub.execute_input": "2024-05-04T17:44:49.940587Z",
     "iopub.status.busy": "2024-05-04T17:44:49.939776Z",
     "iopub.status.idle": "2024-05-04T17:44:49.946116Z",
     "shell.execute_reply": "2024-05-04T17:44:49.945216Z"
    },
    "papermill": {
     "duration": 0.013461,
     "end_time": "2024-05-04T17:44:49.948125",
     "exception": false,
     "start_time": "2024-05-04T17:44:49.934664",
     "status": "completed"
    },
    "tags": []
   },
   "outputs": [
    {
     "name": "stdout",
     "output_type": "stream",
     "text": [
      "/kaggle/working/SegRNN\n"
     ]
    }
   ],
   "source": [
    "cd SegRNN"
   ]
  },
  {
   "cell_type": "code",
   "execution_count": 3,
   "id": "d738c144",
   "metadata": {
    "execution": {
     "iopub.execute_input": "2024-05-04T17:44:49.957795Z",
     "iopub.status.busy": "2024-05-04T17:44:49.957052Z",
     "iopub.status.idle": "2024-05-04T17:44:50.889853Z",
     "shell.execute_reply": "2024-05-04T17:44:50.888581Z"
    },
    "papermill": {
     "duration": 0.940082,
     "end_time": "2024-05-04T17:44:50.892377",
     "exception": false,
     "start_time": "2024-05-04T17:44:49.952295",
     "status": "completed"
    },
    "tags": []
   },
   "outputs": [],
   "source": [
    "mkdir dataset"
   ]
  },
  {
   "cell_type": "code",
   "execution_count": 4,
   "id": "e21e3369",
   "metadata": {
    "execution": {
     "iopub.execute_input": "2024-05-04T17:44:50.902323Z",
     "iopub.status.busy": "2024-05-04T17:44:50.902010Z",
     "iopub.status.idle": "2024-05-04T17:44:54.626139Z",
     "shell.execute_reply": "2024-05-04T17:44:54.624889Z"
    },
    "papermill": {
     "duration": 3.731827,
     "end_time": "2024-05-04T17:44:54.628656",
     "exception": false,
     "start_time": "2024-05-04T17:44:50.896829",
     "status": "completed"
    },
    "tags": []
   },
   "outputs": [],
   "source": [
    "!mv /kaggle/working/ETDataset/ETT-small/* /kaggle/working/SegRNN/dataset\n",
    "!mv /kaggle/working/weather/* /kaggle/working/SegRNN/dataset\n",
    "!mv /kaggle/working/exchange_rate/* /kaggle/working/SegRNN/dataset\n",
    "!mv /kaggle/working/illness/* /kaggle/working/SegRNN/dataset"
   ]
  },
  {
   "cell_type": "code",
   "execution_count": 5,
   "id": "8292e853",
   "metadata": {
    "execution": {
     "iopub.execute_input": "2024-05-04T17:44:54.638688Z",
     "iopub.status.busy": "2024-05-04T17:44:54.638366Z",
     "iopub.status.idle": "2024-05-04T17:55:45.622507Z",
     "shell.execute_reply": "2024-05-04T17:55:45.621376Z"
    },
    "papermill": {
     "duration": 650.995291,
     "end_time": "2024-05-04T17:55:45.628393",
     "exception": false,
     "start_time": "2024-05-04T17:44:54.633102",
     "status": "completed"
    },
    "tags": []
   },
   "outputs": [
    {
     "name": "stdout",
     "output_type": "stream",
     "text": [
      "CPU times: user 9.33 s, sys: 1.6 s, total: 10.9 s\n",
      "Wall time: 10min 50s\n"
     ]
    }
   ],
   "source": [
    "%%time\n",
    "!bash scripts/SegRNN/multivariate/etth1.sh"
   ]
  },
  {
   "cell_type": "code",
   "execution_count": 6,
   "id": "a0dd11b2",
   "metadata": {
    "execution": {
     "iopub.execute_input": "2024-05-04T17:55:45.639219Z",
     "iopub.status.busy": "2024-05-04T17:55:45.638556Z",
     "iopub.status.idle": "2024-05-04T18:05:31.221508Z",
     "shell.execute_reply": "2024-05-04T18:05:31.220334Z"
    },
    "papermill": {
     "duration": 585.594966,
     "end_time": "2024-05-04T18:05:31.227990",
     "exception": false,
     "start_time": "2024-05-04T17:55:45.633024",
     "status": "completed"
    },
    "tags": []
   },
   "outputs": [
    {
     "name": "stdout",
     "output_type": "stream",
     "text": [
      "CPU times: user 7.67 s, sys: 1.39 s, total: 9.06 s\n",
      "Wall time: 9min 45s\n"
     ]
    }
   ],
   "source": [
    "%%time\n",
    "!bash scripts/SegRNN/multivariate/etth2.sh"
   ]
  },
  {
   "cell_type": "code",
   "execution_count": 7,
   "id": "adfb8185",
   "metadata": {
    "execution": {
     "iopub.execute_input": "2024-05-04T18:05:31.238713Z",
     "iopub.status.busy": "2024-05-04T18:05:31.238414Z",
     "iopub.status.idle": "2024-05-04T18:54:10.339559Z",
     "shell.execute_reply": "2024-05-04T18:54:10.338270Z"
    },
    "papermill": {
     "duration": 2919.113685,
     "end_time": "2024-05-04T18:54:10.346401",
     "exception": false,
     "start_time": "2024-05-04T18:05:31.232716",
     "status": "completed"
    },
    "tags": []
   },
   "outputs": [
    {
     "name": "stdout",
     "output_type": "stream",
     "text": [
      "CPU times: user 37.8 s, sys: 6.98 s, total: 44.7 s\n",
      "Wall time: 48min 39s\n"
     ]
    }
   ],
   "source": [
    "%%time\n",
    "!bash scripts/SegRNN/multivariate/ettm1.sh"
   ]
  },
  {
   "cell_type": "code",
   "execution_count": 8,
   "id": "db6709c4",
   "metadata": {
    "execution": {
     "iopub.execute_input": "2024-05-04T18:54:10.407011Z",
     "iopub.status.busy": "2024-05-04T18:54:10.406043Z",
     "iopub.status.idle": "2024-05-04T19:46:44.352665Z",
     "shell.execute_reply": "2024-05-04T19:46:44.351419Z"
    },
    "papermill": {
     "duration": 3153.960953,
     "end_time": "2024-05-04T19:46:44.360193",
     "exception": false,
     "start_time": "2024-05-04T18:54:10.399240",
     "status": "completed"
    },
    "tags": []
   },
   "outputs": [
    {
     "name": "stdout",
     "output_type": "stream",
     "text": [
      "CPU times: user 41.8 s, sys: 7.77 s, total: 49.6 s\n",
      "Wall time: 52min 33s\n"
     ]
    }
   ],
   "source": [
    "%%time\n",
    "!bash scripts/SegRNN/multivariate/ettm2.sh"
   ]
  },
  {
   "cell_type": "code",
   "execution_count": 9,
   "id": "18478d72",
   "metadata": {
    "execution": {
     "iopub.execute_input": "2024-05-04T19:46:44.373081Z",
     "iopub.status.busy": "2024-05-04T19:46:44.372680Z",
     "iopub.status.idle": "2024-05-04T19:53:18.444081Z",
     "shell.execute_reply": "2024-05-04T19:53:18.442832Z"
    },
    "papermill": {
     "duration": 394.085558,
     "end_time": "2024-05-04T19:53:18.451296",
     "exception": false,
     "start_time": "2024-05-04T19:46:44.365738",
     "status": "completed"
    },
    "tags": []
   },
   "outputs": [
    {
     "name": "stdout",
     "output_type": "stream",
     "text": [
      "CPU times: user 5.12 s, sys: 927 ms, total: 6.05 s\n",
      "Wall time: 6min 34s\n"
     ]
    }
   ],
   "source": [
    "%%time\n",
    "!bash scripts/SegRNN/multivariate/exchange_rate.sh"
   ]
  },
  {
   "cell_type": "code",
   "execution_count": 10,
   "id": "b1de2adf",
   "metadata": {
    "execution": {
     "iopub.execute_input": "2024-05-04T19:53:18.462729Z",
     "iopub.status.busy": "2024-05-04T19:53:18.462404Z",
     "iopub.status.idle": "2024-05-04T21:53:04.003673Z",
     "shell.execute_reply": "2024-05-04T21:53:04.002517Z"
    },
    "papermill": {
     "duration": 7185.55422,
     "end_time": "2024-05-04T21:53:04.010513",
     "exception": false,
     "start_time": "2024-05-04T19:53:18.456293",
     "status": "completed"
    },
    "tags": []
   },
   "outputs": [
    {
     "name": "stdout",
     "output_type": "stream",
     "text": [
      "CPU times: user 1min 30s, sys: 17.3 s, total: 1min 48s\n",
      "Wall time: 1h 59min 45s\n"
     ]
    }
   ],
   "source": [
    "%%time\n",
    "!bash scripts/SegRNN/multivariate/weather.sh"
   ]
  },
  {
   "cell_type": "code",
   "execution_count": 11,
   "id": "302e85c3",
   "metadata": {
    "execution": {
     "iopub.execute_input": "2024-05-04T21:53:04.022032Z",
     "iopub.status.busy": "2024-05-04T21:53:04.021715Z",
     "iopub.status.idle": "2024-05-04T21:55:33.242644Z",
     "shell.execute_reply": "2024-05-04T21:55:33.241516Z"
    },
    "papermill": {
     "duration": 149.23418,
     "end_time": "2024-05-04T21:55:33.249703",
     "exception": false,
     "start_time": "2024-05-04T21:53:04.015523",
     "status": "completed"
    },
    "tags": []
   },
   "outputs": [
    {
     "name": "stdout",
     "output_type": "stream",
     "text": [
      "CPU times: user 2.31 s, sys: 380 ms, total: 2.69 s\n",
      "Wall time: 2min 29s\n"
     ]
    }
   ],
   "source": [
    "%%time\n",
    "!bash scripts/SegRNN/multivariate/illness.sh"
   ]
  }
 ],
 "metadata": {
  "kaggle": {
   "accelerator": "gpu",
   "dataSources": [],
   "dockerImageVersionId": 30699,
   "isGpuEnabled": true,
   "isInternetEnabled": true,
   "language": "python",
   "sourceType": "notebook"
  },
  "kernelspec": {
   "display_name": "Python 3",
   "language": "python",
   "name": "python3"
  },
  "language_info": {
   "codemirror_mode": {
    "name": "ipython",
    "version": 3
   },
   "file_extension": ".py",
   "mimetype": "text/x-python",
   "name": "python",
   "nbconvert_exporter": "python",
   "pygments_lexer": "ipython3",
   "version": "3.10.13"
  },
  "papermill": {
   "default_parameters": {},
   "duration": 15073.916011,
   "end_time": "2024-05-04T21:55:33.602740",
   "environment_variables": {},
   "exception": null,
   "input_path": "__notebook__.ipynb",
   "output_path": "__notebook__.ipynb",
   "parameters": {},
   "start_time": "2024-05-04T17:44:19.686729",
   "version": "2.5.0"
  }
 },
 "nbformat": 4,
 "nbformat_minor": 5
}
