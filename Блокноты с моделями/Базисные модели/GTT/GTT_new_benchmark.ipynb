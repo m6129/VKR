{
 "cells": [
  {
   "cell_type": "code",
   "execution_count": 1,
   "id": "5b86d182",
   "metadata": {
    "execution": {
     "iopub.execute_input": "2024-05-11T15:39:15.112526Z",
     "iopub.status.busy": "2024-05-11T15:39:15.111676Z",
     "iopub.status.idle": "2024-05-11T15:39:26.746733Z",
     "shell.execute_reply": "2024-05-11T15:39:26.745610Z"
    },
    "papermill": {
     "duration": 11.64496,
     "end_time": "2024-05-11T15:39:26.749117",
     "exception": false,
     "start_time": "2024-05-11T15:39:15.104157",
     "status": "completed"
    },
    "tags": []
   },
   "outputs": [
    {
     "name": "stdout",
     "output_type": "stream",
     "text": [
      "Cloning into 'GTT'...\r\n",
      "remote: Enumerating objects: 328, done.\u001b[K\r\n",
      "remote: Counting objects: 100% (102/102), done.\u001b[K\r\n",
      "remote: Compressing objects: 100% (95/95), done.\u001b[K\r\n",
      "remote: Total 328 (delta 59), reused 0 (delta 0), pack-reused 226\u001b[K\r\n",
      "Receiving objects: 100% (328/328), 230.10 MiB | 28.43 MiB/s, done.\r\n",
      "Resolving deltas: 100% (173/173), done.\r\n",
      "Updating files: 100% (42/42), done.\r\n"
     ]
    }
   ],
   "source": [
    "!git clone https://github.com/m6129/GTT.git"
   ]
  },
  {
   "cell_type": "code",
   "execution_count": 2,
   "id": "21cee94d",
   "metadata": {
    "execution": {
     "iopub.execute_input": "2024-05-11T15:39:26.766876Z",
     "iopub.status.busy": "2024-05-11T15:39:26.766523Z",
     "iopub.status.idle": "2024-05-11T15:39:42.086716Z",
     "shell.execute_reply": "2024-05-11T15:39:42.085617Z"
    },
    "papermill": {
     "duration": 15.331571,
     "end_time": "2024-05-11T15:39:42.089136",
     "exception": false,
     "start_time": "2024-05-11T15:39:26.757565",
     "status": "completed"
    },
    "tags": []
   },
   "outputs": [
    {
     "name": "stdout",
     "output_type": "stream",
     "text": [
      "Collecting auto_mix_prep==0.2.0\r\n",
      "  Downloading auto-mix-prep-0.2.0.tar.gz (2.9 kB)\r\n",
      "  Preparing metadata (setup.py) ... \u001b[?25l-\b \b\\\b \bdone\r\n",
      "\u001b[?25hRequirement already satisfied: pydub in /opt/conda/lib/python3.10/site-packages (from auto_mix_prep==0.2.0) (0.25.1)\r\n",
      "Building wheels for collected packages: auto_mix_prep\r\n",
      "  Building wheel for auto_mix_prep (setup.py) ... \u001b[?25l-\b \b\\\b \b|\b \bdone\r\n",
      "\u001b[?25h  Created wheel for auto_mix_prep: filename=auto_mix_prep-0.2.0-py3-none-any.whl size=3449 sha256=a774943bd14cd9e5f02a1e8b219b4dc878c79511cc28458f785b67fe2abfcc68\r\n",
      "  Stored in directory: /root/.cache/pip/wheels/14/0e/82/6699c12200cd992629464f52929699432a57d29f593df25773\r\n",
      "Successfully built auto_mix_prep\r\n",
      "Installing collected packages: auto_mix_prep\r\n",
      "Successfully installed auto_mix_prep-0.2.0\r\n"
     ]
    }
   ],
   "source": [
    "!pip install auto_mix_prep==0.2.0"
   ]
  },
  {
   "cell_type": "code",
   "execution_count": 3,
   "id": "d3030fa1",
   "metadata": {
    "execution": {
     "iopub.execute_input": "2024-05-11T15:39:42.108182Z",
     "iopub.status.busy": "2024-05-11T15:39:42.107438Z",
     "iopub.status.idle": "2024-05-11T15:39:42.113677Z",
     "shell.execute_reply": "2024-05-11T15:39:42.112593Z"
    },
    "papermill": {
     "duration": 0.017815,
     "end_time": "2024-05-11T15:39:42.115673",
     "exception": false,
     "start_time": "2024-05-11T15:39:42.097858",
     "status": "completed"
    },
    "tags": []
   },
   "outputs": [
    {
     "name": "stdout",
     "output_type": "stream",
     "text": [
      "/kaggle/working/GTT/src\n"
     ]
    }
   ],
   "source": [
    "cd /kaggle/working/GTT/src/"
   ]
  },
  {
   "cell_type": "markdown",
   "id": "30a04cd5",
   "metadata": {
    "papermill": {
     "duration": 0.008606,
     "end_time": "2024-05-11T15:39:42.132800",
     "exception": false,
     "start_time": "2024-05-11T15:39:42.124194",
     "status": "completed"
    },
    "tags": []
   },
   "source": [
    "**Model Tiny zero-shot**"
   ]
  },
  {
   "cell_type": "code",
   "execution_count": 4,
   "id": "c966fd1c",
   "metadata": {
    "execution": {
     "iopub.execute_input": "2024-05-11T15:39:42.150973Z",
     "iopub.status.busy": "2024-05-11T15:39:42.150715Z",
     "iopub.status.idle": "2024-05-11T15:40:04.938444Z",
     "shell.execute_reply": "2024-05-11T15:40:04.937259Z"
    },
    "papermill": {
     "duration": 22.799379,
     "end_time": "2024-05-11T15:40:04.940733",
     "exception": false,
     "start_time": "2024-05-11T15:39:42.141354",
     "status": "completed"
    },
    "tags": []
   },
   "outputs": [
    {
     "name": "stdout",
     "output_type": "stream",
     "text": [
      "2024-05-11 15:39:45.450434: E external/local_xla/xla/stream_executor/cuda/cuda_dnn.cc:9261] Unable to register cuDNN factory: Attempting to register factory for plugin cuDNN when one has already been registered\r\n",
      "2024-05-11 15:39:45.450536: E external/local_xla/xla/stream_executor/cuda/cuda_fft.cc:607] Unable to register cuFFT factory: Attempting to register factory for plugin cuFFT when one has already been registered\r\n",
      "2024-05-11 15:39:45.568562: E external/local_xla/xla/stream_executor/cuda/cuda_blas.cc:1515] Unable to register cuBLAS factory: Attempting to register factory for plugin cuBLAS when one has already been registered\r\n",
      "freq: h\r\n",
      "0 / 60\r\n",
      "24\r\n",
      "mae 0.2949241 mse 0.25251853\r\n",
      "--------------------\r\n",
      "36\r\n",
      "mae 0.33285502 mse 0.3142297\r\n",
      "--------------------\r\n",
      "48\r\n",
      "mae 0.36727202 mse 0.36591008\r\n",
      "--------------------\r\n",
      "60\r\n",
      "mae 0.40064463 mse 0.41386968\r\n",
      "--------------------\r\n",
      "mae mean 0.34892395\r\n",
      "mse mean 0.336632\r\n",
      "\r\n",
      "WAPE 0.3082426\r\n",
      "NRMSE 0.5252052\r\n",
      "WAPE 0.34791908\r\n",
      "NRMSE 0.58593136\r\n",
      "WAPE 0.38678822\r\n",
      "NRMSE 0.6370486\r\n",
      "WAPE 0.42530724\r\n",
      "NRMSE 0.68292856\r\n",
      "WAPE mean 0.3670643\r\n",
      "NRMSE mean 0.60777843\r\n",
      "\r\n",
      "CPU times: user 323 ms, sys: 69 ms, total: 392 ms\n",
      "Wall time: 22.8 s\n"
     ]
    }
   ],
   "source": [
    "%%time\n",
    "!python test_zeroshot.py --gpu 0 --batch_size 40 --mode tiny --data 'de_small' --uni 1 #de_small univariate model Tiny"
   ]
  },
  {
   "cell_type": "code",
   "execution_count": 5,
   "id": "2581f327",
   "metadata": {
    "execution": {
     "iopub.execute_input": "2024-05-11T15:40:04.961727Z",
     "iopub.status.busy": "2024-05-11T15:40:04.960977Z",
     "iopub.status.idle": "2024-05-11T15:41:44.010945Z",
     "shell.execute_reply": "2024-05-11T15:41:44.009610Z"
    },
    "papermill": {
     "duration": 99.062963,
     "end_time": "2024-05-11T15:41:44.013290",
     "exception": false,
     "start_time": "2024-05-11T15:40:04.950327",
     "status": "completed"
    },
    "tags": []
   },
   "outputs": [
    {
     "name": "stdout",
     "output_type": "stream",
     "text": [
      "2024-05-11 15:40:06.726654: E external/local_xla/xla/stream_executor/cuda/cuda_dnn.cc:9261] Unable to register cuDNN factory: Attempting to register factory for plugin cuDNN when one has already been registered\r\n",
      "2024-05-11 15:40:06.726708: E external/local_xla/xla/stream_executor/cuda/cuda_fft.cc:607] Unable to register cuFFT factory: Attempting to register factory for plugin cuFFT when one has already been registered\r\n",
      "2024-05-11 15:40:06.728030: E external/local_xla/xla/stream_executor/cuda/cuda_blas.cc:1515] Unable to register cuBLAS factory: Attempting to register factory for plugin cuBLAS when one has already been registered\r\n",
      "freq: h\r\n",
      "0 / 720\r\n",
      "64 / 720\r\n",
      "128 / 720\r\n",
      "192 / 720\r\n",
      "256 / 720\r\n",
      "320 / 720\r\n",
      "384 / 720\r\n",
      "448 / 720\r\n",
      "512 / 720\r\n",
      "576 / 720\r\n",
      "640 / 720\r\n",
      "704 / 720\r\n",
      "24\r\n",
      "mae 0.14852557 mse 0.054752763\r\n",
      "--------------------\r\n",
      "96\r\n",
      "mae 0.21625826 mse 0.11384665\r\n",
      "--------------------\r\n",
      "192\r\n",
      "mae 0.25701377 mse 0.15617304\r\n",
      "--------------------\r\n",
      "336\r\n",
      "mae 0.29019082 mse 0.19081753\r\n",
      "--------------------\r\n",
      "720\r\n",
      "mae 0.32481736 mse 0.22489797\r\n",
      "--------------------\r\n",
      "mae mean 0.24736114\r\n",
      "mse mean 0.14809759\r\n",
      "\r\n",
      "WAPE 0.1615996\r\n",
      "NRMSE 0.25459045\r\n",
      "WAPE 0.23572053\r\n",
      "NRMSE 0.36777723\r\n",
      "WAPE 0.28018236\r\n",
      "NRMSE 0.4308116\r\n",
      "WAPE 0.31638905\r\n",
      "NRMSE 0.4762631\r\n",
      "WAPE 0.35683677\r\n",
      "NRMSE 0.5209825\r\n",
      "WAPE mean 0.27014568\r\n",
      "NRMSE mean 0.41008496\r\n",
      "\r\n",
      "CPU times: user 1.4 s, sys: 352 ms, total: 1.75 s\n",
      "Wall time: 1min 39s\n"
     ]
    }
   ],
   "source": [
    "%%time\n",
    "!python test_zeroshot.py --gpu 0 --batch_size 40 --mode tiny --data 'de_big' --uni 1 #de_big univariate model Tiny"
   ]
  },
  {
   "cell_type": "code",
   "execution_count": 6,
   "id": "5c3ba6f0",
   "metadata": {
    "execution": {
     "iopub.execute_input": "2024-05-11T15:41:44.036492Z",
     "iopub.status.busy": "2024-05-11T15:41:44.036193Z",
     "iopub.status.idle": "2024-05-11T15:41:56.331004Z",
     "shell.execute_reply": "2024-05-11T15:41:56.329675Z"
    },
    "papermill": {
     "duration": 12.308628,
     "end_time": "2024-05-11T15:41:56.333053",
     "exception": false,
     "start_time": "2024-05-11T15:41:44.024425",
     "status": "completed"
    },
    "tags": []
   },
   "outputs": [
    {
     "name": "stdout",
     "output_type": "stream",
     "text": [
      "2024-05-11 15:41:45.798513: E external/local_xla/xla/stream_executor/cuda/cuda_dnn.cc:9261] Unable to register cuDNN factory: Attempting to register factory for plugin cuDNN when one has already been registered\r\n",
      "2024-05-11 15:41:45.798575: E external/local_xla/xla/stream_executor/cuda/cuda_fft.cc:607] Unable to register cuFFT factory: Attempting to register factory for plugin cuFFT when one has already been registered\r\n",
      "2024-05-11 15:41:45.799981: E external/local_xla/xla/stream_executor/cuda/cuda_blas.cc:1515] Unable to register cuBLAS factory: Attempting to register factory for plugin cuBLAS when one has already been registered\r\n",
      "freq: h\r\n",
      "0 / 60\r\n",
      "24\r\n",
      "mae 0.29829264 mse 0.24367298\r\n",
      "--------------------\r\n",
      "36\r\n",
      "mae 0.3355847 mse 0.30376938\r\n",
      "--------------------\r\n",
      "48\r\n",
      "mae 0.36783177 mse 0.35289526\r\n",
      "--------------------\r\n",
      "60\r\n",
      "mae 0.39960513 mse 0.3989915\r\n",
      "--------------------\r\n",
      "mae mean 0.35032856\r\n",
      "mse mean 0.3248323\r\n",
      "\r\n",
      "WAPE 0.31201646\r\n",
      "NRMSE 0.5163434\r\n",
      "WAPE 0.35107392\r\n",
      "NRMSE 0.57659173\r\n",
      "WAPE 0.38782933\r\n",
      "NRMSE 0.626346\r\n",
      "WAPE 0.4249974\r\n",
      "NRMSE 0.67179537\r\n",
      "WAPE mean 0.36897928\r\n",
      "NRMSE mean 0.59776914\r\n",
      "\r\n",
      "CPU times: user 176 ms, sys: 38 ms, total: 214 ms\n",
      "Wall time: 12.3 s\n"
     ]
    }
   ],
   "source": [
    "%%time\n",
    "!python test_zeroshot.py --gpu 0 --batch_size 40 --mode tiny --data 'de_small' --uni 0 #de_small multivariate model Tiny"
   ]
  },
  {
   "cell_type": "code",
   "execution_count": 7,
   "id": "6b17d5bc",
   "metadata": {
    "execution": {
     "iopub.execute_input": "2024-05-11T15:41:56.356671Z",
     "iopub.status.busy": "2024-05-11T15:41:56.355977Z",
     "iopub.status.idle": "2024-05-11T15:43:35.520879Z",
     "shell.execute_reply": "2024-05-11T15:43:35.519755Z"
    },
    "papermill": {
     "duration": 99.19087,
     "end_time": "2024-05-11T15:43:35.534803",
     "exception": false,
     "start_time": "2024-05-11T15:41:56.343933",
     "status": "completed"
    },
    "tags": []
   },
   "outputs": [
    {
     "name": "stdout",
     "output_type": "stream",
     "text": [
      "2024-05-11 15:41:58.089400: E external/local_xla/xla/stream_executor/cuda/cuda_dnn.cc:9261] Unable to register cuDNN factory: Attempting to register factory for plugin cuDNN when one has already been registered\r\n",
      "2024-05-11 15:41:58.089454: E external/local_xla/xla/stream_executor/cuda/cuda_fft.cc:607] Unable to register cuFFT factory: Attempting to register factory for plugin cuFFT when one has already been registered\r\n",
      "2024-05-11 15:41:58.090899: E external/local_xla/xla/stream_executor/cuda/cuda_blas.cc:1515] Unable to register cuBLAS factory: Attempting to register factory for plugin cuBLAS when one has already been registered\r\n",
      "freq: h\r\n",
      "0 / 720\r\n",
      "64 / 720\r\n",
      "128 / 720\r\n",
      "192 / 720\r\n",
      "256 / 720\r\n",
      "320 / 720\r\n",
      "384 / 720\r\n",
      "448 / 720\r\n",
      "512 / 720\r\n",
      "576 / 720\r\n",
      "640 / 720\r\n",
      "704 / 720\r\n",
      "24\r\n",
      "mae 0.161331 mse 0.06792919\r\n",
      "--------------------\r\n",
      "96\r\n",
      "mae 0.2272204 mse 0.12668954\r\n",
      "--------------------\r\n",
      "192\r\n",
      "mae 0.26487464 mse 0.16545981\r\n",
      "--------------------\r\n",
      "336\r\n",
      "mae 0.2954535 mse 0.19632812\r\n",
      "--------------------\r\n",
      "720\r\n",
      "mae 0.3296566 mse 0.22837819\r\n",
      "--------------------\r\n",
      "mae mean 0.2557072\r\n",
      "mse mean 0.15695697\r\n",
      "\r\n",
      "WAPE 0.16992985\r\n",
      "NRMSE 0.27452385\r\n",
      "WAPE 0.23963134\r\n",
      "NRMSE 0.37537614\r\n",
      "WAPE 0.2792589\r\n",
      "NRMSE 0.42885742\r\n",
      "WAPE 0.31156272\r\n",
      "NRMSE 0.46724817\r\n",
      "WAPE 0.35034215\r\n",
      "NRMSE 0.5078763\r\n",
      "WAPE mean 0.270145\r\n",
      "NRMSE mean 0.41077638\r\n",
      "\r\n",
      "CPU times: user 1.38 s, sys: 310 ms, total: 1.7 s\n",
      "Wall time: 1min 39s\n"
     ]
    }
   ],
   "source": [
    "%%time\n",
    "!python test_zeroshot.py --gpu 0 --batch_size 40 --mode tiny --data 'de_big' --uni 0 #de_big multivariate  model Tiny"
   ]
  },
  {
   "cell_type": "markdown",
   "id": "5f8462ca",
   "metadata": {
    "papermill": {
     "duration": 0.012105,
     "end_time": "2024-05-11T15:43:35.559125",
     "exception": false,
     "start_time": "2024-05-11T15:43:35.547020",
     "status": "completed"
    },
    "tags": []
   },
   "source": [
    "**Model Tiny finetune**"
   ]
  },
  {
   "cell_type": "code",
   "execution_count": 8,
   "id": "827c6916",
   "metadata": {
    "execution": {
     "iopub.execute_input": "2024-05-11T15:43:35.586820Z",
     "iopub.status.busy": "2024-05-11T15:43:35.586047Z",
     "iopub.status.idle": "2024-05-11T15:45:04.951741Z",
     "shell.execute_reply": "2024-05-11T15:45:04.950524Z"
    },
    "papermill": {
     "duration": 89.382403,
     "end_time": "2024-05-11T15:45:04.953772",
     "exception": false,
     "start_time": "2024-05-11T15:43:35.571369",
     "status": "completed"
    },
    "tags": []
   },
   "outputs": [
    {
     "name": "stdout",
     "output_type": "stream",
     "text": [
      "2024-05-11 15:43:37.316918: E external/local_xla/xla/stream_executor/cuda/cuda_dnn.cc:9261] Unable to register cuDNN factory: Attempting to register factory for plugin cuDNN when one has already been registered\r\n",
      "2024-05-11 15:43:37.316980: E external/local_xla/xla/stream_executor/cuda/cuda_fft.cc:607] Unable to register cuFFT factory: Attempting to register factory for plugin cuFFT when one has already been registered\r\n",
      "2024-05-11 15:43:37.318384: E external/local_xla/xla/stream_executor/cuda/cuda_blas.cc:1515] Unable to register cuBLAS factory: Attempting to register factory for plugin cuBLAS when one has already been registered\r\n",
      "freq: h\r\n",
      "Epoch 1/30\r\n",
      "WARNING: All log messages before absl::InitializeLog() is called are written to STDERR\r\n",
      "I0000 00:00:1715442235.029568    2230 device_compiler.h:186] Compiled cluster using XLA!  This line is logged at most once for the lifetime of the process.\r\n",
      "15/15 [==============================] - 14s 292ms/step - loss: 0.8788 - val_loss: 0.9277\r\n",
      "Epoch 2/30\r\n",
      "15/15 [==============================] - 2s 166ms/step - loss: 0.7848 - val_loss: 0.8835\r\n",
      "Epoch 3/30\r\n",
      "15/15 [==============================] - 2s 162ms/step - loss: 0.6905 - val_loss: 0.8348\r\n",
      "Epoch 4/30\r\n",
      "15/15 [==============================] - 2s 161ms/step - loss: 0.6047 - val_loss: 0.7985\r\n",
      "Epoch 5/30\r\n",
      "15/15 [==============================] - 2s 162ms/step - loss: 0.5227 - val_loss: 0.7643\r\n",
      "Epoch 6/30\r\n",
      "15/15 [==============================] - 3s 170ms/step - loss: 0.4616 - val_loss: 0.7340\r\n",
      "Epoch 7/30\r\n",
      "15/15 [==============================] - 2s 161ms/step - loss: 0.4197 - val_loss: 0.7115\r\n",
      "Epoch 8/30\r\n",
      "15/15 [==============================] - 2s 161ms/step - loss: 0.3879 - val_loss: 0.6979\r\n",
      "Epoch 9/30\r\n",
      "15/15 [==============================] - 2s 161ms/step - loss: 0.3542 - val_loss: 0.6793\r\n",
      "Epoch 10/30\r\n",
      "15/15 [==============================] - 2s 162ms/step - loss: 0.3353 - val_loss: 0.6596\r\n",
      "Epoch 11/30\r\n",
      "15/15 [==============================] - 2s 162ms/step - loss: 0.3296 - val_loss: 0.6448\r\n",
      "Epoch 12/30\r\n",
      "15/15 [==============================] - 2s 161ms/step - loss: 0.3151 - val_loss: 0.6259\r\n",
      "Epoch 13/30\r\n",
      "15/15 [==============================] - 2s 158ms/step - loss: 0.3009 - val_loss: 0.6141\r\n",
      "Epoch 14/30\r\n",
      "15/15 [==============================] - 2s 161ms/step - loss: 0.2931 - val_loss: 0.6029\r\n",
      "Epoch 15/30\r\n",
      "15/15 [==============================] - 2s 167ms/step - loss: 0.2833 - val_loss: 0.5883\r\n",
      "Epoch 16/30\r\n",
      "15/15 [==============================] - 2s 162ms/step - loss: 0.2707 - val_loss: 0.5801\r\n",
      "Epoch 17/30\r\n",
      "15/15 [==============================] - 2s 161ms/step - loss: 0.2698 - val_loss: 0.5713\r\n",
      "Epoch 18/30\r\n",
      "15/15 [==============================] - 2s 161ms/step - loss: 0.2560 - val_loss: 0.5578\r\n",
      "Epoch 19/30\r\n",
      "15/15 [==============================] - 2s 162ms/step - loss: 0.2444 - val_loss: 0.5520\r\n",
      "Epoch 20/30\r\n",
      "15/15 [==============================] - 2s 161ms/step - loss: 0.2396 - val_loss: 0.5381\r\n",
      "Epoch 21/30\r\n",
      "15/15 [==============================] - 2s 161ms/step - loss: 0.2313 - val_loss: 0.5290\r\n",
      "Epoch 22/30\r\n",
      "15/15 [==============================] - 2s 162ms/step - loss: 0.2315 - val_loss: 0.5222\r\n",
      "Epoch 23/30\r\n",
      "15/15 [==============================] - 2s 162ms/step - loss: 0.2214 - val_loss: 0.5101\r\n",
      "Epoch 24/30\r\n",
      "15/15 [==============================] - 2s 161ms/step - loss: 0.2123 - val_loss: 0.5032\r\n",
      "Epoch 25/30\r\n",
      "15/15 [==============================] - 2s 161ms/step - loss: 0.2081 - val_loss: 0.5031\r\n",
      "Epoch 26/30\r\n",
      "15/15 [==============================] - 2s 155ms/step - loss: 0.2074 - val_loss: 0.4881\r\n",
      "Epoch 27/30\r\n",
      "15/15 [==============================] - 2s 143ms/step - loss: 0.2017 - val_loss: 0.4864\r\n",
      "24\r\n",
      "mae 0.41297027 mse 0.30685622\r\n",
      "--------------------\r\n",
      "36\r\n",
      "mae 0.41783735 mse 0.3311809\r\n",
      "--------------------\r\n",
      "48\r\n",
      "mae 0.41637656 mse 0.33742136\r\n",
      "--------------------\r\n",
      "60\r\n",
      "mae 0.40269023 mse 0.31654495\r\n",
      "--------------------\r\n",
      "mae mean 0.4124686\r\n",
      "mse mean 0.32300085\r\n",
      "\r\n",
      "CPU times: user 1.5 s, sys: 331 ms, total: 1.83 s\n",
      "Wall time: 1min 29s\n"
     ]
    }
   ],
   "source": [
    "%%time\n",
    "!python test_finetune.py --gpu 0 --batch_size 40 --mode tiny --data 'de_small' --uni 1 # de_small univariate model Tiny"
   ]
  },
  {
   "cell_type": "code",
   "execution_count": 9,
   "id": "afdd0d42",
   "metadata": {
    "execution": {
     "iopub.execute_input": "2024-05-11T15:45:05.047536Z",
     "iopub.status.busy": "2024-05-11T15:45:05.047222Z",
     "iopub.status.idle": "2024-05-11T15:58:38.514165Z",
     "shell.execute_reply": "2024-05-11T15:58:38.512872Z"
    },
    "papermill": {
     "duration": 813.516108,
     "end_time": "2024-05-11T15:58:38.516303",
     "exception": false,
     "start_time": "2024-05-11T15:45:05.000195",
     "status": "completed"
    },
    "tags": []
   },
   "outputs": [
    {
     "name": "stdout",
     "output_type": "stream",
     "text": [
      "2024-05-11 15:45:06.779518: E external/local_xla/xla/stream_executor/cuda/cuda_dnn.cc:9261] Unable to register cuDNN factory: Attempting to register factory for plugin cuDNN when one has already been registered\r\n",
      "2024-05-11 15:45:06.779586: E external/local_xla/xla/stream_executor/cuda/cuda_fft.cc:607] Unable to register cuFFT factory: Attempting to register factory for plugin cuFFT when one has already been registered\r\n",
      "2024-05-11 15:45:06.781109: E external/local_xla/xla/stream_executor/cuda/cuda_blas.cc:1515] Unable to register cuBLAS factory: Attempting to register factory for plugin cuBLAS when one has already been registered\r\n",
      "freq: h\r\n",
      "Epoch 1/30\r\n",
      "WARNING: All log messages before absl::InitializeLog() is called are written to STDERR\r\n",
      "I0000 00:00:1715442324.486664    3002 device_compiler.h:186] Compiled cluster using XLA!  This line is logged at most once for the lifetime of the process.\r\n",
      "213/213 [==============================] - 43s 157ms/step - loss: 0.4979 - val_loss: 0.2795\r\n",
      "Epoch 2/30\r\n",
      "213/213 [==============================] - 32s 149ms/step - loss: 0.3415 - val_loss: 0.2484\r\n",
      "Epoch 3/30\r\n",
      "213/213 [==============================] - 32s 148ms/step - loss: 0.3130 - val_loss: 0.2337\r\n",
      "Epoch 4/30\r\n",
      "213/213 [==============================] - 32s 149ms/step - loss: 0.2938 - val_loss: 0.2266\r\n",
      "Epoch 5/30\r\n",
      "213/213 [==============================] - 31s 148ms/step - loss: 0.2833 - val_loss: 0.2238\r\n",
      "Epoch 6/30\r\n",
      "213/213 [==============================] - 32s 148ms/step - loss: 0.2760 - val_loss: 0.2207\r\n",
      "Epoch 7/30\r\n",
      "213/213 [==============================] - 32s 148ms/step - loss: 0.2694 - val_loss: 0.2161\r\n",
      "Epoch 8/30\r\n",
      "213/213 [==============================] - 32s 148ms/step - loss: 0.2622 - val_loss: 0.2143\r\n",
      "Epoch 9/30\r\n",
      "213/213 [==============================] - 31s 148ms/step - loss: 0.2585 - val_loss: 0.2129\r\n",
      "Epoch 10/30\r\n",
      "213/213 [==============================] - 32s 148ms/step - loss: 0.2561 - val_loss: 0.2096\r\n",
      "Epoch 11/30\r\n",
      "213/213 [==============================] - 31s 147ms/step - loss: 0.2529 - val_loss: 0.2104\r\n",
      "Epoch 12/30\r\n",
      "213/213 [==============================] - 31s 147ms/step - loss: 0.2484 - val_loss: 0.2102\r\n",
      "Epoch 13/30\r\n",
      "213/213 [==============================] - 31s 148ms/step - loss: 0.2469 - val_loss: 0.2092\r\n",
      "Epoch 14/30\r\n",
      "213/213 [==============================] - 31s 148ms/step - loss: 0.2448 - val_loss: 0.2073\r\n",
      "Epoch 15/30\r\n",
      "213/213 [==============================] - 31s 147ms/step - loss: 0.2441 - val_loss: 0.2077\r\n",
      "Epoch 16/30\r\n",
      "213/213 [==============================] - 32s 149ms/step - loss: 0.2398 - val_loss: 0.2066\r\n",
      "Epoch 17/30\r\n",
      "213/213 [==============================] - 31s 148ms/step - loss: 0.2394 - val_loss: 0.2068\r\n",
      "Epoch 18/30\r\n",
      "213/213 [==============================] - 31s 148ms/step - loss: 0.2388 - val_loss: 0.2069\r\n",
      "Epoch 19/30\r\n",
      "213/213 [==============================] - 32s 149ms/step - loss: 0.2373 - val_loss: 0.2054\r\n",
      "Epoch 20/30\r\n",
      "213/213 [==============================] - 31s 148ms/step - loss: 0.2352 - val_loss: 0.2064\r\n",
      "Epoch 21/30\r\n",
      "213/213 [==============================] - 31s 147ms/step - loss: 0.2339 - val_loss: 0.2068\r\n",
      "Epoch 22/30\r\n",
      "213/213 [==============================] - 32s 149ms/step - loss: 0.2341 - val_loss: 0.2053\r\n",
      "Epoch 23/30\r\n",
      "213/213 [==============================] - 31s 148ms/step - loss: 0.2334 - val_loss: 0.2056\r\n",
      "Epoch 24/30\r\n",
      "213/213 [==============================] - 31s 147ms/step - loss: 0.2313 - val_loss: 0.2055\r\n",
      "Epoch 25/30\r\n",
      "213/213 [==============================] - 29s 134ms/step - loss: 0.2301 - val_loss: 0.2048\r\n",
      "24\r\n",
      "mae 0.12683338 mse 0.043085027\r\n",
      "--------------------\r\n",
      "96\r\n",
      "mae 0.19197102 mse 0.08951426\r\n",
      "--------------------\r\n",
      "192\r\n",
      "mae 0.23209338 mse 0.12710434\r\n",
      "--------------------\r\n",
      "336\r\n",
      "mae 0.26477322 mse 0.16292946\r\n",
      "--------------------\r\n",
      "720\r\n",
      "mae 0.29716432 mse 0.20095989\r\n",
      "--------------------\r\n",
      "mae mean 0.22256705\r\n",
      "mse mean 0.12471859\r\n",
      "\r\n",
      "CPU times: user 13.2 s, sys: 3 s, total: 16.2 s\n",
      "Wall time: 13min 33s\n"
     ]
    }
   ],
   "source": [
    "%%time\n",
    "!python test_finetune.py --gpu 0 --batch_size 40 --mode tiny --data 'de_big' --uni 1 # de_big univariate model Tiny"
   ]
  },
  {
   "cell_type": "code",
   "execution_count": 10,
   "id": "da34033d",
   "metadata": {
    "execution": {
     "iopub.execute_input": "2024-05-11T15:58:39.496219Z",
     "iopub.status.busy": "2024-05-11T15:58:39.495335Z",
     "iopub.status.idle": "2024-05-11T16:00:07.619172Z",
     "shell.execute_reply": "2024-05-11T16:00:07.617867Z"
    },
    "papermill": {
     "duration": 88.590925,
     "end_time": "2024-05-11T16:00:07.621216",
     "exception": false,
     "start_time": "2024-05-11T15:58:39.030291",
     "status": "completed"
    },
    "tags": []
   },
   "outputs": [
    {
     "name": "stdout",
     "output_type": "stream",
     "text": [
      "2024-05-11 15:58:41.257780: E external/local_xla/xla/stream_executor/cuda/cuda_dnn.cc:9261] Unable to register cuDNN factory: Attempting to register factory for plugin cuDNN when one has already been registered\r\n",
      "2024-05-11 15:58:41.257836: E external/local_xla/xla/stream_executor/cuda/cuda_fft.cc:607] Unable to register cuFFT factory: Attempting to register factory for plugin cuFFT when one has already been registered\r\n",
      "2024-05-11 15:58:41.259315: E external/local_xla/xla/stream_executor/cuda/cuda_blas.cc:1515] Unable to register cuBLAS factory: Attempting to register factory for plugin cuBLAS when one has already been registered\r\n",
      "freq: h\r\n",
      "Epoch 1/30\r\n",
      "WARNING: All log messages before absl::InitializeLog() is called are written to STDERR\r\n",
      "I0000 00:00:1715443138.550607    3742 device_compiler.h:186] Compiled cluster using XLA!  This line is logged at most once for the lifetime of the process.\r\n",
      "15/15 [==============================] - 13s 291ms/step - loss: 0.8486 - val_loss: 0.8620\r\n",
      "Epoch 2/30\r\n",
      "15/15 [==============================] - 2s 161ms/step - loss: 0.7523 - val_loss: 0.8147\r\n",
      "Epoch 3/30\r\n",
      "15/15 [==============================] - 2s 161ms/step - loss: 0.6705 - val_loss: 0.7688\r\n",
      "Epoch 4/30\r\n",
      "15/15 [==============================] - 2s 160ms/step - loss: 0.5874 - val_loss: 0.7302\r\n",
      "Epoch 5/30\r\n",
      "15/15 [==============================] - 2s 161ms/step - loss: 0.5208 - val_loss: 0.6942\r\n",
      "Epoch 6/30\r\n",
      "15/15 [==============================] - 2s 164ms/step - loss: 0.4678 - val_loss: 0.6664\r\n",
      "Epoch 7/30\r\n",
      "15/15 [==============================] - 2s 160ms/step - loss: 0.4346 - val_loss: 0.6468\r\n",
      "Epoch 8/30\r\n",
      "15/15 [==============================] - 2s 160ms/step - loss: 0.4100 - val_loss: 0.6278\r\n",
      "Epoch 9/30\r\n",
      "15/15 [==============================] - 2s 160ms/step - loss: 0.3859 - val_loss: 0.6167\r\n",
      "Epoch 10/30\r\n",
      "15/15 [==============================] - 2s 160ms/step - loss: 0.3782 - val_loss: 0.5997\r\n",
      "Epoch 11/30\r\n",
      "15/15 [==============================] - 2s 160ms/step - loss: 0.3624 - val_loss: 0.5934\r\n",
      "Epoch 12/30\r\n",
      "15/15 [==============================] - 2s 160ms/step - loss: 0.3527 - val_loss: 0.5787\r\n",
      "Epoch 13/30\r\n",
      "15/15 [==============================] - 2s 158ms/step - loss: 0.3453 - val_loss: 0.5697\r\n",
      "Epoch 14/30\r\n",
      "15/15 [==============================] - 2s 162ms/step - loss: 0.3357 - val_loss: 0.5577\r\n",
      "Epoch 15/30\r\n",
      "15/15 [==============================] - 2s 162ms/step - loss: 0.3265 - val_loss: 0.5505\r\n",
      "Epoch 16/30\r\n",
      "15/15 [==============================] - 2s 161ms/step - loss: 0.3187 - val_loss: 0.5424\r\n",
      "Epoch 17/30\r\n",
      "15/15 [==============================] - 2s 161ms/step - loss: 0.3170 - val_loss: 0.5353\r\n",
      "Epoch 18/30\r\n",
      "15/15 [==============================] - 2s 161ms/step - loss: 0.3004 - val_loss: 0.5250\r\n",
      "Epoch 19/30\r\n",
      "15/15 [==============================] - 2s 163ms/step - loss: 0.3009 - val_loss: 0.5190\r\n",
      "Epoch 20/30\r\n",
      "15/15 [==============================] - 2s 161ms/step - loss: 0.2923 - val_loss: 0.5098\r\n",
      "Epoch 21/30\r\n",
      "15/15 [==============================] - 2s 160ms/step - loss: 0.2863 - val_loss: 0.5024\r\n",
      "Epoch 22/30\r\n",
      "15/15 [==============================] - 2s 160ms/step - loss: 0.2841 - val_loss: 0.4991\r\n",
      "Epoch 23/30\r\n",
      "15/15 [==============================] - 2s 160ms/step - loss: 0.2745 - val_loss: 0.4961\r\n",
      "Epoch 24/30\r\n",
      "15/15 [==============================] - 2s 160ms/step - loss: 0.2726 - val_loss: 0.4845\r\n",
      "Epoch 25/30\r\n",
      "15/15 [==============================] - 2s 146ms/step - loss: 0.2669 - val_loss: 0.4849\r\n",
      "Epoch 26/30\r\n",
      "15/15 [==============================] - 2s 156ms/step - loss: 0.2670 - val_loss: 0.4798\r\n",
      "Epoch 27/30\r\n",
      "15/15 [==============================] - 2s 142ms/step - loss: 0.2617 - val_loss: 0.4767\r\n",
      "24\r\n",
      "mae 0.5240934 mse 0.44003084\r\n",
      "--------------------\r\n",
      "36\r\n",
      "mae 0.52030706 mse 0.46488705\r\n",
      "--------------------\r\n",
      "48\r\n",
      "mae 0.5030565 mse 0.45053345\r\n",
      "--------------------\r\n",
      "60\r\n",
      "mae 0.4814421 mse 0.42090037\r\n",
      "--------------------\r\n",
      "mae mean 0.5072248\r\n",
      "mse mean 0.44408792\r\n",
      "\r\n",
      "CPU times: user 1.3 s, sys: 325 ms, total: 1.62 s\n",
      "Wall time: 1min 28s\n"
     ]
    }
   ],
   "source": [
    "%%time\n",
    "!python test_finetune.py --gpu 0 --batch_size 40 --mode tiny --data 'de_small' --uni 0 # de_small multivariate  model Tiny"
   ]
  },
  {
   "cell_type": "code",
   "execution_count": 11,
   "id": "22f78a69",
   "metadata": {
    "execution": {
     "iopub.execute_input": "2024-05-11T16:00:08.665915Z",
     "iopub.status.busy": "2024-05-11T16:00:08.665520Z",
     "iopub.status.idle": "2024-05-11T16:10:41.770834Z",
     "shell.execute_reply": "2024-05-11T16:10:41.769463Z"
    },
    "papermill": {
     "duration": 633.65204,
     "end_time": "2024-05-11T16:10:41.773124",
     "exception": false,
     "start_time": "2024-05-11T16:00:08.121084",
     "status": "completed"
    },
    "tags": []
   },
   "outputs": [
    {
     "name": "stdout",
     "output_type": "stream",
     "text": [
      "2024-05-11 16:00:10.381333: E external/local_xla/xla/stream_executor/cuda/cuda_dnn.cc:9261] Unable to register cuDNN factory: Attempting to register factory for plugin cuDNN when one has already been registered\r\n",
      "2024-05-11 16:00:10.381387: E external/local_xla/xla/stream_executor/cuda/cuda_fft.cc:607] Unable to register cuFFT factory: Attempting to register factory for plugin cuFFT when one has already been registered\r\n",
      "2024-05-11 16:00:10.382824: E external/local_xla/xla/stream_executor/cuda/cuda_blas.cc:1515] Unable to register cuBLAS factory: Attempting to register factory for plugin cuBLAS when one has already been registered\r\n",
      "freq: h\r\n",
      "Epoch 1/30\r\n",
      "WARNING: All log messages before absl::InitializeLog() is called are written to STDERR\r\n",
      "I0000 00:00:1715443228.030113    4513 device_compiler.h:186] Compiled cluster using XLA!  This line is logged at most once for the lifetime of the process.\r\n",
      "213/213 [==============================] - 43s 158ms/step - loss: 0.5033 - val_loss: 0.2976\r\n",
      "Epoch 2/30\r\n",
      "213/213 [==============================] - 32s 150ms/step - loss: 0.3610 - val_loss: 0.2701\r\n",
      "Epoch 3/30\r\n",
      "213/213 [==============================] - 32s 149ms/step - loss: 0.3356 - val_loss: 0.2573\r\n",
      "Epoch 4/30\r\n",
      "213/213 [==============================] - 32s 149ms/step - loss: 0.3205 - val_loss: 0.2499\r\n",
      "Epoch 5/30\r\n",
      "213/213 [==============================] - 31s 148ms/step - loss: 0.3110 - val_loss: 0.2503\r\n",
      "Epoch 6/30\r\n",
      "213/213 [==============================] - 32s 149ms/step - loss: 0.3040 - val_loss: 0.2439\r\n",
      "Epoch 7/30\r\n",
      "213/213 [==============================] - 32s 150ms/step - loss: 0.2997 - val_loss: 0.2432\r\n",
      "Epoch 8/30\r\n",
      "213/213 [==============================] - 32s 149ms/step - loss: 0.2947 - val_loss: 0.2378\r\n",
      "Epoch 9/30\r\n",
      "213/213 [==============================] - 31s 148ms/step - loss: 0.2914 - val_loss: 0.2397\r\n",
      "Epoch 10/30\r\n",
      "213/213 [==============================] - 32s 149ms/step - loss: 0.2886 - val_loss: 0.2375\r\n",
      "Epoch 11/30\r\n",
      "213/213 [==============================] - 32s 150ms/step - loss: 0.2869 - val_loss: 0.2369\r\n",
      "Epoch 12/30\r\n",
      "213/213 [==============================] - 32s 150ms/step - loss: 0.2845 - val_loss: 0.2333\r\n",
      "Epoch 13/30\r\n",
      "213/213 [==============================] - 32s 148ms/step - loss: 0.2829 - val_loss: 0.2338\r\n",
      "Epoch 14/30\r\n",
      "213/213 [==============================] - 32s 150ms/step - loss: 0.2801 - val_loss: 0.2327\r\n",
      "Epoch 15/30\r\n",
      "213/213 [==============================] - 32s 150ms/step - loss: 0.2799 - val_loss: 0.2318\r\n",
      "Epoch 16/30\r\n",
      "213/213 [==============================] - 32s 150ms/step - loss: 0.2784 - val_loss: 0.2285\r\n",
      "Epoch 17/30\r\n",
      "213/213 [==============================] - 32s 149ms/step - loss: 0.2770 - val_loss: 0.2317\r\n",
      "Epoch 18/30\r\n",
      "213/213 [==============================] - 32s 150ms/step - loss: 0.2753 - val_loss: 0.2299\r\n",
      "Epoch 19/30\r\n",
      "213/213 [==============================] - 32s 150ms/step - loss: 0.2752 - val_loss: 0.2295\r\n",
      "24\r\n",
      "mae 0.13816862 mse 0.054687146\r\n",
      "--------------------\r\n",
      "96\r\n",
      "mae 0.20250522 mse 0.10429557\r\n",
      "--------------------\r\n",
      "192\r\n",
      "mae 0.2407684 mse 0.14026259\r\n",
      "--------------------\r\n",
      "336\r\n",
      "mae 0.2720428 mse 0.17381749\r\n",
      "--------------------\r\n",
      "720\r\n",
      "mae 0.30955198 mse 0.21409214\r\n",
      "--------------------\r\n",
      "mae mean 0.23260741\r\n",
      "mse mean 0.13743098\r\n",
      "\r\n",
      "CPU times: user 10.4 s, sys: 2.33 s, total: 12.7 s\n",
      "Wall time: 10min 33s\n"
     ]
    }
   ],
   "source": [
    "%%time\n",
    "!python test_finetune.py --gpu 0 --batch_size 40 --mode tiny --data 'de_big' --uni 0 # de_big univariate  model Tiny"
   ]
  },
  {
   "cell_type": "markdown",
   "id": "e85a6f20",
   "metadata": {
    "papermill": {
     "duration": 0.819671,
     "end_time": "2024-05-11T16:10:43.491327",
     "exception": false,
     "start_time": "2024-05-11T16:10:42.671656",
     "status": "completed"
    },
    "tags": []
   },
   "source": [
    "**Model Small zero-shot**"
   ]
  },
  {
   "cell_type": "code",
   "execution_count": 12,
   "id": "7cae622d",
   "metadata": {
    "execution": {
     "iopub.execute_input": "2024-05-11T16:10:45.189132Z",
     "iopub.status.busy": "2024-05-11T16:10:45.188756Z",
     "iopub.status.idle": "2024-05-11T16:10:58.908300Z",
     "shell.execute_reply": "2024-05-11T16:10:58.907037Z"
    },
    "papermill": {
     "duration": 14.594713,
     "end_time": "2024-05-11T16:10:58.910421",
     "exception": false,
     "start_time": "2024-05-11T16:10:44.315708",
     "status": "completed"
    },
    "tags": []
   },
   "outputs": [
    {
     "name": "stdout",
     "output_type": "stream",
     "text": [
      "2024-05-11 16:10:46.935578: E external/local_xla/xla/stream_executor/cuda/cuda_dnn.cc:9261] Unable to register cuDNN factory: Attempting to register factory for plugin cuDNN when one has already been registered\r\n",
      "2024-05-11 16:10:46.935633: E external/local_xla/xla/stream_executor/cuda/cuda_fft.cc:607] Unable to register cuFFT factory: Attempting to register factory for plugin cuFFT when one has already been registered\r\n",
      "2024-05-11 16:10:46.937095: E external/local_xla/xla/stream_executor/cuda/cuda_blas.cc:1515] Unable to register cuBLAS factory: Attempting to register factory for plugin cuBLAS when one has already been registered\r\n",
      "freq: h\r\n",
      "0 / 60\r\n",
      "24\r\n",
      "mae 0.24651831 mse 0.16312827\r\n",
      "--------------------\r\n",
      "36\r\n",
      "mae 0.29513946 mse 0.22493334\r\n",
      "--------------------\r\n",
      "48\r\n",
      "mae 0.32564282 mse 0.2610406\r\n",
      "--------------------\r\n",
      "60\r\n",
      "mae 0.35409927 mse 0.29038534\r\n",
      "--------------------\r\n",
      "mae mean 0.30534998\r\n",
      "mse mean 0.2348719\r\n",
      "\r\n",
      "WAPE 0.25765085\r\n",
      "NRMSE 0.42213076\r\n",
      "WAPE 0.30849662\r\n",
      "NRMSE 0.49573553\r\n",
      "WAPE 0.34294692\r\n",
      "NRMSE 0.5380708\r\n",
      "WAPE 0.37589666\r\n",
      "NRMSE 0.5720458\r\n",
      "WAPE mean 0.32124776\r\n",
      "NRMSE mean 0.50699574\r\n",
      "\r\n",
      "CPU times: user 204 ms, sys: 39 ms, total: 243 ms\n",
      "Wall time: 13.7 s\n"
     ]
    }
   ],
   "source": [
    "%%time\n",
    "!python test_zeroshot.py --gpu 0 --batch_size 40 --mode small --data 'de_small' --uni 1 #de_small univariate model Small"
   ]
  },
  {
   "cell_type": "code",
   "execution_count": 13,
   "id": "4272d774",
   "metadata": {
    "execution": {
     "iopub.execute_input": "2024-05-11T16:11:00.625464Z",
     "iopub.status.busy": "2024-05-11T16:11:00.625015Z",
     "iopub.status.idle": "2024-05-11T16:13:14.768865Z",
     "shell.execute_reply": "2024-05-11T16:13:14.767586Z"
    },
    "papermill": {
     "duration": 135.03655,
     "end_time": "2024-05-11T16:13:14.770922",
     "exception": false,
     "start_time": "2024-05-11T16:10:59.734372",
     "status": "completed"
    },
    "tags": []
   },
   "outputs": [
    {
     "name": "stdout",
     "output_type": "stream",
     "text": [
      "2024-05-11 16:11:02.405494: E external/local_xla/xla/stream_executor/cuda/cuda_dnn.cc:9261] Unable to register cuDNN factory: Attempting to register factory for plugin cuDNN when one has already been registered\r\n",
      "2024-05-11 16:11:02.405572: E external/local_xla/xla/stream_executor/cuda/cuda_fft.cc:607] Unable to register cuFFT factory: Attempting to register factory for plugin cuFFT when one has already been registered\r\n",
      "2024-05-11 16:11:02.406976: E external/local_xla/xla/stream_executor/cuda/cuda_blas.cc:1515] Unable to register cuBLAS factory: Attempting to register factory for plugin cuBLAS when one has already been registered\r\n",
      "freq: h\r\n",
      "0 / 720\r\n",
      "64 / 720\r\n",
      "128 / 720\r\n",
      "192 / 720\r\n",
      "256 / 720\r\n",
      "320 / 720\r\n",
      "384 / 720\r\n",
      "448 / 720\r\n",
      "512 / 720\r\n",
      "576 / 720\r\n",
      "640 / 720\r\n",
      "704 / 720\r\n",
      "24\r\n",
      "mae 0.15008064 mse 0.048791766\r\n",
      "--------------------\r\n",
      "96\r\n",
      "mae 0.22099164 mse 0.10277237\r\n",
      "--------------------\r\n",
      "192\r\n",
      "mae 0.26601985 mse 0.14660423\r\n",
      "--------------------\r\n",
      "336\r\n",
      "mae 0.32065523 mse 0.20465796\r\n",
      "--------------------\r\n",
      "720\r\n",
      "mae 0.4166869 mse 0.3180078\r\n",
      "--------------------\r\n",
      "mae mean 0.27488685\r\n",
      "mse mean 0.16416684\r\n",
      "\r\n",
      "WAPE 0.16329157\r\n",
      "NRMSE 0.24033242\r\n",
      "WAPE 0.2408799\r\n",
      "NRMSE 0.34943217\r\n",
      "WAPE 0.2900003\r\n",
      "NRMSE 0.41740498\r\n",
      "WAPE 0.34960377\r\n",
      "NRMSE 0.49323297\r\n",
      "WAPE 0.4577625\r\n",
      "NRMSE 0.61951137\r\n",
      "WAPE mean 0.3003076\r\n",
      "NRMSE mean 0.4239828\r\n",
      "\r\n",
      "CPU times: user 1.98 s, sys: 449 ms, total: 2.43 s\n",
      "Wall time: 2min 14s\n"
     ]
    }
   ],
   "source": [
    "%%time\n",
    "!python test_zeroshot.py --gpu 0 --batch_size 40 --mode small --data 'de_big' --uni 1 #de_big univariate model Small"
   ]
  },
  {
   "cell_type": "code",
   "execution_count": 14,
   "id": "b3ce0c06",
   "metadata": {
    "execution": {
     "iopub.execute_input": "2024-05-11T16:13:16.465039Z",
     "iopub.status.busy": "2024-05-11T16:13:16.464686Z",
     "iopub.status.idle": "2024-05-11T16:13:30.096773Z",
     "shell.execute_reply": "2024-05-11T16:13:30.095536Z"
    },
    "papermill": {
     "duration": 14.510513,
     "end_time": "2024-05-11T16:13:30.099016",
     "exception": false,
     "start_time": "2024-05-11T16:13:15.588503",
     "status": "completed"
    },
    "tags": []
   },
   "outputs": [
    {
     "name": "stdout",
     "output_type": "stream",
     "text": [
      "2024-05-11 16:13:18.220868: E external/local_xla/xla/stream_executor/cuda/cuda_dnn.cc:9261] Unable to register cuDNN factory: Attempting to register factory for plugin cuDNN when one has already been registered\r\n",
      "2024-05-11 16:13:18.220925: E external/local_xla/xla/stream_executor/cuda/cuda_fft.cc:607] Unable to register cuFFT factory: Attempting to register factory for plugin cuFFT when one has already been registered\r\n",
      "2024-05-11 16:13:18.222374: E external/local_xla/xla/stream_executor/cuda/cuda_blas.cc:1515] Unable to register cuBLAS factory: Attempting to register factory for plugin cuBLAS when one has already been registered\r\n",
      "freq: h\r\n",
      "0 / 60\r\n",
      "24\r\n",
      "mae 0.24849576 mse 0.15945953\r\n",
      "--------------------\r\n",
      "36\r\n",
      "mae 0.29442617 mse 0.21850686\r\n",
      "--------------------\r\n",
      "48\r\n",
      "mae 0.32414094 mse 0.25376657\r\n",
      "--------------------\r\n",
      "60\r\n",
      "mae 0.35095605 mse 0.28208467\r\n",
      "--------------------\r\n",
      "mae mean 0.30450472\r\n",
      "mse mean 0.22845441\r\n",
      "\r\n",
      "WAPE 0.25992852\r\n",
      "NRMSE 0.4176959\r\n",
      "WAPE 0.30801567\r\n",
      "NRMSE 0.4890226\r\n",
      "WAPE 0.3417632\r\n",
      "NRMSE 0.5311395\r\n",
      "WAPE 0.37325698\r\n",
      "NRMSE 0.56486535\r\n",
      "WAPE mean 0.3207411\r\n",
      "NRMSE mean 0.5006808\r\n",
      "\r\n",
      "CPU times: user 194 ms, sys: 49.1 ms, total: 243 ms\n",
      "Wall time: 13.6 s\n"
     ]
    }
   ],
   "source": [
    "%%time\n",
    "!python test_zeroshot.py --gpu 0 --batch_size 40 --mode small --data 'de_small' --uni 0 #de_big multivariate model Small"
   ]
  },
  {
   "cell_type": "code",
   "execution_count": 15,
   "id": "59854622",
   "metadata": {
    "execution": {
     "iopub.execute_input": "2024-05-11T16:13:31.804148Z",
     "iopub.status.busy": "2024-05-11T16:13:31.803354Z",
     "iopub.status.idle": "2024-05-11T16:15:42.747434Z",
     "shell.execute_reply": "2024-05-11T16:15:42.746219Z"
    },
    "papermill": {
     "duration": 131.819354,
     "end_time": "2024-05-11T16:15:42.749570",
     "exception": false,
     "start_time": "2024-05-11T16:13:30.930216",
     "status": "completed"
    },
    "tags": []
   },
   "outputs": [
    {
     "name": "stdout",
     "output_type": "stream",
     "text": [
      "2024-05-11 16:13:33.556223: E external/local_xla/xla/stream_executor/cuda/cuda_dnn.cc:9261] Unable to register cuDNN factory: Attempting to register factory for plugin cuDNN when one has already been registered\r\n",
      "2024-05-11 16:13:33.556276: E external/local_xla/xla/stream_executor/cuda/cuda_fft.cc:607] Unable to register cuFFT factory: Attempting to register factory for plugin cuFFT when one has already been registered\r\n",
      "2024-05-11 16:13:33.557651: E external/local_xla/xla/stream_executor/cuda/cuda_blas.cc:1515] Unable to register cuBLAS factory: Attempting to register factory for plugin cuBLAS when one has already been registered\r\n",
      "freq: h\r\n",
      "0 / 720\r\n",
      "64 / 720\r\n",
      "128 / 720\r\n",
      "192 / 720\r\n",
      "256 / 720\r\n",
      "320 / 720\r\n",
      "384 / 720\r\n",
      "448 / 720\r\n",
      "512 / 720\r\n",
      "576 / 720\r\n",
      "640 / 720\r\n",
      "704 / 720\r\n",
      "24\r\n",
      "mae 0.16595931 mse 0.06633434\r\n",
      "--------------------\r\n",
      "96\r\n",
      "mae 0.23491153 mse 0.1248725\r\n",
      "--------------------\r\n",
      "192\r\n",
      "mae 0.27732837 mse 0.16536638\r\n",
      "--------------------\r\n",
      "336\r\n",
      "mae 0.32748437 mse 0.21855478\r\n",
      "--------------------\r\n",
      "720\r\n",
      "mae 0.40992165 mse 0.31669202\r\n",
      "--------------------\r\n",
      "mae mean 0.28312105\r\n",
      "mse mean 0.17836401\r\n",
      "\r\n",
      "WAPE 0.17480485\r\n",
      "NRMSE 0.27128205\r\n",
      "WAPE 0.24774256\r\n",
      "NRMSE 0.3726745\r\n",
      "WAPE 0.29238895\r\n",
      "NRMSE 0.42873633\r\n",
      "WAPE 0.34534004\r\n",
      "NRMSE 0.4929882\r\n",
      "WAPE 0.43564373\r\n",
      "NRMSE 0.59806615\r\n",
      "WAPE mean 0.29918402\r\n",
      "NRMSE mean 0.43274945\r\n",
      "\r\n",
      "CPU times: user 1.61 s, sys: 388 ms, total: 2 s\n",
      "Wall time: 2min 10s\n"
     ]
    }
   ],
   "source": [
    "%%time\n",
    "!python test_zeroshot.py --gpu 0 --batch_size 40 --mode small --data 'de_big' --uni 0 #de_small multivariate model Small"
   ]
  },
  {
   "cell_type": "markdown",
   "id": "e88a3cba",
   "metadata": {
    "papermill": {
     "duration": 0.866511,
     "end_time": "2024-05-11T16:15:44.434682",
     "exception": false,
     "start_time": "2024-05-11T16:15:43.568171",
     "status": "completed"
    },
    "tags": []
   },
   "source": [
    "**Model Small finetune**"
   ]
  },
  {
   "cell_type": "code",
   "execution_count": 16,
   "id": "7c2dbefa",
   "metadata": {
    "execution": {
     "iopub.execute_input": "2024-05-11T16:15:46.191535Z",
     "iopub.status.busy": "2024-05-11T16:15:46.190594Z",
     "iopub.status.idle": "2024-05-11T16:18:23.957719Z",
     "shell.execute_reply": "2024-05-11T16:18:23.956343Z"
    },
    "papermill": {
     "duration": 158.665267,
     "end_time": "2024-05-11T16:18:23.959753",
     "exception": false,
     "start_time": "2024-05-11T16:15:45.294486",
     "status": "completed"
    },
    "tags": []
   },
   "outputs": [
    {
     "name": "stdout",
     "output_type": "stream",
     "text": [
      "2024-05-11 16:15:47.946168: E external/local_xla/xla/stream_executor/cuda/cuda_dnn.cc:9261] Unable to register cuDNN factory: Attempting to register factory for plugin cuDNN when one has already been registered\r\n",
      "2024-05-11 16:15:47.946231: E external/local_xla/xla/stream_executor/cuda/cuda_fft.cc:607] Unable to register cuFFT factory: Attempting to register factory for plugin cuFFT when one has already been registered\r\n",
      "2024-05-11 16:15:47.947696: E external/local_xla/xla/stream_executor/cuda/cuda_blas.cc:1515] Unable to register cuBLAS factory: Attempting to register factory for plugin cuBLAS when one has already been registered\r\n",
      "freq: h\r\n",
      "Epoch 1/30\r\n",
      "WARNING: All log messages before absl::InitializeLog() is called are written to STDERR\r\n",
      "I0000 00:00:1715444169.507106    7265 device_compiler.h:186] Compiled cluster using XLA!  This line is logged at most once for the lifetime of the process.\r\n",
      "15/15 [==============================] - 20s 498ms/step - loss: 0.8955 - val_loss: 0.9516\r\n",
      "Epoch 2/30\r\n",
      "15/15 [==============================] - 5s 323ms/step - loss: 0.8550 - val_loss: 0.9310\r\n",
      "Epoch 3/30\r\n",
      "15/15 [==============================] - 5s 321ms/step - loss: 0.8192 - val_loss: 0.9062\r\n",
      "Epoch 4/30\r\n",
      "15/15 [==============================] - 5s 320ms/step - loss: 0.7758 - val_loss: 0.8839\r\n",
      "Epoch 5/30\r\n",
      "15/15 [==============================] - 5s 323ms/step - loss: 0.7366 - val_loss: 0.8553\r\n",
      "Epoch 6/30\r\n",
      "15/15 [==============================] - 5s 320ms/step - loss: 0.6908 - val_loss: 0.8305\r\n",
      "Epoch 7/30\r\n",
      "15/15 [==============================] - 5s 321ms/step - loss: 0.6516 - val_loss: 0.8065\r\n",
      "Epoch 8/30\r\n",
      "15/15 [==============================] - 5s 322ms/step - loss: 0.6087 - val_loss: 0.7810\r\n",
      "Epoch 9/30\r\n",
      "15/15 [==============================] - 5s 321ms/step - loss: 0.5687 - val_loss: 0.7547\r\n",
      "Epoch 10/30\r\n",
      "15/15 [==============================] - 5s 322ms/step - loss: 0.5268 - val_loss: 0.7272\r\n",
      "Epoch 11/30\r\n",
      "15/15 [==============================] - 5s 326ms/step - loss: 0.4871 - val_loss: 0.7047\r\n",
      "Epoch 12/30\r\n",
      "15/15 [==============================] - 5s 322ms/step - loss: 0.4524 - val_loss: 0.6810\r\n",
      "Epoch 13/30\r\n",
      "15/15 [==============================] - 5s 311ms/step - loss: 0.4135 - val_loss: 0.6610\r\n",
      "Epoch 14/30\r\n",
      "15/15 [==============================] - 5s 320ms/step - loss: 0.3776 - val_loss: 0.6437\r\n",
      "Epoch 15/30\r\n",
      "15/15 [==============================] - 5s 320ms/step - loss: 0.3600 - val_loss: 0.6288\r\n",
      "Epoch 16/30\r\n",
      "15/15 [==============================] - 5s 320ms/step - loss: 0.3270 - val_loss: 0.6134\r\n",
      "Epoch 17/30\r\n",
      "15/15 [==============================] - 5s 320ms/step - loss: 0.3029 - val_loss: 0.5975\r\n",
      "Epoch 18/30\r\n",
      "15/15 [==============================] - 4s 297ms/step - loss: 0.2944 - val_loss: 0.5975\r\n",
      "Epoch 19/30\r\n",
      "15/15 [==============================] - 5s 321ms/step - loss: 0.2747 - val_loss: 0.5826\r\n",
      "Epoch 20/30\r\n",
      "15/15 [==============================] - 5s 335ms/step - loss: 0.2672 - val_loss: 0.5802\r\n",
      "Epoch 21/30\r\n",
      "15/15 [==============================] - 5s 322ms/step - loss: 0.2592 - val_loss: 0.5777\r\n",
      "Epoch 22/30\r\n",
      "15/15 [==============================] - 5s 335ms/step - loss: 0.2514 - val_loss: 0.5708\r\n",
      "Epoch 23/30\r\n",
      "15/15 [==============================] - 5s 322ms/step - loss: 0.2406 - val_loss: 0.5648\r\n",
      "Epoch 24/30\r\n",
      "15/15 [==============================] - 4s 295ms/step - loss: 0.2342 - val_loss: 0.5677\r\n",
      "Epoch 25/30\r\n",
      "15/15 [==============================] - 5s 325ms/step - loss: 0.2313 - val_loss: 0.5632\r\n",
      "Epoch 26/30\r\n",
      "15/15 [==============================] - 5s 314ms/step - loss: 0.2256 - val_loss: 0.5554\r\n",
      "Epoch 27/30\r\n",
      "15/15 [==============================] - 4s 260ms/step - loss: 0.2205 - val_loss: 0.5586\r\n",
      "24\r\n",
      "mae 0.3509611 mse 0.1950538\r\n",
      "--------------------\r\n",
      "36\r\n",
      "mae 0.4105466 mse 0.24915454\r\n",
      "--------------------\r\n",
      "48\r\n",
      "mae 0.43798998 mse 0.27639318\r\n",
      "--------------------\r\n",
      "60\r\n",
      "mae 0.44777685 mse 0.2867102\r\n",
      "--------------------\r\n",
      "mae mean 0.41181862\r\n",
      "mse mean 0.25182793\r\n",
      "\r\n",
      "CPU times: user 2.23 s, sys: 509 ms, total: 2.74 s\n",
      "Wall time: 2min 37s\n"
     ]
    }
   ],
   "source": [
    "%%time\n",
    "!python test_finetune.py --gpu 0 --batch_size 40 --mode small --data 'de_small' --uni 1 # de_small univariate model Small"
   ]
  },
  {
   "cell_type": "code",
   "execution_count": 17,
   "id": "33e2af58",
   "metadata": {
    "execution": {
     "iopub.execute_input": "2024-05-11T16:18:25.732754Z",
     "iopub.status.busy": "2024-05-11T16:18:25.732374Z",
     "iopub.status.idle": "2024-05-11T16:38:48.614297Z",
     "shell.execute_reply": "2024-05-11T16:38:48.613067Z"
    },
    "papermill": {
     "duration": 1223.799485,
     "end_time": "2024-05-11T16:38:48.616327",
     "exception": false,
     "start_time": "2024-05-11T16:18:24.816842",
     "status": "completed"
    },
    "tags": []
   },
   "outputs": [
    {
     "name": "stdout",
     "output_type": "stream",
     "text": [
      "2024-05-11 16:18:27.553745: E external/local_xla/xla/stream_executor/cuda/cuda_dnn.cc:9261] Unable to register cuDNN factory: Attempting to register factory for plugin cuDNN when one has already been registered\r\n",
      "2024-05-11 16:18:27.553804: E external/local_xla/xla/stream_executor/cuda/cuda_fft.cc:607] Unable to register cuFFT factory: Attempting to register factory for plugin cuFFT when one has already been registered\r\n",
      "2024-05-11 16:18:27.555447: E external/local_xla/xla/stream_executor/cuda/cuda_blas.cc:1515] Unable to register cuBLAS factory: Attempting to register factory for plugin cuBLAS when one has already been registered\r\n",
      "freq: h\r\n",
      "Epoch 1/30\r\n",
      "WARNING: All log messages before absl::InitializeLog() is called are written to STDERR\r\n",
      "I0000 00:00:1715444329.798254    8039 device_compiler.h:186] Compiled cluster using XLA!  This line is logged at most once for the lifetime of the process.\r\n",
      "213/213 [==============================] - 81s 323ms/step - loss: 0.6033 - val_loss: 0.3548\r\n",
      "Epoch 2/30\r\n",
      "213/213 [==============================] - 66s 310ms/step - loss: 0.3854 - val_loss: 0.2786\r\n",
      "Epoch 3/30\r\n",
      "213/213 [==============================] - 66s 310ms/step - loss: 0.3322 - val_loss: 0.2541\r\n",
      "Epoch 4/30\r\n",
      "213/213 [==============================] - 66s 309ms/step - loss: 0.3053 - val_loss: 0.2390\r\n",
      "Epoch 5/30\r\n",
      "213/213 [==============================] - 66s 308ms/step - loss: 0.2873 - val_loss: 0.2279\r\n",
      "Epoch 6/30\r\n",
      "213/213 [==============================] - 66s 310ms/step - loss: 0.2738 - val_loss: 0.2236\r\n",
      "Epoch 7/30\r\n",
      "213/213 [==============================] - 66s 310ms/step - loss: 0.2633 - val_loss: 0.2196\r\n",
      "Epoch 8/30\r\n",
      "213/213 [==============================] - 66s 310ms/step - loss: 0.2553 - val_loss: 0.2178\r\n",
      "Epoch 9/30\r\n",
      "213/213 [==============================] - 66s 309ms/step - loss: 0.2500 - val_loss: 0.2174\r\n",
      "Epoch 10/30\r\n",
      "213/213 [==============================] - 66s 310ms/step - loss: 0.2447 - val_loss: 0.2170\r\n",
      "Epoch 11/30\r\n",
      "213/213 [==============================] - 66s 309ms/step - loss: 0.2393 - val_loss: 0.2146\r\n",
      "Epoch 12/30\r\n",
      "213/213 [==============================] - 66s 309ms/step - loss: 0.2367 - val_loss: 0.2144\r\n",
      "Epoch 13/30\r\n",
      "213/213 [==============================] - 65s 307ms/step - loss: 0.2328 - val_loss: 0.2145\r\n",
      "Epoch 14/30\r\n",
      "213/213 [==============================] - 66s 310ms/step - loss: 0.2306 - val_loss: 0.2135\r\n",
      "Epoch 15/30\r\n",
      "213/213 [==============================] - 66s 310ms/step - loss: 0.2280 - val_loss: 0.2133\r\n",
      "Epoch 16/30\r\n",
      "213/213 [==============================] - 66s 308ms/step - loss: 0.2260 - val_loss: 0.2137\r\n",
      "Epoch 17/30\r\n",
      "213/213 [==============================] - 65s 306ms/step - loss: 0.2238 - val_loss: 0.2148\r\n",
      "Epoch 18/30\r\n",
      "213/213 [==============================] - 66s 309ms/step - loss: 0.2217 - val_loss: 0.2147\r\n",
      "24\r\n",
      "mae 0.120941356 mse 0.033057343\r\n",
      "--------------------\r\n",
      "96\r\n",
      "mae 0.1838667 mse 0.07462888\r\n",
      "--------------------\r\n",
      "192\r\n",
      "mae 0.22221184 mse 0.113528185\r\n",
      "--------------------\r\n",
      "336\r\n",
      "mae 0.25193486 mse 0.14693432\r\n",
      "--------------------\r\n",
      "720\r\n",
      "mae 0.28224966 mse 0.19109781\r\n",
      "--------------------\r\n",
      "mae mean 0.21224089\r\n",
      "mse mean 0.11184931\r\n",
      "\r\n",
      "CPU times: user 19.3 s, sys: 4.03 s, total: 23.4 s\n",
      "Wall time: 20min 22s\n"
     ]
    }
   ],
   "source": [
    "%%time \n",
    "!python test_finetune.py --gpu 0 --batch_size 40 --mode small --data 'de_big' --uni 1 # de_big univariate model Small"
   ]
  },
  {
   "cell_type": "code",
   "execution_count": 18,
   "id": "d0ef8b4e",
   "metadata": {
    "execution": {
     "iopub.execute_input": "2024-05-11T16:38:51.059415Z",
     "iopub.status.busy": "2024-05-11T16:38:51.059046Z",
     "iopub.status.idle": "2024-05-11T16:41:31.625918Z",
     "shell.execute_reply": "2024-05-11T16:41:31.624770Z"
    },
    "papermill": {
     "duration": 162.979377,
     "end_time": "2024-05-11T16:41:32.816152",
     "exception": false,
     "start_time": "2024-05-11T16:38:49.836775",
     "status": "completed"
    },
    "tags": []
   },
   "outputs": [
    {
     "name": "stdout",
     "output_type": "stream",
     "text": [
      "2024-05-11 16:38:52.863195: E external/local_xla/xla/stream_executor/cuda/cuda_dnn.cc:9261] Unable to register cuDNN factory: Attempting to register factory for plugin cuDNN when one has already been registered\r\n",
      "2024-05-11 16:38:52.863255: E external/local_xla/xla/stream_executor/cuda/cuda_fft.cc:607] Unable to register cuFFT factory: Attempting to register factory for plugin cuFFT when one has already been registered\r\n",
      "2024-05-11 16:38:52.864855: E external/local_xla/xla/stream_executor/cuda/cuda_blas.cc:1515] Unable to register cuBLAS factory: Attempting to register factory for plugin cuBLAS when one has already been registered\r\n",
      "freq: h\r\n",
      "Epoch 1/30\r\n",
      "WARNING: All log messages before absl::InitializeLog() is called are written to STDERR\r\n",
      "I0000 00:00:1715445555.842587    8631 device_compiler.h:186] Compiled cluster using XLA!  This line is logged at most once for the lifetime of the process.\r\n",
      "15/15 [==============================] - 21s 523ms/step - loss: 0.8809 - val_loss: 0.8953\r\n",
      "Epoch 2/30\r\n",
      "15/15 [==============================] - 5s 324ms/step - loss: 0.8450 - val_loss: 0.8711\r\n",
      "Epoch 3/30\r\n",
      "15/15 [==============================] - 5s 323ms/step - loss: 0.8090 - val_loss: 0.8461\r\n",
      "Epoch 4/30\r\n",
      "15/15 [==============================] - 5s 327ms/step - loss: 0.7689 - val_loss: 0.8223\r\n",
      "Epoch 5/30\r\n",
      "15/15 [==============================] - 5s 323ms/step - loss: 0.7349 - val_loss: 0.7982\r\n",
      "Epoch 6/30\r\n",
      "15/15 [==============================] - 5s 322ms/step - loss: 0.6966 - val_loss: 0.7744\r\n",
      "Epoch 7/30\r\n",
      "15/15 [==============================] - 5s 325ms/step - loss: 0.6576 - val_loss: 0.7521\r\n",
      "Epoch 8/30\r\n",
      "15/15 [==============================] - 5s 323ms/step - loss: 0.6189 - val_loss: 0.7270\r\n",
      "Epoch 9/30\r\n",
      "15/15 [==============================] - 5s 322ms/step - loss: 0.5825 - val_loss: 0.7007\r\n",
      "Epoch 10/30\r\n",
      "15/15 [==============================] - 5s 321ms/step - loss: 0.5442 - val_loss: 0.6744\r\n",
      "Epoch 11/30\r\n",
      "15/15 [==============================] - 5s 326ms/step - loss: 0.5093 - val_loss: 0.6498\r\n",
      "Epoch 12/30\r\n",
      "15/15 [==============================] - 5s 321ms/step - loss: 0.4743 - val_loss: 0.6266\r\n",
      "Epoch 13/30\r\n",
      "15/15 [==============================] - 5s 310ms/step - loss: 0.4447 - val_loss: 0.6033\r\n",
      "Epoch 14/30\r\n",
      "15/15 [==============================] - 5s 321ms/step - loss: 0.4126 - val_loss: 0.5829\r\n",
      "Epoch 15/30\r\n",
      "15/15 [==============================] - 5s 321ms/step - loss: 0.3920 - val_loss: 0.5697\r\n",
      "Epoch 16/30\r\n",
      "15/15 [==============================] - 5s 321ms/step - loss: 0.3676 - val_loss: 0.5585\r\n",
      "Epoch 17/30\r\n",
      "15/15 [==============================] - 5s 320ms/step - loss: 0.3501 - val_loss: 0.5446\r\n",
      "Epoch 18/30\r\n",
      "15/15 [==============================] - 5s 322ms/step - loss: 0.3367 - val_loss: 0.5374\r\n",
      "Epoch 19/30\r\n",
      "15/15 [==============================] - 5s 320ms/step - loss: 0.3234 - val_loss: 0.5350\r\n",
      "Epoch 20/30\r\n",
      "15/15 [==============================] - 5s 321ms/step - loss: 0.3152 - val_loss: 0.5295\r\n",
      "Epoch 21/30\r\n",
      "15/15 [==============================] - 5s 348ms/step - loss: 0.3115 - val_loss: 0.5282\r\n",
      "Epoch 22/30\r\n",
      "15/15 [==============================] - 5s 322ms/step - loss: 0.2963 - val_loss: 0.5211\r\n",
      "Epoch 23/30\r\n",
      "15/15 [==============================] - 5s 321ms/step - loss: 0.2992 - val_loss: 0.5158\r\n",
      "Epoch 24/30\r\n",
      "15/15 [==============================] - 5s 325ms/step - loss: 0.2864 - val_loss: 0.5132\r\n",
      "Epoch 25/30\r\n",
      "15/15 [==============================] - 5s 323ms/step - loss: 0.2841 - val_loss: 0.5068\r\n",
      "Epoch 26/30\r\n",
      "15/15 [==============================] - 4s 287ms/step - loss: 0.2790 - val_loss: 0.5080\r\n",
      "Epoch 27/30\r\n",
      "15/15 [==============================] - 4s 284ms/step - loss: 0.2755 - val_loss: 0.5060\r\n",
      "24\r\n",
      "mae 0.33035845 mse 0.18330659\r\n",
      "--------------------\r\n",
      "36\r\n",
      "mae 0.3688935 mse 0.22268045\r\n",
      "--------------------\r\n",
      "48\r\n",
      "mae 0.3812819 mse 0.23193519\r\n",
      "--------------------\r\n",
      "60\r\n",
      "mae 0.37592673 mse 0.225602\r\n",
      "--------------------\r\n",
      "mae mean 0.36411515\r\n",
      "mse mean 0.21588105\r\n",
      "\r\n",
      "CPU times: user 2.78 s, sys: 575 ms, total: 3.35 s\n",
      "Wall time: 2min 40s\n"
     ]
    }
   ],
   "source": [
    "%%time\n",
    "!python test_finetune.py --gpu 0 --batch_size 40 --mode small --data 'de_small' --uni 0 # de_small multivariate model Small"
   ]
  },
  {
   "cell_type": "code",
   "execution_count": 19,
   "id": "bb2b7464",
   "metadata": {
    "execution": {
     "iopub.execute_input": "2024-05-11T16:41:35.286404Z",
     "iopub.status.busy": "2024-05-11T16:41:35.285501Z",
     "iopub.status.idle": "2024-05-11T17:03:11.250810Z",
     "shell.execute_reply": "2024-05-11T17:03:11.249354Z"
    },
    "papermill": {
     "duration": 1297.176304,
     "end_time": "2024-05-11T17:03:11.253037",
     "exception": false,
     "start_time": "2024-05-11T16:41:34.076733",
     "status": "completed"
    },
    "tags": []
   },
   "outputs": [
    {
     "name": "stdout",
     "output_type": "stream",
     "text": [
      "2024-05-11 16:41:37.053197: E external/local_xla/xla/stream_executor/cuda/cuda_dnn.cc:9261] Unable to register cuDNN factory: Attempting to register factory for plugin cuDNN when one has already been registered\r\n",
      "2024-05-11 16:41:37.053259: E external/local_xla/xla/stream_executor/cuda/cuda_fft.cc:607] Unable to register cuFFT factory: Attempting to register factory for plugin cuFFT when one has already been registered\r\n",
      "2024-05-11 16:41:37.054789: E external/local_xla/xla/stream_executor/cuda/cuda_blas.cc:1515] Unable to register cuBLAS factory: Attempting to register factory for plugin cuBLAS when one has already been registered\r\n",
      "freq: h\r\n",
      "Epoch 1/30\r\n",
      "WARNING: All log messages before absl::InitializeLog() is called are written to STDERR\r\n",
      "I0000 00:00:1715445719.365256    9401 device_compiler.h:186] Compiled cluster using XLA!  This line is logged at most once for the lifetime of the process.\r\n",
      "213/213 [==============================] - 81s 323ms/step - loss: 0.6112 - val_loss: 0.3704\r\n",
      "Epoch 2/30\r\n",
      "213/213 [==============================] - 66s 312ms/step - loss: 0.4051 - val_loss: 0.2968\r\n",
      "Epoch 3/30\r\n",
      "213/213 [==============================] - 66s 311ms/step - loss: 0.3575 - val_loss: 0.2730\r\n",
      "Epoch 4/30\r\n",
      "213/213 [==============================] - 66s 310ms/step - loss: 0.3346 - val_loss: 0.2638\r\n",
      "Epoch 5/30\r\n",
      "213/213 [==============================] - 66s 310ms/step - loss: 0.3212 - val_loss: 0.2548\r\n",
      "Epoch 6/30\r\n",
      "213/213 [==============================] - 66s 310ms/step - loss: 0.3086 - val_loss: 0.2459\r\n",
      "Epoch 7/30\r\n",
      "213/213 [==============================] - 66s 311ms/step - loss: 0.2999 - val_loss: 0.2421\r\n",
      "Epoch 8/30\r\n",
      "213/213 [==============================] - 66s 312ms/step - loss: 0.2929 - val_loss: 0.2358\r\n",
      "Epoch 9/30\r\n",
      "213/213 [==============================] - 66s 311ms/step - loss: 0.2884 - val_loss: 0.2326\r\n",
      "Epoch 10/30\r\n",
      "213/213 [==============================] - 66s 311ms/step - loss: 0.2822 - val_loss: 0.2293\r\n",
      "Epoch 11/30\r\n",
      "213/213 [==============================] - 66s 311ms/step - loss: 0.2797 - val_loss: 0.2285\r\n",
      "Epoch 12/30\r\n",
      "213/213 [==============================] - 66s 312ms/step - loss: 0.2757 - val_loss: 0.2273\r\n",
      "Epoch 13/30\r\n",
      "213/213 [==============================] - 66s 311ms/step - loss: 0.2743 - val_loss: 0.2270\r\n",
      "Epoch 14/30\r\n",
      "213/213 [==============================] - 66s 311ms/step - loss: 0.2715 - val_loss: 0.2262\r\n",
      "Epoch 15/30\r\n",
      "213/213 [==============================] - 66s 310ms/step - loss: 0.2695 - val_loss: 0.2263\r\n",
      "Epoch 16/30\r\n",
      "213/213 [==============================] - 66s 311ms/step - loss: 0.2679 - val_loss: 0.2253\r\n",
      "Epoch 17/30\r\n",
      "213/213 [==============================] - 66s 309ms/step - loss: 0.2671 - val_loss: 0.2257\r\n",
      "Epoch 18/30\r\n",
      "213/213 [==============================] - 66s 310ms/step - loss: 0.2651 - val_loss: 0.2254\r\n",
      "Epoch 19/30\r\n",
      "213/213 [==============================] - 66s 310ms/step - loss: 0.2643 - val_loss: 0.2255\r\n",
      "24\r\n",
      "mae 0.13164951 mse 0.048381828\r\n",
      "--------------------\r\n",
      "96\r\n",
      "mae 0.19604659 mse 0.09531629\r\n",
      "--------------------\r\n",
      "192\r\n",
      "mae 0.23744373 mse 0.13446006\r\n",
      "--------------------\r\n",
      "336\r\n",
      "mae 0.26759213 mse 0.16671006\r\n",
      "--------------------\r\n",
      "720\r\n",
      "mae 0.3005925 mse 0.20444225\r\n",
      "--------------------\r\n",
      "mae mean 0.2266649\r\n",
      "mse mean 0.1298621\r\n",
      "\r\n",
      "CPU times: user 22.5 s, sys: 4.62 s, total: 27.2 s\n",
      "Wall time: 21min 35s\n"
     ]
    }
   ],
   "source": [
    "%%time\n",
    "!python test_finetune.py --gpu 0 --batch_size 40 --mode small --data 'de_big' --uni 0 #de_big multivariate model Small"
   ]
  }
 ],
 "metadata": {
  "kaggle": {
   "accelerator": "gpu",
   "dataSources": [],
   "dockerImageVersionId": 30648,
   "isGpuEnabled": true,
   "isInternetEnabled": true,
   "language": "python",
   "sourceType": "notebook"
  },
  "kernelspec": {
   "display_name": "Python 3",
   "language": "python",
   "name": "python3"
  },
  "language_info": {
   "codemirror_mode": {
    "name": "ipython",
    "version": 3
   },
   "file_extension": ".py",
   "mimetype": "text/x-python",
   "name": "python",
   "nbconvert_exporter": "python",
   "pygments_lexer": "ipython3",
   "version": "3.10.13"
  },
  "papermill": {
   "default_parameters": {},
   "duration": 5040.728232,
   "end_time": "2024-05-11T17:03:13.181830",
   "environment_variables": {},
   "exception": null,
   "input_path": "__notebook__.ipynb",
   "output_path": "__notebook__.ipynb",
   "parameters": {},
   "start_time": "2024-05-11T15:39:12.453598",
   "version": "2.5.0"
  }
 },
 "nbformat": 4,
 "nbformat_minor": 5
}
