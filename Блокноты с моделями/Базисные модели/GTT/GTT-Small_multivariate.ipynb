{
 "cells": [
  {
   "cell_type": "code",
   "execution_count": 1,
   "id": "65371506",
   "metadata": {
    "execution": {
     "iopub.execute_input": "2024-04-25T09:38:49.871215Z",
     "iopub.status.busy": "2024-04-25T09:38:49.870357Z",
     "iopub.status.idle": "2024-04-25T09:39:01.823430Z",
     "shell.execute_reply": "2024-04-25T09:39:01.822262Z"
    },
    "papermill": {
     "duration": 11.962889,
     "end_time": "2024-04-25T09:39:01.825679",
     "exception": false,
     "start_time": "2024-04-25T09:38:49.862790",
     "status": "completed"
    },
    "tags": []
   },
   "outputs": [
    {
     "name": "stdout",
     "output_type": "stream",
     "text": [
      "Cloning into 'GTT'...\r\n",
      "remote: Enumerating objects: 266, done.\u001b[K\r\n",
      "remote: Counting objects: 100% (40/40), done.\u001b[K\r\n",
      "remote: Compressing objects: 100% (37/37), done.\u001b[K\r\n",
      "remote: Total 266 (delta 20), reused 0 (delta 0), pack-reused 226\u001b[K\r\n",
      "Receiving objects: 100% (266/266), 229.68 MiB | 26.31 MiB/s, done.\r\n",
      "Resolving deltas: 100% (134/134), done.\r\n",
      "Updating files: 100% (40/40), done.\r\n"
     ]
    }
   ],
   "source": [
    "!git clone https://github.com/m6129/GTT.git"
   ]
  },
  {
   "cell_type": "code",
   "execution_count": 2,
   "id": "393b56d9",
   "metadata": {
    "execution": {
     "iopub.execute_input": "2024-04-25T09:39:01.842326Z",
     "iopub.status.busy": "2024-04-25T09:39:01.841505Z",
     "iopub.status.idle": "2024-04-25T09:39:02.806539Z",
     "shell.execute_reply": "2024-04-25T09:39:02.805371Z"
    },
    "papermill": {
     "duration": 0.976016,
     "end_time": "2024-04-25T09:39:02.809124",
     "exception": false,
     "start_time": "2024-04-25T09:39:01.833108",
     "status": "completed"
    },
    "tags": []
   },
   "outputs": [
    {
     "name": "stdout",
     "output_type": "stream",
     "text": [
      "Python 3.10.13\r\n"
     ]
    }
   ],
   "source": [
    "!python --version"
   ]
  },
  {
   "cell_type": "code",
   "execution_count": 3,
   "id": "19fed2e9",
   "metadata": {
    "execution": {
     "iopub.execute_input": "2024-04-25T09:39:02.825548Z",
     "iopub.status.busy": "2024-04-25T09:39:02.825199Z",
     "iopub.status.idle": "2024-04-25T09:39:19.067376Z",
     "shell.execute_reply": "2024-04-25T09:39:19.066236Z"
    },
    "papermill": {
     "duration": 16.253124,
     "end_time": "2024-04-25T09:39:19.069829",
     "exception": false,
     "start_time": "2024-04-25T09:39:02.816705",
     "status": "completed"
    },
    "tags": []
   },
   "outputs": [
    {
     "name": "stdout",
     "output_type": "stream",
     "text": [
      "Collecting auto_mix_prep==0.2.0\r\n",
      "  Downloading auto-mix-prep-0.2.0.tar.gz (2.9 kB)\r\n",
      "  Preparing metadata (setup.py) ... \u001b[?25l-\b \b\\\b \bdone\r\n",
      "\u001b[?25hRequirement already satisfied: pydub in /opt/conda/lib/python3.10/site-packages (from auto_mix_prep==0.2.0) (0.25.1)\r\n",
      "Building wheels for collected packages: auto_mix_prep\r\n",
      "  Building wheel for auto_mix_prep (setup.py) ... \u001b[?25l-\b \b\\\b \b|\b \bdone\r\n",
      "\u001b[?25h  Created wheel for auto_mix_prep: filename=auto_mix_prep-0.2.0-py3-none-any.whl size=3449 sha256=75ff4f3ce0c38344d50f3347abbe142fef3151ab0e4bfb8f522ca52740d11a48\r\n",
      "  Stored in directory: /root/.cache/pip/wheels/14/0e/82/6699c12200cd992629464f52929699432a57d29f593df25773\r\n",
      "Successfully built auto_mix_prep\r\n",
      "Installing collected packages: auto_mix_prep\r\n",
      "Successfully installed auto_mix_prep-0.2.0\r\n"
     ]
    }
   ],
   "source": [
    "!pip install auto_mix_prep==0.2.0"
   ]
  },
  {
   "cell_type": "markdown",
   "id": "b96ae372",
   "metadata": {
    "papermill": {
     "duration": 0.007798,
     "end_time": "2024-04-25T09:39:19.086059",
     "exception": false,
     "start_time": "2024-04-25T09:39:19.078261",
     "status": "completed"
    },
    "tags": []
   },
   "source": [
    "**если zero-shot**"
   ]
  },
  {
   "cell_type": "code",
   "execution_count": 4,
   "id": "e4d701ce",
   "metadata": {
    "execution": {
     "iopub.execute_input": "2024-04-25T09:39:19.103993Z",
     "iopub.status.busy": "2024-04-25T09:39:19.103192Z",
     "iopub.status.idle": "2024-04-25T09:39:19.109739Z",
     "shell.execute_reply": "2024-04-25T09:39:19.108799Z"
    },
    "papermill": {
     "duration": 0.017554,
     "end_time": "2024-04-25T09:39:19.111590",
     "exception": false,
     "start_time": "2024-04-25T09:39:19.094036",
     "status": "completed"
    },
    "tags": []
   },
   "outputs": [
    {
     "name": "stdout",
     "output_type": "stream",
     "text": [
      "/kaggle/working/GTT/src\n"
     ]
    }
   ],
   "source": [
    "cd /kaggle/working/GTT/src/"
   ]
  },
  {
   "cell_type": "code",
   "execution_count": 5,
   "id": "f47d9d60",
   "metadata": {
    "execution": {
     "iopub.execute_input": "2024-04-25T09:39:19.129273Z",
     "iopub.status.busy": "2024-04-25T09:39:19.128982Z",
     "iopub.status.idle": "2024-04-25T09:41:54.569121Z",
     "shell.execute_reply": "2024-04-25T09:41:54.567738Z"
    },
    "papermill": {
     "duration": 155.451618,
     "end_time": "2024-04-25T09:41:54.571476",
     "exception": false,
     "start_time": "2024-04-25T09:39:19.119858",
     "status": "completed"
    },
    "tags": []
   },
   "outputs": [
    {
     "name": "stdout",
     "output_type": "stream",
     "text": [
      "2024-04-25 09:39:22.731409: E external/local_xla/xla/stream_executor/cuda/cuda_dnn.cc:9261] Unable to register cuDNN factory: Attempting to register factory for plugin cuDNN when one has already been registered\r\n",
      "2024-04-25 09:39:22.731529: E external/local_xla/xla/stream_executor/cuda/cuda_fft.cc:607] Unable to register cuFFT factory: Attempting to register factory for plugin cuFFT when one has already been registered\r\n",
      "2024-04-25 09:39:22.861079: E external/local_xla/xla/stream_executor/cuda/cuda_blas.cc:1515] Unable to register cuBLAS factory: Attempting to register factory for plugin cuBLAS when one has already been registered\r\n",
      "freq: h\r\n",
      "0 / 720\r\n",
      "64 / 720\r\n",
      "128 / 720\r\n",
      "192 / 720\r\n",
      "256 / 720\r\n",
      "320 / 720\r\n",
      "384 / 720\r\n",
      "448 / 720\r\n",
      "512 / 720\r\n",
      "576 / 720\r\n",
      "640 / 720\r\n",
      "704 / 720\r\n",
      "24\r\n",
      "mae 0.34430572 mse 0.3109096\r\n",
      "--------------------\r\n",
      "96\r\n",
      "mae 0.3854675 mse 0.3763453\r\n",
      "--------------------\r\n",
      "192\r\n",
      "mae 0.4014082 mse 0.40479922\r\n",
      "--------------------\r\n",
      "336\r\n",
      "mae 0.41705242 mse 0.42585137\r\n",
      "--------------------\r\n",
      "720\r\n",
      "mae 0.4471898 mse 0.45237055\r\n",
      "--------------------\r\n",
      "mae mean 0.39908475\r\n",
      "mse mean 0.3940552\r\n",
      "\r\n",
      "WAPE 0.4452449\r\n",
      "NRMSE 0.72106063\r\n",
      "WAPE 0.49793035\r\n",
      "NRMSE 0.79245406\r\n",
      "WAPE 0.5179065\r\n",
      "NRMSE 0.82088995\r\n",
      "WAPE 0.53616154\r\n",
      "NRMSE 0.83894604\r\n",
      "WAPE 0.5640593\r\n",
      "NRMSE 0.84835964\r\n",
      "WAPE mean 0.51226056\r\n",
      "NRMSE mean 0.8043421\r\n",
      "\r\n",
      "CPU times: user 2.43 s, sys: 473 ms, total: 2.9 s\n",
      "Wall time: 2min 35s\n"
     ]
    }
   ],
   "source": [
    "%%time\n",
    "!python test_zeroshot.py --gpu 0 --batch_size 40 --mode small --data 'h1' --uni 0"
   ]
  },
  {
   "cell_type": "code",
   "execution_count": 6,
   "id": "bf9bd17d",
   "metadata": {
    "execution": {
     "iopub.execute_input": "2024-04-25T09:41:54.593394Z",
     "iopub.status.busy": "2024-04-25T09:41:54.593021Z",
     "iopub.status.idle": "2024-04-25T09:44:14.197621Z",
     "shell.execute_reply": "2024-04-25T09:44:14.196140Z"
    },
    "papermill": {
     "duration": 139.618111,
     "end_time": "2024-04-25T09:44:14.199932",
     "exception": false,
     "start_time": "2024-04-25T09:41:54.581821",
     "status": "completed"
    },
    "tags": []
   },
   "outputs": [
    {
     "name": "stdout",
     "output_type": "stream",
     "text": [
      "2024-04-25 09:41:56.398817: E external/local_xla/xla/stream_executor/cuda/cuda_dnn.cc:9261] Unable to register cuDNN factory: Attempting to register factory for plugin cuDNN when one has already been registered\r\n",
      "2024-04-25 09:41:56.398871: E external/local_xla/xla/stream_executor/cuda/cuda_fft.cc:607] Unable to register cuFFT factory: Attempting to register factory for plugin cuFFT when one has already been registered\r\n",
      "2024-04-25 09:41:56.400394: E external/local_xla/xla/stream_executor/cuda/cuda_blas.cc:1515] Unable to register cuBLAS factory: Attempting to register factory for plugin cuBLAS when one has already been registered\r\n",
      "freq: h\r\n",
      "0 / 720\r\n",
      "64 / 720\r\n",
      "128 / 720\r\n",
      "192 / 720\r\n",
      "256 / 720\r\n",
      "320 / 720\r\n",
      "384 / 720\r\n",
      "448 / 720\r\n",
      "512 / 720\r\n",
      "576 / 720\r\n",
      "640 / 720\r\n",
      "704 / 720\r\n",
      "24\r\n",
      "mae 0.23104003 mse 0.14235103\r\n",
      "--------------------\r\n",
      "96\r\n",
      "mae 0.301503 mse 0.23698992\r\n",
      "--------------------\r\n",
      "192\r\n",
      "mae 0.34248662 mse 0.29567373\r\n",
      "--------------------\r\n",
      "336\r\n",
      "mae 0.38095358 mse 0.34804273\r\n",
      "--------------------\r\n",
      "720\r\n",
      "mae 0.43830118 mse 0.42861724\r\n",
      "--------------------\r\n",
      "mae mean 0.33885688\r\n",
      "mse mean 0.29033494\r\n",
      "\r\n",
      "WAPE 0.17294051\r\n",
      "NRMSE 0.2824163\r\n",
      "WAPE 0.2261268\r\n",
      "NRMSE 0.36511135\r\n",
      "WAPE 0.25599444\r\n",
      "NRMSE 0.40643704\r\n",
      "WAPE 0.28416568\r\n",
      "NRMSE 0.440064\r\n",
      "WAPE 0.32623297\r\n",
      "NRMSE 0.48729286\r\n",
      "WAPE mean 0.25309208\r\n",
      "NRMSE mean 0.39626434\r\n",
      "\r\n",
      "CPU times: user 2.13 s, sys: 467 ms, total: 2.6 s\n",
      "Wall time: 2min 19s\n"
     ]
    }
   ],
   "source": [
    "%%time\n",
    "!python test_zeroshot.py --gpu 0 --batch_size 40 --mode small --data 'h2' --uni 0"
   ]
  },
  {
   "cell_type": "code",
   "execution_count": 7,
   "id": "e372acf5",
   "metadata": {
    "execution": {
     "iopub.execute_input": "2024-04-25T09:44:14.224504Z",
     "iopub.status.busy": "2024-04-25T09:44:14.224179Z",
     "iopub.status.idle": "2024-04-25T09:55:04.205860Z",
     "shell.execute_reply": "2024-04-25T09:55:04.204592Z"
    },
    "papermill": {
     "duration": 649.996406,
     "end_time": "2024-04-25T09:55:04.207852",
     "exception": false,
     "start_time": "2024-04-25T09:44:14.211446",
     "status": "completed"
    },
    "tags": []
   },
   "outputs": [
    {
     "name": "stdout",
     "output_type": "stream",
     "text": [
      "2024-04-25 09:44:16.064264: E external/local_xla/xla/stream_executor/cuda/cuda_dnn.cc:9261] Unable to register cuDNN factory: Attempting to register factory for plugin cuDNN when one has already been registered\r\n",
      "2024-04-25 09:44:16.064338: E external/local_xla/xla/stream_executor/cuda/cuda_fft.cc:607] Unable to register cuFFT factory: Attempting to register factory for plugin cuFFT when one has already been registered\r\n",
      "2024-04-25 09:44:16.065856: E external/local_xla/xla/stream_executor/cuda/cuda_blas.cc:1515] Unable to register cuBLAS factory: Attempting to register factory for plugin cuBLAS when one has already been registered\r\n",
      "freq: 15min\r\n",
      "0 / 720\r\n",
      "64 / 720\r\n",
      "128 / 720\r\n",
      "192 / 720\r\n",
      "256 / 720\r\n",
      "320 / 720\r\n",
      "384 / 720\r\n",
      "448 / 720\r\n",
      "512 / 720\r\n",
      "576 / 720\r\n",
      "640 / 720\r\n",
      "704 / 720\r\n",
      "24\r\n",
      "mae 0.3319695 mse 0.28235763\r\n",
      "--------------------\r\n",
      "96\r\n",
      "mae 0.4181473 mse 0.42788127\r\n",
      "--------------------\r\n",
      "192\r\n",
      "mae 0.46757594 mse 0.52611166\r\n",
      "--------------------\r\n",
      "336\r\n",
      "mae 0.5219321 mse 0.6603231\r\n",
      "--------------------\r\n",
      "720\r\n",
      "mae 0.6211494 mse 0.98571473\r\n",
      "--------------------\r\n",
      "mae mean 0.47215486\r\n",
      "mse mean 0.57647765\r\n",
      "\r\n",
      "WAPE 0.41766116\r\n",
      "NRMSE 0.6685373\r\n",
      "WAPE 0.52598155\r\n",
      "NRMSE 0.8228162\r\n",
      "WAPE 0.5876938\r\n",
      "NRMSE 0.91167057\r\n",
      "WAPE 0.65656453\r\n",
      "NRMSE 1.0222136\r\n",
      "WAPE 0.7821604\r\n",
      "NRMSE 1.2501881\r\n",
      "WAPE mean 0.59401226\r\n",
      "NRMSE mean 0.9350851\r\n",
      "\r\n",
      "CPU times: user 10.1 s, sys: 2.19 s, total: 12.3 s\n",
      "Wall time: 10min 49s\n"
     ]
    }
   ],
   "source": [
    "%%time\n",
    "!python test_zeroshot.py --gpu 0 --batch_size 40 --mode small --data 'm1' --uni 0"
   ]
  },
  {
   "cell_type": "code",
   "execution_count": 8,
   "id": "a517a372",
   "metadata": {
    "execution": {
     "iopub.execute_input": "2024-04-25T09:55:04.235985Z",
     "iopub.status.busy": "2024-04-25T09:55:04.235678Z",
     "iopub.status.idle": "2024-04-25T10:05:41.455437Z",
     "shell.execute_reply": "2024-04-25T10:05:41.454072Z"
    },
    "papermill": {
     "duration": 637.236209,
     "end_time": "2024-04-25T10:05:41.457433",
     "exception": false,
     "start_time": "2024-04-25T09:55:04.221224",
     "status": "completed"
    },
    "tags": []
   },
   "outputs": [
    {
     "name": "stdout",
     "output_type": "stream",
     "text": [
      "2024-04-25 09:55:06.049608: E external/local_xla/xla/stream_executor/cuda/cuda_dnn.cc:9261] Unable to register cuDNN factory: Attempting to register factory for plugin cuDNN when one has already been registered\r\n",
      "2024-04-25 09:55:06.049667: E external/local_xla/xla/stream_executor/cuda/cuda_fft.cc:607] Unable to register cuFFT factory: Attempting to register factory for plugin cuFFT when one has already been registered\r\n",
      "2024-04-25 09:55:06.051224: E external/local_xla/xla/stream_executor/cuda/cuda_blas.cc:1515] Unable to register cuBLAS factory: Attempting to register factory for plugin cuBLAS when one has already been registered\r\n",
      "freq: 15min\r\n",
      "0 / 720\r\n",
      "64 / 720\r\n",
      "128 / 720\r\n",
      "192 / 720\r\n",
      "256 / 720\r\n",
      "320 / 720\r\n",
      "384 / 720\r\n",
      "448 / 720\r\n",
      "512 / 720\r\n",
      "576 / 720\r\n",
      "640 / 720\r\n",
      "704 / 720\r\n",
      "24\r\n",
      "mae 0.20495576 mse 0.11246899\r\n",
      "--------------------\r\n",
      "96\r\n",
      "mae 0.27713126 mse 0.20016038\r\n",
      "--------------------\r\n",
      "192\r\n",
      "mae 0.3254233 mse 0.269811\r\n",
      "--------------------\r\n",
      "336\r\n",
      "mae 0.36275098 mse 0.3266925\r\n",
      "--------------------\r\n",
      "720\r\n",
      "mae 0.41687688 mse 0.41334763\r\n",
      "--------------------\r\n",
      "mae mean 0.31742764\r\n",
      "mse mean 0.2644961\r\n",
      "\r\n",
      "WAPE 0.15101258\r\n",
      "NRMSE 0.24709809\r\n",
      "WAPE 0.20405622\r\n",
      "NRMSE 0.3294226\r\n",
      "WAPE 0.23951139\r\n",
      "NRMSE 0.38230267\r\n",
      "WAPE 0.26697242\r\n",
      "NRMSE 0.42065632\r\n",
      "WAPE 0.30647537\r\n",
      "NRMSE 0.47265634\r\n",
      "WAPE mean 0.2336056\r\n",
      "NRMSE mean 0.3704272\r\n",
      "\r\n",
      "CPU times: user 9.92 s, sys: 2.16 s, total: 12.1 s\n",
      "Wall time: 10min 37s\n"
     ]
    }
   ],
   "source": [
    "%%time\n",
    "!python test_zeroshot.py --gpu 0 --batch_size 40 --mode small --data 'm2' --uni 0"
   ]
  },
  {
   "cell_type": "code",
   "execution_count": 9,
   "id": "37d488ab",
   "metadata": {
    "execution": {
     "iopub.execute_input": "2024-04-25T10:05:41.490051Z",
     "iopub.status.busy": "2024-04-25T10:05:41.489233Z",
     "iopub.status.idle": "2024-04-25T10:06:13.382483Z",
     "shell.execute_reply": "2024-04-25T10:06:13.381083Z"
    },
    "papermill": {
     "duration": 31.912296,
     "end_time": "2024-04-25T10:06:13.385127",
     "exception": false,
     "start_time": "2024-04-25T10:05:41.472831",
     "status": "completed"
    },
    "tags": []
   },
   "outputs": [
    {
     "name": "stdout",
     "output_type": "stream",
     "text": [
      "2024-04-25 10:05:43.330736: E external/local_xla/xla/stream_executor/cuda/cuda_dnn.cc:9261] Unable to register cuDNN factory: Attempting to register factory for plugin cuDNN when one has already been registered\r\n",
      "2024-04-25 10:05:43.330793: E external/local_xla/xla/stream_executor/cuda/cuda_fft.cc:607] Unable to register cuFFT factory: Attempting to register factory for plugin cuFFT when one has already been registered\r\n",
      "2024-04-25 10:05:43.332227: E external/local_xla/xla/stream_executor/cuda/cuda_blas.cc:1515] Unable to register cuBLAS factory: Attempting to register factory for plugin cuBLAS when one has already been registered\r\n",
      "freq: D\r\n",
      "0 / 720\r\n",
      "64 / 720\r\n",
      "128 / 720\r\n",
      "192 / 720\r\n",
      "256 / 720\r\n",
      "320 / 720\r\n",
      "384 / 720\r\n",
      "448 / 720\r\n",
      "512 / 720\r\n",
      "576 / 720\r\n",
      "640 / 720\r\n",
      "704 / 720\r\n",
      "24\r\n",
      "mae 0.09849775 mse 0.03237942\r\n",
      "--------------------\r\n",
      "96\r\n",
      "mae 0.25747728 mse 0.13846464\r\n",
      "--------------------\r\n",
      "192\r\n",
      "mae 0.46570396 mse 0.399448\r\n",
      "--------------------\r\n",
      "336\r\n",
      "mae 0.75274533 mse 0.95317864\r\n",
      "--------------------\r\n",
      "720\r\n",
      "mae 1.2341046 mse 2.2055182\r\n",
      "--------------------\r\n",
      "mae mean 0.56170577\r\n",
      "mse mean 0.74579775\r\n",
      "\r\n",
      "WAPE 0.055503648\r\n",
      "NRMSE 0.10139808\r\n",
      "WAPE 0.15289648\r\n",
      "NRMSE 0.2209673\r\n",
      "WAPE 0.29743764\r\n",
      "NRMSE 0.4036604\r\n",
      "WAPE 0.5325261\r\n",
      "NRMSE 0.6906849\r\n",
      "WAPE 0.99402106\r\n",
      "NRMSE 1.1961865\r\n",
      "WAPE mean 0.40647697\r\n",
      "NRMSE mean 0.52257943\r\n",
      "\r\n",
      "CPU times: user 481 ms, sys: 124 ms, total: 606 ms\n",
      "Wall time: 31.9 s\n"
     ]
    }
   ],
   "source": [
    "%%time\n",
    "!python test_zeroshot.py --gpu 0 --batch_size 40 --mode small --data 'exchange_rate' --uni 0"
   ]
  },
  {
   "cell_type": "code",
   "execution_count": 10,
   "id": "0ebd6245",
   "metadata": {
    "execution": {
     "iopub.execute_input": "2024-04-25T10:06:13.420930Z",
     "iopub.status.busy": "2024-04-25T10:06:13.419860Z",
     "iopub.status.idle": "2024-04-25T10:18:35.971539Z",
     "shell.execute_reply": "2024-04-25T10:18:35.970214Z"
    },
    "papermill": {
     "duration": 742.571587,
     "end_time": "2024-04-25T10:18:35.973654",
     "exception": false,
     "start_time": "2024-04-25T10:06:13.402067",
     "status": "completed"
    },
    "tags": []
   },
   "outputs": [
    {
     "name": "stdout",
     "output_type": "stream",
     "text": [
      "2024-04-25 10:06:15.250239: E external/local_xla/xla/stream_executor/cuda/cuda_dnn.cc:9261] Unable to register cuDNN factory: Attempting to register factory for plugin cuDNN when one has already been registered\r\n",
      "2024-04-25 10:06:15.250308: E external/local_xla/xla/stream_executor/cuda/cuda_fft.cc:607] Unable to register cuFFT factory: Attempting to register factory for plugin cuFFT when one has already been registered\r\n",
      "2024-04-25 10:06:15.251806: E external/local_xla/xla/stream_executor/cuda/cuda_blas.cc:1515] Unable to register cuBLAS factory: Attempting to register factory for plugin cuBLAS when one has already been registered\r\n",
      "freq: None\r\n",
      "0 / 720\r\n",
      "64 / 720\r\n",
      "128 / 720\r\n",
      "192 / 720\r\n",
      "256 / 720\r\n",
      "320 / 720\r\n",
      "384 / 720\r\n",
      "448 / 720\r\n",
      "512 / 720\r\n",
      "576 / 720\r\n",
      "640 / 720\r\n",
      "704 / 720\r\n",
      "24\r\n",
      "mae 0.09835694 mse 0.08769166\r\n",
      "--------------------\r\n",
      "96\r\n",
      "mae 0.16685213 mse 0.1346387\r\n",
      "--------------------\r\n",
      "192\r\n",
      "mae 0.2139996 mse 0.17904119\r\n",
      "--------------------\r\n",
      "336\r\n",
      "mae 0.25758824 mse 0.23197486\r\n",
      "--------------------\r\n",
      "720\r\n",
      "mae 0.31176597 mse 0.31157228\r\n",
      "--------------------\r\n",
      "mae mean 0.20971258\r\n",
      "mse mean 0.18898372\r\n",
      "\r\n",
      "WAPE 0.16616096\r\n",
      "NRMSE 0.50026846\r\n",
      "WAPE 0.28098124\r\n",
      "NRMSE 0.6179176\r\n",
      "WAPE 0.35917056\r\n",
      "NRMSE 0.7101732\r\n",
      "WAPE 0.4300085\r\n",
      "NRMSE 0.8040286\r\n",
      "WAPE 0.51375514\r\n",
      "NRMSE 0.9198286\r\n",
      "WAPE mean 0.35001525\r\n",
      "NRMSE mean 0.71044326\r\n",
      "\r\n",
      "CPU times: user 12 s, sys: 2.42 s, total: 14.4 s\n",
      "Wall time: 12min 22s\n"
     ]
    }
   ],
   "source": [
    "%%time\n",
    "!python test_zeroshot.py --gpu 0 --batch_size 40 --mode small --data 'weather' --uni 0"
   ]
  },
  {
   "cell_type": "code",
   "execution_count": 11,
   "id": "0a3a8df2",
   "metadata": {
    "execution": {
     "iopub.execute_input": "2024-04-25T10:18:36.013348Z",
     "iopub.status.busy": "2024-04-25T10:18:36.012979Z",
     "iopub.status.idle": "2024-04-25T10:18:50.250193Z",
     "shell.execute_reply": "2024-04-25T10:18:50.248548Z"
    },
    "papermill": {
     "duration": 14.259812,
     "end_time": "2024-04-25T10:18:50.252276",
     "exception": false,
     "start_time": "2024-04-25T10:18:35.992464",
     "status": "completed"
    },
    "tags": []
   },
   "outputs": [
    {
     "name": "stdout",
     "output_type": "stream",
     "text": [
      "2024-04-25 10:18:37.821215: E external/local_xla/xla/stream_executor/cuda/cuda_dnn.cc:9261] Unable to register cuDNN factory: Attempting to register factory for plugin cuDNN when one has already been registered\r\n",
      "2024-04-25 10:18:37.821271: E external/local_xla/xla/stream_executor/cuda/cuda_fft.cc:607] Unable to register cuFFT factory: Attempting to register factory for plugin cuFFT when one has already been registered\r\n",
      "2024-04-25 10:18:37.822792: E external/local_xla/xla/stream_executor/cuda/cuda_blas.cc:1515] Unable to register cuBLAS factory: Attempting to register factory for plugin cuBLAS when one has already been registered\r\n",
      "freq: W-TUE\r\n",
      "0 / 60\r\n",
      "24\r\n",
      "mae 0.7762088 mse 1.7456571\r\n",
      "--------------------\r\n",
      "36\r\n",
      "mae 0.8120252 mse 1.819366\r\n",
      "--------------------\r\n",
      "48\r\n",
      "mae 0.8505896 mse 1.9495387\r\n",
      "--------------------\r\n",
      "60\r\n",
      "mae 0.8938455 mse 2.0856187\r\n",
      "--------------------\r\n",
      "mae mean 0.83316725\r\n",
      "mse mean 1.9000452\r\n",
      "\r\n",
      "WAPE 0.48274848\r\n",
      "NRMSE 0.8217161\r\n",
      "WAPE 0.4985497\r\n",
      "NRMSE 0.82813096\r\n",
      "WAPE 0.51429737\r\n",
      "NRMSE 0.8442288\r\n",
      "WAPE 0.53351897\r\n",
      "NRMSE 0.8619952\r\n",
      "WAPE mean 0.5072786\r\n",
      "NRMSE mean 0.83901775\r\n",
      "\r\n",
      "CPU times: user 213 ms, sys: 48.5 ms, total: 262 ms\n",
      "Wall time: 14.2 s\n"
     ]
    }
   ],
   "source": [
    "%%time\n",
    "!python test_zeroshot.py --gpu 0 --batch_size 40 --mode small --data 'ill' --uni 0"
   ]
  },
  {
   "cell_type": "markdown",
   "id": "4ba0a902",
   "metadata": {
    "papermill": {
     "duration": 0.019378,
     "end_time": "2024-04-25T10:18:50.291125",
     "exception": false,
     "start_time": "2024-04-25T10:18:50.271747",
     "status": "completed"
    },
    "tags": []
   },
   "source": [
    "finetuning"
   ]
  },
  {
   "cell_type": "code",
   "execution_count": 12,
   "id": "c9fb269d",
   "metadata": {
    "execution": {
     "iopub.execute_input": "2024-04-25T10:18:50.373080Z",
     "iopub.status.busy": "2024-04-25T10:18:50.372247Z",
     "iopub.status.idle": "2024-04-25T10:27:13.151848Z",
     "shell.execute_reply": "2024-04-25T10:27:13.150398Z"
    },
    "papermill": {
     "duration": 502.802153,
     "end_time": "2024-04-25T10:27:13.154055",
     "exception": false,
     "start_time": "2024-04-25T10:18:50.351902",
     "status": "completed"
    },
    "tags": []
   },
   "outputs": [
    {
     "name": "stdout",
     "output_type": "stream",
     "text": [
      "2024-04-25 10:18:52.133020: E external/local_xla/xla/stream_executor/cuda/cuda_dnn.cc:9261] Unable to register cuDNN factory: Attempting to register factory for plugin cuDNN when one has already been registered\r\n",
      "2024-04-25 10:18:52.133081: E external/local_xla/xla/stream_executor/cuda/cuda_fft.cc:607] Unable to register cuFFT factory: Attempting to register factory for plugin cuFFT when one has already been registered\r\n",
      "2024-04-25 10:18:52.134452: E external/local_xla/xla/stream_executor/cuda/cuda_blas.cc:1515] Unable to register cuBLAS factory: Attempting to register factory for plugin cuBLAS when one has already been registered\r\n",
      "freq: h\r\n",
      "Epoch 1/30\r\n",
      "WARNING: All log messages before absl::InitializeLog() is called are written to STDERR\r\n",
      "I0000 00:00:1714040354.954687   12928 device_compiler.h:186] Compiled cluster using XLA!  This line is logged at most once for the lifetime of the process.\r\n",
      "213/213 [==============================] - 82s 325ms/step - loss: 0.5849 - val_loss: 0.8236\r\n",
      "Epoch 2/30\r\n",
      "213/213 [==============================] - 66s 312ms/step - loss: 0.5073 - val_loss: 0.7927\r\n",
      "Epoch 3/30\r\n",
      "213/213 [==============================] - 66s 311ms/step - loss: 0.4900 - val_loss: 0.7883\r\n",
      "Epoch 4/30\r\n",
      "213/213 [==============================] - 66s 312ms/step - loss: 0.4817 - val_loss: 0.7880\r\n",
      "Epoch 5/30\r\n",
      "213/213 [==============================] - 66s 309ms/step - loss: 0.4769 - val_loss: 0.7903\r\n",
      "Epoch 6/30\r\n",
      "213/213 [==============================] - 66s 310ms/step - loss: 0.4731 - val_loss: 0.7918\r\n",
      "Epoch 7/30\r\n",
      "213/213 [==============================] - 66s 310ms/step - loss: 0.4699 - val_loss: 0.7923\r\n",
      "24\r\n",
      "mae 0.34449968 mse 0.30449793\r\n",
      "--------------------\r\n",
      "96\r\n",
      "mae 0.38042775 mse 0.3650699\r\n",
      "--------------------\r\n",
      "192\r\n",
      "mae 0.40322974 mse 0.40627193\r\n",
      "--------------------\r\n",
      "336\r\n",
      "mae 0.43045348 mse 0.44609776\r\n",
      "--------------------\r\n",
      "720\r\n",
      "mae 0.49225563 mse 0.52829087\r\n",
      "--------------------\r\n",
      "mae mean 0.41017327\r\n",
      "mse mean 0.41004568\r\n",
      "\r\n",
      "CPU times: user 8.73 s, sys: 1.82 s, total: 10.6 s\n",
      "Wall time: 8min 22s\n"
     ]
    }
   ],
   "source": [
    "%%time\n",
    "!python test_finetune.py --gpu 0 --batch_size 40 --mode small --data 'h1' --uni 0"
   ]
  },
  {
   "cell_type": "code",
   "execution_count": 13,
   "id": "c4981966",
   "metadata": {
    "execution": {
     "iopub.execute_input": "2024-04-25T10:27:13.430722Z",
     "iopub.status.busy": "2024-04-25T10:27:13.430363Z",
     "iopub.status.idle": "2024-04-25T10:33:24.963880Z",
     "shell.execute_reply": "2024-04-25T10:33:24.962396Z"
    },
    "papermill": {
     "duration": 371.674827,
     "end_time": "2024-04-25T10:33:24.966001",
     "exception": false,
     "start_time": "2024-04-25T10:27:13.291174",
     "status": "completed"
    },
    "tags": []
   },
   "outputs": [
    {
     "name": "stdout",
     "output_type": "stream",
     "text": [
      "2024-04-25 10:27:15.330555: E external/local_xla/xla/stream_executor/cuda/cuda_dnn.cc:9261] Unable to register cuDNN factory: Attempting to register factory for plugin cuDNN when one has already been registered\r\n",
      "2024-04-25 10:27:15.330619: E external/local_xla/xla/stream_executor/cuda/cuda_fft.cc:607] Unable to register cuFFT factory: Attempting to register factory for plugin cuFFT when one has already been registered\r\n",
      "2024-04-25 10:27:15.332167: E external/local_xla/xla/stream_executor/cuda/cuda_blas.cc:1515] Unable to register cuBLAS factory: Attempting to register factory for plugin cuBLAS when one has already been registered\r\n",
      "freq: h\r\n",
      "Epoch 1/30\r\n",
      "WARNING: All log messages before absl::InitializeLog() is called are written to STDERR\r\n",
      "I0000 00:00:1714040858.973614   13293 device_compiler.h:186] Compiled cluster using XLA!  This line is logged at most once for the lifetime of the process.\r\n",
      "213/213 [==============================] - 83s 325ms/step - loss: 0.5857 - val_loss: 0.5475\r\n",
      "Epoch 2/30\r\n",
      "213/213 [==============================] - 66s 312ms/step - loss: 0.5236 - val_loss: 0.5375\r\n",
      "Epoch 3/30\r\n",
      "213/213 [==============================] - 66s 310ms/step - loss: 0.5003 - val_loss: 0.5435\r\n",
      "Epoch 4/30\r\n",
      "213/213 [==============================] - 66s 310ms/step - loss: 0.4858 - val_loss: 0.5454\r\n",
      "Epoch 5/30\r\n",
      "213/213 [==============================] - 66s 309ms/step - loss: 0.4813 - val_loss: 0.5489\r\n",
      "24\r\n",
      "mae 0.23674011 mse 0.1413676\r\n",
      "--------------------\r\n",
      "96\r\n",
      "mae 0.29356316 mse 0.22003731\r\n",
      "--------------------\r\n",
      "192\r\n",
      "mae 0.32500908 mse 0.262122\r\n",
      "--------------------\r\n",
      "336\r\n",
      "mae 0.35481912 mse 0.29759428\r\n",
      "--------------------\r\n",
      "720\r\n",
      "mae 0.4146004 mse 0.3733468\r\n",
      "--------------------\r\n",
      "mae mean 0.32494634\r\n",
      "mse mean 0.2588936\r\n",
      "\r\n",
      "CPU times: user 6.73 s, sys: 1.32 s, total: 8.05 s\n",
      "Wall time: 6min 11s\n"
     ]
    }
   ],
   "source": [
    "%%time\n",
    "!python test_finetune.py --gpu 0 --batch_size 40 --mode small --data 'h2' --uni 0"
   ]
  },
  {
   "cell_type": "code",
   "execution_count": 14,
   "id": "25c874b0",
   "metadata": {
    "execution": {
     "iopub.execute_input": "2024-04-25T10:33:25.447521Z",
     "iopub.status.busy": "2024-04-25T10:33:25.446677Z",
     "iopub.status.idle": "2024-04-25T11:13:17.594513Z",
     "shell.execute_reply": "2024-04-25T11:13:17.593218Z"
    },
    "papermill": {
     "duration": 2392.38057,
     "end_time": "2024-04-25T11:13:17.596815",
     "exception": false,
     "start_time": "2024-04-25T10:33:25.216245",
     "status": "completed"
    },
    "tags": []
   },
   "outputs": [
    {
     "name": "stdout",
     "output_type": "stream",
     "text": [
      "2024-04-25 10:33:27.258786: E external/local_xla/xla/stream_executor/cuda/cuda_dnn.cc:9261] Unable to register cuDNN factory: Attempting to register factory for plugin cuDNN when one has already been registered\r\n",
      "2024-04-25 10:33:27.258849: E external/local_xla/xla/stream_executor/cuda/cuda_fft.cc:607] Unable to register cuFFT factory: Attempting to register factory for plugin cuFFT when one has already been registered\r\n",
      "2024-04-25 10:33:27.260463: E external/local_xla/xla/stream_executor/cuda/cuda_blas.cc:1515] Unable to register cuBLAS factory: Attempting to register factory for plugin cuBLAS when one has already been registered\r\n",
      "freq: 15min\r\n",
      "Epoch 1/30\r\n",
      "WARNING: All log messages before absl::InitializeLog() is called are written to STDERR\r\n",
      "I0000 00:00:1714041231.391173   13613 device_compiler.h:186] Compiled cluster using XLA!  This line is logged at most once for the lifetime of the process.\r\n",
      "861/861 [==============================] - 275s 303ms/step - loss: 0.4465 - val_loss: 0.6321\r\n",
      "Epoch 2/30\r\n",
      "861/861 [==============================] - 258s 300ms/step - loss: 0.4221 - val_loss: 0.6302\r\n",
      "Epoch 3/30\r\n",
      "861/861 [==============================] - 258s 300ms/step - loss: 0.4175 - val_loss: 0.6303\r\n",
      "Epoch 4/30\r\n",
      "861/861 [==============================] - 258s 300ms/step - loss: 0.4148 - val_loss: 0.6301\r\n",
      "Epoch 5/30\r\n",
      "861/861 [==============================] - 258s 299ms/step - loss: 0.4132 - val_loss: 0.6304\r\n",
      "Epoch 6/30\r\n",
      "861/861 [==============================] - 258s 300ms/step - loss: 0.4120 - val_loss: 0.6299\r\n",
      "Epoch 7/30\r\n",
      "861/861 [==============================] - 258s 300ms/step - loss: 0.4109 - val_loss: 0.6303\r\n",
      "Epoch 8/30\r\n",
      "861/861 [==============================] - 258s 299ms/step - loss: 0.4102 - val_loss: 0.6308\r\n",
      "Epoch 9/30\r\n",
      "861/861 [==============================] - 257s 299ms/step - loss: 0.4096 - val_loss: 0.6317\r\n",
      "24\r\n",
      "mae 0.26597154 mse 0.19835575\r\n",
      "--------------------\r\n",
      "96\r\n",
      "mae 0.33338028 mse 0.2870404\r\n",
      "--------------------\r\n",
      "192\r\n",
      "mae 0.35886395 mse 0.32860923\r\n",
      "--------------------\r\n",
      "336\r\n",
      "mae 0.3819052 mse 0.36704665\r\n",
      "--------------------\r\n",
      "720\r\n",
      "mae 0.4155026 mse 0.42757943\r\n",
      "--------------------\r\n",
      "mae mean 0.3511247\r\n",
      "mse mean 0.32172626\r\n",
      "\r\n",
      "CPU times: user 42.4 s, sys: 8.89 s, total: 51.3 s\n",
      "Wall time: 39min 52s\n"
     ]
    }
   ],
   "source": [
    "%%time\n",
    "!python test_finetune.py --gpu 0 --batch_size 40 --mode small --data 'm1' --uni 0"
   ]
  },
  {
   "cell_type": "code",
   "execution_count": 15,
   "id": "0a673eea",
   "metadata": {
    "execution": {
     "iopub.execute_input": "2024-04-25T11:13:19.274004Z",
     "iopub.status.busy": "2024-04-25T11:13:19.273102Z",
     "iopub.status.idle": "2024-04-25T11:31:38.398917Z",
     "shell.execute_reply": "2024-04-25T11:31:38.397527Z"
    },
    "papermill": {
     "duration": 1099.964012,
     "end_time": "2024-04-25T11:31:38.401153",
     "exception": false,
     "start_time": "2024-04-25T11:13:18.437141",
     "status": "completed"
    },
    "tags": []
   },
   "outputs": [
    {
     "name": "stdout",
     "output_type": "stream",
     "text": [
      "2024-04-25 11:13:21.030780: E external/local_xla/xla/stream_executor/cuda/cuda_dnn.cc:9261] Unable to register cuDNN factory: Attempting to register factory for plugin cuDNN when one has already been registered\r\n",
      "2024-04-25 11:13:21.030834: E external/local_xla/xla/stream_executor/cuda/cuda_fft.cc:607] Unable to register cuFFT factory: Attempting to register factory for plugin cuFFT when one has already been registered\r\n",
      "2024-04-25 11:13:21.032268: E external/local_xla/xla/stream_executor/cuda/cuda_blas.cc:1515] Unable to register cuBLAS factory: Attempting to register factory for plugin cuBLAS when one has already been registered\r\n",
      "freq: 15min\r\n",
      "Epoch 1/30\r\n",
      "WARNING: All log messages before absl::InitializeLog() is called are written to STDERR\r\n",
      "I0000 00:00:1714043624.148955   14071 device_compiler.h:186] Compiled cluster using XLA!  This line is logged at most once for the lifetime of the process.\r\n",
      "861/861 [==============================] - 273s 302ms/step - loss: 0.3893 - val_loss: 0.3487\r\n",
      "Epoch 2/30\r\n",
      "861/861 [==============================] - 257s 299ms/step - loss: 0.3655 - val_loss: 0.3514\r\n",
      "Epoch 3/30\r\n",
      "861/861 [==============================] - 257s 299ms/step - loss: 0.3592 - val_loss: 0.3517\r\n",
      "Epoch 4/30\r\n",
      "861/861 [==============================] - 257s 299ms/step - loss: 0.3561 - val_loss: 0.3516\r\n",
      "24\r\n",
      "mae 0.18193209 mse 0.09186124\r\n",
      "--------------------\r\n",
      "96\r\n",
      "mae 0.24104077 mse 0.15823574\r\n",
      "--------------------\r\n",
      "192\r\n",
      "mae 0.27947494 mse 0.212075\r\n",
      "--------------------\r\n",
      "336\r\n",
      "mae 0.31483337 mse 0.26446855\r\n",
      "--------------------\r\n",
      "720\r\n",
      "mae 0.36830166 mse 0.34311512\r\n",
      "--------------------\r\n",
      "mae mean 0.27711657\r\n",
      "mse mean 0.21395114\r\n",
      "\r\n",
      "CPU times: user 18.1 s, sys: 3.81 s, total: 21.9 s\n",
      "Wall time: 18min 19s\n"
     ]
    }
   ],
   "source": [
    "%%time\n",
    "!python test_finetune.py --gpu 0 --batch_size 40 --mode small --data 'm2' --uni 0"
   ]
  },
  {
   "cell_type": "code",
   "execution_count": 16,
   "id": "79a061c5",
   "metadata": {
    "execution": {
     "iopub.execute_input": "2024-04-25T11:31:40.675126Z",
     "iopub.status.busy": "2024-04-25T11:31:40.674209Z",
     "iopub.status.idle": "2024-04-25T11:36:30.607386Z",
     "shell.execute_reply": "2024-04-25T11:36:30.606139Z"
    },
    "papermill": {
     "duration": 291.037493,
     "end_time": "2024-04-25T11:36:30.609505",
     "exception": false,
     "start_time": "2024-04-25T11:31:39.572012",
     "status": "completed"
    },
    "tags": []
   },
   "outputs": [
    {
     "name": "stdout",
     "output_type": "stream",
     "text": [
      "2024-04-25 11:31:42.422398: E external/local_xla/xla/stream_executor/cuda/cuda_dnn.cc:9261] Unable to register cuDNN factory: Attempting to register factory for plugin cuDNN when one has already been registered\r\n",
      "2024-04-25 11:31:42.422458: E external/local_xla/xla/stream_executor/cuda/cuda_fft.cc:607] Unable to register cuFFT factory: Attempting to register factory for plugin cuFFT when one has already been registered\r\n",
      "2024-04-25 11:31:42.423901: E external/local_xla/xla/stream_executor/cuda/cuda_blas.cc:1515] Unable to register cuBLAS factory: Attempting to register factory for plugin cuBLAS when one has already been registered\r\n",
      "freq: D\r\n",
      "Epoch 1/30\r\n",
      "WARNING: All log messages before absl::InitializeLog() is called are written to STDERR\r\n",
      "I0000 00:00:1714044725.137668   14423 device_compiler.h:186] Compiled cluster using XLA!  This line is logged at most once for the lifetime of the process.\r\n",
      "125/125 [==============================] - 59s 364ms/step - loss: 0.8105 - val_loss: 0.7450\r\n",
      "Epoch 2/30\r\n",
      "125/125 [==============================] - 43s 344ms/step - loss: 0.6341 - val_loss: 0.6673\r\n",
      "Epoch 3/30\r\n",
      "125/125 [==============================] - 43s 346ms/step - loss: 0.5907 - val_loss: 0.6636\r\n",
      "Epoch 4/30\r\n",
      "125/125 [==============================] - 43s 341ms/step - loss: 0.5606 - val_loss: 0.6762\r\n",
      "Epoch 5/30\r\n",
      "125/125 [==============================] - 43s 344ms/step - loss: 0.5433 - val_loss: 0.7001\r\n",
      "Epoch 6/30\r\n",
      "125/125 [==============================] - 43s 342ms/step - loss: 0.5225 - val_loss: 0.7097\r\n",
      "24\r\n",
      "mae 0.115946874 mse 0.03799932\r\n",
      "--------------------\r\n",
      "96\r\n",
      "mae 0.26588738 mse 0.14293681\r\n",
      "--------------------\r\n",
      "192\r\n",
      "mae 0.4413359 mse 0.35356054\r\n",
      "--------------------\r\n",
      "336\r\n",
      "mae 0.6605578 mse 0.7393966\r\n",
      "--------------------\r\n",
      "720\r\n",
      "mae 0.9844436 mse 1.4866613\r\n",
      "--------------------\r\n",
      "mae mean 0.4936343\r\n",
      "mse mean 0.5521109\r\n",
      "\r\n",
      "CPU times: user 4.66 s, sys: 1.02 s, total: 5.69 s\n",
      "Wall time: 4min 49s\n"
     ]
    }
   ],
   "source": [
    "%%time\n",
    "!python test_finetune.py --gpu 0 --batch_size 40 --mode small --data 'exchange_rate' --uni 0"
   ]
  },
  {
   "cell_type": "code",
   "execution_count": 17,
   "id": "4c10fc38",
   "metadata": {
    "execution": {
     "iopub.execute_input": "2024-04-25T11:36:33.058435Z",
     "iopub.status.busy": "2024-04-25T11:36:33.057936Z",
     "iopub.status.idle": "2024-04-25T12:59:15.067134Z",
     "shell.execute_reply": "2024-04-25T12:59:15.065838Z"
    },
    "papermill": {
     "duration": 4963.277411,
     "end_time": "2024-04-25T12:59:15.069226",
     "exception": false,
     "start_time": "2024-04-25T11:36:31.791815",
     "status": "completed"
    },
    "tags": []
   },
   "outputs": [
    {
     "name": "stdout",
     "output_type": "stream",
     "text": [
      "2024-04-25 11:36:34.846611: E external/local_xla/xla/stream_executor/cuda/cuda_dnn.cc:9261] Unable to register cuDNN factory: Attempting to register factory for plugin cuDNN when one has already been registered\r\n",
      "2024-04-25 11:36:34.846671: E external/local_xla/xla/stream_executor/cuda/cuda_fft.cc:607] Unable to register cuFFT factory: Attempting to register factory for plugin cuFFT when one has already been registered\r\n",
      "2024-04-25 11:36:34.848227: E external/local_xla/xla/stream_executor/cuda/cuda_blas.cc:1515] Unable to register cuBLAS factory: Attempting to register factory for plugin cuBLAS when one has already been registered\r\n",
      "freq: None\r\n",
      "Epoch 1/30\r\n",
      "WARNING: All log messages before absl::InitializeLog() is called are written to STDERR\r\n",
      "I0000 00:00:1714045023.551023   14751 device_compiler.h:186] Compiled cluster using XLA!  This line is logged at most once for the lifetime of the process.\r\n",
      "919/919 [==============================] - 502s 532ms/step - loss: 0.4094 - val_loss: 0.3947\r\n",
      "Epoch 2/30\r\n",
      "919/919 [==============================] - 486s 529ms/step - loss: 0.3893 - val_loss: 0.3904\r\n",
      "Epoch 3/30\r\n",
      "919/919 [==============================] - 486s 529ms/step - loss: 0.3863 - val_loss: 0.3892\r\n",
      "Epoch 4/30\r\n",
      "919/919 [==============================] - 486s 529ms/step - loss: 0.3846 - val_loss: 0.3890\r\n",
      "Epoch 5/30\r\n",
      "919/919 [==============================] - 486s 529ms/step - loss: 0.3835 - val_loss: 0.3894\r\n",
      "Epoch 6/30\r\n",
      "919/919 [==============================] - 486s 529ms/step - loss: 0.3826 - val_loss: 0.3900\r\n",
      "Epoch 7/30\r\n",
      "919/919 [==============================] - 486s 529ms/step - loss: 0.3821 - val_loss: 0.3885\r\n",
      "Epoch 8/30\r\n",
      "919/919 [==============================] - 486s 528ms/step - loss: 0.3817 - val_loss: 0.3922\r\n",
      "Epoch 9/30\r\n",
      "919/919 [==============================] - 486s 528ms/step - loss: 0.3811 - val_loss: 0.3913\r\n",
      "Epoch 10/30\r\n",
      "919/919 [==============================] - 486s 529ms/step - loss: 0.3810 - val_loss: 0.3909\r\n",
      "24\r\n",
      "mae 0.098703675 mse 0.08564558\r\n",
      "--------------------\r\n",
      "96\r\n",
      "mae 0.17035235 mse 0.13472871\r\n",
      "--------------------\r\n",
      "192\r\n",
      "mae 0.2180996 mse 0.17891248\r\n",
      "--------------------\r\n",
      "336\r\n",
      "mae 0.26174414 mse 0.23002903\r\n",
      "--------------------\r\n",
      "720\r\n",
      "mae 0.3140443 mse 0.30182502\r\n",
      "--------------------\r\n",
      "mae mean 0.21258882\r\n",
      "mse mean 0.18622816\r\n",
      "\r\n",
      "CPU times: user 1min 18s, sys: 16.2 s, total: 1min 34s\n",
      "Wall time: 1h 22min 42s\n"
     ]
    }
   ],
   "source": [
    "%%time\n",
    "!python test_finetune.py --gpu 0 --batch_size 40 --mode small --data 'weather' --uni 0"
   ]
  },
  {
   "cell_type": "code",
   "execution_count": 18,
   "id": "8bd71b50",
   "metadata": {
    "execution": {
     "iopub.execute_input": "2024-04-25T12:59:19.022120Z",
     "iopub.status.busy": "2024-04-25T12:59:19.021175Z",
     "iopub.status.idle": "2024-04-25T13:01:50.007162Z",
     "shell.execute_reply": "2024-04-25T13:01:50.005568Z"
    },
    "papermill": {
     "duration": 153.017966,
     "end_time": "2024-04-25T13:01:50.009530",
     "exception": false,
     "start_time": "2024-04-25T12:59:16.991564",
     "status": "completed"
    },
    "tags": []
   },
   "outputs": [
    {
     "name": "stdout",
     "output_type": "stream",
     "text": [
      "2024-04-25 12:59:20.817767: E external/local_xla/xla/stream_executor/cuda/cuda_dnn.cc:9261] Unable to register cuDNN factory: Attempting to register factory for plugin cuDNN when one has already been registered\r\n",
      "2024-04-25 12:59:20.817834: E external/local_xla/xla/stream_executor/cuda/cuda_fft.cc:607] Unable to register cuFFT factory: Attempting to register factory for plugin cuFFT when one has already been registered\r\n",
      "2024-04-25 12:59:20.819707: E external/local_xla/xla/stream_executor/cuda/cuda_blas.cc:1515] Unable to register cuBLAS factory: Attempting to register factory for plugin cuBLAS when one has already been registered\r\n",
      "freq: W-TUE\r\n",
      "Epoch 1/30\r\n",
      "WARNING: All log messages before absl::InitializeLog() is called are written to STDERR\r\n",
      "I0000 00:00:1714049983.050598   15223 device_compiler.h:186] Compiled cluster using XLA!  This line is logged at most once for the lifetime of the process.\r\n",
      "15/15 [==============================] - 20s 512ms/step - loss: 0.7054 - val_loss: 0.7401\r\n",
      "Epoch 2/30\r\n",
      "15/15 [==============================] - 5s 330ms/step - loss: 0.6647 - val_loss: 0.7094\r\n",
      "Epoch 3/30\r\n",
      "15/15 [==============================] - 5s 325ms/step - loss: 0.6128 - val_loss: 0.6772\r\n",
      "Epoch 4/30\r\n",
      "15/15 [==============================] - 5s 326ms/step - loss: 0.5795 - val_loss: 0.6517\r\n",
      "Epoch 5/30\r\n",
      "15/15 [==============================] - 5s 325ms/step - loss: 0.5390 - val_loss: 0.6263\r\n",
      "Epoch 6/30\r\n",
      "15/15 [==============================] - 5s 325ms/step - loss: 0.5206 - val_loss: 0.6043\r\n",
      "Epoch 7/30\r\n",
      "15/15 [==============================] - 5s 324ms/step - loss: 0.4969 - val_loss: 0.5854\r\n",
      "Epoch 8/30\r\n",
      "15/15 [==============================] - 5s 331ms/step - loss: 0.4720 - val_loss: 0.5726\r\n",
      "Epoch 9/30\r\n",
      "15/15 [==============================] - 5s 329ms/step - loss: 0.4550 - val_loss: 0.5630\r\n",
      "Epoch 10/30\r\n",
      "15/15 [==============================] - 5s 326ms/step - loss: 0.4487 - val_loss: 0.5519\r\n",
      "Epoch 11/30\r\n",
      "15/15 [==============================] - 5s 325ms/step - loss: 0.4399 - val_loss: 0.5422\r\n",
      "Epoch 12/30\r\n",
      "15/15 [==============================] - 5s 324ms/step - loss: 0.4170 - val_loss: 0.5393\r\n",
      "Epoch 13/30\r\n",
      "15/15 [==============================] - 5s 314ms/step - loss: 0.4144 - val_loss: 0.5343\r\n",
      "Epoch 14/30\r\n",
      "15/15 [==============================] - 5s 329ms/step - loss: 0.4074 - val_loss: 0.5288\r\n",
      "Epoch 15/30\r\n",
      "15/15 [==============================] - 5s 327ms/step - loss: 0.3990 - val_loss: 0.5265\r\n",
      "Epoch 16/30\r\n",
      "15/15 [==============================] - 5s 324ms/step - loss: 0.3932 - val_loss: 0.5257\r\n",
      "Epoch 17/30\r\n",
      "15/15 [==============================] - 5s 325ms/step - loss: 0.3935 - val_loss: 0.5212\r\n",
      "Epoch 18/30\r\n",
      "15/15 [==============================] - 5s 324ms/step - loss: 0.3789 - val_loss: 0.5211\r\n",
      "Epoch 19/30\r\n",
      "15/15 [==============================] - 5s 324ms/step - loss: 0.3842 - val_loss: 0.5173\r\n",
      "Epoch 20/30\r\n",
      "15/15 [==============================] - 5s 323ms/step - loss: 0.3705 - val_loss: 0.5166\r\n",
      "Epoch 21/30\r\n",
      "15/15 [==============================] - 5s 341ms/step - loss: 0.3749 - val_loss: 0.5125\r\n",
      "Epoch 22/30\r\n",
      "15/15 [==============================] - 5s 327ms/step - loss: 0.3611 - val_loss: 0.5095\r\n",
      "Epoch 23/30\r\n",
      "15/15 [==============================] - 4s 298ms/step - loss: 0.3649 - val_loss: 0.5108\r\n",
      "Epoch 24/30\r\n",
      "15/15 [==============================] - 4s 296ms/step - loss: 0.3666 - val_loss: 0.5097\r\n",
      "Epoch 25/30\r\n",
      "15/15 [==============================] - 4s 296ms/step - loss: 0.3501 - val_loss: 0.5105\r\n",
      "24\r\n",
      "mae 0.649895 mse 1.195445\r\n",
      "--------------------\r\n",
      "36\r\n",
      "mae 0.68148303 mse 1.3016635\r\n",
      "--------------------\r\n",
      "48\r\n",
      "mae 0.7156934 mse 1.4089669\r\n",
      "--------------------\r\n",
      "60\r\n",
      "mae 0.7623825 mse 1.6035264\r\n",
      "--------------------\r\n",
      "mae mean 0.7023635\r\n",
      "mse mean 1.3774004\r\n",
      "\r\n",
      "CPU times: user 2.5 s, sys: 602 ms, total: 3.1 s\n",
      "Wall time: 2min 30s\n"
     ]
    }
   ],
   "source": [
    "%%time\n",
    "!python test_finetune.py --gpu 0 --batch_size 40 --mode small --data 'ill' --uni 0"
   ]
  }
 ],
 "metadata": {
  "kaggle": {
   "accelerator": "gpu",
   "dataSources": [],
   "dockerImageVersionId": 30648,
   "isGpuEnabled": true,
   "isInternetEnabled": true,
   "language": "python",
   "sourceType": "notebook"
  },
  "kernelspec": {
   "display_name": "Python 3",
   "language": "python",
   "name": "python3"
  },
  "language_info": {
   "codemirror_mode": {
    "name": "ipython",
    "version": 3
   },
   "file_extension": ".py",
   "mimetype": "text/x-python",
   "name": "python",
   "nbconvert_exporter": "python",
   "pygments_lexer": "ipython3",
   "version": "3.10.13"
  },
  "papermill": {
   "default_parameters": {},
   "duration": 12185.115331,
   "end_time": "2024-04-25T13:01:52.208411",
   "environment_variables": {},
   "exception": null,
   "input_path": "__notebook__.ipynb",
   "output_path": "__notebook__.ipynb",
   "parameters": {},
   "start_time": "2024-04-25T09:38:47.093080",
   "version": "2.5.0"
  }
 },
 "nbformat": 4,
 "nbformat_minor": 5
}
