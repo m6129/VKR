{
 "cells": [
  {
   "cell_type": "code",
   "execution_count": 1,
   "id": "6b287d5e",
   "metadata": {
    "execution": {
     "iopub.execute_input": "2024-05-03T11:04:25.654724Z",
     "iopub.status.busy": "2024-05-03T11:04:25.654400Z",
     "iopub.status.idle": "2024-05-03T11:04:34.585625Z",
     "shell.execute_reply": "2024-05-03T11:04:34.584514Z"
    },
    "papermill": {
     "duration": 8.940396,
     "end_time": "2024-05-03T11:04:34.587892",
     "exception": false,
     "start_time": "2024-05-03T11:04:25.647496",
     "status": "completed"
    },
    "tags": []
   },
   "outputs": [
    {
     "name": "stdout",
     "output_type": "stream",
     "text": [
      "Cloning into 'GTT'...\r\n",
      "remote: Enumerating objects: 266, done.\u001b[K\r\n",
      "remote: Counting objects: 100% (40/40), done.\u001b[K\r\n",
      "remote: Compressing objects: 100% (37/37), done.\u001b[K\r\n",
      "remote: Total 266 (delta 20), reused 0 (delta 0), pack-reused 226\u001b[K\r\n",
      "Receiving objects: 100% (266/266), 229.68 MiB | 41.32 MiB/s, done.\r\n",
      "Resolving deltas: 100% (134/134), done.\r\n",
      "Updating files: 100% (40/40), done.\r\n"
     ]
    }
   ],
   "source": [
    "!git clone https://github.com/m6129/GTT.git"
   ]
  },
  {
   "cell_type": "code",
   "execution_count": 2,
   "id": "c4e9eb3a",
   "metadata": {
    "execution": {
     "iopub.execute_input": "2024-05-03T11:04:34.603644Z",
     "iopub.status.busy": "2024-05-03T11:04:34.603326Z",
     "iopub.status.idle": "2024-05-03T11:04:35.557381Z",
     "shell.execute_reply": "2024-05-03T11:04:35.556219Z"
    },
    "papermill": {
     "duration": 0.96453,
     "end_time": "2024-05-03T11:04:35.559768",
     "exception": false,
     "start_time": "2024-05-03T11:04:34.595238",
     "status": "completed"
    },
    "tags": []
   },
   "outputs": [
    {
     "name": "stdout",
     "output_type": "stream",
     "text": [
      "Python 3.10.13\r\n"
     ]
    }
   ],
   "source": [
    "!python --version"
   ]
  },
  {
   "cell_type": "code",
   "execution_count": 3,
   "id": "3da0d8b2",
   "metadata": {
    "execution": {
     "iopub.execute_input": "2024-05-03T11:04:35.575293Z",
     "iopub.status.busy": "2024-05-03T11:04:35.574850Z",
     "iopub.status.idle": "2024-05-03T11:04:51.335169Z",
     "shell.execute_reply": "2024-05-03T11:04:51.333965Z"
    },
    "papermill": {
     "duration": 15.77085,
     "end_time": "2024-05-03T11:04:51.337782",
     "exception": false,
     "start_time": "2024-05-03T11:04:35.566932",
     "status": "completed"
    },
    "tags": []
   },
   "outputs": [
    {
     "name": "stdout",
     "output_type": "stream",
     "text": [
      "Collecting auto_mix_prep==0.2.0\r\n",
      "  Downloading auto-mix-prep-0.2.0.tar.gz (2.9 kB)\r\n",
      "  Preparing metadata (setup.py) ... \u001b[?25l-\b \b\\\b \bdone\r\n",
      "\u001b[?25hRequirement already satisfied: pydub in /opt/conda/lib/python3.10/site-packages (from auto_mix_prep==0.2.0) (0.25.1)\r\n",
      "Building wheels for collected packages: auto_mix_prep\r\n",
      "  Building wheel for auto_mix_prep (setup.py) ... \u001b[?25l-\b \b\\\b \b|\b \bdone\r\n",
      "\u001b[?25h  Created wheel for auto_mix_prep: filename=auto_mix_prep-0.2.0-py3-none-any.whl size=3449 sha256=6dc9b89001e84b7509b59f654ac07647e3d7ed90d26934cea18022855b13b24d\r\n",
      "  Stored in directory: /root/.cache/pip/wheels/14/0e/82/6699c12200cd992629464f52929699432a57d29f593df25773\r\n",
      "Successfully built auto_mix_prep\r\n",
      "Installing collected packages: auto_mix_prep\r\n",
      "Successfully installed auto_mix_prep-0.2.0\r\n"
     ]
    }
   ],
   "source": [
    "!pip install auto_mix_prep==0.2.0"
   ]
  },
  {
   "cell_type": "markdown",
   "id": "847fb094",
   "metadata": {
    "papermill": {
     "duration": 0.007546,
     "end_time": "2024-05-03T11:04:51.353641",
     "exception": false,
     "start_time": "2024-05-03T11:04:51.346095",
     "status": "completed"
    },
    "tags": []
   },
   "source": [
    "**если zero-shot**"
   ]
  },
  {
   "cell_type": "code",
   "execution_count": 4,
   "id": "6e002ed2",
   "metadata": {
    "execution": {
     "iopub.execute_input": "2024-05-03T11:04:51.370516Z",
     "iopub.status.busy": "2024-05-03T11:04:51.370172Z",
     "iopub.status.idle": "2024-05-03T11:04:51.377048Z",
     "shell.execute_reply": "2024-05-03T11:04:51.375948Z"
    },
    "papermill": {
     "duration": 0.017721,
     "end_time": "2024-05-03T11:04:51.378962",
     "exception": false,
     "start_time": "2024-05-03T11:04:51.361241",
     "status": "completed"
    },
    "tags": []
   },
   "outputs": [
    {
     "name": "stdout",
     "output_type": "stream",
     "text": [
      "/kaggle/working/GTT/src\n"
     ]
    }
   ],
   "source": [
    "cd /kaggle/working/GTT/src/"
   ]
  },
  {
   "cell_type": "code",
   "execution_count": 5,
   "id": "1a1dbd4e",
   "metadata": {
    "execution": {
     "iopub.execute_input": "2024-05-03T11:04:51.395567Z",
     "iopub.status.busy": "2024-05-03T11:04:51.395301Z",
     "iopub.status.idle": "2024-05-03T11:06:43.502304Z",
     "shell.execute_reply": "2024-05-03T11:06:43.500969Z"
    },
    "papermill": {
     "duration": 112.117417,
     "end_time": "2024-05-03T11:06:43.504353",
     "exception": false,
     "start_time": "2024-05-03T11:04:51.386936",
     "status": "completed"
    },
    "tags": []
   },
   "outputs": [
    {
     "name": "stdout",
     "output_type": "stream",
     "text": [
      "2024-05-03 11:04:54.839946: E external/local_xla/xla/stream_executor/cuda/cuda_dnn.cc:9261] Unable to register cuDNN factory: Attempting to register factory for plugin cuDNN when one has already been registered\r\n",
      "2024-05-03 11:04:54.840080: E external/local_xla/xla/stream_executor/cuda/cuda_fft.cc:607] Unable to register cuFFT factory: Attempting to register factory for plugin cuFFT when one has already been registered\r\n",
      "2024-05-03 11:04:54.966885: E external/local_xla/xla/stream_executor/cuda/cuda_blas.cc:1515] Unable to register cuBLAS factory: Attempting to register factory for plugin cuBLAS when one has already been registered\r\n",
      "freq: h\r\n",
      "0 / 720\r\n",
      "64 / 720\r\n",
      "128 / 720\r\n",
      "192 / 720\r\n",
      "256 / 720\r\n",
      "320 / 720\r\n",
      "384 / 720\r\n",
      "448 / 720\r\n",
      "512 / 720\r\n",
      "576 / 720\r\n",
      "640 / 720\r\n",
      "704 / 720\r\n",
      "24\r\n",
      "mae 0.13835126 mse 0.033735126\r\n",
      "--------------------\r\n",
      "96\r\n",
      "mae 0.19357315 mse 0.060697637\r\n",
      "--------------------\r\n",
      "192\r\n",
      "mae 0.20497961 mse 0.068016805\r\n",
      "--------------------\r\n",
      "336\r\n",
      "mae 0.21874963 mse 0.07847156\r\n",
      "--------------------\r\n",
      "720\r\n",
      "mae 0.2351159 mse 0.08757648\r\n",
      "--------------------\r\n",
      "mae mean 0.19815391\r\n",
      "mse mean 0.06569952\r\n",
      "\r\n",
      "WAPE 0.11313101\r\n",
      "NRMSE 0.15018955\r\n",
      "WAPE 0.1570418\r\n",
      "NRMSE 0.19987388\r\n",
      "WAPE 0.16418548\r\n",
      "NRMSE 0.20889698\r\n",
      "WAPE 0.17058775\r\n",
      "NRMSE 0.21845232\r\n",
      "WAPE 0.17394671\r\n",
      "NRMSE 0.21894145\r\n",
      "WAPE mean 0.15577856\r\n",
      "NRMSE mean 0.19927084\r\n",
      "\r\n",
      "CPU times: user 1.48 s, sys: 333 ms, total: 1.82 s\n",
      "Wall time: 1min 52s\n"
     ]
    }
   ],
   "source": [
    "%%time\n",
    "!python test_zeroshot.py --gpu 0 --batch_size 40 --mode tiny --data 'h1' --uni 1"
   ]
  },
  {
   "cell_type": "code",
   "execution_count": 6,
   "id": "8509c561",
   "metadata": {
    "execution": {
     "iopub.execute_input": "2024-05-03T11:06:43.525649Z",
     "iopub.status.busy": "2024-05-03T11:06:43.525330Z",
     "iopub.status.idle": "2024-05-03T11:08:21.899168Z",
     "shell.execute_reply": "2024-05-03T11:08:21.897649Z"
    },
    "papermill": {
     "duration": 98.386572,
     "end_time": "2024-05-03T11:08:21.901435",
     "exception": false,
     "start_time": "2024-05-03T11:06:43.514863",
     "status": "completed"
    },
    "tags": []
   },
   "outputs": [
    {
     "name": "stdout",
     "output_type": "stream",
     "text": [
      "2024-05-03 11:06:45.311124: E external/local_xla/xla/stream_executor/cuda/cuda_dnn.cc:9261] Unable to register cuDNN factory: Attempting to register factory for plugin cuDNN when one has already been registered\r\n",
      "2024-05-03 11:06:45.311187: E external/local_xla/xla/stream_executor/cuda/cuda_fft.cc:607] Unable to register cuFFT factory: Attempting to register factory for plugin cuFFT when one has already been registered\r\n",
      "2024-05-03 11:06:45.313069: E external/local_xla/xla/stream_executor/cuda/cuda_blas.cc:1515] Unable to register cuBLAS factory: Attempting to register factory for plugin cuBLAS when one has already been registered\r\n",
      "freq: h\r\n",
      "0 / 720\r\n",
      "64 / 720\r\n",
      "128 / 720\r\n",
      "192 / 720\r\n",
      "256 / 720\r\n",
      "320 / 720\r\n",
      "384 / 720\r\n",
      "448 / 720\r\n",
      "512 / 720\r\n",
      "576 / 720\r\n",
      "640 / 720\r\n",
      "704 / 720\r\n",
      "24\r\n",
      "mae 0.19239803 mse 0.066796\r\n",
      "--------------------\r\n",
      "96\r\n",
      "mae 0.267808 mse 0.12135972\r\n",
      "--------------------\r\n",
      "192\r\n",
      "mae 0.304612 mse 0.15132856\r\n",
      "--------------------\r\n",
      "336\r\n",
      "mae 0.33467755 mse 0.17507386\r\n",
      "--------------------\r\n",
      "720\r\n",
      "mae 0.37787816 mse 0.22101562\r\n",
      "--------------------\r\n",
      "mae mean 0.29547477\r\n",
      "mse mean 0.14711475\r\n",
      "\r\n",
      "WAPE 0.20926517\r\n",
      "NRMSE 0.28110695\r\n",
      "WAPE 0.28793052\r\n",
      "NRMSE 0.3745428\r\n",
      "WAPE 0.32077083\r\n",
      "NRMSE 0.4096456\r\n",
      "WAPE 0.33718976\r\n",
      "NRMSE 0.4215591\r\n",
      "WAPE 0.34291175\r\n",
      "NRMSE 0.42662084\r\n",
      "WAPE mean 0.2996136\r\n",
      "NRMSE mean 0.38269505\r\n",
      "\r\n",
      "CPU times: user 1.41 s, sys: 275 ms, total: 1.69 s\n",
      "Wall time: 1min 38s\n"
     ]
    }
   ],
   "source": [
    "%%time\n",
    "!python test_zeroshot.py --gpu 0 --batch_size 40 --mode tiny --data 'h2' --uni 1"
   ]
  },
  {
   "cell_type": "code",
   "execution_count": 7,
   "id": "72eff678",
   "metadata": {
    "execution": {
     "iopub.execute_input": "2024-05-03T11:08:21.924563Z",
     "iopub.status.busy": "2024-05-03T11:08:21.924000Z",
     "iopub.status.idle": "2024-05-03T11:15:39.082210Z",
     "shell.execute_reply": "2024-05-03T11:15:39.080976Z"
    },
    "papermill": {
     "duration": 437.172231,
     "end_time": "2024-05-03T11:15:39.084467",
     "exception": false,
     "start_time": "2024-05-03T11:08:21.912236",
     "status": "completed"
    },
    "tags": []
   },
   "outputs": [
    {
     "name": "stdout",
     "output_type": "stream",
     "text": [
      "2024-05-03 11:08:23.675043: E external/local_xla/xla/stream_executor/cuda/cuda_dnn.cc:9261] Unable to register cuDNN factory: Attempting to register factory for plugin cuDNN when one has already been registered\r\n",
      "2024-05-03 11:08:23.675096: E external/local_xla/xla/stream_executor/cuda/cuda_fft.cc:607] Unable to register cuFFT factory: Attempting to register factory for plugin cuFFT when one has already been registered\r\n",
      "2024-05-03 11:08:23.676597: E external/local_xla/xla/stream_executor/cuda/cuda_blas.cc:1515] Unable to register cuBLAS factory: Attempting to register factory for plugin cuBLAS when one has already been registered\r\n",
      "freq: 15min\r\n",
      "0 / 720\r\n",
      "64 / 720\r\n",
      "128 / 720\r\n",
      "192 / 720\r\n",
      "256 / 720\r\n",
      "320 / 720\r\n",
      "384 / 720\r\n",
      "448 / 720\r\n",
      "512 / 720\r\n",
      "576 / 720\r\n",
      "640 / 720\r\n",
      "704 / 720\r\n",
      "24\r\n",
      "mae 0.07693827 mse 0.011467306\r\n",
      "--------------------\r\n",
      "96\r\n",
      "mae 0.13208759 mse 0.031439982\r\n",
      "--------------------\r\n",
      "192\r\n",
      "mae 0.1601301 mse 0.045689896\r\n",
      "--------------------\r\n",
      "336\r\n",
      "mae 0.1805353 mse 0.058058295\r\n",
      "--------------------\r\n",
      "720\r\n",
      "mae 0.20969242 mse 0.075305104\r\n",
      "--------------------\r\n",
      "mae mean 0.15187673\r\n",
      "mse mean 0.044392116\r\n",
      "\r\n",
      "WAPE 0.058167588\r\n",
      "NRMSE 0.08095979\r\n",
      "WAPE 0.09966769\r\n",
      "NRMSE 0.13379304\r\n",
      "WAPE 0.12061125\r\n",
      "NRMSE 0.16099964\r\n",
      "WAPE 0.13567063\r\n",
      "NRMSE 0.1810739\r\n",
      "WAPE 0.15611441\r\n",
      "NRMSE 0.20430194\r\n",
      "WAPE mean 0.11404631\r\n",
      "NRMSE mean 0.15222566\r\n",
      "\r\n",
      "CPU times: user 5.64 s, sys: 1.25 s, total: 6.89 s\n",
      "Wall time: 7min 17s\n"
     ]
    }
   ],
   "source": [
    "%%time\n",
    "!python test_zeroshot.py --gpu 0 --batch_size 40 --mode tiny --data 'm1' --uni 1"
   ]
  },
  {
   "cell_type": "code",
   "execution_count": 8,
   "id": "3100860a",
   "metadata": {
    "execution": {
     "iopub.execute_input": "2024-05-03T11:15:39.110387Z",
     "iopub.status.busy": "2024-05-03T11:15:39.110066Z",
     "iopub.status.idle": "2024-05-03T11:22:55.175274Z",
     "shell.execute_reply": "2024-05-03T11:22:55.174091Z"
    },
    "papermill": {
     "duration": 436.080685,
     "end_time": "2024-05-03T11:22:55.177323",
     "exception": false,
     "start_time": "2024-05-03T11:15:39.096638",
     "status": "completed"
    },
    "tags": []
   },
   "outputs": [
    {
     "name": "stdout",
     "output_type": "stream",
     "text": [
      "2024-05-03 11:15:40.898605: E external/local_xla/xla/stream_executor/cuda/cuda_dnn.cc:9261] Unable to register cuDNN factory: Attempting to register factory for plugin cuDNN when one has already been registered\r\n",
      "2024-05-03 11:15:40.898662: E external/local_xla/xla/stream_executor/cuda/cuda_fft.cc:607] Unable to register cuFFT factory: Attempting to register factory for plugin cuFFT when one has already been registered\r\n",
      "2024-05-03 11:15:40.900100: E external/local_xla/xla/stream_executor/cuda/cuda_blas.cc:1515] Unable to register cuBLAS factory: Attempting to register factory for plugin cuBLAS when one has already been registered\r\n",
      "freq: 15min\r\n",
      "0 / 720\r\n",
      "64 / 720\r\n",
      "128 / 720\r\n",
      "192 / 720\r\n",
      "256 / 720\r\n",
      "320 / 720\r\n",
      "384 / 720\r\n",
      "448 / 720\r\n",
      "512 / 720\r\n",
      "576 / 720\r\n",
      "640 / 720\r\n",
      "704 / 720\r\n",
      "24\r\n",
      "mae 0.10069635 mse 0.023950104\r\n",
      "--------------------\r\n",
      "96\r\n",
      "mae 0.19322145 mse 0.07089857\r\n",
      "--------------------\r\n",
      "192\r\n",
      "mae 0.23754336 mse 0.102761075\r\n",
      "--------------------\r\n",
      "336\r\n",
      "mae 0.27819344 mse 0.13597608\r\n",
      "--------------------\r\n",
      "720\r\n",
      "mae 0.3409088 mse 0.19746318\r\n",
      "--------------------\r\n",
      "mae mean 0.23011267\r\n",
      "mse mean 0.1062098\r\n",
      "\r\n",
      "WAPE 0.09233432\r\n",
      "NRMSE 0.14190678\r\n",
      "WAPE 0.17656974\r\n",
      "NRMSE 0.24332106\r\n",
      "WAPE 0.21646833\r\n",
      "NRMSE 0.29212302\r\n",
      "WAPE 0.2528033\r\n",
      "NRMSE 0.33509433\r\n",
      "WAPE 0.30625778\r\n",
      "NRMSE 0.39920133\r\n",
      "WAPE mean 0.2088867\r\n",
      "NRMSE mean 0.28232932\r\n",
      "\r\n",
      "CPU times: user 5.53 s, sys: 1.28 s, total: 6.81 s\n",
      "Wall time: 7min 16s\n"
     ]
    }
   ],
   "source": [
    "%%time\n",
    "!python test_zeroshot.py --gpu 0 --batch_size 40 --mode tiny --data 'm2' --uni 1"
   ]
  },
  {
   "cell_type": "code",
   "execution_count": 9,
   "id": "be2f59fc",
   "metadata": {
    "execution": {
     "iopub.execute_input": "2024-05-03T11:22:55.206114Z",
     "iopub.status.busy": "2024-05-03T11:22:55.205793Z",
     "iopub.status.idle": "2024-05-03T11:23:19.869446Z",
     "shell.execute_reply": "2024-05-03T11:23:19.868184Z"
    },
    "papermill": {
     "duration": 24.680495,
     "end_time": "2024-05-03T11:23:19.871609",
     "exception": false,
     "start_time": "2024-05-03T11:22:55.191114",
     "status": "completed"
    },
    "tags": []
   },
   "outputs": [
    {
     "name": "stdout",
     "output_type": "stream",
     "text": [
      "2024-05-03 11:22:56.958149: E external/local_xla/xla/stream_executor/cuda/cuda_dnn.cc:9261] Unable to register cuDNN factory: Attempting to register factory for plugin cuDNN when one has already been registered\r\n",
      "2024-05-03 11:22:56.958197: E external/local_xla/xla/stream_executor/cuda/cuda_fft.cc:607] Unable to register cuFFT factory: Attempting to register factory for plugin cuFFT when one has already been registered\r\n",
      "2024-05-03 11:22:56.959620: E external/local_xla/xla/stream_executor/cuda/cuda_blas.cc:1515] Unable to register cuBLAS factory: Attempting to register factory for plugin cuBLAS when one has already been registered\r\n",
      "freq: D\r\n",
      "0 / 720\r\n",
      "64 / 720\r\n",
      "128 / 720\r\n",
      "192 / 720\r\n",
      "256 / 720\r\n",
      "320 / 720\r\n",
      "384 / 720\r\n",
      "448 / 720\r\n",
      "512 / 720\r\n",
      "576 / 720\r\n",
      "640 / 720\r\n",
      "704 / 720\r\n",
      "24\r\n",
      "mae 0.16170816 mse 0.046128534\r\n",
      "--------------------\r\n",
      "96\r\n",
      "mae 0.38896546 mse 0.21550503\r\n",
      "--------------------\r\n",
      "192\r\n",
      "mae 0.5246633 mse 0.3695228\r\n",
      "--------------------\r\n",
      "336\r\n",
      "mae 0.7900472 mse 0.8782995\r\n",
      "--------------------\r\n",
      "720\r\n",
      "mae 1.1679614 mse 1.6761585\r\n",
      "--------------------\r\n",
      "mae mean 0.60666907\r\n",
      "mse mean 0.6371229\r\n",
      "\r\n",
      "WAPE 0.06799723\r\n",
      "NRMSE 0.09031172\r\n",
      "WAPE 0.1750141\r\n",
      "NRMSE 0.20887704\r\n",
      "WAPE 0.26070434\r\n",
      "NRMSE 0.3020565\r\n",
      "WAPE 0.47040862\r\n",
      "NRMSE 0.558012\r\n",
      "WAPE 0.9371047\r\n",
      "NRMSE 1.0387647\r\n",
      "WAPE mean 0.38224578\r\n",
      "NRMSE mean 0.43960437\r\n",
      "\r\n",
      "CPU times: user 309 ms, sys: 76.7 ms, total: 385 ms\n",
      "Wall time: 24.7 s\n"
     ]
    }
   ],
   "source": [
    "%%time\n",
    "!python test_zeroshot.py --gpu 0 --batch_size 40 --mode tiny --data 'exchange_rate' --uni 1"
   ]
  },
  {
   "cell_type": "code",
   "execution_count": 10,
   "id": "90776a4c",
   "metadata": {
    "execution": {
     "iopub.execute_input": "2024-05-03T11:23:19.903518Z",
     "iopub.status.busy": "2024-05-03T11:23:19.903191Z",
     "iopub.status.idle": "2024-05-03T11:30:26.837896Z",
     "shell.execute_reply": "2024-05-03T11:30:26.836470Z"
    },
    "papermill": {
     "duration": 426.953037,
     "end_time": "2024-05-03T11:30:26.840035",
     "exception": false,
     "start_time": "2024-05-03T11:23:19.886998",
     "status": "completed"
    },
    "tags": []
   },
   "outputs": [
    {
     "name": "stdout",
     "output_type": "stream",
     "text": [
      "2024-05-03 11:23:21.727701: E external/local_xla/xla/stream_executor/cuda/cuda_dnn.cc:9261] Unable to register cuDNN factory: Attempting to register factory for plugin cuDNN when one has already been registered\r\n",
      "2024-05-03 11:23:21.727755: E external/local_xla/xla/stream_executor/cuda/cuda_fft.cc:607] Unable to register cuFFT factory: Attempting to register factory for plugin cuFFT when one has already been registered\r\n",
      "2024-05-03 11:23:21.729202: E external/local_xla/xla/stream_executor/cuda/cuda_blas.cc:1515] Unable to register cuBLAS factory: Attempting to register factory for plugin cuBLAS when one has already been registered\r\n",
      "freq: None\r\n",
      "0 / 720\r\n",
      "64 / 720\r\n",
      "128 / 720\r\n",
      "192 / 720\r\n",
      "256 / 720\r\n",
      "320 / 720\r\n",
      "384 / 720\r\n",
      "448 / 720\r\n",
      "512 / 720\r\n",
      "576 / 720\r\n",
      "640 / 720\r\n",
      "704 / 720\r\n",
      "24\r\n",
      "mae 0.011494602 mse 0.0003231677\r\n",
      "--------------------\r\n",
      "96\r\n",
      "mae 0.02098406 mse 0.0009295536\r\n",
      "--------------------\r\n",
      "192\r\n",
      "mae 0.025543096 mse 0.0012547409\r\n",
      "--------------------\r\n",
      "336\r\n",
      "mae 0.02918445 mse 0.001529027\r\n",
      "--------------------\r\n",
      "720\r\n",
      "mae 0.03540964 mse 0.002167164\r\n",
      "--------------------\r\n",
      "mae mean 0.024523169\r\n",
      "mse mean 0.0012407306\r\n",
      "\r\n",
      "WAPE 0.16565816\r\n",
      "NRMSE 0.25907937\r\n",
      "WAPE 0.30277804\r\n",
      "NRMSE 0.43991834\r\n",
      "WAPE 0.36874953\r\n",
      "NRMSE 0.51136965\r\n",
      "WAPE 0.42125514\r\n",
      "NRMSE 0.56441855\r\n",
      "WAPE 0.51028514\r\n",
      "NRMSE 0.6708684\r\n",
      "WAPE mean 0.3537452\r\n",
      "NRMSE mean 0.48913088\r\n",
      "\r\n",
      "CPU times: user 5.4 s, sys: 1.26 s, total: 6.66 s\n",
      "Wall time: 7min 6s\n"
     ]
    }
   ],
   "source": [
    "%%time\n",
    "!python test_zeroshot.py --gpu 0 --batch_size 40 --mode tiny --data 'weather' --uni 1"
   ]
  },
  {
   "cell_type": "code",
   "execution_count": 11,
   "id": "77db88c8",
   "metadata": {
    "execution": {
     "iopub.execute_input": "2024-05-03T11:30:26.876670Z",
     "iopub.status.busy": "2024-05-03T11:30:26.876277Z",
     "iopub.status.idle": "2024-05-03T11:30:39.170085Z",
     "shell.execute_reply": "2024-05-03T11:30:39.168683Z"
    },
    "papermill": {
     "duration": 12.315079,
     "end_time": "2024-05-03T11:30:39.172225",
     "exception": false,
     "start_time": "2024-05-03T11:30:26.857146",
     "status": "completed"
    },
    "tags": []
   },
   "outputs": [
    {
     "name": "stdout",
     "output_type": "stream",
     "text": [
      "2024-05-03 11:30:28.628030: E external/local_xla/xla/stream_executor/cuda/cuda_dnn.cc:9261] Unable to register cuDNN factory: Attempting to register factory for plugin cuDNN when one has already been registered\r\n",
      "2024-05-03 11:30:28.628079: E external/local_xla/xla/stream_executor/cuda/cuda_fft.cc:607] Unable to register cuFFT factory: Attempting to register factory for plugin cuFFT when one has already been registered\r\n",
      "2024-05-03 11:30:28.629574: E external/local_xla/xla/stream_executor/cuda/cuda_blas.cc:1515] Unable to register cuBLAS factory: Attempting to register factory for plugin cuBLAS when one has already been registered\r\n",
      "freq: W-TUE\r\n",
      "0 / 60\r\n",
      "24\r\n",
      "mae 0.5100417 mse 0.5432509\r\n",
      "--------------------\r\n",
      "36\r\n",
      "mae 0.60610926 mse 0.6842533\r\n",
      "--------------------\r\n",
      "48\r\n",
      "mae 0.70842487 mse 0.8735983\r\n",
      "--------------------\r\n",
      "60\r\n",
      "mae 0.7834792 mse 1.021149\r\n",
      "--------------------\r\n",
      "mae mean 0.6520138\r\n",
      "mse mean 0.7805629\r\n",
      "\r\n",
      "WAPE 0.23334828\r\n",
      "NRMSE 0.337209\r\n",
      "WAPE 0.2695248\r\n",
      "NRMSE 0.36783773\r\n",
      "WAPE 0.30376258\r\n",
      "NRMSE 0.40077108\r\n",
      "WAPE 0.3243295\r\n",
      "NRMSE 0.41831508\r\n",
      "WAPE mean 0.28274128\r\n",
      "NRMSE mean 0.3810332\r\n",
      "\r\n",
      "CPU times: user 157 ms, sys: 40.1 ms, total: 197 ms\n",
      "Wall time: 12.3 s\n"
     ]
    }
   ],
   "source": [
    "%%time\n",
    "!python test_zeroshot.py --gpu 0 --batch_size 40 --mode tiny --data 'ill' --uni 1"
   ]
  },
  {
   "cell_type": "markdown",
   "id": "9936dc02",
   "metadata": {
    "papermill": {
     "duration": 0.016718,
     "end_time": "2024-05-03T11:30:39.206581",
     "exception": false,
     "start_time": "2024-05-03T11:30:39.189863",
     "status": "completed"
    },
    "tags": []
   },
   "source": [
    "**finetunig**\n"
   ]
  },
  {
   "cell_type": "code",
   "execution_count": 12,
   "id": "bfb97795",
   "metadata": {
    "execution": {
     "iopub.execute_input": "2024-05-03T11:30:39.241685Z",
     "iopub.status.busy": "2024-05-03T11:30:39.241395Z",
     "iopub.status.idle": "2024-05-03T11:34:53.310058Z",
     "shell.execute_reply": "2024-05-03T11:34:53.308600Z"
    },
    "papermill": {
     "duration": 254.088966,
     "end_time": "2024-05-03T11:34:53.312420",
     "exception": false,
     "start_time": "2024-05-03T11:30:39.223454",
     "status": "completed"
    },
    "tags": []
   },
   "outputs": [
    {
     "name": "stdout",
     "output_type": "stream",
     "text": [
      "2024-05-03 11:30:41.034232: E external/local_xla/xla/stream_executor/cuda/cuda_dnn.cc:9261] Unable to register cuDNN factory: Attempting to register factory for plugin cuDNN when one has already been registered\r\n",
      "2024-05-03 11:30:41.034290: E external/local_xla/xla/stream_executor/cuda/cuda_fft.cc:607] Unable to register cuFFT factory: Attempting to register factory for plugin cuFFT when one has already been registered\r\n",
      "2024-05-03 11:30:41.035669: E external/local_xla/xla/stream_executor/cuda/cuda_blas.cc:1515] Unable to register cuBLAS factory: Attempting to register factory for plugin cuBLAS when one has already been registered\r\n",
      "freq: h\r\n",
      "Epoch 1/30\r\n",
      "WARNING: All log messages before absl::InitializeLog() is called are written to STDERR\r\n",
      "I0000 00:00:1714735859.055832   12928 device_compiler.h:186] Compiled cluster using XLA!  This line is logged at most once for the lifetime of the process.\r\n",
      "213/213 [==============================] - 43s 158ms/step - loss: 0.5593 - val_loss: 0.8140\r\n",
      "Epoch 2/30\r\n",
      "213/213 [==============================] - 32s 150ms/step - loss: 0.5009 - val_loss: 0.8125\r\n",
      "Epoch 3/30\r\n",
      "213/213 [==============================] - 32s 150ms/step - loss: 0.4899 - val_loss: 0.8068\r\n",
      "Epoch 4/30\r\n",
      "213/213 [==============================] - 32s 150ms/step - loss: 0.4822 - val_loss: 0.8040\r\n",
      "Epoch 5/30\r\n",
      "213/213 [==============================] - 32s 149ms/step - loss: 0.4768 - val_loss: 0.8061\r\n",
      "Epoch 6/30\r\n",
      "213/213 [==============================] - 32s 150ms/step - loss: 0.4725 - val_loss: 0.8077\r\n",
      "Epoch 7/30\r\n",
      "213/213 [==============================] - 32s 150ms/step - loss: 0.4694 - val_loss: 0.8084\r\n",
      "24\r\n",
      "mae 0.33695558 mse 0.29242977\r\n",
      "--------------------\r\n",
      "96\r\n",
      "mae 0.3751881 mse 0.36356792\r\n",
      "--------------------\r\n",
      "192\r\n",
      "mae 0.4017268 mse 0.41644737\r\n",
      "--------------------\r\n",
      "336\r\n",
      "mae 0.42748162 mse 0.4558393\r\n",
      "--------------------\r\n",
      "720\r\n",
      "mae 0.48039365 mse 0.51952004\r\n",
      "--------------------\r\n",
      "mae mean 0.40434915\r\n",
      "mse mean 0.40956086\r\n",
      "\r\n",
      "CPU times: user 4.19 s, sys: 926 ms, total: 5.12 s\n",
      "Wall time: 4min 14s\n"
     ]
    }
   ],
   "source": [
    "%%time\n",
    "!python test_finetune.py --gpu 0 --batch_size 40 --mode tiny --data 'h1' --uni 1"
   ]
  },
  {
   "cell_type": "code",
   "execution_count": 13,
   "id": "728a5322",
   "metadata": {
    "execution": {
     "iopub.execute_input": "2024-05-03T11:34:53.580367Z",
     "iopub.status.busy": "2024-05-03T11:34:53.579987Z",
     "iopub.status.idle": "2024-05-03T11:37:41.528085Z",
     "shell.execute_reply": "2024-05-03T11:37:41.526766Z"
    },
    "papermill": {
     "duration": 168.084484,
     "end_time": "2024-05-03T11:37:41.530372",
     "exception": false,
     "start_time": "2024-05-03T11:34:53.445888",
     "status": "completed"
    },
    "tags": []
   },
   "outputs": [
    {
     "name": "stdout",
     "output_type": "stream",
     "text": [
      "2024-05-03 11:34:55.340305: E external/local_xla/xla/stream_executor/cuda/cuda_dnn.cc:9261] Unable to register cuDNN factory: Attempting to register factory for plugin cuDNN when one has already been registered\r\n",
      "2024-05-03 11:34:55.340359: E external/local_xla/xla/stream_executor/cuda/cuda_fft.cc:607] Unable to register cuFFT factory: Attempting to register factory for plugin cuFFT when one has already been registered\r\n",
      "2024-05-03 11:34:55.341887: E external/local_xla/xla/stream_executor/cuda/cuda_blas.cc:1515] Unable to register cuBLAS factory: Attempting to register factory for plugin cuBLAS when one has already been registered\r\n",
      "freq: h\r\n",
      "Epoch 1/30\r\n",
      "WARNING: All log messages before absl::InitializeLog() is called are written to STDERR\r\n",
      "I0000 00:00:1714736113.551307   13290 device_compiler.h:186] Compiled cluster using XLA!  This line is logged at most once for the lifetime of the process.\r\n",
      "213/213 [==============================] - 43s 159ms/step - loss: 0.5685 - val_loss: 0.5530\r\n",
      "Epoch 2/30\r\n",
      "213/213 [==============================] - 32s 149ms/step - loss: 0.5095 - val_loss: 0.5609\r\n",
      "Epoch 3/30\r\n",
      "213/213 [==============================] - 32s 149ms/step - loss: 0.4904 - val_loss: 0.5679\r\n",
      "Epoch 4/30\r\n",
      "213/213 [==============================] - 32s 149ms/step - loss: 0.4743 - val_loss: 0.5698\r\n",
      "24\r\n",
      "mae 0.24634911 mse 0.15326294\r\n",
      "--------------------\r\n",
      "96\r\n",
      "mae 0.29846984 mse 0.2226179\r\n",
      "--------------------\r\n",
      "192\r\n",
      "mae 0.3295571 mse 0.26674184\r\n",
      "--------------------\r\n",
      "336\r\n",
      "mae 0.3584108 mse 0.30319875\r\n",
      "--------------------\r\n",
      "720\r\n",
      "mae 0.41028678 mse 0.37104326\r\n",
      "--------------------\r\n",
      "mae mean 0.32861474\r\n",
      "mse mean 0.26337296\r\n",
      "\r\n",
      "CPU times: user 2.67 s, sys: 627 ms, total: 3.3 s\n",
      "Wall time: 2min 47s\n"
     ]
    }
   ],
   "source": [
    "%%time\n",
    "!python test_finetune.py --gpu 0 --batch_size 40 --mode tiny --data 'h2' --uni 1"
   ]
  },
  {
   "cell_type": "code",
   "execution_count": 14,
   "id": "85a10361",
   "metadata": {
    "execution": {
     "iopub.execute_input": "2024-05-03T11:37:41.933351Z",
     "iopub.status.busy": "2024-05-03T11:37:41.932973Z",
     "iopub.status.idle": "2024-05-03T11:50:51.582608Z",
     "shell.execute_reply": "2024-05-03T11:50:51.581152Z"
    },
    "papermill": {
     "duration": 789.853772,
     "end_time": "2024-05-03T11:50:51.584766",
     "exception": false,
     "start_time": "2024-05-03T11:37:41.730994",
     "status": "completed"
    },
    "tags": []
   },
   "outputs": [
    {
     "name": "stdout",
     "output_type": "stream",
     "text": [
      "2024-05-03 11:37:43.664269: E external/local_xla/xla/stream_executor/cuda/cuda_dnn.cc:9261] Unable to register cuDNN factory: Attempting to register factory for plugin cuDNN when one has already been registered\r\n",
      "2024-05-03 11:37:43.664327: E external/local_xla/xla/stream_executor/cuda/cuda_fft.cc:607] Unable to register cuFFT factory: Attempting to register factory for plugin cuFFT when one has already been registered\r\n",
      "2024-05-03 11:37:43.665836: E external/local_xla/xla/stream_executor/cuda/cuda_blas.cc:1515] Unable to register cuBLAS factory: Attempting to register factory for plugin cuBLAS when one has already been registered\r\n",
      "freq: 15min\r\n",
      "Epoch 1/30\r\n",
      "WARNING: All log messages before absl::InitializeLog() is called are written to STDERR\r\n",
      "I0000 00:00:1714736282.049021   13589 device_compiler.h:186] Compiled cluster using XLA!  This line is logged at most once for the lifetime of the process.\r\n",
      "861/861 [==============================] - 135s 146ms/step - loss: 0.4424 - val_loss: 0.6331\r\n",
      "Epoch 2/30\r\n",
      "861/861 [==============================] - 124s 144ms/step - loss: 0.4225 - val_loss: 0.6318\r\n",
      "Epoch 3/30\r\n",
      "861/861 [==============================] - 124s 144ms/step - loss: 0.4180 - val_loss: 0.6307\r\n",
      "Epoch 4/30\r\n",
      "861/861 [==============================] - 124s 144ms/step - loss: 0.4155 - val_loss: 0.6315\r\n",
      "Epoch 5/30\r\n",
      "861/861 [==============================] - 123s 143ms/step - loss: 0.4137 - val_loss: 0.6312\r\n",
      "Epoch 6/30\r\n",
      "861/861 [==============================] - 124s 144ms/step - loss: 0.4126 - val_loss: 0.6327\r\n",
      "24\r\n",
      "mae 0.26351425 mse 0.18962094\r\n",
      "--------------------\r\n",
      "96\r\n",
      "mae 0.3350984 mse 0.29145625\r\n",
      "--------------------\r\n",
      "192\r\n",
      "mae 0.35944209 mse 0.32975626\r\n",
      "--------------------\r\n",
      "336\r\n",
      "mae 0.380346 mse 0.3658574\r\n",
      "--------------------\r\n",
      "720\r\n",
      "mae 0.4133715 mse 0.4281323\r\n",
      "--------------------\r\n",
      "mae mean 0.3503545\r\n",
      "mse mean 0.32096463\r\n",
      "\r\n",
      "CPU times: user 13.3 s, sys: 2.88 s, total: 16.2 s\n",
      "Wall time: 13min 9s\n"
     ]
    }
   ],
   "source": [
    "%%time\n",
    "!python test_finetune.py --gpu 0 --batch_size 40 --mode tiny --data 'm1' --uni 1"
   ]
  },
  {
   "cell_type": "code",
   "execution_count": 15,
   "id": "3a6dffd1",
   "metadata": {
    "execution": {
     "iopub.execute_input": "2024-05-03T11:50:52.881978Z",
     "iopub.status.busy": "2024-05-03T11:50:52.881245Z",
     "iopub.status.idle": "2024-05-03T11:59:55.807224Z",
     "shell.execute_reply": "2024-05-03T11:59:55.806068Z"
    },
    "papermill": {
     "duration": 543.596107,
     "end_time": "2024-05-03T11:59:55.809243",
     "exception": false,
     "start_time": "2024-05-03T11:50:52.213136",
     "status": "completed"
    },
    "tags": []
   },
   "outputs": [
    {
     "name": "stdout",
     "output_type": "stream",
     "text": [
      "2024-05-03 11:50:54.677106: E external/local_xla/xla/stream_executor/cuda/cuda_dnn.cc:9261] Unable to register cuDNN factory: Attempting to register factory for plugin cuDNN when one has already been registered\r\n",
      "2024-05-03 11:50:54.677156: E external/local_xla/xla/stream_executor/cuda/cuda_fft.cc:607] Unable to register cuFFT factory: Attempting to register factory for plugin cuFFT when one has already been registered\r\n",
      "2024-05-03 11:50:54.678675: E external/local_xla/xla/stream_executor/cuda/cuda_blas.cc:1515] Unable to register cuBLAS factory: Attempting to register factory for plugin cuBLAS when one has already been registered\r\n",
      "freq: 15min\r\n",
      "Epoch 1/30\r\n",
      "WARNING: All log messages before absl::InitializeLog() is called are written to STDERR\r\n",
      "I0000 00:00:1714737073.075085   13984 device_compiler.h:186] Compiled cluster using XLA!  This line is logged at most once for the lifetime of the process.\r\n",
      "861/861 [==============================] - 135s 146ms/step - loss: 0.3851 - val_loss: 0.3497\r\n",
      "Epoch 2/30\r\n",
      "861/861 [==============================] - 124s 144ms/step - loss: 0.3645 - val_loss: 0.3530\r\n",
      "Epoch 3/30\r\n",
      "861/861 [==============================] - 124s 144ms/step - loss: 0.3593 - val_loss: 0.3545\r\n",
      "Epoch 4/30\r\n",
      "861/861 [==============================] - 124s 144ms/step - loss: 0.3564 - val_loss: 0.3546\r\n",
      "24\r\n",
      "mae 0.18303949 mse 0.09360221\r\n",
      "--------------------\r\n",
      "96\r\n",
      "mae 0.24526313 mse 0.16406007\r\n",
      "--------------------\r\n",
      "192\r\n",
      "mae 0.28433728 mse 0.21959896\r\n",
      "--------------------\r\n",
      "336\r\n",
      "mae 0.3188194 mse 0.26961234\r\n",
      "--------------------\r\n",
      "720\r\n",
      "mae 0.3715035 mse 0.34701502\r\n",
      "--------------------\r\n",
      "mae mean 0.28059256\r\n",
      "mse mean 0.21877773\r\n",
      "\r\n",
      "CPU times: user 9.3 s, sys: 2.04 s, total: 11.3 s\n",
      "Wall time: 9min 2s\n"
     ]
    }
   ],
   "source": [
    "%%time\n",
    "!python test_finetune.py --gpu 0 --batch_size 40 --mode tiny --data 'm2' --uni 1"
   ]
  },
  {
   "cell_type": "code",
   "execution_count": 16,
   "id": "4529588c",
   "metadata": {
    "execution": {
     "iopub.execute_input": "2024-05-03T11:59:57.627726Z",
     "iopub.status.busy": "2024-05-03T11:59:57.627349Z",
     "iopub.status.idle": "2024-05-03T12:02:22.120642Z",
     "shell.execute_reply": "2024-05-03T12:02:22.119132Z"
    },
    "papermill": {
     "duration": 145.431674,
     "end_time": "2024-05-03T12:02:22.122703",
     "exception": false,
     "start_time": "2024-05-03T11:59:56.691029",
     "status": "completed"
    },
    "tags": []
   },
   "outputs": [
    {
     "name": "stdout",
     "output_type": "stream",
     "text": [
      "2024-05-03 11:59:59.360427: E external/local_xla/xla/stream_executor/cuda/cuda_dnn.cc:9261] Unable to register cuDNN factory: Attempting to register factory for plugin cuDNN when one has already been registered\r\n",
      "2024-05-03 11:59:59.360485: E external/local_xla/xla/stream_executor/cuda/cuda_fft.cc:607] Unable to register cuFFT factory: Attempting to register factory for plugin cuFFT when one has already been registered\r\n",
      "2024-05-03 11:59:59.361925: E external/local_xla/xla/stream_executor/cuda/cuda_blas.cc:1515] Unable to register cuBLAS factory: Attempting to register factory for plugin cuBLAS when one has already been registered\r\n",
      "freq: D\r\n",
      "Epoch 1/30\r\n",
      "WARNING: All log messages before absl::InitializeLog() is called are written to STDERR\r\n",
      "I0000 00:00:1714737617.290756   14337 device_compiler.h:186] Compiled cluster using XLA!  This line is logged at most once for the lifetime of the process.\r\n",
      "125/125 [==============================] - 31s 175ms/step - loss: 1.0286 - val_loss: 0.5171\r\n",
      "Epoch 2/30\r\n",
      "125/125 [==============================] - 20s 159ms/step - loss: 0.7555 - val_loss: 0.4769\r\n",
      "Epoch 3/30\r\n",
      "125/125 [==============================] - 20s 160ms/step - loss: 0.6327 - val_loss: 0.4508\r\n",
      "Epoch 4/30\r\n",
      "125/125 [==============================] - 20s 157ms/step - loss: 0.5433 - val_loss: 0.4807\r\n",
      "Epoch 5/30\r\n",
      "125/125 [==============================] - 20s 158ms/step - loss: 0.4793 - val_loss: 0.5116\r\n",
      "Epoch 6/30\r\n",
      "125/125 [==============================] - 20s 157ms/step - loss: 0.4236 - val_loss: 0.5486\r\n",
      "24\r\n",
      "mae 0.15484104 mse 0.03711645\r\n",
      "--------------------\r\n",
      "96\r\n",
      "mae 0.29685485 mse 0.13928896\r\n",
      "--------------------\r\n",
      "192\r\n",
      "mae 0.4732166 mse 0.32458267\r\n",
      "--------------------\r\n",
      "336\r\n",
      "mae 0.7821652 mse 0.8371061\r\n",
      "--------------------\r\n",
      "720\r\n",
      "mae 1.2314593 mse 1.9383187\r\n",
      "--------------------\r\n",
      "mae mean 0.5877074\r\n",
      "mse mean 0.6552826\r\n",
      "\r\n",
      "CPU times: user 2.2 s, sys: 520 ms, total: 2.72 s\n",
      "Wall time: 2min 24s\n"
     ]
    }
   ],
   "source": [
    "%%time\n",
    "!python test_finetune.py --gpu 0 --batch_size 40 --mode tiny --data 'exchange_rate' --uni 1"
   ]
  },
  {
   "cell_type": "code",
   "execution_count": 17,
   "id": "ae328530",
   "metadata": {
    "execution": {
     "iopub.execute_input": "2024-05-03T12:02:24.019277Z",
     "iopub.status.busy": "2024-05-03T12:02:24.018862Z",
     "iopub.status.idle": "2024-05-03T12:45:59.397881Z",
     "shell.execute_reply": "2024-05-03T12:45:59.396532Z"
    },
    "papermill": {
     "duration": 2616.321836,
     "end_time": "2024-05-03T12:45:59.400147",
     "exception": false,
     "start_time": "2024-05-03T12:02:23.078311",
     "status": "completed"
    },
    "tags": []
   },
   "outputs": [
    {
     "name": "stdout",
     "output_type": "stream",
     "text": [
      "2024-05-03 12:02:25.757346: E external/local_xla/xla/stream_executor/cuda/cuda_dnn.cc:9261] Unable to register cuDNN factory: Attempting to register factory for plugin cuDNN when one has already been registered\r\n",
      "2024-05-03 12:02:25.757395: E external/local_xla/xla/stream_executor/cuda/cuda_fft.cc:607] Unable to register cuFFT factory: Attempting to register factory for plugin cuFFT when one has already been registered\r\n",
      "2024-05-03 12:02:25.758932: E external/local_xla/xla/stream_executor/cuda/cuda_blas.cc:1515] Unable to register cuBLAS factory: Attempting to register factory for plugin cuBLAS when one has already been registered\r\n",
      "freq: None\r\n",
      "Epoch 1/30\r\n",
      "WARNING: All log messages before absl::InitializeLog() is called are written to STDERR\r\n",
      "I0000 00:00:1714737769.162339   14668 device_compiler.h:186] Compiled cluster using XLA!  This line is logged at most once for the lifetime of the process.\r\n",
      "919/919 [==============================] - 242s 254ms/step - loss: 0.4129 - val_loss: 0.3971\r\n",
      "Epoch 2/30\r\n",
      "919/919 [==============================] - 231s 252ms/step - loss: 0.3958 - val_loss: 0.3952\r\n",
      "Epoch 3/30\r\n",
      "919/919 [==============================] - 231s 251ms/step - loss: 0.3934 - val_loss: 0.3948\r\n",
      "Epoch 4/30\r\n",
      "919/919 [==============================] - 231s 251ms/step - loss: 0.3920 - val_loss: 0.3952\r\n",
      "Epoch 5/30\r\n",
      "919/919 [==============================] - 231s 252ms/step - loss: 0.3913 - val_loss: 0.3956\r\n",
      "Epoch 6/30\r\n",
      "919/919 [==============================] - 231s 252ms/step - loss: 0.3909 - val_loss: 0.3947\r\n",
      "Epoch 7/30\r\n",
      "919/919 [==============================] - 231s 252ms/step - loss: 0.3904 - val_loss: 0.3942\r\n",
      "Epoch 8/30\r\n",
      "919/919 [==============================] - 232s 252ms/step - loss: 0.3901 - val_loss: 0.3935\r\n",
      "Epoch 9/30\r\n",
      "919/919 [==============================] - 231s 252ms/step - loss: 0.3898 - val_loss: 0.3945\r\n",
      "Epoch 10/30\r\n",
      "919/919 [==============================] - 231s 251ms/step - loss: 0.3897 - val_loss: 0.3942\r\n",
      "Epoch 11/30\r\n",
      "919/919 [==============================] - 231s 252ms/step - loss: 0.3894 - val_loss: 0.3943\r\n",
      "24\r\n",
      "mae 0.10511186 mse 0.089147\r\n",
      "--------------------\r\n",
      "96\r\n",
      "mae 0.18698654 mse 0.14840458\r\n",
      "--------------------\r\n",
      "192\r\n",
      "mae 0.23236586 mse 0.19200842\r\n",
      "--------------------\r\n",
      "336\r\n",
      "mae 0.27365464 mse 0.24205232\r\n",
      "--------------------\r\n",
      "720\r\n",
      "mae 0.3226625 mse 0.31131878\r\n",
      "--------------------\r\n",
      "mae mean 0.22415629\r\n",
      "mse mean 0.19658622\r\n",
      "\r\n",
      "CPU times: user 42.3 s, sys: 9.88 s, total: 52.2 s\n",
      "Wall time: 43min 35s\n"
     ]
    }
   ],
   "source": [
    "%%time\n",
    "!python test_finetune.py --gpu 0 --batch_size 40 --mode tiny --data 'weather' --uni 1"
   ]
  },
  {
   "cell_type": "code",
   "execution_count": 18,
   "id": "53afaa07",
   "metadata": {
    "execution": {
     "iopub.execute_input": "2024-05-03T12:46:03.057308Z",
     "iopub.status.busy": "2024-05-03T12:46:03.056822Z",
     "iopub.status.idle": "2024-05-03T12:47:09.104489Z",
     "shell.execute_reply": "2024-05-03T12:47:09.103367Z"
    },
    "papermill": {
     "duration": 68.405168,
     "end_time": "2024-05-03T12:47:09.575577",
     "exception": false,
     "start_time": "2024-05-03T12:46:01.170409",
     "status": "completed"
    },
    "tags": []
   },
   "outputs": [
    {
     "name": "stdout",
     "output_type": "stream",
     "text": [
      "2024-05-03 12:46:04.859092: E external/local_xla/xla/stream_executor/cuda/cuda_dnn.cc:9261] Unable to register cuDNN factory: Attempting to register factory for plugin cuDNN when one has already been registered\r\n",
      "2024-05-03 12:46:04.859150: E external/local_xla/xla/stream_executor/cuda/cuda_fft.cc:607] Unable to register cuFFT factory: Attempting to register factory for plugin cuFFT when one has already been registered\r\n",
      "2024-05-03 12:46:04.860674: E external/local_xla/xla/stream_executor/cuda/cuda_blas.cc:1515] Unable to register cuBLAS factory: Attempting to register factory for plugin cuBLAS when one has already been registered\r\n",
      "freq: W-TUE\r\n",
      "Epoch 1/30\r\n",
      "WARNING: All log messages before absl::InitializeLog() is called are written to STDERR\r\n",
      "I0000 00:00:1714740383.011789   15161 device_compiler.h:186] Compiled cluster using XLA!  This line is logged at most once for the lifetime of the process.\r\n",
      "15/15 [==============================] - 14s 299ms/step - loss: 0.7073 - val_loss: 0.7394\r\n",
      "Epoch 2/30\r\n",
      "15/15 [==============================] - 2s 162ms/step - loss: 0.6560 - val_loss: 0.7015\r\n",
      "Epoch 3/30\r\n",
      "15/15 [==============================] - 2s 162ms/step - loss: 0.6153 - val_loss: 0.6688\r\n",
      "Epoch 4/30\r\n",
      "15/15 [==============================] - 3s 173ms/step - loss: 0.5770 - val_loss: 0.6398\r\n",
      "Epoch 5/30\r\n",
      "15/15 [==============================] - 2s 163ms/step - loss: 0.5409 - val_loss: 0.6172\r\n",
      "Epoch 6/30\r\n",
      "15/15 [==============================] - 2s 162ms/step - loss: 0.5156 - val_loss: 0.5930\r\n",
      "Epoch 7/30\r\n",
      "15/15 [==============================] - 2s 163ms/step - loss: 0.4841 - val_loss: 0.5756\r\n",
      "Epoch 8/30\r\n",
      "15/15 [==============================] - 2s 162ms/step - loss: 0.4605 - val_loss: 0.5636\r\n",
      "Epoch 9/30\r\n",
      "15/15 [==============================] - 2s 162ms/step - loss: 0.4408 - val_loss: 0.5543\r\n",
      "Epoch 10/30\r\n",
      "15/15 [==============================] - 2s 161ms/step - loss: 0.4316 - val_loss: 0.5470\r\n",
      "Epoch 11/30\r\n",
      "15/15 [==============================] - 2s 163ms/step - loss: 0.4232 - val_loss: 0.5465\r\n",
      "Epoch 12/30\r\n",
      "15/15 [==============================] - 2s 148ms/step - loss: 0.4005 - val_loss: 0.5469\r\n",
      "Epoch 13/30\r\n",
      "15/15 [==============================] - 2s 158ms/step - loss: 0.4049 - val_loss: 0.5451\r\n",
      "Epoch 14/30\r\n",
      "15/15 [==============================] - 2s 164ms/step - loss: 0.3982 - val_loss: 0.5448\r\n",
      "Epoch 15/30\r\n",
      "15/15 [==============================] - 2s 149ms/step - loss: 0.3821 - val_loss: 0.5450\r\n",
      "Epoch 16/30\r\n",
      "15/15 [==============================] - 2s 148ms/step - loss: 0.3741 - val_loss: 0.5465\r\n",
      "Epoch 17/30\r\n",
      "15/15 [==============================] - 2s 147ms/step - loss: 0.3809 - val_loss: 0.5461\r\n",
      "24\r\n",
      "mae 0.6314143 mse 1.1029092\r\n",
      "--------------------\r\n",
      "36\r\n",
      "mae 0.674231 mse 1.2092916\r\n",
      "--------------------\r\n",
      "48\r\n",
      "mae 0.73042804 mse 1.3923296\r\n",
      "--------------------\r\n",
      "60\r\n",
      "mae 0.79425395 mse 1.6414853\r\n",
      "--------------------\r\n",
      "mae mean 0.70758176\r\n",
      "mse mean 1.3365039\r\n",
      "\r\n",
      "CPU times: user 1.15 s, sys: 255 ms, total: 1.4 s\n",
      "Wall time: 1min 6s\n"
     ]
    }
   ],
   "source": [
    "%%time\n",
    "!python test_finetune.py --gpu 0 --batch_size 40 --mode tiny --data 'ill' --uni 1"
   ]
  }
 ],
 "metadata": {
  "kaggle": {
   "accelerator": "gpu",
   "dataSources": [],
   "dockerImageVersionId": 30648,
   "isGpuEnabled": true,
   "isInternetEnabled": true,
   "language": "python",
   "sourceType": "notebook"
  },
  "kernelspec": {
   "display_name": "Python 3",
   "language": "python",
   "name": "python3"
  },
  "language_info": {
   "codemirror_mode": {
    "name": "ipython",
    "version": 3
   },
   "file_extension": ".py",
   "mimetype": "text/x-python",
   "name": "python",
   "nbconvert_exporter": "python",
   "pygments_lexer": "ipython3",
   "version": "3.10.13"
  },
  "papermill": {
   "default_parameters": {},
   "duration": 6168.855298,
   "end_time": "2024-05-03T12:47:11.756070",
   "environment_variables": {},
   "exception": null,
   "input_path": "__notebook__.ipynb",
   "output_path": "__notebook__.ipynb",
   "parameters": {},
   "start_time": "2024-05-03T11:04:22.900772",
   "version": "2.5.0"
  }
 },
 "nbformat": 4,
 "nbformat_minor": 5
}
