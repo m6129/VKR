{
  "cells": [
    {
      "cell_type": "markdown",
      "metadata": {
        "id": "xPgrRx9_17pC"
      },
      "source": [
        "## установка библиотек, подгрузка API ключа, предобработка входных данных по правилам создателей TimeGPT"
      ]
    },
    {
      "cell_type": "markdown",
      "metadata": {
        "id": "TVOkPyV5WAQw"
      },
      "source": [
        "## импорт"
      ]
    },
    {
      "cell_type": "code",
      "execution_count": 1,
      "metadata": {
        "colab": {
          "base_uri": "https://localhost:8080/"
        },
        "id": "WBrp3zBDVr8U",
        "outputId": "bd313b0e-329b-42ba-fbba-e100d4289755"
      },
      "outputs": [
        {
          "name": "stdout",
          "output_type": "stream",
          "text": [
            "\u001b[2K     \u001b[90m━━━━━━━━━━━━━━━━━━━━━━━━━━━━━━━━━━━━━━━━\u001b[0m \u001b[32m71.7/71.7 kB\u001b[0m \u001b[31m659.2 kB/s\u001b[0m eta \u001b[36m0:00:00\u001b[0m\n",
            "\u001b[2K     \u001b[90m━━━━━━━━━━━━━━━━━━━━━━━━━━━━━━━━━━━━━━━━\u001b[0m \u001b[32m75.6/75.6 kB\u001b[0m \u001b[31m2.7 MB/s\u001b[0m eta \u001b[36m0:00:00\u001b[0m\n",
            "\u001b[2K     \u001b[90m━━━━━━━━━━━━━━━━━━━━━━━━━━━━━━━━━━━━━━━━\u001b[0m \u001b[32m40.5/40.5 kB\u001b[0m \u001b[31m2.5 MB/s\u001b[0m eta \u001b[36m0:00:00\u001b[0m\n",
            "\u001b[2K     \u001b[90m━━━━━━━━━━━━━━━━━━━━━━━━━━━━━━━━━━━━━━━━\u001b[0m \u001b[32m77.9/77.9 kB\u001b[0m \u001b[31m4.6 MB/s\u001b[0m eta \u001b[36m0:00:00\u001b[0m\n",
            "\u001b[2K     \u001b[90m━━━━━━━━━━━━━━━━━━━━━━━━━━━━━━━━━━━━━━━━\u001b[0m \u001b[32m58.3/58.3 kB\u001b[0m \u001b[31m3.8 MB/s\u001b[0m eta \u001b[36m0:00:00\u001b[0m\n",
            "\u001b[2K     \u001b[90m━━━━━━━━━━━━━━━━━━━━━━━━━━━━━━━━━━━━━━━━\u001b[0m \u001b[32m23.8/23.8 MB\u001b[0m \u001b[31m44.9 MB/s\u001b[0m eta \u001b[36m0:00:00\u001b[0m\n",
            "\u001b[2K     \u001b[90m━━━━━━━━━━━━━━━━━━━━━━━━━━━━━━━━━━━━━━━━\u001b[0m \u001b[32m130.1/130.1 kB\u001b[0m \u001b[31m13.0 MB/s\u001b[0m eta \u001b[36m0:00:00\u001b[0m\n",
            "\u001b[?25h"
          ]
        }
      ],
      "source": [
        "!pip install nixtlats -q # установка модели TimeGPT-1\n",
        "# метрики\n",
        "!pip install sktime -q\n",
        "from sktime.forecasting.model_selection import temporal_train_test_split # для разделения временных рядов на тренировочные и тестовые наборы.\n",
        "from sktime.performance_metrics.forecasting import  MeanAbsolutePercentageError\n",
        "smape = MeanAbsolutePercentageError(symmetric = True)#метрика sMAP\n",
        "from sklearn.metrics import mean_squared_error,mean_absolute_error #метрики\n",
        "from sklearn.model_selection import TimeSeriesSplit #для раздления набора данных\n",
        "import pandas as pd\n",
        "from prettytable import PrettyTable # для красоты и порядка"
      ]
    },
    {
      "cell_type": "code",
      "execution_count": 111,
      "metadata": {
        "colab": {
          "base_uri": "https://localhost:8080/"
        },
        "id": "b7lXvsMz5k8U",
        "outputId": "6974097b-4985-49c1-faaf-43c1a66b5108"
      },
      "outputs": [
        {
          "name": "stdout",
          "output_type": "stream",
          "text": [
            "Requirement already satisfied: gdown in /usr/local/lib/python3.10/dist-packages (5.2.0)\n",
            "Requirement already satisfied: beautifulsoup4 in /usr/local/lib/python3.10/dist-packages (from gdown) (4.12.3)\n",
            "Requirement already satisfied: filelock in /usr/local/lib/python3.10/dist-packages (from gdown) (3.14.0)\n",
            "Requirement already satisfied: requests[socks] in /usr/local/lib/python3.10/dist-packages (from gdown) (2.31.0)\n",
            "Requirement already satisfied: tqdm in /usr/local/lib/python3.10/dist-packages (from gdown) (4.66.4)\n",
            "Requirement already satisfied: soupsieve>1.2 in /usr/local/lib/python3.10/dist-packages (from beautifulsoup4->gdown) (2.5)\n",
            "Requirement already satisfied: charset-normalizer<4,>=2 in /usr/local/lib/python3.10/dist-packages (from requests[socks]->gdown) (3.3.2)\n",
            "Requirement already satisfied: idna<4,>=2.5 in /usr/local/lib/python3.10/dist-packages (from requests[socks]->gdown) (3.7)\n",
            "Requirement already satisfied: urllib3<3,>=1.21.1 in /usr/local/lib/python3.10/dist-packages (from requests[socks]->gdown) (2.0.7)\n",
            "Requirement already satisfied: certifi>=2017.4.17 in /usr/local/lib/python3.10/dist-packages (from requests[socks]->gdown) (2024.2.2)\n",
            "Requirement already satisfied: PySocks!=1.5.7,>=1.5.6 in /usr/local/lib/python3.10/dist-packages (from requests[socks]->gdown) (1.7.1)\n",
            "fatal: destination path 'ETDataset' already exists and is not an empty directory.\n",
            "Downloading...\n",
            "From: https://drive.google.com/uc?id=1nXdMIJ7K201Bx3IBGNiaNFQ6FzeDEzIr\n",
            "To: /content/weather.zip\n",
            "100% 2.29M/2.29M [00:00<00:00, 94.2MB/s]\n",
            "Downloading...\n",
            "From: https://drive.google.com/uc?id=1rN79CxW3Vldp-WDuSoG0bKq9tYQR79UK\n",
            "To: /content/exchange_rate.zip\n",
            "100% 194k/194k [00:00<00:00, 109MB/s]\n",
            "Downloading...\n",
            "From: https://drive.google.com/uc?id=1WMKg7KevVEEd9jrfLG8mcpOequZMbjlM\n",
            "To: /content/illness.zip\n",
            "100% 26.0k/26.0k [00:00<00:00, 39.2MB/s]\n",
            "Archive:  /content/weather.zip\n",
            "replace weather/weather.csv? [y]es, [n]o, [A]ll, [N]one, [r]ename: Archive:  /content/exchange_rate.zip\n",
            "replace exchange_rate/.DS_Store? [y]es, [n]o, [A]ll, [N]one, [r]ename: Archive:  /content/illness.zip\n",
            "replace illness/national_illness.csv? [y]es, [n]o, [A]ll, [N]one, [r]ename: "
          ]
        }
      ],
      "source": [
        "!pip install --upgrade gdown #https://github.com/wkentaro/gdown/issues/333\n",
        "!git clone https://github.com/zhouhaoyi/ETDataset # офицальный репозиторий температуры машинного масла\n",
        "!gdown --fuzzy https://drive.google.com/file/d/1nXdMIJ7K201Bx3IBGNiaNFQ6FzeDEzIr/view?usp=drive_link\n",
        "!gdown --fuzzy https://drive.google.com/file/d/1rN79CxW3Vldp-WDuSoG0bKq9tYQR79UK/view?usp=drive_link\n",
        "!gdown --fuzzy https://drive.google.com/file/d/1WMKg7KevVEEd9jrfLG8mcpOequZMbjlM/view?usp=drive_link\n",
        "!unzip /content/weather.zip\n",
        "!unzip /content/exchange_rate.zip\n",
        "!unzip /content/illness.zip\n",
        "# новыt наборы данных\n",
        "!gdown --fuzzy https://drive.google.com/file/d/1-Jy7C9Dh9QJF_yWKf2hQKUia56aQXBJ0/view?usp=drive_link -q\n",
        "!gdown --fuzzy https://drive.google.com/file/d/1lPZhTcJVirbwhN6EpppcmpZzbDcBn4rx/view?usp=drive_link -q"
      ]
    },
    {
      "cell_type": "code",
      "execution_count": 3,
      "metadata": {
        "colab": {
          "base_uri": "https://localhost:8080/",
          "height": 73
        },
        "id": "ZKPDndmKYMyf",
        "outputId": "7ad80bb5-8de3-48ea-eb07-4d2ab19215a3"
      },
      "outputs": [
        {
          "data": {
            "text/html": [
              "\n",
              "     <input type=\"file\" id=\"files-be7d3de6-1a9c-42ea-902e-c317d4209154\" name=\"files[]\" multiple disabled\n",
              "        style=\"border:none\" />\n",
              "     <output id=\"result-be7d3de6-1a9c-42ea-902e-c317d4209154\">\n",
              "      Upload widget is only available when the cell has been executed in the\n",
              "      current browser session. Please rerun this cell to enable.\n",
              "      </output>\n",
              "      <script>// Copyright 2017 Google LLC\n",
              "//\n",
              "// Licensed under the Apache License, Version 2.0 (the \"License\");\n",
              "// you may not use this file except in compliance with the License.\n",
              "// You may obtain a copy of the License at\n",
              "//\n",
              "//      http://www.apache.org/licenses/LICENSE-2.0\n",
              "//\n",
              "// Unless required by applicable law or agreed to in writing, software\n",
              "// distributed under the License is distributed on an \"AS IS\" BASIS,\n",
              "// WITHOUT WARRANTIES OR CONDITIONS OF ANY KIND, either express or implied.\n",
              "// See the License for the specific language governing permissions and\n",
              "// limitations under the License.\n",
              "\n",
              "/**\n",
              " * @fileoverview Helpers for google.colab Python module.\n",
              " */\n",
              "(function(scope) {\n",
              "function span(text, styleAttributes = {}) {\n",
              "  const element = document.createElement('span');\n",
              "  element.textContent = text;\n",
              "  for (const key of Object.keys(styleAttributes)) {\n",
              "    element.style[key] = styleAttributes[key];\n",
              "  }\n",
              "  return element;\n",
              "}\n",
              "\n",
              "// Max number of bytes which will be uploaded at a time.\n",
              "const MAX_PAYLOAD_SIZE = 100 * 1024;\n",
              "\n",
              "function _uploadFiles(inputId, outputId) {\n",
              "  const steps = uploadFilesStep(inputId, outputId);\n",
              "  const outputElement = document.getElementById(outputId);\n",
              "  // Cache steps on the outputElement to make it available for the next call\n",
              "  // to uploadFilesContinue from Python.\n",
              "  outputElement.steps = steps;\n",
              "\n",
              "  return _uploadFilesContinue(outputId);\n",
              "}\n",
              "\n",
              "// This is roughly an async generator (not supported in the browser yet),\n",
              "// where there are multiple asynchronous steps and the Python side is going\n",
              "// to poll for completion of each step.\n",
              "// This uses a Promise to block the python side on completion of each step,\n",
              "// then passes the result of the previous step as the input to the next step.\n",
              "function _uploadFilesContinue(outputId) {\n",
              "  const outputElement = document.getElementById(outputId);\n",
              "  const steps = outputElement.steps;\n",
              "\n",
              "  const next = steps.next(outputElement.lastPromiseValue);\n",
              "  return Promise.resolve(next.value.promise).then((value) => {\n",
              "    // Cache the last promise value to make it available to the next\n",
              "    // step of the generator.\n",
              "    outputElement.lastPromiseValue = value;\n",
              "    return next.value.response;\n",
              "  });\n",
              "}\n",
              "\n",
              "/**\n",
              " * Generator function which is called between each async step of the upload\n",
              " * process.\n",
              " * @param {string} inputId Element ID of the input file picker element.\n",
              " * @param {string} outputId Element ID of the output display.\n",
              " * @return {!Iterable<!Object>} Iterable of next steps.\n",
              " */\n",
              "function* uploadFilesStep(inputId, outputId) {\n",
              "  const inputElement = document.getElementById(inputId);\n",
              "  inputElement.disabled = false;\n",
              "\n",
              "  const outputElement = document.getElementById(outputId);\n",
              "  outputElement.innerHTML = '';\n",
              "\n",
              "  const pickedPromise = new Promise((resolve) => {\n",
              "    inputElement.addEventListener('change', (e) => {\n",
              "      resolve(e.target.files);\n",
              "    });\n",
              "  });\n",
              "\n",
              "  const cancel = document.createElement('button');\n",
              "  inputElement.parentElement.appendChild(cancel);\n",
              "  cancel.textContent = 'Cancel upload';\n",
              "  const cancelPromise = new Promise((resolve) => {\n",
              "    cancel.onclick = () => {\n",
              "      resolve(null);\n",
              "    };\n",
              "  });\n",
              "\n",
              "  // Wait for the user to pick the files.\n",
              "  const files = yield {\n",
              "    promise: Promise.race([pickedPromise, cancelPromise]),\n",
              "    response: {\n",
              "      action: 'starting',\n",
              "    }\n",
              "  };\n",
              "\n",
              "  cancel.remove();\n",
              "\n",
              "  // Disable the input element since further picks are not allowed.\n",
              "  inputElement.disabled = true;\n",
              "\n",
              "  if (!files) {\n",
              "    return {\n",
              "      response: {\n",
              "        action: 'complete',\n",
              "      }\n",
              "    };\n",
              "  }\n",
              "\n",
              "  for (const file of files) {\n",
              "    const li = document.createElement('li');\n",
              "    li.append(span(file.name, {fontWeight: 'bold'}));\n",
              "    li.append(span(\n",
              "        `(${file.type || 'n/a'}) - ${file.size} bytes, ` +\n",
              "        `last modified: ${\n",
              "            file.lastModifiedDate ? file.lastModifiedDate.toLocaleDateString() :\n",
              "                                    'n/a'} - `));\n",
              "    const percent = span('0% done');\n",
              "    li.appendChild(percent);\n",
              "\n",
              "    outputElement.appendChild(li);\n",
              "\n",
              "    const fileDataPromise = new Promise((resolve) => {\n",
              "      const reader = new FileReader();\n",
              "      reader.onload = (e) => {\n",
              "        resolve(e.target.result);\n",
              "      };\n",
              "      reader.readAsArrayBuffer(file);\n",
              "    });\n",
              "    // Wait for the data to be ready.\n",
              "    let fileData = yield {\n",
              "      promise: fileDataPromise,\n",
              "      response: {\n",
              "        action: 'continue',\n",
              "      }\n",
              "    };\n",
              "\n",
              "    // Use a chunked sending to avoid message size limits. See b/62115660.\n",
              "    let position = 0;\n",
              "    do {\n",
              "      const length = Math.min(fileData.byteLength - position, MAX_PAYLOAD_SIZE);\n",
              "      const chunk = new Uint8Array(fileData, position, length);\n",
              "      position += length;\n",
              "\n",
              "      const base64 = btoa(String.fromCharCode.apply(null, chunk));\n",
              "      yield {\n",
              "        response: {\n",
              "          action: 'append',\n",
              "          file: file.name,\n",
              "          data: base64,\n",
              "        },\n",
              "      };\n",
              "\n",
              "      let percentDone = fileData.byteLength === 0 ?\n",
              "          100 :\n",
              "          Math.round((position / fileData.byteLength) * 100);\n",
              "      percent.textContent = `${percentDone}% done`;\n",
              "\n",
              "    } while (position < fileData.byteLength);\n",
              "  }\n",
              "\n",
              "  // All done.\n",
              "  yield {\n",
              "    response: {\n",
              "      action: 'complete',\n",
              "    }\n",
              "  };\n",
              "}\n",
              "\n",
              "scope.google = scope.google || {};\n",
              "scope.google.colab = scope.google.colab || {};\n",
              "scope.google.colab._files = {\n",
              "  _uploadFiles,\n",
              "  _uploadFilesContinue,\n",
              "};\n",
              "})(self);\n",
              "</script> "
            ],
            "text/plain": [
              "<IPython.core.display.HTML object>"
            ]
          },
          "metadata": {},
          "output_type": "display_data"
        },
        {
          "name": "stdout",
          "output_type": "stream",
          "text": [
            "Saving diplom.json to diplom.json\n"
          ]
        }
      ],
      "source": [
        "from google.colab import files\n",
        "uploaded = files.upload() # подгрузка токена в виртуальную среду"
      ]
    },
    {
      "cell_type": "code",
      "execution_count": 5,
      "metadata": {
        "id": "hEGIofUkYtJA"
      },
      "outputs": [],
      "source": [
        "import json\n",
        "with open('diplom.json') as json_file:\n",
        "    data = json.load(json_file)\n",
        "    api_key = data['key'] # передаём в переменную api ключ"
      ]
    },
    {
      "cell_type": "code",
      "execution_count": 6,
      "metadata": {
        "colab": {
          "base_uri": "https://localhost:8080/"
        },
        "id": "3OoFwCIBWSy4",
        "outputId": "8778bd3c-d805-4475-a95d-ff3963ca9c57"
      },
      "outputs": [
        {
          "name": "stderr",
          "output_type": "stream",
          "text": [
            "/usr/local/lib/python3.10/dist-packages/nixtlats/__init__.py:5: FutureWarning: This package is deprecated, please install nixtla instead.\n",
            "  warnings.warn(\"This package is deprecated, please install nixtla instead.\", category=FutureWarning)\n",
            "/usr/local/lib/python3.10/dist-packages/nixtlats/nixtla_client.py:53: FutureWarning: `'token'` is deprecated; use `'api_key'` instead.\n",
            "  warnings.warn(\n",
            "/usr/local/lib/python3.10/dist-packages/nixtlats/nixtla_client.py:1605: FutureWarning: Class `TimeGPT` is deprecated; use `NixtlaClient` instead.\n",
            "  warnings.warn(\n"
          ]
        }
      ],
      "source": [
        "from nixtlats import TimeGPT # импортируем некоторые необходимые библиотеки\n",
        "\n",
        "timegpt = TimeGPT(token = api_key) # проводим идентификацию ключа"
      ]
    },
    {
      "cell_type": "code",
      "execution_count": null,
      "metadata": {
        "id": "U6nUI-SfM6pD"
      },
      "outputs": [],
      "source": []
    },
    {
      "cell_type": "code",
      "execution_count": 67,
      "metadata": {
        "id": "qacDsGDUK6w5"
      },
      "outputs": [],
      "source": [
        "ETTh1 = pd.read_csv('/content/ETDataset/ETT-small/ETTh1.csv')\n",
        "ETTh2 = pd.read_csv('/content/ETDataset/ETT-small/ETTh2.csv')\n",
        "ETTm1 = pd.read_csv('/content/ETDataset/ETT-small/ETTm1.csv')\n",
        "ETTm2 = pd.read_csv('/content/ETDataset/ETT-small/ETTm2.csv')\n",
        "exchange_rate = pd.read_csv('/content/exchange_rate/exchange_rate.csv')\n",
        "illness = pd.read_csv('/content/illness/national_illness.csv')\n",
        "weather = pd.read_csv('/content/weather/weather.csv')\n",
        "de_small = pd.read_csv('/content/de_small.csv')\n",
        "de_big = pd.read_csv('/content/de_big.csv')"
      ]
    },
    {
      "cell_type": "code",
      "execution_count": 21,
      "metadata": {
        "id": "r07hC5fCQc5T"
      },
      "outputs": [],
      "source": [
        "\n",
        "def trim_dataset(dataset, num_rows=1440):\n",
        "    \"\"\"\n",
        "    Отрезает последние num_rows строк от датасета.\n",
        "\n",
        "    Параметры:\n",
        "    dataset (pandas.DataFrame) - исходный датасет\n",
        "    num_rows (int) - количество строк, которые нужно отрезать (по умолчанию 1440)\n",
        "\n",
        "    Возвращает:\n",
        "    pandas.DataFrame - обрезанный датасет\n",
        "    \"\"\"\n",
        "    total_rows = len(dataset)\n",
        "    start_index = total_rows - num_rows\n",
        "\n",
        "    if start_index < 0:\n",
        "        raise ValueError(\"Количество строк в датасете меньше, чем требуемое число строк для отрезания.\")\n",
        "\n",
        "    return dataset.iloc[start_index:]"
      ]
    },
    {
      "cell_type": "code",
      "execution_count": 68,
      "metadata": {
        "id": "cu72zyAjQqgz"
      },
      "outputs": [],
      "source": [
        "# берём толкьо часть набора данных, последние 720 точек или 60 на просмотр и 720 или 60 на прогнозирование\n",
        "ETTh1 = trim_dataset(ETTh1, 1440)\n",
        "ETTh2 = trim_dataset(ETTh2, 1440)\n",
        "ETTm1 = trim_dataset(ETTm1, 1440)\n",
        "ETTm2 = trim_dataset(ETTm2, 1440)\n",
        "exchange_rate = trim_dataset(exchange_rate, 1440)\n",
        "weather = trim_dataset(weather, 1440)\n",
        "de_big = trim_dataset(de_big, 1440)\n",
        "de_small = trim_dataset(de_small, 120)\n",
        "illness = trim_dataset(illness, 120)"
      ]
    },
    {
      "cell_type": "code",
      "execution_count": 69,
      "metadata": {
        "id": "1yoSUfVcolSw"
      },
      "outputs": [],
      "source": [
        "def TimeGPT_func_prep(df, ds, y):\n",
        "  '''обработка наборов данных по правилам Nixtla'''\n",
        "  df = df.rename(columns={ds: 'ds', y: 'y'}) # по правилам Nixtla\n",
        "  df['ds'] = pd.to_datetime(df['ds'])\n",
        "  df.index.name = 'unique_id' #\n",
        "  df.reset_index(inplace=True) #\n",
        "  df['unique_id'] = 1\n",
        "  last_column = df.iloc[:, -1] # копируем последний столбец\n",
        "  df = df.iloc[:, :-1] # удаляем последний столбец из исходного DataFrame\n",
        "  df.insert(2, 'y', last_column) # вставляем скопированный столбец на вторую позицию (индекс 1)\n",
        "  return df\n"
      ]
    },
    {
      "cell_type": "code",
      "execution_count": 70,
      "metadata": {
        "id": "z43V_kC7t2QU"
      },
      "outputs": [],
      "source": [
        "df_list = [ETTh1, ETTh2, ETTm1, ETTm2,  exchange_rate, illness, weather, de_small, de_big]\n",
        "for i, df in enumerate(df_list):\n",
        "    if i == 0:\n",
        "        ETTh1 = TimeGPT_func_prep(df, 'date', 'OT')\n",
        "    elif i == 1:\n",
        "        ETTh2 = TimeGPT_func_prep(df, 'date', 'OT')\n",
        "    elif i == 2:\n",
        "        ETTm1 = TimeGPT_func_prep(df, 'date', 'OT')\n",
        "    elif i == 3:\n",
        "        ETTm2 = TimeGPT_func_prep(df, 'date', 'OT')\n",
        "    elif i == 4:\n",
        "        exchange_rate = TimeGPT_func_prep(df, 'date', 'OT')\n",
        "    elif i == 5:\n",
        "        illness = TimeGPT_func_prep(df, 'date', 'OT')\n",
        "    elif i == 6:\n",
        "        weather = TimeGPT_func_prep(df, 'date', 'OT')\n",
        "    elif i == 7:\n",
        "        de_small = TimeGPT_func_prep(df, 'date', 'OT')\n",
        "    elif i == 8:\n",
        "        de_big = TimeGPT_func_prep(df, 'date', 'OT')"
      ]
    },
    {
      "cell_type": "code",
      "execution_count": 42,
      "metadata": {
        "colab": {
          "base_uri": "https://localhost:8080/",
          "height": 423
        },
        "id": "lN85AzOFSzoO",
        "outputId": "1efd9007-2eae-4d87-fec7-df798b7e1c42"
      },
      "outputs": [
        {
          "data": {
            "application/vnd.google.colaboratory.intrinsic+json": {
              "summary": "{\n  \"name\": \"ETTh1[['ds', 'unique_id', 'y']]\",\n  \"rows\": 1440,\n  \"fields\": [\n    {\n      \"column\": \"ds\",\n      \"properties\": {\n        \"dtype\": \"date\",\n        \"min\": \"2018-04-27 20:00:00\",\n        \"max\": \"2018-06-26 19:00:00\",\n        \"num_unique_values\": 1440,\n        \"samples\": [\n          \"2018-05-04 20:00:00\",\n          \"2018-05-23 01:00:00\",\n          \"2018-05-20 16:00:00\"\n        ],\n        \"semantic_type\": \"\",\n        \"description\": \"\"\n      }\n    },\n    {\n      \"column\": \"unique_id\",\n      \"properties\": {\n        \"dtype\": \"number\",\n        \"std\": 0,\n        \"min\": 1,\n        \"max\": 1,\n        \"num_unique_values\": 1,\n        \"samples\": [\n          1\n        ],\n        \"semantic_type\": \"\",\n        \"description\": \"\"\n      }\n    },\n    {\n      \"column\": \"y\",\n      \"properties\": {\n        \"dtype\": \"number\",\n        \"std\": 2.3621197145619566,\n        \"min\": 3.025000095367432,\n        \"max\": 17.165000915527347,\n        \"num_unique_values\": 171,\n        \"samples\": [\n          7.175000190734862\n        ],\n        \"semantic_type\": \"\",\n        \"description\": \"\"\n      }\n    }\n  ]\n}",
              "type": "dataframe"
            },
            "text/html": [
              "\n",
              "  <div id=\"df-06fb9715-7275-47ad-a141-39ed32b2f434\" class=\"colab-df-container\">\n",
              "    <div>\n",
              "<style scoped>\n",
              "    .dataframe tbody tr th:only-of-type {\n",
              "        vertical-align: middle;\n",
              "    }\n",
              "\n",
              "    .dataframe tbody tr th {\n",
              "        vertical-align: top;\n",
              "    }\n",
              "\n",
              "    .dataframe thead th {\n",
              "        text-align: right;\n",
              "    }\n",
              "</style>\n",
              "<table border=\"1\" class=\"dataframe\">\n",
              "  <thead>\n",
              "    <tr style=\"text-align: right;\">\n",
              "      <th></th>\n",
              "      <th>ds</th>\n",
              "      <th>unique_id</th>\n",
              "      <th>y</th>\n",
              "    </tr>\n",
              "  </thead>\n",
              "  <tbody>\n",
              "    <tr>\n",
              "      <th>0</th>\n",
              "      <td>2018-04-27 20:00:00</td>\n",
              "      <td>1</td>\n",
              "      <td>11.678</td>\n",
              "    </tr>\n",
              "    <tr>\n",
              "      <th>1</th>\n",
              "      <td>2018-04-27 21:00:00</td>\n",
              "      <td>1</td>\n",
              "      <td>11.326</td>\n",
              "    </tr>\n",
              "    <tr>\n",
              "      <th>2</th>\n",
              "      <td>2018-04-27 22:00:00</td>\n",
              "      <td>1</td>\n",
              "      <td>11.044</td>\n",
              "    </tr>\n",
              "    <tr>\n",
              "      <th>3</th>\n",
              "      <td>2018-04-27 23:00:00</td>\n",
              "      <td>1</td>\n",
              "      <td>10.974</td>\n",
              "    </tr>\n",
              "    <tr>\n",
              "      <th>4</th>\n",
              "      <td>2018-04-28 00:00:00</td>\n",
              "      <td>1</td>\n",
              "      <td>10.833</td>\n",
              "    </tr>\n",
              "    <tr>\n",
              "      <th>...</th>\n",
              "      <td>...</td>\n",
              "      <td>...</td>\n",
              "      <td>...</td>\n",
              "    </tr>\n",
              "    <tr>\n",
              "      <th>1435</th>\n",
              "      <td>2018-06-26 15:00:00</td>\n",
              "      <td>1</td>\n",
              "      <td>10.904</td>\n",
              "    </tr>\n",
              "    <tr>\n",
              "      <th>1436</th>\n",
              "      <td>2018-06-26 16:00:00</td>\n",
              "      <td>1</td>\n",
              "      <td>11.044</td>\n",
              "    </tr>\n",
              "    <tr>\n",
              "      <th>1437</th>\n",
              "      <td>2018-06-26 17:00:00</td>\n",
              "      <td>1</td>\n",
              "      <td>10.271</td>\n",
              "    </tr>\n",
              "    <tr>\n",
              "      <th>1438</th>\n",
              "      <td>2018-06-26 18:00:00</td>\n",
              "      <td>1</td>\n",
              "      <td>9.778</td>\n",
              "    </tr>\n",
              "    <tr>\n",
              "      <th>1439</th>\n",
              "      <td>2018-06-26 19:00:00</td>\n",
              "      <td>1</td>\n",
              "      <td>9.567</td>\n",
              "    </tr>\n",
              "  </tbody>\n",
              "</table>\n",
              "<p>1440 rows × 3 columns</p>\n",
              "</div>\n",
              "    <div class=\"colab-df-buttons\">\n",
              "\n",
              "  <div class=\"colab-df-container\">\n",
              "    <button class=\"colab-df-convert\" onclick=\"convertToInteractive('df-06fb9715-7275-47ad-a141-39ed32b2f434')\"\n",
              "            title=\"Convert this dataframe to an interactive table.\"\n",
              "            style=\"display:none;\">\n",
              "\n",
              "  <svg xmlns=\"http://www.w3.org/2000/svg\" height=\"24px\" viewBox=\"0 -960 960 960\">\n",
              "    <path d=\"M120-120v-720h720v720H120Zm60-500h600v-160H180v160Zm220 220h160v-160H400v160Zm0 220h160v-160H400v160ZM180-400h160v-160H180v160Zm440 0h160v-160H620v160ZM180-180h160v-160H180v160Zm440 0h160v-160H620v160Z\"/>\n",
              "  </svg>\n",
              "    </button>\n",
              "\n",
              "  <style>\n",
              "    .colab-df-container {\n",
              "      display:flex;\n",
              "      gap: 12px;\n",
              "    }\n",
              "\n",
              "    .colab-df-convert {\n",
              "      background-color: #E8F0FE;\n",
              "      border: none;\n",
              "      border-radius: 50%;\n",
              "      cursor: pointer;\n",
              "      display: none;\n",
              "      fill: #1967D2;\n",
              "      height: 32px;\n",
              "      padding: 0 0 0 0;\n",
              "      width: 32px;\n",
              "    }\n",
              "\n",
              "    .colab-df-convert:hover {\n",
              "      background-color: #E2EBFA;\n",
              "      box-shadow: 0px 1px 2px rgba(60, 64, 67, 0.3), 0px 1px 3px 1px rgba(60, 64, 67, 0.15);\n",
              "      fill: #174EA6;\n",
              "    }\n",
              "\n",
              "    .colab-df-buttons div {\n",
              "      margin-bottom: 4px;\n",
              "    }\n",
              "\n",
              "    [theme=dark] .colab-df-convert {\n",
              "      background-color: #3B4455;\n",
              "      fill: #D2E3FC;\n",
              "    }\n",
              "\n",
              "    [theme=dark] .colab-df-convert:hover {\n",
              "      background-color: #434B5C;\n",
              "      box-shadow: 0px 1px 3px 1px rgba(0, 0, 0, 0.15);\n",
              "      filter: drop-shadow(0px 1px 2px rgba(0, 0, 0, 0.3));\n",
              "      fill: #FFFFFF;\n",
              "    }\n",
              "  </style>\n",
              "\n",
              "    <script>\n",
              "      const buttonEl =\n",
              "        document.querySelector('#df-06fb9715-7275-47ad-a141-39ed32b2f434 button.colab-df-convert');\n",
              "      buttonEl.style.display =\n",
              "        google.colab.kernel.accessAllowed ? 'block' : 'none';\n",
              "\n",
              "      async function convertToInteractive(key) {\n",
              "        const element = document.querySelector('#df-06fb9715-7275-47ad-a141-39ed32b2f434');\n",
              "        const dataTable =\n",
              "          await google.colab.kernel.invokeFunction('convertToInteractive',\n",
              "                                                    [key], {});\n",
              "        if (!dataTable) return;\n",
              "\n",
              "        const docLinkHtml = 'Like what you see? Visit the ' +\n",
              "          '<a target=\"_blank\" href=https://colab.research.google.com/notebooks/data_table.ipynb>data table notebook</a>'\n",
              "          + ' to learn more about interactive tables.';\n",
              "        element.innerHTML = '';\n",
              "        dataTable['output_type'] = 'display_data';\n",
              "        await google.colab.output.renderOutput(dataTable, element);\n",
              "        const docLink = document.createElement('div');\n",
              "        docLink.innerHTML = docLinkHtml;\n",
              "        element.appendChild(docLink);\n",
              "      }\n",
              "    </script>\n",
              "  </div>\n",
              "\n",
              "\n",
              "<div id=\"df-17834adc-c437-4421-a6c7-6918a3536bf9\">\n",
              "  <button class=\"colab-df-quickchart\" onclick=\"quickchart('df-17834adc-c437-4421-a6c7-6918a3536bf9')\"\n",
              "            title=\"Suggest charts\"\n",
              "            style=\"display:none;\">\n",
              "\n",
              "<svg xmlns=\"http://www.w3.org/2000/svg\" height=\"24px\"viewBox=\"0 0 24 24\"\n",
              "     width=\"24px\">\n",
              "    <g>\n",
              "        <path d=\"M19 3H5c-1.1 0-2 .9-2 2v14c0 1.1.9 2 2 2h14c1.1 0 2-.9 2-2V5c0-1.1-.9-2-2-2zM9 17H7v-7h2v7zm4 0h-2V7h2v10zm4 0h-2v-4h2v4z\"/>\n",
              "    </g>\n",
              "</svg>\n",
              "  </button>\n",
              "\n",
              "<style>\n",
              "  .colab-df-quickchart {\n",
              "      --bg-color: #E8F0FE;\n",
              "      --fill-color: #1967D2;\n",
              "      --hover-bg-color: #E2EBFA;\n",
              "      --hover-fill-color: #174EA6;\n",
              "      --disabled-fill-color: #AAA;\n",
              "      --disabled-bg-color: #DDD;\n",
              "  }\n",
              "\n",
              "  [theme=dark] .colab-df-quickchart {\n",
              "      --bg-color: #3B4455;\n",
              "      --fill-color: #D2E3FC;\n",
              "      --hover-bg-color: #434B5C;\n",
              "      --hover-fill-color: #FFFFFF;\n",
              "      --disabled-bg-color: #3B4455;\n",
              "      --disabled-fill-color: #666;\n",
              "  }\n",
              "\n",
              "  .colab-df-quickchart {\n",
              "    background-color: var(--bg-color);\n",
              "    border: none;\n",
              "    border-radius: 50%;\n",
              "    cursor: pointer;\n",
              "    display: none;\n",
              "    fill: var(--fill-color);\n",
              "    height: 32px;\n",
              "    padding: 0;\n",
              "    width: 32px;\n",
              "  }\n",
              "\n",
              "  .colab-df-quickchart:hover {\n",
              "    background-color: var(--hover-bg-color);\n",
              "    box-shadow: 0 1px 2px rgba(60, 64, 67, 0.3), 0 1px 3px 1px rgba(60, 64, 67, 0.15);\n",
              "    fill: var(--button-hover-fill-color);\n",
              "  }\n",
              "\n",
              "  .colab-df-quickchart-complete:disabled,\n",
              "  .colab-df-quickchart-complete:disabled:hover {\n",
              "    background-color: var(--disabled-bg-color);\n",
              "    fill: var(--disabled-fill-color);\n",
              "    box-shadow: none;\n",
              "  }\n",
              "\n",
              "  .colab-df-spinner {\n",
              "    border: 2px solid var(--fill-color);\n",
              "    border-color: transparent;\n",
              "    border-bottom-color: var(--fill-color);\n",
              "    animation:\n",
              "      spin 1s steps(1) infinite;\n",
              "  }\n",
              "\n",
              "  @keyframes spin {\n",
              "    0% {\n",
              "      border-color: transparent;\n",
              "      border-bottom-color: var(--fill-color);\n",
              "      border-left-color: var(--fill-color);\n",
              "    }\n",
              "    20% {\n",
              "      border-color: transparent;\n",
              "      border-left-color: var(--fill-color);\n",
              "      border-top-color: var(--fill-color);\n",
              "    }\n",
              "    30% {\n",
              "      border-color: transparent;\n",
              "      border-left-color: var(--fill-color);\n",
              "      border-top-color: var(--fill-color);\n",
              "      border-right-color: var(--fill-color);\n",
              "    }\n",
              "    40% {\n",
              "      border-color: transparent;\n",
              "      border-right-color: var(--fill-color);\n",
              "      border-top-color: var(--fill-color);\n",
              "    }\n",
              "    60% {\n",
              "      border-color: transparent;\n",
              "      border-right-color: var(--fill-color);\n",
              "    }\n",
              "    80% {\n",
              "      border-color: transparent;\n",
              "      border-right-color: var(--fill-color);\n",
              "      border-bottom-color: var(--fill-color);\n",
              "    }\n",
              "    90% {\n",
              "      border-color: transparent;\n",
              "      border-bottom-color: var(--fill-color);\n",
              "    }\n",
              "  }\n",
              "</style>\n",
              "\n",
              "  <script>\n",
              "    async function quickchart(key) {\n",
              "      const quickchartButtonEl =\n",
              "        document.querySelector('#' + key + ' button');\n",
              "      quickchartButtonEl.disabled = true;  // To prevent multiple clicks.\n",
              "      quickchartButtonEl.classList.add('colab-df-spinner');\n",
              "      try {\n",
              "        const charts = await google.colab.kernel.invokeFunction(\n",
              "            'suggestCharts', [key], {});\n",
              "      } catch (error) {\n",
              "        console.error('Error during call to suggestCharts:', error);\n",
              "      }\n",
              "      quickchartButtonEl.classList.remove('colab-df-spinner');\n",
              "      quickchartButtonEl.classList.add('colab-df-quickchart-complete');\n",
              "    }\n",
              "    (() => {\n",
              "      let quickchartButtonEl =\n",
              "        document.querySelector('#df-17834adc-c437-4421-a6c7-6918a3536bf9 button');\n",
              "      quickchartButtonEl.style.display =\n",
              "        google.colab.kernel.accessAllowed ? 'block' : 'none';\n",
              "    })();\n",
              "  </script>\n",
              "</div>\n",
              "    </div>\n",
              "  </div>\n"
            ],
            "text/plain": [
              "                      ds  unique_id       y\n",
              "0    2018-04-27 20:00:00          1  11.678\n",
              "1    2018-04-27 21:00:00          1  11.326\n",
              "2    2018-04-27 22:00:00          1  11.044\n",
              "3    2018-04-27 23:00:00          1  10.974\n",
              "4    2018-04-28 00:00:00          1  10.833\n",
              "...                  ...        ...     ...\n",
              "1435 2018-06-26 15:00:00          1  10.904\n",
              "1436 2018-06-26 16:00:00          1  11.044\n",
              "1437 2018-06-26 17:00:00          1  10.271\n",
              "1438 2018-06-26 18:00:00          1   9.778\n",
              "1439 2018-06-26 19:00:00          1   9.567\n",
              "\n",
              "[1440 rows x 3 columns]"
            ]
          },
          "execution_count": 42,
          "metadata": {},
          "output_type": "execute_result"
        }
      ],
      "source": [
        "ETTh1[['ds', 'unique_id', 'y']]"
      ]
    },
    {
      "cell_type": "code",
      "execution_count": 71,
      "metadata": {
        "colab": {
          "base_uri": "https://localhost:8080/"
        },
        "id": "5KAMK28hG-78",
        "outputId": "9ad6d419-2a00-4ab2-fe64-ceae5a9e6043"
      },
      "outputs": [
        {
          "name": "stdout",
          "output_type": "stream",
          "text": [
            "Размер ETTh1_train: 720\n",
            "Размер ETTh1_test: 720\n",
            "Размер ETTh2_train: 720\n",
            "Размер ETTh2_test: 720\n",
            "Размер ETTm1_train: 720\n",
            "Размер ETTm1_test: 720\n",
            "Размер ETTm2_train: 720\n",
            "Размер ETTm2_test: 720\n",
            "Размер exchange_rate_train: 720\n",
            "Размер exchange_rate_test: 720\n",
            "Размер illness_train: 60\n",
            "Размер illness_test: 60\n",
            "Размер weather_train: 720\n",
            "Размер weather_test: 720\n",
            "Размер de_small_train: 60\n",
            "Размер de_small_test: 60\n",
            "Размер de_big_train: 720\n",
            "Размер de_big_test: 720\n"
          ]
        }
      ],
      "source": [
        "def train_test_func(df):\n",
        "    train_size = int(len(df) * 0.5)\n",
        "    test_size = len(df) - train_size\n",
        "    X_train, X_test = df[0:train_size], df[train_size:len(df)]\n",
        "    return X_train, X_test\n",
        "\n",
        "# Создание словаря для хранения результатов\n",
        "split_data = {}\n",
        "\n",
        "# Применение функции к каждому датасету из списка df_list\n",
        "for df_name, df in zip(['ETTh1', 'ETTh2', 'ETTm1', 'ETTm2', 'exchange_rate', 'illness', 'weather','de_small', 'de_big'], df_list):\n",
        "    X_train, X_test = train_test_func(df)\n",
        "    split_data[f'{df_name}_train'] = X_train\n",
        "    split_data[f'{df_name}_test'] = X_test\n",
        "\n",
        "# Вывод размеров полученных выборок для каждого датасета\n",
        "for key, value in split_data.items():\n",
        "    print(f\"Размер {key}: {len(value)}\")\n"
      ]
    },
    {
      "cell_type": "code",
      "execution_count": 72,
      "metadata": {
        "id": "RlcpYo-tT7U8"
      },
      "outputs": [],
      "source": [
        "ETTh1_train, ETTh1_test = train_test_func(ETTh1[['ds','y','unique_id']])\n",
        "ETTh2_train, ETTh2_test = train_test_func(ETTh2[['ds','y','unique_id']])\n",
        "ETTm1_train, ETTm1_test = train_test_func(ETTm1[['ds','y','unique_id']])\n",
        "ETTm2_train, ETTm2_test = train_test_func(ETTm2[['ds','y','unique_id']])\n",
        "exchange_rate_train, exchange_rate_test = train_test_func(exchange_rate[['ds','y','unique_id']])\n",
        "illness_train, illness_test = train_test_func(illness[['ds','y','unique_id']])\n",
        "weather_train, weather_test = train_test_func(weather[['ds','y','unique_id']])\n",
        "de_small_train, de_small_test = train_test_func(de_small[['ds','y','unique_id']])\n",
        "de_big_train, de_big_test = train_test_func(de_big[['ds','y','unique_id']])"
      ]
    },
    {
      "cell_type": "markdown",
      "metadata": {
        "id": "ig3XZz7Q2UBr"
      },
      "source": [
        "## прогнозирование без дообучения"
      ]
    },
    {
      "cell_type": "markdown",
      "metadata": {
        "id": "-oWq_hJCZqTU"
      },
      "source": [
        "#### ETTh1"
      ]
    },
    {
      "cell_type": "markdown",
      "metadata": {
        "id": "c0DI8EugeEMQ"
      },
      "source": [
        " любыми способами, не получилось добиться от TimeGPT прогнозирвоание многомерного временного ряда или прогнозирование с использованием ковариант\n",
        " он всё время выполнял одномерный прогноз"
      ]
    },
    {
      "cell_type": "code",
      "execution_count": 52,
      "metadata": {
        "colab": {
          "base_uri": "https://localhost:8080/"
        },
        "id": "x9r48J0X9La5",
        "outputId": "c02660c1-a152-41a2-e8a7-b030544b7c0f"
      },
      "outputs": [
        {
          "name": "stderr",
          "output_type": "stream",
          "text": [
            "WARNING:nixtlats.nixtla_client:The specified horizon \"h\" exceeds the model horizon. This may lead to less accurate forecasts. Please consider using a smaller horizon.\n"
          ]
        },
        {
          "name": "stdout",
          "output_type": "stream",
          "text": [
            "CPU times: user 111 ms, sys: 4.42 ms, total: 115 ms\n",
            "Wall time: 3.02 s\n"
          ]
        }
      ],
      "source": [
        "%%time\n",
        "df = timegpt.forecast(df=ETTh1_train,h=720, model='timegpt-1-long-horizon', freq='h') # любыми способоами, у меня не получилось добиться от\n",
        "predict = df['TimeGPT'] # вытаскиваю предсказания\n",
        "predict.to_csv(\"ETTh1.csv\")"
      ]
    },
    {
      "cell_type": "code",
      "execution_count": 53,
      "metadata": {
        "id": "gOzfJC0xZZxl"
      },
      "outputs": [],
      "source": [
        "step_forecasting = [24, 96, 192, 336, 720]"
      ]
    },
    {
      "cell_type": "code",
      "execution_count": 54,
      "metadata": {
        "colab": {
          "base_uri": "https://localhost:8080/"
        },
        "id": "SPDIEIOG7y5L",
        "outputId": "4762a0d7-8c01-4cfd-c897-b5d81d505d70"
      },
      "outputs": [
        {
          "name": "stdout",
          "output_type": "stream",
          "text": [
            "         zero-shot ETTh1         \n",
            "+----------------+-------+-------+\n",
            "| Шагов прогноза |  MAE  |  MSE  |\n",
            "+----------------+-------+-------+\n",
            "|       24       | 0.269 | 0.098 |\n",
            "|       96       | 0.468 | 0.379 |\n",
            "|      192       | 0.626 | 0.659 |\n",
            "|      336       | 0.909 | 1.859 |\n",
            "|      720       | 1.291 |  3.18 |\n",
            "+----------------+-------+-------+\n"
          ]
        }
      ],
      "source": [
        "# Объявляем таблицу для красивого вывода результатов\n",
        "table = PrettyTable()\n",
        "table.field_names = [\"Шагов прогноза\", \"MAE\", \"MSE\"]\n",
        "test = ETTh1_test['y']\n",
        "# Перебираем разные шаги прогнозирования\n",
        "for step in step_forecasting:\n",
        "    # Вычисляем метрики\n",
        "    MAE_value = mean_absolute_error(test.iloc[:step], predict[:step]).round(3)\n",
        "    MSE_value = mean_squared_error(test.iloc[:step], predict[:step]).round(3)\n",
        "    # Добавляем результаты в таблицу\n",
        "    table.add_row([step, MAE_value, MSE_value])\n",
        "# Печатаем таблицу\n",
        "print('zero-shot ETTh1'.center(len(table.field_names) * 11))\n",
        "print(table)"
      ]
    },
    {
      "cell_type": "markdown",
      "metadata": {
        "id": "ed5Sli19ZvFG"
      },
      "source": [
        "#### ETTh2"
      ]
    },
    {
      "cell_type": "code",
      "execution_count": 55,
      "metadata": {
        "colab": {
          "base_uri": "https://localhost:8080/"
        },
        "id": "beyat5qdaBsC",
        "outputId": "16c13e63-9c52-4d1f-baad-5d014164f1e0"
      },
      "outputs": [
        {
          "name": "stderr",
          "output_type": "stream",
          "text": [
            "WARNING:nixtlats.nixtla_client:The specified horizon \"h\" exceeds the model horizon. This may lead to less accurate forecasts. Please consider using a smaller horizon.\n"
          ]
        },
        {
          "name": "stdout",
          "output_type": "stream",
          "text": [
            "CPU times: user 76.8 ms, sys: 7.55 ms, total: 84.3 ms\n",
            "Wall time: 2.61 s\n"
          ]
        }
      ],
      "source": [
        "%%time\n",
        "df = timegpt.forecast(df=ETTh2_train,h=720, model='timegpt-1-long-horizon',  freq='h') # предсказываю\n",
        "predict = df['TimeGPT'] # вытаскиваю предсказания\n",
        "predict.to_csv(\"ETTh2.csv\")"
      ]
    },
    {
      "cell_type": "code",
      "execution_count": 56,
      "metadata": {
        "colab": {
          "base_uri": "https://localhost:8080/"
        },
        "id": "OdUkT8ckbc0S",
        "outputId": "5738643e-5798-44cd-9770-98475eb337d6"
      },
      "outputs": [
        {
          "name": "stdout",
          "output_type": "stream",
          "text": [
            "         zero-shot ETTh2         \n",
            "+----------------+-------+--------+\n",
            "| Шагов прогноза |  MAE  |  MSE   |\n",
            "+----------------+-------+--------+\n",
            "|       24       | 1.204 | 1.864  |\n",
            "|       96       | 1.872 | 4.238  |\n",
            "|      192       | 2.239 | 8.212  |\n",
            "|      336       | 2.844 | 13.414 |\n",
            "|      720       | 4.094 | 26.748 |\n",
            "+----------------+-------+--------+\n"
          ]
        }
      ],
      "source": [
        "table = PrettyTable()\n",
        "table.field_names = [\"Шагов прогноза\", \"MAE\", \"MSE\"]\n",
        "test = ETTh2_test['y']\n",
        "# Перебираем разные шаги прогнозирования\n",
        "for step in step_forecasting:\n",
        "    # Вычисляем метрики\n",
        "    MAE_value = mean_absolute_error(test.iloc[:step], predict[:step]).round(3)\n",
        "    MSE_value = mean_squared_error(test.iloc[:step], predict[:step]).round(3)\n",
        "    # Добавляем результаты в таблицу\n",
        "    table.add_row([step, MAE_value, MSE_value])\n",
        "# Печатаем таблицу\n",
        "print('zero-shot ETTh2'.center(len(table.field_names) * 11))\n",
        "print(table)"
      ]
    },
    {
      "cell_type": "markdown",
      "metadata": {
        "id": "X3w7gsgycM92"
      },
      "source": [
        "#### ETTm1"
      ]
    },
    {
      "cell_type": "code",
      "execution_count": 57,
      "metadata": {
        "colab": {
          "base_uri": "https://localhost:8080/"
        },
        "id": "J5Cz6aGJcQU_",
        "outputId": "6f727d83-0cc1-49f0-fb91-461df655c2b7"
      },
      "outputs": [
        {
          "name": "stderr",
          "output_type": "stream",
          "text": [
            "WARNING:nixtlats.nixtla_client:The specified horizon \"h\" exceeds the model horizon. This may lead to less accurate forecasts. Please consider using a smaller horizon.\n"
          ]
        },
        {
          "name": "stdout",
          "output_type": "stream",
          "text": [
            "CPU times: user 80 ms, sys: 1.91 ms, total: 81.9 ms\n",
            "Wall time: 2.62 s\n"
          ]
        }
      ],
      "source": [
        "%%time\n",
        "df = timegpt.forecast(df=ETTm1_train,h=720, model='timegpt-1-long-horizon',freq='15min') # предсказываю\n",
        "predict = df['TimeGPT'] # вытаскиваю предсказания\n",
        "predict.to_csv(\"ETTm1.csv\")"
      ]
    },
    {
      "cell_type": "markdown",
      "metadata": {
        "id": "J9Eo9dXWhVrE"
      },
      "source": [
        "на всём наборе данных лучше"
      ]
    },
    {
      "cell_type": "code",
      "execution_count": 58,
      "metadata": {
        "colab": {
          "base_uri": "https://localhost:8080/"
        },
        "id": "NX66Y9WDdBB2",
        "outputId": "037dfb33-1fef-4547-a8ad-b5ab9150a425"
      },
      "outputs": [
        {
          "name": "stdout",
          "output_type": "stream",
          "text": [
            "         zero-shot ETTm1         \n",
            "+----------------+-------+--------+\n",
            "| Шагов прогноза |  MAE  |  MSE   |\n",
            "+----------------+-------+--------+\n",
            "|       24       | 0.468 | 0.803  |\n",
            "|       96       | 2.859 | 10.738 |\n",
            "|      192       | 2.278 | 6.947  |\n",
            "|      336       | 2.555 | 9.191  |\n",
            "|      720       | 2.148 | 6.977  |\n",
            "+----------------+-------+--------+\n"
          ]
        }
      ],
      "source": [
        "table = PrettyTable()\n",
        "table.field_names = [\"Шагов прогноза\", \"MAE\", \"MSE\"]\n",
        "test = ETTm1_test['y']\n",
        "# Перебираем разные шаги прогнозирования\n",
        "for step in step_forecasting:\n",
        "    # Вычисляем метрики\n",
        "    MAE_value = mean_absolute_error(test.iloc[:step], predict[:step]).round(3)\n",
        "    MSE_value = mean_squared_error(test.iloc[:step], predict[:step]).round(3)\n",
        "    # Добавляем результаты в таблицу\n",
        "    table.add_row([step, MAE_value, MSE_value])\n",
        "print('zero-shot ETTm1'.center(len(table.field_names) * 11))\n",
        "print(table)"
      ]
    },
    {
      "cell_type": "markdown",
      "metadata": {
        "id": "9_aCx4gUdbZy"
      },
      "source": [
        "#### ETTm2"
      ]
    },
    {
      "cell_type": "code",
      "execution_count": 59,
      "metadata": {
        "colab": {
          "base_uri": "https://localhost:8080/"
        },
        "id": "4SeAHD6idbZ6",
        "outputId": "8873fc9a-d6d5-4b90-963a-7293c4a08825"
      },
      "outputs": [
        {
          "name": "stderr",
          "output_type": "stream",
          "text": [
            "WARNING:nixtlats.nixtla_client:The specified horizon \"h\" exceeds the model horizon. This may lead to less accurate forecasts. Please consider using a smaller horizon.\n"
          ]
        },
        {
          "name": "stdout",
          "output_type": "stream",
          "text": [
            "CPU times: user 80.9 ms, sys: 4.06 ms, total: 85 ms\n",
            "Wall time: 2.64 s\n"
          ]
        }
      ],
      "source": [
        "%%time\n",
        "df = timegpt.forecast(df=ETTm2_train,h=720, model='timegpt-1-long-horizon',freq='15min') # предсказываю\n",
        "predict = df['TimeGPT'] # вытаскиваю предсказания\n",
        "predict.to_csv(\"ETTm2.csv\")"
      ]
    },
    {
      "cell_type": "markdown",
      "metadata": {
        "id": "DAO_GaGsheTj"
      },
      "source": [
        "на всём наборе данных лучше"
      ]
    },
    {
      "cell_type": "code",
      "execution_count": 60,
      "metadata": {
        "colab": {
          "base_uri": "https://localhost:8080/"
        },
        "id": "vDGmssPXdbZ6",
        "outputId": "6fe1e4b9-1fb6-4b5f-93e8-cfb052ba6cc1"
      },
      "outputs": [
        {
          "name": "stdout",
          "output_type": "stream",
          "text": [
            "         zero-shot ETTm2         \n",
            "+----------------+-------+--------+\n",
            "| Шагов прогноза |  MAE  |  MSE   |\n",
            "+----------------+-------+--------+\n",
            "|       24       | 1.691 |  3.3   |\n",
            "|       96       | 5.778 | 42.362 |\n",
            "|      192       | 5.229 | 36.451 |\n",
            "|      336       | 5.566 | 43.358 |\n",
            "|      720       | 5.633 | 44.503 |\n",
            "+----------------+-------+--------+\n"
          ]
        }
      ],
      "source": [
        "table = PrettyTable()\n",
        "table.field_names = [\"Шагов прогноза\", \"MAE\", \"MSE\"]\n",
        "test = ETTm2_test['y']\n",
        "# Перебираем разные шаги прогнозирования\n",
        "for step in step_forecasting:\n",
        "    # Вычисляем метрики\n",
        "    MAE_value = mean_absolute_error(test.iloc[:step], predict[:step]).round(3)\n",
        "    MSE_value = mean_squared_error(test.iloc[:step], predict[:step]).round(3)\n",
        "    # Добавляем результаты в таблицу\n",
        "    table.add_row([step, MAE_value, MSE_value])\n",
        "print('zero-shot ETTm2'.center(len(table.field_names) * 11))\n",
        "print(table)"
      ]
    },
    {
      "cell_type": "markdown",
      "metadata": {
        "id": "FxCkvwCWu7FN"
      },
      "source": [
        "#### exchange_rate"
      ]
    },
    {
      "cell_type": "code",
      "execution_count": 61,
      "metadata": {
        "colab": {
          "base_uri": "https://localhost:8080/"
        },
        "id": "rNhd9qFe3YLs",
        "outputId": "08eab663-7bc4-41f1-d302-a71c58ed4ae7"
      },
      "outputs": [
        {
          "name": "stderr",
          "output_type": "stream",
          "text": [
            "WARNING:nixtlats.nixtla_client:The specified horizon \"h\" exceeds the model horizon. This may lead to less accurate forecasts. Please consider using a smaller horizon.\n"
          ]
        },
        {
          "name": "stdout",
          "output_type": "stream",
          "text": [
            "CPU times: user 84.5 ms, sys: 4.87 ms, total: 89.3 ms\n",
            "Wall time: 3.82 s\n"
          ]
        }
      ],
      "source": [
        "%%time\n",
        "df = timegpt.forecast(df=exchange_rate_train, h=720, model='timegpt-1-long-horizon') # предсказываю\n",
        "predict = df['TimeGPT'] # вытаскиваю предсказания\n",
        "predict.to_csv(\"exchange_rate.csv\")"
      ]
    },
    {
      "cell_type": "code",
      "execution_count": 62,
      "metadata": {
        "colab": {
          "base_uri": "https://localhost:8080/"
        },
        "id": "qHQZuNat4RtC",
        "outputId": "202dc4b7-3c9e-4b18-e9b6-156e4fa6967d"
      },
      "outputs": [
        {
          "name": "stdout",
          "output_type": "stream",
          "text": [
            "     zero-shot exchange_rate     \n",
            "+----------------+-------+-------+\n",
            "| Шагов прогноза |  MAE  |  MSE  |\n",
            "+----------------+-------+-------+\n",
            "|       24       | 0.054 | 0.003 |\n",
            "|       96       | 0.051 | 0.003 |\n",
            "|      192       | 0.038 | 0.002 |\n",
            "|      336       | 0.028 | 0.001 |\n",
            "|      720       | 0.031 | 0.001 |\n",
            "+----------------+-------+-------+\n"
          ]
        }
      ],
      "source": [
        "table = PrettyTable()\n",
        "table.field_names = [\"Шагов прогноза\", \"MAE\", \"MSE\"]\n",
        "test = exchange_rate_train['y']\n",
        "# Перебираем разные шаги прогнозирования\n",
        "for step in step_forecasting:\n",
        "    # Вычисляем метрики\n",
        "    MAE_value = mean_absolute_error(test.iloc[:step], predict[:step]).round(3)\n",
        "    MSE_value = mean_squared_error(test.iloc[:step], predict[:step]).round(3)\n",
        "    # Добавляем результаты в таблицу\n",
        "    table.add_row([step, MAE_value, MSE_value])\n",
        "print('zero-shot exchange_rate'.center(len(table.field_names) * 11))\n",
        "print(table)"
      ]
    },
    {
      "cell_type": "markdown",
      "metadata": {
        "id": "sW0R38RY67Lu"
      },
      "source": [
        "#### weather"
      ]
    },
    {
      "cell_type": "code",
      "execution_count": 73,
      "metadata": {
        "colab": {
          "base_uri": "https://localhost:8080/"
        },
        "id": "bX6VlFYS7FB-",
        "outputId": "f0050b6c-9659-4aff-cb7a-ebf3232b8638"
      },
      "outputs": [
        {
          "name": "stderr",
          "output_type": "stream",
          "text": [
            "WARNING:nixtlats.nixtla_client:The specified horizon \"h\" exceeds the model horizon. This may lead to less accurate forecasts. Please consider using a smaller horizon.\n"
          ]
        },
        {
          "name": "stdout",
          "output_type": "stream",
          "text": [
            "CPU times: user 87.2 ms, sys: 3.74 ms, total: 90.9 ms\n",
            "Wall time: 2.69 s\n"
          ]
        }
      ],
      "source": [
        "%%time\n",
        "df = timegpt.forecast(df=weather_train, h=720, model='timegpt-1-long-horizon',freq='10min') # предсказываю\n",
        "predict = df['TimeGPT'] # вытаскиваю предсказания\n",
        "predict.to_csv(\"weather2.csv\")"
      ]
    },
    {
      "cell_type": "code",
      "execution_count": 74,
      "metadata": {
        "colab": {
          "base_uri": "https://localhost:8080/"
        },
        "id": "jFwktK2M7MSN",
        "outputId": "d861477b-a83b-4f18-9659-ce6121e9a1e6"
      },
      "outputs": [
        {
          "name": "stdout",
          "output_type": "stream",
          "text": [
            "        zero-shot weather        \n",
            "+----------------+-------+--------+\n",
            "| Шагов прогноза |  MAE  |  MSE   |\n",
            "+----------------+-------+--------+\n",
            "|       24       | 1.174 | 1.881  |\n",
            "|       96       |  1.44 | 2.583  |\n",
            "|      192       | 1.656 | 3.601  |\n",
            "|      336       | 3.735 | 32.456 |\n",
            "|      720       | 3.356 | 23.352 |\n",
            "+----------------+-------+--------+\n"
          ]
        }
      ],
      "source": [
        "table = PrettyTable()\n",
        "table.field_names = [\"Шагов прогноза\", \"MAE\", \"MSE\"]\n",
        "test = weather_test['y']\n",
        "# Перебираем разные шаги прогнозирования\n",
        "for step in step_forecasting:\n",
        "    # Вычисляем метрики\n",
        "    MAE_value = mean_absolute_error(test.iloc[:step], predict[:step]).round(3)\n",
        "    MSE_value = mean_squared_error(test.iloc[:step], predict[:step]).round(3)\n",
        "    # Добавляем результаты в таблицу\n",
        "    table.add_row([step, MAE_value, MSE_value])\n",
        "print('zero-shot weather'.center(len(table.field_names) * 11))\n",
        "print(table)"
      ]
    },
    {
      "cell_type": "code",
      "execution_count": 85,
      "metadata": {
        "colab": {
          "base_uri": "https://localhost:8080/"
        },
        "id": "avQlQsN9VezU",
        "outputId": "b02afee5-2fab-4789-bace-ec2b26285695"
      },
      "outputs": [
        {
          "name": "stderr",
          "output_type": "stream",
          "text": [
            "WARNING:nixtlats.nixtla_client:The specified horizon \"h\" exceeds the model horizon. This may lead to less accurate forecasts. Please consider using a smaller horizon.\n"
          ]
        },
        {
          "name": "stdout",
          "output_type": "stream",
          "text": [
            "CPU times: user 86.9 ms, sys: 5.41 ms, total: 92.3 ms\n",
            "Wall time: 6.37 s\n"
          ]
        }
      ],
      "source": [
        "%%time\n",
        "df = timegpt.forecast(df=de_big_train, h=720,  freq='h' ) # предсказываю\n",
        "predict = df['TimeGPT'] # вытаскиваю предсказания\n",
        "predict.to_csv(\"Predict_de_big.csv\")"
      ]
    },
    {
      "cell_type": "code",
      "execution_count": 86,
      "metadata": {
        "colab": {
          "base_uri": "https://localhost:8080/"
        },
        "id": "nh0OuqbxWEGf",
        "outputId": "8c959c12-eaca-4fd8-ec27-d5d3cdd7f809"
      },
      "outputs": [
        {
          "name": "stdout",
          "output_type": "stream",
          "text": [
            "         zero-shot de_big        \n",
            "+----------------+----------+--------------+\n",
            "| Шагов прогноза |   MAE    |     MSE      |\n",
            "+----------------+----------+--------------+\n",
            "|       24       | 762.589  |  748237.146  |\n",
            "|       96       | 2205.256 | 7692203.216  |\n",
            "|      192       | 2012.095 | 6417562.789  |\n",
            "|      336       | 2406.51  | 9221813.379  |\n",
            "|      720       | 2686.644 | 11925016.779 |\n",
            "+----------------+----------+--------------+\n"
          ]
        }
      ],
      "source": [
        "table = PrettyTable()\n",
        "table.field_names = [\"Шагов прогноза\",  \"MAE\", \"MSE\"]\n",
        "test = de_big_test['y']\n",
        "# Перебираем разные шаги прогнозирования\n",
        "for step in step_forecasting:\n",
        "    # Вычисляем метрики\n",
        "    MAE_value = mean_absolute_error(test.iloc[:step], predict[:step]).round(3)\n",
        "    MSE_value = mean_squared_error(test.iloc[:step], predict[:step]).round(3)\n",
        "    # Добавляем результаты в таблицу\n",
        "    table.add_row([step, MAE_value, MSE_value])\n",
        "print('zero-shot de_big'.center(len(table.field_names) * 11))\n",
        "print(table)"
      ]
    },
    {
      "cell_type": "code",
      "execution_count": null,
      "metadata": {
        "id": "5yqDhwfNWJKA"
      },
      "outputs": [],
      "source": [
        "%%time\n",
        "df = timegpt.forecast(df=de_big_train, h=720, model='timegpt-1-long-horizon',  freq='h' ) # предсказываю\n",
        "predict = df['TimeGPT'] # вытаскиваю предсказания\n",
        "predict.to_csv(\"predict_de_big.csv\")"
      ]
    },
    {
      "cell_type": "code",
      "execution_count": 84,
      "metadata": {
        "colab": {
          "base_uri": "https://localhost:8080/"
        },
        "id": "RKhjAzhTVrrK",
        "outputId": "ab1a1160-3bab-4dc7-b9c9-38f0b9837eba"
      },
      "outputs": [
        {
          "name": "stdout",
          "output_type": "stream",
          "text": [
            "         zero-shot de_big        \n",
            "+----------------+----------+-------------+\n",
            "| Шагов прогноза |   MAE    |     MSE     |\n",
            "+----------------+----------+-------------+\n",
            "|       24       | 1089.628 | 1830413.181 |\n",
            "|       96       | 2384.361 | 8205610.814 |\n",
            "|      192       | 1581.111 | 4664174.427 |\n",
            "|      336       | 1543.019 | 4153943.007 |\n",
            "|      720       | 1692.266 | 4549992.236 |\n",
            "+----------------+----------+-------------+\n"
          ]
        }
      ],
      "source": [
        "table = PrettyTable()\n",
        "table.field_names = [\"Шагов прогноза\",  \"MAE\", \"MSE\"]\n",
        "test = de_big_test['y']\n",
        "# Перебираем разные шаги прогнозирования\n",
        "for step in step_forecasting:\n",
        "    # Вычисляем метрики\n",
        "    MAE_value = mean_absolute_error(test.iloc[:step], predict[:step]).round(3)\n",
        "    MSE_value = mean_squared_error(test.iloc[:step], predict[:step]).round(3)\n",
        "    # Добавляем результаты в таблицу\n",
        "    table.add_row([step, MAE_value, MSE_value])\n",
        "print('zero-shot de_big'.center(len(table.field_names) * 11))\n",
        "print(table)"
      ]
    },
    {
      "cell_type": "markdown",
      "metadata": {
        "id": "pp_QuNIB9QEV"
      },
      "source": [
        "#### illnes"
      ]
    },
    {
      "cell_type": "code",
      "execution_count": 90,
      "metadata": {
        "id": "ABU0K8WO9co_"
      },
      "outputs": [],
      "source": [
        "step_forecasting_60 = [24,36,48,60]"
      ]
    },
    {
      "cell_type": "code",
      "execution_count": 96,
      "metadata": {
        "colab": {
          "base_uri": "https://localhost:8080/"
        },
        "id": "EJCImQ5E9SCh",
        "outputId": "17e4d435-b9ac-496d-ac29-33961ead5c52"
      },
      "outputs": [
        {
          "name": "stderr",
          "output_type": "stream",
          "text": [
            "WARNING:nixtlats.nixtla_client:The specified horizon \"h\" exceeds the model horizon. This may lead to less accurate forecasts. Please consider using a smaller horizon.\n"
          ]
        },
        {
          "name": "stdout",
          "output_type": "stream",
          "text": [
            "CPU times: user 59.8 ms, sys: 1.41 ms, total: 61.2 ms\n",
            "Wall time: 2.96 s\n"
          ]
        }
      ],
      "source": [
        "%%time\n",
        "df = timegpt.forecast(df=illness_train, h=60, freq='7D' ) # предсказываю\n",
        "predict = df['TimeGPT'] # вытаскиваю предсказания\n",
        "predict.to_csv(\"ill.csv\")"
      ]
    },
    {
      "cell_type": "code",
      "execution_count": 97,
      "metadata": {
        "colab": {
          "base_uri": "https://localhost:8080/"
        },
        "id": "dYOOc6Ggy2j5",
        "outputId": "93e8a5e7-bb4c-4ddd-e70f-119152da225c"
      },
      "outputs": [
        {
          "name": "stdout",
          "output_type": "stream",
          "text": [
            "        zero-shot illness        \n",
            "+----------------+------------+------------------+\n",
            "| Шагов прогноза |    MAE     |       MSE        |\n",
            "+----------------+------------+------------------+\n",
            "|       24       | 436029.115 | 265398343121.884 |\n",
            "|       36       | 348180.479 | 188914661166.487 |\n",
            "|       48       | 276043.422 | 143544794849.915 |\n",
            "|       60       | 232876.181 | 116058057894.529 |\n",
            "+----------------+------------+------------------+\n"
          ]
        }
      ],
      "source": [
        "table = PrettyTable()\n",
        "table.field_names = [\"Шагов прогноза\",  \"MAE\", \"MSE\"]\n",
        "test = illness_test['y']\n",
        "# Перебираем разные шаги прогнозирования\n",
        "for step in step_forecasting_60:\n",
        "    # Вычисляем метрики\n",
        "    MAE_value = mean_absolute_error(test.iloc[:step], predict[:step]).round(3)\n",
        "    MSE_value = mean_squared_error(test.iloc[:step], predict[:step]).round(3)\n",
        "    # Добавляем результаты в таблицу\n",
        "    table.add_row([step, MAE_value, MSE_value])\n",
        "print('zero-shot illness'.center(len(table.field_names) * 11))\n",
        "print(table)"
      ]
    },
    {
      "cell_type": "markdown",
      "metadata": {
        "id": "VmBbxJt-fuy2"
      },
      "source": [
        "наблюдаю абсолютную невозможность предсказать illness"
      ]
    },
    {
      "cell_type": "code",
      "execution_count": 98,
      "metadata": {
        "colab": {
          "base_uri": "https://localhost:8080/"
        },
        "id": "Sd0FICcCukGp",
        "outputId": "febb8eeb-fcc3-474f-e13e-fd5d8c7900c8"
      },
      "outputs": [
        {
          "name": "stderr",
          "output_type": "stream",
          "text": [
            "WARNING:nixtlats.nixtla_client:The specified horizon \"h\" exceeds the model horizon. This may lead to less accurate forecasts. Please consider using a smaller horizon.\n"
          ]
        },
        {
          "name": "stdout",
          "output_type": "stream",
          "text": [
            "CPU times: user 66.7 ms, sys: 4.89 ms, total: 71.6 ms\n",
            "Wall time: 2.7 s\n"
          ]
        }
      ],
      "source": [
        "%%time\n",
        "df = timegpt.forecast(df=de_small_train, h=60, freq='h' ) # предсказываю\n",
        "predict = df['TimeGPT'] # вытаскиваю предсказания\n",
        "predict.to_csv(\"de_small_predict.csv\")"
      ]
    },
    {
      "cell_type": "code",
      "execution_count": 99,
      "metadata": {
        "colab": {
          "base_uri": "https://localhost:8080/"
        },
        "id": "WauI30-JuqW6",
        "outputId": "534c1b75-d7a3-4854-a358-ba896d09afe9"
      },
      "outputs": [
        {
          "name": "stdout",
          "output_type": "stream",
          "text": [
            "        zero-shot de_small       \n",
            "+----------------+----------+--------------+\n",
            "| Шагов прогноза |   MAE    |     MSE      |\n",
            "+----------------+----------+--------------+\n",
            "|       24       | 2463.146 | 10263491.96  |\n",
            "|       36       | 3185.766 | 21475462.878 |\n",
            "|       48       | 5817.295 | 66344264.754 |\n",
            "|       60       | 6444.403 | 75617613.373 |\n",
            "+----------------+----------+--------------+\n"
          ]
        }
      ],
      "source": [
        "table = PrettyTable()\n",
        "table.field_names = [\"Шагов прогноза\",  \"MAE\", \"MSE\"]\n",
        "test = de_small_test['y']\n",
        "# Перебираем разные шаги прогнозирования\n",
        "for step in step_forecasting_60:\n",
        "    # Вычисляем метрики\n",
        "    MAE_value = mean_absolute_error(test.iloc[:step], predict[:step]).round(3)\n",
        "    MSE_value = mean_squared_error(test.iloc[:step], predict[:step]).round(3)\n",
        "    # Добавляем результаты в таблицу\n",
        "    table.add_row([step, MAE_value, MSE_value])\n",
        "print('zero-shot de_small'.center(len(table.field_names) * 11))\n",
        "print(table)"
      ]
    },
    {
      "cell_type": "markdown",
      "metadata": {
        "id": "tw0dPLdCBSKu"
      },
      "source": [
        "## с дообучением на 200 точках\n",
        "значительно больше 200 точек не получалось взять"
      ]
    },
    {
      "cell_type": "code",
      "execution_count": 135,
      "metadata": {
        "id": "FT8Cop3eZeFq"
      },
      "outputs": [],
      "source": [
        "ETTh1 = pd.read_csv('/content/ETDataset/ETT-small/ETTh1.csv')\n",
        "ETTh2 = pd.read_csv('/content/ETDataset/ETT-small/ETTh2.csv')\n",
        "ETTm1 = pd.read_csv('/content/ETDataset/ETT-small/ETTm1.csv')\n",
        "ETTm2 = pd.read_csv('/content/ETDataset/ETT-small/ETTm2.csv')\n",
        "exchange_rate = pd.read_csv('/content/exchange_rate/exchange_rate.csv')\n",
        "illness = pd.read_csv('/content/illness/national_illness.csv')\n",
        "weather = pd.read_csv('/content/weather/weather.csv')\n",
        "de_small = pd.read_csv('/content/de_small.csv')\n",
        "de_big = pd.read_csv('/content/de_big.csv')"
      ]
    },
    {
      "cell_type": "code",
      "execution_count": 136,
      "metadata": {
        "id": "q1nQ-JGGZeF7"
      },
      "outputs": [],
      "source": [
        "# берём толкьо часть набора данных, последние 720 точек или 60 на просмотр и 720 или 60 на прогнозирование\n",
        "ETTh1 = trim_dataset(ETTh1, 1940)\n",
        "ETTh2 = trim_dataset(ETTh2, 1940)\n",
        "ETTm1 = trim_dataset(ETTm1, 1940)\n",
        "ETTm2 = trim_dataset(ETTm2, 1940)\n",
        "exchange_rate = trim_dataset(exchange_rate, 1940)\n",
        "weather = trim_dataset(weather, 1940)\n",
        "de_big = trim_dataset(de_big, 1940)\n",
        "de_small = trim_dataset(de_small, 420)\n",
        "illness = trim_dataset(illness, 420)"
      ]
    },
    {
      "cell_type": "code",
      "execution_count": 137,
      "metadata": {
        "id": "AYIn3YrlZeF7"
      },
      "outputs": [],
      "source": [
        "df_list = [ETTh1, ETTh2, ETTm1, ETTm2,  exchange_rate, illness, weather, de_small, de_big]\n",
        "for i, df in enumerate(df_list):\n",
        "    if i == 0:\n",
        "        ETTh1 = TimeGPT_func_prep(df, 'date', 'OT')\n",
        "    elif i == 1:\n",
        "        ETTh2 = TimeGPT_func_prep(df, 'date', 'OT')\n",
        "    elif i == 2:\n",
        "        ETTm1 = TimeGPT_func_prep(df, 'date', 'OT')\n",
        "    elif i == 3:\n",
        "        ETTm2 = TimeGPT_func_prep(df, 'date', 'OT')\n",
        "    elif i == 4:\n",
        "        exchange_rate = TimeGPT_func_prep(df, 'date', 'OT')\n",
        "    elif i == 5:\n",
        "        illness = TimeGPT_func_prep(df, 'date', 'OT')\n",
        "    elif i == 6:\n",
        "        weather = TimeGPT_func_prep(df, 'date', 'OT')\n",
        "    elif i == 7:\n",
        "        de_small = TimeGPT_func_prep(df, 'date', 'OT')\n",
        "    elif i == 8:\n",
        "        de_big = TimeGPT_func_prep(df, 'date', 'OT')"
      ]
    },
    {
      "cell_type": "code",
      "execution_count": 138,
      "metadata": {
        "id": "6Aj4l5SBayRe"
      },
      "outputs": [],
      "source": [
        "def train_test_finetune_func(df):\n",
        "    train_size = int(len(df) * 0.6)\n",
        "    test_size = len(df) - train_size\n",
        "    X_train, X_test = df[0:train_size], df[train_size:len(df)]\n",
        "    return X_train, X_test"
      ]
    },
    {
      "cell_type": "code",
      "execution_count": 139,
      "metadata": {
        "id": "GvBsAeLrZeF7"
      },
      "outputs": [],
      "source": [
        "ETTh1_train, ETTh1_test = train_test_finetune_func(ETTh1[['ds','y','unique_id']])\n",
        "ETTh2_train, ETTh2_test = train_test_finetune_func(ETTh2[['ds','y','unique_id']])\n",
        "ETTm1_train, ETTm1_test = train_test_finetune_func(ETTm1[['ds','y','unique_id']])\n",
        "ETTm2_train, ETTm2_test = train_test_finetune_func(ETTm2[['ds','y','unique_id']])\n",
        "exchange_rate_train, exchange_rate_test = train_test_finetune_func(exchange_rate[['ds','y','unique_id']])\n",
        "illness_train, illness_test = train_test_finetune_func(illness[['ds','y','unique_id']])\n",
        "weather_train, weather_test = train_test_finetune_func(weather[['ds','y','unique_id']])\n",
        "de_small_train, de_small_test = train_test_finetune_func(de_small[['ds','y','unique_id']])\n",
        "de_big_train, de_big_test = train_test_finetune_func(de_big[['ds','y','unique_id']])"
      ]
    },
    {
      "cell_type": "markdown",
      "metadata": {
        "id": "PoEDaRjdLX8S"
      },
      "source": [
        "#### ETTh1 few200"
      ]
    },
    {
      "cell_type": "code",
      "execution_count": 140,
      "metadata": {
        "colab": {
          "base_uri": "https://localhost:8080/"
        },
        "id": "0LgtZTmQBWXx",
        "outputId": "b2ede982-a5cd-4705-a47e-e653ca382710"
      },
      "outputs": [
        {
          "name": "stderr",
          "output_type": "stream",
          "text": [
            "WARNING:nixtlats.nixtla_client:The specified horizon \"h\" exceeds the model horizon. This may lead to less accurate forecasts. Please consider using a smaller horizon.\n"
          ]
        },
        {
          "name": "stdout",
          "output_type": "stream",
          "text": [
            "CPU times: user 224 ms, sys: 15 ms, total: 239 ms\n",
            "Wall time: 23.8 s\n"
          ]
        }
      ],
      "source": [
        "%%time\n",
        "df = timegpt.forecast(df=ETTh1_train,h=720, finetune_steps=200, model='timegpt-1-long-horizon') # предсказываю\n",
        "predict = df['TimeGPT'] # вытаскиваю предсказания"
      ]
    },
    {
      "cell_type": "code",
      "execution_count": null,
      "metadata": {
        "id": "zWmG_0CFENGe"
      },
      "outputs": [],
      "source": [
        "predict.to_csv(\"ETTh1_few200.csv\")"
      ]
    },
    {
      "cell_type": "markdown",
      "metadata": {
        "id": "-r7rKY7WjKlI"
      },
      "source": [
        "на всём наборе в некоторых горизнотах чуть лучше"
      ]
    },
    {
      "cell_type": "code",
      "execution_count": 141,
      "metadata": {
        "colab": {
          "base_uri": "https://localhost:8080/"
        },
        "id": "qamsBwNaB88n",
        "outputId": "1fe19022-e84a-44c9-eef9-aff4681d2ec0"
      },
      "outputs": [
        {
          "name": "stdout",
          "output_type": "stream",
          "text": [
            "        few-shot 200 ETTh1       \n",
            "+----------------+-------+-------+\n",
            "| Шагов прогноза |  MAE  |  MSE  |\n",
            "+----------------+-------+-------+\n",
            "|       24       | 1.969 |  5.09 |\n",
            "|       96       | 1.118 | 2.065 |\n",
            "|      192       | 1.422 | 2.796 |\n",
            "|      336       | 1.701 | 3.961 |\n",
            "|      720       | 1.794 | 4.731 |\n",
            "+----------------+-------+-------+\n"
          ]
        }
      ],
      "source": [
        "# Объявляем таблицу для красивого вывода результатов\n",
        "table = PrettyTable()\n",
        "table.field_names = [\"Шагов прогноза\", \"MAE\", \"MSE\"]\n",
        "test = ETTh1_test['y']\n",
        "# Перебираем разные шаги прогнозирования\n",
        "for step in step_forecasting:\n",
        "    # Вычисляем метрики\n",
        "    MAE_value = mean_absolute_error(test.iloc[:step], predict[:step]).round(3)\n",
        "    MSE_value = mean_squared_error(test.iloc[:step], predict[:step]).round(3)\n",
        "    # Добавляем результаты в таблицу\n",
        "    table.add_row([step, MAE_value, MSE_value])\n",
        "# Печатаем таблицу\n",
        "print('few-shot 200 ETTh1'.center(len(table.field_names) * 11))\n",
        "print(table)"
      ]
    },
    {
      "cell_type": "markdown",
      "metadata": {
        "id": "4VfrLZY_Ldce"
      },
      "source": [
        "#### ETTh2 few 200"
      ]
    },
    {
      "cell_type": "code",
      "execution_count": 142,
      "metadata": {
        "colab": {
          "base_uri": "https://localhost:8080/"
        },
        "id": "wc0h_MEpLiwb",
        "outputId": "2b2326f9-875d-4059-e6e7-ebcf93ac138f"
      },
      "outputs": [
        {
          "name": "stderr",
          "output_type": "stream",
          "text": [
            "WARNING:nixtlats.nixtla_client:The specified horizon \"h\" exceeds the model horizon. This may lead to less accurate forecasts. Please consider using a smaller horizon.\n"
          ]
        },
        {
          "name": "stdout",
          "output_type": "stream",
          "text": [
            "CPU times: user 238 ms, sys: 20.6 ms, total: 259 ms\n",
            "Wall time: 29.3 s\n"
          ]
        }
      ],
      "source": [
        "%%time\n",
        "df = timegpt.forecast(df=ETTh2_train, h=720, finetune_steps=200, model='timegpt-1-long-horizon') # предсказываю\n",
        "predict = df['TimeGPT'] # вытаскиваю предсказания\n",
        "predict.to_csv(\"ETTh2_few200.csv\")"
      ]
    },
    {
      "cell_type": "markdown",
      "metadata": {
        "id": "eaNDjwZujb8p"
      },
      "source": [
        "2.325 первый горизонт лучше на всём наборе данных"
      ]
    },
    {
      "cell_type": "code",
      "execution_count": 143,
      "metadata": {
        "colab": {
          "base_uri": "https://localhost:8080/"
        },
        "id": "31m2UzDOLnLw",
        "outputId": "d6cf6d09-f130-459d-e81f-31d847b783d9"
      },
      "outputs": [
        {
          "name": "stdout",
          "output_type": "stream",
          "text": [
            "        few-shot 200 ETTh2       \n",
            "+----------------+-------+--------+\n",
            "| Шагов прогноза |  MAE  |  MSE   |\n",
            "+----------------+-------+--------+\n",
            "|       24       | 2.978 | 12.547 |\n",
            "|       96       | 2.325 | 7.927  |\n",
            "|      192       | 3.271 | 16.022 |\n",
            "|      336       | 4.791 | 36.218 |\n",
            "|      720       | 6.655 | 67.737 |\n",
            "+----------------+-------+--------+\n"
          ]
        }
      ],
      "source": [
        "# Объявляем таблицу для красивого вывода результатов\n",
        "table = PrettyTable()\n",
        "table.field_names = [\"Шагов прогноза\", \"MAE\", \"MSE\"]\n",
        "test = ETTh2_test['y']\n",
        "# Перебираем разные шаги прогнозирования\n",
        "for step in step_forecasting:\n",
        "    # Вычисляем метрики\n",
        "    MAE_value = mean_absolute_error(test.iloc[:step], predict[:step]).round(3)\n",
        "    MSE_value = mean_squared_error(test.iloc[:step], predict[:step]).round(3)\n",
        "    # Добавляем результаты в таблицу\n",
        "    table.add_row([step, MAE_value, MSE_value])\n",
        "# Печатаем таблицу\n",
        "print('few-shot 200 ETTh2'.center(len(table.field_names) * 11))\n",
        "print(table)"
      ]
    },
    {
      "cell_type": "markdown",
      "metadata": {
        "id": "aoZoMcWS1ZmP"
      },
      "source": [
        "### ETTm1 few 200"
      ]
    },
    {
      "cell_type": "code",
      "execution_count": 144,
      "metadata": {
        "colab": {
          "base_uri": "https://localhost:8080/"
        },
        "id": "9p4iK6JVJ3En",
        "outputId": "8a62c9df-decb-4724-dac1-041f8b96c594"
      },
      "outputs": [
        {
          "name": "stderr",
          "output_type": "stream",
          "text": [
            "WARNING:nixtlats.nixtla_client:The specified horizon \"h\" exceeds the model horizon. This may lead to less accurate forecasts. Please consider using a smaller horizon.\n"
          ]
        }
      ],
      "source": [
        "df = timegpt.forecast(df=ETTm1_train,h=720, finetune_steps=200, model='timegpt-1-long-horizon') # предсказываю\n",
        "predict = df['TimeGPT'] # вытаскиваю предсказания\n",
        "predict.to_csv(\"ETTm1_few200.csv\")"
      ]
    },
    {
      "cell_type": "markdown",
      "metadata": {
        "id": "nKaR6PALeRLX"
      },
      "source": [
        "на всём наборе лучше результаты"
      ]
    },
    {
      "cell_type": "code",
      "execution_count": null,
      "metadata": {
        "colab": {
          "base_uri": "https://localhost:8080/"
        },
        "id": "mPcC1h3cgDo-",
        "outputId": "838c6273-da8c-4cd2-8fca-733644bbfc8c"
      },
      "outputs": [
        {
          "name": "stdout",
          "output_type": "stream",
          "text": [
            "        few-shot 200 ETTm1       \n",
            "+----------------+-------+-------+\n",
            "| Шагов прогноза |  MAE  |  MSE  |\n",
            "+----------------+-------+-------+\n",
            "|       24       | 0.504 | 0.323 |\n",
            "|       96       | 0.748 | 0.697 |\n",
            "|      192       | 0.868 |  1.02 |\n",
            "|      336       | 0.963 | 1.388 |\n",
            "|      720       | 0.965 | 1.324 |\n",
            "+----------------+-------+-------+\n"
          ]
        }
      ],
      "source": [
        "# Объявляем таблицу для красивого вывода результатов\n",
        "table = PrettyTable()\n",
        "table.field_names = [\"Шагов прогноза\", \"MAE\", \"MSE\"]\n",
        "test = ETTm1_test['y']\n",
        "# Перебираем разные шаги прогнозирования\n",
        "for step in step_forecasting:\n",
        "    # Вычисляем метрики\n",
        "    MAE_value = mean_absolute_error(test.iloc[:step], predict[:step]).round(3)\n",
        "    MSE_value = mean_squared_error(test.iloc[:step], predict[:step]).round(3)\n",
        "    # Добавляем результаты в таблицу\n",
        "    table.add_row([step, MAE_value, MSE_value])\n",
        "# Печатаем таблицу\n",
        "print('few-shot 200 ETTm1'.center(len(table.field_names) * 11))\n",
        "print(table)"
      ]
    },
    {
      "cell_type": "markdown",
      "metadata": {
        "id": "l86ugOYp1f3s"
      },
      "source": [
        "### ETTm2 few 200"
      ]
    },
    {
      "cell_type": "code",
      "execution_count": 146,
      "metadata": {
        "colab": {
          "base_uri": "https://localhost:8080/"
        },
        "id": "zoNfHILrgRfK",
        "outputId": "c60de365-aa91-4ea0-c147-b7c074112a73"
      },
      "outputs": [
        {
          "name": "stderr",
          "output_type": "stream",
          "text": [
            "WARNING:nixtlats.nixtla_client:The specified horizon \"h\" exceeds the model horizon. This may lead to less accurate forecasts. Please consider using a smaller horizon.\n"
          ]
        }
      ],
      "source": [
        "df = timegpt.forecast(df=ETTm2_train, h=720, finetune_steps=200, model='timegpt-1-long-horizon') # предсказываю\n",
        "predict = df['TimeGPT'] # вытаскиваю предсказания\n",
        "predict.to_csv(\"ETTm2_few200.csv\")"
      ]
    },
    {
      "cell_type": "markdown",
      "metadata": {
        "id": "gPIhGlq7jquz"
      },
      "source": [
        "на всём наборе данных лучше 192, 336, 720"
      ]
    },
    {
      "cell_type": "code",
      "execution_count": 147,
      "metadata": {
        "colab": {
          "base_uri": "https://localhost:8080/"
        },
        "id": "739MEpN-gY3x",
        "outputId": "4683eb9b-b24c-434a-d620-3a95d4f01c0a"
      },
      "outputs": [
        {
          "name": "stdout",
          "output_type": "stream",
          "text": [
            "        few-shot 200 ETTm2       \n",
            "+----------------+-------+--------+\n",
            "| Шагов прогноза |  MAE  |  MSE   |\n",
            "+----------------+-------+--------+\n",
            "|       24       | 0.926 | 1.028  |\n",
            "|       96       | 2.794 | 17.27  |\n",
            "|      192       | 4.923 | 35.948 |\n",
            "|      336       | 4.661 | 30.311 |\n",
            "|      720       | 5.972 | 51.048 |\n",
            "+----------------+-------+--------+\n"
          ]
        }
      ],
      "source": [
        "# Объявляем таблицу для красивого вывода результатов\n",
        "table = PrettyTable()\n",
        "table.field_names = [\"Шагов прогноза\", \"MAE\", \"MSE\"]\n",
        "test = ETTm2_test['y']\n",
        "# Перебираем разные шаги прогнозирования\n",
        "for step in step_forecasting:\n",
        "    # Вычисляем метрики\n",
        "    MAE_value = mean_absolute_error(test.iloc[:step], predict[:step]).round(3)\n",
        "    MSE_value = mean_squared_error(test.iloc[:step], predict[:step]).round(3)\n",
        "    # Добавляем результаты в таблицу\n",
        "    table.add_row([step, MAE_value, MSE_value])\n",
        "# Печатаем таблицу\n",
        "print('few-shot 200 ETTm2'.center(len(table.field_names) * 11))\n",
        "print(table)"
      ]
    },
    {
      "cell_type": "markdown",
      "metadata": {
        "id": "_pjMqSy_1hlU"
      },
      "source": [
        "### exchange_rate few 200"
      ]
    },
    {
      "cell_type": "code",
      "execution_count": 148,
      "metadata": {
        "colab": {
          "base_uri": "https://localhost:8080/"
        },
        "id": "lJYUWRJWglTr",
        "outputId": "4618dce0-3d29-4c9f-e0ef-66c4d806c253"
      },
      "outputs": [
        {
          "name": "stderr",
          "output_type": "stream",
          "text": [
            "WARNING:nixtlats.nixtla_client:The specified horizon \"h\" exceeds the model horizon. This may lead to less accurate forecasts. Please consider using a smaller horizon.\n"
          ]
        }
      ],
      "source": [
        "df = timegpt.forecast(df=exchange_rate_train, h=720, finetune_steps=200, model='timegpt-1-long-horizon') # предсказываю\n",
        "predict = df['TimeGPT'] # вытаскиваю предсказания\n",
        "predict.to_csv(\"exchange_rate_few200.csv\")"
      ]
    },
    {
      "cell_type": "code",
      "execution_count": null,
      "metadata": {
        "colab": {
          "base_uri": "https://localhost:8080/"
        },
        "id": "5ETPDMaqgvCU",
        "outputId": "a5793b91-2be3-4126-8589-d4a59b4e7166"
      },
      "outputs": [
        {
          "name": "stdout",
          "output_type": "stream",
          "text": [
            "        few-shot 200 ETTm2       \n",
            "+----------------+-------+-------+\n",
            "| Шагов прогноза |  MAE  |  MSE  |\n",
            "+----------------+-------+-------+\n",
            "|       24       | 0.008 |  0.0  |\n",
            "|       96       | 0.013 |  0.0  |\n",
            "|      192       | 0.035 | 0.002 |\n",
            "|      336       | 0.045 | 0.003 |\n",
            "|      720       | 0.098 | 0.013 |\n",
            "+----------------+-------+-------+\n"
          ]
        }
      ],
      "source": [
        "# Объявляем таблицу для красивого вывода результатов\n",
        "table = PrettyTable()\n",
        "table.field_names = [\"Шагов прогноза\", \"MAE\", \"MSE\"]\n",
        "test = exchange_rate_test['y']\n",
        "# Перебираем разные шаги прогнозирования\n",
        "for step in step_forecasting:\n",
        "    # Вычисляем метрики\n",
        "    MAE_value = mean_absolute_error(test.iloc[:step], predict[:step]).round(3)\n",
        "    MSE_value = mean_squared_error(test.iloc[:step], predict[:step]).round(3)\n",
        "    # Добавляем результаты в таблицу\n",
        "    table.add_row([step, MAE_value, MSE_value])\n",
        "# Печатаем таблицу\n",
        "print('few-shot 200 exchange_rate'.center(len(table.field_names) * 11))\n",
        "print(table)"
      ]
    },
    {
      "cell_type": "markdown",
      "metadata": {
        "id": "wjKQk-gBj-h2"
      },
      "source": [
        "на всём наборе данных лучше"
      ]
    },
    {
      "cell_type": "code",
      "execution_count": 149,
      "metadata": {
        "colab": {
          "base_uri": "https://localhost:8080/"
        },
        "id": "Eu37lSB1e4gF",
        "outputId": "244b98e2-dd3c-45d2-ead0-77998eebad5b"
      },
      "outputs": [
        {
          "name": "stdout",
          "output_type": "stream",
          "text": [
            "    few-shot 200 exchange_rate   \n",
            "+----------------+-------+-------+\n",
            "| Шагов прогноза |  MAE  |  MSE  |\n",
            "+----------------+-------+-------+\n",
            "|       24       | 0.016 |  0.0  |\n",
            "|       96       | 0.062 | 0.005 |\n",
            "|      192       | 0.075 | 0.007 |\n",
            "|      336       | 0.123 | 0.019 |\n",
            "|      720       | 0.148 | 0.025 |\n",
            "+----------------+-------+-------+\n"
          ]
        }
      ],
      "source": [
        "# Объявляем таблицу для красивого вывода результатов\n",
        "table = PrettyTable()\n",
        "table.field_names = [\"Шагов прогноза\", \"MAE\", \"MSE\"]\n",
        "test = exchange_rate_test['y']\n",
        "# Перебираем разные шаги прогнозирования\n",
        "for step in step_forecasting:\n",
        "    # Вычисляем метрики\n",
        "    MAE_value = mean_absolute_error(test.iloc[:step], predict[:step]).round(3)\n",
        "    MSE_value = mean_squared_error(test.iloc[:step], predict[:step]).round(3)\n",
        "    # Добавляем результаты в таблицу\n",
        "    table.add_row([step, MAE_value, MSE_value])\n",
        "# Печатаем таблицу\n",
        "print('few-shot 200 exchange_rate'.center(len(table.field_names) * 11))\n",
        "print(table)"
      ]
    },
    {
      "cell_type": "markdown",
      "metadata": {
        "id": "aR_v7xPj1mGO"
      },
      "source": [
        "### weather few 200"
      ]
    },
    {
      "cell_type": "code",
      "execution_count": 150,
      "metadata": {
        "colab": {
          "base_uri": "https://localhost:8080/"
        },
        "id": "nyftoVr1h-yY",
        "outputId": "be66fe61-71ac-4a09-8f24-d0d02a1b1051"
      },
      "outputs": [
        {
          "name": "stderr",
          "output_type": "stream",
          "text": [
            "WARNING:nixtlats.nixtla_client:The specified horizon \"h\" exceeds the model horizon. This may lead to less accurate forecasts. Please consider using a smaller horizon.\n"
          ]
        },
        {
          "name": "stdout",
          "output_type": "stream",
          "text": [
            "CPU times: user 225 ms, sys: 22.5 ms, total: 247 ms\n",
            "Wall time: 23.8 s\n"
          ]
        }
      ],
      "source": [
        "%%time\n",
        "df = timegpt.forecast(df=weather_train, h=720, finetune_steps=200, model='timegpt-1-long-horizon',freq='10min') # предсказываю\n",
        "predict = df['TimeGPT'] # вытаскиваю предсказания\n",
        "predict.to_csv(\"weather200.csv\")"
      ]
    },
    {
      "cell_type": "code",
      "execution_count": 151,
      "metadata": {
        "colab": {
          "base_uri": "https://localhost:8080/"
        },
        "id": "FiXEk9yTfWnS",
        "outputId": "c34c53e3-53f0-48a6-8d6d-1d7711976c04"
      },
      "outputs": [
        {
          "name": "stdout",
          "output_type": "stream",
          "text": [
            "        zero-shot weather        \n",
            "+----------------+-------+--------+\n",
            "| Шагов прогноза |  MAE  |  MSE   |\n",
            "+----------------+-------+--------+\n",
            "|       24       | 4.487 | 24.472 |\n",
            "|       96       | 2.621 | 11.138 |\n",
            "|      192       | 2.456 | 9.613  |\n",
            "|      336       | 3.843 | 22.107 |\n",
            "|      720       | 5.979 | 52.801 |\n",
            "+----------------+-------+--------+\n"
          ]
        }
      ],
      "source": [
        "table = PrettyTable()\n",
        "table.field_names = [\"Шагов прогноза\", \"MAE\", \"MSE\"]\n",
        "test = weather_test['y']\n",
        "# Перебираем разные шаги прогнозирования\n",
        "for step in step_forecasting:\n",
        "    # Вычисляем метрики\n",
        "    MAE_value = mean_absolute_error(test.iloc[:step], predict[:step]).round(3)\n",
        "    MSE_value = mean_squared_error(test.iloc[:step], predict[:step]).round(3)\n",
        "    # Добавляем результаты в таблицу\n",
        "    table.add_row([step, MAE_value, MSE_value])\n",
        "print('zero-shot weather'.center(len(table.field_names) * 11))\n",
        "print(table)"
      ]
    },
    {
      "cell_type": "markdown",
      "metadata": {
        "id": "ng03zIju1oxU"
      },
      "source": [
        "### illness few 200"
      ]
    },
    {
      "cell_type": "code",
      "execution_count": 152,
      "metadata": {
        "colab": {
          "base_uri": "https://localhost:8080/"
        },
        "id": "i9b9G7FwhMME",
        "outputId": "ba2b86df-66a7-4c7e-8baa-9a75d3d00215"
      },
      "outputs": [
        {
          "name": "stderr",
          "output_type": "stream",
          "text": [
            "WARNING:nixtlats.nixtla_client:The specified horizon \"h\" exceeds the model horizon. This may lead to less accurate forecasts. Please consider using a smaller horizon.\n"
          ]
        }
      ],
      "source": [
        "df = timegpt.forecast(df=illness_train, h=60, finetune_steps=200, model='timegpt-1-long-horizon') # предсказываю\n",
        "predict = df['TimeGPT'] # вытаскиваю предсказания\n",
        "predict.to_csv(\"illness_few200.csv\")"
      ]
    },
    {
      "cell_type": "code",
      "execution_count": 153,
      "metadata": {
        "colab": {
          "base_uri": "https://localhost:8080/"
        },
        "id": "-dOtXCkifeju",
        "outputId": "a824a82f-3fa9-43ef-ae62-0a3e83812d99"
      },
      "outputs": [
        {
          "name": "stdout",
          "output_type": "stream",
          "text": [
            "       few-shot 200 illness      \n",
            "+----------------+-----------+-----------------+\n",
            "| Шагов прогноза |    MAE    |       MSE       |\n",
            "+----------------+-----------+-----------------+\n",
            "|       24       | 61135.174 |  5343712858.849 |\n",
            "|       36       | 78186.908 |  8712110535.474 |\n",
            "|       48       |  87556.46 | 11092675096.717 |\n",
            "|       60       |  79272.03 |   9543997621.9  |\n",
            "+----------------+-----------+-----------------+\n"
          ]
        }
      ],
      "source": [
        "table = PrettyTable()\n",
        "table.field_names = [\"Шагов прогноза\",  \"MAE\", \"MSE\"]\n",
        "test = illness_test['y']\n",
        "# Перебираем разные шаги прогнозирования\n",
        "for step in step_forecasting_60:\n",
        "    # Вычисляем метрики\n",
        "    MAE_value = mean_absolute_error(test.iloc[:step], predict[:step]).round(3)\n",
        "    MSE_value = mean_squared_error(test.iloc[:step], predict[:step]).round(3)\n",
        "    # Добавляем результаты в таблицу\n",
        "    table.add_row([step, MAE_value, MSE_value])\n",
        "print('few-shot 200 illness'.center(len(table.field_names) * 11))\n",
        "print(table)"
      ]
    },
    {
      "cell_type": "code",
      "execution_count": 154,
      "metadata": {
        "colab": {
          "base_uri": "https://localhost:8080/"
        },
        "collapsed": true,
        "id": "S1HP8oBsVNHn",
        "outputId": "2b4a80be-ad23-4e74-9c00-7cc7b9896d40"
      },
      "outputs": [
        {
          "name": "stderr",
          "output_type": "stream",
          "text": [
            "WARNING:nixtlats.nixtla_client:The specified horizon \"h\" exceeds the model horizon. This may lead to less accurate forecasts. Please consider using a smaller horizon.\n"
          ]
        }
      ],
      "source": [
        "df = timegpt.forecast(df=de_small_train, h=60, finetune_steps=50) # предсказываю\n",
        "predict = df['TimeGPT'] # вытаскиваю предсказания\n",
        "predict.to_csv(\"de_small_few200.csv\")"
      ]
    },
    {
      "cell_type": "markdown",
      "metadata": {
        "id": "fFbMzDhufwo3"
      },
      "source": [
        "на полном наборе прогноз даёт лучше"
      ]
    },
    {
      "cell_type": "code",
      "execution_count": null,
      "metadata": {
        "colab": {
          "base_uri": "https://localhost:8080/"
        },
        "id": "ZxWF05KpXi_0",
        "outputId": "e5d4dc1a-5ada-4984-c9c1-d86691c17612"
      },
      "outputs": [
        {
          "name": "stdout",
          "output_type": "stream",
          "text": [
            "       few-shot 200 illness      \n",
            "+----------------+----------+-------------+\n",
            "| Шагов прогноза |   MAE    |     MSE     |\n",
            "+----------------+----------+-------------+\n",
            "|       24       | 1470.311 | 8395972.454 |\n",
            "|       36       | 1554.456 | 6937014.434 |\n",
            "|       48       | 1374.993 | 5510307.978 |\n",
            "|       60       | 1771.796 | 7041326.374 |\n",
            "+----------------+----------+-------------+\n"
          ]
        }
      ],
      "source": [
        "table = PrettyTable()\n",
        "table.field_names = [\"Шагов прогноза\",  \"MAE\", \"MSE\"]\n",
        "test = de_small_test['y']\n",
        "# Перебираем разные шаги прогнозирования\n",
        "for step in step_forecasting_60:\n",
        "    # Вычисляем метрики\n",
        "    MAE_value = mean_absolute_error(test.iloc[:step], predict[:step]).round(3)\n",
        "    MSE_value = mean_squared_error(test.iloc[:step], predict[:step]).round(3)\n",
        "    # Добавляем результаты в таблицу\n",
        "    table.add_row([step, MAE_value, MSE_value])\n",
        "print('few-shot 200 illness'.center(len(table.field_names) * 11))\n",
        "print(table)"
      ]
    },
    {
      "cell_type": "code",
      "execution_count": 155,
      "metadata": {
        "colab": {
          "base_uri": "https://localhost:8080/"
        },
        "id": "XLMX3h2Ifthg",
        "outputId": "3bfb3076-760f-4858-f561-edbfabf4e31a"
      },
      "outputs": [
        {
          "name": "stdout",
          "output_type": "stream",
          "text": [
            "       few-shot 200 illness      \n",
            "+----------------+----------+--------------+\n",
            "| Шагов прогноза |   MAE    |     MSE      |\n",
            "+----------------+----------+--------------+\n",
            "|       24       | 3286.235 | 16554268.008 |\n",
            "|       36       | 2493.689 | 11449364.145 |\n",
            "|       48       | 2473.08  | 10277568.608 |\n",
            "|       60       | 2414.943 | 9550200.255  |\n",
            "+----------------+----------+--------------+\n"
          ]
        }
      ],
      "source": [
        "table = PrettyTable()\n",
        "table.field_names = [\"Шагов прогноза\",  \"MAE\", \"MSE\"]\n",
        "test = de_small_test['y']\n",
        "# Перебираем разные шаги прогнозирования\n",
        "for step in step_forecasting_60:\n",
        "    # Вычисляем метрики\n",
        "    MAE_value = mean_absolute_error(test.iloc[:step], predict[:step]).round(3)\n",
        "    MSE_value = mean_squared_error(test.iloc[:step], predict[:step]).round(3)\n",
        "    # Добавляем результаты в таблицу\n",
        "    table.add_row([step, MAE_value, MSE_value])\n",
        "print('few-shot 200 illness'.center(len(table.field_names) * 11))\n",
        "print(table)"
      ]
    },
    {
      "cell_type": "code",
      "execution_count": 156,
      "metadata": {
        "colab": {
          "base_uri": "https://localhost:8080/"
        },
        "id": "BWYFpHk5Vep6",
        "outputId": "1a6c7b5b-86ad-4e47-e5b3-4ddc3424c1d9"
      },
      "outputs": [
        {
          "name": "stderr",
          "output_type": "stream",
          "text": [
            "WARNING:nixtlats.nixtla_client:The specified horizon \"h\" exceeds the model horizon. This may lead to less accurate forecasts. Please consider using a smaller horizon.\n"
          ]
        },
        {
          "name": "stdout",
          "output_type": "stream",
          "text": [
            "CPU times: user 194 ms, sys: 21.7 ms, total: 216 ms\n",
            "Wall time: 24.5 s\n"
          ]
        }
      ],
      "source": [
        "%%time\n",
        "df = timegpt.forecast(df=de_big_train, h=720, finetune_steps=200, model='timegpt-1-long-horizon') # предсказываю\n",
        "predict = df['TimeGPT'] # вытаскиваю предсказания\n",
        "predict.to_csv(\"de_big_few200.csv\")"
      ]
    },
    {
      "cell_type": "code",
      "execution_count": 157,
      "metadata": {
        "colab": {
          "base_uri": "https://localhost:8080/"
        },
        "id": "_R8fiTDHg18a",
        "outputId": "6d72ad43-c01e-4781-db84-3ca86d3ffa91"
      },
      "outputs": [
        {
          "name": "stdout",
          "output_type": "stream",
          "text": [
            "       few-shot 200 illness      \n",
            "+----------------+----------+--------------+\n",
            "| Шагов прогноза |   MAE    |     MSE      |\n",
            "+----------------+----------+--------------+\n",
            "|       24       | 878.724  | 1273005.413  |\n",
            "|       96       | 3385.276 | 21958224.541 |\n",
            "|      192       | 2323.418 | 12447990.44  |\n",
            "|      336       | 2338.977 | 12256628.073 |\n",
            "|      720       | 2614.634 | 15199761.023 |\n",
            "+----------------+----------+--------------+\n"
          ]
        }
      ],
      "source": [
        "table = PrettyTable()\n",
        "table.field_names = [\"Шагов прогноза\",  \"MAE\", \"MSE\"]\n",
        "test = de_big_test['y']\n",
        "# Перебираем разные шаги прогнозирования\n",
        "for step in step_forecasting:\n",
        "    # Вычисляем метрики\n",
        "    MAE_value = mean_absolute_error(test.iloc[:step], predict[:step]).round(3)\n",
        "    MSE_value = mean_squared_error(test.iloc[:step], predict[:step]).round(3)\n",
        "    # Добавляем результаты в таблицу\n",
        "    table.add_row([step, MAE_value, MSE_value])\n",
        "print('few-shot 200 illness'.center(len(table.field_names) * 11))\n",
        "print(table)"
      ]
    },
    {
      "cell_type": "markdown",
      "metadata": {
        "id": "QBkx-TUYg7I5"
      },
      "source": [
        "на полном наборе чуть лучше"
      ]
    },
    {
      "cell_type": "code",
      "execution_count": null,
      "metadata": {
        "colab": {
          "base_uri": "https://localhost:8080/"
        },
        "id": "LgMfJeuLV-4U",
        "outputId": "40c295ab-eb7c-45f2-9450-cd313b923032"
      },
      "outputs": [
        {
          "name": "stdout",
          "output_type": "stream",
          "text": [
            "       few-shot 200 illness      \n",
            "+----------------+----------+--------------+\n",
            "| Шагов прогноза |   MAE    |     MSE      |\n",
            "+----------------+----------+--------------+\n",
            "|       24       | 1606.192 | 3530423.138  |\n",
            "|       96       | 1664.431 | 3651187.867  |\n",
            "|      192       | 1991.787 |  5300359.46  |\n",
            "|      336       | 2313.559 | 6812958.804  |\n",
            "|      720       | 2840.391 | 11975432.903 |\n",
            "+----------------+----------+--------------+\n"
          ]
        }
      ],
      "source": [
        "table = PrettyTable()\n",
        "table.field_names = [\"Шагов прогноза\",  \"MAE\", \"MSE\"]\n",
        "test = de_big_test['y']\n",
        "# Перебираем разные шаги прогнозирования\n",
        "for step in step_forecasting:\n",
        "    # Вычисляем метрики\n",
        "    MAE_value = mean_absolute_error(test.iloc[:step], predict[:step]).round(3)\n",
        "    MSE_value = mean_squared_error(test.iloc[:step], predict[:step]).round(3)\n",
        "    # Добавляем результаты в таблицу\n",
        "    table.add_row([step, MAE_value, MSE_value])\n",
        "print('few-shot 200 illness'.center(len(table.field_names) * 11))\n",
        "print(table)"
      ]
    },
    {
      "cell_type": "markdown",
      "metadata": {},
      "source": [
        "в некоторых случаях метрики оставлялись, более лучшие, полученные на больших входных данных\n",
        "в любом случае TimeGPT как не могла предсказать Illness, de_small, de_big так и не может"
      ]
    }
  ],
  "metadata": {
    "colab": {
      "provenance": []
    },
    "kernelspec": {
      "display_name": "Python 3",
      "name": "python3"
    },
    "language_info": {
      "name": "python"
    }
  },
  "nbformat": 4,
  "nbformat_minor": 0
}
